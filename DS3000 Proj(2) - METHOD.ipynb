{
 "cells": [
  {
   "cell_type": "markdown",
   "metadata": {},
   "source": [
    "<center> <h3> Data Acquisition </h3></center>"
   ]
  },
  {
   "cell_type": "markdown",
   "metadata": {},
   "source": [
    "The source of the data is from a government/city website that provides historic dataset(s) on NYPD Complaint [Data]. Either from a “.gov” domain or directly from The City of New York database itself, called the ‘Sexual Assault Data’ [dataset/table]. From the historical dataset, there are many columns and records with tons of value/inputs to make it a big dataset to work with. Based on these assertions, the dataset comes from a reliable source, and gives more freedom and detail to create effective calculations. The columns and records themselves are relevant to the ideas and hypothesis formed, so the nature of the data is useful and concrete in analysis, with much support in the dataset."
   ]
  },
  {
   "cell_type": "markdown",
   "metadata": {},
   "source": [
    "https://catalog.data.gov/dataset/nypd-complaint-data-historic\n",
    "\n",
    "https://data.cityofnewyork.us/Public-Safety/NYPD-Complaint-Data-Historic/qgea-i56i"
   ]
  },
  {
   "cell_type": "markdown",
   "metadata": {},
   "source": [
    "No data scraped."
   ]
  },
  {
   "cell_type": "markdown",
   "metadata": {},
   "source": [
    "Data was stored in website database, imported into python, and currently stored on a hard drive or network. Whole dataset can be easily accessed through Google or on python (Jupyter Notebook). Although it was on a database of sorts, and is now quickly read/accessed, the data could be put in other places if needed, as there are alternatives, like GitHub."
   ]
  },
  {
   "cell_type": "markdown",
   "metadata": {},
   "source": [
    "From the dataset, the key variables are: CMPLNT_NUM (complaint number), PD_DESC (police dept description of offense), LAW_CAT_CD (level of offense based on law), BORO_NM (borough number), SUSP_RACE (race/ethnicity of suspect) and SUSP_SEX (gender of suspect), and VIC_RACE (race/ethnicity of victim) and VIC_SEX (gender of victim). From these ‘variables’, more will be gathered on correlation and effects, which includes the calculations and analysis, as each are important to supporting the dataset and hypotheses."
   ]
  },
  {
   "cell_type": "markdown",
   "metadata": {},
   "source": [
    "<center> <h3> Variables </h3></center>"
   ]
  },
  {
   "cell_type": "markdown",
   "metadata": {},
   "source": [
    "The IVs (independent) and DVs (dependent) are based in the Sexual Assault Data table. Key variables can very well be the IVs in this case, as they are: CMPLNT_NUM (complaint number), PD_DESC (police dept description of offense), LAW_CAT_CD (level of offense based on law), BORO_NM (borough number), SUSP_RACE (race/ethnicity of suspect) and SUSP_SEX (gender of suspect), and VIC_RACE (race/ethnicity of victim) and VIC_SEX (gender of victim). In the case of DVs, the rest can be dependent on the independent, but any other column or input as a result of calculating with the keys can be DV. As hypothesis is on people of color or a certain race being more likely to be assaulted, and/or younger women assaulted by someone older is more likely. Race or age of an individual, likely woman, will be more of independent/key variables, with age [of men] (or locations) being dependent on IVs."
   ]
  },
  {
   "cell_type": "markdown",
   "metadata": {},
   "source": [
    "Working on predictive models, of having feature and target variables."
   ]
  },
  {
   "cell_type": "markdown",
   "metadata": {},
   "source": [
    "<center> <h3> Data Analysis </h3></center>"
   ]
  },
  {
   "cell_type": "markdown",
   "metadata": {},
   "source": [
    "On-going…"
   ]
  },
  {
   "cell_type": "code",
   "execution_count": null,
   "metadata": {},
   "outputs": [],
   "source": []
  }
 ],
 "metadata": {
  "kernelspec": {
   "display_name": "Python 3",
   "language": "python",
   "name": "python3"
  },
  "language_info": {
   "codemirror_mode": {
    "name": "ipython",
    "version": 3
   },
   "file_extension": ".py",
   "mimetype": "text/x-python",
   "name": "python",
   "nbconvert_exporter": "python",
   "pygments_lexer": "ipython3",
   "version": "3.6.5"
  }
 },
 "nbformat": 4,
 "nbformat_minor": 2
}

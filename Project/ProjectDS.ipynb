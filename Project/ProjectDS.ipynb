{
 "cells": [
  {
   "cell_type": "code",
   "execution_count": 1,
   "metadata": {},
   "outputs": [
    {
     "data": {
      "text/html": [
       "<div>\n",
       "<style scoped>\n",
       "    .dataframe tbody tr th:only-of-type {\n",
       "        vertical-align: middle;\n",
       "    }\n",
       "\n",
       "    .dataframe tbody tr th {\n",
       "        vertical-align: top;\n",
       "    }\n",
       "\n",
       "    .dataframe thead th {\n",
       "        text-align: right;\n",
       "    }\n",
       "</style>\n",
       "<table border=\"1\" class=\"dataframe\">\n",
       "  <thead>\n",
       "    <tr style=\"text-align: right;\">\n",
       "      <th></th>\n",
       "      <th>CMPLNT_NUM</th>\n",
       "      <th>CMPLNT_FR_DT</th>\n",
       "      <th>CMPLNT_FR_TM</th>\n",
       "      <th>CMPLNT_TO_DT</th>\n",
       "      <th>CMPLNT_TO_TM</th>\n",
       "      <th>ADDR_PCT_CD</th>\n",
       "      <th>RPT_DT</th>\n",
       "      <th>KY_CD</th>\n",
       "      <th>OFNS_DESC</th>\n",
       "      <th>PD_CD</th>\n",
       "      <th>...</th>\n",
       "      <th>SUSP_SEX</th>\n",
       "      <th>TRANSIT_DISTRICT</th>\n",
       "      <th>Latitude</th>\n",
       "      <th>Longitude</th>\n",
       "      <th>Lat_Lon</th>\n",
       "      <th>PATROL_BORO</th>\n",
       "      <th>STATION_NAME</th>\n",
       "      <th>VIC_AGE_GROUP</th>\n",
       "      <th>VIC_RACE</th>\n",
       "      <th>VIC_SEX</th>\n",
       "    </tr>\n",
       "  </thead>\n",
       "  <tbody>\n",
       "    <tr>\n",
       "      <th>0</th>\n",
       "      <td>571533282</td>\n",
       "      <td>12/31/18</td>\n",
       "      <td>17:05:00</td>\n",
       "      <td>12/31/18</td>\n",
       "      <td>17:15:00</td>\n",
       "      <td>10</td>\n",
       "      <td>12/31/18</td>\n",
       "      <td>233</td>\n",
       "      <td>SEX CRIMES</td>\n",
       "      <td>175</td>\n",
       "      <td>...</td>\n",
       "      <td>M</td>\n",
       "      <td>NaN</td>\n",
       "      <td>40.742699</td>\n",
       "      <td>-73.998655</td>\n",
       "      <td>(40.742699299, -73.99865538)</td>\n",
       "      <td>PATROL BORO MAN SOUTH</td>\n",
       "      <td>NaN</td>\n",
       "      <td>&lt;18</td>\n",
       "      <td>WHITE</td>\n",
       "      <td>M</td>\n",
       "    </tr>\n",
       "    <tr>\n",
       "      <th>1</th>\n",
       "      <td>820453504</td>\n",
       "      <td>12/31/18</td>\n",
       "      <td>15:35:00</td>\n",
       "      <td>12/31/18</td>\n",
       "      <td>15:40:00</td>\n",
       "      <td>40</td>\n",
       "      <td>12/31/18</td>\n",
       "      <td>233</td>\n",
       "      <td>SEX CRIMES</td>\n",
       "      <td>175</td>\n",
       "      <td>...</td>\n",
       "      <td>NaN</td>\n",
       "      <td>NaN</td>\n",
       "      <td>40.810396</td>\n",
       "      <td>-73.925311</td>\n",
       "      <td>(40.810396019, -73.925310745)</td>\n",
       "      <td>PATROL BORO BRONX</td>\n",
       "      <td>NaN</td>\n",
       "      <td>25-44</td>\n",
       "      <td>WHITE HISPANIC</td>\n",
       "      <td>F</td>\n",
       "    </tr>\n",
       "    <tr>\n",
       "      <th>2</th>\n",
       "      <td>113940766</td>\n",
       "      <td>12/31/18</td>\n",
       "      <td>4:30:00</td>\n",
       "      <td>12/31/18</td>\n",
       "      <td>4:50:00</td>\n",
       "      <td>49</td>\n",
       "      <td>12/31/18</td>\n",
       "      <td>233</td>\n",
       "      <td>SEX CRIMES</td>\n",
       "      <td>175</td>\n",
       "      <td>...</td>\n",
       "      <td>M</td>\n",
       "      <td>NaN</td>\n",
       "      <td>40.856163</td>\n",
       "      <td>-73.844397</td>\n",
       "      <td>(40.856162957, -73.844397124)</td>\n",
       "      <td>PATROL BORO BRONX</td>\n",
       "      <td>NaN</td>\n",
       "      <td>18-24</td>\n",
       "      <td>WHITE HISPANIC</td>\n",
       "      <td>F</td>\n",
       "    </tr>\n",
       "    <tr>\n",
       "      <th>3</th>\n",
       "      <td>817554319</td>\n",
       "      <td>12/30/18</td>\n",
       "      <td>3:30:00</td>\n",
       "      <td>12/30/18</td>\n",
       "      <td>3:45:00</td>\n",
       "      <td>34</td>\n",
       "      <td>12/30/18</td>\n",
       "      <td>233</td>\n",
       "      <td>SEX CRIMES</td>\n",
       "      <td>175</td>\n",
       "      <td>...</td>\n",
       "      <td>M</td>\n",
       "      <td>3.0</td>\n",
       "      <td>40.851488</td>\n",
       "      <td>-73.935458</td>\n",
       "      <td>(40.851487774, -73.935457967)</td>\n",
       "      <td>PATROL BORO MAN NORTH</td>\n",
       "      <td>207 ST.-INWOOD</td>\n",
       "      <td>25-44</td>\n",
       "      <td>UNKNOWN</td>\n",
       "      <td>M</td>\n",
       "    </tr>\n",
       "    <tr>\n",
       "      <th>4</th>\n",
       "      <td>726764710</td>\n",
       "      <td>12/30/18</td>\n",
       "      <td>18:45:00</td>\n",
       "      <td>12/30/18</td>\n",
       "      <td>19:00:00</td>\n",
       "      <td>120</td>\n",
       "      <td>12/30/18</td>\n",
       "      <td>233</td>\n",
       "      <td>SEX CRIMES</td>\n",
       "      <td>175</td>\n",
       "      <td>...</td>\n",
       "      <td>NaN</td>\n",
       "      <td>NaN</td>\n",
       "      <td>40.644726</td>\n",
       "      <td>-74.077483</td>\n",
       "      <td>(40.644726131, -74.077483159)</td>\n",
       "      <td>PATROL BORO STATEN ISLAND</td>\n",
       "      <td>NaN</td>\n",
       "      <td>25-44</td>\n",
       "      <td>ASIAN / PACIFIC ISLANDER</td>\n",
       "      <td>F</td>\n",
       "    </tr>\n",
       "  </tbody>\n",
       "</table>\n",
       "<p>5 rows × 35 columns</p>\n",
       "</div>"
      ],
      "text/plain": [
       "   CMPLNT_NUM CMPLNT_FR_DT CMPLNT_FR_TM CMPLNT_TO_DT CMPLNT_TO_TM  \\\n",
       "0   571533282     12/31/18     17:05:00     12/31/18     17:15:00   \n",
       "1   820453504     12/31/18     15:35:00     12/31/18     15:40:00   \n",
       "2   113940766     12/31/18      4:30:00     12/31/18      4:50:00   \n",
       "3   817554319     12/30/18      3:30:00     12/30/18      3:45:00   \n",
       "4   726764710     12/30/18     18:45:00     12/30/18     19:00:00   \n",
       "\n",
       "   ADDR_PCT_CD    RPT_DT  KY_CD   OFNS_DESC PD_CD   ...   SUSP_SEX  \\\n",
       "0           10  12/31/18    233  SEX CRIMES   175   ...          M   \n",
       "1           40  12/31/18    233  SEX CRIMES   175   ...        NaN   \n",
       "2           49  12/31/18    233  SEX CRIMES   175   ...          M   \n",
       "3           34  12/30/18    233  SEX CRIMES   175   ...          M   \n",
       "4          120  12/30/18    233  SEX CRIMES   175   ...        NaN   \n",
       "\n",
       "  TRANSIT_DISTRICT   Latitude  Longitude                        Lat_Lon  \\\n",
       "0              NaN  40.742699 -73.998655   (40.742699299, -73.99865538)   \n",
       "1              NaN  40.810396 -73.925311  (40.810396019, -73.925310745)   \n",
       "2              NaN  40.856163 -73.844397  (40.856162957, -73.844397124)   \n",
       "3              3.0  40.851488 -73.935458  (40.851487774, -73.935457967)   \n",
       "4              NaN  40.644726 -74.077483  (40.644726131, -74.077483159)   \n",
       "\n",
       "                 PATROL_BORO    STATION_NAME  VIC_AGE_GROUP  \\\n",
       "0      PATROL BORO MAN SOUTH             NaN            <18   \n",
       "1          PATROL BORO BRONX             NaN          25-44   \n",
       "2          PATROL BORO BRONX             NaN          18-24   \n",
       "3      PATROL BORO MAN NORTH  207 ST.-INWOOD          25-44   \n",
       "4  PATROL BORO STATEN ISLAND             NaN          25-44   \n",
       "\n",
       "                   VIC_RACE VIC_SEX  \n",
       "0                     WHITE       M  \n",
       "1            WHITE HISPANIC       F  \n",
       "2            WHITE HISPANIC       F  \n",
       "3                   UNKNOWN       M  \n",
       "4  ASIAN / PACIFIC ISLANDER       F  \n",
       "\n",
       "[5 rows x 35 columns]"
      ]
     },
     "execution_count": 1,
     "metadata": {},
     "output_type": "execute_result"
    }
   ],
   "source": [
    "import pandas as pd\n",
    "df = pd.read_csv(\"Sexual_Assault_Data.csv\")\n",
    "df.head()"
   ]
  },
  {
   "cell_type": "code",
   "execution_count": 2,
   "metadata": {},
   "outputs": [],
   "source": [
    "df = df.drop(columns = [\"CMPLNT_NUM\", \"CMPLNT_FR_DT\", \"CMPLNT_FR_TM\", \"CMPLNT_TO_DT\", \"CMPLNT_TO_TM\", \"ADDR_PCT_CD\", \"RPT_DT\", \"KY_CD\", \"OFNS_DESC\", \"PD_CD\", \"PD_DESC\", \"LAW_CAT_CD\", \"LOC_OF_OCCUR_DESC\", \"JURIS_DESC\", \"JURISDICTION_CODE\", \"PARKS_NM\", \"HADEVELOPT\", \"HOUSING_PSA\", \"X_COORD_CD\", \"Y_COORD_CD\", \"SUSP_RACE\", \"SUSP_SEX\", \"TRANSIT_DISTRICT\", \"Latitude\", \"Longitude\", \"Lat_Lon\", \"PATROL_BORO\", \"STATION_NAME\"])"
   ]
  },
  {
   "cell_type": "code",
   "execution_count": 3,
   "metadata": {},
   "outputs": [
    {
     "ename": "NameError",
     "evalue": "name 'np' is not defined",
     "output_type": "error",
     "traceback": [
      "\u001b[1;31m---------------------------------------------------------------------------\u001b[0m",
      "\u001b[1;31mNameError\u001b[0m                                 Traceback (most recent call last)",
      "\u001b[1;32m<ipython-input-3-6c32daacfb63>\u001b[0m in \u001b[0;36m<module>\u001b[1;34m()\u001b[0m\n\u001b[1;32m----> 1\u001b[1;33m \u001b[0mdf\u001b[0m \u001b[1;33m=\u001b[0m \u001b[0mdf\u001b[0m\u001b[1;33m.\u001b[0m\u001b[0mreplace\u001b[0m\u001b[1;33m(\u001b[0m\u001b[1;34m\"UNKNOWN\"\u001b[0m\u001b[1;33m,\u001b[0m \u001b[0mnp\u001b[0m\u001b[1;33m.\u001b[0m\u001b[0mnan\u001b[0m\u001b[1;33m)\u001b[0m \u001b[1;31m# data cleaning\u001b[0m\u001b[1;33m\u001b[0m\u001b[0m\n\u001b[0m\u001b[0;32m      2\u001b[0m \u001b[0mdf\u001b[0m \u001b[1;33m=\u001b[0m \u001b[0mdf\u001b[0m\u001b[1;33m.\u001b[0m\u001b[0mreplace\u001b[0m\u001b[1;33m(\u001b[0m\u001b[1;34m\"-978\"\u001b[0m\u001b[1;33m,\u001b[0m \u001b[0mnp\u001b[0m\u001b[1;33m.\u001b[0m\u001b[0mnan\u001b[0m\u001b[1;33m)\u001b[0m \u001b[1;31m# data cleaning\u001b[0m\u001b[1;33m\u001b[0m\u001b[0m\n\u001b[0;32m      3\u001b[0m \u001b[0mdf\u001b[0m \u001b[1;33m=\u001b[0m \u001b[0mdf\u001b[0m\u001b[1;33m.\u001b[0m\u001b[0mreplace\u001b[0m\u001b[1;33m(\u001b[0m\u001b[1;34m\"2018\"\u001b[0m\u001b[1;33m,\u001b[0m \u001b[0mnp\u001b[0m\u001b[1;33m.\u001b[0m\u001b[0mnan\u001b[0m\u001b[1;33m)\u001b[0m \u001b[1;31m# data cleaning\u001b[0m\u001b[1;33m\u001b[0m\u001b[0m\n",
      "\u001b[1;31mNameError\u001b[0m: name 'np' is not defined"
     ]
    }
   ],
   "source": [
    "df = df.replace(\"UNKNOWN\", np.nan) # data cleaning\n",
    "df = df.replace(\"-978\", np.nan) # data cleaning\n",
    "df = df.replace(\"2018\", np.nan) # data cleaning"
   ]
  },
  {
   "cell_type": "code",
   "execution_count": null,
   "metadata": {},
   "outputs": [],
   "source": [
    "#df = df.replace(\"<18\", 10)\n",
    "#df = df.replace(\"18-24\", 21)\n",
    "#df = df.replace(\"25-44\", 34.5)\n",
    "#df = df.replace(\"45-64\", 54)\n",
    "#df = df.replace(\"65+\", 74.5)"
   ]
  },
  {
   "cell_type": "code",
   "execution_count": null,
   "metadata": {},
   "outputs": [],
   "source": [
    "df = df.replace(\"WHITE HISPANIC\", \"HISPANIC\")\n",
    "df = df.replace(\"BLACK HISPANIC\", \"BLACK\")\n",
    "df = df.replace('AMERICAN INDIAN/ALASKAN NATIVE', 'WHITE')"
   ]
  },
  {
   "cell_type": "code",
   "execution_count": null,
   "metadata": {},
   "outputs": [],
   "source": [
    "df = df.dropna()\n",
    "df"
   ]
  },
  {
   "cell_type": "code",
   "execution_count": null,
   "metadata": {},
   "outputs": [],
   "source": [
    "descriptivesx = df.groupby(\"SUSP_AGE_GROUP\").agg([\"count\", \"mean\", \"std\", \"sem\"])\n",
    "descriptivesx"
   ]
  },
  {
   "cell_type": "code",
   "execution_count": null,
   "metadata": {},
   "outputs": [],
   "source": [
    "df1 = df"
   ]
  },
  {
   "cell_type": "code",
   "execution_count": null,
   "metadata": {},
   "outputs": [],
   "source": [
    "#descriptives = df[\"SUSP_AGE_GROUP\"].groupby(\"VIC_AGE_GROUP\").agg([\"count\", \"mean\", \"std\", \"sem\"])\n",
    "#descriptives\n",
    "descriptives = df.groupby(\"VIC_AGE_GROUP\").agg([\"count\", \"mean\", \"std\", \"sem\"])\n",
    "descriptives"
   ]
  },
  {
   "cell_type": "code",
   "execution_count": null,
   "metadata": {},
   "outputs": [],
   "source": [
    "descriptives = descriptives[\"SUSP_AGE_GROUP\"]\n",
    "descriptives"
   ]
  },
  {
   "cell_type": "code",
   "execution_count": null,
   "metadata": {},
   "outputs": [],
   "source": [
    "descriptivesx = descriptivesx[\"VIC_AGE_GROUP\"]\n",
    "descriptivesx"
   ]
  },
  {
   "cell_type": "code",
   "execution_count": null,
   "metadata": {},
   "outputs": [],
   "source": [
    "descriptives.reset_index(inplace=True)"
   ]
  },
  {
   "cell_type": "code",
   "execution_count": null,
   "metadata": {},
   "outputs": [],
   "source": [
    "descriptivesx.reset_index(inplace=True)"
   ]
  },
  {
   "cell_type": "code",
   "execution_count": null,
   "metadata": {},
   "outputs": [],
   "source": [
    "import plotly.express as plt\n",
    "graph = plt.bar(descriptives, x = \"VIC_AGE_GROUP\", y = \"mean\", error_x = \"sem\", error_y = \"sem\", template='none', width=500, \n",
    "                labels = {\"mean\": \"Average Suspect Age\", \"VIC_AGE_GROUP\": \"Average Victim Age\"})\n",
    "\n",
    "graph.update_traces(marker_color=[\"#FFF\", \"#FFF\", \"#FFF\", \"#FFF\", \"#FFF\"])\n",
    "graph.update_traces(marker= dict(line={\"width\":3,\"color\":\"#000000\"}))\n",
    "\n",
    "graph.update_xaxes(title_font={\"size\":16}, tickfont = {\"size\":14, \"color\":\"gray\"})\n",
    "graph.update_yaxes(title_font={\"size\":16}, tickfont = {\"size\":14, \"color\":\"gray\"})\n",
    "\n",
    "\n",
    "graph.show()"
   ]
  },
  {
   "cell_type": "code",
   "execution_count": null,
   "metadata": {},
   "outputs": [],
   "source": [
    "import plotly.express as plt\n",
    "graph = plt.bar(descriptivesx, x = \"SUSP_AGE_GROUP\", y = \"mean\", error_x = \"sem\", error_y = \"sem\", template='none', width=500, \n",
    "                labels = {\"mean\": \"Average Victim Age\", \"SUSP_AGE_GROUP\": \"Average Suspect Age\"})\n",
    "\n",
    "graph.update_traces(marker_color=[\"#FFF\", \"#FFF\", \"#FFF\", \"#FFF\", \"#FFF\"])\n",
    "graph.update_traces(marker= dict(line={\"width\":3,\"color\":\"#000000\"}))\n",
    "\n",
    "graph.update_xaxes(title_font={\"size\":16}, tickfont = {\"size\":14, \"color\":\"gray\"})\n",
    "graph.update_yaxes(title_font={\"size\":16}, tickfont = {\"size\":14, \"color\":\"gray\"})\n",
    "\n",
    "\n",
    "graph.show()"
   ]
  },
  {
   "cell_type": "code",
   "execution_count": null,
   "metadata": {},
   "outputs": [],
   "source": []
  },
  {
   "cell_type": "code",
   "execution_count": null,
   "metadata": {},
   "outputs": [],
   "source": [
    "from scipy import stats\n",
    "import plotly.express as plt\n",
    "\n",
    "stats.f_oneway?"
   ]
  },
  {
   "cell_type": "code",
   "execution_count": null,
   "metadata": {},
   "outputs": [],
   "source": [
    "age_group_1 = df[df[\"SUSP_AGE_GROUP\"] == 10][\"VIC_AGE_GROUP\"]\n",
    "age_group_2 = df[df[\"SUSP_AGE_GROUP\"] == 21][\"VIC_AGE_GROUP\"]\n",
    "age_group_3 = df[df[\"SUSP_AGE_GROUP\"] == 34.5][\"VIC_AGE_GROUP\"]\n",
    "age_group_4 = df[df[\"SUSP_AGE_GROUP\"] == 54][\"VIC_AGE_GROUP\"]\n",
    "age_group_5 = df[df[\"SUSP_AGE_GROUP\"] == 74.5][\"VIC_AGE_GROUP\"]"
   ]
  },
  {
   "cell_type": "code",
   "execution_count": null,
   "metadata": {},
   "outputs": [],
   "source": [
    "age_group_1x = df[df[\"VIC_AGE_GROUP\"] == 10][\"SUSP_AGE_GROUP\"]\n",
    "age_group_2x = df[df[\"VIC_AGE_GROUP\"] == 21][\"SUSP_AGE_GROUP\"]\n",
    "age_group_3x = df[df[\"VIC_AGE_GROUP\"] == 34.5][\"SUSP_AGE_GROUP\"]\n",
    "age_group_4x = df[df[\"VIC_AGE_GROUP\"] == 54][\"SUSP_AGE_GROUP\"]\n",
    "age_group_5x = df[df[\"VIC_AGE_GROUP\"] == 74.5][\"SUSP_AGE_GROUP\"]"
   ]
  },
  {
   "cell_type": "code",
   "execution_count": null,
   "metadata": {},
   "outputs": [],
   "source": [
    "results = stats.f_oneway(age_group_1, age_group_2, age_group_3, age_group_4, age_group_5)"
   ]
  },
  {
   "cell_type": "code",
   "execution_count": null,
   "metadata": {},
   "outputs": [],
   "source": [
    "results = stats.f_oneway(age_group_1x, age_group_2x, age_group_3x, age_group_4x, age_group_5x)"
   ]
  },
  {
   "cell_type": "code",
   "execution_count": null,
   "metadata": {},
   "outputs": [],
   "source": [
    "#t value\n",
    "fstatistic = results[0]\n",
    "fstatistic"
   ]
  },
  {
   "cell_type": "code",
   "execution_count": null,
   "metadata": {},
   "outputs": [],
   "source": [
    "pvalue = results[1]\n",
    "pvalue"
   ]
  },
  {
   "cell_type": "code",
   "execution_count": null,
   "metadata": {},
   "outputs": [],
   "source": [
    "format(pvalue, '.10f')"
   ]
  },
  {
   "cell_type": "code",
   "execution_count": null,
   "metadata": {},
   "outputs": [],
   "source": [
    "df1 = len(descriptives) - 1\n",
    "df1"
   ]
  },
  {
   "cell_type": "code",
   "execution_count": null,
   "metadata": {},
   "outputs": [],
   "source": [
    "df2 = (len(age_group_1) - 1) + (len(age_group_2) - 1) + (len(age_group_3) - 1) + (len(age_group_4) - 1) +(len(age_group_5) - 1)\n",
    "df2"
   ]
  },
  {
   "cell_type": "code",
   "execution_count": null,
   "metadata": {},
   "outputs": [],
   "source": [
    "levene_results = stats.levene(age_group_1, age_group_2, age_group_3, age_group_4, age_group_5)"
   ]
  },
  {
   "cell_type": "code",
   "execution_count": null,
   "metadata": {},
   "outputs": [],
   "source": [
    "format(levene_results[1], '.10f')"
   ]
  },
  {
   "cell_type": "code",
   "execution_count": null,
   "metadata": {},
   "outputs": [],
   "source": [
    "import plotly.express as px\n",
    "fig = px.histogram(df, x = \"SUSP_AGE_GROUP\")\n",
    "fig.show()"
   ]
  },
  {
   "cell_type": "code",
   "execution_count": null,
   "metadata": {},
   "outputs": [],
   "source": [
    "import math\n",
    "def describe_data(data, IV, DV): \n",
    "    descriptives = data.groupby(IV).agg([\"count\", \"mean\", \"std\", \"sem\"])\n",
    "    descriptives = descriptives[DV]\n",
    "    return descriptives"
   ]
  },
  {
   "cell_type": "code",
   "execution_count": null,
   "metadata": {},
   "outputs": [],
   "source": [
    "## attempted the extra credit questions; this function should work on a different datafram with different IV and DV, as long as the IV level is bigger than 3\n",
    "from scipy import stats\n",
    "from statsmodels.stats.multicomp import pairwise_tukeyhsd\n",
    "from statsmodels.stats.multicomp import MultiComparison\n",
    "\n",
    "def oneway_ANOVA(data, IV, DV):\n",
    "    descriptives = describe_data(data, IV, DV)\n",
    "    descriptives.reset_index(inplace=True)\n",
    "    group_num = len(descriptives) #number of rows in descriptives corresponds to number of groups we have in this dataset\n",
    "    \n",
    "    if group_num >= 3: # if the IV level is higher 3 or higher, we continue \n",
    "        result = [] # create a list to store each Series\n",
    "        for i in range(group_num):\n",
    "            group_name = descriptives.iloc[i][IV] # find the group name through descriptives\n",
    "            result.append(data[data[IV] == group_name][DV]) # append this series\n",
    "\n",
    "        print(\"-----------------------\")\n",
    "        print(\"ONE-WAY ANOVA RESULTS\")\n",
    "        print(\"-----------------------\\n\")\n",
    "        \n",
    "        # finding f-test\n",
    "        print(\"F-test\")\n",
    "        print(\"-------\\n\")\n",
    "        f, p = stats.f_oneway(*result) # splits result list into separate parameters and find and store f and p values\n",
    "        print(\"F(\", len(descriptives)-1, \",\", len(data)-group_num, \") =\", round(f, 2), \", p =\", format(p, '.4f')) #found degree of freedom and printed f and p\n",
    "        \n",
    "        print(\"\\n\\nAssumption Checks\")\n",
    "        print(\"-------------------\\n\")\n",
    "        \n",
    "        print(\"Assumption of Equality of Variances:\")\n",
    "        levene_results = stats.levene(*result)\n",
    "        print(\"\\t\", levene_results)\n",
    "        p_test(levene_results[1]) # created helper funtion, since this will be used multiple times\n",
    "        \n",
    "        print(\"\\nAssumption of Normality:\")\n",
    "        for i in range(group_num):\n",
    "            group_name = descriptives.iloc[i][IV]\n",
    "            shap = stats.shapiro(result[i])\n",
    "            print(\"\\t\", group_name, \":\", shap)\n",
    "            p_test(shap[1]) # call helper function for each group in for loop\n",
    "            print(\"\\n\")\n",
    "        \n",
    "        print(\"\\nPost-hoc Tests\")\n",
    "        print(\"----------------\\n\")\n",
    "        mc = MultiComparison(data[DV], data[IV])\n",
    "        post_res = mc.tukeyhsd()\n",
    "        print(post_res)\n",
    "\n",
    "# helper function; checks if assumption is met or violated, through p-test value\n",
    "def p_test(p_value):\n",
    "    if p_value > .05:\n",
    "        print(\"\\t\\tAssumption is met. p > .05\")\n",
    "    else:\n",
    "        print(\"\\t\\tAssumption is violated. p < .05\")"
   ]
  },
  {
   "cell_type": "code",
   "execution_count": null,
   "metadata": {},
   "outputs": [],
   "source": [
    "oneway_ANOVA(df, \"SUSP_AGE_GROUP\", \"VIC_AGE_GROUP\")"
   ]
  },
  {
   "cell_type": "code",
   "execution_count": null,
   "metadata": {},
   "outputs": [],
   "source": [
    "x, y = stats.shapiro(age_group_3x)\n",
    "format(y, '.10f')"
   ]
  },
  {
   "cell_type": "code",
   "execution_count": null,
   "metadata": {},
   "outputs": [],
   "source": [
    "oneway_ANOVA(df, \"VIC_AGE_GROUP\", \"PREM_TYP_DESC\")"
   ]
  },
  {
   "cell_type": "code",
   "execution_count": null,
   "metadata": {},
   "outputs": [],
   "source": [
    "dfy = df"
   ]
  },
  {
   "cell_type": "code",
   "execution_count": null,
   "metadata": {},
   "outputs": [],
   "source": [
    "dfy['PREM_TYP_DESC'] = le.fit_transform(dfy['PREM_TYP_DESC'])"
   ]
  },
  {
   "cell_type": "code",
   "execution_count": null,
   "metadata": {},
   "outputs": [],
   "source": [
    "dfy"
   ]
  },
  {
   "cell_type": "code",
   "execution_count": null,
   "metadata": {},
   "outputs": [],
   "source": []
  },
  {
   "cell_type": "code",
   "execution_count": null,
   "metadata": {},
   "outputs": [],
   "source": []
  },
  {
   "cell_type": "code",
   "execution_count": null,
   "metadata": {},
   "outputs": [],
   "source": [
    "mc = statsmodels.stats.multicomp.MultiComparison(df['VIC_AGE_GROUP'], df['SUSP_AGE_GROUP'])\n",
    "mc_results = mc.tukeyhsd()\n",
    "print(mc_results)"
   ]
  },
  {
   "cell_type": "code",
   "execution_count": null,
   "metadata": {},
   "outputs": [],
   "source": []
  },
  {
   "cell_type": "code",
   "execution_count": null,
   "metadata": {},
   "outputs": [],
   "source": [
    "df"
   ]
  },
  {
   "cell_type": "code",
   "execution_count": null,
   "metadata": {},
   "outputs": [],
   "source": [
    "dfx = df.drop('CRM_ATPT_CPTD_CD',axis=1)\n",
    "dfx = dfx.drop('SUSP_AGE_GROUP',axis=1)"
   ]
  },
  {
   "cell_type": "code",
   "execution_count": null,
   "metadata": {},
   "outputs": [],
   "source": [
    "dfx[\"PREM_TYP_DESC\"].value_counts()\n",
    "dfx = dfx.replace(\"RESIDENCE - APT. HOUSE\", \"RESIDENCE\")\n",
    "dfx = dfx.replace(\"RESIDENCE-HOUSE\", \"RESIDENCE\")\n",
    "\n",
    "dfx1 = dfx[dfx['PREM_TYP_DESC'] == (\"RESIDENCE\")]\n",
    "dfx2 = dfx[dfx['PREM_TYP_DESC'] == (\"STREET\")]\n",
    "dfx3 = dfx[dfx['PREM_TYP_DESC'] == (\"TRANSIT - NYC SUBWAY\")]\n",
    "dfx4 = dfx[dfx['PREM_TYP_DESC'] == (\"RESIDENCE - PUBLIC HOUSING\")]\n",
    "dfx5 = dfx[dfx['PREM_TYP_DESC'] == (\"PUBLIC SCHOOL\")]\n",
    "dfx6 = dfx[dfx['PREM_TYP_DESC'] == (\"BAR/NIGHT CLUB\")]\n",
    "\n",
    "dfx = dfx1.append(dfx2)\n",
    "dfx = dfx.append(dfx3)\n",
    "dfx = dfx.append(dfx4)\n",
    "dfx = dfx.append(dfx5)\n",
    "dfx = dfx.append(dfx6)\n",
    "\n",
    "dfx"
   ]
  },
  {
   "cell_type": "code",
   "execution_count": null,
   "metadata": {},
   "outputs": [],
   "source": [
    "from sklearn.preprocessing import LabelEncoder, OneHotEncoder\n",
    "\n",
    "\n",
    "#le = LabelEncoder()\n",
    "#encoder = OneHotEncoder(sparse = False)\n",
    "\n",
    "#df[:,3]\n",
    "\n",
    "#encoded_df = encoder.fit_transform(features)\n",
    "\n",
    "\n",
    "X_enc = pd.get_dummies(dfx, columns=['BORO_NM','PREM_TYP_DESC','VIC_RACE', 'VIC_SEX'])\n",
    "\n",
    "dfx = dfx.drop(['VIC_AGE_GROUP', 'BORO_NM','PREM_TYP_DESC','VIC_RACE', 'VIC_SEX'],axis=1)\n",
    "\n",
    "FinalData = pd.concat([dfx,X_enc], axis=1)\n",
    "\n",
    "FinalData"
   ]
  },
  {
   "cell_type": "code",
   "execution_count": null,
   "metadata": {},
   "outputs": [],
   "source": [
    "features = FinalData.drop(\"VIC_AGE_GROUP\", axis=1)\n",
    "target = FinalData[\"VIC_AGE_GROUP\"]"
   ]
  },
  {
   "cell_type": "code",
   "execution_count": null,
   "metadata": {},
   "outputs": [],
   "source": [
    "from sklearn.preprocessing import StandardScaler\n",
    "scaler = StandardScaler()\n",
    "print(scaler.fit(features))\n",
    "StandardScaler()\n",
    "scaled_features = scaler.transform(features)\n",
    "#print(scaler.mean_)\n",
    "#print(scaler.transform(features))\n"
   ]
  },
  {
   "cell_type": "code",
   "execution_count": null,
   "metadata": {},
   "outputs": [],
   "source": [
    "from sklearn.tree import DecisionTreeRegressor\n",
    "from sklearn.model_selection import train_test_split\n",
    "\n",
    "\n",
    "#split data into training and testing sets\n",
    "X_train, X_test, y_train, y_test = train_test_split(scaled_features, target, random_state=3000)\n",
    "\n",
    "#select a classifier and create the model by fitting the training data\n",
    "model = DecisionTreeRegressor().fit(X=X_train, y=y_train)\n",
    "\n",
    "#make predictions on the test set\n",
    "predicted = model.predict(X=X_test)\n",
    "\n",
    "#prediction accuracy\n",
    "accuracy = model.score(X_test, y_test)\n",
    "print(\"Prediction accuracy on the test data:\", f\"{accuracy:.2%}\")"
   ]
  },
  {
   "cell_type": "code",
   "execution_count": null,
   "metadata": {},
   "outputs": [],
   "source": [
    "from sklearn.preprocessing import StandardScaler\n",
    "scaler = StandardScaler()\n",
    "print(scaler.fit(features))\n",
    "StandardScaler()\n",
    "print(scaler.mean_)\n",
    "print(scaler.transform(features))"
   ]
  },
  {
   "cell_type": "code",
   "execution_count": null,
   "metadata": {},
   "outputs": [],
   "source": [
    "from sklearn.feature_selection import RFE\n",
    "from sklearn.tree import DecisionTreeRegressor\n",
    "\n",
    "select = RFE(DecisionTreeRegressor(random_state = 3000), n_features_to_select = )"
   ]
  },
  {
   "cell_type": "code",
   "execution_count": null,
   "metadata": {},
   "outputs": [],
   "source": [
    "#fit the RFE selector to the training data\n",
    "select.fit(X_train, y_train)\n",
    "\n",
    "#transform training and testing sets so only the selected features are retained\n",
    "X_train_selected = select.transform(X_train)\n",
    "X_test_selected = select.transform(X_test)\n",
    "\n",
    "model = LinearRegression().fit(X=X_train, y=y_train)\n",
    "\n",
    "print(\"Original results:\")\n",
    "print(\"\\tR-squared value for training set: \", r2_score(y_train, model.predict(X_train)))\n",
    "print(\"\\tR-squared value for testing set: \", r2_score(y_test, model.predict(X_test)))\n",
    "\n",
    "\n",
    "model = LinearRegression().fit(X=X_train_selected, y=y_train)\n",
    "\n",
    "print(\"With selected features:\")\n",
    "print(\"\\tR-squared value for training set: \", r2_score(y_train, model.predict(X_train_selected)))\n",
    "print(\"\\tR-squared value for testing set: \", r2_score(y_test, model.predict(X_test_selected)))"
   ]
  },
  {
   "cell_type": "code",
   "execution_count": null,
   "metadata": {},
   "outputs": [],
   "source": []
  },
  {
   "cell_type": "code",
   "execution_count": null,
   "metadata": {},
   "outputs": [],
   "source": []
  },
  {
   "cell_type": "code",
   "execution_count": null,
   "metadata": {},
   "outputs": [],
   "source": []
  },
  {
   "cell_type": "code",
   "execution_count": null,
   "metadata": {},
   "outputs": [],
   "source": []
  },
  {
   "cell_type": "code",
   "execution_count": null,
   "metadata": {},
   "outputs": [],
   "source": []
  },
  {
   "cell_type": "code",
   "execution_count": null,
   "metadata": {},
   "outputs": [],
   "source": []
  },
  {
   "cell_type": "code",
   "execution_count": null,
   "metadata": {},
   "outputs": [],
   "source": []
  },
  {
   "cell_type": "code",
   "execution_count": null,
   "metadata": {},
   "outputs": [],
   "source": []
  },
  {
   "cell_type": "code",
   "execution_count": null,
   "metadata": {},
   "outputs": [],
   "source": [
    "mmm = df[df[\"PREM_TYP_DESC\"] == \"RESIDENCE\"][\"VIC_AGE_GROUP\"]\n",
    "bbb = df[df[\"PREM_TYP_DESC\"] == \"STREET\"][\"VIC_AGE_GROUP\"]\n",
    "bbb2 = df[df[\"PREM_TYP_DESC\"] == \"TRANSIT - NYC SUBWAY\"][\"VIC_AGE_GROUP\"]\n",
    "qqq = df[df[\"PREM_TYP_DESC\"] == \"RESIDENCE - PUBLIC HOUSING\"][\"VIC_AGE_GROUP\"]\n",
    "sss = df[df[\"PREM_TYP_DESC\"] == \"PUBLIC SCHOOL\"][\"VIC_AGE_GROUP\"]\n",
    "ddd = df[df[\"PREM_TYP_DESC\"] == \"BAR/NIGHT CLUB\"][\"VIC_AGE_GROUP\"]\n",
    "\n",
    "stats.f_oneway(mmm, bbb, bbb2, qqq, sss, ddd)"
   ]
  },
  {
   "cell_type": "code",
   "execution_count": null,
   "metadata": {},
   "outputs": [],
   "source": [
    "mmm = df[df[\"VIC_AGE_GROUP\"] == 0][\"PREM_TYP_DESC\"]\n",
    "bbb = df[df[\"VIC_AGE_GROUP\"] == 1][\"PREM_TYP_DESC\"]"
   ]
  },
  {
   "cell_type": "code",
   "execution_count": null,
   "metadata": {},
   "outputs": [],
   "source": [
    "import pandas\n",
    "import seaborn as sns\n",
    "\n",
    "import statsmodels.api as sm\n",
    "from statsmodels.formula.api import ols\n",
    "import statsmodels.stats.multicomp\n",
    "\n",
    "model = ols('VIC_RACE ~ C(PREM_TYP_DESC)*C(SUSP_AGE_GROUP)', df).fit()\n",
    "\n",
    "# Seeing if the overall model is significant\n",
    "print(f\"Overall model F({model.df_model: .0f},{model.df_resid: .0f}) = {model.fvalue: .3f}, p = {model.f_pvalue: .4f}\")"
   ]
  },
  {
   "cell_type": "code",
   "execution_count": null,
   "metadata": {},
   "outputs": [],
   "source": [
    "mc = statsmodels.stats.multicomp.MultiComparison(df['SUSP_AGE_GROUP'], df['VIC_AGE_GROUP'])\n",
    "mc_results = mc.tukeyhsd()\n",
    "print(mc_results)"
   ]
  },
  {
   "cell_type": "code",
   "execution_count": null,
   "metadata": {},
   "outputs": [],
   "source": [
    "mc = statsmodels.stats.multicomp.MultiComparison(df['VIC_RACE'], df['BORO_NM'])\n",
    "mc_results = mc.tukeyhsd()\n",
    "print(mc_results)"
   ]
  },
  {
   "cell_type": "code",
   "execution_count": null,
   "metadata": {},
   "outputs": [],
   "source": [
    "model.summary()"
   ]
  },
  {
   "cell_type": "code",
   "execution_count": null,
   "metadata": {},
   "outputs": [],
   "source": [
    "res = sm.stats.anova_lm(model, typ= 2)\n",
    "res"
   ]
  },
  {
   "cell_type": "code",
   "execution_count": null,
   "metadata": {},
   "outputs": [],
   "source": [
    "#df[\"VIC_AGE_GROUP\"] = df[\"VIC_AGE_GROUP\"].replace(\"<18\", 1)\n",
    "#df[\"VIC_AGE_GROUP\"] = df[\"VIC_AGE_GROUP\"].replace(\"18-24\", 0)\n",
    "#df[\"VIC_AGE_GROUP\"] = df[\"VIC_AGE_GROUP\"].replace(\"25-44\", 0)\n",
    "#df[\"VIC_AGE_GROUP\"] = df[\"VIC_AGE_GROUP\"].replace(\"45-64\", 0)\n",
    "#df[\"VIC_AGE_GROUP\"] = df[\"VIC_AGE_GROUP\"].replace(\"65+\", 0)\n",
    "\n",
    "#df = df.replace(\"18-24\", 0)\n",
    "#df = df.replace(\"25-44\", 0)\n",
    "#df = df.replace(\"45-64\", 0)\n",
    "#df = df.replace(\"65+\", 0)"
   ]
  },
  {
   "cell_type": "code",
   "execution_count": null,
   "metadata": {},
   "outputs": [],
   "source": [
    "format(res[\"PR(>F)\"][\"C(PREM_TYP_DESC):C(VIC_RACE)\"], '.10f')"
   ]
  },
  {
   "cell_type": "code",
   "execution_count": null,
   "metadata": {},
   "outputs": [],
   "source": [
    "df.groupby(['SUSP_AGE_GROUP', 'PREM_TYP_DESC'])['VIC_AGE_GROUP'].agg(['mean', 'std']).round(2)"
   ]
  },
  {
   "cell_type": "code",
   "execution_count": null,
   "metadata": {},
   "outputs": [],
   "source": [
    "import pingouin as pg\n",
    "# Compute the two-way mixed-design ANOVA\n",
    "aov = pg.mixed_anova(dv='VIC_AGE_GROUP', within='SUSP_AGE_GROUP', between='PREM_TYP_DESC', data=df)\n",
    "# Pretty printing of ANOVA summary\n",
    "pg.print_table(aov)"
   ]
  },
  {
   "cell_type": "code",
   "execution_count": null,
   "metadata": {},
   "outputs": [],
   "source": []
  },
  {
   "cell_type": "code",
   "execution_count": null,
   "metadata": {},
   "outputs": [],
   "source": []
  },
  {
   "cell_type": "code",
   "execution_count": null,
   "metadata": {},
   "outputs": [],
   "source": []
  },
  {
   "cell_type": "code",
   "execution_count": null,
   "metadata": {},
   "outputs": [],
   "source": []
  },
  {
   "cell_type": "code",
   "execution_count": null,
   "metadata": {},
   "outputs": [],
   "source": [
    "results = stats.f_oneway(mmm, bbb)"
   ]
  },
  {
   "cell_type": "code",
   "execution_count": null,
   "metadata": {},
   "outputs": [],
   "source": [
    "format(results[1], '.10f')\n",
    "#results[1]"
   ]
  },
  {
   "cell_type": "code",
   "execution_count": null,
   "metadata": {},
   "outputs": [],
   "source": [
    "levene_results = stats.levene(mmm, bbb)\n",
    "levene_results"
   ]
  },
  {
   "cell_type": "code",
   "execution_count": null,
   "metadata": {},
   "outputs": [],
   "source": [
    "format(levene_results[1], '.10f')"
   ]
  },
  {
   "cell_type": "code",
   "execution_count": null,
   "metadata": {},
   "outputs": [],
   "source": [
    "stats.shapiro(mmm)"
   ]
  },
  {
   "cell_type": "code",
   "execution_count": null,
   "metadata": {},
   "outputs": [],
   "source": [
    "from sklearn import preprocessing\n",
    "\n",
    "features = preprocessing.normalize(features)"
   ]
  },
  {
   "cell_type": "code",
   "execution_count": null,
   "metadata": {},
   "outputs": [],
   "source": [
    "scaled_df"
   ]
  },
  {
   "cell_type": "code",
   "execution_count": null,
   "metadata": {},
   "outputs": [],
   "source": []
  },
  {
   "cell_type": "code",
   "execution_count": null,
   "metadata": {},
   "outputs": [],
   "source": []
  },
  {
   "cell_type": "code",
   "execution_count": null,
   "metadata": {},
   "outputs": [],
   "source": []
  },
  {
   "cell_type": "code",
   "execution_count": null,
   "metadata": {},
   "outputs": [],
   "source": []
  },
  {
   "cell_type": "code",
   "execution_count": null,
   "metadata": {},
   "outputs": [],
   "source": [
    "features = df.drop(\"VIC_SEX\", axis=1)\n",
    "target = df[\"VIC_SEX\"]"
   ]
  },
  {
   "cell_type": "code",
   "execution_count": null,
   "metadata": {},
   "outputs": [],
   "source": [
    "features = df.drop(\"VIC_AGE_GROUP\", axis=1)\n",
    "target = df[\"VIC_AGE_GROUP\"]"
   ]
  },
  {
   "cell_type": "code",
   "execution_count": null,
   "metadata": {},
   "outputs": [],
   "source": [
    "df['PREM_TYP_DESC'] = le.fit_transform(df['PREM_TYP_DESC'])\n",
    "df['CRM_ATPT_CPTD_CD'] = le.fit_transform(df['CRM_ATPT_CPTD_CD'])\n",
    "df['BORO_NM'] = le.fit_transform(df['BORO_NM'])\n",
    "#df['SUSP_AGE_GROUP'] = le.fit_transform(df['SUSP_AGE_GROUP'])\n",
    "#df['VIC_AGE_GROUP'] = le.fit_transform(df['VIC_AGE_GROUP'])\n",
    "df['VIC_RACE'] = le.fit_transform(df['VIC_RACE'])\n",
    "df['VIC_SEX'] = le.fit_transform(df['VIC_SEX'])\n",
    "df"
   ]
  },
  {
   "cell_type": "code",
   "execution_count": null,
   "metadata": {},
   "outputs": [],
   "source": [
    "features = df.drop(\"VIC_AGE_GROUP\", axis=1)\n",
    "target = df[\"VIC_AGE_GROUP\"]"
   ]
  },
  {
   "cell_type": "code",
   "execution_count": null,
   "metadata": {},
   "outputs": [],
   "source": [
    "from sklearn.linear_model import LinearRegression\n",
    "from sklearn.model_selection import train_test_split\n",
    "from sklearn.metrics import r2_score\n",
    "\n",
    "from sklearn.feature_selection import SelectKBest\n",
    "from sklearn.feature_selection import f_regression\n",
    "\n",
    "#split data into training and testing sets\n",
    "X_train, X_test, y_train, y_test = train_test_split(features, target, random_state=3000)"
   ]
  },
  {
   "cell_type": "code",
   "execution_count": null,
   "metadata": {},
   "outputs": [],
   "source": [
    "from sklearn.feature_selection import RFE\n",
    "from sklearn.tree import DecisionTreeRegressor\n",
    "\n",
    "select = RFE(DecisionTreeRegressor(random_state = 3000), n_features_to_select = 3)"
   ]
  },
  {
   "cell_type": "code",
   "execution_count": null,
   "metadata": {},
   "outputs": [],
   "source": [
    "#fit the RFE selector to the training data\n",
    "select.fit(X_train, y_train)\n",
    "\n",
    "#transform training and testing sets so only the selected features are retained\n",
    "X_train_selected = select.transform(X_train)\n",
    "X_test_selected = select.transform(X_test)\n",
    "\n",
    "model = LinearRegression().fit(X=X_train, y=y_train)\n",
    "\n",
    "print(\"Original results:\")\n",
    "print(\"\\tR-squared value for training set: \", r2_score(y_train, model.predict(X_train)))\n",
    "print(\"\\tR-squared value for testing set: \", r2_score(y_test, model.predict(X_test)))\n",
    "\n",
    "model = LinearRegression().fit(X=X_train_selected, y=y_train)\n",
    "\n",
    "print(\"With selected features:\")\n",
    "print(\"\\tR-squared value for training set: \", r2_score(y_train, model.predict(X_train_selected)))\n",
    "print(\"\\tR-squared value for testing set: \", r2_score(y_test, model.predict(X_test_selected)))"
   ]
  },
  {
   "cell_type": "code",
   "execution_count": null,
   "metadata": {},
   "outputs": [],
   "source": [
    "print(features.columns)"
   ]
  },
  {
   "cell_type": "code",
   "execution_count": null,
   "metadata": {},
   "outputs": [],
   "source": [
    "select.get_support()"
   ]
  },
  {
   "cell_type": "code",
   "execution_count": null,
   "metadata": {},
   "outputs": [],
   "source": []
  },
  {
   "cell_type": "code",
   "execution_count": null,
   "metadata": {},
   "outputs": [],
   "source": [
    "#df = df.drop(columns = [\"SUSP_AGE_GROUP\", \"VIC_AGE_GROUP\"])"
   ]
  },
  {
   "cell_type": "code",
   "execution_count": null,
   "metadata": {},
   "outputs": [],
   "source": [
    "#df = df.drop(columns = [\"SUSP_AGE_GROUP\", \"VIC_AGE_GROUP\"])"
   ]
  },
  {
   "cell_type": "code",
   "execution_count": null,
   "metadata": {},
   "outputs": [],
   "source": []
  },
  {
   "cell_type": "code",
   "execution_count": null,
   "metadata": {},
   "outputs": [],
   "source": []
  },
  {
   "cell_type": "code",
   "execution_count": null,
   "metadata": {},
   "outputs": [],
   "source": [
    "dummies = pd.get_dummies(features)\n",
    "\n",
    "#from sklearn.preprocessing import OneHotEncoder\n",
    "\n",
    "#encoder = OneHotEncoder(sparse = False)\n",
    "\n",
    "#encoded_df = encoder.fit_transform(features)"
   ]
  },
  {
   "cell_type": "code",
   "execution_count": null,
   "metadata": {},
   "outputs": [],
   "source": [
    "#features_df = pd.DataFrame(encoded_df, columns = encoder.get_feature_names() )"
   ]
  },
  {
   "cell_type": "code",
   "execution_count": null,
   "metadata": {},
   "outputs": [],
   "source": [
    "#merged = features_df\n",
    "#merged[\"BORO\"] = target\n",
    "merged = pd.concat([target, dummies], axis='columns')\n",
    "merged"
   ]
  },
  {
   "cell_type": "code",
   "execution_count": null,
   "metadata": {},
   "outputs": [],
   "source": [
    "from sklearn.preprocessing import LabelEncoder\n",
    "le = LabelEncoder()\n",
    "\n",
    "merged['BORO_NM'] = le.fit_transform(merged['BORO_NM'])\n",
    "merged"
   ]
  },
  {
   "cell_type": "code",
   "execution_count": null,
   "metadata": {},
   "outputs": [],
   "source": [
    "features = merged.drop(\"BORO_NM\", axis=1)\n",
    "target = merged[\"BORO_NM\"]"
   ]
  },
  {
   "cell_type": "code",
   "execution_count": null,
   "metadata": {},
   "outputs": [],
   "source": [
    "from sklearn.linear_model import LinearRegression\n",
    "from sklearn.model_selection import train_test_split\n",
    "from sklearn.metrics import r2_score\n",
    "from sklearn.metrics import mean_squared_error\n",
    "\n",
    "\n",
    "#split data into training and testing sets\n",
    "X_train, X_test, y_train, y_test = train_test_split(features, target, random_state=3000)"
   ]
  },
  {
   "cell_type": "code",
   "execution_count": null,
   "metadata": {},
   "outputs": [],
   "source": [
    "model = LinearRegression().fit(X=X_train, y=y_train)"
   ]
  },
  {
   "cell_type": "code",
   "execution_count": null,
   "metadata": {},
   "outputs": [],
   "source": [
    "print(\"R-squared value for training set: \", r2_score(y_train, model.predict(X_train)))\n",
    "print(\"R-squared value for testing set: \", r2_score(y_test, model.predict(X_test)))"
   ]
  },
  {
   "cell_type": "code",
   "execution_count": null,
   "metadata": {},
   "outputs": [],
   "source": []
  },
  {
   "cell_type": "code",
   "execution_count": null,
   "metadata": {},
   "outputs": [],
   "source": [
    "df[\"PREM_TYP_DESC\"].value_counts()\n",
    "df = df.replace(\"RESIDENCE - APT. HOUSE\", \"RESIDENCE\")\n",
    "df = df.replace(\"RESIDENCE-HOUSE\", \"RESIDENCE\")\n",
    "\n",
    "df1 = df[df['PREM_TYP_DESC'] == (\"RESIDENCE\")]\n",
    "df2 = df[df['PREM_TYP_DESC'] == (\"STREET\")]\n",
    "df3 = df[df['PREM_TYP_DESC'] == (\"TRANSIT - NYC SUBWAY\")]\n",
    "df4 = df[df['PREM_TYP_DESC'] == (\"RESIDENCE - PUBLIC HOUSING\")]\n",
    "df5 = df[df['PREM_TYP_DESC'] == (\"PUBLIC SCHOOL\")]\n",
    "df6 = df[df['PREM_TYP_DESC'] == (\"BAR/NIGHT CLUB\")]\n",
    "\n",
    "df = df1.append(df2)\n",
    "df = df.append(df3)\n",
    "df = df.append(df4)\n",
    "df = df.append(df5)\n",
    "df = df.append(df6)\n",
    "\n",
    "df"
   ]
  },
  {
   "cell_type": "code",
   "execution_count": null,
   "metadata": {},
   "outputs": [],
   "source": []
  },
  {
   "cell_type": "code",
   "execution_count": null,
   "metadata": {},
   "outputs": [],
   "source": []
  },
  {
   "cell_type": "code",
   "execution_count": null,
   "metadata": {},
   "outputs": [],
   "source": []
  },
  {
   "cell_type": "code",
   "execution_count": null,
   "metadata": {},
   "outputs": [],
   "source": [
    "#df = df[df['VIC_RACE'] != \"UNKNOWN\"]"
   ]
  },
  {
   "cell_type": "code",
   "execution_count": null,
   "metadata": {},
   "outputs": [],
   "source": [
    "df[\"VIC_RACE\"].unique()"
   ]
  },
  {
   "cell_type": "code",
   "execution_count": null,
   "metadata": {},
   "outputs": [],
   "source": []
  },
  {
   "cell_type": "code",
   "execution_count": null,
   "metadata": {},
   "outputs": [],
   "source": [
    "df = df.drop(columns = [\"PD_CD\", \"PARKS_NM\", \"HADEVELOPT\", \"HOUSING_PSA\", \"OFNS_DESC\", \"RPT_DT\", \"CMPLNT_TO_DT\", \"CMPLNT_TO_TM\", \"PATROL_BORO\", \"LOC_OF_OCCUR_DESC\",\"TRANSIT_DISTRICT\"])"
   ]
  },
  {
   "cell_type": "code",
   "execution_count": null,
   "metadata": {},
   "outputs": [],
   "source": [
    "df = df[df['CMPLNT_NUM'] != 836720984]"
   ]
  },
  {
   "cell_type": "code",
   "execution_count": null,
   "metadata": {},
   "outputs": [],
   "source": []
  },
  {
   "cell_type": "code",
   "execution_count": null,
   "metadata": {},
   "outputs": [],
   "source": [
    "df.head()"
   ]
  },
  {
   "cell_type": "code",
   "execution_count": null,
   "metadata": {},
   "outputs": [],
   "source": [
    "df = df.drop(columns = [\"CMPLNT_FR_TM\",\"ADDR_PCT_CD\", \"LAW_CAT_CD\",\"PREM_TYP_DESC\", \"JURIS_DESC\", \"JURISDICTION_CODE\", \"X_COORD_CD\",  \"Y_COORD_CD\"])"
   ]
  },
  {
   "cell_type": "code",
   "execution_count": null,
   "metadata": {},
   "outputs": [],
   "source": [
    "# df[\"LAW_CAT_CD\"].value_counts()\n",
    "\n",
    "#target = []\n",
    "\n",
    "#for i, r in df.iterrows():\n",
    "#    if r[\"BORO_NM\"] == \"MANHATTAN\":\n",
    "#        target.append([0,0,0])\n",
    "#    elif r[\"BORO_NM\"] == \"BRONX\":\n",
    "#        target.append([0,0,1])\n",
    "#    elif r[\"BORO_NM\"] == \"STATEN ISLAND\":\n",
    "#        target.append([0,1,0])\n",
    "#    elif r[\"BORO_NM\"] == \"QUEENS\":\n",
    "#        target.append([0,1,1])\n",
    "#    else:\n",
    "#        target.append([1,0,0])\n",
    "        \n",
    "#df[\"target\"] = target\n",
    "\n",
    "#df"
   ]
  },
  {
   "cell_type": "code",
   "execution_count": null,
   "metadata": {},
   "outputs": [],
   "source": [
    "df = df.drop(columns = [\"KY_CD\", \"PD_DESC\", \"CRM_ATPT_CPTD_CD\"])"
   ]
  },
  {
   "cell_type": "code",
   "execution_count": null,
   "metadata": {},
   "outputs": [],
   "source": [
    "df.head()"
   ]
  },
  {
   "cell_type": "code",
   "execution_count": null,
   "metadata": {},
   "outputs": [],
   "source": [
    "df = df.fillna(\"UNKNOWN\")"
   ]
  },
  {
   "cell_type": "code",
   "execution_count": null,
   "metadata": {},
   "outputs": [],
   "source": [
    "df = df[df['VIC_RACE'] != \"UNKNOWN\"]"
   ]
  },
  {
   "cell_type": "code",
   "execution_count": null,
   "metadata": {},
   "outputs": [],
   "source": [
    "df[\"VIC_RACE\"].unique()"
   ]
  },
  {
   "cell_type": "code",
   "execution_count": null,
   "metadata": {},
   "outputs": [],
   "source": [
    "dummies = pd.get_dummies(df.VIC_RACE)"
   ]
  },
  {
   "cell_type": "code",
   "execution_count": null,
   "metadata": {},
   "outputs": [],
   "source": [
    "merged = pd.concat([df, dummies], axis='columns')\n",
    "merged"
   ]
  },
  {
   "cell_type": "code",
   "execution_count": null,
   "metadata": {},
   "outputs": [],
   "source": [
    "from sklearn.preprocessing import LabelEncoder\n",
    "le = LabelEncoder()\n",
    "\n",
    "df['VIC_RACE'] = le.fit_transform(df['VIC_RACE'])\n",
    "df"
   ]
  },
  {
   "cell_type": "code",
   "execution_count": null,
   "metadata": {},
   "outputs": [],
   "source": [
    "df = df.fillna(\"UNKNOWN\")"
   ]
  },
  {
   "cell_type": "code",
   "execution_count": null,
   "metadata": {},
   "outputs": [],
   "source": [
    "df['VIC_RACE'] = le.fit_transform(df['VIC_RACE'])\n",
    "df"
   ]
  },
  {
   "cell_type": "code",
   "execution_count": null,
   "metadata": {},
   "outputs": [],
   "source": [
    "# was merged not df\n",
    "descriptives = df.groupby(\"BORO_NM\").agg([\"count\", \"mean\", \"std\", \"sem\"])\n",
    "descriptives"
   ]
  },
  {
   "cell_type": "code",
   "execution_count": null,
   "metadata": {},
   "outputs": [],
   "source": [
    "descriptives = descriptives[\"VIC_RACE\"]\n",
    "descriptives"
   ]
  },
  {
   "cell_type": "code",
   "execution_count": null,
   "metadata": {},
   "outputs": [],
   "source": [
    "descriptives.reset_index(inplace=True)"
   ]
  },
  {
   "cell_type": "code",
   "execution_count": null,
   "metadata": {},
   "outputs": [],
   "source": [
    "from sklearn.linear_model import LinearRegression\n",
    "from sklearn.model_selection import train_test_split\n",
    "\n",
    "\n",
    "#split data into training and testing sets\n",
    "X_train, X_test, y_train, y_test = train_test_split(features, target, random_state=3000)"
   ]
  },
  {
   "cell_type": "code",
   "execution_count": null,
   "metadata": {},
   "outputs": [],
   "source": [
    "from scipy import stats\n",
    "import plotly.express as plt\n",
    "\n",
    "stats.f_oneway?"
   ]
  },
  {
   "cell_type": "code",
   "execution_count": null,
   "metadata": {},
   "outputs": [],
   "source": [
    "mmm = merged[merged[\"BORO_NM\"] == \"MANHATTAN\"][\"VIC_RACE_BLACK HISPANIC\", \"VIC_RACE_WHITE\"]\n",
    "bbb = merged[merged[\"BORO_NM\"] == \"BRONX\"][\"VIC_RACE_BLACK HISPANIC\", \"VIC_RACE_WHITE\"]\n",
    "bbb2 = merged[merged[\"BORO_NM\"] == \"BROOKLYN\"][\"VIC_RACE_BLACK HISPANIC\", \"VIC_RACE_WHITE\"]\n",
    "qqq = merged[merged[\"BORO_NM\"] == \"QUEENS\"][\"VIC_RACE_BLACK HISPANIC\", \"VIC_RACE_WHITE\"]\n",
    "sss = merged[merged[\"BORO_NM\"] == \"STATEN ISLAND\"][\"VIC_RACE_BLACK HISPANIC\", \"VIC_RACE_WHITE\"]\n",
    "\n",
    "results = stats.f_oneway(mmm, bbb, bbb2, qqq, sss)"
   ]
  },
  {
   "cell_type": "code",
   "execution_count": null,
   "metadata": {},
   "outputs": [],
   "source": []
  },
  {
   "cell_type": "code",
   "execution_count": null,
   "metadata": {},
   "outputs": [],
   "source": []
  },
  {
   "cell_type": "code",
   "execution_count": null,
   "metadata": {},
   "outputs": [],
   "source": [
    "%matplotlib inline\n",
    "df.boxplot('')"
   ]
  },
  {
   "cell_type": "code",
   "execution_count": null,
   "metadata": {},
   "outputs": [],
   "source": []
  },
  {
   "cell_type": "code",
   "execution_count": null,
   "metadata": {},
   "outputs": [],
   "source": []
  },
  {
   "cell_type": "code",
   "execution_count": null,
   "metadata": {},
   "outputs": [],
   "source": []
  },
  {
   "cell_type": "code",
   "execution_count": null,
   "metadata": {},
   "outputs": [],
   "source": []
  },
  {
   "cell_type": "code",
   "execution_count": null,
   "metadata": {},
   "outputs": [],
   "source": []
  },
  {
   "cell_type": "code",
   "execution_count": null,
   "metadata": {},
   "outputs": [],
   "source": []
  },
  {
   "cell_type": "code",
   "execution_count": null,
   "metadata": {},
   "outputs": [],
   "source": []
  },
  {
   "cell_type": "code",
   "execution_count": null,
   "metadata": {},
   "outputs": [],
   "source": []
  },
  {
   "cell_type": "code",
   "execution_count": null,
   "metadata": {},
   "outputs": [],
   "source": []
  },
  {
   "cell_type": "code",
   "execution_count": null,
   "metadata": {},
   "outputs": [],
   "source": [
    "from sklearn.model_selection import train_test_split\n",
    "from sklearn.neighbors import KNeighborsClassifier\n",
    "\n",
    "#features = df[[\"Latitude\",\"Longitude\"]]\n",
    "\n",
    "#X_train, X_test, y_train, y_test = train_test_split(features, target, random_state=3000)\n",
    "\n",
    "#knn = KNeighborsClassifier()\n",
    "\n",
    "#knn.fit(X=X_train, y=y_train)\n",
    "\n",
    "#predicted = knn.predict(X=X_test)\n",
    "\n",
    "#expected = y_test\n",
    "\n",
    "#accuracy = knn.score(X_test, y_test)\n",
    "#accuracy"
   ]
  },
  {
   "cell_type": "code",
   "execution_count": null,
   "metadata": {},
   "outputs": [],
   "source": [
    "import numpy as np\n",
    "import pandas as pd\n",
    "import matplotlib.pyplot as plt\n",
    "\n",
    "#BBox = [df.Longitude.min(), df.Longitude.max(),      \n",
    "#         df.Latitude.min(), df.Latitude.max()]\n",
    "#fig, ax = plt.subplots(figsize = (8,7))\n",
    "#ax.scatter(df.Longitude, df.Latitude, zorder=1, alpha= 0.2, c='b', s=5)\n",
    "#ax.set_title('Plotting Spatial Data on NYC Map')\n",
    "#ax.set_xlim(BBox[0],BBox[1])\n",
    "#ax.set_ylim(BBox[2],BBox[3])\n",
    "#ax.imshow(ruh_m, zorder=0, extent = BBox, aspect= 'equal')"
   ]
  },
  {
   "cell_type": "code",
   "execution_count": null,
   "metadata": {},
   "outputs": [],
   "source": [
    "#df1 = df.replace(np.nan, 'UNKNOWN', regex=True)"
   ]
  },
  {
   "cell_type": "code",
   "execution_count": null,
   "metadata": {},
   "outputs": [],
   "source": [
    "df[\"VIC_RACE\"].unique()"
   ]
  },
  {
   "cell_type": "code",
   "execution_count": null,
   "metadata": {},
   "outputs": [],
   "source": []
  },
  {
   "cell_type": "code",
   "execution_count": null,
   "metadata": {},
   "outputs": [],
   "source": [
    "#df2 = df.iloc[3839:7784]\n",
    "#df2"
   ]
  },
  {
   "cell_type": "code",
   "execution_count": null,
   "metadata": {},
   "outputs": [],
   "source": [
    "#stats.shapiro(df.iloc[:, 9:2])"
   ]
  },
  {
   "cell_type": "code",
   "execution_count": null,
   "metadata": {},
   "outputs": [],
   "source": [
    "descriptives = df.groupby(\"VIC_AGE_GROUP\").agg([\"count\", \"mean\", \"std\", \"sem\"])\n",
    "descriptives"
   ]
  },
  {
   "cell_type": "code",
   "execution_count": null,
   "metadata": {
    "scrolled": true
   },
   "outputs": [],
   "source": [
    "descriptives = df.groupby(\"BORO_NM\").agg([\"count\", \"mean\", \"std\", \"sem\"])\n",
    "descriptives"
   ]
  },
  {
   "cell_type": "code",
   "execution_count": null,
   "metadata": {},
   "outputs": [],
   "source": [
    "descriptives = descriptives[\"VIC_RACE\"]\n",
    "descriptives"
   ]
  },
  {
   "cell_type": "code",
   "execution_count": null,
   "metadata": {},
   "outputs": [],
   "source": [
    "descriptives.reset_index(inplace=True)"
   ]
  },
  {
   "cell_type": "code",
   "execution_count": null,
   "metadata": {},
   "outputs": [],
   "source": [
    "from scipy import stats\n",
    "import plotly.express as plt\n",
    "\n",
    "stats.f_oneway?"
   ]
  },
  {
   "cell_type": "code",
   "execution_count": null,
   "metadata": {},
   "outputs": [],
   "source": [
    "aa = df[df[\"VIC_RACE\"] == 0][\"BORO_NM\"]\n",
    "ap = df[df[\"VIC_RACE\"] == 1][\"BORO_NM\"]\n",
    "bb = df[df[\"VIC_RACE\"] == 2][\"BORO_NM\"]\n",
    "bh = df[df[\"VIC_RACE\"] == 3][\"BORO_NM\"]\n",
    "# un = df[df[\"SUSP_RACE\"] == \"UNKNOWN\"][\"target\"]\n",
    "wi = df[df[\"VIC_RACE\"] == 4][\"BORO_NM\"]\n",
    "wh = df[df[\"VIC_RACE\"] == 5][\"BORO_NM\"]\n",
    "\n",
    "b = aa.append(wi)\n",
    "w = bh.append(wh)\n",
    "\n",
    "#stats.f_oneway(aa, ap, bb, bh, wi, wh)\n",
    "\n",
    "stats.f_oneway(w, b, ap, bb)"
   ]
  },
  {
   "cell_type": "code",
   "execution_count": null,
   "metadata": {},
   "outputs": [],
   "source": [
    "format(results[1], '.10f')"
   ]
  },
  {
   "cell_type": "code",
   "execution_count": null,
   "metadata": {},
   "outputs": [],
   "source": [
    "mmm = df[df[\"BORO_NM\"] == \"MANHATTAN\"][\"VIC_RACE\"]\n",
    "bbb = df[df[\"BORO_NM\"] == \"BRONX\"][\"VIC_RACE\"]\n",
    "bbb2 = df[df[\"BORO_NM\"] == \"BROOKLYN\"][\"VIC_RACE\"]\n",
    "qqq = df[df[\"BORO_NM\"] == \"QUEENS\"][\"VIC_RACE\"]\n",
    "sss = df[df[\"BORO_NM\"] == \"STATEN ISLAND\"][\"VIC_RACE\"]\n",
    "\n",
    "results = stats.f_oneway(mmm, bbb, bbb2, qqq, sss)"
   ]
  },
  {
   "cell_type": "code",
   "execution_count": null,
   "metadata": {},
   "outputs": [],
   "source": [
    "mmm = df[df[\"BORO_NM\"] == 0][\"VIC_RACE\"]\n",
    "bbb = df[df[\"BORO_NM\"] == 1][\"VIC_RACE\"]\n",
    "bbb2 = df[df[\"BORO_NM\"] == 2][\"VIC_RACE\"]\n",
    "qqq = df[df[\"BORO_NM\"] == 3][\"VIC_RACE\"]\n",
    "sss = df[df[\"BORO_NM\"] == 4][\"VIC_RACE\"]\n",
    "\n",
    "results = stats.f_oneway(mmm, bbb, bbb2, qqq, sss)"
   ]
  },
  {
   "cell_type": "code",
   "execution_count": null,
   "metadata": {},
   "outputs": [],
   "source": [
    "format(results[1], '.40f')"
   ]
  },
  {
   "cell_type": "code",
   "execution_count": null,
   "metadata": {},
   "outputs": [],
   "source": []
  },
  {
   "cell_type": "code",
   "execution_count": null,
   "metadata": {},
   "outputs": [],
   "source": [
    "#levene_results = stats.levene(aa, ap, bb, bh, wi, wh)\n",
    "#levene_results = stats.levene(w, b, ap, bb)\n",
    "#levene_results"
   ]
  },
  {
   "cell_type": "code",
   "execution_count": null,
   "metadata": {},
   "outputs": [],
   "source": [
    "levene_results = stats.levene(mmm, bbb, bbb2, qqq, sss)\n",
    "levene_results"
   ]
  },
  {
   "cell_type": "code",
   "execution_count": null,
   "metadata": {},
   "outputs": [],
   "source": [
    "l = stats.shapiro(sss)"
   ]
  },
  {
   "cell_type": "code",
   "execution_count": null,
   "metadata": {},
   "outputs": [],
   "source": []
  },
  {
   "cell_type": "code",
   "execution_count": null,
   "metadata": {},
   "outputs": [],
   "source": [
    "from statsmodels.stats.multicomp import pairwise_tukeyhsd\n",
    "from statsmodels.stats.multicomp import MultiComparison\n"
   ]
  },
  {
   "cell_type": "code",
   "execution_count": null,
   "metadata": {},
   "outputs": [],
   "source": [
    "mc = MultiComparison(df[\"BORO_NM\"], df[\"VIC_RACE\"].fillna(\"UNKNOWN\"))\n",
    "\n",
    "tukey_result = mc.tukeyhsd()\n",
    " \n",
    "print(tukey_result)"
   ]
  },
  {
   "cell_type": "code",
   "execution_count": null,
   "metadata": {},
   "outputs": [],
   "source": [
    "mc = MultiComparison(df[\"VIC_SEX\"], df[\"VIC_AGE_GROUP\"])\n",
    "\n",
    "tukey_result = mc.tukeyhsd()\n",
    " \n",
    "print(tukey_result)"
   ]
  },
  {
   "cell_type": "code",
   "execution_count": null,
   "metadata": {},
   "outputs": [],
   "source": []
  },
  {
   "cell_type": "code",
   "execution_count": null,
   "metadata": {},
   "outputs": [],
   "source": []
  }
 ],
 "metadata": {
  "kernelspec": {
   "display_name": "Python 3",
   "language": "python",
   "name": "python3"
  },
  "language_info": {
   "codemirror_mode": {
    "name": "ipython",
    "version": 3
   },
   "file_extension": ".py",
   "mimetype": "text/x-python",
   "name": "python",
   "nbconvert_exporter": "python",
   "pygments_lexer": "ipython3",
   "version": "3.6.5"
  }
 },
 "nbformat": 4,
 "nbformat_minor": 2
}

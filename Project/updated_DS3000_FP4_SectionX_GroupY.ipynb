{
 "cells": [
  {
   "cell_type": "markdown",
   "metadata": {},
   "source": [
    "<center> <h2> DS 3000 - Fall 2019</h2> </center>\n",
    "<center> <h3> DS Report </h3> </center>\n"
   ]
  },
  {
   "cell_type": "markdown",
   "metadata": {},
   "source": [
    "<center> <h1> Project Title</h1> </center>\n",
    "<center><h4>Daniel McCusker Alvarez, Ken Ma, Yasmine Ghannam </h4></center>\n"
   ]
  },
  {
   "cell_type": "markdown",
   "metadata": {},
   "source": [
    "  "
   ]
  },
  {
   "cell_type": "markdown",
   "metadata": {},
   "source": [
    "<hr style=\"height:2px; border:none; color:black; background-color:black;\">"
   ]
  },
  {
   "cell_type": "markdown",
   "metadata": {},
   "source": [
    "#### Executive Summary:\n",
    "\n",
    "Add your summary here (100-150 words)\n",
    "\n",
    "Provide a brief summary of your project. After reading this executive summary, your readers should have a rough understanding of what you did in this project. You can think of this summary in terms of the four sections of the report and write 1-2 sentences describing each section.\n",
    "\n"
   ]
  },
  {
   "cell_type": "markdown",
   "metadata": {},
   "source": [
    "<hr style=\"height:2px; border:none; color:black; background-color:black;\">"
   ]
  },
  {
   "cell_type": "markdown",
   "metadata": {},
   "source": [
    "## Outline\n",
    "1. <a href='#1'>INTRODUCTION</a>\n",
    "2. <a href='#2'>METHOD</a>\n",
    "3. <a href='#3'>RESULTS</a>\n",
    "4. <a href='#4'>DISCUSSION</a>"
   ]
  },
  {
   "cell_type": "markdown",
   "metadata": {},
   "source": [
    "<a id=\"1\"></a>\n",
    "<hr style=\"height:2px; border:none; color:black; background-color:black;\">"
   ]
  },
  {
   "cell_type": "markdown",
   "metadata": {},
   "source": [
    "## 1. INTRODUCTION"
   ]
  },
  {
   "cell_type": "markdown",
   "metadata": {},
   "source": [
    "In this section, orient your readers to your project. You've already written some of these in previous deliverables. Based on your final analysis, revise your problem statement and write a concise introduction section. This section should touch upon the following points, but should be written in full paragraphs. Your writing should incorporate all of these points (and more if you like) in a coherent way. Remember that you are trying to convince your readers that this is an important problem to tackle. \n",
    "\n",
    "Problem Statement\n",
    "* Describe the problem you would like to tackle.<br>\n",
    "We would like to tackle the issue of sexual assault accross New York to see if we can fand any correlation between different variables.<br>\n",
    "<br>\n",
    "* What is the topic of your project?<br>\n",
    "Sexual assault reporting in New York City<br>\n",
    "<br>\n",
    "* What do you want to learn about it?<br>\n",
    "We want to see if through reported data we can find/deduce through machine learning other missing data from a report of a victim. We are analyzing crime reporting data in order to better understand the the data behind assault rates.<br>\n",
    "<br>\n",
    "Significance of the Problem\n",
    "<br>\n",
    "* Why is it important to tackle this problem in your project?<br>\n",
    "According to Rape, Abuse & Incest National Network, every 73 seconds in America, someone is sexually assaulted. The significance of this problem is evident, and gathering and analyzing data to better understand this issue is crucial. <br>\n",
    "<br>\n",
    "* In what ways could the insights from this project be useful?<br>\n",
    "The insights from this project could be used to predict/fill out missing data when a report is incomplete.<br>\n",
    "<br>\n",
    "* Has there been previous work on your topic? Do some research into your topic. Cite your sources appropriately. You can use the numbered reference format or APA (if you are more comfortable with it). <br>\n",
    "The topic of sexual assault has been greatly studied in the fields of sociology and criminal justice as well as social justice. It is proven within the research around sexual assault that many cases of rape occur where the victim knows the perpetrator, whihc makes reporting the person more difficult and more difficult because there is still a stigma attached to vicitms of sexual assault; this is especially the case in rural areas.<br>\n",
    "Greenfeld, L. A. (1997). Sex offenses and offenders: an analysis of data on rape and sexual assault: executive summary. Washington, DC: U.S. Dept. of Justice, Office of Justice Programs, Bureau of Justice Statistics. <br>\n",
    "Mcnair, L. D., & Neville, H. (1996). African American Women Survivors of Sexual Assault: Women & Therapy, 18(3-4), 107–118. doi: 10.1300/j015v18n03_10 <br>\n",
    "Lewis, S. H. (2003). Unspoken crimes: sexual assault in rural America. Enola, PA: NSVRC. <br>\n",
    "\n"
   ]
  },
  {
   "cell_type": "markdown",
   "metadata": {},
   "source": [
    "Questions/Hypothesis\n",
    "* End this section with a list of questions and hypotheses\n",
    "* You should tie these questions/hypotheses to the problem statement and its significance\n",
    "Given the importance of this issue, we developed the following hypothesis/questions:<br>\n",
    "General question: Are there corrolations between ethnicity, age and sex when it comes to sexual assault reporting? <br>\n",
    "Since most of our data is categorical, for our hypothesis test, we will be conducting chi-square test of independence. <br>\n",
    "Hypothesis 1: Suspects age group has a relationship with victim age groups in sexual assault reporting. <br>\n",
    "Hypothesis 2: The sex of the victim is correlated with the age of the victim.<br>\n",
    "Hypothesis 3: The race of the victim and the borough name are correlated.\n",
    "\n",
    "Which machine learning algorithm is best for this project?"
   ]
  },
  {
   "cell_type": "markdown",
   "metadata": {},
   "source": [
    "<a id=\"2\"></a>\n",
    "<hr style=\"height:2px; border:none; color:black; background-color:black;\">"
   ]
  },
  {
   "cell_type": "markdown",
   "metadata": {},
   "source": [
    "## 2. METHOD"
   ]
  },
  {
   "cell_type": "markdown",
   "metadata": {},
   "source": [
    "### 2.1. Data Acquisition\n",
    "\n",
    "* Describe where you obtained your data. Provide a link to the original source. <br>\n",
    "The source of the data is from a government/city website that provides historic dataset(s) on NYPD Complaint [Data]. Either from a “.gov” domain or directly from The City of New York database itself, called the ‘Sexual Assault Data’ [dataset/table]. From the historical dataset, there are many columns and records with tons of value/inputs to make it a big dataset to work with. Based on these assertions, the dataset comes from a reliable source, and gives more freedom and detail to create effective calculations. The columns and records themselves are relevant to the ideas and hypothesis formed, so the nature of the data is useful and concrete in analysis.<br>\n",
    "https://catalog.data.gov/dataset/nypd-complaint-data-historic<br>\n",
    "https://data.cityofnewyork.us/Public-Safety/NYPD-Complaint-Data-Historic/qgea-i56i\n",
    "<br>\n",
    "* If you scraped your data, include your code as a script file.<br>\n",
    "There was no data scraped <br> \n",
    "* Your data should be stored in an online repository (e.g., GitHub) and your code should retrieve your data from that online resource. You can read csv files from the Web in the same way that you read files from local drive.<br>\n",
    "<br>\n",
    "<br>\n",
    "GitHub link: <br>"
   ]
  },
  {
   "cell_type": "markdown",
   "metadata": {},
   "source": [
    "* Describe the dataset and variables. What do variables represent? <br>\n",
    "From the dataset, the key variables are:CRM_ATPT_CPTD_CD(whether crime was completed or attempted), PREM_TYP_DESC (location type like residence, bar...), BORO_NM (borough name), SUSP_RACE (race/ethnicity of suspect), SUSP_SEX (gender of suspect), SUSP_AGE_GROUP and VIC_AGE_GROUP (age group of the suspect or victim, with <18, 18-24, 25-44, 45-64, 65+), VIC_RACE (race/ethnicity of victim) and VIC_SEX (gender of victim)."
   ]
  },
  {
   "cell_type": "markdown",
   "metadata": {},
   "source": [
    "### 2.2. Variables\n",
    "* If you are testing hypotheses, what are your IVs and DVs?\n",
    "Hypothesis 1: DV's: suspect age group and victim age group. <br>\n",
    "Hypothesis 2: Younger women are more likely to be assaulted by an older man. The IV is the age of the female victim and the DV is age of the male suspect.<br>\n",
    "we will be using chi-square test of independence therfore throughout our tests we determined whether the two variables are dependent (have a relationship) or independent (no relationship). <br>\n",
    "For our first hypothesis, the two categoircal variables we are testing are SUSP_AGE_GROUP and VIC_AGE_GROUP. <br>\n",
    "for our second hypothesis, we tested VIC_SEX and VIC_AGE_GROUP. <br>\n",
    "for our third hypothesis, we looked at the relation between the BORO_NM and VIC_RACE. <br>\n",
    "* For your predictive models, what are your features and target variables? <br>\n",
    "Our predictive model uses CRM_ATPT_CPTD_CD, BORO_NM, SUSP_AGE_GROUP, VIC_AGE_GROUP, VIC_RACE, VIC_SEX as features and PREM_TYPE_DESC as the target. We used this target to determine the specific type of location and find the link between these features and this target."
   ]
  },
  {
   "cell_type": "markdown",
   "metadata": {},
   "source": [
    "### 2.3. Data Analysis\n",
    "* Specifically describe your predictive model. What outcome variable are you going to predict from what feature variables? <br>\n",
    "We are going to predict the type of premise (PREM_TYPE_DESC) based on the above features. <br>\n",
    "* Describe whether this is a supervised or unsupervised learning problem. Also identify the sub-category of the learning task (e.g. classification). <br>\n",
    "We are going to use classification model to predict variables and we will compare different machine learning algorithms. <br>\n",
    "* What machine learning algorithms are you going to use? Why? <br>\n",
    "We are going to compare the Nearest Neighbor algorithm's accuracy with the Support Vector Machines and the Decision Tree and Naive-Bayes. We will use these four to find which one if most accurate. Our assumption is that Support Vector Machine will be most accurate because it is good with large datasets. <br>\n",
    "Nearest Neighbor algorithm tries to sort by distance in the dataset. <br>\n",
    "SVM draws dividing lines to separate the Data Set. <br>\n",
    "Decision Tree use if else format to reach a conclusion. <br>\n",
    "Naive-Bayes is a probabilistic algorithm that assumes features are of equal importance. <br>"
   ]
  },
  {
   "cell_type": "markdown",
   "metadata": {},
   "source": [
    "<a id=\"3\"></a>\n",
    "<hr style=\"height:2px; border:none; color:black; background-color:black;\">"
   ]
  },
  {
   "cell_type": "markdown",
   "metadata": {},
   "source": [
    "## 3. RESULTS"
   ]
  },
  {
   "cell_type": "markdown",
   "metadata": {},
   "source": [
    "### 3.1. Data Wrangling\n",
    "* Perform simple data cleaning (delete extra columns, deal with NA values, etc.)\n",
    "* Perform data wrangling to extract your features and target values (e.g., grouping your dataframe by columns, applying functions to format dataframes, etc.)\n",
    "* Preprocess your variables (e.g., scaling/transforming feature variables to normalize them)\n",
    "* Feature extraction (dummy variables, new features from existing features, etc.)\n",
    "* Use one feature selection technique to select a subset of your original features\n"
   ]
  },
  {
   "cell_type": "code",
   "execution_count": 1,
   "metadata": {},
   "outputs": [
    {
     "data": {
      "text/html": [
       "<div>\n",
       "<style scoped>\n",
       "    .dataframe tbody tr th:only-of-type {\n",
       "        vertical-align: middle;\n",
       "    }\n",
       "\n",
       "    .dataframe tbody tr th {\n",
       "        vertical-align: top;\n",
       "    }\n",
       "\n",
       "    .dataframe thead th {\n",
       "        text-align: right;\n",
       "    }\n",
       "</style>\n",
       "<table border=\"1\" class=\"dataframe\">\n",
       "  <thead>\n",
       "    <tr style=\"text-align: right;\">\n",
       "      <th></th>\n",
       "      <th>CMPLNT_NUM</th>\n",
       "      <th>CMPLNT_FR_DT</th>\n",
       "      <th>CMPLNT_FR_TM</th>\n",
       "      <th>CMPLNT_TO_DT</th>\n",
       "      <th>CMPLNT_TO_TM</th>\n",
       "      <th>ADDR_PCT_CD</th>\n",
       "      <th>RPT_DT</th>\n",
       "      <th>KY_CD</th>\n",
       "      <th>OFNS_DESC</th>\n",
       "      <th>PD_CD</th>\n",
       "      <th>...</th>\n",
       "      <th>SUSP_SEX</th>\n",
       "      <th>TRANSIT_DISTRICT</th>\n",
       "      <th>Latitude</th>\n",
       "      <th>Longitude</th>\n",
       "      <th>Lat_Lon</th>\n",
       "      <th>PATROL_BORO</th>\n",
       "      <th>STATION_NAME</th>\n",
       "      <th>VIC_AGE_GROUP</th>\n",
       "      <th>VIC_RACE</th>\n",
       "      <th>VIC_SEX</th>\n",
       "    </tr>\n",
       "  </thead>\n",
       "  <tbody>\n",
       "    <tr>\n",
       "      <th>0</th>\n",
       "      <td>571533282</td>\n",
       "      <td>12/31/2018</td>\n",
       "      <td>17:05:00</td>\n",
       "      <td>12/31/2018</td>\n",
       "      <td>17:15:00</td>\n",
       "      <td>10</td>\n",
       "      <td>12/31/2018</td>\n",
       "      <td>233</td>\n",
       "      <td>SEX CRIMES</td>\n",
       "      <td>175</td>\n",
       "      <td>...</td>\n",
       "      <td>M</td>\n",
       "      <td>NaN</td>\n",
       "      <td>40.742699</td>\n",
       "      <td>-73.998655</td>\n",
       "      <td>(40.742699299, -73.99865538)</td>\n",
       "      <td>PATROL BORO MAN SOUTH</td>\n",
       "      <td>NaN</td>\n",
       "      <td>&lt;18</td>\n",
       "      <td>WHITE</td>\n",
       "      <td>M</td>\n",
       "    </tr>\n",
       "    <tr>\n",
       "      <th>1</th>\n",
       "      <td>820453504</td>\n",
       "      <td>12/31/2018</td>\n",
       "      <td>15:35:00</td>\n",
       "      <td>12/31/2018</td>\n",
       "      <td>15:40:00</td>\n",
       "      <td>40</td>\n",
       "      <td>12/31/2018</td>\n",
       "      <td>233</td>\n",
       "      <td>SEX CRIMES</td>\n",
       "      <td>175</td>\n",
       "      <td>...</td>\n",
       "      <td>NaN</td>\n",
       "      <td>NaN</td>\n",
       "      <td>40.810396</td>\n",
       "      <td>-73.925311</td>\n",
       "      <td>(40.810396019, -73.925310745)</td>\n",
       "      <td>PATROL BORO BRONX</td>\n",
       "      <td>NaN</td>\n",
       "      <td>25-44</td>\n",
       "      <td>WHITE HISPANIC</td>\n",
       "      <td>F</td>\n",
       "    </tr>\n",
       "    <tr>\n",
       "      <th>2</th>\n",
       "      <td>113940766</td>\n",
       "      <td>12/31/2018</td>\n",
       "      <td>4:30:00</td>\n",
       "      <td>12/31/2018</td>\n",
       "      <td>4:50:00</td>\n",
       "      <td>49</td>\n",
       "      <td>12/31/2018</td>\n",
       "      <td>233</td>\n",
       "      <td>SEX CRIMES</td>\n",
       "      <td>175</td>\n",
       "      <td>...</td>\n",
       "      <td>M</td>\n",
       "      <td>NaN</td>\n",
       "      <td>40.856163</td>\n",
       "      <td>-73.844397</td>\n",
       "      <td>(40.856162957, -73.844397124)</td>\n",
       "      <td>PATROL BORO BRONX</td>\n",
       "      <td>NaN</td>\n",
       "      <td>18-24</td>\n",
       "      <td>WHITE HISPANIC</td>\n",
       "      <td>F</td>\n",
       "    </tr>\n",
       "    <tr>\n",
       "      <th>3</th>\n",
       "      <td>817554319</td>\n",
       "      <td>12/30/2018</td>\n",
       "      <td>3:30:00</td>\n",
       "      <td>12/30/2018</td>\n",
       "      <td>3:45:00</td>\n",
       "      <td>34</td>\n",
       "      <td>12/30/2018</td>\n",
       "      <td>233</td>\n",
       "      <td>SEX CRIMES</td>\n",
       "      <td>175</td>\n",
       "      <td>...</td>\n",
       "      <td>M</td>\n",
       "      <td>3.0</td>\n",
       "      <td>40.851488</td>\n",
       "      <td>-73.935458</td>\n",
       "      <td>(40.851487774, -73.935457967)</td>\n",
       "      <td>PATROL BORO MAN NORTH</td>\n",
       "      <td>207 ST.-INWOOD</td>\n",
       "      <td>25-44</td>\n",
       "      <td>UNKNOWN</td>\n",
       "      <td>M</td>\n",
       "    </tr>\n",
       "    <tr>\n",
       "      <th>4</th>\n",
       "      <td>726764710</td>\n",
       "      <td>12/30/2018</td>\n",
       "      <td>18:45:00</td>\n",
       "      <td>12/30/2018</td>\n",
       "      <td>19:00:00</td>\n",
       "      <td>120</td>\n",
       "      <td>12/30/2018</td>\n",
       "      <td>233</td>\n",
       "      <td>SEX CRIMES</td>\n",
       "      <td>175</td>\n",
       "      <td>...</td>\n",
       "      <td>NaN</td>\n",
       "      <td>NaN</td>\n",
       "      <td>40.644726</td>\n",
       "      <td>-74.077483</td>\n",
       "      <td>(40.644726131, -74.077483159)</td>\n",
       "      <td>PATROL BORO STATEN ISLAND</td>\n",
       "      <td>NaN</td>\n",
       "      <td>25-44</td>\n",
       "      <td>ASIAN / PACIFIC ISLANDER</td>\n",
       "      <td>F</td>\n",
       "    </tr>\n",
       "  </tbody>\n",
       "</table>\n",
       "<p>5 rows × 35 columns</p>\n",
       "</div>"
      ],
      "text/plain": [
       "   CMPLNT_NUM CMPLNT_FR_DT CMPLNT_FR_TM CMPLNT_TO_DT CMPLNT_TO_TM  \\\n",
       "0   571533282   12/31/2018     17:05:00   12/31/2018     17:15:00   \n",
       "1   820453504   12/31/2018     15:35:00   12/31/2018     15:40:00   \n",
       "2   113940766   12/31/2018      4:30:00   12/31/2018      4:50:00   \n",
       "3   817554319   12/30/2018      3:30:00   12/30/2018      3:45:00   \n",
       "4   726764710   12/30/2018     18:45:00   12/30/2018     19:00:00   \n",
       "\n",
       "   ADDR_PCT_CD      RPT_DT  KY_CD   OFNS_DESC  PD_CD  ... SUSP_SEX  \\\n",
       "0           10  12/31/2018    233  SEX CRIMES    175  ...        M   \n",
       "1           40  12/31/2018    233  SEX CRIMES    175  ...      NaN   \n",
       "2           49  12/31/2018    233  SEX CRIMES    175  ...        M   \n",
       "3           34  12/30/2018    233  SEX CRIMES    175  ...        M   \n",
       "4          120  12/30/2018    233  SEX CRIMES    175  ...      NaN   \n",
       "\n",
       "  TRANSIT_DISTRICT   Latitude  Longitude                        Lat_Lon  \\\n",
       "0              NaN  40.742699 -73.998655   (40.742699299, -73.99865538)   \n",
       "1              NaN  40.810396 -73.925311  (40.810396019, -73.925310745)   \n",
       "2              NaN  40.856163 -73.844397  (40.856162957, -73.844397124)   \n",
       "3              3.0  40.851488 -73.935458  (40.851487774, -73.935457967)   \n",
       "4              NaN  40.644726 -74.077483  (40.644726131, -74.077483159)   \n",
       "\n",
       "                 PATROL_BORO    STATION_NAME  VIC_AGE_GROUP  \\\n",
       "0      PATROL BORO MAN SOUTH             NaN            <18   \n",
       "1          PATROL BORO BRONX             NaN          25-44   \n",
       "2          PATROL BORO BRONX             NaN          18-24   \n",
       "3      PATROL BORO MAN NORTH  207 ST.-INWOOD          25-44   \n",
       "4  PATROL BORO STATEN ISLAND             NaN          25-44   \n",
       "\n",
       "                   VIC_RACE VIC_SEX  \n",
       "0                     WHITE       M  \n",
       "1            WHITE HISPANIC       F  \n",
       "2            WHITE HISPANIC       F  \n",
       "3                   UNKNOWN       M  \n",
       "4  ASIAN / PACIFIC ISLANDER       F  \n",
       "\n",
       "[5 rows x 35 columns]"
      ]
     },
     "execution_count": 1,
     "metadata": {},
     "output_type": "execute_result"
    }
   ],
   "source": [
    "import pandas as pd\n",
    "# create initial dataframe with the data\n",
    "df = pd.read_csv(\"Sexual_Assault_Data.csv\")\n",
    "df.head()"
   ]
  },
  {
   "cell_type": "code",
   "execution_count": 2,
   "metadata": {},
   "outputs": [],
   "source": [
    "# Cleaning data by dropping columns we aren't using\n",
    "df = df.drop(columns = [\"CMPLNT_NUM\", \"CMPLNT_FR_DT\", \"CMPLNT_FR_TM\", \"CMPLNT_TO_DT\", \"CMPLNT_TO_TM\", \"ADDR_PCT_CD\", \"RPT_DT\", \"KY_CD\", \"OFNS_DESC\", \"PD_CD\", \"PD_DESC\", \"LAW_CAT_CD\", \"LOC_OF_OCCUR_DESC\", \"JURIS_DESC\", \"JURISDICTION_CODE\", \"PARKS_NM\", \"HADEVELOPT\", \"HOUSING_PSA\", \"X_COORD_CD\", \"Y_COORD_CD\", \"TRANSIT_DISTRICT\", \"Latitude\", \"Longitude\", \"Lat_Lon\", \"PATROL_BORO\", \"STATION_NAME\"])"
   ]
  },
  {
   "cell_type": "code",
   "execution_count": 3,
   "metadata": {},
   "outputs": [],
   "source": [
    "import numpy as np\n",
    "\n",
    "# replace any unknown variables with NaN inorder to drop them later\n",
    "df = df.replace(\"UNKNOWN\", np.nan)\n",
    "df = df.replace(\"-978\", np.nan)\n",
    "df = df.replace(\"2018\", np.nan)"
   ]
  },
  {
   "cell_type": "code",
   "execution_count": 4,
   "metadata": {},
   "outputs": [
    {
     "data": {
      "text/html": [
       "<div>\n",
       "<style scoped>\n",
       "    .dataframe tbody tr th:only-of-type {\n",
       "        vertical-align: middle;\n",
       "    }\n",
       "\n",
       "    .dataframe tbody tr th {\n",
       "        vertical-align: top;\n",
       "    }\n",
       "\n",
       "    .dataframe thead th {\n",
       "        text-align: right;\n",
       "    }\n",
       "</style>\n",
       "<table border=\"1\" class=\"dataframe\">\n",
       "  <thead>\n",
       "    <tr style=\"text-align: right;\">\n",
       "      <th></th>\n",
       "      <th>SUSP_AGE_GROUP</th>\n",
       "      <th>VIC_AGE_GROUP</th>\n",
       "    </tr>\n",
       "  </thead>\n",
       "  <tbody>\n",
       "    <tr>\n",
       "      <th>3</th>\n",
       "      <td>25-44</td>\n",
       "      <td>25-44</td>\n",
       "    </tr>\n",
       "    <tr>\n",
       "      <th>5</th>\n",
       "      <td>45-64</td>\n",
       "      <td>&lt;18</td>\n",
       "    </tr>\n",
       "    <tr>\n",
       "      <th>7</th>\n",
       "      <td>45-64</td>\n",
       "      <td>&lt;18</td>\n",
       "    </tr>\n",
       "    <tr>\n",
       "      <th>8</th>\n",
       "      <td>25-44</td>\n",
       "      <td>18-24</td>\n",
       "    </tr>\n",
       "    <tr>\n",
       "      <th>10</th>\n",
       "      <td>45-64</td>\n",
       "      <td>45-64</td>\n",
       "    </tr>\n",
       "  </tbody>\n",
       "</table>\n",
       "</div>"
      ],
      "text/plain": [
       "   SUSP_AGE_GROUP VIC_AGE_GROUP\n",
       "3           25-44         25-44\n",
       "5           45-64           <18\n",
       "7           45-64           <18\n",
       "8           25-44         18-24\n",
       "10          45-64         45-64"
      ]
     },
     "execution_count": 4,
     "metadata": {},
     "output_type": "execute_result"
    }
   ],
   "source": [
    "df_1 = df.loc[:, [\"SUSP_AGE_GROUP\", \"VIC_AGE_GROUP\"]]\n",
    "df_1 = df_1.dropna()\n",
    "df_1.head()"
   ]
  },
  {
   "cell_type": "code",
   "execution_count": 5,
   "metadata": {},
   "outputs": [
    {
     "data": {
      "text/html": [
       "<div>\n",
       "<style scoped>\n",
       "    .dataframe tbody tr th:only-of-type {\n",
       "        vertical-align: middle;\n",
       "    }\n",
       "\n",
       "    .dataframe tbody tr th {\n",
       "        vertical-align: top;\n",
       "    }\n",
       "\n",
       "    .dataframe thead th {\n",
       "        text-align: right;\n",
       "    }\n",
       "</style>\n",
       "<table border=\"1\" class=\"dataframe\">\n",
       "  <thead>\n",
       "    <tr style=\"text-align: right;\">\n",
       "      <th></th>\n",
       "      <th>VIC_SEX</th>\n",
       "      <th>VIC_AGE_GROUP</th>\n",
       "    </tr>\n",
       "  </thead>\n",
       "  <tbody>\n",
       "    <tr>\n",
       "      <th>0</th>\n",
       "      <td>M</td>\n",
       "      <td>&lt;18</td>\n",
       "    </tr>\n",
       "    <tr>\n",
       "      <th>1</th>\n",
       "      <td>F</td>\n",
       "      <td>25-44</td>\n",
       "    </tr>\n",
       "    <tr>\n",
       "      <th>2</th>\n",
       "      <td>F</td>\n",
       "      <td>18-24</td>\n",
       "    </tr>\n",
       "    <tr>\n",
       "      <th>3</th>\n",
       "      <td>M</td>\n",
       "      <td>25-44</td>\n",
       "    </tr>\n",
       "    <tr>\n",
       "      <th>4</th>\n",
       "      <td>F</td>\n",
       "      <td>25-44</td>\n",
       "    </tr>\n",
       "  </tbody>\n",
       "</table>\n",
       "</div>"
      ],
      "text/plain": [
       "  VIC_SEX VIC_AGE_GROUP\n",
       "0       M           <18\n",
       "1       F         25-44\n",
       "2       F         18-24\n",
       "3       M         25-44\n",
       "4       F         25-44"
      ]
     },
     "execution_count": 5,
     "metadata": {},
     "output_type": "execute_result"
    }
   ],
   "source": [
    "df_2 = df.loc[:, [\"VIC_SEX\", \"VIC_AGE_GROUP\"]]\n",
    "df_2 = df_2.dropna()\n",
    "df_2.head()"
   ]
  },
  {
   "cell_type": "code",
   "execution_count": 6,
   "metadata": {},
   "outputs": [
    {
     "data": {
      "text/html": [
       "<div>\n",
       "<style scoped>\n",
       "    .dataframe tbody tr th:only-of-type {\n",
       "        vertical-align: middle;\n",
       "    }\n",
       "\n",
       "    .dataframe tbody tr th {\n",
       "        vertical-align: top;\n",
       "    }\n",
       "\n",
       "    .dataframe thead th {\n",
       "        text-align: right;\n",
       "    }\n",
       "</style>\n",
       "<table border=\"1\" class=\"dataframe\">\n",
       "  <thead>\n",
       "    <tr style=\"text-align: right;\">\n",
       "      <th></th>\n",
       "      <th>VIC_RACE</th>\n",
       "      <th>BORO_NM</th>\n",
       "    </tr>\n",
       "  </thead>\n",
       "  <tbody>\n",
       "    <tr>\n",
       "      <th>0</th>\n",
       "      <td>WHITE</td>\n",
       "      <td>MANHATTAN</td>\n",
       "    </tr>\n",
       "    <tr>\n",
       "      <th>1</th>\n",
       "      <td>WHITE HISPANIC</td>\n",
       "      <td>BRONX</td>\n",
       "    </tr>\n",
       "    <tr>\n",
       "      <th>2</th>\n",
       "      <td>WHITE HISPANIC</td>\n",
       "      <td>BRONX</td>\n",
       "    </tr>\n",
       "    <tr>\n",
       "      <th>4</th>\n",
       "      <td>ASIAN / PACIFIC ISLANDER</td>\n",
       "      <td>STATEN ISLAND</td>\n",
       "    </tr>\n",
       "    <tr>\n",
       "      <th>5</th>\n",
       "      <td>WHITE HISPANIC</td>\n",
       "      <td>BRONX</td>\n",
       "    </tr>\n",
       "  </tbody>\n",
       "</table>\n",
       "</div>"
      ],
      "text/plain": [
       "                   VIC_RACE        BORO_NM\n",
       "0                     WHITE      MANHATTAN\n",
       "1            WHITE HISPANIC          BRONX\n",
       "2            WHITE HISPANIC          BRONX\n",
       "4  ASIAN / PACIFIC ISLANDER  STATEN ISLAND\n",
       "5            WHITE HISPANIC          BRONX"
      ]
     },
     "execution_count": 6,
     "metadata": {},
     "output_type": "execute_result"
    }
   ],
   "source": [
    "df_3 = df.loc[:, [\"VIC_RACE\", \"BORO_NM\"]]\n",
    "df_3 = df_3.dropna()\n",
    "df_3.head()"
   ]
  },
  {
   "cell_type": "code",
   "execution_count": null,
   "metadata": {},
   "outputs": [],
   "source": []
  },
  {
   "cell_type": "markdown",
   "metadata": {},
   "source": [
    "### 3.2. Data Exploration\n",
    "* Generate appropriate data visualizations for your key variables identified in the previous section\n",
    "* You should have at least three visualizations (and at least two different visualization types)\n",
    "* For each visualization provide an explanation regarding the variables involved and an interpretation of the graph.\n",
    "* If you are using Plotly, insert your visualizations as images as well (upload the graph images to an online source, e.g. github, and link those in Jupyter Notebook)\n"
   ]
  },
  {
   "cell_type": "code",
   "execution_count": 7,
   "metadata": {},
   "outputs": [],
   "source": [
    "import pandas as pd\n",
    "import matplotlib.pyplot as plt\n",
    "import descartes as dscrt\n",
    "import geopandas as gpd\n",
    "from shapely.geometry import Point, Polygon\n",
    "\n",
    "%matplotlib inline"
   ]
  },
  {
   "cell_type": "code",
   "execution_count": 8,
   "metadata": {},
   "outputs": [
    {
     "data": {
      "text/html": [
       "<div>\n",
       "<style scoped>\n",
       "    .dataframe tbody tr th:only-of-type {\n",
       "        vertical-align: middle;\n",
       "    }\n",
       "\n",
       "    .dataframe tbody tr th {\n",
       "        vertical-align: top;\n",
       "    }\n",
       "\n",
       "    .dataframe thead th {\n",
       "        text-align: right;\n",
       "    }\n",
       "</style>\n",
       "<table border=\"1\" class=\"dataframe\">\n",
       "  <thead>\n",
       "    <tr style=\"text-align: right;\">\n",
       "      <th></th>\n",
       "      <th>CMPLNT_NUM</th>\n",
       "      <th>CMPLNT_FR_DT</th>\n",
       "      <th>CMPLNT_FR_TM</th>\n",
       "      <th>CMPLNT_TO_DT</th>\n",
       "      <th>CMPLNT_TO_TM</th>\n",
       "      <th>ADDR_PCT_CD</th>\n",
       "      <th>RPT_DT</th>\n",
       "      <th>KY_CD</th>\n",
       "      <th>OFNS_DESC</th>\n",
       "      <th>PD_CD</th>\n",
       "      <th>...</th>\n",
       "      <th>SUSP_SEX</th>\n",
       "      <th>TRANSIT_DISTRICT</th>\n",
       "      <th>Latitude</th>\n",
       "      <th>Longitude</th>\n",
       "      <th>Lat_Lon</th>\n",
       "      <th>PATROL_BORO</th>\n",
       "      <th>STATION_NAME</th>\n",
       "      <th>VIC_AGE_GROUP</th>\n",
       "      <th>VIC_RACE</th>\n",
       "      <th>VIC_SEX</th>\n",
       "    </tr>\n",
       "  </thead>\n",
       "  <tbody>\n",
       "    <tr>\n",
       "      <th>0</th>\n",
       "      <td>571533282</td>\n",
       "      <td>12/31/2018</td>\n",
       "      <td>17:05:00</td>\n",
       "      <td>12/31/2018</td>\n",
       "      <td>17:15:00</td>\n",
       "      <td>10</td>\n",
       "      <td>12/31/2018</td>\n",
       "      <td>233</td>\n",
       "      <td>SEX CRIMES</td>\n",
       "      <td>175</td>\n",
       "      <td>...</td>\n",
       "      <td>M</td>\n",
       "      <td>NaN</td>\n",
       "      <td>40.742699</td>\n",
       "      <td>-73.998655</td>\n",
       "      <td>(40.742699299, -73.99865538)</td>\n",
       "      <td>PATROL BORO MAN SOUTH</td>\n",
       "      <td>NaN</td>\n",
       "      <td>&lt;18</td>\n",
       "      <td>WHITE</td>\n",
       "      <td>M</td>\n",
       "    </tr>\n",
       "    <tr>\n",
       "      <th>1</th>\n",
       "      <td>820453504</td>\n",
       "      <td>12/31/2018</td>\n",
       "      <td>15:35:00</td>\n",
       "      <td>12/31/2018</td>\n",
       "      <td>15:40:00</td>\n",
       "      <td>40</td>\n",
       "      <td>12/31/2018</td>\n",
       "      <td>233</td>\n",
       "      <td>SEX CRIMES</td>\n",
       "      <td>175</td>\n",
       "      <td>...</td>\n",
       "      <td>NaN</td>\n",
       "      <td>NaN</td>\n",
       "      <td>40.810396</td>\n",
       "      <td>-73.925311</td>\n",
       "      <td>(40.810396019, -73.925310745)</td>\n",
       "      <td>PATROL BORO BRONX</td>\n",
       "      <td>NaN</td>\n",
       "      <td>25-44</td>\n",
       "      <td>WHITE HISPANIC</td>\n",
       "      <td>F</td>\n",
       "    </tr>\n",
       "    <tr>\n",
       "      <th>2</th>\n",
       "      <td>113940766</td>\n",
       "      <td>12/31/2018</td>\n",
       "      <td>4:30:00</td>\n",
       "      <td>12/31/2018</td>\n",
       "      <td>4:50:00</td>\n",
       "      <td>49</td>\n",
       "      <td>12/31/2018</td>\n",
       "      <td>233</td>\n",
       "      <td>SEX CRIMES</td>\n",
       "      <td>175</td>\n",
       "      <td>...</td>\n",
       "      <td>M</td>\n",
       "      <td>NaN</td>\n",
       "      <td>40.856163</td>\n",
       "      <td>-73.844397</td>\n",
       "      <td>(40.856162957, -73.844397124)</td>\n",
       "      <td>PATROL BORO BRONX</td>\n",
       "      <td>NaN</td>\n",
       "      <td>18-24</td>\n",
       "      <td>WHITE HISPANIC</td>\n",
       "      <td>F</td>\n",
       "    </tr>\n",
       "    <tr>\n",
       "      <th>3</th>\n",
       "      <td>817554319</td>\n",
       "      <td>12/30/2018</td>\n",
       "      <td>3:30:00</td>\n",
       "      <td>12/30/2018</td>\n",
       "      <td>3:45:00</td>\n",
       "      <td>34</td>\n",
       "      <td>12/30/2018</td>\n",
       "      <td>233</td>\n",
       "      <td>SEX CRIMES</td>\n",
       "      <td>175</td>\n",
       "      <td>...</td>\n",
       "      <td>M</td>\n",
       "      <td>3.0</td>\n",
       "      <td>40.851488</td>\n",
       "      <td>-73.935458</td>\n",
       "      <td>(40.851487774, -73.935457967)</td>\n",
       "      <td>PATROL BORO MAN NORTH</td>\n",
       "      <td>207 ST.-INWOOD</td>\n",
       "      <td>25-44</td>\n",
       "      <td>UNKNOWN</td>\n",
       "      <td>M</td>\n",
       "    </tr>\n",
       "    <tr>\n",
       "      <th>4</th>\n",
       "      <td>726764710</td>\n",
       "      <td>12/30/2018</td>\n",
       "      <td>18:45:00</td>\n",
       "      <td>12/30/2018</td>\n",
       "      <td>19:00:00</td>\n",
       "      <td>120</td>\n",
       "      <td>12/30/2018</td>\n",
       "      <td>233</td>\n",
       "      <td>SEX CRIMES</td>\n",
       "      <td>175</td>\n",
       "      <td>...</td>\n",
       "      <td>NaN</td>\n",
       "      <td>NaN</td>\n",
       "      <td>40.644726</td>\n",
       "      <td>-74.077483</td>\n",
       "      <td>(40.644726131, -74.077483159)</td>\n",
       "      <td>PATROL BORO STATEN ISLAND</td>\n",
       "      <td>NaN</td>\n",
       "      <td>25-44</td>\n",
       "      <td>ASIAN / PACIFIC ISLANDER</td>\n",
       "      <td>F</td>\n",
       "    </tr>\n",
       "  </tbody>\n",
       "</table>\n",
       "<p>5 rows × 35 columns</p>\n",
       "</div>"
      ],
      "text/plain": [
       "   CMPLNT_NUM CMPLNT_FR_DT CMPLNT_FR_TM CMPLNT_TO_DT CMPLNT_TO_TM  \\\n",
       "0   571533282   12/31/2018     17:05:00   12/31/2018     17:15:00   \n",
       "1   820453504   12/31/2018     15:35:00   12/31/2018     15:40:00   \n",
       "2   113940766   12/31/2018      4:30:00   12/31/2018      4:50:00   \n",
       "3   817554319   12/30/2018      3:30:00   12/30/2018      3:45:00   \n",
       "4   726764710   12/30/2018     18:45:00   12/30/2018     19:00:00   \n",
       "\n",
       "   ADDR_PCT_CD      RPT_DT  KY_CD   OFNS_DESC  PD_CD  ... SUSP_SEX  \\\n",
       "0           10  12/31/2018    233  SEX CRIMES    175  ...        M   \n",
       "1           40  12/31/2018    233  SEX CRIMES    175  ...      NaN   \n",
       "2           49  12/31/2018    233  SEX CRIMES    175  ...        M   \n",
       "3           34  12/30/2018    233  SEX CRIMES    175  ...        M   \n",
       "4          120  12/30/2018    233  SEX CRIMES    175  ...      NaN   \n",
       "\n",
       "  TRANSIT_DISTRICT   Latitude  Longitude                        Lat_Lon  \\\n",
       "0              NaN  40.742699 -73.998655   (40.742699299, -73.99865538)   \n",
       "1              NaN  40.810396 -73.925311  (40.810396019, -73.925310745)   \n",
       "2              NaN  40.856163 -73.844397  (40.856162957, -73.844397124)   \n",
       "3              3.0  40.851488 -73.935458  (40.851487774, -73.935457967)   \n",
       "4              NaN  40.644726 -74.077483  (40.644726131, -74.077483159)   \n",
       "\n",
       "                 PATROL_BORO    STATION_NAME  VIC_AGE_GROUP  \\\n",
       "0      PATROL BORO MAN SOUTH             NaN            <18   \n",
       "1          PATROL BORO BRONX             NaN          25-44   \n",
       "2          PATROL BORO BRONX             NaN          18-24   \n",
       "3      PATROL BORO MAN NORTH  207 ST.-INWOOD          25-44   \n",
       "4  PATROL BORO STATEN ISLAND             NaN          25-44   \n",
       "\n",
       "                   VIC_RACE VIC_SEX  \n",
       "0                     WHITE       M  \n",
       "1            WHITE HISPANIC       F  \n",
       "2            WHITE HISPANIC       F  \n",
       "3                   UNKNOWN       M  \n",
       "4  ASIAN / PACIFIC ISLANDER       F  \n",
       "\n",
       "[5 rows x 35 columns]"
      ]
     },
     "execution_count": 8,
     "metadata": {},
     "output_type": "execute_result"
    }
   ],
   "source": [
    "dfv = pd.read_csv(\"Sexual_Assault_Data.csv\")\n",
    "dfv.head()"
   ]
  },
  {
   "cell_type": "code",
   "execution_count": 10,
   "metadata": {},
   "outputs": [],
   "source": [
    "lats = dfv[\"Latitude\"]\n",
    "lons = dfv[\"Longitude\"]"
   ]
  },
  {
   "cell_type": "code",
   "execution_count": 11,
   "metadata": {},
   "outputs": [],
   "source": [
    "import geopandas as gpd\n",
    "from shapely.geometry import Point, Polygon\n",
    "import matplotlib.pyplot as plt\n",
    "\n",
    "street_map = gpd.read_file('Borough_Boundaries/geo_export_b3653097-105d-457d-9e40-588fe6f430dc.shp')"
   ]
  },
  {
   "cell_type": "code",
   "execution_count": 12,
   "metadata": {},
   "outputs": [],
   "source": [
    "crs = {'init':'espc:4326'}\n",
    "\n",
    "geometry = [Point(xy) for xy in zip(dfv[\"Longitude\"], dfv[\"Latitude\"])]\n",
    "\n",
    "geo_df = gpd.GeoDataFrame(dfv,\n",
    " crs = crs,\n",
    " geometry = geometry)"
   ]
  },
  {
   "cell_type": "code",
   "execution_count": 13,
   "metadata": {},
   "outputs": [
    {
     "data": {
      "text/html": [
       "<div>\n",
       "<style scoped>\n",
       "    .dataframe tbody tr th:only-of-type {\n",
       "        vertical-align: middle;\n",
       "    }\n",
       "\n",
       "    .dataframe tbody tr th {\n",
       "        vertical-align: top;\n",
       "    }\n",
       "\n",
       "    .dataframe thead th {\n",
       "        text-align: right;\n",
       "    }\n",
       "</style>\n",
       "<table border=\"1\" class=\"dataframe\">\n",
       "  <thead>\n",
       "    <tr style=\"text-align: right;\">\n",
       "      <th></th>\n",
       "      <th>CMPLNT_NUM</th>\n",
       "      <th>CMPLNT_FR_DT</th>\n",
       "      <th>CMPLNT_FR_TM</th>\n",
       "      <th>CMPLNT_TO_DT</th>\n",
       "      <th>CMPLNT_TO_TM</th>\n",
       "      <th>ADDR_PCT_CD</th>\n",
       "      <th>RPT_DT</th>\n",
       "      <th>KY_CD</th>\n",
       "      <th>OFNS_DESC</th>\n",
       "      <th>PD_CD</th>\n",
       "      <th>...</th>\n",
       "      <th>TRANSIT_DISTRICT</th>\n",
       "      <th>Latitude</th>\n",
       "      <th>Longitude</th>\n",
       "      <th>Lat_Lon</th>\n",
       "      <th>PATROL_BORO</th>\n",
       "      <th>STATION_NAME</th>\n",
       "      <th>VIC_AGE_GROUP</th>\n",
       "      <th>VIC_RACE</th>\n",
       "      <th>VIC_SEX</th>\n",
       "      <th>geometry</th>\n",
       "    </tr>\n",
       "  </thead>\n",
       "  <tbody>\n",
       "    <tr>\n",
       "      <th>0</th>\n",
       "      <td>571533282</td>\n",
       "      <td>12/31/2018</td>\n",
       "      <td>17:05:00</td>\n",
       "      <td>12/31/2018</td>\n",
       "      <td>17:15:00</td>\n",
       "      <td>10</td>\n",
       "      <td>12/31/2018</td>\n",
       "      <td>233</td>\n",
       "      <td>SEX CRIMES</td>\n",
       "      <td>175</td>\n",
       "      <td>...</td>\n",
       "      <td>NaN</td>\n",
       "      <td>40.742699</td>\n",
       "      <td>-73.998655</td>\n",
       "      <td>(40.742699299, -73.99865538)</td>\n",
       "      <td>PATROL BORO MAN SOUTH</td>\n",
       "      <td>NaN</td>\n",
       "      <td>&lt;18</td>\n",
       "      <td>WHITE</td>\n",
       "      <td>M</td>\n",
       "      <td>POINT (-73.99866 40.74270)</td>\n",
       "    </tr>\n",
       "    <tr>\n",
       "      <th>1</th>\n",
       "      <td>820453504</td>\n",
       "      <td>12/31/2018</td>\n",
       "      <td>15:35:00</td>\n",
       "      <td>12/31/2018</td>\n",
       "      <td>15:40:00</td>\n",
       "      <td>40</td>\n",
       "      <td>12/31/2018</td>\n",
       "      <td>233</td>\n",
       "      <td>SEX CRIMES</td>\n",
       "      <td>175</td>\n",
       "      <td>...</td>\n",
       "      <td>NaN</td>\n",
       "      <td>40.810396</td>\n",
       "      <td>-73.925311</td>\n",
       "      <td>(40.810396019, -73.925310745)</td>\n",
       "      <td>PATROL BORO BRONX</td>\n",
       "      <td>NaN</td>\n",
       "      <td>25-44</td>\n",
       "      <td>WHITE HISPANIC</td>\n",
       "      <td>F</td>\n",
       "      <td>POINT (-73.92531 40.81040)</td>\n",
       "    </tr>\n",
       "    <tr>\n",
       "      <th>2</th>\n",
       "      <td>113940766</td>\n",
       "      <td>12/31/2018</td>\n",
       "      <td>4:30:00</td>\n",
       "      <td>12/31/2018</td>\n",
       "      <td>4:50:00</td>\n",
       "      <td>49</td>\n",
       "      <td>12/31/2018</td>\n",
       "      <td>233</td>\n",
       "      <td>SEX CRIMES</td>\n",
       "      <td>175</td>\n",
       "      <td>...</td>\n",
       "      <td>NaN</td>\n",
       "      <td>40.856163</td>\n",
       "      <td>-73.844397</td>\n",
       "      <td>(40.856162957, -73.844397124)</td>\n",
       "      <td>PATROL BORO BRONX</td>\n",
       "      <td>NaN</td>\n",
       "      <td>18-24</td>\n",
       "      <td>WHITE HISPANIC</td>\n",
       "      <td>F</td>\n",
       "      <td>POINT (-73.84440 40.85616)</td>\n",
       "    </tr>\n",
       "    <tr>\n",
       "      <th>3</th>\n",
       "      <td>817554319</td>\n",
       "      <td>12/30/2018</td>\n",
       "      <td>3:30:00</td>\n",
       "      <td>12/30/2018</td>\n",
       "      <td>3:45:00</td>\n",
       "      <td>34</td>\n",
       "      <td>12/30/2018</td>\n",
       "      <td>233</td>\n",
       "      <td>SEX CRIMES</td>\n",
       "      <td>175</td>\n",
       "      <td>...</td>\n",
       "      <td>3.0</td>\n",
       "      <td>40.851488</td>\n",
       "      <td>-73.935458</td>\n",
       "      <td>(40.851487774, -73.935457967)</td>\n",
       "      <td>PATROL BORO MAN NORTH</td>\n",
       "      <td>207 ST.-INWOOD</td>\n",
       "      <td>25-44</td>\n",
       "      <td>UNKNOWN</td>\n",
       "      <td>M</td>\n",
       "      <td>POINT (-73.93546 40.85149)</td>\n",
       "    </tr>\n",
       "    <tr>\n",
       "      <th>4</th>\n",
       "      <td>726764710</td>\n",
       "      <td>12/30/2018</td>\n",
       "      <td>18:45:00</td>\n",
       "      <td>12/30/2018</td>\n",
       "      <td>19:00:00</td>\n",
       "      <td>120</td>\n",
       "      <td>12/30/2018</td>\n",
       "      <td>233</td>\n",
       "      <td>SEX CRIMES</td>\n",
       "      <td>175</td>\n",
       "      <td>...</td>\n",
       "      <td>NaN</td>\n",
       "      <td>40.644726</td>\n",
       "      <td>-74.077483</td>\n",
       "      <td>(40.644726131, -74.077483159)</td>\n",
       "      <td>PATROL BORO STATEN ISLAND</td>\n",
       "      <td>NaN</td>\n",
       "      <td>25-44</td>\n",
       "      <td>ASIAN / PACIFIC ISLANDER</td>\n",
       "      <td>F</td>\n",
       "      <td>POINT (-74.07748 40.64473)</td>\n",
       "    </tr>\n",
       "  </tbody>\n",
       "</table>\n",
       "<p>5 rows × 36 columns</p>\n",
       "</div>"
      ],
      "text/plain": [
       "   CMPLNT_NUM CMPLNT_FR_DT CMPLNT_FR_TM CMPLNT_TO_DT CMPLNT_TO_TM  \\\n",
       "0   571533282   12/31/2018     17:05:00   12/31/2018     17:15:00   \n",
       "1   820453504   12/31/2018     15:35:00   12/31/2018     15:40:00   \n",
       "2   113940766   12/31/2018      4:30:00   12/31/2018      4:50:00   \n",
       "3   817554319   12/30/2018      3:30:00   12/30/2018      3:45:00   \n",
       "4   726764710   12/30/2018     18:45:00   12/30/2018     19:00:00   \n",
       "\n",
       "   ADDR_PCT_CD      RPT_DT  KY_CD   OFNS_DESC  PD_CD  ... TRANSIT_DISTRICT  \\\n",
       "0           10  12/31/2018    233  SEX CRIMES    175  ...              NaN   \n",
       "1           40  12/31/2018    233  SEX CRIMES    175  ...              NaN   \n",
       "2           49  12/31/2018    233  SEX CRIMES    175  ...              NaN   \n",
       "3           34  12/30/2018    233  SEX CRIMES    175  ...              3.0   \n",
       "4          120  12/30/2018    233  SEX CRIMES    175  ...              NaN   \n",
       "\n",
       "    Latitude  Longitude                        Lat_Lon  \\\n",
       "0  40.742699 -73.998655   (40.742699299, -73.99865538)   \n",
       "1  40.810396 -73.925311  (40.810396019, -73.925310745)   \n",
       "2  40.856163 -73.844397  (40.856162957, -73.844397124)   \n",
       "3  40.851488 -73.935458  (40.851487774, -73.935457967)   \n",
       "4  40.644726 -74.077483  (40.644726131, -74.077483159)   \n",
       "\n",
       "                 PATROL_BORO    STATION_NAME VIC_AGE_GROUP  \\\n",
       "0      PATROL BORO MAN SOUTH             NaN           <18   \n",
       "1          PATROL BORO BRONX             NaN         25-44   \n",
       "2          PATROL BORO BRONX             NaN         18-24   \n",
       "3      PATROL BORO MAN NORTH  207 ST.-INWOOD         25-44   \n",
       "4  PATROL BORO STATEN ISLAND             NaN         25-44   \n",
       "\n",
       "                   VIC_RACE VIC_SEX                    geometry  \n",
       "0                     WHITE       M  POINT (-73.99866 40.74270)  \n",
       "1            WHITE HISPANIC       F  POINT (-73.92531 40.81040)  \n",
       "2            WHITE HISPANIC       F  POINT (-73.84440 40.85616)  \n",
       "3                   UNKNOWN       M  POINT (-73.93546 40.85149)  \n",
       "4  ASIAN / PACIFIC ISLANDER       F  POINT (-74.07748 40.64473)  \n",
       "\n",
       "[5 rows x 36 columns]"
      ]
     },
     "execution_count": 13,
     "metadata": {},
     "output_type": "execute_result"
    }
   ],
   "source": [
    "geo_df.head()"
   ]
  },
  {
   "cell_type": "code",
   "execution_count": 14,
   "metadata": {},
   "outputs": [
    {
     "data": {
      "application/javascript": [
       "IPython.OutputArea.prototype._should_scroll = function(lines) {\n",
       "    return false;\n",
       "}\n"
      ],
      "text/plain": [
       "<IPython.core.display.Javascript object>"
      ]
     },
     "metadata": {},
     "output_type": "display_data"
    }
   ],
   "source": [
    "%%javascript\n",
    "IPython.OutputArea.prototype._should_scroll = function(lines) {\n",
    "    return false;\n",
    "}"
   ]
  },
  {
   "cell_type": "code",
   "execution_count": 15,
   "metadata": {},
   "outputs": [
    {
     "data": {
      "image/png": "[encoded data removed]",
      "text/plain": [
       "<Figure size 1080x1080 with 1 Axes>"
      ]
     },
     "metadata": {
      "needs_background": "light"
     },
     "output_type": "display_data"
    }
   ],
   "source": [
    "consize = 15\n",
    "fig, ax = plt.subplots(figsize=(consize,consize))\n",
    "\n",
    "street_map.plot(ax=ax, alpha=0.25, color='grey')\n",
    "\n",
    "\n",
    "column=\"VIC_AGE_GROUP\"\n",
    "geo_df.plot(column, ax=ax,alpha=0.25, legend=True, markersize=consize*6)\n",
    "#plt.legend(fontsize=10)\n",
    "#plt.legend(loc=\"upper left\")\n",
    "\n",
    "plt.title(str(column)+\" in NYC\", fontsize=consize*0.75, fontweight='bold')\n",
    "\n",
    "#plt.xlim(-74.02,-73.925)\n",
    "#plt.ylim( 40.7,40.8)\n",
    "\n",
    "plt.show()"
   ]
  },
  {
   "cell_type": "code",
   "execution_count": 16,
   "metadata": {},
   "outputs": [],
   "source": [
    "import matplotlib.pyplot as plt\n",
    "import numpy as np\n",
    "\n",
    "%matplotlib inline"
   ]
  },
  {
   "cell_type": "code",
   "execution_count": 17,
   "metadata": {},
   "outputs": [
    {
     "data": {
      "text/plain": [
       "Text(0.5, 1.0, 'Sexual Assault Freq in NYC')"
      ]
     },
     "execution_count": 17,
     "metadata": {},
     "output_type": "execute_result"
    },
    {
     "data": {
      "image/png": "[encoded data removed]",
      "text/plain": [
       "<Figure size 432x288 with 1 Axes>"
      ]
     },
     "metadata": {
      "needs_background": "light"
     },
     "output_type": "display_data"
    }
   ],
   "source": [
    "import matplotlib.pyplot as plt\n",
    "import seaborn as sns\n",
    "\n",
    "dfcount = df[\"BORO_NM\"].value_counts()\n",
    "graph = sns.barplot(x=dfcount.keys(), y=list(dfcount))\n",
    "plt.title(\"Sexual Assault Freq in NYC\")\n"
   ]
  },
  {
   "cell_type": "code",
   "execution_count": 18,
   "metadata": {},
   "outputs": [
    {
     "data": {
      "image/png": "[encoded data removed]",
      "text/plain": [
       "<Figure size 432x288 with 1 Axes>"
      ]
     },
     "metadata": {
      "needs_background": "light"
     },
     "output_type": "display_data"
    }
   ],
   "source": [
    "# Borough population visualization\n",
    "pop = {\"Manhattan\": 1664727, \"Brooklyn\": 2648771, \"Queens\": 2358582, \"Bronx\": 1471160, \"Staten Island\": 479458}\n",
    "population = pd.Series(pop)\n",
    "graph_pop = sns.barplot(x=population.index, y=population)"
   ]
  },
  {
   "cell_type": "code",
   "execution_count": null,
   "metadata": {},
   "outputs": [],
   "source": []
  },
  {
   "cell_type": "markdown",
   "metadata": {},
   "source": [
    "### 3.3. Model Construction\n",
    "* If you proposed hypotheses, conduct your hypothesis tests\n",
    "* For your machine learning question(s), split data into training, validation, and testing sets (or use cross-validation)\n",
    "* Apply machine learning algorithms (apply at least three algorithms)\n",
    "* Train your algorithms"
   ]
  },
  {
   "cell_type": "code",
   "execution_count": 19,
   "metadata": {},
   "outputs": [],
   "source": [
    "import numpy as np\n",
    "from sklearn.preprocessing import OneHotEncoder\n",
    "from sklearn.preprocessing import binarize\n",
    "from numpy import array\n",
    "from sklearn.neighbors import KNeighborsClassifier\n",
    "from sklearn.model_selection import KFold\n",
    "from sklearn.model_selection import cross_val_score\n",
    "from sklearn.preprocessing import LabelEncoder"
   ]
  },
  {
   "cell_type": "code",
   "execution_count": 20,
   "metadata": {},
   "outputs": [
    {
     "name": "stdout",
     "output_type": "stream",
     "text": [
      "---------------------------------\n",
      "CHI-SQUARED TESTS FOR INDEPENDENCE\n",
      "---------------------------------\n",
      "\n",
      "Contingency Table :\n",
      "-------------------\n",
      "\n",
      "VIC_AGE_GROUP   18-24  25-44  45-64  65+   <18   All\n",
      "SUSP_AGE_GROUP                                      \n",
      "18-24             187    158     27    4   286   662\n",
      "25-44             495    904    159   13   404  1975\n",
      "45-64             174    362    144   19   200   899\n",
      "65+                21     46     29    8    39   143\n",
      "<18                26     48      6    0   526   606\n",
      "All               903   1518    365   44  1455  4285\n",
      "\n",
      "\n",
      "Degree of Freedom\n",
      "---------------\n",
      "25\n",
      "\n",
      "\n",
      "Chi2 Stat\n",
      "-----------\n",
      "1183.8563194252574\n",
      "\n",
      "\n",
      "P-Value\n",
      "-------\n",
      "0.00\n",
      "\n",
      "\n",
      "Alpha\n",
      "-------\n",
      "0.05\n",
      "\n",
      "\n"
     ]
    },
    {
     "ename": "AttributeError",
     "evalue": "'function' object has no attribute 'ppf'",
     "output_type": "error",
     "traceback": [
      "\u001b[1;31m---------------------------------------------------------------------------\u001b[0m",
      "\u001b[1;31mAttributeError\u001b[0m                            Traceback (most recent call last)",
      "\u001b[1;32m<ipython-input-20-c52d90687dea>\u001b[0m in \u001b[0;36m<module>\u001b[1;34m\u001b[0m\n\u001b[0;32m     36\u001b[0m \u001b[0mprint\u001b[0m\u001b[1;33m(\u001b[0m\u001b[1;34m\"\\n\"\u001b[0m\u001b[1;33m)\u001b[0m\u001b[1;33m\u001b[0m\u001b[1;33m\u001b[0m\u001b[0m\n\u001b[0;32m     37\u001b[0m \u001b[1;33m\u001b[0m\u001b[0m\n\u001b[1;32m---> 38\u001b[1;33m \u001b[0mcritical_value\u001b[0m \u001b[1;33m=\u001b[0m \u001b[0mchi2\u001b[0m\u001b[1;33m.\u001b[0m\u001b[0mppf\u001b[0m\u001b[1;33m(\u001b[0m\u001b[1;36m1\u001b[0m \u001b[1;33m-\u001b[0m \u001b[0malpha\u001b[0m\u001b[1;33m,\u001b[0m \u001b[0mdof\u001b[0m\u001b[1;33m)\u001b[0m\u001b[1;33m\u001b[0m\u001b[1;33m\u001b[0m\u001b[0m\n\u001b[0m\u001b[0;32m     39\u001b[0m \u001b[1;33m\u001b[0m\u001b[0m\n\u001b[0;32m     40\u001b[0m \u001b[0mprint\u001b[0m\u001b[1;33m(\u001b[0m\u001b[1;34m\"Critical Value\"\u001b[0m\u001b[1;33m)\u001b[0m\u001b[1;33m\u001b[0m\u001b[1;33m\u001b[0m\u001b[0m\n",
      "\u001b[1;31mAttributeError\u001b[0m: 'function' object has no attribute 'ppf'"
     ]
    }
   ],
   "source": [
    "from scipy import stats\n",
    "from sklearn.feature_selection import chi2\n",
    "print(\"---------------------------------\")\n",
    "print(\"CHI-SQUARED TESTS FOR INDEPENDENCE\")\n",
    "print(\"---------------------------------\\n\")\n",
    "\n",
    "contingency_table = pd.crosstab(df_1[\"SUSP_AGE_GROUP\"],df_1[\"VIC_AGE_GROUP\"], margins = True)\n",
    "\n",
    "print('Contingency Table :')\n",
    "print(\"-------------------\\n\")\n",
    "print(contingency_table)\n",
    "\n",
    "print('\\n')\n",
    "\n",
    "stat, p, dof, expected = stats.chi2_contingency(contingency_table)\n",
    "  \n",
    "print(\"Degree of Freedom\")\n",
    "print(\"---------------\")\n",
    "print(dof)\n",
    "print(\"\\n\")\n",
    "\n",
    "print(\"Chi2 Stat\")\n",
    "print(\"-----------\")\n",
    "print(stat)\n",
    "print(\"\\n\")\n",
    "\n",
    "print(\"P-Value\")\n",
    "print(\"-------\")\n",
    "print(format(p, '.2f'))\n",
    "print(\"\\n\")\n",
    "\n",
    "alpha = 0.05\n",
    "print(\"Alpha\")\n",
    "print(\"-------\")\n",
    "print(alpha)\n",
    "print(\"\\n\")\n",
    "\n",
    "critical_value = chi2.ppf(1 - alpha, dof)\n",
    "\n",
    "print(\"Critical Value\")\n",
    "print(\"---------------\")\n",
    "print(critical_value)\n",
    "print(\"\\n\")\n",
    "\n",
    "\n",
    "if stat >= critical_value:\n",
    "    print(\"Chi2 Stats >= Critical Value\\n--> Reject H0, there is a relationship between 2 categorical variables\")\n",
    "else:\n",
    "    print(\"Chi2 Stats < Critical Value\\n--> Retain H1, there is no relationship between 2 categorical variables\")\n",
    "\n",
    "print(\"\\n\")\n",
    "    \n",
    "if p <= alpha:\n",
    "    print(\"p-value <= alpha\\n--> Reject H0, there is a relationship between 2 categorical variables\")\n",
    "else:\n",
    "    print(\"p-value < alpha\\n--> Retain H1, there is no relationship between 2 categorical variables\")"
   ]
  },
  {
   "cell_type": "code",
   "execution_count": 21,
   "metadata": {},
   "outputs": [
    {
     "name": "stdout",
     "output_type": "stream",
     "text": [
      "---------------------------------\n",
      "CHI-SQUARED TESTS FOR INDEPENDENCE\n",
      "---------------------------------\n",
      "\n",
      "Contingency Table :\n",
      "-------------------\n",
      "\n",
      "VIC_AGE_GROUP  18-24  25-44  45-64  65+   <18   All\n",
      "VIC_SEX                                            \n",
      "F               1572   2714    638   95  2567  7586\n",
      "M                 94    205     74   10   277   660\n",
      "All             1666   2919    712  105  2844  8246\n",
      "\n",
      "\n",
      "Degree of Freedom\n",
      "---------------\n",
      "10\n",
      "\n",
      "\n",
      "Chi2 Stat\n",
      "-----------\n",
      "33.92260693057275\n",
      "\n",
      "\n",
      "P-Value\n",
      "-------\n",
      "0.00\n",
      "\n",
      "\n",
      "Alpha\n",
      "-------\n",
      "0.05\n",
      "\n",
      "\n"
     ]
    },
    {
     "ename": "AttributeError",
     "evalue": "'function' object has no attribute 'ppf'",
     "output_type": "error",
     "traceback": [
      "\u001b[1;31m---------------------------------------------------------------------------\u001b[0m",
      "\u001b[1;31mAttributeError\u001b[0m                            Traceback (most recent call last)",
      "\u001b[1;32m<ipython-input-21-0cd2336a1cd0>\u001b[0m in \u001b[0;36m<module>\u001b[1;34m\u001b[0m\n\u001b[0;32m     35\u001b[0m \u001b[0mprint\u001b[0m\u001b[1;33m(\u001b[0m\u001b[1;34m\"\\n\"\u001b[0m\u001b[1;33m)\u001b[0m\u001b[1;33m\u001b[0m\u001b[1;33m\u001b[0m\u001b[0m\n\u001b[0;32m     36\u001b[0m \u001b[1;33m\u001b[0m\u001b[0m\n\u001b[1;32m---> 37\u001b[1;33m \u001b[0mcritical_value\u001b[0m \u001b[1;33m=\u001b[0m \u001b[0mchi2\u001b[0m\u001b[1;33m.\u001b[0m\u001b[0mppf\u001b[0m\u001b[1;33m(\u001b[0m\u001b[1;36m1\u001b[0m \u001b[1;33m-\u001b[0m \u001b[0malpha\u001b[0m\u001b[1;33m,\u001b[0m \u001b[0mdof\u001b[0m\u001b[1;33m)\u001b[0m\u001b[1;33m\u001b[0m\u001b[1;33m\u001b[0m\u001b[0m\n\u001b[0m\u001b[0;32m     38\u001b[0m \u001b[1;33m\u001b[0m\u001b[0m\n\u001b[0;32m     39\u001b[0m \u001b[0mprint\u001b[0m\u001b[1;33m(\u001b[0m\u001b[1;34m\"Critical Value\"\u001b[0m\u001b[1;33m)\u001b[0m\u001b[1;33m\u001b[0m\u001b[1;33m\u001b[0m\u001b[0m\n",
      "\u001b[1;31mAttributeError\u001b[0m: 'function' object has no attribute 'ppf'"
     ]
    }
   ],
   "source": [
    "from scipy import stats\n",
    "print(\"---------------------------------\")\n",
    "print(\"CHI-SQUARED TESTS FOR INDEPENDENCE\")\n",
    "print(\"---------------------------------\\n\")\n",
    "\n",
    "contingency_table = pd.crosstab(df_2[\"VIC_SEX\"],df_2[\"VIC_AGE_GROUP\"], margins = True)\n",
    "\n",
    "print('Contingency Table :')\n",
    "print(\"-------------------\\n\")\n",
    "print(contingency_table)\n",
    "\n",
    "print('\\n')\n",
    "\n",
    "stat, p, dof, expected = stats.chi2_contingency(contingency_table)\n",
    "  \n",
    "print(\"Degree of Freedom\")\n",
    "print(\"---------------\")\n",
    "print(dof)\n",
    "print(\"\\n\")\n",
    "\n",
    "print(\"Chi2 Stat\")\n",
    "print(\"-----------\")\n",
    "print(stat)\n",
    "print(\"\\n\")\n",
    "\n",
    "print(\"P-Value\")\n",
    "print(\"-------\")\n",
    "print(format(p, '.2f'))\n",
    "print(\"\\n\")\n",
    "\n",
    "alpha = 0.05\n",
    "print(\"Alpha\")\n",
    "print(\"-------\")\n",
    "print(alpha)\n",
    "print(\"\\n\")\n",
    "\n",
    "critical_value = chi2.ppf(1 - alpha, dof)\n",
    "\n",
    "print(\"Critical Value\")\n",
    "print(\"---------------\")\n",
    "print(critical_value)\n",
    "print(\"\\n\")\n",
    "\n",
    "\n",
    "if stat >= critical_value:\n",
    "    print(\"Chi2 Stats >= Critical Value\\n--> Reject H0, there is a relationship between 2 categorical variables\")\n",
    "else:\n",
    "    print(\"Chi2 Stats < Critical Value\\n--> Retain H1, there is no relationship between 2 categorical variables\")\n",
    "\n",
    "print(\"\\n\")\n",
    "    \n",
    "if p <= alpha:\n",
    "    print(\"p-value <= alpha\\n--> Reject H0, there is a relationship between 2 categorical variables\")\n",
    "else:\n",
    "    print(\"p-value < alpha\\n--> Retain H1, there is no relationship between 2 categorical variables\")"
   ]
  },
  {
   "cell_type": "code",
   "execution_count": 22,
   "metadata": {},
   "outputs": [
    {
     "name": "stdout",
     "output_type": "stream",
     "text": [
      "---------------------------------\n",
      "CHI-SQUARED TESTS FOR INDEPENDENCE\n",
      "---------------------------------\n",
      "\n",
      "Contingency Table :\n",
      "-------------------\n",
      "\n",
      "BORO_NM                         BRONX  BROOKLYN  MANHATTAN  QUEENS  \\\n",
      "VIC_RACE                                                             \n",
      "AMERICAN INDIAN/ALASKAN NATIVE      3         8         11       5   \n",
      "ASIAN / PACIFIC ISLANDER           25       128        268     248   \n",
      "BLACK                             418       841        631     328   \n",
      "BLACK HISPANIC                    173        70        139      43   \n",
      "WHITE                              78       458       1069     246   \n",
      "WHITE HISPANIC                    577       420        600     598   \n",
      "All                              1274      1925       2718    1468   \n",
      "\n",
      "BORO_NM                         STATEN ISLAND   All  \n",
      "VIC_RACE                                             \n",
      "AMERICAN INDIAN/ALASKAN NATIVE              0    27  \n",
      "ASIAN / PACIFIC ISLANDER                    8   677  \n",
      "BLACK                                      65  2283  \n",
      "BLACK HISPANIC                              7   432  \n",
      "WHITE                                     115  1966  \n",
      "WHITE HISPANIC                             80  2275  \n",
      "All                                       275  7660  \n",
      "\n",
      "\n",
      "Degree of Freedom\n",
      "---------------\n",
      "30\n",
      "\n",
      "\n",
      "Chi2 Stat\n",
      "-----------\n",
      "1303.7941993595487\n",
      "\n",
      "\n",
      "P-Value\n",
      "-------\n",
      "0.00\n",
      "\n",
      "\n",
      "Alpha\n",
      "-------\n",
      "0.05\n",
      "\n",
      "\n"
     ]
    },
    {
     "ename": "AttributeError",
     "evalue": "'function' object has no attribute 'ppf'",
     "output_type": "error",
     "traceback": [
      "\u001b[1;31m---------------------------------------------------------------------------\u001b[0m",
      "\u001b[1;31mAttributeError\u001b[0m                            Traceback (most recent call last)",
      "\u001b[1;32m<ipython-input-22-f99eae95559b>\u001b[0m in \u001b[0;36m<module>\u001b[1;34m\u001b[0m\n\u001b[0;32m     35\u001b[0m \u001b[0mprint\u001b[0m\u001b[1;33m(\u001b[0m\u001b[1;34m\"\\n\"\u001b[0m\u001b[1;33m)\u001b[0m\u001b[1;33m\u001b[0m\u001b[1;33m\u001b[0m\u001b[0m\n\u001b[0;32m     36\u001b[0m \u001b[1;33m\u001b[0m\u001b[0m\n\u001b[1;32m---> 37\u001b[1;33m \u001b[0mcritical_value\u001b[0m \u001b[1;33m=\u001b[0m \u001b[0mchi2\u001b[0m\u001b[1;33m.\u001b[0m\u001b[0mppf\u001b[0m\u001b[1;33m(\u001b[0m\u001b[1;36m1\u001b[0m \u001b[1;33m-\u001b[0m \u001b[0malpha\u001b[0m\u001b[1;33m,\u001b[0m \u001b[0mdof\u001b[0m\u001b[1;33m)\u001b[0m\u001b[1;33m\u001b[0m\u001b[1;33m\u001b[0m\u001b[0m\n\u001b[0m\u001b[0;32m     38\u001b[0m \u001b[1;33m\u001b[0m\u001b[0m\n\u001b[0;32m     39\u001b[0m \u001b[0mprint\u001b[0m\u001b[1;33m(\u001b[0m\u001b[1;34m\"Critical Value\"\u001b[0m\u001b[1;33m)\u001b[0m\u001b[1;33m\u001b[0m\u001b[1;33m\u001b[0m\u001b[0m\n",
      "\u001b[1;31mAttributeError\u001b[0m: 'function' object has no attribute 'ppf'"
     ]
    }
   ],
   "source": [
    "from scipy import stats\n",
    "print(\"---------------------------------\")\n",
    "print(\"CHI-SQUARED TESTS FOR INDEPENDENCE\")\n",
    "print(\"---------------------------------\\n\")\n",
    "\n",
    "contingency_table = pd.crosstab(df_3[\"VIC_RACE\"],df_3[\"BORO_NM\"], margins = True)\n",
    "\n",
    "print('Contingency Table :')\n",
    "print(\"-------------------\\n\")\n",
    "print(contingency_table)\n",
    "\n",
    "print('\\n')\n",
    "\n",
    "stat, p, dof, expected = stats.chi2_contingency(contingency_table)\n",
    "  \n",
    "print(\"Degree of Freedom\")\n",
    "print(\"---------------\")\n",
    "print(dof)\n",
    "print(\"\\n\")\n",
    "\n",
    "print(\"Chi2 Stat\")\n",
    "print(\"-----------\")\n",
    "print(stat)\n",
    "print(\"\\n\")\n",
    "\n",
    "print(\"P-Value\")\n",
    "print(\"-------\")\n",
    "print(format(p, '.2f'))\n",
    "print(\"\\n\")\n",
    "\n",
    "alpha = 0.05\n",
    "print(\"Alpha\")\n",
    "print(\"-------\")\n",
    "print(alpha)\n",
    "print(\"\\n\")\n",
    "\n",
    "critical_value = chi2.ppf(1 - alpha, dof)\n",
    "\n",
    "print(\"Critical Value\")\n",
    "print(\"---------------\")\n",
    "print(critical_value)\n",
    "print(\"\\n\")\n",
    "\n",
    "\n",
    "if stat >= critical_value:\n",
    "    print(\"Chi2 Stats >= Critical Value\\n--> Reject H0, there is a relationship between 2 categorical variables\")\n",
    "else:\n",
    "    print(\"Chi2 Stats < Critical Value\\n--> Retain H1, there is no relationship between 2 categorical variables\")\n",
    " \n",
    "print(\"\\n\")\n",
    "    \n",
    "if p <= alpha:\n",
    "    print(\"p-value <= alpha\\n--> Reject H0, there is a relationship between 2 categorical variables\")\n",
    "else:\n",
    "    print(\"p-value < alpha\\n--> Retain H1, there is no relationship between 2 categorical variables\")"
   ]
  },
  {
   "cell_type": "code",
   "execution_count": 23,
   "metadata": {},
   "outputs": [
    {
     "name": "stdout",
     "output_type": "stream",
     "text": [
      "-----------------------\n",
      "CHI-SQUARED TESTS FOR INDEPENDANCE\n",
      "-----------------------\n",
      "\n"
     ]
    },
    {
     "ename": "KeyError",
     "evalue": "'VIC_SEX'",
     "output_type": "error",
     "traceback": [
      "\u001b[1;31m---------------------------------------------------------------------------\u001b[0m",
      "\u001b[1;31mKeyError\u001b[0m                                  Traceback (most recent call last)",
      "\u001b[1;32m~\\Anaconda3\\lib\\site-packages\\pandas\\core\\indexes\\base.py\u001b[0m in \u001b[0;36mget_loc\u001b[1;34m(self, key, method, tolerance)\u001b[0m\n\u001b[0;32m   2656\u001b[0m             \u001b[1;32mtry\u001b[0m\u001b[1;33m:\u001b[0m\u001b[1;33m\u001b[0m\u001b[1;33m\u001b[0m\u001b[0m\n\u001b[1;32m-> 2657\u001b[1;33m                 \u001b[1;32mreturn\u001b[0m \u001b[0mself\u001b[0m\u001b[1;33m.\u001b[0m\u001b[0m_engine\u001b[0m\u001b[1;33m.\u001b[0m\u001b[0mget_loc\u001b[0m\u001b[1;33m(\u001b[0m\u001b[0mkey\u001b[0m\u001b[1;33m)\u001b[0m\u001b[1;33m\u001b[0m\u001b[1;33m\u001b[0m\u001b[0m\n\u001b[0m\u001b[0;32m   2658\u001b[0m             \u001b[1;32mexcept\u001b[0m \u001b[0mKeyError\u001b[0m\u001b[1;33m:\u001b[0m\u001b[1;33m\u001b[0m\u001b[1;33m\u001b[0m\u001b[0m\n",
      "\u001b[1;32mpandas/_libs/index.pyx\u001b[0m in \u001b[0;36mpandas._libs.index.IndexEngine.get_loc\u001b[1;34m()\u001b[0m\n",
      "\u001b[1;32mpandas/_libs/index.pyx\u001b[0m in \u001b[0;36mpandas._libs.index.IndexEngine.get_loc\u001b[1;34m()\u001b[0m\n",
      "\u001b[1;32mpandas/_libs/hashtable_class_helper.pxi\u001b[0m in \u001b[0;36mpandas._libs.hashtable.PyObjectHashTable.get_item\u001b[1;34m()\u001b[0m\n",
      "\u001b[1;32mpandas/_libs/hashtable_class_helper.pxi\u001b[0m in \u001b[0;36mpandas._libs.hashtable.PyObjectHashTable.get_item\u001b[1;34m()\u001b[0m\n",
      "\u001b[1;31mKeyError\u001b[0m: 'VIC_SEX'",
      "\nDuring handling of the above exception, another exception occurred:\n",
      "\u001b[1;31mKeyError\u001b[0m                                  Traceback (most recent call last)",
      "\u001b[1;32m<ipython-input-23-dee75a311418>\u001b[0m in \u001b[0;36m<module>\u001b[1;34m\u001b[0m\n\u001b[0;32m      5\u001b[0m \u001b[0mprint\u001b[0m\u001b[1;33m(\u001b[0m\u001b[1;34m\"-----------------------\\n\"\u001b[0m\u001b[1;33m)\u001b[0m\u001b[1;33m\u001b[0m\u001b[1;33m\u001b[0m\u001b[0m\n\u001b[0;32m      6\u001b[0m \u001b[1;33m\u001b[0m\u001b[0m\n\u001b[1;32m----> 7\u001b[1;33m \u001b[0mcontingency_table\u001b[0m \u001b[1;33m=\u001b[0m \u001b[0mpd\u001b[0m\u001b[1;33m.\u001b[0m\u001b[0mcrosstab\u001b[0m\u001b[1;33m(\u001b[0m\u001b[0mdf_1\u001b[0m\u001b[1;33m[\u001b[0m\u001b[1;34m\"VIC_SEX\"\u001b[0m\u001b[1;33m]\u001b[0m\u001b[1;33m,\u001b[0m\u001b[0mdf_1\u001b[0m\u001b[1;33m[\u001b[0m\u001b[1;34m\"VIC_AGE_GROUP\"\u001b[0m\u001b[1;33m]\u001b[0m\u001b[1;33m)\u001b[0m\u001b[1;33m\u001b[0m\u001b[1;33m\u001b[0m\u001b[0m\n\u001b[0m\u001b[0;32m      8\u001b[0m \u001b[1;33m\u001b[0m\u001b[0m\n\u001b[0;32m      9\u001b[0m \u001b[0mprint\u001b[0m\u001b[1;33m(\u001b[0m\u001b[1;34m'Contingency Table : \\n'\u001b[0m\u001b[1;33m,\u001b[0m \u001b[0mcontingency_table\u001b[0m\u001b[1;33m)\u001b[0m\u001b[1;33m\u001b[0m\u001b[1;33m\u001b[0m\u001b[0m\n",
      "\u001b[1;32m~\\Anaconda3\\lib\\site-packages\\pandas\\core\\frame.py\u001b[0m in \u001b[0;36m__getitem__\u001b[1;34m(self, key)\u001b[0m\n\u001b[0;32m   2925\u001b[0m             \u001b[1;32mif\u001b[0m \u001b[0mself\u001b[0m\u001b[1;33m.\u001b[0m\u001b[0mcolumns\u001b[0m\u001b[1;33m.\u001b[0m\u001b[0mnlevels\u001b[0m \u001b[1;33m>\u001b[0m \u001b[1;36m1\u001b[0m\u001b[1;33m:\u001b[0m\u001b[1;33m\u001b[0m\u001b[1;33m\u001b[0m\u001b[0m\n\u001b[0;32m   2926\u001b[0m                 \u001b[1;32mreturn\u001b[0m \u001b[0mself\u001b[0m\u001b[1;33m.\u001b[0m\u001b[0m_getitem_multilevel\u001b[0m\u001b[1;33m(\u001b[0m\u001b[0mkey\u001b[0m\u001b[1;33m)\u001b[0m\u001b[1;33m\u001b[0m\u001b[1;33m\u001b[0m\u001b[0m\n\u001b[1;32m-> 2927\u001b[1;33m             \u001b[0mindexer\u001b[0m \u001b[1;33m=\u001b[0m \u001b[0mself\u001b[0m\u001b[1;33m.\u001b[0m\u001b[0mcolumns\u001b[0m\u001b[1;33m.\u001b[0m\u001b[0mget_loc\u001b[0m\u001b[1;33m(\u001b[0m\u001b[0mkey\u001b[0m\u001b[1;33m)\u001b[0m\u001b[1;33m\u001b[0m\u001b[1;33m\u001b[0m\u001b[0m\n\u001b[0m\u001b[0;32m   2928\u001b[0m             \u001b[1;32mif\u001b[0m \u001b[0mis_integer\u001b[0m\u001b[1;33m(\u001b[0m\u001b[0mindexer\u001b[0m\u001b[1;33m)\u001b[0m\u001b[1;33m:\u001b[0m\u001b[1;33m\u001b[0m\u001b[1;33m\u001b[0m\u001b[0m\n\u001b[0;32m   2929\u001b[0m                 \u001b[0mindexer\u001b[0m \u001b[1;33m=\u001b[0m \u001b[1;33m[\u001b[0m\u001b[0mindexer\u001b[0m\u001b[1;33m]\u001b[0m\u001b[1;33m\u001b[0m\u001b[1;33m\u001b[0m\u001b[0m\n",
      "\u001b[1;32m~\\Anaconda3\\lib\\site-packages\\pandas\\core\\indexes\\base.py\u001b[0m in \u001b[0;36mget_loc\u001b[1;34m(self, key, method, tolerance)\u001b[0m\n\u001b[0;32m   2657\u001b[0m                 \u001b[1;32mreturn\u001b[0m \u001b[0mself\u001b[0m\u001b[1;33m.\u001b[0m\u001b[0m_engine\u001b[0m\u001b[1;33m.\u001b[0m\u001b[0mget_loc\u001b[0m\u001b[1;33m(\u001b[0m\u001b[0mkey\u001b[0m\u001b[1;33m)\u001b[0m\u001b[1;33m\u001b[0m\u001b[1;33m\u001b[0m\u001b[0m\n\u001b[0;32m   2658\u001b[0m             \u001b[1;32mexcept\u001b[0m \u001b[0mKeyError\u001b[0m\u001b[1;33m:\u001b[0m\u001b[1;33m\u001b[0m\u001b[1;33m\u001b[0m\u001b[0m\n\u001b[1;32m-> 2659\u001b[1;33m                 \u001b[1;32mreturn\u001b[0m \u001b[0mself\u001b[0m\u001b[1;33m.\u001b[0m\u001b[0m_engine\u001b[0m\u001b[1;33m.\u001b[0m\u001b[0mget_loc\u001b[0m\u001b[1;33m(\u001b[0m\u001b[0mself\u001b[0m\u001b[1;33m.\u001b[0m\u001b[0m_maybe_cast_indexer\u001b[0m\u001b[1;33m(\u001b[0m\u001b[0mkey\u001b[0m\u001b[1;33m)\u001b[0m\u001b[1;33m)\u001b[0m\u001b[1;33m\u001b[0m\u001b[1;33m\u001b[0m\u001b[0m\n\u001b[0m\u001b[0;32m   2660\u001b[0m         \u001b[0mindexer\u001b[0m \u001b[1;33m=\u001b[0m \u001b[0mself\u001b[0m\u001b[1;33m.\u001b[0m\u001b[0mget_indexer\u001b[0m\u001b[1;33m(\u001b[0m\u001b[1;33m[\u001b[0m\u001b[0mkey\u001b[0m\u001b[1;33m]\u001b[0m\u001b[1;33m,\u001b[0m \u001b[0mmethod\u001b[0m\u001b[1;33m=\u001b[0m\u001b[0mmethod\u001b[0m\u001b[1;33m,\u001b[0m \u001b[0mtolerance\u001b[0m\u001b[1;33m=\u001b[0m\u001b[0mtolerance\u001b[0m\u001b[1;33m)\u001b[0m\u001b[1;33m\u001b[0m\u001b[1;33m\u001b[0m\u001b[0m\n\u001b[0;32m   2661\u001b[0m         \u001b[1;32mif\u001b[0m \u001b[0mindexer\u001b[0m\u001b[1;33m.\u001b[0m\u001b[0mndim\u001b[0m \u001b[1;33m>\u001b[0m \u001b[1;36m1\u001b[0m \u001b[1;32mor\u001b[0m \u001b[0mindexer\u001b[0m\u001b[1;33m.\u001b[0m\u001b[0msize\u001b[0m \u001b[1;33m>\u001b[0m \u001b[1;36m1\u001b[0m\u001b[1;33m:\u001b[0m\u001b[1;33m\u001b[0m\u001b[1;33m\u001b[0m\u001b[0m\n",
      "\u001b[1;32mpandas/_libs/index.pyx\u001b[0m in \u001b[0;36mpandas._libs.index.IndexEngine.get_loc\u001b[1;34m()\u001b[0m\n",
      "\u001b[1;32mpandas/_libs/index.pyx\u001b[0m in \u001b[0;36mpandas._libs.index.IndexEngine.get_loc\u001b[1;34m()\u001b[0m\n",
      "\u001b[1;32mpandas/_libs/hashtable_class_helper.pxi\u001b[0m in \u001b[0;36mpandas._libs.hashtable.PyObjectHashTable.get_item\u001b[1;34m()\u001b[0m\n",
      "\u001b[1;32mpandas/_libs/hashtable_class_helper.pxi\u001b[0m in \u001b[0;36mpandas._libs.hashtable.PyObjectHashTable.get_item\u001b[1;34m()\u001b[0m\n",
      "\u001b[1;31mKeyError\u001b[0m: 'VIC_SEX'"
     ]
    }
   ],
   "source": [
    "from scipy import stats\n",
    "\n",
    "print(\"-----------------------\")\n",
    "print(\"CHI-SQUARED TESTS FOR INDEPENDANCE\")\n",
    "print(\"-----------------------\\n\")\n",
    "        \n",
    "contingency_table = pd.crosstab(df_1[\"VIC_SEX\"],df_1[\"VIC_AGE_GROUP\"])\n",
    "\n",
    "print('Contingency Table : \\n', contingency_table)\n",
    "\n",
    "#Observed Values\n",
    "Observed_Values = contingency_table.values \n",
    "print(\"Observed Values : \\n\", Observed_Values)\n",
    "\n",
    "b = stats.chi2_contingency(contingency_table)\n",
    "Expected_Values = b[3]\n",
    "print(\"Expected Values : \\n\", Expected_Values)\n",
    "\n",
    "no_of_rows=len(contingency_table.iloc[0:,0])\n",
    "no_of_columns=len(contingency_table.iloc[0,0:])\n",
    "\n",
    "ddof = (no_of_rows-1) * (no_of_columns-1)\n",
    "print(\"Degree of Freedom: \",ddof)\n",
    "\n",
    "alpha = 0.05\n",
    "from scipy.stats import chi2\n",
    "chi_square=sum([(o-e)**2./e for o,e in zip(Observed_Values,Expected_Values)])\n",
    "chi_square_statistic=chi_square[0]+chi_square[1]\n",
    "print(\"chi-square statistic: \",chi_square_statistic)\n",
    "critical_value=chi2.ppf(q=1-alpha,df=ddof)\n",
    "print('critical_value: ',critical_value)\n",
    "#p-value\n",
    "p_value=1-chi2.cdf(x=chi_square_statistic,df=ddof)\n",
    "print('p-value: ',p_value)\n",
    "print('Significance level: ',alpha)\n",
    "print('Degree of Freedom: ',ddof)\n",
    "print('chi-square statistic: ',chi_square_statistic)\n",
    "print('critical_value: ',critical_value)\n",
    "print('p-value: ',p_value)\n",
    "\n",
    "if chi_square_statistic >= critical_value:\n",
    "    print(\"Reject H0,There is a relationship between 2 categorical variables\")\n",
    "else:\n",
    "    print(\"Retain H0,There is no relationship between 2 categorical variables\")\n",
    "    \n",
    "if p_value<=alpha:\n",
    "    print(\"Reject H0,There is a relationship between 2 categorical variables\")\n",
    "else:\n",
    "    print(\"Retain H0,There is no relationship between 2 categorical variables\")"
   ]
  },
  {
   "cell_type": "code",
   "execution_count": null,
   "metadata": {},
   "outputs": [],
   "source": []
  },
  {
   "cell_type": "code",
   "execution_count": 24,
   "metadata": {},
   "outputs": [],
   "source": [
    "df_boro = df[\"BORO_NM\"]\n",
    "df_law = df[\"CRM_ATPT_CPTD_CD\"]\n",
    "df_susp_age = df[\"SUSP_AGE_GROUP\"]\n",
    "df_vic_age = df[\"VIC_AGE_GROUP\"]\n",
    "df_vic_race = df[\"VIC_RACE\"]\n",
    "df_vic_sex = df[\"VIC_SEX\"]\n",
    "df_target = df[\"PREM_TYP_DESC\"]\n",
    "\n",
    "df_4 = pd.concat([df_law, df_boro,df_susp_age, df_vic_age, df_vic_race, df_vic_sex, df_target], axis = 1)"
   ]
  },
  {
   "cell_type": "code",
   "execution_count": 25,
   "metadata": {},
   "outputs": [],
   "source": [
    "dfx = df_4.replace(\"RESIDENCE - APT. HOUSE\", \"RESIDENCE\")\n",
    "dfx = dfx.replace(\"RESIDENCE-HOUSE\", \"RESIDENCE\")\n",
    "\n",
    "dfx1 = dfx[dfx['PREM_TYP_DESC'] == (\"RESIDENCE\")]\n",
    "dfx2 = dfx[dfx['PREM_TYP_DESC'] == (\"STREET\")]\n",
    "dfx3 = dfx[dfx['PREM_TYP_DESC'] == (\"TRANSIT - NYC SUBWAY\")]\n",
    "dfx4 = dfx[dfx['PREM_TYP_DESC'] == (\"RESIDENCE - PUBLIC HOUSING\")]\n",
    "dfx5 = dfx[dfx['PREM_TYP_DESC'] == (\"PUBLIC SCHOOL\")]\n",
    "dfx6 = dfx[dfx['PREM_TYP_DESC'] == (\"BAR/NIGHT CLUB\")]\n",
    "\n",
    "dfx = dfx1.append(dfx2)\n",
    "dfx = dfx.append(dfx3)\n",
    "dfx = dfx.append(dfx4)\n",
    "dfx = dfx.append(dfx5)\n",
    "dfx = dfx.append(dfx6)\n",
    "\n",
    "dfx = dfx.dropna()"
   ]
  },
  {
   "cell_type": "code",
   "execution_count": 26,
   "metadata": {},
   "outputs": [],
   "source": [
    "from sklearn.preprocessing import LabelEncoder, OneHotEncoder\n",
    "features = dfx.drop(\"PREM_TYP_DESC\", axis = 1)\n",
    "le = LabelEncoder()\n",
    "encoder = OneHotEncoder(sparse = False)\n",
    "encoded_df = encoder.fit_transform(features)"
   ]
  },
  {
   "cell_type": "code",
   "execution_count": 27,
   "metadata": {},
   "outputs": [],
   "source": [
    "features_df = pd.DataFrame(encoded_df, columns = encoder.get_feature_names())\n",
    "\n",
    "le = LabelEncoder()\n",
    "\n",
    "target = le.fit_transform(dfx[\"PREM_TYP_DESC\"])"
   ]
  },
  {
   "cell_type": "code",
   "execution_count": null,
   "metadata": {},
   "outputs": [],
   "source": []
  },
  {
   "cell_type": "code",
   "execution_count": null,
   "metadata": {},
   "outputs": [],
   "source": []
  },
  {
   "cell_type": "code",
   "execution_count": null,
   "metadata": {},
   "outputs": [],
   "source": []
  },
  {
   "cell_type": "markdown",
   "metadata": {},
   "source": [
    "### 3.4. Model Evaluation\n",
    "* Evaluate the performance of your algorithms on appropriate evaluation metrics, using your validation set\n",
    "* Interpret your results from multiple models (and hypothesis tests, if any)"
   ]
  },
  {
   "cell_type": "code",
   "execution_count": 28,
   "metadata": {},
   "outputs": [
    {
     "name": "stdout",
     "output_type": "stream",
     "text": [
      "Prediction accuracy on the test data: 39.80%\n"
     ]
    }
   ],
   "source": [
    "from sklearn.model_selection import train_test_split\n",
    "from sklearn.neighbors import KNeighborsClassifier\n",
    "\n",
    "X_train, X_test, y_train, y_test = train_test_split(features_df, target, random_state=3000)\n",
    "\n",
    "knn = KNeighborsClassifier()\n",
    "\n",
    "knn.fit(X=X_train, y=y_train)\n",
    "\n",
    "predicted = knn.predict(X=X_test)\n",
    "\n",
    "expected = y_test\n",
    "\n",
    "accuracy = knn.score(X_test, y_test)\n",
    "print(\"Prediction accuracy on the test data:\", f\"{accuracy:.2%}\")"
   ]
  },
  {
   "cell_type": "code",
   "execution_count": 29,
   "metadata": {},
   "outputs": [
    {
     "name": "stdout",
     "output_type": "stream",
     "text": [
      "Prediction accuracy on the test data: 51.06%\n"
     ]
    }
   ],
   "source": [
    "from sklearn.model_selection import train_test_split\n",
    "from sklearn.svm import SVC\n",
    "\n",
    "\n",
    "#split data into training and testing sets\n",
    "X_train, X_test, y_train, y_test = train_test_split(features_df, target, random_state=3000)\n",
    "\n",
    "#select a classifier\n",
    "clf = SVC(gamma=\"scale\")\n",
    "\n",
    "#create the model by fitting the training data\n",
    "clf.fit(X=X_train, y=y_train)\n",
    "\n",
    "#make predictions on the test set\n",
    "predicted = clf.predict(X=X_test)\n",
    "\n",
    "expected = y_test\n",
    "\n",
    "#prediction accuracy\n",
    "accuracy = clf.score(X_test, y_test)\n",
    "print(\"Prediction accuracy on the test data:\", f\"{accuracy:.2%}\")"
   ]
  },
  {
   "cell_type": "code",
   "execution_count": 30,
   "metadata": {},
   "outputs": [
    {
     "name": "stdout",
     "output_type": "stream",
     "text": [
      "Prediction accuracy on the test data: 12.77%\n"
     ]
    }
   ],
   "source": [
    "from sklearn.model_selection import train_test_split\n",
    "from sklearn.naive_bayes import GaussianNB\n",
    "\n",
    "\n",
    "#split data into training and testing sets\n",
    "X_train, X_test, y_train, y_test = train_test_split(features_df, target, random_state=3000)\n",
    "\n",
    "#select a classifier and create the model by fitting the training data\n",
    "gnb = GaussianNB().fit(X=X_train, y=y_train)\n",
    "\n",
    "#make predictions on the test set\n",
    "predicted = gnb.predict(X=X_test)\n",
    "\n",
    "#prediction accuracy\n",
    "accuracy = gnb.score(X_test, y_test)\n",
    "print(\"Prediction accuracy on the test data:\", f\"{accuracy:.2%}\")"
   ]
  },
  {
   "cell_type": "code",
   "execution_count": 31,
   "metadata": {},
   "outputs": [
    {
     "name": "stdout",
     "output_type": "stream",
     "text": [
      "Prediction accuracy on the test data: 47.43%\n"
     ]
    }
   ],
   "source": [
    "from sklearn.tree import DecisionTreeClassifier\n",
    "from sklearn.model_selection import train_test_split\n",
    "\n",
    "\n",
    "#split data into training and testing sets\n",
    "X_train, X_test, y_train, y_test = train_test_split(features_df, target, random_state=3000)\n",
    "\n",
    "#select a classifier and create the model by fitting the training data\n",
    "model = DecisionTreeClassifier().fit(X=X_train, y=y_train)\n",
    "\n",
    "#make predictions on the test set\n",
    "predicted = model.predict(X=X_test)\n",
    "\n",
    "#prediction accuracy\n",
    "accuracy = model.score(X_test, y_test)\n",
    "print(\"Prediction accuracy on the test data:\", f\"{accuracy:.2%}\")"
   ]
  },
  {
   "cell_type": "markdown",
   "metadata": {},
   "source": [
    "### 3.5. Model Optimization\n",
    "* Tune your models using appropriate hyperparameters\n",
    "* Explain why you are doing this (e.g., to avoid overfitting, etc.)"
   ]
  },
  {
   "cell_type": "code",
   "execution_count": 37,
   "metadata": {},
   "outputs": [],
   "source": [
    "param_grid = {\"n_neighbors\":[1, 5, 10], \"metric\": [\"euclidean\", \"manhattan\", \"minkowski\"]}"
   ]
  },
  {
   "cell_type": "code",
   "execution_count": 38,
   "metadata": {},
   "outputs": [
    {
     "name": "stdout",
     "output_type": "stream",
     "text": [
      "Best parameters:  {'metric': 'euclidean', 'n_neighbors': 10}\n",
      "Training set score with best parameters: 0.49687108886107634\n",
      "Test set score with best parameters 0.47058823529411764\n"
     ]
    }
   ],
   "source": [
    "from sklearn.model_selection import GridSearchCV\n",
    "#Grid search code\n",
    "grid_search = GridSearchCV(KNeighborsClassifier(), param_grid, cv=5)\n",
    "grid_search.fit(X=X_train, y=y_train)\n",
    "print(\"Best parameters: \", grid_search.best_params_)\n",
    "print(\"Training set score with best parameters:\", grid_search.score(X_train, y_train))\n",
    "print(\"Test set score with best parameters\", grid_search.score(X_test, y_test))"
   ]
  },
  {
   "cell_type": "code",
   "execution_count": 49,
   "metadata": {},
   "outputs": [],
   "source": []
  },
  {
   "cell_type": "code",
   "execution_count": 60,
   "metadata": {},
   "outputs": [
    {
     "name": "stdout",
     "output_type": "stream",
     "text": [
      "Best parameters:  {'C': 1, 'gamma': 0.1}\n",
      "Training set score with best parameters: 0.48727576136837714\n",
      "Test set score with best parameters 0.5018773466833542\n"
     ]
    }
   ],
   "source": [
    "param_grid = {\"C\": [0.01, 0.1, 1, 10.0], \"gamma\": [0.001, 0.01, 0.1, 1]}\n",
    "from sklearn.model_selection import GridSearchCV\n",
    "from sklearn import svm\n",
    "from sklearn.feature_selection import RFE\n",
    "\n",
    "#Grid search code\n",
    "grid_search = GridSearchCV(svm.SVC(), param_grid, cv=5)\n",
    "grid_search.fit(X=X_train, y=y_train)\n",
    "print(\"Best parameters: \", grid_search.best_params_)\n",
    "print(\"Training set score with best parameters:\", grid_search.score(X_train, y_train))\n",
    "print(\"Test set score with best parameters\", grid_search.score(X_test, y_test))"
   ]
  },
  {
   "cell_type": "code",
   "execution_count": null,
   "metadata": {},
   "outputs": [],
   "source": []
  },
  {
   "cell_type": "markdown",
   "metadata": {},
   "source": [
    "### 3.6. Model Testing\n",
    "* Test your tuned algorithms using your testing set"
   ]
  },
  {
   "cell_type": "markdown",
   "metadata": {},
   "source": [
    "<a id=\"4\"></a>\n",
    "<hr style=\"height:2px; border:none; color:black; background-color:black;\">"
   ]
  },
  {
   "cell_type": "markdown",
   "metadata": {},
   "source": [
    "## 4. DISCUSSION\n",
    "* Provide a summary of the steps you took to analyze your data and test your predictive model <br>\n",
    "We selected a group of features and a target variable from the dataset and used OneHotEncoder to make the values numerical before creating a testing and a training dataset. We then imputed these data sets into machine learning algorithms used for classification detailed below.\n",
    "* Intepret your findings from 3.4., 3.5, and 3.6\n",
    "    * Which algorithms did you compare? <br>\n",
    "    We compared the accuracy of the following algorithm: Nearest Neighbors (39.8%), Decision Tree (47.56%), Naive-Bayes (12.77%) and Support Vector Machine (51.06%). \n",
    "    * Which algorithm(s) revealed best performance? <br>\n",
    "    Of these, Support Vector Machine revealed the best performance with 51.06% accuracy. \n",
    "    * Which algorithm(s) should be used for your predictive model? <br>\n",
    "    As such, the Support Vector Machine should be used. Indeed, the large size of the dataset and the large amount of 0's (sparsing) makes it so that SVM is the best algorithm."
   ]
  },
  {
   "cell_type": "markdown",
   "metadata": {},
   "source": [
    "* If you tested hypotheses, interpret the results. What does it mean to have significant/non-significant differences with regards to your data?\n",
    "\n",
    "\n",
    "* End this section with a conclusion paragraph containing some pointers for future work \n",
    "    *(e.g., get more data, perform another analysis, etc.)"
   ]
  },
  {
   "cell_type": "markdown",
   "metadata": {},
   "source": [
    "<a id=\"5\"></a>\n",
    "<hr style=\"height:2px; border:none; color:black; background-color:black;\">"
   ]
  },
  {
   "cell_type": "markdown",
   "metadata": {},
   "source": [
    "### CONTRIBUTIONS\n",
    "* Describe each team member's contributions to the report (who did what in each section)\n",
    "* Remember this is a team effort!\n",
    "* Each member of your team will provide peer evaluation of other team members. Your final grade on the project will be based on those peer evaluations. "
   ]
  }
 ],
 "metadata": {
  "kernelspec": {
   "display_name": "Python 3",
   "language": "python",
   "name": "python3"
  },
  "language_info": {
   "codemirror_mode": {
    "name": "ipython",
    "version": 3
   },
   "file_extension": ".py",
   "mimetype": "text/x-python",
   "name": "python",
   "nbconvert_exporter": "python",
   "pygments_lexer": "ipython3",
   "version": "3.7.3"
  }
 },
 "nbformat": 4,
 "nbformat_minor": 2
}

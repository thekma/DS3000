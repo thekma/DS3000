{
 "cells": [
  {
   "cell_type": "markdown",
   "metadata": {},
   "source": [
    "<center> <h2> DS 3000 - Fall 2019</h2> </center>\n",
    "<center> <h3> DS Report </h3> </center>\n"
   ]
  },
  {
   "cell_type": "markdown",
   "metadata": {},
   "source": [
    "<center> <h1>Reported Sexual Assault in NYC</h1> </center>\n",
    "<center><h4>Daniel McCusker Alvarez, Ken Ma, Yasmine Ghannam </h4></center>\n"
   ]
  },
  {
   "cell_type": "markdown",
   "metadata": {},
   "source": [
    "  "
   ]
  },
  {
   "cell_type": "markdown",
   "metadata": {},
   "source": [
    "<hr style=\"height:2px; border:none; color:black; background-color:black;\">"
   ]
  },
  {
   "cell_type": "markdown",
   "metadata": {},
   "source": [
    "#### Executive Summary:\n",
    "\n",
    "This topic covers reported sexual assault, which is a problem in society that we need to gather more information on. We wanted to look for correlations and relationships between different variables in crime reporting for this very relevant topic.\n",
    "\n",
    "The data was gathered by New York City authorities and is limited in that it represents only reported assault, and not actual assault rates. In this project, we used classification in order to predict a certain variable about the suspect. In addition, when making predictions about a suspect’s characteristics, we have to bear in mind the fact that we are using historical data and would use it only to aid in apprehending a suspect bearing in mind that the algorithm can be erroneous."
   ]
  },
  {
   "cell_type": "markdown",
   "metadata": {},
   "source": [
    "<hr style=\"height:2px; border:none; color:black; background-color:black;\">"
   ]
  },
  {
   "cell_type": "markdown",
   "metadata": {},
   "source": [
    "## Outline\n",
    "1. <a href='#1'>INTRODUCTION</a>\n",
    "2. <a href='#2'>METHOD</a>\n",
    "3. <a href='#3'>RESULTS</a>\n",
    "4. <a href='#4'>DISCUSSION</a>"
   ]
  },
  {
   "cell_type": "markdown",
   "metadata": {},
   "source": [
    "<a id=\"1\"></a>\n",
    "<hr style=\"height:2px; border:none; color:black; background-color:black;\">"
   ]
  },
  {
   "cell_type": "markdown",
   "metadata": {},
   "source": [
    "## 1. INTRODUCTION"
   ]
  },
  {
   "cell_type": "markdown",
   "metadata": {},
   "source": [
    "&emsp;&emsp;&emsp;We would like to tackle the issue of sexual assault accross cities by looking at reported sexual assault data to see if we can find any correlation between different reported variables and possibly predict/fill out missing data about suspects in reports to help with investigations. We chose New York City, because of the availability of data and its large population.\n",
    "\n",
    "&emsp;&emsp;&emsp;We are analyzing crime reporting data in order to better understand the the data behind assault rates and if there is any correlation between different categorical variables found in reports, such as age, race, and sex of both the victim and suspect. We want to see if through reported data we can find/deduce through machine learning other missing data from a report of a victim, and use that in investigations, as well as future studies.\n",
    "\n",
    "### Significance of the Problem\n",
    "\n",
    "&emsp;&emsp;&emsp;According to Rape, Abuse & Incest National Network, every 73 seconds in America, someone is sexually assaulted. The significance of this problem is evident, and gathering and analyzing data to better understand this issue is crucial. If correlation between variables exist, further studies (possibly beyond data science) can be done to understand what creates those relationships and why. \n",
    "\n",
    "&emsp;&emsp;&emsp;The insights from the Machine Learning part of this project could also be used to predict/fill out missing data for incomplete reports and help with investigations. Moreover, if correlation between variables exist, further studies (possibly beyond data science) can be done to understand what creates those relationships and why.\n",
    "\n",
    "&emsp;&emsp;&emsp;The topic of sexual assault has been greatly studied in the fields of sociology and criminal justice as well as social justice. It is proven within the research around sexual assault that many cases of rape occur where the victim knows the perpetrator, whihc makes reporting the person more difficult because there is still a stigma attached to vicitms of sexual assault; this is especially the case in rural areas.\n",
    "\n",
    "<i>Greenfeld, L. A. (1997). Sex offenses and offenders: an analysis of data on rape and sexual assault: executive summary. Washington, DC: U.S. Dept. of Justice, Office of Justice Programs, Bureau of Justice Statistics. <br>\n",
    "Mcnair, L. D., & Neville, H. (1996). African American Women Survivors of Sexual Assault: Women & Therapy, 18(3-4), 107–118. doi: 10.1300/j015v18n03_10 <br>\n",
    "Lewis, S. H. (2003). Unspoken crimes: sexual assault in rural America. Enola, PA: NSVRC.</i>"
   ]
  },
  {
   "cell_type": "markdown",
   "metadata": {},
   "source": [
    "### Questions & Hypotheses\n",
    "\n",
    "Given the importance of this issue, we developed the following hypothesis/questions:<br>\n",
    "\n",
    "<i>General Question:</i> Are there correlations between different categorical variables such as borough, ethnicity, age and sex when it comes to reported sexual assault? <br>\n",
    "\n",
    "Since most of our data is categorical, for our hypothesis tests, we will be conducting chi-square test of independence, which compares two categorical variables and checks if they are interdependant or not: <br><br>\n",
    "<b>Hypothesis 1:</b> In the reported sexual assault crime data, a relationship exists between a suspect's age group and a victim's age group. <br>\n",
    "<b>Null Hypothesis 1:</b> Suspect's age group and victim's age group are independent. <br><br>\n",
    "<b>Hypothesis 2:</b> In the reported sexual assault crime data, a relationship exists between a victim's sex and a victim's age group.<br>\n",
    "<b>Null Hypothesis 1:</b> Victim's and victim's age group are independent. <br><br>\n",
    "<b>Hypothesis 3:</b> In the reported sexual assault crime data, a relationship exists between a victim's race and the borough of where the incidence occured . \n",
    "<b>Null Hypothesis 1:</b> Borough (Location) and victim's race are independent. <br><br>\n",
    "\n",
    "For our predictive model, we hope to answer and better understand the following questions: <br>\n",
    "<b>Question 1:</b> Can we predict a suspect's information (age group, race) based on other information in the report, if the suspect's identity is completely unknown? <br>\n",
    "<b>Question 2:</b> How accurate can our prediction be? <br>\n",
    "<b>Question 3:</b> Which classification machine learning algorithm is best to determine the suspect's information? <br>\n",
    "<b>Question 4:</b> Which feature variables should be used/ could help predict a suspect's information? <br>"
   ]
  },
  {
   "cell_type": "markdown",
   "metadata": {},
   "source": [
    "&emsp;&emsp;&emsp;In this project, we sought to analyze New York City Sexual Assault Crime Reports by performing Chi Square Test of Independance to look at the relationship between different variables in the report, and whether it is dependant or not. For our second part of the project, we plan to compare several supervised machine learning algorithms to classify information about suspects when they are missing in order to aid investigations and fill missing data in reports. "
   ]
  },
  {
   "cell_type": "markdown",
   "metadata": {},
   "source": [
    "<a id=\"2\"></a>\n",
    "<hr style=\"height:2px; border:none; color:black; background-color:black;\">"
   ]
  },
  {
   "cell_type": "markdown",
   "metadata": {},
   "source": [
    "## 2. METHOD"
   ]
  },
  {
   "cell_type": "markdown",
   "metadata": {},
   "source": [
    "### 2.1. Data Acquisition\n",
    "\n",
    "&emsp;&emsp;&emsp;The source of the data is from a government/city website that provides historic dataset(s) on NYPD Complaint [Data]. Either from a “.gov” domain or directly from The City of New York database itself. Our original dataset <b>NYPD_Complaint_Historic_DataDictionary.xlsx</b> contains all reported crime data from Y2016 to Y2018 in New York City. \n",
    "\n",
    "&emsp;&emsp;&emsp;From the historical dataset, there are many variables (columns) and records (rows), which makes it a big dataset to work with. Based on these assertions, the dataset comes from a reliable source, and gives more freedom and detail to create effective evaluations. The variables themselves are relevant to the ideas and hypothesis formed, so the nature of the data is useful and concrete in analysis.<br>\n",
    "\n",
    "&emsp;&emsp;&emsp;https://catalog.data.gov/dataset/nypd-complaint-data-historic<br>\n",
    "&emsp;&emsp;&emsp;https://data.cityofnewyork.us/Public-Safety/NYPD-Complaint-Data-Historic/qgea-i56i\n",
    "<br>\n",
    "\n",
    "&emsp;&emsp;&emsp;After making sure this is allowed for our project, we extracted only reported sexual assault data from the original crime dataset we have since it was very large to work with and the rest of the records were irrelevant to our topic. \n",
    "Our updated dataset is stored on GitHub under the following repository and is retrieved through GitHub, as seen in the below cell: <br>\n",
    "\n",
    "&emsp;&emsp;&emsp;GitHub link: https://github.ccs.neu.edu/ghannamy/DS3000.git\n",
    "<br>"
   ]
  },
  {
   "cell_type": "code",
   "execution_count": 225,
   "metadata": {},
   "outputs": [
    {
     "data": {
      "text/html": [
       "<div>\n",
       "<style scoped>\n",
       "    .dataframe tbody tr th:only-of-type {\n",
       "        vertical-align: middle;\n",
       "    }\n",
       "\n",
       "    .dataframe tbody tr th {\n",
       "        vertical-align: top;\n",
       "    }\n",
       "\n",
       "    .dataframe thead th {\n",
       "        text-align: right;\n",
       "    }\n",
       "</style>\n",
       "<table border=\"1\" class=\"dataframe\">\n",
       "  <thead>\n",
       "    <tr style=\"text-align: right;\">\n",
       "      <th></th>\n",
       "      <th>CMPLNT_NUM</th>\n",
       "      <th>CMPLNT_FR_DT</th>\n",
       "      <th>CMPLNT_FR_TM</th>\n",
       "      <th>CMPLNT_TO_DT</th>\n",
       "      <th>CMPLNT_TO_TM</th>\n",
       "      <th>ADDR_PCT_CD</th>\n",
       "      <th>RPT_DT</th>\n",
       "      <th>KY_CD</th>\n",
       "      <th>OFNS_DESC</th>\n",
       "      <th>PD_CD</th>\n",
       "      <th>...</th>\n",
       "      <th>SUSP_SEX</th>\n",
       "      <th>TRANSIT_DISTRICT</th>\n",
       "      <th>Latitude</th>\n",
       "      <th>Longitude</th>\n",
       "      <th>Lat_Lon</th>\n",
       "      <th>PATROL_BORO</th>\n",
       "      <th>STATION_NAME</th>\n",
       "      <th>VIC_AGE_GROUP</th>\n",
       "      <th>VIC_RACE</th>\n",
       "      <th>VIC_SEX</th>\n",
       "    </tr>\n",
       "  </thead>\n",
       "  <tbody>\n",
       "    <tr>\n",
       "      <td>0</td>\n",
       "      <td>571533282</td>\n",
       "      <td>12/31/18</td>\n",
       "      <td>17:05:00</td>\n",
       "      <td>12/31/18</td>\n",
       "      <td>17:15:00</td>\n",
       "      <td>10</td>\n",
       "      <td>12/31/18</td>\n",
       "      <td>233</td>\n",
       "      <td>SEX CRIMES</td>\n",
       "      <td>175</td>\n",
       "      <td>...</td>\n",
       "      <td>M</td>\n",
       "      <td>NaN</td>\n",
       "      <td>40.742699</td>\n",
       "      <td>-73.998655</td>\n",
       "      <td>(40.742699299, -73.99865538)</td>\n",
       "      <td>PATROL BORO MAN SOUTH</td>\n",
       "      <td>NaN</td>\n",
       "      <td>&lt;18</td>\n",
       "      <td>WHITE</td>\n",
       "      <td>M</td>\n",
       "    </tr>\n",
       "    <tr>\n",
       "      <td>1</td>\n",
       "      <td>820453504</td>\n",
       "      <td>12/31/18</td>\n",
       "      <td>15:35:00</td>\n",
       "      <td>12/31/18</td>\n",
       "      <td>15:40:00</td>\n",
       "      <td>40</td>\n",
       "      <td>12/31/18</td>\n",
       "      <td>233</td>\n",
       "      <td>SEX CRIMES</td>\n",
       "      <td>175</td>\n",
       "      <td>...</td>\n",
       "      <td>NaN</td>\n",
       "      <td>NaN</td>\n",
       "      <td>40.810396</td>\n",
       "      <td>-73.925311</td>\n",
       "      <td>(40.810396019, -73.925310745)</td>\n",
       "      <td>PATROL BORO BRONX</td>\n",
       "      <td>NaN</td>\n",
       "      <td>25-44</td>\n",
       "      <td>WHITE HISPANIC</td>\n",
       "      <td>F</td>\n",
       "    </tr>\n",
       "    <tr>\n",
       "      <td>2</td>\n",
       "      <td>113940766</td>\n",
       "      <td>12/31/18</td>\n",
       "      <td>4:30:00</td>\n",
       "      <td>12/31/18</td>\n",
       "      <td>4:50:00</td>\n",
       "      <td>49</td>\n",
       "      <td>12/31/18</td>\n",
       "      <td>233</td>\n",
       "      <td>SEX CRIMES</td>\n",
       "      <td>175</td>\n",
       "      <td>...</td>\n",
       "      <td>M</td>\n",
       "      <td>NaN</td>\n",
       "      <td>40.856163</td>\n",
       "      <td>-73.844397</td>\n",
       "      <td>(40.856162957, -73.844397124)</td>\n",
       "      <td>PATROL BORO BRONX</td>\n",
       "      <td>NaN</td>\n",
       "      <td>18-24</td>\n",
       "      <td>WHITE HISPANIC</td>\n",
       "      <td>F</td>\n",
       "    </tr>\n",
       "    <tr>\n",
       "      <td>3</td>\n",
       "      <td>817554319</td>\n",
       "      <td>12/30/18</td>\n",
       "      <td>3:30:00</td>\n",
       "      <td>12/30/18</td>\n",
       "      <td>3:45:00</td>\n",
       "      <td>34</td>\n",
       "      <td>12/30/18</td>\n",
       "      <td>233</td>\n",
       "      <td>SEX CRIMES</td>\n",
       "      <td>175</td>\n",
       "      <td>...</td>\n",
       "      <td>M</td>\n",
       "      <td>3.0</td>\n",
       "      <td>40.851488</td>\n",
       "      <td>-73.935458</td>\n",
       "      <td>(40.851487774, -73.935457967)</td>\n",
       "      <td>PATROL BORO MAN NORTH</td>\n",
       "      <td>207 ST.-INWOOD</td>\n",
       "      <td>25-44</td>\n",
       "      <td>UNKNOWN</td>\n",
       "      <td>M</td>\n",
       "    </tr>\n",
       "    <tr>\n",
       "      <td>4</td>\n",
       "      <td>726764710</td>\n",
       "      <td>12/30/18</td>\n",
       "      <td>18:45:00</td>\n",
       "      <td>12/30/18</td>\n",
       "      <td>19:00:00</td>\n",
       "      <td>120</td>\n",
       "      <td>12/30/18</td>\n",
       "      <td>233</td>\n",
       "      <td>SEX CRIMES</td>\n",
       "      <td>175</td>\n",
       "      <td>...</td>\n",
       "      <td>NaN</td>\n",
       "      <td>NaN</td>\n",
       "      <td>40.644726</td>\n",
       "      <td>-74.077483</td>\n",
       "      <td>(40.644726131, -74.077483159)</td>\n",
       "      <td>PATROL BORO STATEN ISLAND</td>\n",
       "      <td>NaN</td>\n",
       "      <td>25-44</td>\n",
       "      <td>ASIAN / PACIFIC ISLANDER</td>\n",
       "      <td>F</td>\n",
       "    </tr>\n",
       "  </tbody>\n",
       "</table>\n",
       "<p>5 rows × 35 columns</p>\n",
       "</div>"
      ],
      "text/plain": [
       "   CMPLNT_NUM CMPLNT_FR_DT CMPLNT_FR_TM CMPLNT_TO_DT CMPLNT_TO_TM  \\\n",
       "0   571533282     12/31/18     17:05:00     12/31/18     17:15:00   \n",
       "1   820453504     12/31/18     15:35:00     12/31/18     15:40:00   \n",
       "2   113940766     12/31/18      4:30:00     12/31/18      4:50:00   \n",
       "3   817554319     12/30/18      3:30:00     12/30/18      3:45:00   \n",
       "4   726764710     12/30/18     18:45:00     12/30/18     19:00:00   \n",
       "\n",
       "   ADDR_PCT_CD    RPT_DT  KY_CD   OFNS_DESC PD_CD  ... SUSP_SEX  \\\n",
       "0           10  12/31/18    233  SEX CRIMES   175  ...        M   \n",
       "1           40  12/31/18    233  SEX CRIMES   175  ...      NaN   \n",
       "2           49  12/31/18    233  SEX CRIMES   175  ...        M   \n",
       "3           34  12/30/18    233  SEX CRIMES   175  ...        M   \n",
       "4          120  12/30/18    233  SEX CRIMES   175  ...      NaN   \n",
       "\n",
       "  TRANSIT_DISTRICT   Latitude  Longitude                        Lat_Lon  \\\n",
       "0              NaN  40.742699 -73.998655   (40.742699299, -73.99865538)   \n",
       "1              NaN  40.810396 -73.925311  (40.810396019, -73.925310745)   \n",
       "2              NaN  40.856163 -73.844397  (40.856162957, -73.844397124)   \n",
       "3              3.0  40.851488 -73.935458  (40.851487774, -73.935457967)   \n",
       "4              NaN  40.644726 -74.077483  (40.644726131, -74.077483159)   \n",
       "\n",
       "                 PATROL_BORO    STATION_NAME  VIC_AGE_GROUP  \\\n",
       "0      PATROL BORO MAN SOUTH             NaN            <18   \n",
       "1          PATROL BORO BRONX             NaN          25-44   \n",
       "2          PATROL BORO BRONX             NaN          18-24   \n",
       "3      PATROL BORO MAN NORTH  207 ST.-INWOOD          25-44   \n",
       "4  PATROL BORO STATEN ISLAND             NaN          25-44   \n",
       "\n",
       "                   VIC_RACE VIC_SEX  \n",
       "0                     WHITE       M  \n",
       "1            WHITE HISPANIC       F  \n",
       "2            WHITE HISPANIC       F  \n",
       "3                   UNKNOWN       M  \n",
       "4  ASIAN / PACIFIC ISLANDER       F  \n",
       "\n",
       "[5 rows x 35 columns]"
      ]
     },
     "execution_count": 225,
     "metadata": {},
     "output_type": "execute_result"
    }
   ],
   "source": [
    "import pandas as pd\n",
    "url = 'https://raw.github.ccs.neu.edu/ghannamy/DS3000/master/Sexual_Assault_Data.csv?token=AAAAXM4CINN35TYVVPJ7Y6K57KLRW'\n",
    "df = pd.read_csv(url, error_bad_lines=False)\n",
    "df.head()"
   ]
  },
  {
   "cell_type": "markdown",
   "metadata": {},
   "source": [
    "The dataset above includes many columns, many of which we found irrelevant to our topic and goals; therefore as you will see in the Data Cleaning part of the project, we remove many of those columns and keep the ones listed below in the dataframe with a description of what each represents.\n",
    "\n",
    "Notice that all these variables are categorical, which explains why we choose to use Chi Square Test of Independance for our first part of the project and One Hot Encoder our second part."
   ]
  },
  {
   "cell_type": "code",
   "execution_count": 226,
   "metadata": {},
   "outputs": [
    {
     "data": {
      "text/html": [
       "<div>\n",
       "<style scoped>\n",
       "    .dataframe tbody tr th:only-of-type {\n",
       "        vertical-align: middle;\n",
       "    }\n",
       "\n",
       "    .dataframe tbody tr th {\n",
       "        vertical-align: top;\n",
       "    }\n",
       "\n",
       "    .dataframe thead th {\n",
       "        text-align: right;\n",
       "    }\n",
       "</style>\n",
       "<table border=\"1\" class=\"dataframe\">\n",
       "  <thead>\n",
       "    <tr style=\"text-align: right;\">\n",
       "      <th></th>\n",
       "      <th>Field Name</th>\n",
       "      <th>Description</th>\n",
       "    </tr>\n",
       "  </thead>\n",
       "  <tbody>\n",
       "    <tr>\n",
       "      <td>0</td>\n",
       "      <td>CRM_ATPT_CPTD_CD</td>\n",
       "      <td>Indicator of whether crime was successfully co...</td>\n",
       "    </tr>\n",
       "    <tr>\n",
       "      <td>1</td>\n",
       "      <td>BORO_NM</td>\n",
       "      <td>The name of the borough in which the incident ...</td>\n",
       "    </tr>\n",
       "    <tr>\n",
       "      <td>2</td>\n",
       "      <td>PREM_TYP_DESC</td>\n",
       "      <td>Description of Premises; residence, street, etc.</td>\n",
       "    </tr>\n",
       "    <tr>\n",
       "      <td>3</td>\n",
       "      <td>SUSP_AGE_GROUP</td>\n",
       "      <td>Suspect’s Age Group</td>\n",
       "    </tr>\n",
       "    <tr>\n",
       "      <td>4</td>\n",
       "      <td>SUSP_RACE</td>\n",
       "      <td>Suspect’s Race Description</td>\n",
       "    </tr>\n",
       "    <tr>\n",
       "      <td>5</td>\n",
       "      <td>SUSP_SEX</td>\n",
       "      <td>Suspect’s Sex Description</td>\n",
       "    </tr>\n",
       "    <tr>\n",
       "      <td>6</td>\n",
       "      <td>VIC_AGE_GROUP</td>\n",
       "      <td>Victim’s Age Group</td>\n",
       "    </tr>\n",
       "    <tr>\n",
       "      <td>7</td>\n",
       "      <td>VIC_RACE</td>\n",
       "      <td>Victim’s Race Description</td>\n",
       "    </tr>\n",
       "    <tr>\n",
       "      <td>8</td>\n",
       "      <td>VIC_SEX</td>\n",
       "      <td>Victim’s Sex Description</td>\n",
       "    </tr>\n",
       "  </tbody>\n",
       "</table>\n",
       "</div>"
      ],
      "text/plain": [
       "         Field Name                                        Description\n",
       "0  CRM_ATPT_CPTD_CD  Indicator of whether crime was successfully co...\n",
       "1           BORO_NM  The name of the borough in which the incident ...\n",
       "2     PREM_TYP_DESC   Description of Premises; residence, street, etc.\n",
       "3    SUSP_AGE_GROUP                                Suspect’s Age Group\n",
       "4         SUSP_RACE                         Suspect’s Race Description\n",
       "5          SUSP_SEX                          Suspect’s Sex Description\n",
       "6     VIC_AGE_GROUP                                 Victim’s Age Group\n",
       "7          VIC_RACE                          Victim’s Race Description\n",
       "8           VIC_SEX                           Victim’s Sex Description"
      ]
     },
     "execution_count": 226,
     "metadata": {},
     "output_type": "execute_result"
    }
   ],
   "source": [
    "data_desc = [['CRM_ATPT_CPTD_CD', \"Indicator of whether crime was successfully completed or attempted, but failed or was interrupted prematurely\"],\n",
    "             ['BORO_NM', \"The name of the borough in which the incident occurred\"],\n",
    "             ['PREM_TYP_DESC', \"Description of Premises; residence, street, etc.\"],\n",
    "             ['SUSP_AGE_GROUP', \"Suspect’s Age Group\"],\n",
    "             ['SUSP_RACE', \"Suspect’s Race Description\"],\n",
    "             ['SUSP_SEX', \"Suspect’s Sex Description\"],\n",
    "             ['VIC_AGE_GROUP', \"Victim’s Age Group\"],\n",
    "             ['VIC_RACE', \"Victim’s Race Description\"],\n",
    "             ['VIC_SEX', \"Victim’s Sex Description\"]] \n",
    "\n",
    "data_desc = pd.DataFrame(data_desc, columns = ['Field Name', 'Description']) \n",
    "   \n",
    "data_desc"
   ]
  },
  {
   "cell_type": "markdown",
   "metadata": {},
   "source": [
    "### 2.2. Variables\n",
    "\n",
    "#### Hypothesis Testing\n",
    "&emsp;&emsp;&emsp;For our 3 hypotheses, we use chi-square test of independance, because of the nature of our data (categorical variables). The chi-square test determines if there is a relationship between two categorical variables in the dataset. It is called a test of independence because if there is no relationship, it means  the variables are independent within this study. If there is a relationship between the two variables in the dataset, then they are dependent.\n",
    "\n",
    "Our two categorical variables are:\n",
    "* <b>Hypothesis 1:</b> Suspect Age Group & Victim Age Group. <br>\n",
    "* <b>Hypothesis 2:</b> Victim Sex & Victim Age Group <br>\n",
    "* <b>Hypothesis 3:</b> Borough (Location) & Victim Race <br>\n",
    "\n",
    "&emsp;&emsp;&emsp;We first choose to look at the possible existence of a correlation between suspect and victim age groups as we thought it was interesting to analyze that relationship between the variables if it exists. For example, a victim who is in a younger age group may be more likely to be assauled by someone is in an older age group or vice versa. Those assumptions could be made and studied in future projects if we are able to prove that the variables are interdependant. <br>\n",
    "\n",
    "&emsp;&emsp;&emsp;We then look at the relationship between the sex and the age group of victims to see if they are correlated. If this hypothesis is true, further questions can be asked about the relationship. One intersting questions that can be asked is: Do younger men report higher assault versus older men? Is that because younger men are more likely to be assaulted or because they are simply more likely to report the assault? <br>\n",
    "\n",
    "&emsp;&emsp;&emsp;Finally, we look at the 5 different boroughs in New York City and we check if a relationship exists between the sexual assault victim's race and the borough. If a relationship exists, further studies can be done to understand if certain races might be  more or less prone to assault in certain neighborhoods and why. \n",
    "\n",
    "&emsp;&emsp;&emsp;It is important to note that chi-square test of independance determines that there is a siginificant relationship between two categorical variables; however, it doesn't show you how the variables are associated. How the variables are associated (if they are) can be determined by looking at the cross tabulation created for each hypothesis. \n",
    "does not \n",
    "\n",
    "#### Predictive Model\n",
    "&emsp;&emsp;&emsp;For our predictive model, we will use the features described below to predict the suspect's age group, which will be our target. We imagine that based on the information about the victim, as well as where the crime was done (in terms of borough and premises), we can predict information about the suspect if we do not have any available. We chose to remove the suspect sex and race as features, in order to create a more realistic scenario, as we probably do not have data about the suspect's age group when we don't have data about the suspect at all. We were also interested in predicting the suspect race and sex based on those same features; however, due to the size of this project, we limited ourselves to suspect age group only. \n",
    "\n",
    "* <b>Features:</b> borough where crime was completed (BORO_NM), premesis (PREM_TYPE_DESC), ,victim age group (VIC_AGE_GROUP), victim sex (VIC_SEX), and victim race (VIC_RACE)\n",
    "* <b>Target:</b> suspect age group (SUSP_AGE_GROUP)"
   ]
  },
  {
   "cell_type": "markdown",
   "metadata": {},
   "source": [
    "### 2.3. Data Analysis\n",
    "\n",
    "&emsp;&emsp;&emsp;As mentioned above, we are going to predict the suspect's age group (SUSP_AGE_GROUP) based on the features in the variables sections. Our features are all categorical variables; therefore, we will use OneHotEncoding in order to turn them into binary values in a table that can be used to determine our target. Our target, SUSP_AGE_GROUP is a categorical variables with 6 different intervals <i>(<18, 18-24, 25-44, 45-64, 65+)</i>. <br> Therefore, our data analysis plan will be a supervised learning problem, where we use Classification to predict which age group the suspect of each reported sexual assault crime is classified in. \n",
    "\n",
    "&emsp;&emsp;&emsp;We are going to compare the <i>Nearest Neighbor</i> algorithm's accuracy with the <i>Support Vector Machines</i>, <i>the Decision Tree</i>, and <i>Naive-Bayes</i> since we are using Classification. Our assumption is that Support Vector Classifier will be most accurate because it scales well with large datasets. Nearest Neighbor algorithm tries to sort by distance in the dataset, whereas SVM draws dividing lines to separate the Data Set. Decision Tree use if else format to reach a conclusion. And finally Naive-Bayes is a probabilistic algorithm that assumes features are of equal importance, which is why we assume it will have the lowest accuracy, and we therefore, decide to drop it. <br>"
   ]
  },
  {
   "cell_type": "markdown",
   "metadata": {},
   "source": [
    "### 2.4 Challenges\n",
    "\n",
    "&emsp;&emsp;&emsp;This is an additional section that we wanted to mention since we had a very hard time figuring out how to work with our dataset. Since most of the datasets we worked with over the semester included at least one measurable variables, we got stuck when we realized that we do not have one, and we initially used wrong calculations and algorithms that don't work with categorical data. When we understood that and tried finding ways to work on catergorical data, we were overwhelmed by the amount of information found online, which was not always helpful. \n",
    "\n",
    "&emsp;&emsp;&emsp;We had to change our initial hypothesis and questions after understanding that our dataset cannot give us the answer we are looking for, and we hope our current hypothesis are satisfactory. We also hope we used Chi-Square Test of Independance in the correct form below, since it was not included in any lecture notes. We tried as much as possible to understand it and apply it."
   ]
  },
  {
   "cell_type": "markdown",
   "metadata": {},
   "source": [
    "<a id=\"3\"></a>\n",
    "<hr style=\"height:2px; border:none; color:black; background-color:black;\">"
   ]
  },
  {
   "cell_type": "code",
   "execution_count": 227,
   "metadata": {},
   "outputs": [],
   "source": [
    "import numpy as np\n",
    "from sklearn.preprocessing import OneHotEncoder\n",
    "from sklearn.preprocessing import binarize\n",
    "from numpy import array\n",
    "from sklearn.neighbors import KNeighborsClassifier\n",
    "from sklearn.model_selection import KFold\n",
    "from sklearn.model_selection import cross_val_score\n",
    "from sklearn.preprocessing import LabelEncoder"
   ]
  },
  {
   "cell_type": "code",
   "execution_count": 228,
   "metadata": {},
   "outputs": [],
   "source": [
    "from scipy import stats\n",
    "from scipy.stats import chi2"
   ]
  },
  {
   "cell_type": "markdown",
   "metadata": {},
   "source": [
    "## 3. RESULTS"
   ]
  },
  {
   "cell_type": "markdown",
   "metadata": {},
   "source": [
    "### 3.1. Data Wrangling\n"
   ]
  },
  {
   "cell_type": "code",
   "execution_count": 229,
   "metadata": {},
   "outputs": [],
   "source": [
    "# perform simple data cleaning (delete extra columns)\n",
    "# Cleaning data by dropping columns we aren't using\n",
    "df = df.drop(columns = [\"CMPLNT_NUM\", \"CMPLNT_FR_DT\", \"CMPLNT_FR_TM\", \"CMPLNT_TO_DT\", \"CMPLNT_TO_TM\", \"ADDR_PCT_CD\", \"RPT_DT\", \"KY_CD\", \"OFNS_DESC\", \"PD_CD\", \"PD_DESC\", \"LAW_CAT_CD\", \"LOC_OF_OCCUR_DESC\", \"JURIS_DESC\", \"JURISDICTION_CODE\", \"PARKS_NM\", \"HADEVELOPT\", \"HOUSING_PSA\", \"X_COORD_CD\", \"Y_COORD_CD\", \"TRANSIT_DISTRICT\", \"Latitude\", \"Longitude\", \"Lat_Lon\", \"PATROL_BORO\", \"STATION_NAME\"])"
   ]
  },
  {
   "cell_type": "code",
   "execution_count": 230,
   "metadata": {},
   "outputs": [],
   "source": [
    "# perform simple data cleaning (deal with NA values)\n",
    "# replace any unknown variables with NA inorder to drop them later\n",
    "df = df.replace(\"UNKNOWN\", np.nan)\n",
    "df = df.replace(\"-978\", np.nan) # fixed mistake in dataset\n",
    "df = df.replace(\"2018\", np.nan) # fixed mistake in dataset\n",
    "\n",
    "# we decided not to drop NA values for the entire dataset, since we might lose many records that include the \n",
    "# variables we are analyzing in each part of the project separately. \n",
    "# Therefore we make copies to the dataset and drop NA values for each test pr algorithm on its own. "
   ]
  },
  {
   "cell_type": "code",
   "execution_count": 231,
   "metadata": {},
   "outputs": [
    {
     "data": {
      "text/html": [
       "<div>\n",
       "<style scoped>\n",
       "    .dataframe tbody tr th:only-of-type {\n",
       "        vertical-align: middle;\n",
       "    }\n",
       "\n",
       "    .dataframe tbody tr th {\n",
       "        vertical-align: top;\n",
       "    }\n",
       "\n",
       "    .dataframe thead th {\n",
       "        text-align: right;\n",
       "    }\n",
       "</style>\n",
       "<table border=\"1\" class=\"dataframe\">\n",
       "  <thead>\n",
       "    <tr style=\"text-align: right;\">\n",
       "      <th>VIC_AGE_GROUP</th>\n",
       "      <th>18-24</th>\n",
       "      <th>25-44</th>\n",
       "      <th>45-64</th>\n",
       "      <th>65+</th>\n",
       "      <th>&lt;18</th>\n",
       "      <th>All</th>\n",
       "    </tr>\n",
       "    <tr>\n",
       "      <th>SUSP_AGE_GROUP</th>\n",
       "      <th></th>\n",
       "      <th></th>\n",
       "      <th></th>\n",
       "      <th></th>\n",
       "      <th></th>\n",
       "      <th></th>\n",
       "    </tr>\n",
       "  </thead>\n",
       "  <tbody>\n",
       "    <tr>\n",
       "      <td>18-24</td>\n",
       "      <td>187</td>\n",
       "      <td>158</td>\n",
       "      <td>27</td>\n",
       "      <td>4</td>\n",
       "      <td>286</td>\n",
       "      <td>662</td>\n",
       "    </tr>\n",
       "    <tr>\n",
       "      <td>25-44</td>\n",
       "      <td>495</td>\n",
       "      <td>904</td>\n",
       "      <td>159</td>\n",
       "      <td>13</td>\n",
       "      <td>404</td>\n",
       "      <td>1975</td>\n",
       "    </tr>\n",
       "    <tr>\n",
       "      <td>45-64</td>\n",
       "      <td>174</td>\n",
       "      <td>362</td>\n",
       "      <td>144</td>\n",
       "      <td>19</td>\n",
       "      <td>200</td>\n",
       "      <td>899</td>\n",
       "    </tr>\n",
       "    <tr>\n",
       "      <td>65+</td>\n",
       "      <td>21</td>\n",
       "      <td>46</td>\n",
       "      <td>29</td>\n",
       "      <td>8</td>\n",
       "      <td>39</td>\n",
       "      <td>143</td>\n",
       "    </tr>\n",
       "    <tr>\n",
       "      <td>&lt;18</td>\n",
       "      <td>26</td>\n",
       "      <td>48</td>\n",
       "      <td>6</td>\n",
       "      <td>0</td>\n",
       "      <td>526</td>\n",
       "      <td>606</td>\n",
       "    </tr>\n",
       "    <tr>\n",
       "      <td>All</td>\n",
       "      <td>903</td>\n",
       "      <td>1518</td>\n",
       "      <td>365</td>\n",
       "      <td>44</td>\n",
       "      <td>1455</td>\n",
       "      <td>4285</td>\n",
       "    </tr>\n",
       "  </tbody>\n",
       "</table>\n",
       "</div>"
      ],
      "text/plain": [
       "VIC_AGE_GROUP   18-24  25-44  45-64  65+   <18   All\n",
       "SUSP_AGE_GROUP                                      \n",
       "18-24             187    158     27    4   286   662\n",
       "25-44             495    904    159   13   404  1975\n",
       "45-64             174    362    144   19   200   899\n",
       "65+                21     46     29    8    39   143\n",
       "<18                26     48      6    0   526   606\n",
       "All               903   1518    365   44  1455  4285"
      ]
     },
     "execution_count": 231,
     "metadata": {},
     "output_type": "execute_result"
    }
   ],
   "source": [
    "# for hypothesis 1, create contigency table for age and suspect age group, in order to perform chi-square \n",
    "df_1 = df.loc[:, [\"SUSP_AGE_GROUP\", \"VIC_AGE_GROUP\"]] # get victim and suspect age group records from dataset \n",
    "df_1 = df_1.dropna() # deal with NA values\n",
    "contingency_table_1 = pd.crosstab(df_1[\"SUSP_AGE_GROUP\"],df_1[\"VIC_AGE_GROUP\"], margins = True)\n",
    "contingency_table_1"
   ]
  },
  {
   "cell_type": "code",
   "execution_count": 232,
   "metadata": {},
   "outputs": [
    {
     "data": {
      "text/html": [
       "<div>\n",
       "<style scoped>\n",
       "    .dataframe tbody tr th:only-of-type {\n",
       "        vertical-align: middle;\n",
       "    }\n",
       "\n",
       "    .dataframe tbody tr th {\n",
       "        vertical-align: top;\n",
       "    }\n",
       "\n",
       "    .dataframe thead th {\n",
       "        text-align: right;\n",
       "    }\n",
       "</style>\n",
       "<table border=\"1\" class=\"dataframe\">\n",
       "  <thead>\n",
       "    <tr style=\"text-align: right;\">\n",
       "      <th>VIC_AGE_GROUP</th>\n",
       "      <th>18-24</th>\n",
       "      <th>25-44</th>\n",
       "      <th>45-64</th>\n",
       "      <th>65+</th>\n",
       "      <th>&lt;18</th>\n",
       "      <th>All</th>\n",
       "    </tr>\n",
       "    <tr>\n",
       "      <th>VIC_SEX</th>\n",
       "      <th></th>\n",
       "      <th></th>\n",
       "      <th></th>\n",
       "      <th></th>\n",
       "      <th></th>\n",
       "      <th></th>\n",
       "    </tr>\n",
       "  </thead>\n",
       "  <tbody>\n",
       "    <tr>\n",
       "      <td>F</td>\n",
       "      <td>1572</td>\n",
       "      <td>2714</td>\n",
       "      <td>638</td>\n",
       "      <td>95</td>\n",
       "      <td>2567</td>\n",
       "      <td>7586</td>\n",
       "    </tr>\n",
       "    <tr>\n",
       "      <td>M</td>\n",
       "      <td>94</td>\n",
       "      <td>205</td>\n",
       "      <td>74</td>\n",
       "      <td>10</td>\n",
       "      <td>277</td>\n",
       "      <td>660</td>\n",
       "    </tr>\n",
       "    <tr>\n",
       "      <td>All</td>\n",
       "      <td>1666</td>\n",
       "      <td>2919</td>\n",
       "      <td>712</td>\n",
       "      <td>105</td>\n",
       "      <td>2844</td>\n",
       "      <td>8246</td>\n",
       "    </tr>\n",
       "  </tbody>\n",
       "</table>\n",
       "</div>"
      ],
      "text/plain": [
       "VIC_AGE_GROUP  18-24  25-44  45-64  65+   <18   All\n",
       "VIC_SEX                                            \n",
       "F               1572   2714    638   95  2567  7586\n",
       "M                 94    205     74   10   277   660\n",
       "All             1666   2919    712  105  2844  8246"
      ]
     },
     "execution_count": 232,
     "metadata": {},
     "output_type": "execute_result"
    }
   ],
   "source": [
    "# for hypothesis 2, create contigency table for vic sex and age group, in order to perform chi-square \n",
    "df_2 = df.loc[:, [\"VIC_SEX\", \"VIC_AGE_GROUP\"]] # get victim info from dataset \n",
    "df_2 = df_2.dropna() # deal with NA values\n",
    "contingency_table_2 = pd.crosstab(df_2[\"VIC_SEX\"],df_2[\"VIC_AGE_GROUP\"], margins = True)\n",
    "contingency_table_2"
   ]
  },
  {
   "cell_type": "code",
   "execution_count": 233,
   "metadata": {},
   "outputs": [
    {
     "data": {
      "text/html": [
       "<div>\n",
       "<style scoped>\n",
       "    .dataframe tbody tr th:only-of-type {\n",
       "        vertical-align: middle;\n",
       "    }\n",
       "\n",
       "    .dataframe tbody tr th {\n",
       "        vertical-align: top;\n",
       "    }\n",
       "\n",
       "    .dataframe thead th {\n",
       "        text-align: right;\n",
       "    }\n",
       "</style>\n",
       "<table border=\"1\" class=\"dataframe\">\n",
       "  <thead>\n",
       "    <tr style=\"text-align: right;\">\n",
       "      <th>BORO_NM</th>\n",
       "      <th>BRONX</th>\n",
       "      <th>BROOKLYN</th>\n",
       "      <th>MANHATTAN</th>\n",
       "      <th>QUEENS</th>\n",
       "      <th>STATEN ISLAND</th>\n",
       "      <th>All</th>\n",
       "    </tr>\n",
       "    <tr>\n",
       "      <th>VIC_RACE</th>\n",
       "      <th></th>\n",
       "      <th></th>\n",
       "      <th></th>\n",
       "      <th></th>\n",
       "      <th></th>\n",
       "      <th></th>\n",
       "    </tr>\n",
       "  </thead>\n",
       "  <tbody>\n",
       "    <tr>\n",
       "      <td>ASIAN / PACIFIC ISLANDER</td>\n",
       "      <td>25</td>\n",
       "      <td>128</td>\n",
       "      <td>268</td>\n",
       "      <td>248</td>\n",
       "      <td>8</td>\n",
       "      <td>677</td>\n",
       "    </tr>\n",
       "    <tr>\n",
       "      <td>BLACK</td>\n",
       "      <td>418</td>\n",
       "      <td>841</td>\n",
       "      <td>631</td>\n",
       "      <td>328</td>\n",
       "      <td>65</td>\n",
       "      <td>2283</td>\n",
       "    </tr>\n",
       "    <tr>\n",
       "      <td>BLACK HISPANIC</td>\n",
       "      <td>173</td>\n",
       "      <td>70</td>\n",
       "      <td>139</td>\n",
       "      <td>43</td>\n",
       "      <td>7</td>\n",
       "      <td>432</td>\n",
       "    </tr>\n",
       "    <tr>\n",
       "      <td>WHITE</td>\n",
       "      <td>78</td>\n",
       "      <td>458</td>\n",
       "      <td>1069</td>\n",
       "      <td>246</td>\n",
       "      <td>115</td>\n",
       "      <td>1966</td>\n",
       "    </tr>\n",
       "    <tr>\n",
       "      <td>WHITE HISPANIC</td>\n",
       "      <td>577</td>\n",
       "      <td>420</td>\n",
       "      <td>600</td>\n",
       "      <td>598</td>\n",
       "      <td>80</td>\n",
       "      <td>2275</td>\n",
       "    </tr>\n",
       "    <tr>\n",
       "      <td>All</td>\n",
       "      <td>1271</td>\n",
       "      <td>1917</td>\n",
       "      <td>2707</td>\n",
       "      <td>1463</td>\n",
       "      <td>275</td>\n",
       "      <td>7633</td>\n",
       "    </tr>\n",
       "  </tbody>\n",
       "</table>\n",
       "</div>"
      ],
      "text/plain": [
       "BORO_NM                   BRONX  BROOKLYN  MANHATTAN  QUEENS  STATEN ISLAND  \\\n",
       "VIC_RACE                                                                      \n",
       "ASIAN / PACIFIC ISLANDER     25       128        268     248              8   \n",
       "BLACK                       418       841        631     328             65   \n",
       "BLACK HISPANIC              173        70        139      43              7   \n",
       "WHITE                        78       458       1069     246            115   \n",
       "WHITE HISPANIC              577       420        600     598             80   \n",
       "All                        1271      1917       2707    1463            275   \n",
       "\n",
       "BORO_NM                    All  \n",
       "VIC_RACE                        \n",
       "ASIAN / PACIFIC ISLANDER   677  \n",
       "BLACK                     2283  \n",
       "BLACK HISPANIC             432  \n",
       "WHITE                     1966  \n",
       "WHITE HISPANIC            2275  \n",
       "All                       7633  "
      ]
     },
     "execution_count": 233,
     "metadata": {},
     "output_type": "execute_result"
    }
   ],
   "source": [
    "# for hypothesis 3, create contigency table for vic race and boro name, in order to perform chi-square \n",
    "df_3 = df.loc[:, [\"VIC_RACE\", \"BORO_NM\"]] # get vice race and boro name from main dataset\n",
    "# we drop one of the ethnicities \"AMERICAN INDIAN/ALASKAN NATIVE\" because of the very low frequency \n",
    "# of it in the dataset, as we do not want it to affect our results\n",
    "df_3 = df_3.replace(\"AMERICAN INDIAN/ALASKAN NATIVE\", np.nan) \n",
    "df_3 = df_3.dropna() # deal with NA values\n",
    "contingency_table_3 = pd.crosstab(df_3[\"VIC_RACE\"],df_3[\"BORO_NM\"], margins = True)\n",
    "contingency_table_3"
   ]
  },
  {
   "cell_type": "code",
   "execution_count": 234,
   "metadata": {},
   "outputs": [],
   "source": [
    "# For our predictive model, we create a dataframe containing all the previously mentioned features, along with the target\n",
    "dfx = pd.concat([df[\"BORO_NM\"], df[\"SUSP_AGE_GROUP\"], df[\"VIC_AGE_GROUP\"], df[\"VIC_RACE\"], df[\"VIC_SEX\"], df[\"PREM_TYP_DESC\"]], axis = 1)"
   ]
  },
  {
   "cell_type": "code",
   "execution_count": 235,
   "metadata": {},
   "outputs": [],
   "source": [
    "# Here, we do some data cleaning and we keep only the rows with common premesis types to test \n",
    "# (TA confirmed that it is okay to clean the data this way, in order to have more accurate results)\n",
    "\n",
    "# Since residence essentially is the same whether it is an apartment or house, \n",
    "# we replaced both values with only residence for the sake of our project\n",
    "dfx = dfx.replace(\"RESIDENCE - APT. HOUSE\", \"RESIDENCE\") \n",
    "dfx = dfx.replace(\"RESIDENCE-HOUSE\", \"RESIDENCE\")\n",
    "\n",
    "# Since there are many descriptions of premesis with many having very low frequencies and being very specific (hospital, etc.)\n",
    "# we chose to add the 6 with the highest number of occurance , which are the following\n",
    "dfx1 = dfx[dfx['PREM_TYP_DESC'] == (\"RESIDENCE\")]\n",
    "dfx2 = dfx[dfx['PREM_TYP_DESC'] == (\"STREET\")]\n",
    "dfx3 = dfx[dfx['PREM_TYP_DESC'] == (\"TRANSIT - NYC SUBWAY\")]\n",
    "dfx4 = dfx[dfx['PREM_TYP_DESC'] == (\"RESIDENCE - PUBLIC HOUSING\")]\n",
    "dfx5 = dfx[dfx['PREM_TYP_DESC'] == (\"PUBLIC SCHOOL\")]\n",
    "dfx6 = dfx[dfx['PREM_TYP_DESC'] == (\"BAR/NIGHT CLUB\")]\n",
    "dfx = dfx1.append(dfx2)\n",
    "dfx = dfx.append(dfx3)\n",
    "dfx = dfx.append(dfx4)\n",
    "dfx = dfx.append(dfx5)\n",
    "dfx = dfx.append(dfx6)\n",
    "df_4 = dfx.dropna()"
   ]
  },
  {
   "cell_type": "markdown",
   "metadata": {},
   "source": [
    "For preprocessing, when we looked at scaling/normalizing the data, we figured that it is not needed, since we will be performing one hot encoding in the cell below, which already scales the data.\n",
    "\n",
    "Below, we perform one-hot encoding, which turns each of our categorical features into separate columns for each category, with 0 values for all of categories in a row, expect for the one the row actually represents.\n",
    "For example, if the victim's sex in the report is female, the victim sex female column will have a value of 1 and the victim sex male column will have a value of 0.\n",
    "We also use LabelEncoder to create different values for the target, for each different suspect age group."
   ]
  },
  {
   "cell_type": "code",
   "execution_count": 236,
   "metadata": {},
   "outputs": [],
   "source": [
    "# Feature Extraction - performing one hot encoding to tranform our categorical features and target variables into quantitative data\n",
    "from sklearn.preprocessing import LabelEncoder, OneHotEncoder\n",
    "\n",
    "features = df_4.drop(\"SUSP_AGE_GROUP\", axis = 1) # extract only features from dataframe\n",
    "le = LabelEncoder()\n",
    "encoder = OneHotEncoder(sparse = False)\n",
    "encoded_df = encoder.fit_transform(features) # transforms all features using one hot encoding\n",
    "\n",
    "features_df = pd.DataFrame(encoded_df, columns = encoder.get_feature_names())\n",
    "\n",
    "le = LabelEncoder()\n",
    "\n",
    "target = le.fit_transform(df_4[\"SUSP_AGE_GROUP\"])"
   ]
  },
  {
   "cell_type": "code",
   "execution_count": 237,
   "metadata": {},
   "outputs": [
    {
     "data": {
      "text/html": [
       "<div>\n",
       "<style scoped>\n",
       "    .dataframe tbody tr th:only-of-type {\n",
       "        vertical-align: middle;\n",
       "    }\n",
       "\n",
       "    .dataframe tbody tr th {\n",
       "        vertical-align: top;\n",
       "    }\n",
       "\n",
       "    .dataframe thead th {\n",
       "        text-align: right;\n",
       "    }\n",
       "</style>\n",
       "<table border=\"1\" class=\"dataframe\">\n",
       "  <thead>\n",
       "    <tr style=\"text-align: right;\">\n",
       "      <th></th>\n",
       "      <th>x0_BRONX</th>\n",
       "      <th>x0_BROOKLYN</th>\n",
       "      <th>x0_MANHATTAN</th>\n",
       "      <th>x0_QUEENS</th>\n",
       "      <th>x0_STATEN ISLAND</th>\n",
       "      <th>x1_18-24</th>\n",
       "      <th>x1_25-44</th>\n",
       "      <th>x1_45-64</th>\n",
       "      <th>x1_65+</th>\n",
       "      <th>x1_&lt;18</th>\n",
       "      <th>...</th>\n",
       "      <th>x2_WHITE</th>\n",
       "      <th>x2_WHITE HISPANIC</th>\n",
       "      <th>x3_F</th>\n",
       "      <th>x3_M</th>\n",
       "      <th>x4_BAR/NIGHT CLUB</th>\n",
       "      <th>x4_PUBLIC SCHOOL</th>\n",
       "      <th>x4_RESIDENCE</th>\n",
       "      <th>x4_RESIDENCE - PUBLIC HOUSING</th>\n",
       "      <th>x4_STREET</th>\n",
       "      <th>x4_TRANSIT - NYC SUBWAY</th>\n",
       "    </tr>\n",
       "  </thead>\n",
       "  <tbody>\n",
       "    <tr>\n",
       "      <td>0</td>\n",
       "      <td>1.0</td>\n",
       "      <td>0.0</td>\n",
       "      <td>0.0</td>\n",
       "      <td>0.0</td>\n",
       "      <td>0.0</td>\n",
       "      <td>0.0</td>\n",
       "      <td>0.0</td>\n",
       "      <td>0.0</td>\n",
       "      <td>0.0</td>\n",
       "      <td>1.0</td>\n",
       "      <td>...</td>\n",
       "      <td>0.0</td>\n",
       "      <td>1.0</td>\n",
       "      <td>1.0</td>\n",
       "      <td>0.0</td>\n",
       "      <td>0.0</td>\n",
       "      <td>0.0</td>\n",
       "      <td>1.0</td>\n",
       "      <td>0.0</td>\n",
       "      <td>0.0</td>\n",
       "      <td>0.0</td>\n",
       "    </tr>\n",
       "    <tr>\n",
       "      <td>1</td>\n",
       "      <td>1.0</td>\n",
       "      <td>0.0</td>\n",
       "      <td>0.0</td>\n",
       "      <td>0.0</td>\n",
       "      <td>0.0</td>\n",
       "      <td>0.0</td>\n",
       "      <td>0.0</td>\n",
       "      <td>0.0</td>\n",
       "      <td>0.0</td>\n",
       "      <td>1.0</td>\n",
       "      <td>...</td>\n",
       "      <td>0.0</td>\n",
       "      <td>1.0</td>\n",
       "      <td>1.0</td>\n",
       "      <td>0.0</td>\n",
       "      <td>0.0</td>\n",
       "      <td>0.0</td>\n",
       "      <td>1.0</td>\n",
       "      <td>0.0</td>\n",
       "      <td>0.0</td>\n",
       "      <td>0.0</td>\n",
       "    </tr>\n",
       "    <tr>\n",
       "      <td>2</td>\n",
       "      <td>0.0</td>\n",
       "      <td>0.0</td>\n",
       "      <td>1.0</td>\n",
       "      <td>0.0</td>\n",
       "      <td>0.0</td>\n",
       "      <td>1.0</td>\n",
       "      <td>0.0</td>\n",
       "      <td>0.0</td>\n",
       "      <td>0.0</td>\n",
       "      <td>0.0</td>\n",
       "      <td>...</td>\n",
       "      <td>0.0</td>\n",
       "      <td>0.0</td>\n",
       "      <td>1.0</td>\n",
       "      <td>0.0</td>\n",
       "      <td>0.0</td>\n",
       "      <td>0.0</td>\n",
       "      <td>1.0</td>\n",
       "      <td>0.0</td>\n",
       "      <td>0.0</td>\n",
       "      <td>0.0</td>\n",
       "    </tr>\n",
       "    <tr>\n",
       "      <td>3</td>\n",
       "      <td>0.0</td>\n",
       "      <td>0.0</td>\n",
       "      <td>1.0</td>\n",
       "      <td>0.0</td>\n",
       "      <td>0.0</td>\n",
       "      <td>0.0</td>\n",
       "      <td>0.0</td>\n",
       "      <td>0.0</td>\n",
       "      <td>0.0</td>\n",
       "      <td>1.0</td>\n",
       "      <td>...</td>\n",
       "      <td>0.0</td>\n",
       "      <td>0.0</td>\n",
       "      <td>1.0</td>\n",
       "      <td>0.0</td>\n",
       "      <td>0.0</td>\n",
       "      <td>0.0</td>\n",
       "      <td>1.0</td>\n",
       "      <td>0.0</td>\n",
       "      <td>0.0</td>\n",
       "      <td>0.0</td>\n",
       "    </tr>\n",
       "    <tr>\n",
       "      <td>4</td>\n",
       "      <td>0.0</td>\n",
       "      <td>1.0</td>\n",
       "      <td>0.0</td>\n",
       "      <td>0.0</td>\n",
       "      <td>0.0</td>\n",
       "      <td>0.0</td>\n",
       "      <td>1.0</td>\n",
       "      <td>0.0</td>\n",
       "      <td>0.0</td>\n",
       "      <td>0.0</td>\n",
       "      <td>...</td>\n",
       "      <td>0.0</td>\n",
       "      <td>1.0</td>\n",
       "      <td>1.0</td>\n",
       "      <td>0.0</td>\n",
       "      <td>0.0</td>\n",
       "      <td>0.0</td>\n",
       "      <td>1.0</td>\n",
       "      <td>0.0</td>\n",
       "      <td>0.0</td>\n",
       "      <td>0.0</td>\n",
       "    </tr>\n",
       "  </tbody>\n",
       "</table>\n",
       "<p>5 rows × 24 columns</p>\n",
       "</div>"
      ],
      "text/plain": [
       "   x0_BRONX  x0_BROOKLYN  x0_MANHATTAN  x0_QUEENS  x0_STATEN ISLAND  x1_18-24  \\\n",
       "0       1.0          0.0           0.0        0.0               0.0       0.0   \n",
       "1       1.0          0.0           0.0        0.0               0.0       0.0   \n",
       "2       0.0          0.0           1.0        0.0               0.0       1.0   \n",
       "3       0.0          0.0           1.0        0.0               0.0       0.0   \n",
       "4       0.0          1.0           0.0        0.0               0.0       0.0   \n",
       "\n",
       "   x1_25-44  x1_45-64  x1_65+  x1_<18  ...  x2_WHITE  x2_WHITE HISPANIC  x3_F  \\\n",
       "0       0.0       0.0     0.0     1.0  ...       0.0                1.0   1.0   \n",
       "1       0.0       0.0     0.0     1.0  ...       0.0                1.0   1.0   \n",
       "2       0.0       0.0     0.0     0.0  ...       0.0                0.0   1.0   \n",
       "3       0.0       0.0     0.0     1.0  ...       0.0                0.0   1.0   \n",
       "4       1.0       0.0     0.0     0.0  ...       0.0                1.0   1.0   \n",
       "\n",
       "   x3_M  x4_BAR/NIGHT CLUB  x4_PUBLIC SCHOOL  x4_RESIDENCE  \\\n",
       "0   0.0                0.0               0.0           1.0   \n",
       "1   0.0                0.0               0.0           1.0   \n",
       "2   0.0                0.0               0.0           1.0   \n",
       "3   0.0                0.0               0.0           1.0   \n",
       "4   0.0                0.0               0.0           1.0   \n",
       "\n",
       "   x4_RESIDENCE - PUBLIC HOUSING  x4_STREET  x4_TRANSIT - NYC SUBWAY  \n",
       "0                            0.0        0.0                      0.0  \n",
       "1                            0.0        0.0                      0.0  \n",
       "2                            0.0        0.0                      0.0  \n",
       "3                            0.0        0.0                      0.0  \n",
       "4                            0.0        0.0                      0.0  \n",
       "\n",
       "[5 rows x 24 columns]"
      ]
     },
     "execution_count": 237,
     "metadata": {},
     "output_type": "execute_result"
    }
   ],
   "source": [
    "features_df.head() # one hot encoded variables"
   ]
  },
  {
   "cell_type": "markdown",
   "metadata": {},
   "source": [
    "Because our variables our categorical, we manually selected our features. We had a hard time finding a feature selection technique for classification/ categorical values. "
   ]
  },
  {
   "cell_type": "markdown",
   "metadata": {},
   "source": [
    "### 3.2. Data Exploration\n",
    "* Generate appropriate data visualizations for your key variables identified in the previous section\n",
    "* You should have at least three visualizations (and at least two different visualization types)\n",
    "* For each visualization provide an explanation regarding the variables involved and an interpretation of the graph.\n",
    "* If you are using Plotly, insert your visualizations as images as well (upload the graph images to an online source, e.g. github, and link those in Jupyter Notebook)\n"
   ]
  },
  {
   "cell_type": "markdown",
   "metadata": {},
   "source": [
    "All images below are also on the github link mentioned above under the names, Figure 1, Figure 2, Figure 3, Figure 4 respectively. "
   ]
  },
  {
   "cell_type": "code",
   "execution_count": 238,
   "metadata": {},
   "outputs": [
    {
     "name": "stdout",
     "output_type": "stream",
     "text": [
      "FIGURE 1\n"
     ]
    },
    {
     "data": {
      "text/plain": [
       "Text(0.5, 1.0, 'Sexual Assault Freq in NYC')"
      ]
     },
     "execution_count": 238,
     "metadata": {},
     "output_type": "execute_result"
    },
    {
     "data": {
      "image/png": "[encoded data removed]",
      "text/plain": [
       "<Figure size 432x288 with 1 Axes>"
      ]
     },
     "metadata": {
      "needs_background": "light"
     },
     "output_type": "display_data"
    }
   ],
   "source": [
    "import matplotlib.pyplot as plt\n",
    "import seaborn as sns\n",
    "\n",
    "print(\"FIGURE 1\")\n",
    "\n",
    "dfcount = df[\"BORO_NM\"].value_counts()\n",
    "graph = sns.barplot(x=dfcount.keys(), y=list(dfcount))\n",
    "plt.title(\"Sexual Assault Freq in NYC\")"
   ]
  },
  {
   "cell_type": "markdown",
   "metadata": {},
   "source": [
    "<b>Figure 1</b> shows the frequency of sexual assault in each borough. The x-value represents the different boroughs (categories), and the y-value represents the number of incidents that took place in those locations (count) during Y2016 -> Y2018. The reasoning for having very high numbers in Manhattan and Brooklyn, versus the rest is probably caused by the difference in the size of the borough. "
   ]
  },
  {
   "cell_type": "code",
   "execution_count": 221,
   "metadata": {},
   "outputs": [
    {
     "name": "stdout",
     "output_type": "stream",
     "text": [
      "FIGURE 2\n"
     ]
    },
    {
     "data": {
      "text/plain": [
       "<matplotlib.axes._subplots.AxesSubplot at 0x1a1ca94dd0>"
      ]
     },
     "execution_count": 221,
     "metadata": {},
     "output_type": "execute_result"
    },
    {
     "data": {
      "image/png": "[encoded data removed]",
      "text/plain": [
       "<Figure size 576x576 with 1 Axes>"
      ]
     },
     "metadata": {
      "needs_background": "light"
     },
     "output_type": "display_data"
    }
   ],
   "source": [
    "print(\"FIGURE 2\")\n",
    "contingency_table_1.drop(\"All\", axis=1).drop(\"All\").plot(kind=\"bar\", figsize=(8,8), stacked=False)"
   ]
  },
  {
   "cell_type": "markdown",
   "metadata": {},
   "source": [
    "<b>Figure 2</b> is a graphical representation of the first contigency table created in the previous part. The x-axis represents the suspect age group, the y-axis represents the count, and the color-coded bars each represent a victim age group. For example, if we wanna look at the number of people under 18 who got assault by someone under 18, we can look at the right-most purple bar. "
   ]
  },
  {
   "cell_type": "code",
   "execution_count": 223,
   "metadata": {},
   "outputs": [
    {
     "name": "stdout",
     "output_type": "stream",
     "text": [
      "FIGURE 3\n"
     ]
    },
    {
     "data": {
      "text/plain": [
       "<matplotlib.axes._subplots.AxesSubplot at 0x1a19225290>"
      ]
     },
     "execution_count": 223,
     "metadata": {},
     "output_type": "execute_result"
    },
    {
     "data": {
      "image/png": "[encoded data removed]",
      "text/plain": [
       "<Figure size 576x576 with 1 Axes>"
      ]
     },
     "metadata": {
      "needs_background": "light"
     },
     "output_type": "display_data"
    }
   ],
   "source": [
    "print(\"FIGURE 3\")\n",
    "contingency_table_2.drop(\"All\", axis=1).drop(\"All\").plot(kind=\"bar\", figsize=(8,8), stacked=False)"
   ]
  },
  {
   "cell_type": "markdown",
   "metadata": {},
   "source": [
    "<b>Figure 3</b> is a graphical representation of the second contigency table created in the previous part. The x-axis represents the victim sex, the y-axis represents the count, and the color-coded bars each represent a victim age group. For example, if we wanna look at the number of people under 18 who got assault and were male, we can look at the right-most purple bar. "
   ]
  },
  {
   "cell_type": "code",
   "execution_count": 224,
   "metadata": {},
   "outputs": [
    {
     "name": "stdout",
     "output_type": "stream",
     "text": [
      "FIGURE 4\n"
     ]
    },
    {
     "data": {
      "text/plain": [
       "<matplotlib.axes._subplots.AxesSubplot at 0x1a1d034410>"
      ]
     },
     "execution_count": 224,
     "metadata": {},
     "output_type": "execute_result"
    },
    {
     "data": {
      "image/png": "[encoded data removed]",
      "text/plain": [
       "<Figure size 576x576 with 1 Axes>"
      ]
     },
     "metadata": {
      "needs_background": "light"
     },
     "output_type": "display_data"
    }
   ],
   "source": [
    "print(\"FIGURE 4\")\n",
    "contingency_table_3.drop(\"All\", axis=1).drop(\"All\").plot(kind=\"bar\", figsize=(8,8), stacked=True)"
   ]
  },
  {
   "cell_type": "markdown",
   "metadata": {},
   "source": [
    "<b>Figure 4</b> is a graphical representation of the third and last contigency table created in the previous part. The x-axis represents the victim's age, the y-axis represents the count, and color codes are for borough names. For example, if we wanna look at the number of white hispanic people who got assaulted in manhattan, we look at the green part of the right-most bar"
   ]
  },
  {
   "cell_type": "markdown",
   "metadata": {},
   "source": [
    "### 3.3. Model Construction & 3.4 Model Evaluation"
   ]
  },
  {
   "cell_type": "code",
   "execution_count": 203,
   "metadata": {},
   "outputs": [
    {
     "name": "stdout",
     "output_type": "stream",
     "text": [
      "Below are the results from our Chi-Square Test of Independance to check if a relationship exists between a suspect's age group and victim's age group in the NYPD sexual assault data\n",
      "\n",
      "---------------------------------\n",
      "CHI-SQUARED TESTS FOR INDEPENDENCE\n",
      "---------------------------------\n",
      "\n",
      "Contingency Table :\n",
      "-------------------\n",
      "\n",
      "VIC_AGE_GROUP   18-24  25-44  45-64  65+   <18   All\n",
      "SUSP_AGE_GROUP                                      \n",
      "18-24             187    158     27    4   286   662\n",
      "25-44             495    904    159   13   404  1975\n",
      "45-64             174    362    144   19   200   899\n",
      "65+                21     46     29    8    39   143\n",
      "<18                26     48      6    0   526   606\n",
      "All               903   1518    365   44  1455  4285\n",
      "\n",
      "Degree of Freedom\n",
      "---------------\n",
      "10\n",
      "\n",
      "Chi2 Stat\n",
      "-----------\n",
      "33.92260693057275\n",
      "\n",
      "P-Value\n",
      "-------\n",
      "0.00\n",
      "\n",
      "Alpha\n",
      "-------\n",
      "0.05\n",
      "\n",
      "Critical Value\n",
      "---------------\n",
      "18.307038053275146\n",
      "\n",
      "Results\n",
      "-------\n",
      "Chi2 Stats >= Critical Value\n",
      "--> Reject Null Hypothesis, there is a relationship between a suspect age group and a victim age group\n",
      "\n",
      "\n",
      "P-value <= Alpha\n",
      "--> Reject Null Hypothesis, there is a relationship between a suspect age group and a victim age group\n"
     ]
    }
   ],
   "source": [
    "# Conducting Hypothesis Test #1\n",
    "# Results are printed below\n",
    "\n",
    "print(\"Below are the results from our Chi-Square Test of Independance to check if a relationship exists between a suspect's age group and victim's age group in the NYPD sexual assault data\")\n",
    "print(\"\\n---------------------------------\")\n",
    "print(\"CHI-SQUARED TESTS FOR INDEPENDENCE\")\n",
    "print(\"---------------------------------\\n\")\n",
    "print('Contingency Table :')\n",
    "print(\"-------------------\\n\")\n",
    "print(contingency_table_1)\n",
    "stat, p, dof, expected = stats.chi2_contingency(contingency_table)\n",
    "print(\"\\nDegree of Freedom\")\n",
    "print(\"---------------\")\n",
    "print(dof)\n",
    "print(\"\\nChi2 Stat\")\n",
    "print(\"-----------\")\n",
    "print(stat)\n",
    "print(\"\\nP-Value\")\n",
    "print(\"-------\")\n",
    "print(format(p, '.2f'))\n",
    "alpha = 0.05\n",
    "print(\"\\nAlpha\")\n",
    "print(\"-------\")\n",
    "print(alpha)\n",
    "critical_value = chi2.ppf(1 - alpha, dof)\n",
    "print(\"\\nCritical Value\")\n",
    "print(\"---------------\")\n",
    "print(critical_value)\n",
    "\n",
    "print(\"\\nResults\")\n",
    "print(\"-------\")\n",
    "if stat >= critical_value:\n",
    "    print(\"Chi2 Stats >= Critical Value\\n--> Reject Null Hypothesis, there is a relationship between a suspect age group and a victim age group\")\n",
    "else:\n",
    "    print(\"Chi2 Stats < Critical Value\\n--> Accept Null Hypothesis, there is no relationship between a suspect age group and a victim age group\")\n",
    "\n",
    "print(\"\\n\")\n",
    "    \n",
    "if p <= alpha:\n",
    "    print(\"P-value <= Alpha\\n--> Reject Null Hypothesis, there is a relationship between a suspect age group and a victim age group\")\n",
    "else:\n",
    "    print(\"P-value < Alpha\\n--> Accept Null Hypothesis, there is no relationship between a suspect age group and a victim age group\")"
   ]
  },
  {
   "cell_type": "code",
   "execution_count": 201,
   "metadata": {},
   "outputs": [
    {
     "name": "stdout",
     "output_type": "stream",
     "text": [
      "Below are the results from our Chi-Square Test of Independance to check if a relationship exists between a victim's age group and victim's sex in the NYPD sexual assault data\n",
      "\n",
      "---------------------------------\n",
      "CHI-SQUARED TESTS FOR INDEPENDENCE\n",
      "---------------------------------\n",
      "\n",
      "Contingency Table :\n",
      "-------------------\n",
      "\n",
      "VIC_AGE_GROUP  18-24  25-44  45-64  65+   <18   All\n",
      "VIC_SEX                                            \n",
      "F               1572   2714    638   95  2567  7586\n",
      "M                 94    205     74   10   277   660\n",
      "All             1666   2919    712  105  2844  8246\n",
      "\n",
      "Degree of Freedom\n",
      "---------------\n",
      "10\n",
      "\n",
      "Chi2 Stat\n",
      "-----------\n",
      "33.92260693057275\n",
      "\n",
      "P-Value\n",
      "-------\n",
      "0.00\n",
      "\n",
      "Alpha\n",
      "-------\n",
      "0.05\n",
      "\n",
      "Critical Value\n",
      "---------------\n",
      "18.307038053275146\n",
      "\n",
      "Results\n",
      "-------\n",
      "Chi2 Stats >= Critical Value\n",
      "--> Reject Null Hypothesis, there is a relationship between a victim's sex and a victim's age group\n",
      "\n",
      "\n",
      "P-value <= Alpha\n",
      "--> Reject Null Hypothesis, there is a relationship between a victim's sex and a victim age group\n"
     ]
    }
   ],
   "source": [
    "# Conducting Hypothesis Test #2\n",
    "# Results are printed below\n",
    "\n",
    "print(\"Below are the results from our Chi-Square Test of Independance to check if a relationship exists between a victim's age group and victim's sex in the NYPD sexual assault data\")\n",
    "print(\"\\n---------------------------------\")\n",
    "print(\"CHI-SQUARED TESTS FOR INDEPENDENCE\")\n",
    "print(\"---------------------------------\\n\")\n",
    "print('Contingency Table :')\n",
    "print(\"-------------------\\n\")\n",
    "print(contingency_table_2)\n",
    "stat, p, dof, expected = stats.chi2_contingency(contingency_table)\n",
    "print(\"\\nDegree of Freedom\")\n",
    "print(\"---------------\")\n",
    "print(dof)\n",
    "print(\"\\nChi2 Stat\")\n",
    "print(\"-----------\")\n",
    "print(stat)\n",
    "print(\"\\nP-Value\")\n",
    "print(\"-------\")\n",
    "print(format(p, '.2f'))\n",
    "alpha = 0.05\n",
    "print(\"\\nAlpha\")\n",
    "print(\"-------\")\n",
    "print(alpha)\n",
    "critical_value = chi2.ppf(1 - alpha, dof)\n",
    "print(\"\\nCritical Value\")\n",
    "print(\"---------------\")\n",
    "print(critical_value)\n",
    "\n",
    "print(\"\\nResults\")\n",
    "print(\"-------\")\n",
    "if stat >= critical_value:\n",
    "    print(\"Chi2 Stats >= Critical Value\\n--> Reject Null Hypothesis, there is a relationship between a victim's sex and a victim's age group\")\n",
    "else:\n",
    "    print(\"Chi2 Stats < Critical Value\\n--> Accept Null Hypothesis, there is no relationship between a victim's sex and a victim's age group\")\n",
    "\n",
    "print(\"\\n\")\n",
    "    \n",
    "if p <= alpha:\n",
    "    print(\"P-value <= Alpha\\n--> Reject Null Hypothesis, there is a relationship between a victim's sex and a victim age group\")\n",
    "else:\n",
    "    print(\"P-value < Alpha\\n--> Accept Null Hypothesis, there is no relationship between a victim's sex and a victim age group\")"
   ]
  },
  {
   "cell_type": "code",
   "execution_count": 202,
   "metadata": {},
   "outputs": [
    {
     "name": "stdout",
     "output_type": "stream",
     "text": [
      "Below are the results from our Chi-Square Test of Independance to check if a relationship exists between borough names and victim's race in the NYPD sexual assault data\n",
      "\n",
      "---------------------------------\n",
      "CHI-SQUARED TESTS FOR INDEPENDENCE\n",
      "---------------------------------\n",
      "\n",
      "Contingency Table :\n",
      "-------------------\n",
      "\n",
      "BORO_NM                   BRONX  BROOKLYN  MANHATTAN  QUEENS  STATEN ISLAND  \\\n",
      "VIC_RACE                                                                      \n",
      "ASIAN / PACIFIC ISLANDER     25       128        268     248              8   \n",
      "BLACK                       418       841        631     328             65   \n",
      "BLACK HISPANIC              173        70        139      43              7   \n",
      "WHITE                        78       458       1069     246            115   \n",
      "WHITE HISPANIC              577       420        600     598             80   \n",
      "All                        1271      1917       2707    1463            275   \n",
      "\n",
      "BORO_NM                    All  \n",
      "VIC_RACE                        \n",
      "ASIAN / PACIFIC ISLANDER   677  \n",
      "BLACK                     2283  \n",
      "BLACK HISPANIC             432  \n",
      "WHITE                     1966  \n",
      "WHITE HISPANIC            2275  \n",
      "All                       7633  \n",
      "\n",
      "Degree of Freedom\n",
      "---------------\n",
      "10\n",
      "\n",
      "Chi2 Stat\n",
      "-----------\n",
      "33.92260693057275\n",
      "\n",
      "P-Value\n",
      "-------\n",
      "0.00\n",
      "\n",
      "Alpha\n",
      "-------\n",
      "0.05\n",
      "\n",
      "Critical Value\n",
      "---------------\n",
      "18.307038053275146\n",
      "\n",
      "Results\n",
      "-------\n",
      "Chi2 Stats >= Critical Value\n",
      "--> Reject Null Hypothesis, there is a relationship between a borough name and a victim's race\n",
      "\n",
      "\n",
      "P-value <= Alpha\n",
      "--> Reject Null Hypothesis, there is a relationship between a borough name and a victim's race\n"
     ]
    }
   ],
   "source": [
    "# Conducting Hypothesis Test #3\n",
    "# Results are printed below\n",
    "\n",
    "print(\"Below are the results from our Chi-Square Test of Independance to check if a relationship exists between borough names and victim's race in the NYPD sexual assault data\")\n",
    "\n",
    "print(\"\\n---------------------------------\")\n",
    "print(\"CHI-SQUARED TESTS FOR INDEPENDENCE\")\n",
    "print(\"---------------------------------\\n\")\n",
    "print('Contingency Table :')\n",
    "print(\"-------------------\\n\")\n",
    "print(contingency_table_3)\n",
    "stat, p, dof, expected = stats.chi2_contingency(contingency_table) \n",
    "print(\"\\nDegree of Freedom\")\n",
    "print(\"---------------\")\n",
    "print(dof)\n",
    "print(\"\\nChi2 Stat\")\n",
    "print(\"-----------\")\n",
    "print(stat)\n",
    "print(\"\\nP-Value\")\n",
    "print(\"-------\")\n",
    "print(format(p, '.2f'))\n",
    "alpha = 0.05\n",
    "print(\"\\nAlpha\")\n",
    "print(\"-------\")\n",
    "print(alpha)\n",
    "critical_value = chi2.ppf(1 - alpha, dof)\n",
    "print(\"\\nCritical Value\")\n",
    "print(\"---------------\")\n",
    "print(critical_value)\n",
    "\n",
    "print(\"\\nResults\")\n",
    "print(\"-------\")\n",
    "if stat >= critical_value:\n",
    "    print(\"Chi2 Stats >= Critical Value\\n--> Reject Null Hypothesis, there is a relationship between a borough name and a victim's race\")\n",
    "else:\n",
    "    print(\"Chi2 Stats < Critical Value\\n--> Accept Null Hypothesis, there is no relationship between a borough name and a victim's race\")\n",
    "\n",
    "print(\"\\n\")\n",
    "    \n",
    "if p <= alpha:\n",
    "    print(\"P-value <= Alpha\\n--> Reject Null Hypothesis, there is a relationship between a borough name and a victim's race\")\n",
    "else:\n",
    "    print(\"P-value < Alpha\\n--> Accept Null Hypothesis, there is no relationship between a borough name and a victim's race\")"
   ]
  },
  {
   "cell_type": "code",
   "execution_count": 190,
   "metadata": {},
   "outputs": [],
   "source": [
    "from sklearn.metrics import classification_report"
   ]
  },
  {
   "cell_type": "code",
   "execution_count": 193,
   "metadata": {},
   "outputs": [],
   "source": [
    "from sklearn.model_selection import train_test_split\n",
    "from sklearn.neighbors import KNeighborsClassifier\n",
    "\n",
    "# split data into training and testing sets\n",
    "X_train, X_test, y_train, y_test = train_test_split(features_df, target, random_state=3000)\n",
    "\n",
    "# select a classifier\n",
    "knn = KNeighborsClassifier()\n",
    "\n",
    "# create the model by fitting the training data\n",
    "knn.fit(X=X_train, y=y_train)\n",
    "\n",
    "# make predictions on the test set\n",
    "predicted = knn.predict(X=X_test)\n",
    "\n",
    "expected = y_test\n",
    "\n",
    "# prediction accuracy\n",
    "accuracy_1 = knn.score(X_test, y_test)\n",
    "\n",
    "accuracy_train_1 = knn.score(X_train, y_train)\n",
    "\n",
    "class_report = classification_report(y_true=expected, y_pred=predicted)"
   ]
  },
  {
   "cell_type": "code",
   "execution_count": 194,
   "metadata": {},
   "outputs": [
    {
     "name": "stdout",
     "output_type": "stream",
     "text": [
      "Using KNeighborsClassifier, to predict the suspect age group of a crime:\n",
      "------------------------------------------------------------------------\n",
      "Prediction accuracy on the test data: 47.68%\n",
      "Prediction accuracy on the train data: 54.86%\n",
      "\n",
      "Classification Report:\n",
      "------------------------\n",
      "              precision    recall  f1-score   support\n",
      "\n",
      "           0       0.25      0.17      0.20       133\n",
      "           1       0.53      0.77      0.63       362\n",
      "           2       0.28      0.15      0.19       155\n",
      "           3       0.75      0.12      0.20        26\n",
      "           4       0.54      0.43      0.48       123\n",
      "\n",
      "    accuracy                           0.48       799\n",
      "   macro avg       0.47      0.33      0.34       799\n",
      "weighted avg       0.44      0.48      0.44       799\n",
      "\n"
     ]
    }
   ],
   "source": [
    "print(\"Using KNeighborsClassifier, to predict the suspect age group of a crime:\")\n",
    "print(\"------------------------------------------------------------------------\")\n",
    "print(\"Prediction accuracy on the test data:\", f\"{accuracy_1:.2%}\")\n",
    "print(\"Prediction accuracy on the train data:\", f\"{accuracy_train_1:.2%}\")\n",
    "\n",
    "print(\"\\nClassification Report:\")\n",
    "print(\"------------------------\")\n",
    "print(class_report)"
   ]
  },
  {
   "cell_type": "code",
   "execution_count": 195,
   "metadata": {},
   "outputs": [
    {
     "name": "stderr",
     "output_type": "stream",
     "text": [
      "/opt/anaconda3/lib/python3.7/site-packages/sklearn/metrics/classification.py:1437: UndefinedMetricWarning: Precision and F-score are ill-defined and being set to 0.0 in labels with no predicted samples.\n",
      "  'precision', 'predicted', average, warn_for)\n"
     ]
    }
   ],
   "source": [
    "from sklearn.svm import SVC\n",
    "\n",
    "# split data into training and testing sets\n",
    "X_train, X_test, y_train, y_test = train_test_split(features_df, target, random_state=3000)\n",
    "\n",
    "# select a classifier\n",
    "clf = SVC(gamma=\"scale\")\n",
    "\n",
    "# create the model by fitting the training data\n",
    "clf.fit(X=X_train, y=y_train)\n",
    "\n",
    "# make predictions on the test set\n",
    "predicted = clf.predict(X=X_test)\n",
    "\n",
    "expected = y_test\n",
    "\n",
    "# prediction accuracy\n",
    "accuracy_2 = clf.score(X_test, y_test)\n",
    "\n",
    "accuracy_train_2 = clf.score(X_train, y_train)\n",
    "\n",
    "class_report = classification_report(y_true=expected, y_pred=predicted)"
   ]
  },
  {
   "cell_type": "code",
   "execution_count": 196,
   "metadata": {},
   "outputs": [
    {
     "name": "stdout",
     "output_type": "stream",
     "text": [
      "Using SVC, to predict the suspect age group of a crime:\n",
      "-------------------------------------------------------\n",
      "Prediction accuracy on the test data: 51.69%\n",
      "Prediction accuracy on the train data: 55.65%\n",
      "\n",
      "Classification Report:\n",
      "------------------------\n",
      "              precision    recall  f1-score   support\n",
      "\n",
      "           0       0.27      0.03      0.05       133\n",
      "           1       0.54      0.88      0.67       362\n",
      "           2       0.50      0.08      0.13       155\n",
      "           3       0.00      0.00      0.00        26\n",
      "           4       0.47      0.63      0.54       123\n",
      "\n",
      "    accuracy                           0.52       799\n",
      "   macro avg       0.36      0.32      0.28       799\n",
      "weighted avg       0.46      0.52      0.42       799\n",
      "\n"
     ]
    }
   ],
   "source": [
    "print(\"Using SVC, to predict the suspect age group of a crime:\")\n",
    "print(\"-------------------------------------------------------\")\n",
    "print(\"Prediction accuracy on the test data:\", f\"{accuracy_2:.2%}\")\n",
    "print(\"Prediction accuracy on the train data:\", f\"{accuracy_train_2:.2%}\")\n",
    "\n",
    "print(\"\\nClassification Report:\")\n",
    "print(\"------------------------\")\n",
    "print(class_report)"
   ]
  },
  {
   "cell_type": "code",
   "execution_count": 197,
   "metadata": {},
   "outputs": [],
   "source": [
    "from sklearn.tree import DecisionTreeClassifier\n",
    "\n",
    "# split data into training and testing sets\n",
    "X_train, X_test, y_train, y_test = train_test_split(features_df, target, random_state=3000)\n",
    "\n",
    "# select a classifier and create the model by fitting the training data\n",
    "model = DecisionTreeClassifier().fit(X=X_train, y=y_train)\n",
    "\n",
    "# make predictions on the test set\n",
    "predicted = model.predict(X=X_test)\n",
    "\n",
    "# prediction accuracy\n",
    "accuracy_3 = model.score(X_test, y_test)\n",
    "\n",
    "accuracy_train_3 = model.score(X_train, y_train)\n",
    "\n",
    "class_report = classification_report(y_true=expected, y_pred=predicted)"
   ]
  },
  {
   "cell_type": "code",
   "execution_count": 198,
   "metadata": {},
   "outputs": [
    {
     "name": "stdout",
     "output_type": "stream",
     "text": [
      "Using DecisionTreeClassifier, to predict the suspect age group of a crime:\n",
      "--------------------------------------------------------------------------\n",
      "Prediction accuracy on the test data: 48.69%\n",
      "Prediction accuracy on the train data: 59.99%\n",
      "\n",
      "Classification Report:\n",
      "------------------------\n",
      "              precision    recall  f1-score   support\n",
      "\n",
      "           0       0.24      0.14      0.18       133\n",
      "           1       0.52      0.78      0.63       362\n",
      "           2       0.37      0.09      0.15       155\n",
      "           3       0.25      0.04      0.07        26\n",
      "           4       0.52      0.58      0.55       123\n",
      "\n",
      "    accuracy                           0.49       799\n",
      "   macro avg       0.38      0.33      0.31       799\n",
      "weighted avg       0.44      0.49      0.43       799\n",
      "\n"
     ]
    }
   ],
   "source": [
    "print(\"Using DecisionTreeClassifier, to predict the suspect age group of a crime:\")\n",
    "print(\"--------------------------------------------------------------------------\")\n",
    "print(\"Prediction accuracy on the test data:\", f\"{accuracy_3:.2%}\")\n",
    "print(\"Prediction accuracy on the train data:\", f\"{accuracy_train_3:.2%}\")\n",
    "\n",
    "print(\"\\nClassification Report:\")\n",
    "print(\"------------------------\")\n",
    "print(class_report)"
   ]
  },
  {
   "cell_type": "code",
   "execution_count": null,
   "metadata": {},
   "outputs": [],
   "source": [
    "estimators = {\n",
    "    'k-Nearest Neighbor': KNeighborsClassifier(), \n",
    "    'Support Vector Machine': SVC(gamma='scale'),\n",
    "    'Gaussian Naive Bayes': GaussianNB(),\n",
    "    'Decision Tree': DecisionTreeClassifier()}"
   ]
  },
  {
   "cell_type": "code",
   "execution_count": null,
   "metadata": {},
   "outputs": [],
   "source": [
    "from sklearn.model_selection import KFold\n",
    "from sklearn.model_selection import cross_val_score\n",
    "\n",
    "for estimator_name, estimator_object in estimators.items():\n",
    "    kfold = KFold(n_splits=10, random_state=3000, shuffle=True)\n",
    "    \n",
    "    scores = cross_val_score(estimator=estimator_object, X=features_df, y=target, cv=kfold)\n",
    "    \n",
    "    print(estimator_name + \": \\n\\t\" + f'mean accuracy={scores.mean():.2%}, ' + f'standard deviation={scores.std():.2%}' +\"\\n\")"
   ]
  },
  {
   "cell_type": "markdown",
   "metadata": {},
   "source": [
    "#### Interpretations of Results\n",
    "\n",
    "For our hypotheses tests, all our tests turned out to be statistically significant. In this section we will briefly discuss each hypothesis results.\n",
    "\n",
    "<b> Hypothesis 1: </b> a relationship between the victim and suspect age group exists. This means that the two variables are interdependant.\n",
    "\n",
    "<b> Hypothesis 2: </b> a relationship between the victim sex and age group exists. This means that the two variables are interdependant. \n",
    "\n",
    "<b> Hypothesis 3: </b> a relationship between the victim and suspect age group exists. This means that the two variables are interdependant.\n",
    "\n",
    "Our Chi-Square Test of Independance cannot tell us more about the nature of the relationships, but only that they exist. However, by looking at the cross tabulations, we can make assumptions about those relationships\n",
    "\n",
    "\n",
    "As for our predictive model, the model evaluation (which includes predictive accuracy and classification report) are listed under each alogrithm's code.\n",
    "\n",
    "Based on all previous evaluations, in this section we will briefly discuss our results:\n",
    "\n",
    "<b> Algorithm 1: </b> The K-Nearest Neighbors algorithm yielded a prediction score of 47.68%. The classification report showed a weighted mean precision of .44.\n",
    "\n",
    "<b> Algorithm 2: </b> The Support Vector Machine gave a prediction accuracy of 51.69%, the highest one of the three. This is due to SVM's use in larger datasets as well as sparse data. Classification report showed a weighted mean precision of .46\n",
    "\n",
    "<b> Algorithm 3: </b> The Decision Tree Classifier yielded a result of 48.69% which, because it was lower than SVM, we decided not to use. The classification report showed a weighted mean precision of 0.44.\n",
    "\n",
    "The classification report showed that the precision for each algorithm was inferior to the SVM one. Precision in the report is the ability of the classifier to not commit a Type 1 error, or label an instance positive that should have been negative.\n",
    "\n",
    "We chose to go with SVC, as it is the most accurate, like we initially predicted."
   ]
  },
  {
   "cell_type": "markdown",
   "metadata": {},
   "source": [
    "### 3.5. Model Optimization"
   ]
  },
  {
   "cell_type": "code",
   "execution_count": 135,
   "metadata": {},
   "outputs": [
    {
     "name": "stdout",
     "output_type": "stream",
     "text": [
      "Best parameters:  {'C': 1, 'gamma': 'scale'}\n",
      "Training set score with best parameters: 55.07%\n",
      "Test set score with best parameters 51.69%\n"
     ]
    }
   ],
   "source": [
    "# Tuning our model using appropriate hyperparameters\n",
    "param_grid = {\"C\": [0.01, 0.1, 1, 10.0], \"gamma\": [\"auto\", \"scale\"]}\n",
    "from sklearn.model_selection import GridSearchCV\n",
    "from sklearn import svm\n",
    "from sklearn.feature_selection import RFE\n",
    "\n",
    "#Grid search code\n",
    "grid_search = GridSearchCV(svm.SVC(), param_grid, cv=5)\n",
    "grid_search.fit(X=X_train, y=y_train)\n",
    "print(\"Best parameters: \", grid_search.best_params_)\n",
    "print(\"Training set score with best parameters:\", f\"{grid_search.score(X_train, y_train):.2%}\")\n",
    "print(\"Test set score with best parameters\", f\"{grid_search.score(X_test, y_test):.2%}\")"
   ]
  },
  {
   "cell_type": "markdown",
   "metadata": {},
   "source": [
    "We tune our Support Vector Classifier (SVC) model using the appropriate hyperparameters in order to get the most accurate results. The parameters chosen were \"scale\" for gamma and 1 for C, and our tuned model with those parameters will be tested below."
   ]
  },
  {
   "cell_type": "markdown",
   "metadata": {},
   "source": [
    "### 3.6. Model Testing\n",
    "* Test your tuned algorithms using your testing set"
   ]
  },
  {
   "cell_type": "code",
   "execution_count": 139,
   "metadata": {},
   "outputs": [
    {
     "name": "stdout",
     "output_type": "stream",
     "text": [
      "Using tuned SVC, to predict the suspect age group of a crime:\n",
      "------------------------------------------------------------\n",
      "Prediction accuracy on the test data: 51.69%\n",
      "Prediction accuracy on the train data: 53.36%\n"
     ]
    }
   ],
   "source": [
    "#split data into training and testing sets\n",
    "X_train, X_test, y_train, y_test = train_test_split(features_df, target, random_state=3000)\n",
    "\n",
    "#select a classifier, tuned algorithm\n",
    "clf = SVC(gamma=\"scale\", C=1)\n",
    "\n",
    "#create the model by fitting the training data\n",
    "clf.fit(X=X_train, y=y_train)\n",
    "\n",
    "#make predictions on the test set\n",
    "predicted = clf.predict(X=X_test)\n",
    "\n",
    "expected = y_test\n",
    "\n",
    "#prediction accuracy\n",
    "accuracy = clf.score(X_test, y_test)\n",
    "\n",
    "accuracy_train = knn.score(X_train, y_train)\n",
    "\n",
    "print(\"Using tuned SVC, to predict the suspect age group of a crime:\")\n",
    "print(\"------------------------------------------------------------\")\n",
    "print(\"Prediction accuracy on the test data:\", f\"{accuracy:.2%}\")\n",
    "print(\"Prediction accuracy on the train data:\", f\"{accuracy_train:.2%}\")"
   ]
  },
  {
   "cell_type": "markdown",
   "metadata": {},
   "source": [
    "Our prediction accuracy did not change after tuning our SVC model, because the best parameters were the default ones, which were already used. "
   ]
  },
  {
   "cell_type": "markdown",
   "metadata": {},
   "source": [
    "<a id=\"4\"></a>\n",
    "<hr style=\"height:2px; border:none; color:black; background-color:black;\">"
   ]
  },
  {
   "cell_type": "markdown",
   "metadata": {},
   "source": [
    "## 4. DISCUSSION\n",
    "\n",
    "&emsp;&emsp;&emsp;We started analyzing our data by looking at the different categorical variables, and stating hypothesis about their relationship and testing it. Following that, after we saw a lot of dependance between the variables, we decided to predict the suspect age group, based on other variables. We extracted our features, by choosing the ones we thought made sense the most. We removed any suspect information, and we kept mostly victim information as well as location information. We then used OneHotEncoding in order to create our testing and training dataset since all our features were categorical. We then used different classification machine learning algorithms since our target as well is categorical. We evaluated our model by looking at the predictive accuracies and the classification report.\n",
    "\n",
    "&emsp;&emsp;&emsp;We compared the predictice accuracy of the following algorithms: Nearest Neighbors, Decision Tree Classifier, and Support Vector Classifier. SVC revealed the best accuracy at 51.69%, which is why it should be used for our predictive model. However, the accuracy in general of all algorithms was not as high as we expected. \n",
    "\n",
    "&emsp;&emsp;&emsp;For our hypothesis tests, as mentioned in the previous part, all our tests rejected the null hypothesis, which meant all our variables had a significant relationship. However, in our case, the hypothesis being accepted, means only that a relationship exists (since chi-square was used); therefore, we cannot make assumptions that one variable is caused or completely depends on the other.\n",
    "\n",
    "&emsp;&emsp;&emsp;For future work, we hope to further look at the relationships between the variables that were mentioned in the 3 hypothesis. The fact that we got a satistically significant result means that we can dive into this more to create more specific hypothesis and understand those relationships. For example, <i>do younger women get assaulted more by younger men or older men?</i>. Moreover, we hope to create a more effective way of choosing features, in order to get high accuracy rates for our target in the future, since our rate were not high enough. Finally, we hope to get more measurable data and not only categorical in order to perform different analysis on sexual assault data."
   ]
  },
  {
   "cell_type": "markdown",
   "metadata": {},
   "source": [
    "<a id=\"5\"></a>\n",
    "<hr style=\"height:2px; border:none; color:black; background-color:black;\">"
   ]
  }
 ],
 "metadata": {
  "kernelspec": {
   "display_name": "Python 3",
   "language": "python",
   "name": "python3"
  },
  "language_info": {
   "codemirror_mode": {
    "name": "ipython",
    "version": 3
   },
   "file_extension": ".py",
   "mimetype": "text/x-python",
   "name": "python",
   "nbconvert_exporter": "python",
   "pygments_lexer": "ipython3",
   "version": "3.6.5"
  }
 },
 "nbformat": 4,
 "nbformat_minor": 2
}

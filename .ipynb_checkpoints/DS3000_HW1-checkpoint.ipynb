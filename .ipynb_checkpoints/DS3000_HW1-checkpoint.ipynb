{
 "cells": [
  {
   "cell_type": "markdown",
   "metadata": {},
   "source": [
    "<center> <h1> DS 3000 </h1> </center>\n",
    "<center> <h1> Homework Assignment 1 </h1> </center>\n"
   ]
  },
  {
   "cell_type": "markdown",
   "metadata": {},
   "source": [
    "<center> <h3> insert your full name here by double-clicking </h3></center>"
   ]
  },
  {
   "cell_type": "markdown",
   "metadata": {},
   "source": [
    "Suppose that you are doing your co-op at a start-up company, called Acio, where you work as a data scientist. Your supervisors usually assign weekly DS projects and expect you to complete the projects on Jupyter Notebook. Your first project is described below."
   ]
  },
  {
   "cell_type": "markdown",
   "metadata": {},
   "source": [
    "### What to do\n",
    "\n",
    "* Carefully read the description.\n",
    "* As you write your code for each question, please include comments. \n",
    "* Make sure you execute your code for each question and compare the output to the sample output provided.\n",
    "* Refrain from using advanced Python capabilities that were not covered in class.\n",
    "* When in doubt, ASK! Post a question on the Blackboard discussion forum for this homework assignment.\n",
    "* Complete the assignment on your own"
   ]
  },
  {
   "cell_type": "markdown",
   "metadata": {},
   "source": [
    "### What to submit\n",
    "* When you are done with the assignment, save it.\n",
    "* Download it as a Jupyter Notebook (DS3000_HW1.ipynb)\n",
    "* Upload your downloaded Notebook to Google Colab (https://colab.research.google.com/notebooks/)\n",
    "* Get a shareable link to your Notebook on Colab\n",
    "    * Go to Share near the top-right corner of the screen.\n",
    "    * Make sure you select Anyone with the Link Can View)\n",
    "    * Copy the link\n",
    "* Go to Blackboard\n",
    "* **Upload your Jupyter Notebook through the Blackboard assignment dropbox link.**\n",
    "* **Paste the link to you Colab Notebook in the Add Comments field.**\n",
    "* You can submit multiple attempts. The last attempt will be graded."
   ]
  },
  {
   "cell_type": "code",
   "execution_count": null,
   "metadata": {},
   "outputs": [],
   "source": []
  },
  {
   "cell_type": "markdown",
   "metadata": {},
   "source": [
    "<center> <h2> Part 1 </h2> </center>"
   ]
  },
  {
   "cell_type": "markdown",
   "metadata": {},
   "source": [
    "In the first part of your project assignment, your supervisors would like you to write a program that would let them keep track of visitors coming to your company's website on each day of the week. The program simply prompts for input and asks your supervisors to enter the number of visitors each day, which they can retrieve from an administrative dashboard. A series of actions can then be performed on the data, some of which are requested below:"
   ]
  },
  {
   "cell_type": "markdown",
   "metadata": {},
   "source": [
    "### Question 1 (8pts)\n",
    "Write a **function**, called *get_visitor_numbers*, that lets your supervisor enter the total number of site visitors for each of the 7 days of a week into a list. This function should use an iteration statement to get input from the user and should return a list of 7 numbers. The returned list will be stored in a variable called *numbers*, as shown below. <br />\n",
    "\n",
    "For your convenience, a list of days is provided, in case you may need it. ;)"
   ]
  },
  {
   "cell_type": "code",
   "execution_count": 7,
   "metadata": {},
   "outputs": [],
   "source": [
    "days = [\"Sunday\", \"Monday\", \"Tuesday\", \"Wednesday\", \"Thursday\", \"Friday\", \"Saturday\"]\n",
    "\n",
    "def get_visitor_numbers():\n",
    "    #answer1 goes here"
   ]
  },
  {
   "cell_type": "code",
   "execution_count": 3,
   "metadata": {},
   "outputs": [
    {
     "name": "stdout",
     "output_type": "stream",
     "text": [
      "Enter the number of visitors for Sunday: 122\n",
      "Enter the number of visitors for Monday: 654\n",
      "Enter the number of visitors for Tuesday: 456\n",
      "Enter the number of visitors for Wednesday: 189\n",
      "Enter the number of visitors for Thursday: 122\n",
      "Enter the number of visitors for Friday: 698\n",
      "Enter the number of visitors for Saturday: 201\n"
     ]
    }
   ],
   "source": [
    "numbers = get_visitor_numbers()\n",
    "#when executed, the user should be prompted to enter values for each day \n",
    "#and the list of 7 numbers should be assigned to the variable numbers at the end.\n",
    "#sample output below"
   ]
  },
  {
   "cell_type": "code",
   "execution_count": 4,
   "metadata": {},
   "outputs": [
    {
     "data": {
      "text/plain": [
       "[122, 654, 456, 189, 122, 698, 201]"
      ]
     },
     "execution_count": 4,
     "metadata": {},
     "output_type": "execute_result"
    }
   ],
   "source": [
    "numbers #when executed, this should return a list of 7 numbers\n",
    "#sample output below"
   ]
  },
  {
   "cell_type": "markdown",
   "metadata": {},
   "source": [
    "### Question 2 (1pt)\n",
    "Building on the previous question, write a code snippet that displays the total number of visitors for the week."
   ]
  },
  {
   "cell_type": "code",
   "execution_count": 5,
   "metadata": {},
   "outputs": [
    {
     "name": "stdout",
     "output_type": "stream",
     "text": [
      "Total number of visitors for the week: 2442\n"
     ]
    }
   ],
   "source": [
    "#answer2 goes here\n",
    "#sample output below:"
   ]
  },
  {
   "cell_type": "markdown",
   "metadata": {},
   "source": [
    "### Question 3 (1pt)\n",
    "Write a code snippet that displays the average number of visitors across the entire week"
   ]
  },
  {
   "cell_type": "code",
   "execution_count": 6,
   "metadata": {
    "scrolled": true
   },
   "outputs": [
    {
     "name": "stdout",
     "output_type": "stream",
     "text": [
      "Average number of visitors for the week: 348.85714285714283\n"
     ]
    }
   ],
   "source": [
    "#answer3 goes here\n",
    "#sample output below"
   ]
  },
  {
   "cell_type": "markdown",
   "metadata": {},
   "source": [
    "<center> <h2> Part 2 </h2> </center>"
   ]
  },
  {
   "cell_type": "markdown",
   "metadata": {},
   "source": [
    "In this part of your project assignment, your supervisors would like you to analyze some website visitor tracking data. The goal is to identify the top social media sites from which your visitors arrive at your website. \n",
    "\n",
    "While there is a gigantic text file containing all the domain names for this week's visitors, your supervisors do not want you to get overwhelmed by the amount of data contained in the file, which is why you are given the following string containing the last 15 domains from which visitors arrived at your website. You will develop your program using this string, which can then be used with the larger file later on."
   ]
  },
  {
   "cell_type": "code",
   "execution_count": 9,
   "metadata": {},
   "outputs": [],
   "source": [
    "domains = \"\"\"facebook.com google.com google.com instagram.com tumblr.com twitter.com \n",
    "facebook.com tumblr.com facebook.com pinterest.com twitter.com google.com facebook.com google.com google.com\"\"\""
   ]
  },
  {
   "cell_type": "markdown",
   "metadata": {},
   "source": [
    "### Question 4 (1pt)\n",
    "Write a single-line code snippet to retrieve each domain name from the string and pack it into a list, called *domain_list*. <br />\n",
    "**Hint:** We showed you a simple built-in method during class that can return each individual word in a string if the words are separated by a space. "
   ]
  },
  {
   "cell_type": "code",
   "execution_count": null,
   "metadata": {},
   "outputs": [],
   "source": [
    "#answer4 goes here\n"
   ]
  },
  {
   "cell_type": "code",
   "execution_count": 11,
   "metadata": {},
   "outputs": [
    {
     "data": {
      "text/plain": [
       "['facebook.com',\n",
       " 'google.com',\n",
       " 'google.com',\n",
       " 'instagram.com',\n",
       " 'tumblr.com',\n",
       " 'twitter.com',\n",
       " 'facebook.com',\n",
       " 'tumblr.com',\n",
       " 'facebook.com',\n",
       " 'pinterest.com',\n",
       " 'twitter.com',\n",
       " 'google.com',\n",
       " 'facebook.com',\n",
       " 'google.com',\n",
       " 'google.com']"
      ]
     },
     "execution_count": 11,
     "metadata": {},
     "output_type": "execute_result"
    }
   ],
   "source": [
    "domain_list #when executed this should return a list of 15 domain names in the same order as shown above."
   ]
  },
  {
   "cell_type": "markdown",
   "metadata": {},
   "source": [
    "### Question 5 (8pts)\n",
    "Your supervisors would like you to identify the top site(s) from which visitors arrive at your website. For this purpose, you are being asked to use a dictionary. \n",
    "\n",
    "Write a code snippet that makes a dictionary, named *domain_dict*, in which the keys are the individual domain names found in the domain_list list you generated above and the values are the number of times each domain name appears in the list. For instance, if the domain name \"twitter.com\" appears 2 times, the dictionary would contain an element with \"twitter.com\" as the key and 2 as the value.\n",
    "\n",
    "**Hint:** the built-in dictionary method *get()* would be particularly useful here, according to your supervisors. ;)\n",
    "\n",
    "\n"
   ]
  },
  {
   "cell_type": "code",
   "execution_count": null,
   "metadata": {},
   "outputs": [],
   "source": [
    "#answer5 goes here\n"
   ]
  },
  {
   "cell_type": "code",
   "execution_count": 14,
   "metadata": {},
   "outputs": [
    {
     "data": {
      "text/plain": [
       "{'facebook.com': 4,\n",
       " 'google.com': 5,\n",
       " 'instagram.com': 1,\n",
       " 'tumblr.com': 2,\n",
       " 'twitter.com': 2,\n",
       " 'pinterest.com': 1}"
      ]
     },
     "execution_count": 14,
     "metadata": {},
     "output_type": "execute_result"
    }
   ],
   "source": [
    "domain_dict #when executed, this should return the following dictionary definition"
   ]
  },
  {
   "cell_type": "markdown",
   "metadata": {},
   "source": [
    "### Question 6 (1pt)\n",
    "Your supervisors would like to know the number of unique social media sites from which the users arrive at your website.\n",
    "\n",
    "Write a single-line code snippet that displays the number of unique social media sites in the list."
   ]
  },
  {
   "cell_type": "code",
   "execution_count": 15,
   "metadata": {
    "scrolled": true
   },
   "outputs": [
    {
     "name": "stdout",
     "output_type": "stream",
     "text": [
      "Number of unique domain addresses: 6\n"
     ]
    }
   ],
   "source": [
    "#answer6 goes here\n",
    "#sample output below"
   ]
  },
  {
   "cell_type": "markdown",
   "metadata": {},
   "source": [
    "### Question 7 (5pts)\n",
    "\n",
    "Write a code snippet that uses an iteration statement to display the domain names and the number of visitors from each domain. Remember you already have these in the dictionary you defined above."
   ]
  },
  {
   "cell_type": "code",
   "execution_count": 17,
   "metadata": {},
   "outputs": [
    {
     "name": "stdout",
     "output_type": "stream",
     "text": [
      "Number of visitors from facebook.com is 4\n",
      "Number of visitors from google.com is 5\n",
      "Number of visitors from instagram.com is 1\n",
      "Number of visitors from tumblr.com is 2\n",
      "Number of visitors from twitter.com is 2\n",
      "Number of visitors from pinterest.com is 1\n"
     ]
    }
   ],
   "source": [
    "#answer7 goes here\n",
    "#sample output below"
   ]
  },
  {
   "cell_type": "markdown",
   "metadata": {},
   "source": [
    "### Question 8 (5pts)\n",
    "This question requires you to use the domain_list you generated in Question 4. <br />\n",
    "Write a `for` statement using the built-in **range()** function to display the every 3rd element of the list (starting from the first element)."
   ]
  },
  {
   "cell_type": "code",
   "execution_count": 19,
   "metadata": {},
   "outputs": [
    {
     "data": {
      "text/plain": [
       "['facebook.com',\n",
       " 'google.com',\n",
       " 'google.com',\n",
       " 'instagram.com',\n",
       " 'tumblr.com',\n",
       " 'twitter.com',\n",
       " 'facebook.com',\n",
       " 'tumblr.com',\n",
       " 'facebook.com',\n",
       " 'pinterest.com',\n",
       " 'twitter.com',\n",
       " 'google.com',\n",
       " 'facebook.com',\n",
       " 'google.com',\n",
       " 'google.com']"
      ]
     },
     "execution_count": 19,
     "metadata": {},
     "output_type": "execute_result"
    }
   ],
   "source": [
    "domain_list"
   ]
  },
  {
   "cell_type": "code",
   "execution_count": 20,
   "metadata": {
    "scrolled": true
   },
   "outputs": [
    {
     "name": "stdout",
     "output_type": "stream",
     "text": [
      "facebook.com\n",
      "instagram.com\n",
      "facebook.com\n",
      "pinterest.com\n",
      "facebook.com\n"
     ]
    }
   ],
   "source": [
    "#answer8 goes here\n",
    "#sample output below"
   ]
  },
  {
   "cell_type": "code",
   "execution_count": null,
   "metadata": {},
   "outputs": [],
   "source": []
  }
 ],
 "metadata": {
  "kernelspec": {
   "display_name": "Python 3",
   "language": "python",
   "name": "python3"
  },
  "language_info": {
   "codemirror_mode": {
    "name": "ipython",
    "version": 3
   },
   "file_extension": ".py",
   "mimetype": "text/x-python",
   "name": "python",
   "nbconvert_exporter": "python",
   "pygments_lexer": "ipython3",
   "version": "3.6.5"
  }
 },
 "nbformat": 4,
 "nbformat_minor": 2
}

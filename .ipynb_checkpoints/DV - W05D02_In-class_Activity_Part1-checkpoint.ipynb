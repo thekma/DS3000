{
 "cells": [
  {
   "cell_type": "markdown",
   "metadata": {},
   "source": [
    "<center><h2> In-class Team Activity Part 1</h2></center>"
   ]
  },
  {
   "cell_type": "markdown",
   "metadata": {},
   "source": [
    "The following Wikipedia page provides a list of the characters in JK Rowling's Harry Potter universe. \n",
    "https://en.wikipedia.org/wiki/List_of_Harry_Potter_characters"
   ]
  },
  {
   "cell_type": "code",
   "execution_count": 2,
   "metadata": {},
   "outputs": [],
   "source": [
    "char_list_url = \"https://en.wikipedia.org/wiki/List_of_Harry_Potter_characters\""
   ]
  },
  {
   "cell_type": "markdown",
   "metadata": {},
   "source": [
    "Your first task is to scrape from this page the URL for a small subset of these characters. You are given a list of characters as follows:"
   ]
  },
  {
   "cell_type": "code",
   "execution_count": 3,
   "metadata": {},
   "outputs": [],
   "source": [
    "characters = [\"Harry Potter\", \"Hermione Granger\", \"Ron Weasley\", \n",
    "              \"Albus Dumbledore\", \"Severus Snape\", \"Rubeus Hagrid\", \"Ginny Weasley\"]"
   ]
  },
  {
   "cell_type": "code",
   "execution_count": 4,
   "metadata": {},
   "outputs": [
    {
     "name": "stdout",
     "output_type": "stream",
     "text": [
      "/wiki/Albus_Dumbledore\n",
      "/wiki/Hermione_Granger\n",
      "/wiki/Rubeus_Hagrid\n",
      "/wiki/Hermione_Granger\n",
      "/wiki/Harry_Potter_(character)\n",
      "/wiki/Severus_Snape\n",
      "/wiki/Ginny_Weasley\n",
      "/wiki/Ron_Weasley\n",
      "/wiki/Harry_Potter_(character)\n",
      "/wiki/Ron_Weasley\n",
      "/wiki/Hermione_Granger\n",
      "/wiki/Albus_Dumbledore\n",
      "/wiki/Severus_Snape\n",
      "/wiki/Rubeus_Hagrid\n",
      "/wiki/Ginny_Weasley\n"
     ]
    }
   ],
   "source": [
    "from bs4 import BeautifulSoup\n",
    "import pandas as pd\n",
    "import urllib.request as urllib\n",
    "\n",
    "\n",
    "html = urllib.urlopen(char_list_url)\n",
    "soup = BeautifulSoup(html.read(), \"lxml\")\n",
    "a_tags = soup.find_all(\"li\")\n",
    "dict_char = {}\n",
    "url_list = []\n",
    "for tag in a_tags:\n",
    "    if tag.find(\"a\"):\n",
    "        a_tag = tag.find(\"a\").get(\"href\")\n",
    "        char_name = tag.find(\"a\").get_text()\n",
    "        if char_name in characters:\n",
    "            print(a_tag)\n",
    "            dict_char[char_name] = a_tag\n",
    "    \n",
    "    #webcrawl"
   ]
  },
  {
   "cell_type": "code",
   "execution_count": 5,
   "metadata": {},
   "outputs": [
    {
     "data": {
      "text/plain": [
       "{'Albus Dumbledore': '/wiki/Albus_Dumbledore',\n",
       " 'Hermione Granger': '/wiki/Hermione_Granger',\n",
       " 'Rubeus Hagrid': '/wiki/Rubeus_Hagrid',\n",
       " 'Harry Potter': '/wiki/Harry_Potter_(character)',\n",
       " 'Severus Snape': '/wiki/Severus_Snape',\n",
       " 'Ginny Weasley': '/wiki/Ginny_Weasley',\n",
       " 'Ron Weasley': '/wiki/Ron_Weasley'}"
      ]
     },
     "execution_count": 5,
     "metadata": {},
     "output_type": "execute_result"
    }
   ],
   "source": [
    "dict_char"
   ]
  },
  {
   "cell_type": "markdown",
   "metadata": {},
   "source": [
    "* Then you will write a web crawler that visits the URL for each of these characters and extracts certain pieces of information about each character from their infomation box.\n",
    "* Specifically you should retrieve each character's full name, birth date, Hogwarts house (e.g., Gryffindor), and link to picture.\n",
    "* You should then store all of this information in a DataFrame and write the final version of the dataframe to a CSV file as shown below:"
   ]
  },
  {
   "cell_type": "code",
   "execution_count": 14,
   "metadata": {},
   "outputs": [
    {
     "name": "stdout",
     "output_type": "stream",
     "text": [
      "{'Albus Dumbledore': ('Albus Dumbledore', '/wiki/File:Dumbledore_and_Elder_Wand.JPG')}\n",
      "{'Albus Dumbledore': ('Albus Dumbledore', '/wiki/File:Dumbledore_and_Elder_Wand.JPG')}\n",
      "{'Albus Dumbledore': ('Albus Dumbledore', '/wiki/File:Dumbledore_and_Elder_Wand.JPG')}\n",
      "{'Albus Dumbledore': ('Albus Dumbledore', '/wiki/File:Dumbledore_and_Elder_Wand.JPG')}\n",
      "{'Albus Dumbledore': ('Albus Dumbledore', '/wiki/File:Dumbledore_and_Elder_Wand.JPG')}\n",
      "{'Albus Dumbledore': ('Albus Dumbledore', '/wiki/File:Dumbledore_and_Elder_Wand.JPG')}\n",
      "{'Albus Dumbledore': ('Albus Dumbledore', '/wiki/File:Dumbledore_and_Elder_Wand.JPG')}\n",
      "{'Albus Dumbledore': ('Albus Dumbledore', '/wiki/File:Dumbledore_and_Elder_Wand.JPG')}\n",
      "{'Albus Dumbledore': ('Albus Dumbledore', '/wiki/File:Dumbledore_and_Elder_Wand.JPG')}\n",
      "{'Albus Dumbledore': ('Albus Dumbledore', '/wiki/File:Dumbledore_and_Elder_Wand.JPG')}\n",
      "{'Albus Dumbledore': ('Albus Dumbledore', '/wiki/File:Dumbledore_and_Elder_Wand.JPG')}\n",
      "{'Hermione Granger': ('Hermione Granger', '/wiki/File:Hermione_Granger_poster.jpg')}\n",
      "{'Hermione Granger': ('Hermione Granger', '/wiki/File:Hermione_Granger_poster.jpg')}\n",
      "{'Hermione Granger': ('Hermione Granger', '/wiki/File:Hermione_Granger_poster.jpg')}\n",
      "{'Hermione Granger': ('Hermione Granger', '/wiki/File:Hermione_Granger_poster.jpg')}\n",
      "{'Hermione Granger': ('Hermione Granger', '/wiki/File:Hermione_Granger_poster.jpg')}\n",
      "{'Hermione Granger': ('Hermione Granger', '/wiki/File:Hermione_Granger_poster.jpg')}\n",
      "{'Hermione Granger': ('Hermione Granger', '/wiki/File:Hermione_Granger_poster.jpg')}\n",
      "{'Hermione Granger': ('Hermione Granger', '/wiki/File:Hermione_Granger_poster.jpg')}\n",
      "{'Hermione Granger': ('Hermione Granger', '/wiki/File:Hermione_Granger_poster.jpg')}\n",
      "{'Hermione Granger': ('Hermione Granger', '/wiki/File:Hermione_Granger_poster.jpg')}\n",
      "{'Rubeus Hagrid': ('Rubeus Hagrid', '/wiki/File:RubeusHagrid.jpg')}\n",
      "{'Rubeus Hagrid': ('Rubeus Hagrid', '/wiki/File:RubeusHagrid.jpg')}\n",
      "{'Rubeus Hagrid': ('Rubeus Hagrid', '/wiki/File:RubeusHagrid.jpg')}\n",
      "{'Rubeus Hagrid': ('Rubeus Hagrid', '/wiki/File:RubeusHagrid.jpg')}\n",
      "{'Rubeus Hagrid': ('Rubeus Hagrid', '/wiki/File:RubeusHagrid.jpg')}\n",
      "{'Rubeus Hagrid': ('Rubeus Hagrid', '/wiki/File:RubeusHagrid.jpg')}\n",
      "{'Rubeus Hagrid': ('Rubeus Hagrid', '/wiki/File:RubeusHagrid.jpg')}\n",
      "{'Rubeus Hagrid': ('Rubeus Hagrid', '/wiki/File:RubeusHagrid.jpg')}\n",
      "{'Rubeus Hagrid': ('Rubeus Hagrid', '/wiki/File:RubeusHagrid.jpg')}\n",
      "{'Harry Potter': ('Harry Potter', '/wiki/File:Harry_Potter_character_poster.jpg')}\n",
      "{'Harry Potter': ('Harry Potter', '/wiki/File:Harry_Potter_character_poster.jpg')}\n",
      "{'Harry Potter': ('Harry Potter', '/wiki/File:Harry_Potter_character_poster.jpg')}\n",
      "{'Harry Potter': ('Harry Potter', '/wiki/File:Harry_Potter_character_poster.jpg')}\n",
      "{'Harry Potter': ('Harry Potter', '/wiki/File:Harry_Potter_character_poster.jpg')}\n",
      "{'Harry Potter': ('Harry Potter', '/wiki/File:Harry_Potter_character_poster.jpg')}\n",
      "{'Harry Potter': ('Harry Potter', '/wiki/File:Harry_Potter_character_poster.jpg')}\n",
      "{'Harry Potter': ('Harry Potter', '/wiki/File:Harry_Potter_character_poster.jpg')}\n",
      "{'Harry Potter': ('Harry Potter', '/wiki/File:Harry_Potter_character_poster.jpg')}\n",
      "{'Harry Potter': ('Harry Potter', '/wiki/File:Harry_Potter_character_poster.jpg')}\n",
      "{'Harry Potter': ('Harry Potter', '/wiki/File:Harry_Potter_character_poster.jpg')}\n",
      "{'Harry Potter': ('Harry Potter', '/wiki/File:Harry_Potter_character_poster.jpg')}\n",
      "{'Harry Potter': ('Harry Potter', '/wiki/File:Harry_Potter_character_poster.jpg')}\n",
      "{'Severus Snape': ('Severus Snape', '/wiki/File:Ootp076.jpg')}\n",
      "{'Severus Snape': ('Severus Snape', '/wiki/File:Ootp076.jpg')}\n",
      "{'Severus Snape': ('Severus Snape', '/wiki/File:Ootp076.jpg')}\n",
      "{'Severus Snape': ('Severus Snape', '/wiki/File:Ootp076.jpg')}\n",
      "{'Severus Snape': ('Severus Snape', '/wiki/File:Ootp076.jpg')}\n",
      "{'Severus Snape': ('Severus Snape', '/wiki/File:Ootp076.jpg')}\n",
      "{'Severus Snape': ('Severus Snape', '/wiki/File:Ootp076.jpg')}\n",
      "{'Severus Snape': ('Severus Snape', '/wiki/File:Ootp076.jpg')}\n",
      "{'Severus Snape': ('Severus Snape', '/wiki/File:Ootp076.jpg')}\n",
      "{'Severus Snape': ('Severus Snape', '/wiki/File:Ootp076.jpg')}\n",
      "{'Severus Snape': ('Severus Snape', '/wiki/File:Ootp076.jpg')}\n",
      "{'Severus Snape': ('Severus Snape', '/wiki/File:Ootp076.jpg')}\n",
      "{'Severus Snape': ('Severus Snape', '/wiki/File:Ootp076.jpg')}\n",
      "{'Ginny Weasley': ('Ginny Weasley', '/wiki/File:Ginny_Weasley_poster.jpg')}\n",
      "{'Ginny Weasley': ('Ginny Weasley', '/wiki/File:Ginny_Weasley_poster.jpg')}\n",
      "{'Ginny Weasley': ('Ginny Weasley', '/wiki/File:Ginny_Weasley_poster.jpg')}\n",
      "{'Ginny Weasley': ('Ginny Weasley', '/wiki/File:Ginny_Weasley_poster.jpg')}\n",
      "{'Ginny Weasley': ('Ginny Weasley', '/wiki/File:Ginny_Weasley_poster.jpg')}\n",
      "{'Ginny Weasley': ('Ginny Weasley', '/wiki/File:Ginny_Weasley_poster.jpg')}\n",
      "{'Ginny Weasley': ('Ginny Weasley', '/wiki/File:Ginny_Weasley_poster.jpg')}\n",
      "{'Ginny Weasley': ('Ginny Weasley', '/wiki/File:Ginny_Weasley_poster.jpg')}\n",
      "{'Ginny Weasley': ('Ginny Weasley', '/wiki/File:Ginny_Weasley_poster.jpg')}\n",
      "{'Ginny Weasley': ('Ginny Weasley', '/wiki/File:Ginny_Weasley_poster.jpg')}\n",
      "{'Ron Weasley': ('Ron Weasley', '/wiki/File:Ron_Weasley_poster.jpg')}\n",
      "{'Ron Weasley': ('Ron Weasley', '/wiki/File:Ron_Weasley_poster.jpg')}\n",
      "{'Ron Weasley': ('Ron Weasley', '/wiki/File:Ron_Weasley_poster.jpg')}\n",
      "{'Ron Weasley': ('Ron Weasley', '/wiki/File:Ron_Weasley_poster.jpg')}\n",
      "{'Ron Weasley': ('Ron Weasley', '/wiki/File:Ron_Weasley_poster.jpg')}\n",
      "{'Ron Weasley': ('Ron Weasley', '/wiki/File:Ron_Weasley_poster.jpg')}\n",
      "{'Ron Weasley': ('Ron Weasley', '/wiki/File:Ron_Weasley_poster.jpg')}\n",
      "{'Ron Weasley': ('Ron Weasley', '/wiki/File:Ron_Weasley_poster.jpg')}\n",
      "{'Ron Weasley': ('Ron Weasley', '/wiki/File:Ron_Weasley_poster.jpg')}\n",
      "{'Ron Weasley': ('Ron Weasley', '/wiki/File:Ron_Weasley_poster.jpg')}\n",
      "{'Ron Weasley': ('Ron Weasley', '/wiki/File:Ron_Weasley_poster.jpg')}\n"
     ]
    },
    {
     "data": {
      "text/html": [
       "<div>\n",
       "<style scoped>\n",
       "    .dataframe tbody tr th:only-of-type {\n",
       "        vertical-align: middle;\n",
       "    }\n",
       "\n",
       "    .dataframe tbody tr th {\n",
       "        vertical-align: top;\n",
       "    }\n",
       "\n",
       "    .dataframe thead th {\n",
       "        text-align: right;\n",
       "    }\n",
       "</style>\n",
       "<table border=\"1\" class=\"dataframe\">\n",
       "  <thead>\n",
       "    <tr style=\"text-align: right;\">\n",
       "      <th></th>\n",
       "    </tr>\n",
       "  </thead>\n",
       "  <tbody>\n",
       "  </tbody>\n",
       "</table>\n",
       "</div>"
      ],
      "text/plain": [
       "Empty DataFrame\n",
       "Columns: []\n",
       "Index: []"
      ]
     },
     "execution_count": 14,
     "metadata": {},
     "output_type": "execute_result"
    }
   ],
   "source": [
    "#df = pd.DataFrame(index=(0,1,2,3,4), columns=(\"Name\", \"FullName\", \"Born\", \"House\", \"Picture\"))\n",
    "df = pd.DataFrame()\n",
    "wiki = \"https://en.wikipedia.org\"\n",
    "\n",
    "for key, value in dict_char.items():\n",
    "    url = wiki + value\n",
    "    html = urllib.urlopen(url)\n",
    "    soup = BeautifulSoup(html.read(), \"lxml\")\n",
    "    #print(soup)\n",
    "    char_info_dict = {key: key}\n",
    "    # get info\n",
    "    table = soup.find(\"table\", class_= \"infobox\").find_all(\"tr\")\n",
    "    for tr_element in table:\n",
    "        label = tr_element.find(\"th\", {\"scope\":\"row\"})\n",
    "        value = tr_element.find(\"td\")\n",
    "        if label and value:\n",
    "            label_text = label.get_text()\n",
    "            #if label_text == \"Full name\":\n",
    "             #   char_info_dict[key] = key, value.get_text()\n",
    "            #if label_text == \"Born\":\n",
    "             #   char_info_dict[key] = key, value.get_text()\n",
    "            #if label_text == \"House\":\n",
    "             #   char_info_dict[key] = key, value.get_text()\n",
    "            fullcname = soup.find(\"a\")\n",
    "            image_url = soup.find(\"a\", class_=\"image\").get(\"href\")\n",
    "            char_info_dict[key] = key, image_url\n",
    "            print(char_info_dict)\n",
    "citemlist = [char_info_item for char_info_item in char_info_dict]\n",
    "#for char_info_item in char_info_dict:\n",
    " #   citem_num = citemlist.index(char_info_item)\n",
    "  #  df.loc[citem_num] = char_info_dict[char_info_item]\n",
    "#df = pd.DataFrame(char_info_dict)\n",
    "\n",
    "print(char_info_dict)\n",
    "    #df.append(char_info_dict, ignore_index = True)\n",
    "\n",
    "df"
   ]
  },
  {
   "cell_type": "code",
   "execution_count": 103,
   "metadata": {
    "scrolled": true
   },
   "outputs": [
    {
     "data": {
      "text/html": [
       "<div>\n",
       "<style scoped>\n",
       "    .dataframe tbody tr th:only-of-type {\n",
       "        vertical-align: middle;\n",
       "    }\n",
       "\n",
       "    .dataframe tbody tr th {\n",
       "        vertical-align: top;\n",
       "    }\n",
       "\n",
       "    .dataframe thead th {\n",
       "        text-align: right;\n",
       "    }\n",
       "</style>\n",
       "<table border=\"1\" class=\"dataframe\">\n",
       "  <thead>\n",
       "    <tr style=\"text-align: right;\">\n",
       "      <th></th>\n",
       "      <th>Name</th>\n",
       "      <th>FullName</th>\n",
       "      <th>Born</th>\n",
       "      <th>House</th>\n",
       "      <th>Picture</th>\n",
       "    </tr>\n",
       "  </thead>\n",
       "  <tbody>\n",
       "    <tr>\n",
       "      <td>0</td>\n",
       "      <td>Harry Potter</td>\n",
       "      <td>Harry James Potter</td>\n",
       "      <td>31 July 1980</td>\n",
       "      <td>Gryffindor</td>\n",
       "      <td>//upload.wikimedia.org/wikipedia/en/thumb/d/d7...</td>\n",
       "    </tr>\n",
       "    <tr>\n",
       "      <td>1</td>\n",
       "      <td>Hermione Granger</td>\n",
       "      <td>Hermione Jean Granger</td>\n",
       "      <td>19 September 1979</td>\n",
       "      <td>Gryffindor</td>\n",
       "      <td>//upload.wikimedia.org/wikipedia/en/thumb/d/d3...</td>\n",
       "    </tr>\n",
       "    <tr>\n",
       "      <td>2</td>\n",
       "      <td>Ron Weasley</td>\n",
       "      <td>Ronald Bilius Weasley</td>\n",
       "      <td>1 March 1980</td>\n",
       "      <td>Gryffindor</td>\n",
       "      <td>//upload.wikimedia.org/wikipedia/en/thumb/5/5e...</td>\n",
       "    </tr>\n",
       "    <tr>\n",
       "      <td>3</td>\n",
       "      <td>Albus Dumbledore</td>\n",
       "      <td>Albus Percival Wulfric Brian Dumbledore</td>\n",
       "      <td>1881</td>\n",
       "      <td>Gryffindor</td>\n",
       "      <td>//upload.wikimedia.org/wikipedia/en/thumb/f/fe...</td>\n",
       "    </tr>\n",
       "    <tr>\n",
       "      <td>4</td>\n",
       "      <td>Severus Snape</td>\n",
       "      <td>Severus Snape</td>\n",
       "      <td>9 January 1960</td>\n",
       "      <td>Slytherin</td>\n",
       "      <td>//upload.wikimedia.org/wikipedia/en/thumb/b/b9...</td>\n",
       "    </tr>\n",
       "    <tr>\n",
       "      <td>5</td>\n",
       "      <td>Rubeus Hagrid</td>\n",
       "      <td>Severus Snape</td>\n",
       "      <td>6 December 1928</td>\n",
       "      <td>Gryffindor</td>\n",
       "      <td>//upload.wikimedia.org/wikipedia/en/thumb/1/10...</td>\n",
       "    </tr>\n",
       "  </tbody>\n",
       "</table>\n",
       "</div>"
      ],
      "text/plain": [
       "               Name                                 FullName  \\\n",
       "0      Harry Potter                       Harry James Potter   \n",
       "1  Hermione Granger                    Hermione Jean Granger   \n",
       "2       Ron Weasley                    Ronald Bilius Weasley   \n",
       "3  Albus Dumbledore  Albus Percival Wulfric Brian Dumbledore   \n",
       "4     Severus Snape                            Severus Snape   \n",
       "5     Rubeus Hagrid                            Severus Snape   \n",
       "\n",
       "                Born       House  \\\n",
       "0       31 July 1980  Gryffindor   \n",
       "1  19 September 1979  Gryffindor   \n",
       "2       1 March 1980  Gryffindor   \n",
       "3               1881  Gryffindor   \n",
       "4     9 January 1960   Slytherin   \n",
       "5    6 December 1928  Gryffindor   \n",
       "\n",
       "                                             Picture  \n",
       "0  //upload.wikimedia.org/wikipedia/en/thumb/d/d7...  \n",
       "1  //upload.wikimedia.org/wikipedia/en/thumb/d/d3...  \n",
       "2  //upload.wikimedia.org/wikipedia/en/thumb/5/5e...  \n",
       "3  //upload.wikimedia.org/wikipedia/en/thumb/f/fe...  \n",
       "4  //upload.wikimedia.org/wikipedia/en/thumb/b/b9...  \n",
       "5  //upload.wikimedia.org/wikipedia/en/thumb/1/10...  "
      ]
     },
     "execution_count": 103,
     "metadata": {},
     "output_type": "execute_result"
    }
   ],
   "source": [
    "df"
   ]
  },
  {
   "cell_type": "markdown",
   "metadata": {},
   "source": [
    "Here is a list of libraries you may need to import. The rest is yours!"
   ]
  },
  {
   "cell_type": "code",
   "execution_count": 21,
   "metadata": {},
   "outputs": [],
   "source": [
    "import urllib.request as urllib\n",
    "from bs4 import BeautifulSoup\n",
    "import pandas as pd\n",
    "import time"
   ]
  },
  {
   "cell_type": "code",
   "execution_count": 98,
   "metadata": {},
   "outputs": [],
   "source": []
  },
  {
   "cell_type": "code",
   "execution_count": null,
   "metadata": {},
   "outputs": [],
   "source": []
  }
 ],
 "metadata": {
  "kernelspec": {
   "display_name": "Python 3",
   "language": "python",
   "name": "python3"
  },
  "language_info": {
   "codemirror_mode": {
    "name": "ipython",
    "version": 3
   },
   "file_extension": ".py",
   "mimetype": "text/x-python",
   "name": "python",
   "nbconvert_exporter": "python",
   "pygments_lexer": "ipython3",
   "version": "3.6.5"
  }
 },
 "nbformat": 4,
 "nbformat_minor": 2
}

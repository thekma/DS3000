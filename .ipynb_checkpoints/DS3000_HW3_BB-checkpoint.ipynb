{
 "cells": [
  {
   "cell_type": "markdown",
   "metadata": {},
   "source": [
    "<center> <h1> DS 3000 </h1> </center>\n",
    "<center> <h1> Homework Assignment 3</h1> </center>\n"
   ]
  },
  {
   "cell_type": "markdown",
   "metadata": {},
   "source": [
    "<center> <h3> insert your full name here by double-clicking </h3></center>"
   ]
  },
  {
   "cell_type": "markdown",
   "metadata": {},
   "source": [
    "For this week's project, your supervisors would like you to scrape some data from the web!"
   ]
  },
  {
   "cell_type": "markdown",
   "metadata": {},
   "source": [
    "### What to do\n",
    "\n",
    "* Carefully read the description.\n",
    "* As you write your code for each question, please include comments. \n",
    "* Make sure you execute your code for each question and compare the output to the sample output provided.\n",
    "* Refrain from using advanced Python capabilities that were not covered in class.\n",
    "* When in doubt, ASK! Post a question on the Blackboard discussion forum for this homework assignment.\n",
    "* Complete the assignment on your own"
   ]
  },
  {
   "cell_type": "markdown",
   "metadata": {},
   "source": [
    "### What to submit\n",
    "* When you are done with the assignment, save it.\n",
    "* Download it as a Jupyter Notebook (DS3000_HW3.ipynb)\n",
    "* Upload your downloaded Notebook to Google Colab (https://colab.research.google.com/notebooks/)\n",
    "* Get a shareable link to your Notebook on Colab\n",
    "    * Go to Share near the top-right corner of the screen.\n",
    "    * Make sure you select Anyone with the Link Can View)\n",
    "    * Copy the link\n",
    "* Go to Blackboard\n",
    "* **Upload your Jupyter Notebook through the Blackboard assignment link.**\n",
    "* **Paste the link to you Colab Notebook in the Add Comments field.**\n",
    "* <font color = \"red\"> **Upload your scraped data file as well.** </font>\n",
    "* You can submit multiple attempts. The last attempt will be graded."
   ]
  },
  {
   "cell_type": "markdown",
   "metadata": {},
   "source": [
    "<center> <h2> Description </h2> </center>"
   ]
  },
  {
   "cell_type": "markdown",
   "metadata": {},
   "source": [
    "In this project, your supervisors would like you to scrape rental house listings from Craigslist. Although they made it sound like they wanted to you to practice web scraping skills, your cynical view is that they are trying to make you do their job, as one of them is looking to move to a new apartment in Boston!"
   ]
  },
  {
   "cell_type": "markdown",
   "metadata": {},
   "source": [
    "* As per your supervisors' request, you will need to scrape the rental apartments list from https://boston.craigslist.org.\n",
    "* It is probably a very good idea to familiarize yourself with the backend structure of the website before you attempt to scrape data from it. Go ahead and explore the site and inspect the HTML code."
   ]
  },
  {
   "cell_type": "code",
   "execution_count": null,
   "metadata": {},
   "outputs": [],
   "source": [
    "\"https://boston.craigslist.org\""
   ]
  },
  {
   "cell_type": "markdown",
   "metadata": {},
   "source": [
    "### Question 1 (5pts)\n",
    "Although you will be scraping the https://boston.craigslist.org URL, your supervisors would like you to write a function that takes two arguments, CL homepage link and a category name, and returns the URL of the category page.\n",
    "\n",
    "* The idea is that because CL is available across the country, this function could be used to scrape data from CL for other cities as well.\n",
    "* On CL, rental apartments are posted under \"apts / housing\" category. If you wanted to scrape data from that page, you would need to access https://boston.craigslist.org/d/apts-housing-for-rent/search/apa\n",
    "* Because CL uses the same URL structure across all cities in the country, writing a function might be useful!\n",
    "\n",
    "* Here are some sample function calls:"
   ]
  },
  {
   "cell_type": "code",
   "execution_count": 123,
   "metadata": {},
   "outputs": [
    {
     "data": {
      "text/plain": [
       "'https://boston.craigslist.org/d/apts-housing-for-rent/search/apa'"
      ]
     },
     "execution_count": 123,
     "metadata": {},
     "output_type": "execute_result"
    }
   ],
   "source": [
    "get_apts_url_from_cl_url(\"https://boston.craigslist.org\", \"apts / housing\")\n",
    "#this returns the URL of the \"apts / housing\" page on boston.craigslist.com"
   ]
  },
  {
   "cell_type": "code",
   "execution_count": 124,
   "metadata": {},
   "outputs": [
    {
     "data": {
      "text/plain": [
       "'https://newyork.craigslist.org/d/apts-housing-for-rent/search/apa'"
      ]
     },
     "execution_count": 124,
     "metadata": {},
     "output_type": "execute_result"
    }
   ],
   "source": [
    "get_apts_url_from_cl_url(\"https://newyork.craigslist.org\", \"apts / housing\")\n",
    "#this returns the URL of the \"apts / housing\" page on newyork.craigslist.com"
   ]
  },
  {
   "cell_type": "markdown",
   "metadata": {},
   "source": [
    "**Hint:**\n",
    "* your function should take the URL in the first argument\n",
    "* search for the URL of the second argument on the page provided in the first argument.\n",
    "* and then return the URL for the category provided in the second argument."
   ]
  },
  {
   "cell_type": "code",
   "execution_count": null,
   "metadata": {},
   "outputs": [],
   "source": [
    "def get_apts_url_from_cl_url(cl_url, cl_label):\n",
    "    #answer1 goes here\n"
   ]
  },
  {
   "cell_type": "markdown",
   "metadata": {},
   "source": [
    "### Question 2 (2pts)\n",
    "From the \"apts / housing\" page, you will scrape 5 pieces of information about each post: **listing price of the rental apartment**, **neighborhood**, **the title of the post**, **when the listing was posted**, and **the link to the post**.\n",
    "\n",
    "* The good thing is you only need to scrape data from the first page, which by default provides a list of 100+ listings. And this is enough for your supervisors.\n",
    "\n",
    "* You will store your scraped data in a DataFrame. \n",
    "\n",
    "**Therefore, in this question, you are asked to define an *empty* DataFrame, df_rental, with five column names: Rent, Neighborhood, Title, Posting Date, and URL.**\n",
    "\n",
    "\n"
   ]
  },
  {
   "cell_type": "code",
   "execution_count": null,
   "metadata": {},
   "outputs": [],
   "source": [
    "#answer2 goes here"
   ]
  },
  {
   "cell_type": "code",
   "execution_count": 128,
   "metadata": {},
   "outputs": [
    {
     "data": {
      "text/html": [
       "<div>\n",
       "<style scoped>\n",
       "    .dataframe tbody tr th:only-of-type {\n",
       "        vertical-align: middle;\n",
       "    }\n",
       "\n",
       "    .dataframe tbody tr th {\n",
       "        vertical-align: top;\n",
       "    }\n",
       "\n",
       "    .dataframe thead th {\n",
       "        text-align: right;\n",
       "    }\n",
       "</style>\n",
       "<table border=\"1\" class=\"dataframe\">\n",
       "  <thead>\n",
       "    <tr style=\"text-align: right;\">\n",
       "      <th></th>\n",
       "      <th>Rent</th>\n",
       "      <th>Neighborhood</th>\n",
       "      <th>Title</th>\n",
       "      <th>Posting Date</th>\n",
       "      <th>URL</th>\n",
       "    </tr>\n",
       "  </thead>\n",
       "  <tbody>\n",
       "  </tbody>\n",
       "</table>\n",
       "</div>"
      ],
      "text/plain": [
       "Empty DataFrame\n",
       "Columns: [Rent, Neighborhood, Title, Posting Date, URL]\n",
       "Index: []"
      ]
     },
     "execution_count": 128,
     "metadata": {},
     "output_type": "execute_result"
    }
   ],
   "source": [
    "#when executed, an empty DataFrame with the above 5 columns should be displayed\n",
    "df_rental"
   ]
  },
  {
   "cell_type": "markdown",
   "metadata": {},
   "source": [
    "### Question 3 (3pts)\n",
    "Write a code snippet that opens the category page URL you extracted above and creates a BeautifulSoup object, named **soup**, containing the contents of the page."
   ]
  },
  {
   "cell_type": "code",
   "execution_count": null,
   "metadata": {},
   "outputs": [],
   "source": [
    "\n",
    "#answer3 goes here"
   ]
  },
  {
   "cell_type": "markdown",
   "metadata": {},
   "source": [
    "### Warning:\n",
    "If you make multiple requests, CL will eventually block you! That's why you should create the BeautifulSoup object here and avoid executing this cell repeatedly. Once created, **soup** will enable you to do what you want."
   ]
  },
  {
   "cell_type": "markdown",
   "metadata": {},
   "source": [
    "### Question 4 (9pts)\n",
    "Write a code snippet that extracts from your BeautifulSoup object the aforementioned 5 pieces of information about each post: **listing price of the rental apartment**, **neighborhood**, **the title of the post**, **when the listing was posted**, and **the link to the post**.\n",
    "\n",
    "For each listing, you should store these five values in different columns in the DataFrame."
   ]
  },
  {
   "cell_type": "code",
   "execution_count": 127,
   "metadata": {},
   "outputs": [],
   "source": [
    "#answer4 goes here"
   ]
  },
  {
   "cell_type": "markdown",
   "metadata": {},
   "source": [
    "When executed, the following line should display your DataFrame as follows:\n",
    "* Note that the rent values do not contain the $ sign.\n",
    "* Also there are no parentheses around neighborhood names\n",
    "* Some of these fields may not be available for all listings. Your code should take that into account and leave the field value empty (=\"\") when a field is not available for the listing."
   ]
  },
  {
   "cell_type": "code",
   "execution_count": 132,
   "metadata": {},
   "outputs": [
    {
     "data": {
      "text/html": [
       "<div>\n",
       "<style scoped>\n",
       "    .dataframe tbody tr th:only-of-type {\n",
       "        vertical-align: middle;\n",
       "    }\n",
       "\n",
       "    .dataframe tbody tr th {\n",
       "        vertical-align: top;\n",
       "    }\n",
       "\n",
       "    .dataframe thead th {\n",
       "        text-align: right;\n",
       "    }\n",
       "</style>\n",
       "<table border=\"1\" class=\"dataframe\">\n",
       "  <thead>\n",
       "    <tr style=\"text-align: right;\">\n",
       "      <th></th>\n",
       "      <th>Rent</th>\n",
       "      <th>Neighborhood</th>\n",
       "      <th>Title</th>\n",
       "      <th>Posting Date</th>\n",
       "      <th>URL</th>\n",
       "    </tr>\n",
       "  </thead>\n",
       "  <tbody>\n",
       "    <tr>\n",
       "      <th>0</th>\n",
       "      <td>3500</td>\n",
       "      <td>Boston</td>\n",
       "      <td>Renovated South End condo available now!</td>\n",
       "      <td>Thu 26 Sep 09:36:14 PM</td>\n",
       "      <td>https://boston.craigslist.org/gbs/apa/d/boston...</td>\n",
       "    </tr>\n",
       "    <tr>\n",
       "      <th>1</th>\n",
       "      <td>3200</td>\n",
       "      <td>Somerville</td>\n",
       "      <td>Phenomenal 2.5 Bed 2Bth in Somerville! Modern!...</td>\n",
       "      <td>Thu 26 Sep 09:35:50 PM</td>\n",
       "      <td>https://boston.craigslist.org/gbs/apa/d/somerv...</td>\n",
       "    </tr>\n",
       "    <tr>\n",
       "      <th>2</th>\n",
       "      <td>2285</td>\n",
       "      <td>Kenmore</td>\n",
       "      <td>{Spacious Kenmore Sq 1 bed- Awesome location! ...</td>\n",
       "      <td>Thu 26 Sep 09:35:39 PM</td>\n",
       "      <td>https://boston.craigslist.org/gbs/apa/d/boston...</td>\n",
       "    </tr>\n",
       "    <tr>\n",
       "      <th>3</th>\n",
       "      <td>4100</td>\n",
       "      <td>Mission Hill</td>\n",
       "      <td>4 Bd on Parker St., Eat-in Kitchen, Hardwood F...</td>\n",
       "      <td>Thu 26 Sep 09:34:51 PM</td>\n",
       "      <td>https://boston.craigslist.org/gbs/apa/d/roxbur...</td>\n",
       "    </tr>\n",
       "    <tr>\n",
       "      <th>4</th>\n",
       "      <td>900</td>\n",
       "      <td>Brighton</td>\n",
       "      <td>EXCLUSIVE MASSIVE 2 BED BEST STEAL  UNIQUE IN ...</td>\n",
       "      <td>Thu 26 Sep 09:34:45 PM</td>\n",
       "      <td>https://boston.craigslist.org/gbs/apa/d/bright...</td>\n",
       "    </tr>\n",
       "  </tbody>\n",
       "</table>\n",
       "</div>"
      ],
      "text/plain": [
       "   Rent  Neighborhood                                              Title  \\\n",
       "0  3500        Boston           Renovated South End condo available now!   \n",
       "1  3200    Somerville  Phenomenal 2.5 Bed 2Bth in Somerville! Modern!...   \n",
       "2  2285       Kenmore  {Spacious Kenmore Sq 1 bed- Awesome location! ...   \n",
       "3  4100  Mission Hill  4 Bd on Parker St., Eat-in Kitchen, Hardwood F...   \n",
       "4   900      Brighton  EXCLUSIVE MASSIVE 2 BED BEST STEAL  UNIQUE IN ...   \n",
       "\n",
       "             Posting Date                                                URL  \n",
       "0  Thu 26 Sep 09:36:14 PM  https://boston.craigslist.org/gbs/apa/d/boston...  \n",
       "1  Thu 26 Sep 09:35:50 PM  https://boston.craigslist.org/gbs/apa/d/somerv...  \n",
       "2  Thu 26 Sep 09:35:39 PM  https://boston.craigslist.org/gbs/apa/d/boston...  \n",
       "3  Thu 26 Sep 09:34:51 PM  https://boston.craigslist.org/gbs/apa/d/roxbur...  \n",
       "4  Thu 26 Sep 09:34:45 PM  https://boston.craigslist.org/gbs/apa/d/bright...  "
      ]
     },
     "execution_count": 132,
     "metadata": {},
     "output_type": "execute_result"
    }
   ],
   "source": [
    "df_rental.head()"
   ]
  },
  {
   "cell_type": "markdown",
   "metadata": {},
   "source": [
    "### Question 5 (9pts)\n",
    "Your supervisors would also like you to extract another piece of information from each listing's own page. For each post, they would like you to retrieve the number of bedrooms and bathrooms available in the apartment. This information can be accessed from each listing's own page. You should study that page very carefully!\n",
    "\n",
    "* Your code snippet should look through the above BeautifulSoup object\n",
    "* For each listing, go to the listing's page\n",
    "* Retrieve the bedroom and bathroom information and store it in a list, bed_bath_list\n",
    "* Before moving on to the next page in your code, you might find it useful to pause the program for 5-10 seconds. CL is really snippy about people crawling their site."
   ]
  },
  {
   "cell_type": "code",
   "execution_count": null,
   "metadata": {},
   "outputs": [],
   "source": [
    "#answer5 goes here"
   ]
  },
  {
   "cell_type": "code",
   "execution_count": null,
   "metadata": {},
   "outputs": [],
   "source": [
    "bed_bath_list\n",
    "#when executed should return a list that holds values like ['2BR / 2Ba', '2BR / 2Ba', '1BR / 1Ba'...]"
   ]
  },
  {
   "cell_type": "markdown",
   "metadata": {},
   "source": [
    "### Question 6 (1pts)\n",
    "Write a one-line code snippet to add the list you generated in the previous question as a new column to the df_rental DataFrame:"
   ]
  },
  {
   "cell_type": "code",
   "execution_count": null,
   "metadata": {},
   "outputs": [],
   "source": [
    "#answer6 goes here"
   ]
  },
  {
   "cell_type": "code",
   "execution_count": 118,
   "metadata": {},
   "outputs": [],
   "source": [
    "#when the following line is executed, your DataFrame should look similar to the following:"
   ]
  },
  {
   "cell_type": "code",
   "execution_count": 141,
   "metadata": {},
   "outputs": [
    {
     "data": {
      "text/html": [
       "<div>\n",
       "<style scoped>\n",
       "    .dataframe tbody tr th:only-of-type {\n",
       "        vertical-align: middle;\n",
       "    }\n",
       "\n",
       "    .dataframe tbody tr th {\n",
       "        vertical-align: top;\n",
       "    }\n",
       "\n",
       "    .dataframe thead th {\n",
       "        text-align: right;\n",
       "    }\n",
       "</style>\n",
       "<table border=\"1\" class=\"dataframe\">\n",
       "  <thead>\n",
       "    <tr style=\"text-align: right;\">\n",
       "      <th></th>\n",
       "      <th>Rent</th>\n",
       "      <th>Neighborhood</th>\n",
       "      <th>Title</th>\n",
       "      <th>Posting Date</th>\n",
       "      <th>URL</th>\n",
       "      <th>Bed/Bath</th>\n",
       "    </tr>\n",
       "  </thead>\n",
       "  <tbody>\n",
       "    <tr>\n",
       "      <th>0</th>\n",
       "      <td>3500</td>\n",
       "      <td>Boston</td>\n",
       "      <td>Renovated South End condo available now!</td>\n",
       "      <td>Thu 26 Sep 09:36:14 PM</td>\n",
       "      <td>https://boston.craigslist.org/gbs/apa/d/boston...</td>\n",
       "      <td>2BR / 2Ba</td>\n",
       "    </tr>\n",
       "    <tr>\n",
       "      <th>1</th>\n",
       "      <td>3200</td>\n",
       "      <td>Somerville</td>\n",
       "      <td>Phenomenal 2.5 Bed 2Bth in Somerville! Modern!...</td>\n",
       "      <td>Thu 26 Sep 09:35:50 PM</td>\n",
       "      <td>https://boston.craigslist.org/gbs/apa/d/somerv...</td>\n",
       "      <td>2BR / 2Ba</td>\n",
       "    </tr>\n",
       "    <tr>\n",
       "      <th>2</th>\n",
       "      <td>2285</td>\n",
       "      <td>Kenmore</td>\n",
       "      <td>{Spacious Kenmore Sq 1 bed- Awesome location! ...</td>\n",
       "      <td>Thu 26 Sep 09:35:39 PM</td>\n",
       "      <td>https://boston.craigslist.org/gbs/apa/d/boston...</td>\n",
       "      <td>1BR / 1Ba</td>\n",
       "    </tr>\n",
       "    <tr>\n",
       "      <th>3</th>\n",
       "      <td>4100</td>\n",
       "      <td>Mission Hill</td>\n",
       "      <td>4 Bd on Parker St., Eat-in Kitchen, Hardwood F...</td>\n",
       "      <td>Thu 26 Sep 09:34:51 PM</td>\n",
       "      <td>https://boston.craigslist.org/gbs/apa/d/roxbur...</td>\n",
       "      <td>4BR / 1Ba</td>\n",
       "    </tr>\n",
       "    <tr>\n",
       "      <th>4</th>\n",
       "      <td>900</td>\n",
       "      <td>Brighton</td>\n",
       "      <td>EXCLUSIVE MASSIVE 2 BED BEST STEAL  UNIQUE IN ...</td>\n",
       "      <td>Thu 26 Sep 09:34:45 PM</td>\n",
       "      <td>https://boston.craigslist.org/gbs/apa/d/bright...</td>\n",
       "      <td>0BR / 1Ba</td>\n",
       "    </tr>\n",
       "  </tbody>\n",
       "</table>\n",
       "</div>"
      ],
      "text/plain": [
       "   Rent  Neighborhood                                              Title  \\\n",
       "0  3500        Boston           Renovated South End condo available now!   \n",
       "1  3200    Somerville  Phenomenal 2.5 Bed 2Bth in Somerville! Modern!...   \n",
       "2  2285       Kenmore  {Spacious Kenmore Sq 1 bed- Awesome location! ...   \n",
       "3  4100  Mission Hill  4 Bd on Parker St., Eat-in Kitchen, Hardwood F...   \n",
       "4   900      Brighton  EXCLUSIVE MASSIVE 2 BED BEST STEAL  UNIQUE IN ...   \n",
       "\n",
       "             Posting Date                                                URL  \\\n",
       "0  Thu 26 Sep 09:36:14 PM  https://boston.craigslist.org/gbs/apa/d/boston...   \n",
       "1  Thu 26 Sep 09:35:50 PM  https://boston.craigslist.org/gbs/apa/d/somerv...   \n",
       "2  Thu 26 Sep 09:35:39 PM  https://boston.craigslist.org/gbs/apa/d/boston...   \n",
       "3  Thu 26 Sep 09:34:51 PM  https://boston.craigslist.org/gbs/apa/d/roxbur...   \n",
       "4  Thu 26 Sep 09:34:45 PM  https://boston.craigslist.org/gbs/apa/d/bright...   \n",
       "\n",
       "    Bed/Bath  \n",
       "0  2BR / 2Ba  \n",
       "1  2BR / 2Ba  \n",
       "2  1BR / 1Ba  \n",
       "3  4BR / 1Ba  \n",
       "4  0BR / 1Ba  "
      ]
     },
     "execution_count": 141,
     "metadata": {},
     "output_type": "execute_result"
    }
   ],
   "source": [
    "df_rental.head()"
   ]
  },
  {
   "cell_type": "markdown",
   "metadata": {},
   "source": [
    "### Question 7 (1pts)\n",
    "Write a one-line code snippet to save the contents of the above DataFrame, df_rental, as a CSV file."
   ]
  },
  {
   "cell_type": "code",
   "execution_count": null,
   "metadata": {},
   "outputs": [],
   "source": [
    "#answer7 goes here\n",
    "#Remember to upload this csv file to Blackboard as well"
   ]
  },
  {
   "cell_type": "code",
   "execution_count": 142,
   "metadata": {},
   "outputs": [],
   "source": [
    "df_rental.to_csv(\"rental_list.csv\")"
   ]
  }
 ],
 "metadata": {
  "kernelspec": {
   "display_name": "Python 3",
   "language": "python",
   "name": "python3"
  },
  "language_info": {
   "codemirror_mode": {
    "name": "ipython",
    "version": 3
   },
   "file_extension": ".py",
   "mimetype": "text/x-python",
   "name": "python",
   "nbconvert_exporter": "python",
   "pygments_lexer": "ipython3",
   "version": "3.6.5"
  }
 },
 "nbformat": 4,
 "nbformat_minor": 2
}

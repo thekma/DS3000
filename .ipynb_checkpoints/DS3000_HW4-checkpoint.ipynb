{
 "cells": [
  {
   "cell_type": "markdown",
   "metadata": {},
   "source": [
    "<center><h2> Part 1 </h2></center>\n",
    "\n",
    "In this HW assignment, you will analyze a dataset regarding the number of international students studying at 500 US universities. The attached \"students.csv\" contains the name of the university and the number of international students enrolled in each university in 2017. \n",
    "\n",
    "The dataset comes from the US Department of Education's website."
   ]
  },
  {
   "cell_type": "code",
   "execution_count": 1,
   "metadata": {},
   "outputs": [],
   "source": [
    "import pandas as pd"
   ]
  },
  {
   "cell_type": "markdown",
   "metadata": {},
   "source": [
    "### Question 1 (1pt)\n",
    "Write a one-line code snippet that imports the \"students.csv\" file into a dataframe, named \"students\", and sets the **School** column as the index of the dataset"
   ]
  },
  {
   "cell_type": "code",
   "execution_count": 2,
   "metadata": {},
   "outputs": [],
   "source": [
    "#your answer here"
   ]
  },
  {
   "cell_type": "code",
   "execution_count": 3,
   "metadata": {},
   "outputs": [
    {
     "data": {
      "text/html": [
       "<div>\n",
       "<style scoped>\n",
       "    .dataframe tbody tr th:only-of-type {\n",
       "        vertical-align: middle;\n",
       "    }\n",
       "\n",
       "    .dataframe tbody tr th {\n",
       "        vertical-align: top;\n",
       "    }\n",
       "\n",
       "    .dataframe thead th {\n",
       "        text-align: right;\n",
       "    }\n",
       "</style>\n",
       "<table border=\"1\" class=\"dataframe\">\n",
       "  <thead>\n",
       "    <tr style=\"text-align: right;\">\n",
       "      <th></th>\n",
       "      <th>Students</th>\n",
       "    </tr>\n",
       "    <tr>\n",
       "      <th>School</th>\n",
       "      <th></th>\n",
       "    </tr>\n",
       "  </thead>\n",
       "  <tbody>\n",
       "    <tr>\n",
       "      <td>Academy of Art University</td>\n",
       "      <td>6404</td>\n",
       "    </tr>\n",
       "    <tr>\n",
       "      <td>Adelphi University</td>\n",
       "      <td>950</td>\n",
       "    </tr>\n",
       "    <tr>\n",
       "      <td>American College of Commerce &amp; Technology</td>\n",
       "      <td>1677</td>\n",
       "    </tr>\n",
       "    <tr>\n",
       "      <td>American Language Communication Center</td>\n",
       "      <td>2607</td>\n",
       "    </tr>\n",
       "    <tr>\n",
       "      <td>American Language Institute</td>\n",
       "      <td>2557</td>\n",
       "    </tr>\n",
       "  </tbody>\n",
       "</table>\n",
       "</div>"
      ],
      "text/plain": [
       "                                           Students\n",
       "School                                             \n",
       "Academy of Art University                      6404\n",
       "Adelphi University                              950\n",
       "American College of Commerce & Technology      1677\n",
       "American Language Communication Center         2607\n",
       "American Language Institute                    2557"
      ]
     },
     "execution_count": 3,
     "metadata": {},
     "output_type": "execute_result"
    }
   ],
   "source": [
    "students.head()"
   ]
  },
  {
   "cell_type": "markdown",
   "metadata": {},
   "source": [
    "### Question 2 (1pts)\n",
    "Write a one-line code snippet that returns the total number of international students across all the universities in the dataset in 2017. Your code snippet should return a single number as an int."
   ]
  },
  {
   "cell_type": "code",
   "execution_count": 4,
   "metadata": {},
   "outputs": [
    {
     "data": {
      "text/plain": [
       "1260512"
      ]
     },
     "execution_count": 4,
     "metadata": {},
     "output_type": "execute_result"
    }
   ],
   "source": [
    "#your answer here"
   ]
  },
  {
   "cell_type": "markdown",
   "metadata": {},
   "source": [
    "### Question 3 (2pts)\n",
    "Write a one-line code snippet that returns the number of international students at \"Northeastern University\" in 2017."
   ]
  },
  {
   "cell_type": "code",
   "execution_count": 6,
   "metadata": {},
   "outputs": [
    {
     "data": {
      "text/plain": [
       "17304"
      ]
     },
     "execution_count": 6,
     "metadata": {},
     "output_type": "execute_result"
    }
   ],
   "source": [
    "#your answer here"
   ]
  },
  {
   "cell_type": "markdown",
   "metadata": {},
   "source": [
    "### Question 4 (3pts)\n",
    "Write a one-line code snippet that returns the name of the university with the greatest number of international students. The name of the university should be returned as a string."
   ]
  },
  {
   "cell_type": "code",
   "execution_count": 7,
   "metadata": {},
   "outputs": [
    {
     "data": {
      "text/plain": [
       "'New York University'"
      ]
     },
     "execution_count": 7,
     "metadata": {},
     "output_type": "execute_result"
    }
   ],
   "source": [
    "#your answer here"
   ]
  },
  {
   "cell_type": "markdown",
   "metadata": {},
   "source": [
    "### Question 5 (4pts)\n",
    "Write a code snippet that returns the list of universities where the number of international students is greater than the number of international students at Northeastern University. Your code should return a dataframe containing the list of universities along with their student numbers. **The list should be presented in descending order based on the number of students.**"
   ]
  },
  {
   "cell_type": "code",
   "execution_count": 8,
   "metadata": {},
   "outputs": [
    {
     "data": {
      "text/html": [
       "<div>\n",
       "<style scoped>\n",
       "    .dataframe tbody tr th:only-of-type {\n",
       "        vertical-align: middle;\n",
       "    }\n",
       "\n",
       "    .dataframe tbody tr th {\n",
       "        vertical-align: top;\n",
       "    }\n",
       "\n",
       "    .dataframe thead th {\n",
       "        text-align: right;\n",
       "    }\n",
       "</style>\n",
       "<table border=\"1\" class=\"dataframe\">\n",
       "  <thead>\n",
       "    <tr style=\"text-align: right;\">\n",
       "      <th></th>\n",
       "      <th>Students</th>\n",
       "    </tr>\n",
       "    <tr>\n",
       "      <th>School</th>\n",
       "      <th></th>\n",
       "    </tr>\n",
       "  </thead>\n",
       "  <tbody>\n",
       "    <tr>\n",
       "      <td>New York University</td>\n",
       "      <td>22238.0</td>\n",
       "    </tr>\n",
       "    <tr>\n",
       "      <td>University of Southern California</td>\n",
       "      <td>18786.0</td>\n",
       "    </tr>\n",
       "    <tr>\n",
       "      <td>Columbia University in the City of New York</td>\n",
       "      <td>18332.0</td>\n",
       "    </tr>\n",
       "  </tbody>\n",
       "</table>\n",
       "</div>"
      ],
      "text/plain": [
       "                                             Students\n",
       "School                                               \n",
       "New York University                           22238.0\n",
       "University of Southern California             18786.0\n",
       "Columbia University in the City of New York   18332.0"
      ]
     },
     "execution_count": 8,
     "metadata": {},
     "output_type": "execute_result"
    }
   ],
   "source": [
    "#your answer here"
   ]
  },
  {
   "cell_type": "markdown",
   "metadata": {},
   "source": [
    "<center><h2> Part 2 </h2></center>\n",
    "\n",
    "In this part, you will build on the previous part and answer some additional questions about the international students at top US universities. The attached \"universities.csv\" file contains more information about the top 10 universities with the largest international student populations. \n",
    "\n",
    "The dataset contains the name of the university and city and state information for the university, as well as the overall student population (total number of students, including both domestic and international students)."
   ]
  },
  {
   "cell_type": "markdown",
   "metadata": {},
   "source": [
    "### Question 6 (1pt)\n",
    "Write a one-line code snippet that imports the \"universities.csv\" file into a dataframe, named \"universities\"."
   ]
  },
  {
   "cell_type": "code",
   "execution_count": 9,
   "metadata": {},
   "outputs": [],
   "source": [
    "#your answer here"
   ]
  },
  {
   "cell_type": "code",
   "execution_count": 10,
   "metadata": {},
   "outputs": [
    {
     "data": {
      "text/html": [
       "<div>\n",
       "<style scoped>\n",
       "    .dataframe tbody tr th:only-of-type {\n",
       "        vertical-align: middle;\n",
       "    }\n",
       "\n",
       "    .dataframe tbody tr th {\n",
       "        vertical-align: top;\n",
       "    }\n",
       "\n",
       "    .dataframe thead th {\n",
       "        text-align: right;\n",
       "    }\n",
       "</style>\n",
       "<table border=\"1\" class=\"dataframe\">\n",
       "  <thead>\n",
       "    <tr style=\"text-align: right;\">\n",
       "      <th></th>\n",
       "      <th>University</th>\n",
       "      <th>City</th>\n",
       "      <th>State</th>\n",
       "      <th>Population</th>\n",
       "    </tr>\n",
       "  </thead>\n",
       "  <tbody>\n",
       "    <tr>\n",
       "      <td>0</td>\n",
       "      <td>New York University</td>\n",
       "      <td>New York City</td>\n",
       "      <td>new york</td>\n",
       "      <td>51123</td>\n",
       "    </tr>\n",
       "    <tr>\n",
       "      <td>1</td>\n",
       "      <td>University of Southern California</td>\n",
       "      <td>Los Angeles</td>\n",
       "      <td>California</td>\n",
       "      <td>44000</td>\n",
       "    </tr>\n",
       "    <tr>\n",
       "      <td>2</td>\n",
       "      <td>Columbia University in the City of New York</td>\n",
       "      <td>New York City</td>\n",
       "      <td>New York</td>\n",
       "      <td>32429</td>\n",
       "    </tr>\n",
       "    <tr>\n",
       "      <td>3</td>\n",
       "      <td>Northeastern University</td>\n",
       "      <td>Boston</td>\n",
       "      <td>Massachusetts</td>\n",
       "      <td>27260</td>\n",
       "    </tr>\n",
       "    <tr>\n",
       "      <td>4</td>\n",
       "      <td>University of Illinois</td>\n",
       "      <td>Champaign</td>\n",
       "      <td>Illinois</td>\n",
       "      <td>44087</td>\n",
       "    </tr>\n",
       "    <tr>\n",
       "      <td>5</td>\n",
       "      <td>Arizona State University</td>\n",
       "      <td>Tempe</td>\n",
       "      <td>ARIZONA</td>\n",
       "      <td>71946</td>\n",
       "    </tr>\n",
       "    <tr>\n",
       "      <td>6</td>\n",
       "      <td>Purdue University</td>\n",
       "      <td>West Lafayette</td>\n",
       "      <td>Indiana</td>\n",
       "      <td>41573</td>\n",
       "    </tr>\n",
       "    <tr>\n",
       "      <td>7</td>\n",
       "      <td>The Pennsylvania State University</td>\n",
       "      <td>Centre County</td>\n",
       "      <td>Pennsylvania</td>\n",
       "      <td>98783</td>\n",
       "    </tr>\n",
       "    <tr>\n",
       "      <td>8</td>\n",
       "      <td>University of California at Berkeley</td>\n",
       "      <td>Berkeley</td>\n",
       "      <td>california</td>\n",
       "      <td>41910</td>\n",
       "    </tr>\n",
       "    <tr>\n",
       "      <td>9</td>\n",
       "      <td>Boston University</td>\n",
       "      <td>Boston</td>\n",
       "      <td>Massachusetts</td>\n",
       "      <td>32551</td>\n",
       "    </tr>\n",
       "  </tbody>\n",
       "</table>\n",
       "</div>"
      ],
      "text/plain": [
       "                                    University            City          State  \\\n",
       "0                          New York University  New York City        new york   \n",
       "1            University of Southern California     Los Angeles     California   \n",
       "2  Columbia University in the City of New York  New York City        New York   \n",
       "3                      Northeastern University          Boston  Massachusetts   \n",
       "4                       University of Illinois       Champaign       Illinois   \n",
       "5                     Arizona State University           Tempe        ARIZONA   \n",
       "6                            Purdue University  West Lafayette        Indiana   \n",
       "7            The Pennsylvania State University   Centre County   Pennsylvania   \n",
       "8         University of California at Berkeley        Berkeley     california   \n",
       "9                            Boston University          Boston  Massachusetts   \n",
       "\n",
       "   Population  \n",
       "0       51123  \n",
       "1       44000  \n",
       "2       32429  \n",
       "3       27260  \n",
       "4       44087  \n",
       "5       71946  \n",
       "6       41573  \n",
       "7       98783  \n",
       "8       41910  \n",
       "9       32551  "
      ]
     },
     "execution_count": 10,
     "metadata": {},
     "output_type": "execute_result"
    }
   ],
   "source": [
    "universities"
   ]
  },
  {
   "cell_type": "markdown",
   "metadata": {},
   "source": [
    "### Question 7 (3pts)\n",
    "Write a one-line code snippet that combines the universities dataframe you just defined and students dataframe you used in Part 1 into a new dataframe, **combined**. The new dataframe should include all columns from both datasets for only the universities found in both, as shown in the sample output below.\n",
    "* In this dataframe, Population refers to the total number of students (both domestic and international), whereas Students refers to the number of international students only."
   ]
  },
  {
   "cell_type": "code",
   "execution_count": 11,
   "metadata": {},
   "outputs": [],
   "source": [
    "#your answer here"
   ]
  },
  {
   "cell_type": "code",
   "execution_count": 12,
   "metadata": {},
   "outputs": [
    {
     "data": {
      "text/html": [
       "<div>\n",
       "<style scoped>\n",
       "    .dataframe tbody tr th:only-of-type {\n",
       "        vertical-align: middle;\n",
       "    }\n",
       "\n",
       "    .dataframe tbody tr th {\n",
       "        vertical-align: top;\n",
       "    }\n",
       "\n",
       "    .dataframe thead th {\n",
       "        text-align: right;\n",
       "    }\n",
       "</style>\n",
       "<table border=\"1\" class=\"dataframe\">\n",
       "  <thead>\n",
       "    <tr style=\"text-align: right;\">\n",
       "      <th></th>\n",
       "      <th>University</th>\n",
       "      <th>City</th>\n",
       "      <th>State</th>\n",
       "      <th>Population</th>\n",
       "      <th>Students</th>\n",
       "    </tr>\n",
       "  </thead>\n",
       "  <tbody>\n",
       "    <tr>\n",
       "      <td>0</td>\n",
       "      <td>New York University</td>\n",
       "      <td>New York City</td>\n",
       "      <td>new york</td>\n",
       "      <td>51123</td>\n",
       "      <td>22238</td>\n",
       "    </tr>\n",
       "    <tr>\n",
       "      <td>1</td>\n",
       "      <td>University of Southern California</td>\n",
       "      <td>Los Angeles</td>\n",
       "      <td>California</td>\n",
       "      <td>44000</td>\n",
       "      <td>18786</td>\n",
       "    </tr>\n",
       "    <tr>\n",
       "      <td>2</td>\n",
       "      <td>Columbia University in the City of New York</td>\n",
       "      <td>New York City</td>\n",
       "      <td>New York</td>\n",
       "      <td>32429</td>\n",
       "      <td>18332</td>\n",
       "    </tr>\n",
       "    <tr>\n",
       "      <td>3</td>\n",
       "      <td>Northeastern University</td>\n",
       "      <td>Boston</td>\n",
       "      <td>Massachusetts</td>\n",
       "      <td>27260</td>\n",
       "      <td>17304</td>\n",
       "    </tr>\n",
       "    <tr>\n",
       "      <td>4</td>\n",
       "      <td>University of Illinois</td>\n",
       "      <td>Champaign</td>\n",
       "      <td>Illinois</td>\n",
       "      <td>44087</td>\n",
       "      <td>14735</td>\n",
       "    </tr>\n",
       "    <tr>\n",
       "      <td>5</td>\n",
       "      <td>Arizona State University</td>\n",
       "      <td>Tempe</td>\n",
       "      <td>ARIZONA</td>\n",
       "      <td>71946</td>\n",
       "      <td>14647</td>\n",
       "    </tr>\n",
       "    <tr>\n",
       "      <td>6</td>\n",
       "      <td>Purdue University</td>\n",
       "      <td>West Lafayette</td>\n",
       "      <td>Indiana</td>\n",
       "      <td>41573</td>\n",
       "      <td>13609</td>\n",
       "    </tr>\n",
       "    <tr>\n",
       "      <td>7</td>\n",
       "      <td>The Pennsylvania State University</td>\n",
       "      <td>Centre County</td>\n",
       "      <td>Pennsylvania</td>\n",
       "      <td>98783</td>\n",
       "      <td>12876</td>\n",
       "    </tr>\n",
       "    <tr>\n",
       "      <td>8</td>\n",
       "      <td>University of California at Berkeley</td>\n",
       "      <td>Berkeley</td>\n",
       "      <td>california</td>\n",
       "      <td>41910</td>\n",
       "      <td>12779</td>\n",
       "    </tr>\n",
       "    <tr>\n",
       "      <td>9</td>\n",
       "      <td>Boston University</td>\n",
       "      <td>Boston</td>\n",
       "      <td>Massachusetts</td>\n",
       "      <td>32551</td>\n",
       "      <td>11955</td>\n",
       "    </tr>\n",
       "  </tbody>\n",
       "</table>\n",
       "</div>"
      ],
      "text/plain": [
       "                                    University            City          State  \\\n",
       "0                          New York University  New York City        new york   \n",
       "1            University of Southern California     Los Angeles     California   \n",
       "2  Columbia University in the City of New York  New York City        New York   \n",
       "3                      Northeastern University          Boston  Massachusetts   \n",
       "4                       University of Illinois       Champaign       Illinois   \n",
       "5                     Arizona State University           Tempe        ARIZONA   \n",
       "6                            Purdue University  West Lafayette        Indiana   \n",
       "7            The Pennsylvania State University   Centre County   Pennsylvania   \n",
       "8         University of California at Berkeley        Berkeley     california   \n",
       "9                            Boston University          Boston  Massachusetts   \n",
       "\n",
       "   Population  Students  \n",
       "0       51123     22238  \n",
       "1       44000     18786  \n",
       "2       32429     18332  \n",
       "3       27260     17304  \n",
       "4       44087     14735  \n",
       "5       71946     14647  \n",
       "6       41573     13609  \n",
       "7       98783     12876  \n",
       "8       41910     12779  \n",
       "9       32551     11955  "
      ]
     },
     "execution_count": 12,
     "metadata": {},
     "output_type": "execute_result"
    }
   ],
   "source": [
    "combined"
   ]
  },
  {
   "cell_type": "markdown",
   "metadata": {},
   "source": [
    "### Question 8 (5pts)\n",
    "Examine the State column in the dataframe above. You will see that some state names are all capitalized while others are typed in all lowercase letters. And we want to fix that. :)\n",
    "\n",
    "* Write a code snippet that defines a function to converts all state names to title case (so that each initial is capitalized) and then uses this function to transform the State column in the dataframe. \n",
    "* You should one of the data transformation methods we covered in class."
   ]
  },
  {
   "cell_type": "code",
   "execution_count": 13,
   "metadata": {},
   "outputs": [],
   "source": [
    "#your answer here"
   ]
  },
  {
   "cell_type": "code",
   "execution_count": 14,
   "metadata": {},
   "outputs": [
    {
     "data": {
      "text/html": [
       "<div>\n",
       "<style scoped>\n",
       "    .dataframe tbody tr th:only-of-type {\n",
       "        vertical-align: middle;\n",
       "    }\n",
       "\n",
       "    .dataframe tbody tr th {\n",
       "        vertical-align: top;\n",
       "    }\n",
       "\n",
       "    .dataframe thead th {\n",
       "        text-align: right;\n",
       "    }\n",
       "</style>\n",
       "<table border=\"1\" class=\"dataframe\">\n",
       "  <thead>\n",
       "    <tr style=\"text-align: right;\">\n",
       "      <th></th>\n",
       "      <th>University</th>\n",
       "      <th>City</th>\n",
       "      <th>State</th>\n",
       "      <th>Population</th>\n",
       "      <th>Students</th>\n",
       "    </tr>\n",
       "  </thead>\n",
       "  <tbody>\n",
       "    <tr>\n",
       "      <td>0</td>\n",
       "      <td>New York University</td>\n",
       "      <td>New York City</td>\n",
       "      <td>New York</td>\n",
       "      <td>51123</td>\n",
       "      <td>22238</td>\n",
       "    </tr>\n",
       "    <tr>\n",
       "      <td>1</td>\n",
       "      <td>University of Southern California</td>\n",
       "      <td>Los Angeles</td>\n",
       "      <td>California</td>\n",
       "      <td>44000</td>\n",
       "      <td>18786</td>\n",
       "    </tr>\n",
       "    <tr>\n",
       "      <td>2</td>\n",
       "      <td>Columbia University in the City of New York</td>\n",
       "      <td>New York City</td>\n",
       "      <td>New York</td>\n",
       "      <td>32429</td>\n",
       "      <td>18332</td>\n",
       "    </tr>\n",
       "    <tr>\n",
       "      <td>3</td>\n",
       "      <td>Northeastern University</td>\n",
       "      <td>Boston</td>\n",
       "      <td>Massachusetts</td>\n",
       "      <td>27260</td>\n",
       "      <td>17304</td>\n",
       "    </tr>\n",
       "    <tr>\n",
       "      <td>4</td>\n",
       "      <td>University of Illinois</td>\n",
       "      <td>Champaign</td>\n",
       "      <td>Illinois</td>\n",
       "      <td>44087</td>\n",
       "      <td>14735</td>\n",
       "    </tr>\n",
       "    <tr>\n",
       "      <td>5</td>\n",
       "      <td>Arizona State University</td>\n",
       "      <td>Tempe</td>\n",
       "      <td>Arizona</td>\n",
       "      <td>71946</td>\n",
       "      <td>14647</td>\n",
       "    </tr>\n",
       "    <tr>\n",
       "      <td>6</td>\n",
       "      <td>Purdue University</td>\n",
       "      <td>West Lafayette</td>\n",
       "      <td>Indiana</td>\n",
       "      <td>41573</td>\n",
       "      <td>13609</td>\n",
       "    </tr>\n",
       "    <tr>\n",
       "      <td>7</td>\n",
       "      <td>The Pennsylvania State University</td>\n",
       "      <td>Centre County</td>\n",
       "      <td>Pennsylvania</td>\n",
       "      <td>98783</td>\n",
       "      <td>12876</td>\n",
       "    </tr>\n",
       "    <tr>\n",
       "      <td>8</td>\n",
       "      <td>University of California at Berkeley</td>\n",
       "      <td>Berkeley</td>\n",
       "      <td>California</td>\n",
       "      <td>41910</td>\n",
       "      <td>12779</td>\n",
       "    </tr>\n",
       "    <tr>\n",
       "      <td>9</td>\n",
       "      <td>Boston University</td>\n",
       "      <td>Boston</td>\n",
       "      <td>Massachusetts</td>\n",
       "      <td>32551</td>\n",
       "      <td>11955</td>\n",
       "    </tr>\n",
       "  </tbody>\n",
       "</table>\n",
       "</div>"
      ],
      "text/plain": [
       "                                    University            City          State  \\\n",
       "0                          New York University  New York City        New York   \n",
       "1            University of Southern California     Los Angeles     California   \n",
       "2  Columbia University in the City of New York  New York City        New York   \n",
       "3                      Northeastern University          Boston  Massachusetts   \n",
       "4                       University of Illinois       Champaign       Illinois   \n",
       "5                     Arizona State University           Tempe        Arizona   \n",
       "6                            Purdue University  West Lafayette        Indiana   \n",
       "7            The Pennsylvania State University   Centre County   Pennsylvania   \n",
       "8         University of California at Berkeley        Berkeley     California   \n",
       "9                            Boston University          Boston  Massachusetts   \n",
       "\n",
       "   Population  Students  \n",
       "0       51123     22238  \n",
       "1       44000     18786  \n",
       "2       32429     18332  \n",
       "3       27260     17304  \n",
       "4       44087     14735  \n",
       "5       71946     14647  \n",
       "6       41573     13609  \n",
       "7       98783     12876  \n",
       "8       41910     12779  \n",
       "9       32551     11955  "
      ]
     },
     "execution_count": 14,
     "metadata": {},
     "output_type": "execute_result"
    }
   ],
   "source": [
    "combined"
   ]
  },
  {
   "cell_type": "markdown",
   "metadata": {},
   "source": [
    "### Question 9 (2pts)\n",
    "Write a one-line code snippet that computes a new Proportion column for the proportion of international students to the overall student population at the universities found in the previous dataframe"
   ]
  },
  {
   "cell_type": "code",
   "execution_count": 15,
   "metadata": {},
   "outputs": [],
   "source": [
    "#your answer here"
   ]
  },
  {
   "cell_type": "code",
   "execution_count": 16,
   "metadata": {},
   "outputs": [
    {
     "data": {
      "text/html": [
       "<div>\n",
       "<style scoped>\n",
       "    .dataframe tbody tr th:only-of-type {\n",
       "        vertical-align: middle;\n",
       "    }\n",
       "\n",
       "    .dataframe tbody tr th {\n",
       "        vertical-align: top;\n",
       "    }\n",
       "\n",
       "    .dataframe thead th {\n",
       "        text-align: right;\n",
       "    }\n",
       "</style>\n",
       "<table border=\"1\" class=\"dataframe\">\n",
       "  <thead>\n",
       "    <tr style=\"text-align: right;\">\n",
       "      <th></th>\n",
       "      <th>University</th>\n",
       "      <th>City</th>\n",
       "      <th>State</th>\n",
       "      <th>Population</th>\n",
       "      <th>Students</th>\n",
       "      <th>Proportion</th>\n",
       "    </tr>\n",
       "  </thead>\n",
       "  <tbody>\n",
       "    <tr>\n",
       "      <td>0</td>\n",
       "      <td>New York University</td>\n",
       "      <td>New York City</td>\n",
       "      <td>New York</td>\n",
       "      <td>51123</td>\n",
       "      <td>22238</td>\n",
       "      <td>43.499012</td>\n",
       "    </tr>\n",
       "    <tr>\n",
       "      <td>1</td>\n",
       "      <td>University of Southern California</td>\n",
       "      <td>Los Angeles</td>\n",
       "      <td>California</td>\n",
       "      <td>44000</td>\n",
       "      <td>18786</td>\n",
       "      <td>42.695455</td>\n",
       "    </tr>\n",
       "    <tr>\n",
       "      <td>2</td>\n",
       "      <td>Columbia University in the City of New York</td>\n",
       "      <td>New York City</td>\n",
       "      <td>New York</td>\n",
       "      <td>32429</td>\n",
       "      <td>18332</td>\n",
       "      <td>56.529649</td>\n",
       "    </tr>\n",
       "    <tr>\n",
       "      <td>3</td>\n",
       "      <td>Northeastern University</td>\n",
       "      <td>Boston</td>\n",
       "      <td>Massachusetts</td>\n",
       "      <td>27260</td>\n",
       "      <td>17304</td>\n",
       "      <td>63.477623</td>\n",
       "    </tr>\n",
       "    <tr>\n",
       "      <td>4</td>\n",
       "      <td>University of Illinois</td>\n",
       "      <td>Champaign</td>\n",
       "      <td>Illinois</td>\n",
       "      <td>44087</td>\n",
       "      <td>14735</td>\n",
       "      <td>33.422551</td>\n",
       "    </tr>\n",
       "    <tr>\n",
       "      <td>5</td>\n",
       "      <td>Arizona State University</td>\n",
       "      <td>Tempe</td>\n",
       "      <td>Arizona</td>\n",
       "      <td>71946</td>\n",
       "      <td>14647</td>\n",
       "      <td>20.358324</td>\n",
       "    </tr>\n",
       "    <tr>\n",
       "      <td>6</td>\n",
       "      <td>Purdue University</td>\n",
       "      <td>West Lafayette</td>\n",
       "      <td>Indiana</td>\n",
       "      <td>41573</td>\n",
       "      <td>13609</td>\n",
       "      <td>32.735189</td>\n",
       "    </tr>\n",
       "    <tr>\n",
       "      <td>7</td>\n",
       "      <td>The Pennsylvania State University</td>\n",
       "      <td>Centre County</td>\n",
       "      <td>Pennsylvania</td>\n",
       "      <td>98783</td>\n",
       "      <td>12876</td>\n",
       "      <td>13.034631</td>\n",
       "    </tr>\n",
       "    <tr>\n",
       "      <td>8</td>\n",
       "      <td>University of California at Berkeley</td>\n",
       "      <td>Berkeley</td>\n",
       "      <td>California</td>\n",
       "      <td>41910</td>\n",
       "      <td>12779</td>\n",
       "      <td>30.491529</td>\n",
       "    </tr>\n",
       "    <tr>\n",
       "      <td>9</td>\n",
       "      <td>Boston University</td>\n",
       "      <td>Boston</td>\n",
       "      <td>Massachusetts</td>\n",
       "      <td>32551</td>\n",
       "      <td>11955</td>\n",
       "      <td>36.726982</td>\n",
       "    </tr>\n",
       "  </tbody>\n",
       "</table>\n",
       "</div>"
      ],
      "text/plain": [
       "                                    University            City          State  \\\n",
       "0                          New York University  New York City        New York   \n",
       "1            University of Southern California     Los Angeles     California   \n",
       "2  Columbia University in the City of New York  New York City        New York   \n",
       "3                      Northeastern University          Boston  Massachusetts   \n",
       "4                       University of Illinois       Champaign       Illinois   \n",
       "5                     Arizona State University           Tempe        Arizona   \n",
       "6                            Purdue University  West Lafayette        Indiana   \n",
       "7            The Pennsylvania State University   Centre County   Pennsylvania   \n",
       "8         University of California at Berkeley        Berkeley     California   \n",
       "9                            Boston University          Boston  Massachusetts   \n",
       "\n",
       "   Population  Students  Proportion  \n",
       "0       51123     22238   43.499012  \n",
       "1       44000     18786   42.695455  \n",
       "2       32429     18332   56.529649  \n",
       "3       27260     17304   63.477623  \n",
       "4       44087     14735   33.422551  \n",
       "5       71946     14647   20.358324  \n",
       "6       41573     13609   32.735189  \n",
       "7       98783     12876   13.034631  \n",
       "8       41910     12779   30.491529  \n",
       "9       32551     11955   36.726982  "
      ]
     },
     "execution_count": 16,
     "metadata": {},
     "output_type": "execute_result"
    }
   ],
   "source": [
    "combined"
   ]
  },
  {
   "cell_type": "markdown",
   "metadata": {},
   "source": [
    "### Question 10 (8pts)\n",
    "Write a code snippet that groups the universities in the combined dataframe by State. Your code should display a summary dataframe, **grouped_by_state**, containing \n",
    "    * the number of universities from each state, \n",
    "    * the average number of international students in each state, and \n",
    "    * the density of the international students at universities from each state.\n",
    "\n",
    "Student density will be computed based on the Proportion column:\n",
    "    * If the average value of the Proportion column for the universities in each state is greater than 50, the density should be \"High\".\n",
    "    * If the average is greater than 30, then the density should be \"Moderate\"\n",
    "    * If the average is less than 30, the density should be \"Low\"\n",
    "    \n",
    "**Please study the sample output below.**"
   ]
  },
  {
   "cell_type": "code",
   "execution_count": 17,
   "metadata": {},
   "outputs": [],
   "source": [
    "#your answer here"
   ]
  },
  {
   "cell_type": "code",
   "execution_count": 15,
   "metadata": {},
   "outputs": [
    {
     "data": {
      "text/html": [
       "<div>\n",
       "<table border=\"1\" class=\"dataframe\">\n",
       "  <thead>\n",
       "    <tr>\n",
       "      <th></th>\n",
       "      <th colspan=\"2\" halign=\"left\">Proportion</th>\n",
       "      <th>Students</th>\n",
       "    </tr>\n",
       "    <tr>\n",
       "      <th></th>\n",
       "      <th>count</th>\n",
       "      <th>student_density</th>\n",
       "      <th>mean</th>\n",
       "    </tr>\n",
       "    <tr>\n",
       "      <th>State</th>\n",
       "      <th></th>\n",
       "      <th></th>\n",
       "      <th></th>\n",
       "    </tr>\n",
       "  </thead>\n",
       "  <tbody>\n",
       "    <tr>\n",
       "      <th>Arizona</th>\n",
       "      <td>1</td>\n",
       "      <td>Low</td>\n",
       "      <td>14647.0</td>\n",
       "    </tr>\n",
       "    <tr>\n",
       "      <th>California</th>\n",
       "      <td>2</td>\n",
       "      <td>Moderate</td>\n",
       "      <td>15782.5</td>\n",
       "    </tr>\n",
       "    <tr>\n",
       "      <th>Illinois</th>\n",
       "      <td>1</td>\n",
       "      <td>Moderate</td>\n",
       "      <td>14735.0</td>\n",
       "    </tr>\n",
       "    <tr>\n",
       "      <th>Indiana</th>\n",
       "      <td>1</td>\n",
       "      <td>Moderate</td>\n",
       "      <td>13609.0</td>\n",
       "    </tr>\n",
       "    <tr>\n",
       "      <th>Massachusetts</th>\n",
       "      <td>2</td>\n",
       "      <td>High</td>\n",
       "      <td>14629.5</td>\n",
       "    </tr>\n",
       "    <tr>\n",
       "      <th>New York</th>\n",
       "      <td>2</td>\n",
       "      <td>High</td>\n",
       "      <td>20285.0</td>\n",
       "    </tr>\n",
       "    <tr>\n",
       "      <th>Pennsylvania</th>\n",
       "      <td>1</td>\n",
       "      <td>Low</td>\n",
       "      <td>12876.0</td>\n",
       "    </tr>\n",
       "  </tbody>\n",
       "</table>\n",
       "</div>"
      ],
      "text/plain": [
       "              Proportion                 Students\n",
       "                   count student_density     mean\n",
       "State                                            \n",
       "Arizona                1             Low  14647.0\n",
       "California             2        Moderate  15782.5\n",
       "Illinois               1        Moderate  14735.0\n",
       "Indiana                1        Moderate  13609.0\n",
       "Massachusetts          2            High  14629.5\n",
       "New York               2            High  20285.0\n",
       "Pennsylvania           1             Low  12876.0"
      ]
     },
     "execution_count": 15,
     "metadata": {},
     "output_type": "execute_result"
    }
   ],
   "source": [
    "grouped_by_state"
   ]
  }
 ],
 "metadata": {
  "kernelspec": {
   "display_name": "Python 3",
   "language": "python",
   "name": "python3"
  },
  "language_info": {
   "codemirror_mode": {
    "name": "ipython",
    "version": 3
   },
   "file_extension": ".py",
   "mimetype": "text/x-python",
   "name": "python",
   "nbconvert_exporter": "python",
   "pygments_lexer": "ipython3",
   "version": "3.6.5"
  }
 },
 "nbformat": 4,
 "nbformat_minor": 2
}

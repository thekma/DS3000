{
 "cells": [
  {
   "cell_type": "code",
   "execution_count": 3,
   "metadata": {},
   "outputs": [],
   "source": [
    "num_list = []\n",
    "\n",
    "for num in range(1,12):\n",
    "    if not num%3 == 0:\n",
    "        num_list.append(num)"
   ]
  },
  {
   "cell_type": "code",
   "execution_count": 4,
   "metadata": {},
   "outputs": [
    {
     "data": {
      "text/plain": [
       "[1, 2, 4, 5, 7, 8, 10, 11]"
      ]
     },
     "execution_count": 4,
     "metadata": {},
     "output_type": "execute_result"
    }
   ],
   "source": [
    "num_list"
   ]
  },
  {
   "cell_type": "code",
   "execution_count": 34,
   "metadata": {},
   "outputs": [
    {
     "data": {
      "text/plain": [
       "{'Harry': 90, 'Harmione': 100, 'Ron': 86}"
      ]
     },
     "execution_count": 34,
     "metadata": {},
     "output_type": "execute_result"
    }
   ],
   "source": [
    "stu_dict = []\n",
    "\n",
    "stu_dict = {\"Harry\":90, \"Harmione\":100, \"Ron\":86}\n",
    "\n",
    "stu_dict"
   ]
  },
  {
   "cell_type": "code",
   "execution_count": 35,
   "metadata": {},
   "outputs": [],
   "source": [
    "if \"Luna\" in stu_dict:\n",
    "    stu_dict[\"Luna\"]\n",
    "else:\n",
    "    stu_dict[\"Luna\"] = 75"
   ]
  },
  {
   "cell_type": "code",
   "execution_count": 36,
   "metadata": {},
   "outputs": [
    {
     "data": {
      "text/plain": [
       "75"
      ]
     },
     "execution_count": 36,
     "metadata": {},
     "output_type": "execute_result"
    }
   ],
   "source": [
    "stu_dict.pop(\"Luna\")"
   ]
  },
  {
   "cell_type": "code",
   "execution_count": 37,
   "metadata": {},
   "outputs": [
    {
     "data": {
      "text/plain": [
       "86"
      ]
     },
     "execution_count": 37,
     "metadata": {},
     "output_type": "execute_result"
    }
   ],
   "source": [
    "stu_dict.get(\"Ron\")"
   ]
  },
  {
   "cell_type": "code",
   "execution_count": 38,
   "metadata": {},
   "outputs": [],
   "source": [
    "stu_dict.get(\"Luna\")"
   ]
  },
  {
   "cell_type": "code",
   "execution_count": 39,
   "metadata": {},
   "outputs": [],
   "source": [
    "stu_dict[\"Luna\"] = stu_dict.get(\"Luna\", 80)"
   ]
  },
  {
   "cell_type": "code",
   "execution_count": 40,
   "metadata": {},
   "outputs": [
    {
     "data": {
      "text/plain": [
       "{'Harry': 90, 'Harmione': 100, 'Ron': 86, 'Luna': 80}"
      ]
     },
     "execution_count": 40,
     "metadata": {},
     "output_type": "execute_result"
    }
   ],
   "source": [
    "stu_dict"
   ]
  },
  {
   "cell_type": "code",
   "execution_count": 43,
   "metadata": {},
   "outputs": [
    {
     "data": {
      "text/plain": [
       "dict_items([('Harry', 90), ('Harmione', 100), ('Ron', 86), ('Luna', 80)])"
      ]
     },
     "execution_count": 43,
     "metadata": {},
     "output_type": "execute_result"
    }
   ],
   "source": [
    "stu_dict.items()"
   ]
  },
  {
   "cell_type": "code",
   "execution_count": 50,
   "metadata": {},
   "outputs": [],
   "source": [
    "for student, grade in stu_dict.items():\n",
    "    stu_dict.items()"
   ]
  },
  {
   "cell_type": "code",
   "execution_count": 55,
   "metadata": {},
   "outputs": [
    {
     "name": "stdout",
     "output_type": "stream",
     "text": [
      "Harry\n",
      "Harmione\n",
      "Ron\n",
      "Luna\n"
     ]
    }
   ],
   "source": [
    "for student in stu_dict.keys():\n",
    "    print(student)"
   ]
  },
  {
   "cell_type": "code",
   "execution_count": 64,
   "metadata": {},
   "outputs": [
    {
     "data": {
      "text/plain": [
       "{'Harry': [84, 89, 92], 'Hermione': [100, 100, 99], 'Ron': [92, 89, 84]}"
      ]
     },
     "execution_count": 64,
     "metadata": {},
     "output_type": "execute_result"
    }
   ],
   "source": [
    "#in-class assignment\n",
    "\n",
    "studen_dict = []\n",
    "\n",
    "student_dict = {\"Harry\": [84, 89, 92]}\n",
    "\n",
    "student_dict[\"Hermione\"] = [100, 100, 99]\n",
    "\n",
    "student_dict[\"Ron\"] = [92, 89, 84]\n",
    "\n",
    "student_dict"
   ]
  },
  {
   "cell_type": "code",
   "execution_count": 65,
   "metadata": {},
   "outputs": [
    {
     "name": "stdout",
     "output_type": "stream",
     "text": [
      "Average for Harry : 88.33333333333333\n",
      "Average for Hermione : 99.66666666666667\n",
      "Average for Ron : 88.33333333333333\n"
     ]
    }
   ],
   "source": [
    "#in-class assignment\n",
    "\n",
    "for student, grade in student_dict.items():\n",
    "    student_total = sum(grade)\n",
    "    student_ave = student_total / len(grade)\n",
    "    print(\"Average for\", student, \":\", student_ave)"
   ]
  },
  {
   "cell_type": "code",
   "execution_count": 71,
   "metadata": {},
   "outputs": [
    {
     "name": "stdout",
     "output_type": "stream",
     "text": [
      "Total average: 92.1111111111111.\n"
     ]
    }
   ],
   "source": [
    "#in-class assignment\n",
    "\n",
    "t_avg = []\n",
    "\n",
    "for student, grade in student_dict.items():\n",
    "    student_t = sum(grade)\n",
    "    student_avg = student_t / len(grade)\n",
    "    t_avg.append(student_avg)\n",
    "\n",
    "t_num = 0\n",
    "\n",
    "for number in t_avg:\n",
    "    t_num += number\n",
    "\n",
    "print(\"Total average:\", str(t_num/len(t_avg))+\".\")"
   ]
  },
  {
   "cell_type": "code",
   "execution_count": 72,
   "metadata": {},
   "outputs": [],
   "source": [
    "import numpy as np"
   ]
  },
  {
   "cell_type": "code",
   "execution_count": 73,
   "metadata": {},
   "outputs": [
    {
     "data": {
      "text/plain": [
       "array([[ 1,  3,  5,  7,  9],\n",
       "       [ 2,  4,  6,  8, 10]])"
      ]
     },
     "execution_count": 73,
     "metadata": {},
     "output_type": "execute_result"
    }
   ],
   "source": [
    "multi_num = np.array([[1, 3, 5, 7, 9], [2, 4, 6, 8, 10]])\n",
    "\n",
    "multi_num"
   ]
  },
  {
   "cell_type": "code",
   "execution_count": 74,
   "metadata": {},
   "outputs": [
    {
     "data": {
      "text/plain": [
       "array([0.1, 0.2, 0.3, 0.4, 0.5])"
      ]
     },
     "execution_count": 74,
     "metadata": {},
     "output_type": "execute_result"
    }
   ],
   "source": [
    "float_num = np.array([0.1, 0.2, 0.3, 0.4, 0.5])\n",
    "float_num"
   ]
  },
  {
   "cell_type": "code",
   "execution_count": null,
   "metadata": {},
   "outputs": [],
   "source": []
  }
 ],
 "metadata": {
  "kernelspec": {
   "display_name": "Python 3",
   "language": "python",
   "name": "python3"
  },
  "language_info": {
   "codemirror_mode": {
    "name": "ipython",
    "version": 3
   },
   "file_extension": ".py",
   "mimetype": "text/x-python",
   "name": "python",
   "nbconvert_exporter": "python",
   "pygments_lexer": "ipython3",
   "version": "3.6.5"
  }
 },
 "nbformat": 4,
 "nbformat_minor": 2
}

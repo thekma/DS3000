{
 "cells": [
  {
   "cell_type": "markdown",
   "metadata": {},
   "source": [
    "<center> <h1> DS 3000 </h1> </center>\n",
    "<center> <h1> Homework Assignment 6 </h1> </center>\n"
   ]
  },
  {
   "cell_type": "markdown",
   "metadata": {},
   "source": [
    "<center> <h3> insert your full name here by double-clicking </h3></center>"
   ]
  },
  {
   "cell_type": "markdown",
   "metadata": {},
   "source": [
    "Your company is getting ready to launch a new app, Accio, to revolutionize the way people hail a cab! In this project, your supervisors would like your help in making an informed decision as to which design alternative to use for the search function. \n",
    "\n",
    "Suppose that your company's awesome User Experience (UX) design team has come up with three design alternatives for the search function: explicit search, dynamic search, and auto-suggestion search.\n",
    "\n",
    "* The explicit search design relies on an explicit action to perform the search and view results. Specifically, users need to tap the search button next to the search box on the screen. \n",
    "* The dynamic search relies on dynamic filtering such that entering text in the search field will dynamically filter the data on the screen and thus will perform the search action and view results without users needing to tap a button.\n",
    "* The auto-suggestion search also relies on dynamic filtering and is similar to the dynamic search in that it will perform the search action and view results without users needing to tap a button. Different from the dynamic search, however, the auto-suggestion search design provides auto-suggestions after the user enters some characters to reduce data entry and provide immediate results.\n",
    "\n",
    "The designs are illustrated below:"
   ]
  },
  {
   "cell_type": "markdown",
   "metadata": {},
   "source": [
    "<img src=\"https://yildirimcaglar.github.io/teaching/hw6.png\" width = 600px />"
   ]
  },
  {
   "cell_type": "markdown",
   "metadata": {},
   "source": [
    "<center> <h2> Experimental Design and Hypotheses</h2> </center>\n",
    "\n",
    "Your marketing team’s priority is efficiency (i.e., how fast users can accomplish a given search task), and you have been asked to analyze the data from an experiment designed to test which of these three designs would lead to shorter task completion times. For the experiment, the UX researcher at your company recruited 36 users and divided them into three groups of equal size to test an interactive, high-fidelity prototype of the three designs:\n",
    "\n",
    "* The first group was tested using the explicit search design and was asked to perform a search task on this design. The researcher measured the time taken to complete the task in seconds. \n",
    "* The second group was tested using the dynamic search design and was asked to perform the same search task on this design. The researcher measured the task completion time for this group as well.\n",
    "* The third group was tested using the auto-suggestion search design and was asked to perform the same search task on this design. The task completion time was measured again.\n",
    "\n",
    "\n",
    "The **goal of the experiment** was to determine which of these three designs was the most efficient in terms of enabling users to complete the search task. The UX researcher predicted that the auto-suggestion search design and the dynamic search design would require shorter task completion times, when compared to the explicit search design. The researcher also predicted that the auto-suggestion search design would be more efficient than the dynamic search design.\n",
    "\n",
    "\n"
   ]
  },
  {
   "cell_type": "markdown",
   "metadata": {},
   "source": [
    "<center> <h2> Dataset </h2> </center>\n",
    "\n",
    "The dataset, DS3000_HW6_Data.csv, is as follows:"
   ]
  },
  {
   "cell_type": "code",
   "execution_count": 7,
   "metadata": {},
   "outputs": [
    {
     "data": {
      "text/html": [
       "<div>\n",
       "<style scoped>\n",
       "    .dataframe tbody tr th:only-of-type {\n",
       "        vertical-align: middle;\n",
       "    }\n",
       "\n",
       "    .dataframe tbody tr th {\n",
       "        vertical-align: top;\n",
       "    }\n",
       "\n",
       "    .dataframe thead th {\n",
       "        text-align: right;\n",
       "    }\n",
       "</style>\n",
       "<table border=\"1\" class=\"dataframe\">\n",
       "  <thead>\n",
       "    <tr style=\"text-align: right;\">\n",
       "      <th></th>\n",
       "      <th>PID</th>\n",
       "      <th>Group</th>\n",
       "      <th>TaskCompletionTime</th>\n",
       "    </tr>\n",
       "  </thead>\n",
       "  <tbody>\n",
       "    <tr>\n",
       "      <td>0</td>\n",
       "      <td>P01</td>\n",
       "      <td>Dynamic</td>\n",
       "      <td>6.25</td>\n",
       "    </tr>\n",
       "    <tr>\n",
       "      <td>1</td>\n",
       "      <td>P02</td>\n",
       "      <td>Explicit</td>\n",
       "      <td>9.00</td>\n",
       "    </tr>\n",
       "    <tr>\n",
       "      <td>2</td>\n",
       "      <td>P03</td>\n",
       "      <td>Auto-suggestion</td>\n",
       "      <td>7.50</td>\n",
       "    </tr>\n",
       "    <tr>\n",
       "      <td>3</td>\n",
       "      <td>P04</td>\n",
       "      <td>Dynamic</td>\n",
       "      <td>7.50</td>\n",
       "    </tr>\n",
       "    <tr>\n",
       "      <td>4</td>\n",
       "      <td>P05</td>\n",
       "      <td>Explicit</td>\n",
       "      <td>8.50</td>\n",
       "    </tr>\n",
       "  </tbody>\n",
       "</table>\n",
       "</div>"
      ],
      "text/plain": [
       "   PID            Group  TaskCompletionTime\n",
       "0  P01          Dynamic                6.25\n",
       "1  P02         Explicit                9.00\n",
       "2  P03  Auto-suggestion                7.50\n",
       "3  P04          Dynamic                7.50\n",
       "4  P05         Explicit                8.50"
      ]
     },
     "execution_count": 7,
     "metadata": {},
     "output_type": "execute_result"
    }
   ],
   "source": [
    "from scipy import stats\n",
    "import pandas as pd\n",
    "data = pd.read_csv(\"DS3000_HW6_Data.csv\")\n",
    "data.head()"
   ]
  },
  {
   "cell_type": "markdown",
   "metadata": {},
   "source": [
    "### What to do\n",
    "\n",
    "* Carefully read the description.\n",
    "* Download the dataset attached to the assignment link.\n",
    "* Make sure you execute your code for each question and compare the output to the sample output provided.\n",
    "* Refrain from using advanced Python capabilities that were not covered in class.\n",
    "* When in doubt, ASK! Post a question on the Blackboard discussion forum for this homework assignment.\n",
    "* Complete the assignment on your own."
   ]
  },
  {
   "cell_type": "markdown",
   "metadata": {},
   "source": [
    "### What to submit\n",
    "* When you are done with the assignment, save it.\n",
    "* Download it as a Jupyter Notebook (DS3000_HW6.ipynb)\n",
    "* Upload your downloaded Notebook to Google Colab (https://colab.research.google.com/notebooks/)\n",
    "* Get a shareable link to your Notebook on Colab\n",
    "    * Go to Share near the top-right corner of the screen.\n",
    "    * Make sure you select Anyone with the Link Can View)\n",
    "    * Copy the link\n",
    "* Go to Blackboard\n",
    "* **Upload your Jupyter Notebook through the Blackboard assignment dropbox link.**\n",
    "* **Paste the link to you Colab Notebook in the Add Comments field.**\n",
    "* You can submit multiple attempts. The last attempt will be graded."
   ]
  },
  {
   "cell_type": "markdown",
   "metadata": {},
   "source": [
    "<center> <h2> Part 1 </h2> </center>"
   ]
  },
  {
   "cell_type": "markdown",
   "metadata": {},
   "source": [
    "### Question 1a (.5pts)\n",
    "What is the independent variable of your experiment? What are the levels of the IV? Type your answer below:"
   ]
  },
  {
   "cell_type": "markdown",
   "metadata": {},
   "source": [
    " "
   ]
  },
  {
   "cell_type": "markdown",
   "metadata": {},
   "source": [
    "### Question 1b (.5pts)\n",
    "What is the dependent variable of your experiment?"
   ]
  },
  {
   "cell_type": "markdown",
   "metadata": {},
   "source": [
    " "
   ]
  },
  {
   "cell_type": "markdown",
   "metadata": {},
   "source": [
    "### Question 1c (.5pts)\n",
    "What type of experimental design did this study follow? Just name the design."
   ]
  },
  {
   "cell_type": "markdown",
   "metadata": {},
   "source": [
    " "
   ]
  },
  {
   "cell_type": "markdown",
   "metadata": {},
   "source": [
    "### Question 1d (.5pts)\n",
    "State the null hypothesis for the experiment described above."
   ]
  },
  {
   "cell_type": "markdown",
   "metadata": {},
   "source": [
    " "
   ]
  },
  {
   "cell_type": "markdown",
   "metadata": {},
   "source": [
    "<center> <h2> Part 2 </h2> </center>"
   ]
  },
  {
   "cell_type": "markdown",
   "metadata": {},
   "source": [
    "### Question 2 (2pts)\n",
    "Write a function that produces descriptive stats (count, mean, std, and sem) for each experimental condition. The function should take a dataframe and the names of columns for IV and DV."
   ]
  },
  {
   "cell_type": "code",
   "execution_count": 20,
   "metadata": {},
   "outputs": [],
   "source": [
    "def describe_data(data, IV, DV):\n"
   ]
  },
  {
   "cell_type": "code",
   "execution_count": 22,
   "metadata": {},
   "outputs": [
    {
     "data": {
      "text/html": [
       "<div>\n",
       "<style scoped>\n",
       "    .dataframe tbody tr th:only-of-type {\n",
       "        vertical-align: middle;\n",
       "    }\n",
       "\n",
       "    .dataframe tbody tr th {\n",
       "        vertical-align: top;\n",
       "    }\n",
       "\n",
       "    .dataframe thead th {\n",
       "        text-align: right;\n",
       "    }\n",
       "</style>\n",
       "<table border=\"1\" class=\"dataframe\">\n",
       "  <thead>\n",
       "    <tr style=\"text-align: right;\">\n",
       "      <th></th>\n",
       "      <th>count</th>\n",
       "      <th>mean</th>\n",
       "      <th>std</th>\n",
       "      <th>sem</th>\n",
       "    </tr>\n",
       "    <tr>\n",
       "      <th>Group</th>\n",
       "      <th></th>\n",
       "      <th></th>\n",
       "      <th></th>\n",
       "      <th></th>\n",
       "    </tr>\n",
       "  </thead>\n",
       "  <tbody>\n",
       "    <tr>\n",
       "      <td>Auto-suggestion</td>\n",
       "      <td>12</td>\n",
       "      <td>6.750000</td>\n",
       "      <td>0.533002</td>\n",
       "      <td>0.153864</td>\n",
       "    </tr>\n",
       "    <tr>\n",
       "      <td>Dynamic</td>\n",
       "      <td>12</td>\n",
       "      <td>7.104167</td>\n",
       "      <td>0.588317</td>\n",
       "      <td>0.169833</td>\n",
       "    </tr>\n",
       "    <tr>\n",
       "      <td>Explicit</td>\n",
       "      <td>12</td>\n",
       "      <td>8.145833</td>\n",
       "      <td>0.607326</td>\n",
       "      <td>0.175320</td>\n",
       "    </tr>\n",
       "  </tbody>\n",
       "</table>\n",
       "</div>"
      ],
      "text/plain": [
       "                 count      mean       std       sem\n",
       "Group                                               \n",
       "Auto-suggestion     12  6.750000  0.533002  0.153864\n",
       "Dynamic             12  7.104167  0.588317  0.169833\n",
       "Explicit            12  8.145833  0.607326  0.175320"
      ]
     },
     "execution_count": 22,
     "metadata": {},
     "output_type": "execute_result"
    }
   ],
   "source": [
    "descriptives = describe_data(data, \"Group\", \"TaskCompletionTime\")\n",
    "descriptives"
   ]
  },
  {
   "cell_type": "markdown",
   "metadata": {},
   "source": [
    "### Question 3 (4pts)\n",
    "Write a function that visualizes the descriptives dataframe above using Plotly Express. Specifically, your function should produce a bar graph visualizing the average task completion times as a function of experimental condition. You can format your bar graph however you like. Just make sure you've modified the default template."
   ]
  },
  {
   "cell_type": "code",
   "execution_count": 26,
   "metadata": {},
   "outputs": [],
   "source": [
    "def visualize_descriptives():\n",
    "\n"
   ]
  },
  {
   "cell_type": "code",
   "execution_count": 27,
   "metadata": {},
   "outputs": [
    {
     "data": {
      "application/vnd.plotly.v1+json": {
       "config": {
        "plotlyServerURL": "https://plot.ly"
       },
       "data": [
        {
         "alignmentgroup": "True",
         "error_x": {
          "array": [
           0.15386436372416584,
           0.1698326196196381,
           0.1753198736048145
          ]
         },
         "error_y": {
          "array": [
           0.15386436372416584,
           0.1698326196196381,
           0.1753198736048145
          ]
         },
         "hoverlabel": {
          "namelength": 0
         },
         "hovertemplate": "Designs=%{x}<br>Task Completion Times=%{y}",
         "legendgroup": "",
         "marker": {
          "color": [
           "#d3d3d3",
           "#d3d3d3",
           "#d3d3d3"
          ],
          "line": {
           "color": "#000000",
           "width": 3
          }
         },
         "name": "",
         "offsetgroup": "",
         "orientation": "v",
         "showlegend": false,
         "textposition": "auto",
         "type": "bar",
         "x": [
          "Auto-suggestion",
          "Dynamic",
          "Explicit"
         ],
         "xaxis": "x",
         "y": [
          6.75,
          7.104166666666667,
          8.145833333333334
         ],
         "yaxis": "y"
        }
       ],
       "layout": {
        "barmode": "relative",
        "height": 600,
        "legend": {
         "tracegroupgap": 0
        },
        "margin": {
         "t": 60
        },
        "template": {},
        "width": 500,
        "xaxis": {
         "anchor": "y",
         "domain": [
          0,
          0.98
         ],
         "tickfont": {
          "color": "gray",
          "size": 14
         },
         "title": {
          "font": {
           "size": 16
          },
          "text": "Designs"
         }
        },
        "yaxis": {
         "anchor": "x",
         "domain": [
          0,
          1
         ],
         "tickfont": {
          "color": "gray",
          "size": 14
         },
         "title": {
          "font": {
           "size": 16
          },
          "text": "Task Completion Times"
         }
        }
       }
      },
      "text/html": [
       "<div>\n",
       "        \n",
       "        \n",
       "            <div id=\"d25c380d-f8f4-4302-95b3-dfcf537f7a62\" class=\"plotly-graph-div\" style=\"height:600px; width:500px;\"></div>\n",
       "            <script type=\"text/javascript\">\n",
       "                require([\"plotly\"], function(Plotly) {\n",
       "                    window.PLOTLYENV=window.PLOTLYENV || {};\n",
       "                    \n",
       "                if (document.getElementById(\"d25c380d-f8f4-4302-95b3-dfcf537f7a62\")) {\n",
       "                    Plotly.newPlot(\n",
       "                        'd25c380d-f8f4-4302-95b3-dfcf537f7a62',\n",
       "                        [{\"alignmentgroup\": \"True\", \"error_x\": {\"array\": [0.15386436372416584, 0.1698326196196381, 0.1753198736048145]}, \"error_y\": {\"array\": [0.15386436372416584, 0.1698326196196381, 0.1753198736048145]}, \"hoverlabel\": {\"namelength\": 0}, \"hovertemplate\": \"Designs=%{x}<br>Task Completion Times=%{y}\", \"legendgroup\": \"\", \"marker\": {\"color\": [\"#d3d3d3\", \"#d3d3d3\", \"#d3d3d3\"], \"line\": {\"color\": \"#000000\", \"width\": 3}}, \"name\": \"\", \"offsetgroup\": \"\", \"orientation\": \"v\", \"showlegend\": false, \"textposition\": \"auto\", \"type\": \"bar\", \"x\": [\"Auto-suggestion\", \"Dynamic\", \"Explicit\"], \"xaxis\": \"x\", \"y\": [6.75, 7.104166666666667, 8.145833333333334], \"yaxis\": \"y\"}],\n",
       "                        {\"barmode\": \"relative\", \"height\": 600, \"legend\": {\"tracegroupgap\": 0}, \"margin\": {\"t\": 60}, \"template\": {}, \"width\": 500, \"xaxis\": {\"anchor\": \"y\", \"domain\": [0.0, 0.98], \"tickfont\": {\"color\": \"gray\", \"size\": 14}, \"title\": {\"font\": {\"size\": 16}, \"text\": \"Designs\"}}, \"yaxis\": {\"anchor\": \"x\", \"domain\": [0.0, 1.0], \"tickfont\": {\"color\": \"gray\", \"size\": 14}, \"title\": {\"font\": {\"size\": 16}, \"text\": \"Task Completion Times\"}}},\n",
       "                        {\"responsive\": true}\n",
       "                    ).then(function(){\n",
       "                            \n",
       "var gd = document.getElementById('d25c380d-f8f4-4302-95b3-dfcf537f7a62');\n",
       "var x = new MutationObserver(function (mutations, observer) {{\n",
       "        var display = window.getComputedStyle(gd).display;\n",
       "        if (!display || display === 'none') {{\n",
       "            console.log([gd, 'removed!']);\n",
       "            Plotly.purge(gd);\n",
       "            observer.disconnect();\n",
       "        }}\n",
       "}});\n",
       "\n",
       "// Listen for the removal of the full notebook cells\n",
       "var notebookContainer = gd.closest('#notebook-container');\n",
       "if (notebookContainer) {{\n",
       "    x.observe(notebookContainer, {childList: true});\n",
       "}}\n",
       "\n",
       "// Listen for the clearing of the current output cell\n",
       "var outputEl = gd.closest('.output');\n",
       "if (outputEl) {{\n",
       "    x.observe(outputEl, {childList: true});\n",
       "}}\n",
       "\n",
       "                        })\n",
       "                };\n",
       "                });\n",
       "            </script>\n",
       "        </div>"
      ]
     },
     "metadata": {},
     "output_type": "display_data"
    }
   ],
   "source": [
    "visualize_descriptives()"
   ]
  },
  {
   "cell_type": "markdown",
   "metadata": {},
   "source": [
    "### Question 4 (14pts)\n",
    "Write a function that takes a dataframe and the names of the IV and DV and conducts a one-way ANOVA on the dataframe using the IV and DV. Your function should calculate the F-test values, check for assumptions, and perform post-hoc comparisons, as seen in the output. You should use SciPy methods. The output from your function should be formatted in a way that matches the sample output below. \n",
    "\n",
    "You can assume that the IV will have three conditions/levels. It is okay to write your function specifically for this dataset. That said, you can get extra credit (2pts) if you write a generic one-way ANOVA function that would work with any dataset containing an IV with three or more levels. :) "
   ]
  },
  {
   "cell_type": "code",
   "execution_count": 99,
   "metadata": {},
   "outputs": [],
   "source": [
    "def oneway_ANOVA(data, IV, DV):\n",
    " "
   ]
  },
  {
   "cell_type": "code",
   "execution_count": 100,
   "metadata": {},
   "outputs": [
    {
     "name": "stdout",
     "output_type": "stream",
     "text": [
      "-----------------------\n",
      "ONE-WAY ANOVA RESULTS\n",
      "-----------------------\n",
      "\n",
      "\n",
      "F-test\n",
      "-------\n",
      "\n",
      "F(2,33) = 18.97, p = 0.0000\n",
      "\n",
      "\n",
      "Assumption Checks\n",
      "-------------------\n",
      "\n",
      "Assumption of Equality of Variances:\n",
      "\t LeveneResult(statistic=0.206930693069307, pvalue=0.8141229698874001)\n",
      "\t Assumption is met. p > .05\n",
      "\n",
      "Assumption of Normality:\n",
      "\t Dynamic : (0.8992007374763489, 0.1548958420753479)\n",
      "\t\t Assumption is met. p > .05\n",
      "\n",
      "\t Explicit : (0.9644210338592529, 0.8445667624473572)\n",
      "\t\t Assumption is met. p > .05\n",
      "\n",
      "\t Auto-suggestion : (0.8095602989196777, 0.01205824501812458)\n",
      "\t\t Assumption is violated. p < .05\n",
      "\n",
      "\n",
      "\n",
      "Post-hoc Tests\n",
      "----------------\n",
      "\n",
      "     Multiple Comparison of Means - Tukey HSD, FWER=0.05      \n",
      "==============================================================\n",
      "     group1      group2  meandiff p-adj   lower  upper  reject\n",
      "--------------------------------------------------------------\n",
      "Auto-suggestion  Dynamic   0.3542 0.3028 -0.2238 0.9322  False\n",
      "Auto-suggestion Explicit   1.3958  0.001  0.8178 1.9738   True\n",
      "        Dynamic Explicit   1.0417  0.001  0.4637 1.6197   True\n",
      "--------------------------------------------------------------\n"
     ]
    }
   ],
   "source": [
    "oneway_ANOVA(data, \"Group\", \"TaskCompletionTime\")"
   ]
  },
  {
   "cell_type": "markdown",
   "metadata": {},
   "source": [
    "<center> <h2> Part 3 </h2> </center>"
   ]
  },
  {
   "cell_type": "markdown",
   "metadata": {},
   "source": [
    "### Question 5 (5pts)\n",
    "Report the results of your test following the write-up example from the corresponding lecture notes. You will basically explain your previous output. Also explain the results of post hoc comparisons. Type your answer below:"
   ]
  },
  {
   "cell_type": "markdown",
   "metadata": {},
   "source": [
    " "
   ]
  },
  {
   "cell_type": "markdown",
   "metadata": {},
   "source": [
    "### Question 6 (3pts)\n",
    "Interpret your results from the previous step. Which design is more efficient? Type your answer below:"
   ]
  },
  {
   "cell_type": "markdown",
   "metadata": {},
   "source": [
    "  "
   ]
  }
 ],
 "metadata": {
  "kernelspec": {
   "display_name": "Python 3",
   "language": "python",
   "name": "python3"
  },
  "language_info": {
   "codemirror_mode": {
    "name": "ipython",
    "version": 3
   },
   "file_extension": ".py",
   "mimetype": "text/x-python",
   "name": "python",
   "nbconvert_exporter": "python",
   "pygments_lexer": "ipython3",
   "version": "3.6.5"
  }
 },
 "nbformat": 4,
 "nbformat_minor": 2
}

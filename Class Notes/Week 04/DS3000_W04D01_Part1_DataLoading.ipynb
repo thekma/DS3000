{
 "cells": [
  {
   "cell_type": "markdown",
   "metadata": {
    "slideshow": {
     "slide_type": "slide"
    }
   },
   "source": [
    "<center> <img src=\"https://github.ccs.neu.edu/caglar/DS3000/blob/master/img/ds3000.png?raw=true\"> </center>"
   ]
  },
  {
   "cell_type": "markdown",
   "metadata": {},
   "source": [
    "<center> <h1> Week 4 - Day 1 </h1> </center>"
   ]
  },
  {
   "cell_type": "markdown",
   "metadata": {},
   "source": [
    "<center> <h2> Part 1: Data Loading </h2></center>"
   ]
  },
  {
   "cell_type": "markdown",
   "metadata": {
    "slideshow": {
     "slide_type": "skip"
    }
   },
   "source": [
    "## Outline\n",
    "1. <a href='#1'>Files</a>\n",
    "2. <a href='#2'>Working with Files: The `with` Statement </a>\n",
    "3. <a href='#3'>Reading Data from Files</a>\n",
    "4. <a href='#4'>Writing to a Text File</a>\n",
    "5. <a href='#5'>Tokenizing Lines of a Text File</a>\n"
   ]
  },
  {
   "cell_type": "markdown",
   "metadata": {
    "slideshow": {
     "slide_type": "slide"
    }
   },
   "source": [
    "##  Loading Data from Files\n",
    "* Variables, lists, tuples, dictionaries, sets, arrays, pandas `Series` and pandas `DataFrame`s offer only _temporary_ data storage\n",
    "    * lost when a local variable “goes out of scope” or when the program terminates\n",
    "* Data maintained in **files** are persistent\n",
    "* Several popular formats:\n",
    "    * Plain text\n",
    "    * CSV (Comma-Separated Values)\n",
    "    * JSON (JavaScript Object Notation)    "
   ]
  },
  {
   "cell_type": "markdown",
   "metadata": {
    "slideshow": {
     "slide_type": "skip"
    }
   },
   "source": [
    "<a id=\"1\"></a>"
   ]
  },
  {
   "cell_type": "markdown",
   "metadata": {
    "slideshow": {
     "slide_type": "slide"
    }
   },
   "source": [
    "## 1. Files\n",
    "* A **text file** is a sequence of characters \n",
    "* A **binary file** (for images, videos and more) is a sequence of bytes\n",
    "* First character in a text file or byte in a binary file is located at position 0\n",
    "    * In a file of **_n_** characters or bytes, the highest position number is **_n_ – 1**\n",
    "* For each file you **open**, Python creates a **file object** that you’ll use to interact with the file"
   ]
  },
  {
   "cell_type": "markdown",
   "metadata": {},
   "source": [
    "<img src = \"res/eof.png\" />"
   ]
  },
  {
   "cell_type": "markdown",
   "metadata": {
    "slideshow": {
     "slide_type": "subslide"
    }
   },
   "source": [
    "### 1.1. End of File\n",
    "* Every operating system provides a mechanism to denote the end of a file\n",
    "    * Some use an **end-of-file marker**\n",
    "    * Others maintain a count of the total characters or bytes in the file\n",
    "    * Programming languages hide these operating-system details from you\n",
    "    \n",
    "* Python EOF marker is \"\\n\""
   ]
  },
  {
   "cell_type": "markdown",
   "metadata": {
    "slideshow": {
     "slide_type": "slide"
    }
   },
   "source": [
    "### 1.2. Escape Sequences\n",
    "| Escape sequence | Description\n",
    "| :------- | :------------\n",
    "| `\\n` | Insert a newline character in a string. When the string is displayed, for each newline, move the screen cursor to the beginning of the next line. \n",
    "| `\\t` | Insert a horizontal tab. When the string is displayed, for each tab, move the screen cursor to the next tab stop. \n",
    "| `\\\\` | Insert a backslash character in a string.\n",
    "| `\\\"` | Insert a double quote character in a string.\n",
    "| `\\'` | Insert a single quote character in a string."
   ]
  },
  {
   "cell_type": "markdown",
   "metadata": {
    "slideshow": {
     "slide_type": "skip"
    }
   },
   "source": [
    "<a id=\"2\"></a>"
   ]
  },
  {
   "cell_type": "markdown",
   "metadata": {
    "slideshow": {
     "slide_type": "slide"
    }
   },
   "source": [
    "## 2. Working with Text Files: The `with` Statement \n",
    "* `with` statement is used to work with files\n",
    "* Acquires a resource and assigns its corresponding object to a variable\n",
    "* Allows the application to use the resource via that variable\n",
    "* Calls the resource object’s **`close` method** to release the resource\n",
    "* Can open files for reading, writing, and/or appending\n",
    "* Can specify the file-open mode"
   ]
  },
  {
   "cell_type": "markdown",
   "metadata": {
    "slideshow": {
     "slide_type": "subslide"
    }
   },
   "source": [
    "### 2.1. File-Open Modes\n",
    "| Mode | Description\n",
    "| ------ | :------\n",
    "| `'r'` | Open a text file for reading. This is the default if you do not specify the file-open mode when you call open. \n",
    "| `'w'` | Open a text file for writing. Existing file contents are _deleted_. \n",
    "| **`'a'`** | Open a text file for appending at the end, creating the file if it does not exist. New data is written at the end of the file. \n",
    "| **`'r+'`** | Open a text file reading and writing. \n",
    "| **`'w+'`** | Open a text file reading and writing. Existing file contents are _deleted_.\n",
    "| **`'a+'`** | Open a text file reading and appending at the end. New data is written at the end of the file. If the file does not exist, it is created. "
   ]
  },
  {
   "cell_type": "markdown",
   "metadata": {
    "slideshow": {
     "slide_type": "skip"
    }
   },
   "source": [
    "<a id=\"3\"></a>"
   ]
  },
  {
   "cell_type": "markdown",
   "metadata": {
    "slideshow": {
     "slide_type": "slide"
    }
   },
   "source": [
    "## 3. Reading Data from Text Files\n",
    "* If the contents of a file should not be modified, open the file for reading only\n",
    "    * Prevents program from accidentally modifying the file"
   ]
  },
  {
   "cell_type": "code",
   "execution_count": null,
   "metadata": {
    "slideshow": {
     "slide_type": "subslide"
    }
   },
   "outputs": [],
   "source": [
    "with open('res/hp1.txt', mode='r') as hp1:\n",
    "    for line in hp1:\n",
    "        print(line)"
   ]
  },
  {
   "cell_type": "markdown",
   "metadata": {},
   "source": [
    "* Built-in `open` function opens the file `hp1.txt`\n",
    "* `with` statement assigns the object returned by `open` to the variable `hp1` in the **`as` clause**\n",
    "* `with` statement’s suite uses `hp1` to interact with the file\n",
    "* At the end of the `with` statement’s suite, the `with` statement *implicitly* calls the file object’s **`close`** method to close the file "
   ]
  },
  {
   "cell_type": "code",
   "execution_count": null,
   "metadata": {
    "slideshow": {
     "slide_type": "subslide"
    }
   },
   "outputs": [],
   "source": [
    "with open('res/hp1.txt', mode='r') as hp1:\n",
    "    for line in hp1:\n",
    "        print(line)"
   ]
  },
  {
   "cell_type": "markdown",
   "metadata": {
    "slideshow": {
     "slide_type": "-"
    }
   },
   "source": [
    "* `mode` argument specifies the **file-open mode**\n",
    "    * whether to open a file for reading from the file, for writing to the file or both. \n",
    "* Mode **`'r'`** opens the file for *reading*\n",
    "* *Reading* modes raise a `FileNotFoundError` if the file does not exist\n",
    "* Iterating through a file object, reads one line at a time from the file and returns it as a string\n",
    "* By convention, the **`.txt` file extension** indicates a plain text file"
   ]
  },
  {
   "cell_type": "markdown",
   "metadata": {
    "slideshow": {
     "slide_type": "subslide"
    }
   },
   "source": [
    "### 3.1. `readlines()` Method\n",
    "\n",
    "* File object’s **`readlines`** method also can be used to read an *entire* text file\n",
    "* Returns each line as a string in a list of strings"
   ]
  },
  {
   "cell_type": "code",
   "execution_count": null,
   "metadata": {},
   "outputs": [],
   "source": [
    "with open('res/hp1.txt', mode='r') as hp1:\n",
    "    lines = hp1.readlines()"
   ]
  },
  {
   "cell_type": "code",
   "execution_count": null,
   "metadata": {},
   "outputs": [],
   "source": [
    "#let's look at the first 10 items in the list, lines, containing a list of string lines\n",
    "lines [:10]"
   ]
  },
  {
   "cell_type": "markdown",
   "metadata": {
    "slideshow": {
     "slide_type": "subslide"
    }
   },
   "source": [
    "* For small files, this works well, but iterating over the lines in a file object, as shown above, can be more efficient\n",
    "    * Enables your program to process each text line as it’s read, rather than waiting to load the entire file"
   ]
  },
  {
   "cell_type": "markdown",
   "metadata": {
    "slideshow": {
     "slide_type": "subslide"
    }
   },
   "source": [
    "### 3.2. `read() Method\n",
    "    * For a text file, returns a string containing the number of characters specified by the method’s integer argument\n",
    "    * For a binary file, returns the specified number of bytes\n",
    "    * If no argument is specified, the method returns the entire contents of the file"
   ]
  },
  {
   "cell_type": "code",
   "execution_count": 61,
   "metadata": {
    "slideshow": {
     "slide_type": "-"
    }
   },
   "outputs": [],
   "source": [
    "with open('res/hp1.txt', mode='r') as hp1:\n",
    "    book = hp1.read(5) #reads the first 5 characters"
   ]
  },
  {
   "cell_type": "code",
   "execution_count": 62,
   "metadata": {},
   "outputs": [
    {
     "data": {
      "text/plain": [
       "'Harry'"
      ]
     },
     "execution_count": 62,
     "metadata": {},
     "output_type": "execute_result"
    }
   ],
   "source": [
    "book"
   ]
  },
  {
   "cell_type": "markdown",
   "metadata": {
    "slideshow": {
     "slide_type": "skip"
    }
   },
   "source": [
    "<a id=\"4\"></a>"
   ]
  },
  {
   "cell_type": "markdown",
   "metadata": {
    "slideshow": {
     "slide_type": "slide"
    }
   },
   "source": [
    "## 4. Writing to a Text File\n",
    "* Mode `'w'` opens the file for *writing*, creating the file if it does not exist\n",
    "* file object’s **`write` method** writes one record at a time to the file\n",
    "* If you do not specify a path to the file, Python creates it in the current folder"
   ]
  },
  {
   "cell_type": "code",
   "execution_count": null,
   "metadata": {
    "slideshow": {
     "slide_type": "-"
    }
   },
   "outputs": [],
   "source": [
    "with open(\"res/grade_book.txt\", \"w\") as fgrade:\n",
    "    fgrade.write(\"Harry 85 93 90\")\n",
    "    fgrade.write(\"Hermione 95 100 100\")\n",
    "    fgrade.write(\"Ron 86 89 91\")"
   ]
  },
  {
   "cell_type": "code",
   "execution_count": null,
   "metadata": {},
   "outputs": [],
   "source": [
    "# Windows Users: View file contents\n",
    "!more res\\grade_book.txt"
   ]
  },
  {
   "cell_type": "code",
   "execution_count": null,
   "metadata": {},
   "outputs": [],
   "source": [
    "# macOS/Linux Users: View file contents\n",
    "!cat res\\grade_book.txt"
   ]
  },
  {
   "cell_type": "markdown",
   "metadata": {
    "slideshow": {
     "slide_type": "subslide"
    }
   },
   "source": [
    "### 4.1. Escape Characters in Files\n",
    "* By default, the write() method adds the new line to the end of the previous line.\n",
    "* Use \"\\n\" to move the cursor to the beginning of the next line after writing to the file."
   ]
  },
  {
   "cell_type": "code",
   "execution_count": 65,
   "metadata": {},
   "outputs": [],
   "source": [
    "with open(\"res/grade_book.txt\", \"w\") as fgrade:\n",
    "    fgrade.write(\"Harry 85 93 90\\n\")\n",
    "    fgrade.write(\"Hermione 95 100 100\\n\")\n",
    "    fgrade.write(\"Ron 86 89 91\\n\")"
   ]
  },
  {
   "cell_type": "code",
   "execution_count": 66,
   "metadata": {},
   "outputs": [
    {
     "name": "stdout",
     "output_type": "stream",
     "text": [
      "Harry 85 93 90\n",
      "Hermione 95 100 100\n",
      "Ron 86 89 91\n"
     ]
    }
   ],
   "source": [
    "!more res\\grade_book.txt"
   ]
  },
  {
   "cell_type": "markdown",
   "metadata": {
    "slideshow": {
     "slide_type": "subslide"
    }
   },
   "source": [
    "### Be careful\n",
    "* Opening a file for writing (mode = \"w\") **deletes** all the existing data in the file\n",
    "* If you want to keep the current content and add new content to the end of the file, use the append mode, **\"a\"**"
   ]
  },
  {
   "cell_type": "code",
   "execution_count": 67,
   "metadata": {},
   "outputs": [],
   "source": [
    "my_str = \"Ginny 75 95 90\"\n",
    "\n",
    "with open(\"res/grade_book.txt\", \"a\") as fgrade:\n",
    "    fgrade.write(my_str + \"\\n\")"
   ]
  },
  {
   "cell_type": "code",
   "execution_count": null,
   "metadata": {},
   "outputs": [],
   "source": [
    "!more res\\grade_book.txt"
   ]
  },
  {
   "cell_type": "markdown",
   "metadata": {
    "slideshow": {
     "slide_type": "subslide"
    }
   },
   "source": [
    "### 4.2. `writelines()` Method\n",
    "* Receives a list of strings and writes its contents to a file"
   ]
  },
  {
   "cell_type": "code",
   "execution_count": 68,
   "metadata": {},
   "outputs": [],
   "source": [
    "student_list = [\"Neville 70 64 63\", \"\\n\", \"Luna 79 85 91\"]\n",
    "\n",
    "with open(\"res/grade_book.txt\", \"a\") as fgrade:\n",
    "    fgrade.writelines(student_list)"
   ]
  },
  {
   "cell_type": "code",
   "execution_count": 69,
   "metadata": {},
   "outputs": [
    {
     "name": "stdout",
     "output_type": "stream",
     "text": [
      "Harry 85 93 90\n",
      "Hermione 95 100 100\n",
      "Ron 86 89 91\n",
      "Ginny 75 95 90\n",
      "Neville 70 64 63\n",
      "Luna 79 85 91\n"
     ]
    }
   ],
   "source": [
    "!more res\\grade_book.txt"
   ]
  },
  {
   "cell_type": "markdown",
   "metadata": {
    "slideshow": {
     "slide_type": "skip"
    }
   },
   "source": [
    "<a id=\"5\"></a>"
   ]
  },
  {
   "cell_type": "markdown",
   "metadata": {
    "slideshow": {
     "slide_type": "slide"
    }
   },
   "source": [
    "  \n",
    "## 5. Tokenizing Lines of a Text File\n",
    "* Can tokenize lines using the **split()** method as we are reading lines from a file"
   ]
  },
  {
   "cell_type": "code",
   "execution_count": 1,
   "metadata": {},
   "outputs": [
    {
     "name": "stdout",
     "output_type": "stream",
     "text": [
      "['Harry', '85', '93', '90']\n",
      "['Hermione', '95', '100', '100']\n",
      "['Ron', '86', '89', '91']\n",
      "['Ginny', '75', '95', '90']\n",
      "['Neville', '70', '64', '63']\n",
      "['Luna', '79', '85', '91']\n"
     ]
    }
   ],
   "source": [
    "with open('res/grade_book.txt', mode='r') as grades:\n",
    "    for line in grades:\n",
    "        print(line.split())"
   ]
  },
  {
   "cell_type": "code",
   "execution_count": 3,
   "metadata": {
    "slideshow": {
     "slide_type": "subslide"
    }
   },
   "outputs": [
    {
     "name": "stdout",
     "output_type": "stream",
     "text": [
      "Average for Harry is 89.33333333333333\n",
      "Average for Hermione is 98.33333333333333\n",
      "Average for Ron is 88.66666666666667\n",
      "Average for Ginny is 86.66666666666667\n",
      "Average for Neville is 65.66666666666667\n",
      "Average for Luna is 85.0\n"
     ]
    }
   ],
   "source": [
    "with open('res/grade_book.txt', mode='r') as grades:\n",
    "    for line in grades:\n",
    "        student_name, potion1, potion2, potion3 = line.split()\n",
    "        student_ave = (int(potion1) + int(potion2) + int(potion3))/3\n",
    "        print(\"Average for\", student_name, \"is\", student_ave)"
   ]
  },
  {
   "cell_type": "markdown",
   "metadata": {
    "slideshow": {
     "slide_type": "fragment"
    }
   },
   "source": [
    "* For each line in the file, string method `split` returns tokens in the line as a list of strings\n",
    "    * We unpack into the variables *student_name*, *potion1*, *potion2*, and *potion3*"
   ]
  }
 ],
 "metadata": {
  "celltoolbar": "Slideshow",
  "kernelspec": {
   "display_name": "Python 3",
   "language": "python",
   "name": "python3"
  },
  "language_info": {
   "codemirror_mode": {
    "name": "ipython",
    "version": 3
   },
   "file_extension": ".py",
   "mimetype": "text/x-python",
   "name": "python",
   "nbconvert_exporter": "python",
   "pygments_lexer": "ipython3",
   "version": "3.6.5"
  }
 },
 "nbformat": 4,
 "nbformat_minor": 2
}

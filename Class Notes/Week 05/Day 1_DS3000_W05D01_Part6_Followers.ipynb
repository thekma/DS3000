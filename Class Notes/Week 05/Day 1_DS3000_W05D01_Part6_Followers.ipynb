{
 "cells": [
  {
   "cell_type": "markdown",
   "metadata": {
    "slideshow": {
     "slide_type": "slide"
    }
   },
   "source": [
    "<center> <img src=\"res/ds3000.png\"> </center>"
   ]
  },
  {
   "cell_type": "markdown",
   "metadata": {},
   "source": [
    "<center> <h1> Week 5 - Day 1 </h1> </center>"
   ]
  },
  {
   "cell_type": "markdown",
   "metadata": {},
   "source": [
    "<center> <h2> Part 6: Determining an Account's Followers </h2></center>"
   ]
  },
  {
   "cell_type": "markdown",
   "metadata": {
    "slideshow": {
     "slide_type": "subslide"
    }
   },
   "source": [
    "<center><img src = \"res/followers.png\" /></center>"
   ]
  },
  {
   "cell_type": "markdown",
   "metadata": {
    "slideshow": {
     "slide_type": "skip"
    }
   },
   "source": [
    "## Outline\n",
    "1. <a href='#1'>Determining an Account’s Followers</a>\n",
    "2. <a href='#2'>Getting Follower IDs Rather Than Followers</a>\n",
    "3. <a href='#3'>Looking Up Users by IDs</a>"
   ]
  },
  {
   "cell_type": "markdown",
   "metadata": {
    "slideshow": {
     "slide_type": "skip"
    }
   },
   "source": [
    "<a id=\"1\"></a>"
   ]
  },
  {
   "cell_type": "markdown",
   "metadata": {
    "slideshow": {
     "slide_type": "slide"
    }
   },
   "source": [
    "## 1. Determining an Account’s Followers  \n",
    "* Via the `API` object’s **`followers` method**\n",
    "* Calls Twitter’s [`followers/list` method](https://developer.twitter.com/en/docs/accounts-and-users/follow-search-get-users/api-reference/get-followers-list.html)\n",
    "* Returns groups of 20 by default\n",
    "* Can request up to 200 at a time \n",
    "* For demonstration purposes, we’ll grab 10 of Northeastern’s followers. "
   ]
  },
  {
   "cell_type": "code",
   "execution_count": 4,
   "metadata": {},
   "outputs": [],
   "source": [
    "import tweepy\n",
    "import TwitterCredentials as keys\n",
    "\n",
    "auth = tweepy.OAuthHandler(keys.consumer_API_key, keys.consumer_API_secret_key)\n",
    "auth.set_access_token(keys.access_token, keys.access_token_secret)\n",
    "api = tweepy.API(auth, wait_on_rate_limit=True, wait_on_rate_limit_notify=True)"
   ]
  },
  {
   "cell_type": "code",
   "execution_count": 5,
   "metadata": {},
   "outputs": [],
   "source": [
    "followers = []  # for storing followers' User objects"
   ]
  },
  {
   "cell_type": "code",
   "execution_count": 6,
   "metadata": {},
   "outputs": [],
   "source": [
    "cursor = tweepy.Cursor(api.followers, screen_name='Northeastern', tweet_mode='extended')"
   ]
  },
  {
   "cell_type": "code",
   "execution_count": 7,
   "metadata": {
    "slideshow": {
     "slide_type": "subslide"
    }
   },
   "outputs": [],
   "source": [
    "for account in cursor.items(10):  # request only 10 results\n",
    "    followers.append(account.screen_name)"
   ]
  },
  {
   "cell_type": "code",
   "execution_count": 8,
   "metadata": {
    "slideshow": {
     "slide_type": "fragment"
    }
   },
   "outputs": [
    {
     "data": {
      "text/plain": [
       "['mayyajohnsonn',\n",
       " 'AmyFuller',\n",
       " 'jackhwhitten',\n",
       " 'dentremap',\n",
       " 'malexeyev',\n",
       " 'SurbhiTanwar22',\n",
       " 'sara_kisija',\n",
       " 'bobertoyin',\n",
       " 'navelwriter',\n",
       " 'bryson_conway']"
      ]
     },
     "execution_count": 8,
     "metadata": {},
     "output_type": "execute_result"
    }
   ],
   "source": [
    "followers"
   ]
  },
  {
   "cell_type": "markdown",
   "metadata": {
    "slideshow": {
     "slide_type": "subslide"
    }
   },
   "source": [
    "### 1.1. Automatic Paging\n",
    "* To get up to 200 followers at a time, create the `Cursor` with the `count` keyword argument\n",
    ">```python\n",
    "cursor = tweepy.Cursor(api.followers, screen_name='Northeastern', tweet_mode='extended', count=200)\n",
    "```\n",
    "* **`items`** with no argument attempts to get **all** followers\n",
    "    * Could **take significant time** due to rate limits\n",
    "    * Twitter’s **`followers/list`** returns max of 200 followers and allows only 15 calls every 15 minutes\n",
    "        * 3000 followers every 15 minutes \n",
    "        * Northeastern has 41k+ followers"
   ]
  },
  {
   "cell_type": "markdown",
   "metadata": {
    "slideshow": {
     "slide_type": "skip"
    }
   },
   "source": [
    "<a id=\"2\"></a>"
   ]
  },
  {
   "cell_type": "markdown",
   "metadata": {
    "slideshow": {
     "slide_type": "slide"
    }
   },
   "source": [
    "## 2. Getting Follower IDs Rather Than Followers\n",
    "* Can get **many more Twitter IDs** by calling **`followers_ids` method**\n",
    "* Calls Twitter’s [`followers/ids` method](https://developer.twitter.com/en/docs/accounts-and-users/follow-search-get-users/api-reference/get-followers-ids)\n",
    "* Returns up to **5000 ID numbers at a time**\n",
    "* Invoke up to 15 times every 15 minutes for **75,000 account IDs per rate-limit interval**\n",
    "* Use the **api.followers_ids** method\n",
    "* Returns a list of IDs"
   ]
  },
  {
   "cell_type": "code",
   "execution_count": 9,
   "metadata": {},
   "outputs": [],
   "source": [
    "cursor = tweepy.Cursor(api.followers_ids, screen_name='Northeastern', tweet_mode='extended', count=200)"
   ]
  },
  {
   "cell_type": "code",
   "execution_count": 10,
   "metadata": {},
   "outputs": [],
   "source": [
    "follower_ids = []"
   ]
  },
  {
   "cell_type": "code",
   "execution_count": 11,
   "metadata": {
    "slideshow": {
     "slide_type": "subslide"
    }
   },
   "outputs": [],
   "source": [
    "for follower in cursor.items(10):  # request only 10 results\n",
    "    follower_ids.append(follower)"
   ]
  },
  {
   "cell_type": "code",
   "execution_count": 12,
   "metadata": {},
   "outputs": [
    {
     "data": {
      "text/plain": [
       "[927258300931907584,\n",
       " 935994107138211840,\n",
       " 1426930416,\n",
       " 3278809495,\n",
       " 591241489,\n",
       " 759544014756610048,\n",
       " 2783300609,\n",
       " 865726115738001412,\n",
       " 792017437088591872,\n",
       " 913860460935569408]"
      ]
     },
     "execution_count": 12,
     "metadata": {},
     "output_type": "execute_result"
    }
   ],
   "source": [
    "follower_ids"
   ]
  },
  {
   "cell_type": "markdown",
   "metadata": {
    "slideshow": {
     "slide_type": "skip"
    }
   },
   "source": [
    "<a id=\"3\"></a>"
   ]
  },
  {
   "cell_type": "markdown",
   "metadata": {
    "slideshow": {
     "slide_type": "subslide"
    }
   },
   "source": [
    "## 3. Looking Up Users by IDs\n",
    "* Using follower IDs is particularly useful when combined with the API object’s **`lookup_users` method**\n",
    "* **lookup_users** calls Twitter’s [`users/lookup` method](https://developer.twitter.com/en/docs/accounts-and-users/follow-search-get-users/api-reference/get-friends-list) \n",
    "    * Can return up to **100 `User` objects** at a time and can be called up to 300 times every 15 minutes \n",
    "    * Using this combination, could get up to **30,000 `User` objects per rate-limit interval**\n",
    "    * Expects a list of user IDs as an argument\n",
    "    * Returns a list of User objects"
   ]
  },
  {
   "cell_type": "code",
   "execution_count": 13,
   "metadata": {
    "slideshow": {
     "slide_type": "subslide"
    }
   },
   "outputs": [],
   "source": [
    "followers_object = api.lookup_users(user_ids=follower_ids)"
   ]
  },
  {
   "cell_type": "code",
   "execution_count": 14,
   "metadata": {
    "collapsed": true
   },
   "outputs": [
    {
     "data": {
      "text/plain": [
       "[User(_api=<tweepy.api.API object at 0x05641DD0>, _json={'id': 927258300931907584, 'id_str': '927258300931907584', 'name': 'maya johnson', 'screen_name': 'mayyajohnsonn', 'location': 'California, USA', 'description': 'tohs volleyball', 'url': None, 'entities': {'description': {'urls': []}}, 'protected': False, 'followers_count': 64, 'friends_count': 129, 'listed_count': 0, 'created_at': 'Sun Nov 05 19:36:21 +0000 2017', 'favourites_count': 44, 'utc_offset': None, 'time_zone': None, 'geo_enabled': True, 'verified': False, 'statuses_count': 16, 'lang': None, 'status': {'created_at': 'Tue Sep 10 00:34:09 +0000 2019', 'id': 1171220280913481728, 'id_str': '1171220280913481728', 'text': 'RT @jeremyzucker: forever tired', 'truncated': False, 'entities': {'hashtags': [], 'symbols': [], 'user_mentions': [{'screen_name': 'jeremyzucker', 'name': 'jerm', 'id': 451119120, 'id_str': '451119120', 'indices': [3, 16]}], 'urls': []}, 'source': '<a href=\"http://twitter.com/download/iphone\" rel=\"nofollow\">Twitter for iPhone</a>', 'in_reply_to_status_id': None, 'in_reply_to_status_id_str': None, 'in_reply_to_user_id': None, 'in_reply_to_user_id_str': None, 'in_reply_to_screen_name': None, 'geo': None, 'coordinates': None, 'place': None, 'contributors': None, 'retweeted_status': {'created_at': 'Mon Sep 09 14:45:36 +0000 2019', 'id': 1171072166839717888, 'id_str': '1171072166839717888', 'text': 'forever tired', 'truncated': False, 'entities': {'hashtags': [], 'symbols': [], 'user_mentions': [], 'urls': []}, 'source': '<a href=\"http://twitter.com/download/iphone\" rel=\"nofollow\">Twitter for iPhone</a>', 'in_reply_to_status_id': None, 'in_reply_to_status_id_str': None, 'in_reply_to_user_id': None, 'in_reply_to_user_id_str': None, 'in_reply_to_screen_name': None, 'geo': None, 'coordinates': None, 'place': None, 'contributors': None, 'is_quote_status': False, 'retweet_count': 6520, 'favorite_count': 11425, 'favorited': False, 'retweeted': False, 'lang': 'en'}, 'is_quote_status': False, 'retweet_count': 6520, 'favorite_count': 0, 'favorited': False, 'retweeted': False, 'lang': 'en'}, 'contributors_enabled': False, 'is_translator': False, 'is_translation_enabled': False, 'profile_background_color': 'F5F8FA', 'profile_background_image_url': None, 'profile_background_image_url_https': None, 'profile_background_tile': False, 'profile_image_url': 'http://pbs.twimg.com/profile_images/1031763250092756992/OET-waWy_normal.jpg', 'profile_image_url_https': 'https://pbs.twimg.com/profile_images/1031763250092756992/OET-waWy_normal.jpg', 'profile_banner_url': 'https://pbs.twimg.com/profile_banners/927258300931907584/1534826596', 'profile_link_color': '1DA1F2', 'profile_sidebar_border_color': 'C0DEED', 'profile_sidebar_fill_color': 'DDEEF6', 'profile_text_color': '333333', 'profile_use_background_image': True, 'has_extended_profile': False, 'default_profile': True, 'default_profile_image': False, 'following': False, 'follow_request_sent': False, 'notifications': False, 'translator_type': 'none'}, id=927258300931907584, id_str='927258300931907584', name='maya johnson', screen_name='mayyajohnsonn', location='California, USA', description='tohs volleyball', url=None, entities={'description': {'urls': []}}, protected=False, followers_count=64, friends_count=129, listed_count=0, created_at=datetime.datetime(2017, 11, 5, 19, 36, 21), favourites_count=44, utc_offset=None, time_zone=None, geo_enabled=True, verified=False, statuses_count=16, lang=None, status=Status(_api=<tweepy.api.API object at 0x05641DD0>, _json={'created_at': 'Tue Sep 10 00:34:09 +0000 2019', 'id': 1171220280913481728, 'id_str': '1171220280913481728', 'text': 'RT @jeremyzucker: forever tired', 'truncated': False, 'entities': {'hashtags': [], 'symbols': [], 'user_mentions': [{'screen_name': 'jeremyzucker', 'name': 'jerm', 'id': 451119120, 'id_str': '451119120', 'indices': [3, 16]}], 'urls': []}, 'source': '<a href=\"http://twitter.com/download/iphone\" rel=\"nofollow\">Twitter for iPhone</a>', 'in_reply_to_status_id': None, 'in_reply_to_status_id_str': None, 'in_reply_to_user_id': None, 'in_reply_to_user_id_str': None, 'in_reply_to_screen_name': None, 'geo': None, 'coordinates': None, 'place': None, 'contributors': None, 'retweeted_status': {'created_at': 'Mon Sep 09 14:45:36 +0000 2019', 'id': 1171072166839717888, 'id_str': '1171072166839717888', 'text': 'forever tired', 'truncated': False, 'entities': {'hashtags': [], 'symbols': [], 'user_mentions': [], 'urls': []}, 'source': '<a href=\"http://twitter.com/download/iphone\" rel=\"nofollow\">Twitter for iPhone</a>', 'in_reply_to_status_id': None, 'in_reply_to_status_id_str': None, 'in_reply_to_user_id': None, 'in_reply_to_user_id_str': None, 'in_reply_to_screen_name': None, 'geo': None, 'coordinates': None, 'place': None, 'contributors': None, 'is_quote_status': False, 'retweet_count': 6520, 'favorite_count': 11425, 'favorited': False, 'retweeted': False, 'lang': 'en'}, 'is_quote_status': False, 'retweet_count': 6520, 'favorite_count': 0, 'favorited': False, 'retweeted': False, 'lang': 'en'}, created_at=datetime.datetime(2019, 9, 10, 0, 34, 9), id=1171220280913481728, id_str='1171220280913481728', text='RT @jeremyzucker: forever tired', truncated=False, entities={'hashtags': [], 'symbols': [], 'user_mentions': [{'screen_name': 'jeremyzucker', 'name': 'jerm', 'id': 451119120, 'id_str': '451119120', 'indices': [3, 16]}], 'urls': []}, source='Twitter for iPhone', source_url='http://twitter.com/download/iphone', in_reply_to_status_id=None, in_reply_to_status_id_str=None, in_reply_to_user_id=None, in_reply_to_user_id_str=None, in_reply_to_screen_name=None, geo=None, coordinates=None, place=None, contributors=None, retweeted_status=Status(_api=<tweepy.api.API object at 0x05641DD0>, _json={'created_at': 'Mon Sep 09 14:45:36 +0000 2019', 'id': 1171072166839717888, 'id_str': '1171072166839717888', 'text': 'forever tired', 'truncated': False, 'entities': {'hashtags': [], 'symbols': [], 'user_mentions': [], 'urls': []}, 'source': '<a href=\"http://twitter.com/download/iphone\" rel=\"nofollow\">Twitter for iPhone</a>', 'in_reply_to_status_id': None, 'in_reply_to_status_id_str': None, 'in_reply_to_user_id': None, 'in_reply_to_user_id_str': None, 'in_reply_to_screen_name': None, 'geo': None, 'coordinates': None, 'place': None, 'contributors': None, 'is_quote_status': False, 'retweet_count': 6520, 'favorite_count': 11425, 'favorited': False, 'retweeted': False, 'lang': 'en'}, created_at=datetime.datetime(2019, 9, 9, 14, 45, 36), id=1171072166839717888, id_str='1171072166839717888', text='forever tired', truncated=False, entities={'hashtags': [], 'symbols': [], 'user_mentions': [], 'urls': []}, source='Twitter for iPhone', source_url='http://twitter.com/download/iphone', in_reply_to_status_id=None, in_reply_to_status_id_str=None, in_reply_to_user_id=None, in_reply_to_user_id_str=None, in_reply_to_screen_name=None, geo=None, coordinates=None, place=None, contributors=None, is_quote_status=False, retweet_count=6520, favorite_count=11425, favorited=False, retweeted=False, lang='en'), is_quote_status=False, retweet_count=6520, favorite_count=0, favorited=False, retweeted=False, lang='en'), contributors_enabled=False, is_translator=False, is_translation_enabled=False, profile_background_color='F5F8FA', profile_background_image_url=None, profile_background_image_url_https=None, profile_background_tile=False, profile_image_url='http://pbs.twimg.com/profile_images/1031763250092756992/OET-waWy_normal.jpg', profile_image_url_https='https://pbs.twimg.com/profile_images/1031763250092756992/OET-waWy_normal.jpg', profile_banner_url='https://pbs.twimg.com/profile_banners/927258300931907584/1534826596', profile_link_color='1DA1F2', profile_sidebar_border_color='C0DEED', profile_sidebar_fill_color='DDEEF6', profile_text_color='333333', profile_use_background_image=True, has_extended_profile=False, default_profile=True, default_profile_image=False, following=False, follow_request_sent=False, notifications=False, translator_type='none'),\n",
       " User(_api=<tweepy.api.API object at 0x05641DD0>, _json={'id': 935994107138211840, 'id_str': '935994107138211840', 'name': 'Amy Fuller', 'screen_name': 'AmyFuller', 'location': 'New York, USA', 'description': 'Rooted in ethics, engaged in brands, believer in books, yoga, and the serial comma. Creativity is the ultimate advantage. Chief Marketing Officer @Accenture', 'url': 'https://t.co/NW2TnlmJqy', 'entities': {'url': {'urls': [{'url': 'https://t.co/NW2TnlmJqy', 'expanded_url': 'http://www.accenture.com', 'display_url': 'accenture.com', 'indices': [0, 23]}]}, 'description': {'urls': []}}, 'protected': False, 'followers_count': 2476, 'friends_count': 363, 'listed_count': 20, 'created_at': 'Wed Nov 29 22:09:19 +0000 2017', 'favourites_count': 493, 'utc_offset': None, 'time_zone': None, 'geo_enabled': False, 'verified': True, 'statuses_count': 347, 'lang': None, 'status': {'created_at': 'Thu Sep 26 17:05:16 +0000 2019', 'id': 1177267908126396417, 'id_str': '1177267908126396417', 'text': 'The printing that launched a global movement has now inspired a font. “Move over, Helvetica; enter: Greta Grotesk.” https://t.co/D9lznWetMa', 'truncated': False, 'entities': {'hashtags': [], 'symbols': [], 'user_mentions': [], 'urls': [{'url': 'https://t.co/D9lznWetMa', 'expanded_url': 'https://accntu.re/2nAso1h', 'display_url': 'accntu.re/2nAso1h', 'indices': [116, 139]}]}, 'source': '<a href=\"https://mobile.twitter.com\" rel=\"nofollow\">Twitter Web App</a>', 'in_reply_to_status_id': None, 'in_reply_to_status_id_str': None, 'in_reply_to_user_id': None, 'in_reply_to_user_id_str': None, 'in_reply_to_screen_name': None, 'geo': None, 'coordinates': None, 'place': None, 'contributors': None, 'is_quote_status': False, 'retweet_count': 4, 'favorite_count': 15, 'favorited': False, 'retweeted': False, 'possibly_sensitive': False, 'lang': 'en'}, 'contributors_enabled': False, 'is_translator': False, 'is_translation_enabled': False, 'profile_background_color': 'F5F8FA', 'profile_background_image_url': None, 'profile_background_image_url_https': None, 'profile_background_tile': False, 'profile_image_url': 'http://pbs.twimg.com/profile_images/1016321879525609475/j73x-jSv_normal.jpg', 'profile_image_url_https': 'https://pbs.twimg.com/profile_images/1016321879525609475/j73x-jSv_normal.jpg', 'profile_banner_url': 'https://pbs.twimg.com/profile_banners/935994107138211840/1536874676', 'profile_link_color': '1DA1F2', 'profile_sidebar_border_color': 'C0DEED', 'profile_sidebar_fill_color': 'DDEEF6', 'profile_text_color': '333333', 'profile_use_background_image': True, 'has_extended_profile': False, 'default_profile': True, 'default_profile_image': False, 'following': False, 'follow_request_sent': False, 'notifications': False, 'translator_type': 'none'}, id=935994107138211840, id_str='935994107138211840', name='Amy Fuller', screen_name='AmyFuller', location='New York, USA', description='Rooted in ethics, engaged in brands, believer in books, yoga, and the serial comma. Creativity is the ultimate advantage. Chief Marketing Officer @Accenture', url='https://t.co/NW2TnlmJqy', entities={'url': {'urls': [{'url': 'https://t.co/NW2TnlmJqy', 'expanded_url': 'http://www.accenture.com', 'display_url': 'accenture.com', 'indices': [0, 23]}]}, 'description': {'urls': []}}, protected=False, followers_count=2476, friends_count=363, listed_count=20, created_at=datetime.datetime(2017, 11, 29, 22, 9, 19), favourites_count=493, utc_offset=None, time_zone=None, geo_enabled=False, verified=True, statuses_count=347, lang=None, status=Status(_api=<tweepy.api.API object at 0x05641DD0>, _json={'created_at': 'Thu Sep 26 17:05:16 +0000 2019', 'id': 1177267908126396417, 'id_str': '1177267908126396417', 'text': 'The printing that launched a global movement has now inspired a font. “Move over, Helvetica; enter: Greta Grotesk.” https://t.co/D9lznWetMa', 'truncated': False, 'entities': {'hashtags': [], 'symbols': [], 'user_mentions': [], 'urls': [{'url': 'https://t.co/D9lznWetMa', 'expanded_url': 'https://accntu.re/2nAso1h', 'display_url': 'accntu.re/2nAso1h', 'indices': [116, 139]}]}, 'source': '<a href=\"https://mobile.twitter.com\" rel=\"nofollow\">Twitter Web App</a>', 'in_reply_to_status_id': None, 'in_reply_to_status_id_str': None, 'in_reply_to_user_id': None, 'in_reply_to_user_id_str': None, 'in_reply_to_screen_name': None, 'geo': None, 'coordinates': None, 'place': None, 'contributors': None, 'is_quote_status': False, 'retweet_count': 4, 'favorite_count': 15, 'favorited': False, 'retweeted': False, 'possibly_sensitive': False, 'lang': 'en'}, created_at=datetime.datetime(2019, 9, 26, 17, 5, 16), id=1177267908126396417, id_str='1177267908126396417', text='The printing that launched a global movement has now inspired a font. “Move over, Helvetica; enter: Greta Grotesk.” https://t.co/D9lznWetMa', truncated=False, entities={'hashtags': [], 'symbols': [], 'user_mentions': [], 'urls': [{'url': 'https://t.co/D9lznWetMa', 'expanded_url': 'https://accntu.re/2nAso1h', 'display_url': 'accntu.re/2nAso1h', 'indices': [116, 139]}]}, source='Twitter Web App', source_url='https://mobile.twitter.com', in_reply_to_status_id=None, in_reply_to_status_id_str=None, in_reply_to_user_id=None, in_reply_to_user_id_str=None, in_reply_to_screen_name=None, geo=None, coordinates=None, place=None, contributors=None, is_quote_status=False, retweet_count=4, favorite_count=15, favorited=False, retweeted=False, possibly_sensitive=False, lang='en'), contributors_enabled=False, is_translator=False, is_translation_enabled=False, profile_background_color='F5F8FA', profile_background_image_url=None, profile_background_image_url_https=None, profile_background_tile=False, profile_image_url='http://pbs.twimg.com/profile_images/1016321879525609475/j73x-jSv_normal.jpg', profile_image_url_https='https://pbs.twimg.com/profile_images/1016321879525609475/j73x-jSv_normal.jpg', profile_banner_url='https://pbs.twimg.com/profile_banners/935994107138211840/1536874676', profile_link_color='1DA1F2', profile_sidebar_border_color='C0DEED', profile_sidebar_fill_color='DDEEF6', profile_text_color='333333', profile_use_background_image=True, has_extended_profile=False, default_profile=True, default_profile_image=False, following=False, follow_request_sent=False, notifications=False, translator_type='none'),\n",
       " User(_api=<tweepy.api.API object at 0x05641DD0>, _json={'id': 1426930416, 'id_str': '1426930416', 'name': 'Jack Whitten', 'screen_name': 'jackhwhitten', 'location': 'Bellevue, WA', 'description': '', 'url': None, 'entities': {'description': {'urls': []}}, 'protected': False, 'followers_count': 91, 'friends_count': 283, 'listed_count': 3, 'created_at': 'Tue May 14 03:46:48 +0000 2013', 'favourites_count': 4313, 'utc_offset': None, 'time_zone': None, 'geo_enabled': True, 'verified': False, 'statuses_count': 619, 'lang': None, 'status': {'created_at': 'Sat Sep 28 21:09:01 +0000 2019', 'id': 1178054024853180416, 'id_str': '1178054024853180416', 'text': 'RT @funnymaths: (three logicians walk into a bar) \\n\\nbartender: do you all want beer?\\n\\nlogician 1: i don’t know \\n\\nlogician 2: i don’t know…', 'truncated': False, 'entities': {'hashtags': [], 'symbols': [], 'user_mentions': [{'screen_name': 'funnymaths', 'name': 'bad math jokes', 'id': 1128373437553106945, 'id_str': '1128373437553106945', 'indices': [3, 14]}], 'urls': []}, 'source': '<a href=\"http://twitter.com/download/iphone\" rel=\"nofollow\">Twitter for iPhone</a>', 'in_reply_to_status_id': None, 'in_reply_to_status_id_str': None, 'in_reply_to_user_id': None, 'in_reply_to_user_id_str': None, 'in_reply_to_screen_name': None, 'geo': None, 'coordinates': None, 'place': None, 'contributors': None, 'retweeted_status': {'created_at': 'Sat Sep 28 03:41:45 +0000 2019', 'id': 1177790470468128768, 'id_str': '1177790470468128768', 'text': '(three logicians walk into a bar) \\n\\nbartender: do you all want beer?\\n\\nlogician 1: i don’t know \\n\\nlogician 2: i don’… https://t.co/TUs58HnOHD', 'truncated': True, 'entities': {'hashtags': [], 'symbols': [], 'user_mentions': [], 'urls': [{'url': 'https://t.co/TUs58HnOHD', 'expanded_url': 'https://twitter.com/i/web/status/1177790470468128768', 'display_url': 'twitter.com/i/web/status/1…', 'indices': [117, 140]}]}, 'source': '<a href=\"http://twitter.com/download/iphone\" rel=\"nofollow\">Twitter for iPhone</a>', 'in_reply_to_status_id': None, 'in_reply_to_status_id_str': None, 'in_reply_to_user_id': None, 'in_reply_to_user_id_str': None, 'in_reply_to_screen_name': None, 'geo': None, 'coordinates': None, 'place': None, 'contributors': None, 'is_quote_status': False, 'retweet_count': 811, 'favorite_count': 5707, 'favorited': False, 'retweeted': False, 'lang': 'en'}, 'is_quote_status': False, 'retweet_count': 811, 'favorite_count': 0, 'favorited': False, 'retweeted': False, 'lang': 'en'}, 'contributors_enabled': False, 'is_translator': False, 'is_translation_enabled': False, 'profile_background_color': 'C0DEED', 'profile_background_image_url': 'http://abs.twimg.com/images/themes/theme1/bg.png', 'profile_background_image_url_https': 'https://abs.twimg.com/images/themes/theme1/bg.png', 'profile_background_tile': False, 'profile_image_url': 'http://pbs.twimg.com/profile_images/704085507186143232/FIGRhOeg_normal.jpg', 'profile_image_url_https': 'https://pbs.twimg.com/profile_images/704085507186143232/FIGRhOeg_normal.jpg', 'profile_banner_url': 'https://pbs.twimg.com/profile_banners/1426930416/1460344357', 'profile_link_color': '62D615', 'profile_sidebar_border_color': 'C0DEED', 'profile_sidebar_fill_color': 'DDEEF6', 'profile_text_color': '333333', 'profile_use_background_image': True, 'has_extended_profile': False, 'default_profile': False, 'default_profile_image': False, 'following': False, 'follow_request_sent': False, 'notifications': False, 'translator_type': 'none'}, id=1426930416, id_str='1426930416', name='Jack Whitten', screen_name='jackhwhitten', location='Bellevue, WA', description='', url=None, entities={'description': {'urls': []}}, protected=False, followers_count=91, friends_count=283, listed_count=3, created_at=datetime.datetime(2013, 5, 14, 3, 46, 48), favourites_count=4313, utc_offset=None, time_zone=None, geo_enabled=True, verified=False, statuses_count=619, lang=None, status=Status(_api=<tweepy.api.API object at 0x05641DD0>, _json={'created_at': 'Sat Sep 28 21:09:01 +0000 2019', 'id': 1178054024853180416, 'id_str': '1178054024853180416', 'text': 'RT @funnymaths: (three logicians walk into a bar) \\n\\nbartender: do you all want beer?\\n\\nlogician 1: i don’t know \\n\\nlogician 2: i don’t know…', 'truncated': False, 'entities': {'hashtags': [], 'symbols': [], 'user_mentions': [{'screen_name': 'funnymaths', 'name': 'bad math jokes', 'id': 1128373437553106945, 'id_str': '1128373437553106945', 'indices': [3, 14]}], 'urls': []}, 'source': '<a href=\"http://twitter.com/download/iphone\" rel=\"nofollow\">Twitter for iPhone</a>', 'in_reply_to_status_id': None, 'in_reply_to_status_id_str': None, 'in_reply_to_user_id': None, 'in_reply_to_user_id_str': None, 'in_reply_to_screen_name': None, 'geo': None, 'coordinates': None, 'place': None, 'contributors': None, 'retweeted_status': {'created_at': 'Sat Sep 28 03:41:45 +0000 2019', 'id': 1177790470468128768, 'id_str': '1177790470468128768', 'text': '(three logicians walk into a bar) \\n\\nbartender: do you all want beer?\\n\\nlogician 1: i don’t know \\n\\nlogician 2: i don’… https://t.co/TUs58HnOHD', 'truncated': True, 'entities': {'hashtags': [], 'symbols': [], 'user_mentions': [], 'urls': [{'url': 'https://t.co/TUs58HnOHD', 'expanded_url': 'https://twitter.com/i/web/status/1177790470468128768', 'display_url': 'twitter.com/i/web/status/1…', 'indices': [117, 140]}]}, 'source': '<a href=\"http://twitter.com/download/iphone\" rel=\"nofollow\">Twitter for iPhone</a>', 'in_reply_to_status_id': None, 'in_reply_to_status_id_str': None, 'in_reply_to_user_id': None, 'in_reply_to_user_id_str': None, 'in_reply_to_screen_name': None, 'geo': None, 'coordinates': None, 'place': None, 'contributors': None, 'is_quote_status': False, 'retweet_count': 811, 'favorite_count': 5707, 'favorited': False, 'retweeted': False, 'lang': 'en'}, 'is_quote_status': False, 'retweet_count': 811, 'favorite_count': 0, 'favorited': False, 'retweeted': False, 'lang': 'en'}, created_at=datetime.datetime(2019, 9, 28, 21, 9, 1), id=1178054024853180416, id_str='1178054024853180416', text='RT @funnymaths: (three logicians walk into a bar) \\n\\nbartender: do you all want beer?\\n\\nlogician 1: i don’t know \\n\\nlogician 2: i don’t know…', truncated=False, entities={'hashtags': [], 'symbols': [], 'user_mentions': [{'screen_name': 'funnymaths', 'name': 'bad math jokes', 'id': 1128373437553106945, 'id_str': '1128373437553106945', 'indices': [3, 14]}], 'urls': []}, source='Twitter for iPhone', source_url='http://twitter.com/download/iphone', in_reply_to_status_id=None, in_reply_to_status_id_str=None, in_reply_to_user_id=None, in_reply_to_user_id_str=None, in_reply_to_screen_name=None, geo=None, coordinates=None, place=None, contributors=None, retweeted_status=Status(_api=<tweepy.api.API object at 0x05641DD0>, _json={'created_at': 'Sat Sep 28 03:41:45 +0000 2019', 'id': 1177790470468128768, 'id_str': '1177790470468128768', 'text': '(three logicians walk into a bar) \\n\\nbartender: do you all want beer?\\n\\nlogician 1: i don’t know \\n\\nlogician 2: i don’… https://t.co/TUs58HnOHD', 'truncated': True, 'entities': {'hashtags': [], 'symbols': [], 'user_mentions': [], 'urls': [{'url': 'https://t.co/TUs58HnOHD', 'expanded_url': 'https://twitter.com/i/web/status/1177790470468128768', 'display_url': 'twitter.com/i/web/status/1…', 'indices': [117, 140]}]}, 'source': '<a href=\"http://twitter.com/download/iphone\" rel=\"nofollow\">Twitter for iPhone</a>', 'in_reply_to_status_id': None, 'in_reply_to_status_id_str': None, 'in_reply_to_user_id': None, 'in_reply_to_user_id_str': None, 'in_reply_to_screen_name': None, 'geo': None, 'coordinates': None, 'place': None, 'contributors': None, 'is_quote_status': False, 'retweet_count': 811, 'favorite_count': 5707, 'favorited': False, 'retweeted': False, 'lang': 'en'}, created_at=datetime.datetime(2019, 9, 28, 3, 41, 45), id=1177790470468128768, id_str='1177790470468128768', text='(three logicians walk into a bar) \\n\\nbartender: do you all want beer?\\n\\nlogician 1: i don’t know \\n\\nlogician 2: i don’… https://t.co/TUs58HnOHD', truncated=True, entities={'hashtags': [], 'symbols': [], 'user_mentions': [], 'urls': [{'url': 'https://t.co/TUs58HnOHD', 'expanded_url': 'https://twitter.com/i/web/status/1177790470468128768', 'display_url': 'twitter.com/i/web/status/1…', 'indices': [117, 140]}]}, source='Twitter for iPhone', source_url='http://twitter.com/download/iphone', in_reply_to_status_id=None, in_reply_to_status_id_str=None, in_reply_to_user_id=None, in_reply_to_user_id_str=None, in_reply_to_screen_name=None, geo=None, coordinates=None, place=None, contributors=None, is_quote_status=False, retweet_count=811, favorite_count=5707, favorited=False, retweeted=False, lang='en'), is_quote_status=False, retweet_count=811, favorite_count=0, favorited=False, retweeted=False, lang='en'), contributors_enabled=False, is_translator=False, is_translation_enabled=False, profile_background_color='C0DEED', profile_background_image_url='http://abs.twimg.com/images/themes/theme1/bg.png', profile_background_image_url_https='https://abs.twimg.com/images/themes/theme1/bg.png', profile_background_tile=False, profile_image_url='http://pbs.twimg.com/profile_images/704085507186143232/FIGRhOeg_normal.jpg', profile_image_url_https='https://pbs.twimg.com/profile_images/704085507186143232/FIGRhOeg_normal.jpg', profile_banner_url='https://pbs.twimg.com/profile_banners/1426930416/1460344357', profile_link_color='62D615', profile_sidebar_border_color='C0DEED', profile_sidebar_fill_color='DDEEF6', profile_text_color='333333', profile_use_background_image=True, has_extended_profile=False, default_profile=False, default_profile_image=False, following=False, follow_request_sent=False, notifications=False, translator_type='none'),\n",
       " User(_api=<tweepy.api.API object at 0x05641DD0>, _json={'id': 3278809495, 'id_str': '3278809495', 'name': \"Nicole d'Entremont\", 'screen_name': 'dentremap', 'location': 'Woods Hole, MA', 'description': 'Probably on a boat. Maybe sinking, but definitely submerged. \\n\\nDog mom, XRF whisperer @coastalgrp_whoi, and mud enthusiast @whoi. She/her', 'url': None, 'entities': {'description': {'urls': []}}, 'protected': False, 'followers_count': 43, 'friends_count': 136, 'listed_count': 0, 'created_at': 'Mon Jul 13 17:44:36 +0000 2015', 'favourites_count': 54, 'utc_offset': None, 'time_zone': None, 'geo_enabled': True, 'verified': False, 'statuses_count': 45, 'lang': None, 'status': {'created_at': 'Mon Sep 30 13:17:03 +0000 2019', 'id': 1178660025205760001, 'id_str': '1178660025205760001', 'text': 'RT @USGS: #HurricaneDorian may have spread water hyacinth, flathead catfish, other non-native #aquatic species to new places from coastal F…', 'truncated': False, 'entities': {'hashtags': [{'text': 'HurricaneDorian', 'indices': [10, 26]}, {'text': 'aquatic', 'indices': [94, 102]}], 'symbols': [], 'user_mentions': [{'screen_name': 'USGS', 'name': 'USGS', 'id': 14505838, 'id_str': '14505838', 'indices': [3, 8]}], 'urls': []}, 'source': '<a href=\"http://twitter.com/download/android\" rel=\"nofollow\">Twitter for Android</a>', 'in_reply_to_status_id': None, 'in_reply_to_status_id_str': None, 'in_reply_to_user_id': None, 'in_reply_to_user_id_str': None, 'in_reply_to_screen_name': None, 'geo': None, 'coordinates': None, 'place': None, 'contributors': None, 'retweeted_status': {'created_at': 'Mon Sep 30 13:15:19 +0000 2019', 'id': 1178659591506268160, 'id_str': '1178659591506268160', 'text': '#HurricaneDorian may have spread water hyacinth, flathead catfish, other non-native #aquatic species to new places… https://t.co/WN54VvNdnS', 'truncated': True, 'entities': {'hashtags': [{'text': 'HurricaneDorian', 'indices': [0, 16]}, {'text': 'aquatic', 'indices': [84, 92]}], 'symbols': [], 'user_mentions': [], 'urls': [{'url': 'https://t.co/WN54VvNdnS', 'expanded_url': 'https://twitter.com/i/web/status/1178659591506268160', 'display_url': 'twitter.com/i/web/status/1…', 'indices': [116, 139]}]}, 'source': '<a href=\"https://www.hootsuite.com\" rel=\"nofollow\">Hootsuite Inc.</a>', 'in_reply_to_status_id': None, 'in_reply_to_status_id_str': None, 'in_reply_to_user_id': None, 'in_reply_to_user_id_str': None, 'in_reply_to_screen_name': None, 'geo': None, 'coordinates': None, 'place': None, 'contributors': None, 'is_quote_status': False, 'retweet_count': 29, 'favorite_count': 35, 'favorited': False, 'retweeted': False, 'possibly_sensitive': False, 'lang': 'en'}, 'is_quote_status': False, 'retweet_count': 29, 'favorite_count': 0, 'favorited': False, 'retweeted': False, 'lang': 'en'}, 'contributors_enabled': False, 'is_translator': False, 'is_translation_enabled': False, 'profile_background_color': '000000', 'profile_background_image_url': 'http://abs.twimg.com/images/themes/theme1/bg.png', 'profile_background_image_url_https': 'https://abs.twimg.com/images/themes/theme1/bg.png', 'profile_background_tile': False, 'profile_image_url': 'http://pbs.twimg.com/profile_images/620650908846723072/pdxI5DKY_normal.jpg', 'profile_image_url_https': 'https://pbs.twimg.com/profile_images/620650908846723072/pdxI5DKY_normal.jpg', 'profile_banner_url': 'https://pbs.twimg.com/profile_banners/3278809495/1437250757', 'profile_link_color': '3B94D9', 'profile_sidebar_border_color': '000000', 'profile_sidebar_fill_color': '000000', 'profile_text_color': '000000', 'profile_use_background_image': False, 'has_extended_profile': False, 'default_profile': False, 'default_profile_image': False, 'following': False, 'follow_request_sent': False, 'notifications': False, 'translator_type': 'none'}, id=3278809495, id_str='3278809495', name=\"Nicole d'Entremont\", screen_name='dentremap', location='Woods Hole, MA', description='Probably on a boat. Maybe sinking, but definitely submerged. \\n\\nDog mom, XRF whisperer @coastalgrp_whoi, and mud enthusiast @whoi. She/her', url=None, entities={'description': {'urls': []}}, protected=False, followers_count=43, friends_count=136, listed_count=0, created_at=datetime.datetime(2015, 7, 13, 17, 44, 36), favourites_count=54, utc_offset=None, time_zone=None, geo_enabled=True, verified=False, statuses_count=45, lang=None, status=Status(_api=<tweepy.api.API object at 0x05641DD0>, _json={'created_at': 'Mon Sep 30 13:17:03 +0000 2019', 'id': 1178660025205760001, 'id_str': '1178660025205760001', 'text': 'RT @USGS: #HurricaneDorian may have spread water hyacinth, flathead catfish, other non-native #aquatic species to new places from coastal F…', 'truncated': False, 'entities': {'hashtags': [{'text': 'HurricaneDorian', 'indices': [10, 26]}, {'text': 'aquatic', 'indices': [94, 102]}], 'symbols': [], 'user_mentions': [{'screen_name': 'USGS', 'name': 'USGS', 'id': 14505838, 'id_str': '14505838', 'indices': [3, 8]}], 'urls': []}, 'source': '<a href=\"http://twitter.com/download/android\" rel=\"nofollow\">Twitter for Android</a>', 'in_reply_to_status_id': None, 'in_reply_to_status_id_str': None, 'in_reply_to_user_id': None, 'in_reply_to_user_id_str': None, 'in_reply_to_screen_name': None, 'geo': None, 'coordinates': None, 'place': None, 'contributors': None, 'retweeted_status': {'created_at': 'Mon Sep 30 13:15:19 +0000 2019', 'id': 1178659591506268160, 'id_str': '1178659591506268160', 'text': '#HurricaneDorian may have spread water hyacinth, flathead catfish, other non-native #aquatic species to new places… https://t.co/WN54VvNdnS', 'truncated': True, 'entities': {'hashtags': [{'text': 'HurricaneDorian', 'indices': [0, 16]}, {'text': 'aquatic', 'indices': [84, 92]}], 'symbols': [], 'user_mentions': [], 'urls': [{'url': 'https://t.co/WN54VvNdnS', 'expanded_url': 'https://twitter.com/i/web/status/1178659591506268160', 'display_url': 'twitter.com/i/web/status/1…', 'indices': [116, 139]}]}, 'source': '<a href=\"https://www.hootsuite.com\" rel=\"nofollow\">Hootsuite Inc.</a>', 'in_reply_to_status_id': None, 'in_reply_to_status_id_str': None, 'in_reply_to_user_id': None, 'in_reply_to_user_id_str': None, 'in_reply_to_screen_name': None, 'geo': None, 'coordinates': None, 'place': None, 'contributors': None, 'is_quote_status': False, 'retweet_count': 29, 'favorite_count': 35, 'favorited': False, 'retweeted': False, 'possibly_sensitive': False, 'lang': 'en'}, 'is_quote_status': False, 'retweet_count': 29, 'favorite_count': 0, 'favorited': False, 'retweeted': False, 'lang': 'en'}, created_at=datetime.datetime(2019, 9, 30, 13, 17, 3), id=1178660025205760001, id_str='1178660025205760001', text='RT @USGS: #HurricaneDorian may have spread water hyacinth, flathead catfish, other non-native #aquatic species to new places from coastal F…', truncated=False, entities={'hashtags': [{'text': 'HurricaneDorian', 'indices': [10, 26]}, {'text': 'aquatic', 'indices': [94, 102]}], 'symbols': [], 'user_mentions': [{'screen_name': 'USGS', 'name': 'USGS', 'id': 14505838, 'id_str': '14505838', 'indices': [3, 8]}], 'urls': []}, source='Twitter for Android', source_url='http://twitter.com/download/android', in_reply_to_status_id=None, in_reply_to_status_id_str=None, in_reply_to_user_id=None, in_reply_to_user_id_str=None, in_reply_to_screen_name=None, geo=None, coordinates=None, place=None, contributors=None, retweeted_status=Status(_api=<tweepy.api.API object at 0x05641DD0>, _json={'created_at': 'Mon Sep 30 13:15:19 +0000 2019', 'id': 1178659591506268160, 'id_str': '1178659591506268160', 'text': '#HurricaneDorian may have spread water hyacinth, flathead catfish, other non-native #aquatic species to new places… https://t.co/WN54VvNdnS', 'truncated': True, 'entities': {'hashtags': [{'text': 'HurricaneDorian', 'indices': [0, 16]}, {'text': 'aquatic', 'indices': [84, 92]}], 'symbols': [], 'user_mentions': [], 'urls': [{'url': 'https://t.co/WN54VvNdnS', 'expanded_url': 'https://twitter.com/i/web/status/1178659591506268160', 'display_url': 'twitter.com/i/web/status/1…', 'indices': [116, 139]}]}, 'source': '<a href=\"https://www.hootsuite.com\" rel=\"nofollow\">Hootsuite Inc.</a>', 'in_reply_to_status_id': None, 'in_reply_to_status_id_str': None, 'in_reply_to_user_id': None, 'in_reply_to_user_id_str': None, 'in_reply_to_screen_name': None, 'geo': None, 'coordinates': None, 'place': None, 'contributors': None, 'is_quote_status': False, 'retweet_count': 29, 'favorite_count': 35, 'favorited': False, 'retweeted': False, 'possibly_sensitive': False, 'lang': 'en'}, created_at=datetime.datetime(2019, 9, 30, 13, 15, 19), id=1178659591506268160, id_str='1178659591506268160', text='#HurricaneDorian may have spread water hyacinth, flathead catfish, other non-native #aquatic species to new places… https://t.co/WN54VvNdnS', truncated=True, entities={'hashtags': [{'text': 'HurricaneDorian', 'indices': [0, 16]}, {'text': 'aquatic', 'indices': [84, 92]}], 'symbols': [], 'user_mentions': [], 'urls': [{'url': 'https://t.co/WN54VvNdnS', 'expanded_url': 'https://twitter.com/i/web/status/1178659591506268160', 'display_url': 'twitter.com/i/web/status/1…', 'indices': [116, 139]}]}, source='Hootsuite Inc.', source_url='https://www.hootsuite.com', in_reply_to_status_id=None, in_reply_to_status_id_str=None, in_reply_to_user_id=None, in_reply_to_user_id_str=None, in_reply_to_screen_name=None, geo=None, coordinates=None, place=None, contributors=None, is_quote_status=False, retweet_count=29, favorite_count=35, favorited=False, retweeted=False, possibly_sensitive=False, lang='en'), is_quote_status=False, retweet_count=29, favorite_count=0, favorited=False, retweeted=False, lang='en'), contributors_enabled=False, is_translator=False, is_translation_enabled=False, profile_background_color='000000', profile_background_image_url='http://abs.twimg.com/images/themes/theme1/bg.png', profile_background_image_url_https='https://abs.twimg.com/images/themes/theme1/bg.png', profile_background_tile=False, profile_image_url='http://pbs.twimg.com/profile_images/620650908846723072/pdxI5DKY_normal.jpg', profile_image_url_https='https://pbs.twimg.com/profile_images/620650908846723072/pdxI5DKY_normal.jpg', profile_banner_url='https://pbs.twimg.com/profile_banners/3278809495/1437250757', profile_link_color='3B94D9', profile_sidebar_border_color='000000', profile_sidebar_fill_color='000000', profile_text_color='000000', profile_use_background_image=False, has_extended_profile=False, default_profile=False, default_profile_image=False, following=False, follow_request_sent=False, notifications=False, translator_type='none'),\n",
       " User(_api=<tweepy.api.API object at 0x05641DD0>, _json={'id': 591241489, 'id_str': '591241489', 'name': 'Maxim Alexeyev', 'screen_name': 'malexeyev', 'location': '', 'description': '', 'url': None, 'entities': {'description': {'urls': []}}, 'protected': False, 'followers_count': 45, 'friends_count': 89, 'listed_count': 5, 'created_at': 'Sat May 26 20:45:38 +0000 2012', 'favourites_count': 1271, 'utc_offset': None, 'time_zone': None, 'geo_enabled': False, 'verified': False, 'statuses_count': 1255, 'lang': None, 'status': {'created_at': 'Mon Sep 30 12:55:48 +0000 2019', 'id': 1178654678458011648, 'id_str': '1178654678458011648', 'text': 'RT @navalny: Ну охренеть. Детские онкологи из ин.Блохина (они делают более половины детских трансплантаций, связанных с онкологией) заявляю…', 'truncated': False, 'entities': {'hashtags': [], 'symbols': [], 'user_mentions': [{'screen_name': 'navalny', 'name': 'Alexey Navalny', 'id': 82299300, 'id_str': '82299300', 'indices': [3, 11]}], 'urls': []}, 'source': '<a href=\"http://twitter.com/download/android\" rel=\"nofollow\">Twitter for Android</a>', 'in_reply_to_status_id': None, 'in_reply_to_status_id_str': None, 'in_reply_to_user_id': None, 'in_reply_to_user_id_str': None, 'in_reply_to_screen_name': None, 'geo': None, 'coordinates': None, 'place': None, 'contributors': None, 'retweeted_status': {'created_at': 'Mon Sep 30 10:03:03 +0000 2019', 'id': 1178611204958441473, 'id_str': '1178611204958441473', 'text': 'Ну охренеть. Детские онкологи из ин.Блохина (они делают более половины детских трансплантаций, связанных с онкологи… https://t.co/0WaWdmQltQ', 'truncated': True, 'entities': {'hashtags': [], 'symbols': [], 'user_mentions': [], 'urls': [{'url': 'https://t.co/0WaWdmQltQ', 'expanded_url': 'https://twitter.com/i/web/status/1178611204958441473', 'display_url': 'twitter.com/i/web/status/1…', 'indices': [117, 140]}]}, 'source': '<a href=\"https://mobile.twitter.com\" rel=\"nofollow\">Twitter Web App</a>', 'in_reply_to_status_id': None, 'in_reply_to_status_id_str': None, 'in_reply_to_user_id': None, 'in_reply_to_user_id_str': None, 'in_reply_to_screen_name': None, 'geo': None, 'coordinates': None, 'place': None, 'contributors': None, 'is_quote_status': False, 'retweet_count': 1722, 'favorite_count': 4516, 'favorited': False, 'retweeted': False, 'possibly_sensitive': False, 'lang': 'ru'}, 'is_quote_status': False, 'retweet_count': 1722, 'favorite_count': 0, 'favorited': False, 'retweeted': False, 'lang': 'ru'}, 'contributors_enabled': False, 'is_translator': False, 'is_translation_enabled': False, 'profile_background_color': 'C0DEED', 'profile_background_image_url': 'http://abs.twimg.com/images/themes/theme1/bg.png', 'profile_background_image_url_https': 'https://abs.twimg.com/images/themes/theme1/bg.png', 'profile_background_tile': False, 'profile_image_url': 'http://pbs.twimg.com/profile_images/856923876495826944/yzmE082Z_normal.jpg', 'profile_image_url_https': 'https://pbs.twimg.com/profile_images/856923876495826944/yzmE082Z_normal.jpg', 'profile_link_color': '1DA1F2', 'profile_sidebar_border_color': 'C0DEED', 'profile_sidebar_fill_color': 'DDEEF6', 'profile_text_color': '333333', 'profile_use_background_image': True, 'has_extended_profile': False, 'default_profile': True, 'default_profile_image': False, 'following': False, 'follow_request_sent': False, 'notifications': False, 'translator_type': 'none'}, id=591241489, id_str='591241489', name='Maxim Alexeyev', screen_name='malexeyev', location='', description='', url=None, entities={'description': {'urls': []}}, protected=False, followers_count=45, friends_count=89, listed_count=5, created_at=datetime.datetime(2012, 5, 26, 20, 45, 38), favourites_count=1271, utc_offset=None, time_zone=None, geo_enabled=False, verified=False, statuses_count=1255, lang=None, status=Status(_api=<tweepy.api.API object at 0x05641DD0>, _json={'created_at': 'Mon Sep 30 12:55:48 +0000 2019', 'id': 1178654678458011648, 'id_str': '1178654678458011648', 'text': 'RT @navalny: Ну охренеть. Детские онкологи из ин.Блохина (они делают более половины детских трансплантаций, связанных с онкологией) заявляю…', 'truncated': False, 'entities': {'hashtags': [], 'symbols': [], 'user_mentions': [{'screen_name': 'navalny', 'name': 'Alexey Navalny', 'id': 82299300, 'id_str': '82299300', 'indices': [3, 11]}], 'urls': []}, 'source': '<a href=\"http://twitter.com/download/android\" rel=\"nofollow\">Twitter for Android</a>', 'in_reply_to_status_id': None, 'in_reply_to_status_id_str': None, 'in_reply_to_user_id': None, 'in_reply_to_user_id_str': None, 'in_reply_to_screen_name': None, 'geo': None, 'coordinates': None, 'place': None, 'contributors': None, 'retweeted_status': {'created_at': 'Mon Sep 30 10:03:03 +0000 2019', 'id': 1178611204958441473, 'id_str': '1178611204958441473', 'text': 'Ну охренеть. Детские онкологи из ин.Блохина (они делают более половины детских трансплантаций, связанных с онкологи… https://t.co/0WaWdmQltQ', 'truncated': True, 'entities': {'hashtags': [], 'symbols': [], 'user_mentions': [], 'urls': [{'url': 'https://t.co/0WaWdmQltQ', 'expanded_url': 'https://twitter.com/i/web/status/1178611204958441473', 'display_url': 'twitter.com/i/web/status/1…', 'indices': [117, 140]}]}, 'source': '<a href=\"https://mobile.twitter.com\" rel=\"nofollow\">Twitter Web App</a>', 'in_reply_to_status_id': None, 'in_reply_to_status_id_str': None, 'in_reply_to_user_id': None, 'in_reply_to_user_id_str': None, 'in_reply_to_screen_name': None, 'geo': None, 'coordinates': None, 'place': None, 'contributors': None, 'is_quote_status': False, 'retweet_count': 1722, 'favorite_count': 4516, 'favorited': False, 'retweeted': False, 'possibly_sensitive': False, 'lang': 'ru'}, 'is_quote_status': False, 'retweet_count': 1722, 'favorite_count': 0, 'favorited': False, 'retweeted': False, 'lang': 'ru'}, created_at=datetime.datetime(2019, 9, 30, 12, 55, 48), id=1178654678458011648, id_str='1178654678458011648', text='RT @navalny: Ну охренеть. Детские онкологи из ин.Блохина (они делают более половины детских трансплантаций, связанных с онкологией) заявляю…', truncated=False, entities={'hashtags': [], 'symbols': [], 'user_mentions': [{'screen_name': 'navalny', 'name': 'Alexey Navalny', 'id': 82299300, 'id_str': '82299300', 'indices': [3, 11]}], 'urls': []}, source='Twitter for Android', source_url='http://twitter.com/download/android', in_reply_to_status_id=None, in_reply_to_status_id_str=None, in_reply_to_user_id=None, in_reply_to_user_id_str=None, in_reply_to_screen_name=None, geo=None, coordinates=None, place=None, contributors=None, retweeted_status=Status(_api=<tweepy.api.API object at 0x05641DD0>, _json={'created_at': 'Mon Sep 30 10:03:03 +0000 2019', 'id': 1178611204958441473, 'id_str': '1178611204958441473', 'text': 'Ну охренеть. Детские онкологи из ин.Блохина (они делают более половины детских трансплантаций, связанных с онкологи… https://t.co/0WaWdmQltQ', 'truncated': True, 'entities': {'hashtags': [], 'symbols': [], 'user_mentions': [], 'urls': [{'url': 'https://t.co/0WaWdmQltQ', 'expanded_url': 'https://twitter.com/i/web/status/1178611204958441473', 'display_url': 'twitter.com/i/web/status/1…', 'indices': [117, 140]}]}, 'source': '<a href=\"https://mobile.twitter.com\" rel=\"nofollow\">Twitter Web App</a>', 'in_reply_to_status_id': None, 'in_reply_to_status_id_str': None, 'in_reply_to_user_id': None, 'in_reply_to_user_id_str': None, 'in_reply_to_screen_name': None, 'geo': None, 'coordinates': None, 'place': None, 'contributors': None, 'is_quote_status': False, 'retweet_count': 1722, 'favorite_count': 4516, 'favorited': False, 'retweeted': False, 'possibly_sensitive': False, 'lang': 'ru'}, created_at=datetime.datetime(2019, 9, 30, 10, 3, 3), id=1178611204958441473, id_str='1178611204958441473', text='Ну охренеть. Детские онкологи из ин.Блохина (они делают более половины детских трансплантаций, связанных с онкологи… https://t.co/0WaWdmQltQ', truncated=True, entities={'hashtags': [], 'symbols': [], 'user_mentions': [], 'urls': [{'url': 'https://t.co/0WaWdmQltQ', 'expanded_url': 'https://twitter.com/i/web/status/1178611204958441473', 'display_url': 'twitter.com/i/web/status/1…', 'indices': [117, 140]}]}, source='Twitter Web App', source_url='https://mobile.twitter.com', in_reply_to_status_id=None, in_reply_to_status_id_str=None, in_reply_to_user_id=None, in_reply_to_user_id_str=None, in_reply_to_screen_name=None, geo=None, coordinates=None, place=None, contributors=None, is_quote_status=False, retweet_count=1722, favorite_count=4516, favorited=False, retweeted=False, possibly_sensitive=False, lang='ru'), is_quote_status=False, retweet_count=1722, favorite_count=0, favorited=False, retweeted=False, lang='ru'), contributors_enabled=False, is_translator=False, is_translation_enabled=False, profile_background_color='C0DEED', profile_background_image_url='http://abs.twimg.com/images/themes/theme1/bg.png', profile_background_image_url_https='https://abs.twimg.com/images/themes/theme1/bg.png', profile_background_tile=False, profile_image_url='http://pbs.twimg.com/profile_images/856923876495826944/yzmE082Z_normal.jpg', profile_image_url_https='https://pbs.twimg.com/profile_images/856923876495826944/yzmE082Z_normal.jpg', profile_link_color='1DA1F2', profile_sidebar_border_color='C0DEED', profile_sidebar_fill_color='DDEEF6', profile_text_color='333333', profile_use_background_image=True, has_extended_profile=False, default_profile=True, default_profile_image=False, following=False, follow_request_sent=False, notifications=False, translator_type='none'),\n",
       " User(_api=<tweepy.api.API object at 0x05641DD0>, _json={'id': 759544014756610048, 'id_str': '759544014756610048', 'name': 'Surbhi Tanwar', 'screen_name': 'SurbhiTanwar22', 'location': 'Boston, MA', 'description': 'Master student at Northeastern University and Clinical Research data management professional. surbhi-t-58180197 https://t.co/epfEL2Umo8', 'url': None, 'entities': {'description': {'urls': [{'url': 'https://t.co/epfEL2Umo8', 'expanded_url': 'http://linkedin.com/in/surbhi-t-58180197', 'display_url': 'linkedin.com/in/surbhi-t-58…', 'indices': [112, 135]}]}}, 'protected': False, 'followers_count': 13, 'friends_count': 217, 'listed_count': 0, 'created_at': 'Sun Jul 31 00:19:39 +0000 2016', 'favourites_count': 0, 'utc_offset': None, 'time_zone': None, 'geo_enabled': False, 'verified': False, 'statuses_count': 0, 'lang': None, 'contributors_enabled': False, 'is_translator': False, 'is_translation_enabled': False, 'profile_background_color': 'F5F8FA', 'profile_background_image_url': None, 'profile_background_image_url_https': None, 'profile_background_tile': False, 'profile_image_url': 'http://pbs.twimg.com/profile_images/1178554235404849152/ha0Q4ljM_normal.jpg', 'profile_image_url_https': 'https://pbs.twimg.com/profile_images/1178554235404849152/ha0Q4ljM_normal.jpg', 'profile_banner_url': 'https://pbs.twimg.com/profile_banners/759544014756610048/1569824833', 'profile_link_color': '1DA1F2', 'profile_sidebar_border_color': 'C0DEED', 'profile_sidebar_fill_color': 'DDEEF6', 'profile_text_color': '333333', 'profile_use_background_image': True, 'has_extended_profile': True, 'default_profile': True, 'default_profile_image': False, 'following': False, 'follow_request_sent': False, 'notifications': False, 'translator_type': 'none'}, id=759544014756610048, id_str='759544014756610048', name='Surbhi Tanwar', screen_name='SurbhiTanwar22', location='Boston, MA', description='Master student at Northeastern University and Clinical Research data management professional. surbhi-t-58180197 https://t.co/epfEL2Umo8', url=None, entities={'description': {'urls': [{'url': 'https://t.co/epfEL2Umo8', 'expanded_url': 'http://linkedin.com/in/surbhi-t-58180197', 'display_url': 'linkedin.com/in/surbhi-t-58…', 'indices': [112, 135]}]}}, protected=False, followers_count=13, friends_count=217, listed_count=0, created_at=datetime.datetime(2016, 7, 31, 0, 19, 39), favourites_count=0, utc_offset=None, time_zone=None, geo_enabled=False, verified=False, statuses_count=0, lang=None, contributors_enabled=False, is_translator=False, is_translation_enabled=False, profile_background_color='F5F8FA', profile_background_image_url=None, profile_background_image_url_https=None, profile_background_tile=False, profile_image_url='http://pbs.twimg.com/profile_images/1178554235404849152/ha0Q4ljM_normal.jpg', profile_image_url_https='https://pbs.twimg.com/profile_images/1178554235404849152/ha0Q4ljM_normal.jpg', profile_banner_url='https://pbs.twimg.com/profile_banners/759544014756610048/1569824833', profile_link_color='1DA1F2', profile_sidebar_border_color='C0DEED', profile_sidebar_fill_color='DDEEF6', profile_text_color='333333', profile_use_background_image=True, has_extended_profile=True, default_profile=True, default_profile_image=False, following=False, follow_request_sent=False, notifications=False, translator_type='none'),\n",
       " User(_api=<tweepy.api.API object at 0x05641DD0>, _json={'id': 2783300609, 'id_str': '2783300609', 'name': 'sara kišija✨', 'screen_name': 'sara_kisija', 'location': 'bosna i hercegovina', 'description': 'lijepa riječ osvaja svijet.', 'url': None, 'entities': {'description': {'urls': []}}, 'protected': False, 'followers_count': 1775, 'friends_count': 1067, 'listed_count': 3, 'created_at': 'Thu Sep 25 02:36:39 +0000 2014', 'favourites_count': 23093, 'utc_offset': None, 'time_zone': None, 'geo_enabled': True, 'verified': False, 'statuses_count': 4522, 'lang': None, 'status': {'created_at': 'Mon Sep 30 03:28:00 +0000 2019', 'id': 1178511786766671872, 'id_str': '1178511786766671872', 'text': '@ami_nuh you are so beautiful 🥰💛', 'truncated': False, 'entities': {'hashtags': [], 'symbols': [], 'user_mentions': [{'screen_name': 'ami_nuh', 'name': 'amina', 'id': 59288288, 'id_str': '59288288', 'indices': [0, 8]}], 'urls': []}, 'source': '<a href=\"http://twitter.com/download/iphone\" rel=\"nofollow\">Twitter for iPhone</a>', 'in_reply_to_status_id': 1178406338159792128, 'in_reply_to_status_id_str': '1178406338159792128', 'in_reply_to_user_id': 59288288, 'in_reply_to_user_id_str': '59288288', 'in_reply_to_screen_name': 'ami_nuh', 'geo': None, 'coordinates': None, 'place': None, 'contributors': None, 'is_quote_status': False, 'retweet_count': 1, 'favorite_count': 3, 'favorited': False, 'retweeted': False, 'lang': 'en'}, 'contributors_enabled': False, 'is_translator': False, 'is_translation_enabled': False, 'profile_background_color': 'C0DEED', 'profile_background_image_url': 'http://abs.twimg.com/images/themes/theme1/bg.png', 'profile_background_image_url_https': 'https://abs.twimg.com/images/themes/theme1/bg.png', 'profile_background_tile': False, 'profile_image_url': 'http://pbs.twimg.com/profile_images/1172339389868855296/ODAsiN1k_normal.jpg', 'profile_image_url_https': 'https://pbs.twimg.com/profile_images/1172339389868855296/ODAsiN1k_normal.jpg', 'profile_banner_url': 'https://pbs.twimg.com/profile_banners/2783300609/1506091050', 'profile_link_color': '1DA1F2', 'profile_sidebar_border_color': 'C0DEED', 'profile_sidebar_fill_color': 'DDEEF6', 'profile_text_color': '333333', 'profile_use_background_image': True, 'has_extended_profile': True, 'default_profile': True, 'default_profile_image': False, 'following': False, 'follow_request_sent': False, 'notifications': False, 'translator_type': 'none'}, id=2783300609, id_str='2783300609', name='sara kišija✨', screen_name='sara_kisija', location='bosna i hercegovina', description='lijepa riječ osvaja svijet.', url=None, entities={'description': {'urls': []}}, protected=False, followers_count=1775, friends_count=1067, listed_count=3, created_at=datetime.datetime(2014, 9, 25, 2, 36, 39), favourites_count=23093, utc_offset=None, time_zone=None, geo_enabled=True, verified=False, statuses_count=4522, lang=None, status=Status(_api=<tweepy.api.API object at 0x05641DD0>, _json={'created_at': 'Mon Sep 30 03:28:00 +0000 2019', 'id': 1178511786766671872, 'id_str': '1178511786766671872', 'text': '@ami_nuh you are so beautiful 🥰💛', 'truncated': False, 'entities': {'hashtags': [], 'symbols': [], 'user_mentions': [{'screen_name': 'ami_nuh', 'name': 'amina', 'id': 59288288, 'id_str': '59288288', 'indices': [0, 8]}], 'urls': []}, 'source': '<a href=\"http://twitter.com/download/iphone\" rel=\"nofollow\">Twitter for iPhone</a>', 'in_reply_to_status_id': 1178406338159792128, 'in_reply_to_status_id_str': '1178406338159792128', 'in_reply_to_user_id': 59288288, 'in_reply_to_user_id_str': '59288288', 'in_reply_to_screen_name': 'ami_nuh', 'geo': None, 'coordinates': None, 'place': None, 'contributors': None, 'is_quote_status': False, 'retweet_count': 1, 'favorite_count': 3, 'favorited': False, 'retweeted': False, 'lang': 'en'}, created_at=datetime.datetime(2019, 9, 30, 3, 28), id=1178511786766671872, id_str='1178511786766671872', text='@ami_nuh you are so beautiful 🥰💛', truncated=False, entities={'hashtags': [], 'symbols': [], 'user_mentions': [{'screen_name': 'ami_nuh', 'name': 'amina', 'id': 59288288, 'id_str': '59288288', 'indices': [0, 8]}], 'urls': []}, source='Twitter for iPhone', source_url='http://twitter.com/download/iphone', in_reply_to_status_id=1178406338159792128, in_reply_to_status_id_str='1178406338159792128', in_reply_to_user_id=59288288, in_reply_to_user_id_str='59288288', in_reply_to_screen_name='ami_nuh', geo=None, coordinates=None, place=None, contributors=None, is_quote_status=False, retweet_count=1, favorite_count=3, favorited=False, retweeted=False, lang='en'), contributors_enabled=False, is_translator=False, is_translation_enabled=False, profile_background_color='C0DEED', profile_background_image_url='http://abs.twimg.com/images/themes/theme1/bg.png', profile_background_image_url_https='https://abs.twimg.com/images/themes/theme1/bg.png', profile_background_tile=False, profile_image_url='http://pbs.twimg.com/profile_images/1172339389868855296/ODAsiN1k_normal.jpg', profile_image_url_https='https://pbs.twimg.com/profile_images/1172339389868855296/ODAsiN1k_normal.jpg', profile_banner_url='https://pbs.twimg.com/profile_banners/2783300609/1506091050', profile_link_color='1DA1F2', profile_sidebar_border_color='C0DEED', profile_sidebar_fill_color='DDEEF6', profile_text_color='333333', profile_use_background_image=True, has_extended_profile=True, default_profile=True, default_profile_image=False, following=False, follow_request_sent=False, notifications=False, translator_type='none'),\n",
       " User(_api=<tweepy.api.API object at 0x05641DD0>, _json={'id': 865726115738001412, 'id_str': '865726115738001412', 'name': 'Bobert', 'screen_name': 'bobertoyin', 'location': 'Jackson, TN', 'description': 'human embodiment of cringe | @northeastern ‘23', 'url': 'https://t.co/nspUZwwLSY', 'entities': {'url': {'urls': [{'url': 'https://t.co/nspUZwwLSY', 'expanded_url': 'http://bobertoyin.github.io', 'display_url': 'bobertoyin.github.io', 'indices': [0, 23]}]}, 'description': {'urls': []}}, 'protected': False, 'followers_count': 57, 'friends_count': 77, 'listed_count': 0, 'created_at': 'Sat May 20 00:29:25 +0000 2017', 'favourites_count': 997, 'utc_offset': None, 'time_zone': None, 'geo_enabled': True, 'verified': False, 'statuses_count': 335, 'lang': None, 'status': {'created_at': 'Mon Sep 30 00:17:04 +0000 2019', 'id': 1178463739026108418, 'id_str': '1178463739026108418', 'text': 'just learned that “boofing” is a colloquial term for an alcohol enema. thanks, random wikipedia page on a frat', 'truncated': False, 'entities': {'hashtags': [], 'symbols': [], 'user_mentions': [], 'urls': []}, 'source': '<a href=\"http://twitter.com/download/iphone\" rel=\"nofollow\">Twitter for iPhone</a>', 'in_reply_to_status_id': None, 'in_reply_to_status_id_str': None, 'in_reply_to_user_id': None, 'in_reply_to_user_id_str': None, 'in_reply_to_screen_name': None, 'geo': None, 'coordinates': None, 'place': None, 'contributors': None, 'is_quote_status': False, 'retweet_count': 0, 'favorite_count': 4, 'favorited': False, 'retweeted': False, 'lang': 'en'}, 'contributors_enabled': False, 'is_translator': False, 'is_translation_enabled': False, 'profile_background_color': 'F5F8FA', 'profile_background_image_url': None, 'profile_background_image_url_https': None, 'profile_background_tile': False, 'profile_image_url': 'http://pbs.twimg.com/profile_images/1164565973875269633/u7oNS6v5_normal.jpg', 'profile_image_url_https': 'https://pbs.twimg.com/profile_images/1164565973875269633/u7oNS6v5_normal.jpg', 'profile_banner_url': 'https://pbs.twimg.com/profile_banners/865726115738001412/1564441458', 'profile_link_color': '1DA1F2', 'profile_sidebar_border_color': 'C0DEED', 'profile_sidebar_fill_color': 'DDEEF6', 'profile_text_color': '333333', 'profile_use_background_image': True, 'has_extended_profile': True, 'default_profile': True, 'default_profile_image': False, 'following': False, 'follow_request_sent': False, 'notifications': False, 'translator_type': 'none'}, id=865726115738001412, id_str='865726115738001412', name='Bobert', screen_name='bobertoyin', location='Jackson, TN', description='human embodiment of cringe | @northeastern ‘23', url='https://t.co/nspUZwwLSY', entities={'url': {'urls': [{'url': 'https://t.co/nspUZwwLSY', 'expanded_url': 'http://bobertoyin.github.io', 'display_url': 'bobertoyin.github.io', 'indices': [0, 23]}]}, 'description': {'urls': []}}, protected=False, followers_count=57, friends_count=77, listed_count=0, created_at=datetime.datetime(2017, 5, 20, 0, 29, 25), favourites_count=997, utc_offset=None, time_zone=None, geo_enabled=True, verified=False, statuses_count=335, lang=None, status=Status(_api=<tweepy.api.API object at 0x05641DD0>, _json={'created_at': 'Mon Sep 30 00:17:04 +0000 2019', 'id': 1178463739026108418, 'id_str': '1178463739026108418', 'text': 'just learned that “boofing” is a colloquial term for an alcohol enema. thanks, random wikipedia page on a frat', 'truncated': False, 'entities': {'hashtags': [], 'symbols': [], 'user_mentions': [], 'urls': []}, 'source': '<a href=\"http://twitter.com/download/iphone\" rel=\"nofollow\">Twitter for iPhone</a>', 'in_reply_to_status_id': None, 'in_reply_to_status_id_str': None, 'in_reply_to_user_id': None, 'in_reply_to_user_id_str': None, 'in_reply_to_screen_name': None, 'geo': None, 'coordinates': None, 'place': None, 'contributors': None, 'is_quote_status': False, 'retweet_count': 0, 'favorite_count': 4, 'favorited': False, 'retweeted': False, 'lang': 'en'}, created_at=datetime.datetime(2019, 9, 30, 0, 17, 4), id=1178463739026108418, id_str='1178463739026108418', text='just learned that “boofing” is a colloquial term for an alcohol enema. thanks, random wikipedia page on a frat', truncated=False, entities={'hashtags': [], 'symbols': [], 'user_mentions': [], 'urls': []}, source='Twitter for iPhone', source_url='http://twitter.com/download/iphone', in_reply_to_status_id=None, in_reply_to_status_id_str=None, in_reply_to_user_id=None, in_reply_to_user_id_str=None, in_reply_to_screen_name=None, geo=None, coordinates=None, place=None, contributors=None, is_quote_status=False, retweet_count=0, favorite_count=4, favorited=False, retweeted=False, lang='en'), contributors_enabled=False, is_translator=False, is_translation_enabled=False, profile_background_color='F5F8FA', profile_background_image_url=None, profile_background_image_url_https=None, profile_background_tile=False, profile_image_url='http://pbs.twimg.com/profile_images/1164565973875269633/u7oNS6v5_normal.jpg', profile_image_url_https='https://pbs.twimg.com/profile_images/1164565973875269633/u7oNS6v5_normal.jpg', profile_banner_url='https://pbs.twimg.com/profile_banners/865726115738001412/1564441458', profile_link_color='1DA1F2', profile_sidebar_border_color='C0DEED', profile_sidebar_fill_color='DDEEF6', profile_text_color='333333', profile_use_background_image=True, has_extended_profile=True, default_profile=True, default_profile_image=False, following=False, follow_request_sent=False, notifications=False, translator_type='none'),\n",
       " User(_api=<tweepy.api.API object at 0x05641DD0>, _json={'id': 792017437088591872, 'id_str': '792017437088591872', 'name': 'Noah Lee', 'screen_name': 'navelwriter', 'location': 'Parkland, FL', 'description': 'Waddup', 'url': None, 'entities': {'description': {'urls': []}}, 'protected': False, 'followers_count': 17, 'friends_count': 81, 'listed_count': 0, 'created_at': 'Fri Oct 28 14:57:26 +0000 2016', 'favourites_count': 110, 'utc_offset': None, 'time_zone': None, 'geo_enabled': False, 'verified': False, 'statuses_count': 16, 'lang': None, 'status': {'created_at': 'Mon Sep 30 00:07:46 +0000 2019', 'id': 1178461399187677184, 'id_str': '1178461399187677184', 'text': '@Sodapoppintv biggest kapp', 'truncated': False, 'entities': {'hashtags': [], 'symbols': [], 'user_mentions': [{'screen_name': 'Sodapoppintv', 'name': 'Chance Morris', 'id': 1087348778, 'id_str': '1087348778', 'indices': [0, 13]}], 'urls': []}, 'source': '<a href=\"https://mobile.twitter.com\" rel=\"nofollow\">Twitter Web App</a>', 'in_reply_to_status_id': 1178436858146983937, 'in_reply_to_status_id_str': '1178436858146983937', 'in_reply_to_user_id': 1087348778, 'in_reply_to_user_id_str': '1087348778', 'in_reply_to_screen_name': 'Sodapoppintv', 'geo': None, 'coordinates': None, 'place': None, 'contributors': None, 'is_quote_status': False, 'retweet_count': 0, 'favorite_count': 0, 'favorited': False, 'retweeted': False, 'lang': 'en'}, 'contributors_enabled': False, 'is_translator': False, 'is_translation_enabled': False, 'profile_background_color': 'F5F8FA', 'profile_background_image_url': None, 'profile_background_image_url_https': None, 'profile_background_tile': False, 'profile_image_url': 'http://pbs.twimg.com/profile_images/1145421101423616007/syP9GD_d_normal.png', 'profile_image_url_https': 'https://pbs.twimg.com/profile_images/1145421101423616007/syP9GD_d_normal.png', 'profile_banner_url': 'https://pbs.twimg.com/profile_banners/792017437088591872/1478283291', 'profile_link_color': '1DA1F2', 'profile_sidebar_border_color': 'C0DEED', 'profile_sidebar_fill_color': 'DDEEF6', 'profile_text_color': '333333', 'profile_use_background_image': True, 'has_extended_profile': True, 'default_profile': True, 'default_profile_image': False, 'following': False, 'follow_request_sent': False, 'notifications': False, 'translator_type': 'none'}, id=792017437088591872, id_str='792017437088591872', name='Noah Lee', screen_name='navelwriter', location='Parkland, FL', description='Waddup', url=None, entities={'description': {'urls': []}}, protected=False, followers_count=17, friends_count=81, listed_count=0, created_at=datetime.datetime(2016, 10, 28, 14, 57, 26), favourites_count=110, utc_offset=None, time_zone=None, geo_enabled=False, verified=False, statuses_count=16, lang=None, status=Status(_api=<tweepy.api.API object at 0x05641DD0>, _json={'created_at': 'Mon Sep 30 00:07:46 +0000 2019', 'id': 1178461399187677184, 'id_str': '1178461399187677184', 'text': '@Sodapoppintv biggest kapp', 'truncated': False, 'entities': {'hashtags': [], 'symbols': [], 'user_mentions': [{'screen_name': 'Sodapoppintv', 'name': 'Chance Morris', 'id': 1087348778, 'id_str': '1087348778', 'indices': [0, 13]}], 'urls': []}, 'source': '<a href=\"https://mobile.twitter.com\" rel=\"nofollow\">Twitter Web App</a>', 'in_reply_to_status_id': 1178436858146983937, 'in_reply_to_status_id_str': '1178436858146983937', 'in_reply_to_user_id': 1087348778, 'in_reply_to_user_id_str': '1087348778', 'in_reply_to_screen_name': 'Sodapoppintv', 'geo': None, 'coordinates': None, 'place': None, 'contributors': None, 'is_quote_status': False, 'retweet_count': 0, 'favorite_count': 0, 'favorited': False, 'retweeted': False, 'lang': 'en'}, created_at=datetime.datetime(2019, 9, 30, 0, 7, 46), id=1178461399187677184, id_str='1178461399187677184', text='@Sodapoppintv biggest kapp', truncated=False, entities={'hashtags': [], 'symbols': [], 'user_mentions': [{'screen_name': 'Sodapoppintv', 'name': 'Chance Morris', 'id': 1087348778, 'id_str': '1087348778', 'indices': [0, 13]}], 'urls': []}, source='Twitter Web App', source_url='https://mobile.twitter.com', in_reply_to_status_id=1178436858146983937, in_reply_to_status_id_str='1178436858146983937', in_reply_to_user_id=1087348778, in_reply_to_user_id_str='1087348778', in_reply_to_screen_name='Sodapoppintv', geo=None, coordinates=None, place=None, contributors=None, is_quote_status=False, retweet_count=0, favorite_count=0, favorited=False, retweeted=False, lang='en'), contributors_enabled=False, is_translator=False, is_translation_enabled=False, profile_background_color='F5F8FA', profile_background_image_url=None, profile_background_image_url_https=None, profile_background_tile=False, profile_image_url='http://pbs.twimg.com/profile_images/1145421101423616007/syP9GD_d_normal.png', profile_image_url_https='https://pbs.twimg.com/profile_images/1145421101423616007/syP9GD_d_normal.png', profile_banner_url='https://pbs.twimg.com/profile_banners/792017437088591872/1478283291', profile_link_color='1DA1F2', profile_sidebar_border_color='C0DEED', profile_sidebar_fill_color='DDEEF6', profile_text_color='333333', profile_use_background_image=True, has_extended_profile=True, default_profile=True, default_profile_image=False, following=False, follow_request_sent=False, notifications=False, translator_type='none'),\n",
       " User(_api=<tweepy.api.API object at 0x05641DD0>, _json={'id': 913860460935569408, 'id_str': '913860460935569408', 'name': 'Bryson Conway', 'screen_name': 'bryson_conway', 'location': '', 'description': '', 'url': None, 'entities': {'description': {'urls': []}}, 'protected': False, 'followers_count': 1, 'friends_count': 26, 'listed_count': 0, 'created_at': 'Fri Sep 29 20:18:07 +0000 2017', 'favourites_count': 0, 'utc_offset': None, 'time_zone': None, 'geo_enabled': False, 'verified': False, 'statuses_count': 0, 'lang': None, 'contributors_enabled': False, 'is_translator': False, 'is_translation_enabled': False, 'profile_background_color': 'F5F8FA', 'profile_background_image_url': None, 'profile_background_image_url_https': None, 'profile_background_tile': False, 'profile_image_url': 'http://abs.twimg.com/sticky/default_profile_images/default_profile_normal.png', 'profile_image_url_https': 'https://abs.twimg.com/sticky/default_profile_images/default_profile_normal.png', 'profile_link_color': '1DA1F2', 'profile_sidebar_border_color': 'C0DEED', 'profile_sidebar_fill_color': 'DDEEF6', 'profile_text_color': '333333', 'profile_use_background_image': True, 'has_extended_profile': False, 'default_profile': True, 'default_profile_image': True, 'following': False, 'follow_request_sent': False, 'notifications': False, 'translator_type': 'none'}, id=913860460935569408, id_str='913860460935569408', name='Bryson Conway', screen_name='bryson_conway', location='', description='', url=None, entities={'description': {'urls': []}}, protected=False, followers_count=1, friends_count=26, listed_count=0, created_at=datetime.datetime(2017, 9, 29, 20, 18, 7), favourites_count=0, utc_offset=None, time_zone=None, geo_enabled=False, verified=False, statuses_count=0, lang=None, contributors_enabled=False, is_translator=False, is_translation_enabled=False, profile_background_color='F5F8FA', profile_background_image_url=None, profile_background_image_url_https=None, profile_background_tile=False, profile_image_url='http://abs.twimg.com/sticky/default_profile_images/default_profile_normal.png', profile_image_url_https='https://abs.twimg.com/sticky/default_profile_images/default_profile_normal.png', profile_link_color='1DA1F2', profile_sidebar_border_color='C0DEED', profile_sidebar_fill_color='DDEEF6', profile_text_color='333333', profile_use_background_image=True, has_extended_profile=False, default_profile=True, default_profile_image=True, following=False, follow_request_sent=False, notifications=False, translator_type='none')]"
      ]
     },
     "execution_count": 14,
     "metadata": {},
     "output_type": "execute_result"
    }
   ],
   "source": [
    "followers_object"
   ]
  },
  {
   "cell_type": "code",
   "execution_count": 15,
   "metadata": {
    "scrolled": true
   },
   "outputs": [
    {
     "name": "stdout",
     "output_type": "stream",
     "text": [
      "mayyajohnsonn\n",
      "AmyFuller\n",
      "jackhwhitten\n",
      "dentremap\n",
      "malexeyev\n",
      "SurbhiTanwar22\n",
      "sara_kisija\n",
      "bobertoyin\n",
      "navelwriter\n",
      "bryson_conway\n"
     ]
    }
   ],
   "source": [
    "for follower in followers_object:\n",
    "    print(follower.screen_name)"
   ]
  }
 ],
 "metadata": {
  "celltoolbar": "Slideshow",
  "kernelspec": {
   "display_name": "Python 3",
   "language": "python",
   "name": "python3"
  },
  "language_info": {
   "codemirror_mode": {
    "name": "ipython",
    "version": 3
   },
   "file_extension": ".py",
   "mimetype": "text/x-python",
   "name": "python",
   "nbconvert_exporter": "python",
   "pygments_lexer": "ipython3",
   "version": "3.7.3"
  }
 },
 "nbformat": 4,
 "nbformat_minor": 2
}

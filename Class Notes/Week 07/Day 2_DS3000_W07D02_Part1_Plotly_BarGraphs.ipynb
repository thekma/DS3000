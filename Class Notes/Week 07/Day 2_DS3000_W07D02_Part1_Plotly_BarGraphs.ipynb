{
 "cells": [
  {
   "cell_type": "markdown",
   "metadata": {
    "slideshow": {
     "slide_type": "slide"
    }
   },
   "source": [
    "<center> <img src=\"res/ds3000.png\"> </center>"
   ]
  },
  {
   "cell_type": "markdown",
   "metadata": {},
   "source": [
    "<center> <h1> Week 7 - Day 2 </h1> </center>"
   ]
  },
  {
   "cell_type": "markdown",
   "metadata": {},
   "source": [
    "<center> <h2> Part 1: Data Visualization with Plotly</h2></center>"
   ]
  },
  {
   "cell_type": "markdown",
   "metadata": {
    "slideshow": {
     "slide_type": "skip"
    }
   },
   "source": [
    "## Outline\n",
    "1. <a href='#1'>Plotly</a>\n",
    "2. <a href='#2'>Bar Graphs</a>\n",
    "3. <a href='#3'>Specifying the Color of the Bars</a>\n",
    "4. <a href='#4'>Modifying Axis Labels</a>\n",
    "5. <a href='#5'>Modifying Tick Labels</a>\n",
    "6. <a href='#6'>Applying Different Templates to the Plot</a>\n",
    "7. <a href='#7'>Specifying Hover Data</a>\n",
    "8. <a href='#8'>Saving a Plotly Figure</a>"
   ]
  },
  {
   "cell_type": "markdown",
   "metadata": {
    "slideshow": {
     "slide_type": "skip"
    }
   },
   "source": [
    "<a id=\"1\"></a>"
   ]
  },
  {
   "cell_type": "markdown",
   "metadata": {
    "slideshow": {
     "slide_type": "slide"
    }
   },
   "source": [
    "## 1. Plotly\n",
    "* Interactive visualization library\n",
    "* Simply \"cool\"\n",
    "* https://plot.ly/python/"
   ]
  },
  {
   "cell_type": "markdown",
   "metadata": {},
   "source": [
    "### 1.1. Installing Plotly\n",
    "> ```python \n",
    "pip install plotly==4.1.0```\n",
    "\n",
    "\n",
    "* https://plot.ly/python/getting-started/"
   ]
  },
  {
   "cell_type": "markdown",
   "metadata": {
    "slideshow": {
     "slide_type": "subslide"
    }
   },
   "source": [
    "### 1.2. Plotly Express\n",
    "* Plotly is a huge library.\n",
    "* Plotly Express is a simplified wrapper around plotly.graph_objects\n",
    "* Allows you to produce visualizations rapidly and easily\n",
    "* Designed to work with Pandas DataFrames\n",
    "* https://plot.ly/python/plotly-express/\n"
   ]
  },
  {
   "cell_type": "code",
   "execution_count": null,
   "metadata": {},
   "outputs": [],
   "source": [
    "import plotly.express as px"
   ]
  },
  {
   "cell_type": "markdown",
   "metadata": {
    "slideshow": {
     "slide_type": "skip"
    }
   },
   "source": [
    "<a id=\"2\"></a>"
   ]
  },
  {
   "cell_type": "markdown",
   "metadata": {
    "slideshow": {
     "slide_type": "slide"
    }
   },
   "source": [
    "## 2. Bar Graphs\n",
    "* Can generate a bar graph from a DataFrame using **px.bar()**\n",
    "* https://plot.ly/python/bar-charts/\n",
    "* https://www.plotly.express/plotly_express/index.html#plotly_express.bar"
   ]
  },
  {
   "cell_type": "code",
   "execution_count": null,
   "metadata": {
    "slideshow": {
     "slide_type": "fragment"
    }
   },
   "outputs": [],
   "source": [
    "import pandas as pd\n",
    "df = pd.read_csv(\"res/house_points_details.csv\")\n",
    "df"
   ]
  },
  {
   "cell_type": "code",
   "execution_count": null,
   "metadata": {
    "slideshow": {
     "slide_type": "fragment"
    }
   },
   "outputs": [],
   "source": [
    "import plotly.express as px\n",
    "\n",
    "fig = px.bar(df, x='House', y='Points')\n",
    "fig.show()"
   ]
  },
  {
   "cell_type": "markdown",
   "metadata": {
    "slideshow": {
     "slide_type": "skip"
    }
   },
   "source": [
    "<a id=\"3\"></a>"
   ]
  },
  {
   "cell_type": "markdown",
   "metadata": {
    "slideshow": {
     "slide_type": "subslide"
    }
   },
   "source": [
    "## 3. Specifying the Color of the Bars\n",
    "* The built-in update_traces method allows you to modify various properties of the graph\n",
    "* User **marker_color** keyword attribute to specify the color of the bars\n",
    "    * If specifying multiple colors, pass in a list."
   ]
  },
  {
   "cell_type": "code",
   "execution_count": null,
   "metadata": {},
   "outputs": [],
   "source": [
    "import plotly.express as px\n",
    "\n",
    "fig = px.bar(df, x='House', y='Points', title = \"House Points\")\n",
    "\n",
    "#change the bar colors\n",
    "fig.update_traces(marker_color=\"#8b0000\")\n",
    "\n",
    "fig.show()\n"
   ]
  },
  {
   "cell_type": "markdown",
   "metadata": {
    "slideshow": {
     "slide_type": "subslide"
    }
   },
   "source": [
    "### 3.1. Multiple colors"
   ]
  },
  {
   "cell_type": "code",
   "execution_count": null,
   "metadata": {},
   "outputs": [],
   "source": [
    "import plotly.express as px\n",
    "\n",
    "fig = px.bar(df, x='House', y='Points', title = \"House Points\")\n",
    "\n",
    "#change the bar colors\n",
    "fig.update_traces(marker_color=[\"#8b0000\", \"#FFD700\", \"#00316e\", \"#013220\"])\n",
    "\n",
    "fig.show()\n"
   ]
  },
  {
   "cell_type": "markdown",
   "metadata": {
    "slideshow": {
     "slide_type": "subslide"
    }
   },
   "source": [
    "### 3.2. Bar Colors Based on Column Values\n",
    "* Can automatically specify bar columns based on the values of a Column\n",
    "* Specify the grouping column name using the **color** keyword argument"
   ]
  },
  {
   "cell_type": "code",
   "execution_count": null,
   "metadata": {},
   "outputs": [],
   "source": [
    "import plotly.graph_objects as go\n",
    "import plotly.express as px\n",
    "\n",
    "fig = px.bar(df, x='House', y='Points', color = \"Points\")\n",
    "fig.show()"
   ]
  },
  {
   "cell_type": "markdown",
   "metadata": {
    "slideshow": {
     "slide_type": "subslide"
    }
   },
   "source": [
    "### 3.3. Grouped Bar Graphs\n",
    "* Use the **barmode** keyword argument to produce grouped bar plots"
   ]
  },
  {
   "cell_type": "code",
   "execution_count": null,
   "metadata": {},
   "outputs": [],
   "source": [
    "quidditch = pd.read_csv(\"res/ave_grades_quidditch.csv\")\n",
    "quidditch = quidditch.groupby([\"House\", \"Quidditch\"]).mean()\n",
    "quidditch.reset_index(inplace=True)"
   ]
  },
  {
   "cell_type": "code",
   "execution_count": null,
   "metadata": {},
   "outputs": [],
   "source": [
    "import plotly.express as px\n",
    "\n",
    "fig = px.bar(quidditch, x='House', y='Potion_Ave', title=\"House Points\", color=\"Quidditch\", barmode=\"group\")\n",
    "\n",
    "\n",
    "fig.show()"
   ]
  },
  {
   "cell_type": "markdown",
   "metadata": {
    "slideshow": {
     "slide_type": "skip"
    }
   },
   "source": [
    "<a id=\"4\"></a>"
   ]
  },
  {
   "cell_type": "markdown",
   "metadata": {
    "slideshow": {
     "slide_type": "slide"
    }
   },
   "source": [
    "## 4. Modifying Axis Labels\n",
    "* By default, the names of the DataFrame columns are used as the axis labels.\n",
    "    * Can change this using the **label** keyword argument\n",
    "    \n",
    "    \n",
    "* Use **update_xaxes()** and **update_yaxes()** methods\n",
    "* Axis title properties can be modified using the **title_font** keyword argument."
   ]
  },
  {
   "cell_type": "code",
   "execution_count": null,
   "metadata": {
    "slideshow": {
     "slide_type": "fragment"
    }
   },
   "outputs": [],
   "source": [
    "import plotly.express as px\n",
    "\n",
    "fig = px.bar(df, x='House', y='Points', labels = {\"House\": \"Hogwarts House\", \"Points\": \"House Points\"})\n",
    "\n",
    "#change the bar colors\n",
    "fig.update_traces(marker_color=\"#8b0000\")\n",
    "\n",
    "#modify axis label properties\n",
    "fig.update_xaxes(title_font={\"size\":18, \"family\": \"Courier\", \"color\":\"gray\"})\n",
    "fig.update_yaxes(title_font={\"size\":18, \"family\": \"Courier\", \"color\":\"gray\"})\n",
    "\n",
    "fig.show()"
   ]
  },
  {
   "cell_type": "markdown",
   "metadata": {
    "slideshow": {
     "slide_type": "skip"
    }
   },
   "source": [
    "<a id=\"5\"></a>"
   ]
  },
  {
   "cell_type": "markdown",
   "metadata": {
    "slideshow": {
     "slide_type": "slide"
    }
   },
   "source": [
    "  \n",
    "## 5. Modifying Tick Labels\n",
    "* Use **update_xaxes()** and **update_yaxes()** methods\n",
    "* Axis tick properties can be modified using the **tickfont** keyword argument."
   ]
  },
  {
   "cell_type": "code",
   "execution_count": null,
   "metadata": {
    "slideshow": {
     "slide_type": "fragment"
    }
   },
   "outputs": [],
   "source": [
    "import plotly.express as px\n",
    "\n",
    "fig = px.bar(df, x='House', y='Points')\n",
    "\n",
    "#change the bar colors\n",
    "fig.update_traces(marker_color=\"#8b0000\")\n",
    "\n",
    "#modify axis label properties\n",
    "fig.update_xaxes(title_font={\"size\":18, \"family\": \"Courier\", \"color\":\"gray\"}, \n",
    "                 tickfont = {\"size\":16, \"family\": \"Courier\", \"color\":\"gray\"})\n",
    "fig.update_yaxes(title_font={\"size\":18, \"family\": \"Courier\", \"color\":\"gray\"}, \n",
    "                            tickfont = {\"size\":16, \"family\": \"Courier\", \"color\":\"gray\"})\n",
    "\n",
    "fig.show()"
   ]
  },
  {
   "cell_type": "markdown",
   "metadata": {
    "slideshow": {
     "slide_type": "skip"
    }
   },
   "source": [
    "<a id=\"6\"></a>"
   ]
  },
  {
   "cell_type": "markdown",
   "metadata": {
    "slideshow": {
     "slide_type": "slide"
    }
   },
   "source": [
    "## 6. Applying Different Templates to the Plot\n",
    "* Use the template keyword argument when producing the plot\n",
    "* Available templates:\n",
    "    * \"plotly\", \"plotly_white\", \"plotly_dark\", \"ggplot2\", \"seaborn\", \"none\""
   ]
  },
  {
   "cell_type": "code",
   "execution_count": null,
   "metadata": {
    "slideshow": {
     "slide_type": "-"
    }
   },
   "outputs": [],
   "source": [
    "import plotly.express as px\n",
    "\n",
    "fig = px.bar(df, x='House', y='Points', template='none', opacity=.7)\n",
    "\n",
    "#change the bar colors\n",
    "fig.update_traces(marker_color=\"#8b0000\")\n",
    "\n",
    "#modify axis label properties\n",
    "fig.update_xaxes(title_font={\"size\":18, \"family\": \"Courier\", \"color\":\"gray\"}, \n",
    "                 tickfont = {\"size\":16, \"family\": \"Courier\", \"color\":\"gray\"})\n",
    "fig.update_yaxes(title_font={\"size\":18, \"family\": \"Courier\", \"color\":\"gray\"}, \n",
    "                            tickfont = {\"size\":16, \"family\": \"Courier\", \"color\":\"gray\"})\n",
    "\n",
    "fig.show()"
   ]
  },
  {
   "cell_type": "markdown",
   "metadata": {
    "slideshow": {
     "slide_type": "skip"
    }
   },
   "source": [
    "<a id=\"7\"></a>"
   ]
  },
  {
   "cell_type": "markdown",
   "metadata": {
    "slideshow": {
     "slide_type": "slide"
    }
   },
   "source": [
    "## 7. Specifying Hover Data\n",
    "* Can specify what information should be displayed when the user hovers over bars\n",
    "* Use **hover_data** keyword argument and specify the column name that holds the details.\n",
    "* **hover_name** specifies the title of the tooltip box"
   ]
  },
  {
   "cell_type": "code",
   "execution_count": null,
   "metadata": {
    "slideshow": {
     "slide_type": "subslide"
    }
   },
   "outputs": [],
   "source": [
    "import plotly.express as px\n",
    "\n",
    "fig = px.bar(df, x='House', y='Points', hover_name = \"House\", hover_data = [\"Details\"], template=\"none\", opacity= .7)\n",
    "\n",
    "\n",
    "#change the bar colors\n",
    "fig.update_traces(marker_color=\"#8b0000\")\n",
    "\n",
    "#modify axis label properties\n",
    "fig.update_xaxes(title_font={\"size\":18, \"family\": \"Courier\", \"color\":\"gray\"}, \n",
    "                 tickfont = {\"size\":16, \"family\": \"Courier\", \"color\":\"gray\"})\n",
    "fig.update_yaxes(title_font={\"size\":18, \"family\": \"Courier\", \"color\":\"gray\"}, \n",
    "                            tickfont = {\"size\":16, \"family\": \"Courier\", \"color\":\"gray\"})\n",
    "\n",
    "fig.show()"
   ]
  },
  {
   "cell_type": "markdown",
   "metadata": {
    "slideshow": {
     "slide_type": "skip"
    }
   },
   "source": [
    "<a id=\"8\"></a>"
   ]
  },
  {
   "cell_type": "markdown",
   "metadata": {
    "slideshow": {
     "slide_type": "slide"
    }
   },
   "source": [
    "## 8. Saving a Plotly Figure\n",
    "* Use the save icon on the plot\n",
    "* https://plot.ly/python/static-image-export/\n",
    "    * fig.write_image(\"res/fig1.png\")"
   ]
  },
  {
   "cell_type": "code",
   "execution_count": null,
   "metadata": {},
   "outputs": [],
   "source": [
    "import plotly\n",
    "\n",
    "plotly.offline.plot(fig, filename='res/fig.html') "
   ]
  }
 ],
 "metadata": {
  "celltoolbar": "Slideshow",
  "kernelspec": {
   "display_name": "Python 3",
   "language": "python",
   "name": "python3"
  },
  "language_info": {
   "codemirror_mode": {
    "name": "ipython",
    "version": 3
   },
   "file_extension": ".py",
   "mimetype": "text/x-python",
   "name": "python",
   "nbconvert_exporter": "python",
   "pygments_lexer": "ipython3",
   "version": "3.7.3"
  }
 },
 "nbformat": 4,
 "nbformat_minor": 2
}

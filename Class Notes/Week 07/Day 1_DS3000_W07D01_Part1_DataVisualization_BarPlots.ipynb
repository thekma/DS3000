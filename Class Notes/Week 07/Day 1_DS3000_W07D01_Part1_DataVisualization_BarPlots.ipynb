{
  "cells": [
    {
      "metadata": {
        "slideshow": {
          "slide_type": "slide"
        }
      },
      "cell_type": "markdown",
      "source": "<center> <img src=\"res/ds3000.png\"> </center>"
    },
    {
      "metadata": {},
      "cell_type": "markdown",
      "source": "<center> <h1> Week 7 - Day 1 </h1> </center>"
    },
    {
      "metadata": {},
      "cell_type": "markdown",
      "source": "<center> <h2> Part 1: Data Visualization </h2></center>"
    },
    {
      "metadata": {
        "slideshow": {
          "slide_type": "skip"
        }
      },
      "cell_type": "markdown",
      "source": "## Outline\n1. <a href='#1'>Data Visualization</a>\n2. <a href='#2'>Creating A Simple Bar Graph</a>\n3. <a href='#3'>Adding a Title</a>\n4. <a href='#4'>Adding Labels to Axes</a>\n5. <a href='#5'>Specifying the Color of the Bars</a>\n6. <a href='#6'>Specifying the Color of the Edges</a>\n7. <a href='#7'>Specifying the Width of the Edges</a>\n8. <a href='#8'>Specifiying the Color Palette</a>\n9. <a href='#9'>Creating A Bar Graph from a DataFrame</a>\n10. <a href='#10'>Saving a Seaborn Visualization</a>"
    },
    {
      "metadata": {
        "slideshow": {
          "slide_type": "skip"
        }
      },
      "cell_type": "markdown",
      "source": "<a id=\"1\"></a>"
    },
    {
      "metadata": {
        "slideshow": {
          "slide_type": "slide"
        }
      },
      "cell_type": "markdown",
      "source": "## 1. Data Visualization\n* Visualizations help you “get to know” your data. \n* Give you a powerful way to understand data that goes beyond simply looking at raw data.\n* Make it easier to identify patterns in data\n* Usually an integral step of Exploratory Data Analysis (EDA)"
    },
    {
      "metadata": {
        "slideshow": {
          "slide_type": "subslide"
        }
      },
      "cell_type": "markdown",
      "source": "### 1.1. Matplotlib\n* Common data visualization library for Python\n* Built on NumPy arrays \n* Used to produce publication quality visualizations\n* https://matplotlib.org/"
    },
    {
      "metadata": {
        "slideshow": {
          "slide_type": "subslide"
        }
      },
      "cell_type": "markdown",
      "source": "### Installing the Matplotlib Jupyter Extension \n> pip install ipympl"
    },
    {
      "metadata": {
        "slideshow": {
          "slide_type": "subslide"
        }
      },
      "cell_type": "markdown",
      "source": "### Setting up Matplotlib\n* Need to set up matplotlib in Jupyter Notebook, before we can import the library package\n* Two setups:\n    * **%matplotlib**: visualizations are displayed in a new window (gtk backend)\n    * **%matplotlib notebook**: visualizations are displayed inline as Notebook cells (interactive backend)"
    },
    {
      "metadata": {
        "trusted": true
      },
      "cell_type": "code",
      "source": "import matplotlib.pyplot as plt",
      "execution_count": null,
      "outputs": []
    },
    {
      "metadata": {
        "trusted": true
      },
      "cell_type": "code",
      "source": "%matplotlib notebook",
      "execution_count": null,
      "outputs": []
    },
    {
      "metadata": {
        "slideshow": {
          "slide_type": "subslide"
        }
      },
      "cell_type": "markdown",
      "source": "### 1.2. Seaborn\n* A statistical graphics library\n    * https://seaborn.pydata.org/index.html\n* Built over Matplotlib\n* Simplifies many of Matplotlib's complex procedures for producing common visualization types\n* Prettifies Matplotlib visualizations"
    },
    {
      "metadata": {
        "trusted": true
      },
      "cell_type": "code",
      "source": "import seaborn as sns",
      "execution_count": null,
      "outputs": []
    },
    {
      "metadata": {
        "slideshow": {
          "slide_type": "skip"
        }
      },
      "cell_type": "markdown",
      "source": "<a id=\"2\"></a>"
    },
    {
      "metadata": {
        "slideshow": {
          "slide_type": "slide"
        }
      },
      "cell_type": "markdown",
      "source": "## 2. Creating A Simple Bar Graph\n* Commonly used to show comparisons among groups or categories on a numeric value\n    * x-axis shows the categories being compared\n    * y-axis shows a numeric value for these categories\n\n\n\n* Use the **barplot()** method in the Seaborn library"
    },
    {
      "metadata": {
        "slideshow": {
          "slide_type": "subslide"
        }
      },
      "cell_type": "markdown",
      "source": "https://www.youtube.com/watch?v=7iGTlfmjtQU"
    },
    {
      "metadata": {
        "trusted": true
      },
      "cell_type": "code",
      "source": "#Hogwarts House Points 1991-1992\nhouse_names = [\"Gryffindor\", \"Hufflepuff\", \"Ravenclaw\", \"Slytherin\"]\nhouse_points = [482, 352, 426, 472]",
      "execution_count": null,
      "outputs": []
    },
    {
      "metadata": {
        "slideshow": {
          "slide_type": "subslide"
        },
        "trusted": true
      },
      "cell_type": "code",
      "source": "import seaborn as sns\n\n# create and display the bar plot\ngraph = sns.barplot(x=house_names, y=house_points)",
      "execution_count": null,
      "outputs": []
    },
    {
      "metadata": {
        "slideshow": {
          "slide_type": "subslide"
        }
      },
      "cell_type": "markdown",
      "source": "> ```python\ngraph = sns.barplot(x=house_names, y=house_points)\n```\n\n* **x** corresponds to the labels to display on the x-axis\n* **y** corresponds to values to display on the y-axis\n* **graph** becomes a Seaborn object (Matplotlib axes object, more precisely) with the visualization you requested"
    },
    {
      "metadata": {
        "trusted": true
      },
      "cell_type": "code",
      "source": "import seaborn as sns\n# create and display the bar plot\ngraph = sns.barplot(x=[\"Gryffindor\", \"Hufflepuff\", \"Ravenclaw\", \"Slytherin\"], y=[482, 352, 426, 472])",
      "execution_count": null,
      "outputs": []
    },
    {
      "metadata": {
        "trusted": true
      },
      "cell_type": "code",
      "source": "type(graph)",
      "execution_count": null,
      "outputs": []
    },
    {
      "metadata": {
        "slideshow": {
          "slide_type": "skip"
        }
      },
      "cell_type": "markdown",
      "source": "<a id=\"3\"></a>"
    },
    {
      "metadata": {
        "slideshow": {
          "slide_type": "slide"
        }
      },
      "cell_type": "markdown",
      "source": "## 3. Adding a Title\n* Use the **set_title()** method of the Seaborn object"
    },
    {
      "metadata": {
        "trusted": true
      },
      "cell_type": "code",
      "source": "import seaborn as sns\n\n# create and display the bar plot\ngraph = sns.barplot(x=house_names, y=house_points)\n\n#specify the title\ntitle = \"House Points\"\n\n#set the title of the plot\ngraph.set_title(title)",
      "execution_count": null,
      "outputs": []
    },
    {
      "metadata": {
        "slideshow": {
          "slide_type": "skip"
        }
      },
      "cell_type": "markdown",
      "source": "<a id=\"4\"></a>"
    },
    {
      "metadata": {
        "slideshow": {
          "slide_type": "slide"
        }
      },
      "cell_type": "markdown",
      "source": "## 4. Adding Labels to Axes\n* Use **set_xlabel(\"labelname\")** and **set_ylabel(\"labelname)**\n    * Alternatively, use **set()** method and specify **xlabel** and **ylabel** keyword arguments"
    },
    {
      "metadata": {
        "trusted": true
      },
      "cell_type": "code",
      "source": "import seaborn as sns\n\n# create and display the bar plot\ngraph = sns.barplot(x=house_names, y=house_points)\n\n#specify the title\ntitle = \"House Points\"\n\n#set the title of the plot\ngraph.set_title(title, size = 16)\n\n#add labels to the axes  \ngraph.set_xlabel(\"House\", size = 16)\ngraph.set_ylabel(\"Points\", size = 16)",
      "execution_count": null,
      "outputs": []
    },
    {
      "metadata": {
        "slideshow": {
          "slide_type": "skip"
        }
      },
      "cell_type": "markdown",
      "source": "<a id=\"5\"></a>"
    },
    {
      "metadata": {
        "slideshow": {
          "slide_type": "slide"
        }
      },
      "cell_type": "markdown",
      "source": "## 5. Specifying the Color of the Bars\n* Specify the \"color\" keyword argument in sns.barplot() method call\n* Accepts Matplotlib color letters:\n    * b: blue\n    * g: green\n    * r: red\n    * c: cyan\n    * m: magenta\n    * y: yellow\n    * k: black\n    * w: white"
    },
    {
      "metadata": {
        "slideshow": {
          "slide_type": "subslide"
        },
        "trusted": true
      },
      "cell_type": "code",
      "source": "import seaborn as sns\n\n# create and display the bar plot\ngraph = sns.barplot(x=house_names, y=house_points, color = \"r\")\n\n#specify the title\ntitle = \"House Points\"\n\n#set the title of the plot\ngraph.set_title(title, size = 16)\n\n#add labels to the axes  \ngraph.set_xlabel(\"House\", size = 16)\ngraph.set_ylabel(\"Points\", size = 16)",
      "execution_count": null,
      "outputs": []
    },
    {
      "metadata": {
        "slideshow": {
          "slide_type": "subslide"
        }
      },
      "cell_type": "markdown",
      "source": "### 5.1. Passing in Hex color codes\n* Can use the hex or rgb code of the color as well:\n    * HEX code for Northeastern's red color is #d4202f\n    * Its RGB values are (212, 32, 47)"
    },
    {
      "metadata": {
        "trusted": true
      },
      "cell_type": "code",
      "source": "import seaborn as sns\n\n# create and display the bar plot\ngraph = sns.barplot(x=house_names, y=house_points, color = \"#d4202f\")\n\n#specify the title\ntitle = \"House Points\"\n\n#set the title of the plot\ngraph.set_title(title, size = 16)\n\n#add labels to the axes  \ngraph.set_xlabel(\"House\", size = 16)\ngraph.set_ylabel(\"Points\", size = 16)",
      "execution_count": null,
      "outputs": []
    },
    {
      "metadata": {
        "slideshow": {
          "slide_type": "subslide"
        }
      },
      "cell_type": "markdown",
      "source": "### 5.2. Passing in an RGB color\n* RGB values are passed in as a tuple\n* Seaborn and matplotlib uses float values for RGB color codes\n* Simply divide your RGB color values (int) by 255 to get the float values for the same color"
    },
    {
      "metadata": {
        "trusted": true
      },
      "cell_type": "code",
      "source": "import seaborn as sns\n\n# create and display the bar plot\ngraph = sns.barplot(x=house_names, y=house_points, color = (212/255, 32/255, 47/255))\n\n#specify the title\ntitle = \"House Points\"\n\n#set the title of the plot\ngraph.set_title(title, size = 16)\n\n#add labels to the axes  \ngraph.set_xlabel(\"House\", size = 16)\ngraph.set_ylabel(\"Points\", size = 16)",
      "execution_count": null,
      "outputs": []
    },
    {
      "metadata": {
        "slideshow": {
          "slide_type": "skip"
        }
      },
      "cell_type": "markdown",
      "source": "<a id=\"6\"></a>"
    },
    {
      "metadata": {
        "slideshow": {
          "slide_type": "slide"
        }
      },
      "cell_type": "markdown",
      "source": "## 6. Specifying the Color of the Edges\n* Use the **edgecolor** keyword argument in **sns.barplot()** method call"
    },
    {
      "metadata": {
        "trusted": true
      },
      "cell_type": "code",
      "source": "import seaborn as sns\n\nsns.set_context(rc = {'patch.linewidth': 1})\n# create and display the bar plot\ngraph = sns.barplot(x=house_names, y=house_points, color = \"#d4202f\", edgecolor = \"k\")\n\n#specify the title\ntitle = \"House Points\"\n\n#set the title of the plot\ngraph.set_title(title, size = 16)\n\n#add labels to the axes  \ngraph.set_xlabel(\"House\", size = 16)\ngraph.set_ylabel(\"Points\", size = 16)\n",
      "execution_count": null,
      "outputs": []
    },
    {
      "metadata": {
        "slideshow": {
          "slide_type": "skip"
        }
      },
      "cell_type": "markdown",
      "source": "<a id=\"7\"></a>"
    },
    {
      "metadata": {
        "slideshow": {
          "slide_type": "slide"
        }
      },
      "cell_type": "markdown",
      "source": "## 7. Specifying the Width of the Edges\n* Use **set_context()** method with the following argument:\n    * rc = {'patch.linewidth': 1}"
    },
    {
      "metadata": {
        "trusted": true
      },
      "cell_type": "code",
      "source": "import seaborn as sns\n\n#set the width of the edges of the bar\n#set the width before producing the graph\nsns.set_context(rc = {'patch.linewidth': 2})\n\n# create and display the bar plot\ngraph = sns.barplot(x=house_names, y=house_points, color = \"#d4202f\", edgecolor = \"k\")\n\n\n#specify the title\ntitle = \"House Points\"\n\n#set the title of the plot\ngraph.set_title(title, size = 16)\n\n#add labels to the axes  \ngraph.set_xlabel(\"House\", size = 16)\ngraph.set_ylabel(\"Points\", size = 16)\n",
      "execution_count": null,
      "outputs": []
    },
    {
      "metadata": {
        "slideshow": {
          "slide_type": "skip"
        }
      },
      "cell_type": "markdown",
      "source": "<a id=\"8\"></a>"
    },
    {
      "metadata": {
        "slideshow": {
          "slide_type": "slide"
        }
      },
      "cell_type": "markdown",
      "source": "## 8. Specifiying the Color Palette\n* Use **sns.set_palette(palette_name)**\n* Or specify the palette keyword argument in **sns.barplot()** method call\n* Built-in palettes:\n    * pastel\n    * muted\n    * bright\n    * deep\n    * dark\n    * colorblind\n* https://seaborn.pydata.org/tutorial/color_palettes.html"
    },
    {
      "metadata": {
        "slideshow": {
          "slide_type": "subslide"
        }
      },
      "cell_type": "markdown",
      "source": "#### Built-in Color Palettes\n<img src = \"res/color_palettes.png\" />\n"
    },
    {
      "metadata": {
        "trusted": true
      },
      "cell_type": "code",
      "source": "#displays current palette colors\nsns.palplot(sns.color_palette())",
      "execution_count": null,
      "outputs": []
    },
    {
      "metadata": {
        "slideshow": {
          "slide_type": "subslide"
        },
        "trusted": true
      },
      "cell_type": "code",
      "source": "sns.set_palette(\"colorblind\")",
      "execution_count": null,
      "outputs": []
    },
    {
      "metadata": {
        "slideshow": {
          "slide_type": "-"
        },
        "trusted": true
      },
      "cell_type": "code",
      "source": "#displays current palette colors\nsns.palplot(sns.color_palette())",
      "execution_count": null,
      "outputs": []
    },
    {
      "metadata": {
        "slideshow": {
          "slide_type": "subslide"
        },
        "trusted": true
      },
      "cell_type": "code",
      "source": "import seaborn as sns\n\n# create and display the bar plot\ngraph = sns.barplot(x=house_names, y=house_points, palette=\"colorblind\")\n\n#specify the title\ntitle = \"House Points\"\n\n#set the title of the plot\ngraph.set_title(title, size = 16)\n\n#add labels to the axes  \ngraph.set_xlabel(\"House\", size = 16)\ngraph.set_ylabel(\"Points\", size = 16)",
      "execution_count": null,
      "outputs": []
    },
    {
      "metadata": {
        "slideshow": {
          "slide_type": "subslide"
        }
      },
      "cell_type": "markdown",
      "source": "### 8.1. Specific Palette Colors\n* Can pass in a list of specific palette colors to use for the bars\n* List of color names available at https://xkcd.com/color/rgb/"
    },
    {
      "metadata": {
        "slideshow": {
          "slide_type": "subslide"
        },
        "trusted": true
      },
      "cell_type": "code",
      "source": "import seaborn as sns\n\n# create and display the bar plot\ngraph = sns.barplot(x=house_names, y=house_points, palette=[\"darkred\", \"gold\", \"darkblue\", \"darkgreen\"])\n\n#specify the title\ntitle = \"House Points\"\n\n#set the title of the plot\ngraph.set_title(title, size = 16)\n\n#add labels to the axes  \ngraph.set_xlabel(\"House\", size = 16)\ngraph.set_ylabel(\"Points\", size = 16)",
      "execution_count": null,
      "outputs": []
    },
    {
      "metadata": {
        "slideshow": {
          "slide_type": "subslide"
        }
      },
      "cell_type": "markdown",
      "source": "* Can use a list of hex color codes too"
    },
    {
      "metadata": {
        "trusted": true
      },
      "cell_type": "code",
      "source": "hogwarts_colors = [\"#8b0000\", \"#FFD700\", \"#00316e\", \"#013220\"]\n\nsns.set_palette(sns.color_palette(hogwarts_colors))",
      "execution_count": null,
      "outputs": []
    },
    {
      "metadata": {
        "slideshow": {
          "slide_type": "subslide"
        },
        "trusted": true
      },
      "cell_type": "code",
      "source": "import seaborn as sns\n\n# create and display the bar plot\ngraph = sns.barplot(x=house_names, y=house_points, palette= hogwarts_colors)\n\n#specify the title\ntitle = \"House Points\"\n\n#set the title of the plot\ngraph.set_title(title, size = 16)\n\n#add labels to the axes  \ngraph.set_xlabel(\"House\", size = 16)\ngraph.set_ylabel(\"Points\", size = 16)",
      "execution_count": null,
      "outputs": []
    },
    {
      "metadata": {
        "slideshow": {
          "slide_type": "skip"
        }
      },
      "cell_type": "markdown",
      "source": "<a id=\"9\"></a>"
    },
    {
      "metadata": {
        "slideshow": {
          "slide_type": "slide"
        }
      },
      "cell_type": "markdown",
      "source": "## 9. Creating A Bar Graph from a DataFrame\n* In the .barplot() method cal, specify the name of the dataframe in the **data** keyword argument \n    * x= the DataFrame column name for x-axis labels\n    * y= the DataFrame column name for y-axis values"
    },
    {
      "metadata": {
        "trusted": true
      },
      "cell_type": "code",
      "source": "import pandas as pd",
      "execution_count": null,
      "outputs": []
    },
    {
      "metadata": {
        "trusted": true
      },
      "cell_type": "code",
      "source": "df = pd.read_csv(\"res/ave_grades.csv\")",
      "execution_count": null,
      "outputs": []
    },
    {
      "metadata": {
        "slideshow": {
          "slide_type": "subslide"
        },
        "trusted": true
      },
      "cell_type": "code",
      "source": "df_grades = df.groupby(\"House\").mean()",
      "execution_count": null,
      "outputs": []
    },
    {
      "metadata": {
        "slideshow": {
          "slide_type": "-"
        },
        "trusted": true
      },
      "cell_type": "code",
      "source": "df_grades = df_grades.reset_index()",
      "execution_count": null,
      "outputs": []
    },
    {
      "metadata": {
        "trusted": true
      },
      "cell_type": "code",
      "source": "df_grades",
      "execution_count": null,
      "outputs": []
    },
    {
      "metadata": {
        "slideshow": {
          "slide_type": "subslide"
        },
        "trusted": true
      },
      "cell_type": "code",
      "source": "import seaborn as sns\n\n# create and display the bar plot\ngraph = sns.barplot(x=\"House\", y=\"Potion_Ave\", data = df_grades, palette= hogwarts_colors)\n\n#specify the title\ntitle = \"Potion Grades\"\n\n#set the title of the plot\ngraph.set_title(title, size = 16)\n\n#add labels to the axes  \ngraph.set_xlabel(\"House\", size = 16)\ngraph.set_ylabel(\"Potion_Ave\", size = 16)",
      "execution_count": null,
      "outputs": []
    },
    {
      "metadata": {},
      "cell_type": "markdown",
      "source": "<a id=\"10\"></a>"
    },
    {
      "metadata": {
        "slideshow": {
          "slide_type": "slide"
        }
      },
      "cell_type": "markdown",
      "source": "## 10. Saving a Seaborn Visualization"
    },
    {
      "metadata": {
        "trusted": true
      },
      "cell_type": "code",
      "source": "graph.figure.savefig(\"house_points.png\")",
      "execution_count": null,
      "outputs": []
    }
  ],
  "metadata": {
    "celltoolbar": "Slideshow",
    "kernelspec": {
      "name": "python3",
      "display_name": "Python 3",
      "language": "python"
    },
    "language_info": {
      "mimetype": "text/x-python",
      "nbconvert_exporter": "python",
      "name": "python",
      "file_extension": ".py",
      "version": "3.5.4",
      "pygments_lexer": "ipython3",
      "codemirror_mode": {
        "version": 3,
        "name": "ipython"
      }
    }
  },
  "nbformat": 4,
  "nbformat_minor": 2
}
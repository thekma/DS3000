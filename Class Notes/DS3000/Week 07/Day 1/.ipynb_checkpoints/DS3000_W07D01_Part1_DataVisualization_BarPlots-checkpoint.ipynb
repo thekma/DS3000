{
 "cells": [
  {
   "cell_type": "markdown",
   "metadata": {
    "slideshow": {
     "slide_type": "slide"
    }
   },
   "source": [
    "<center> <img src=\"res/ds3000.png\"> </center>"
   ]
  },
  {
   "cell_type": "markdown",
   "metadata": {},
   "source": [
    "<center> <h1> Week 7 - Day 1 </h1> </center>"
   ]
  },
  {
   "cell_type": "markdown",
   "metadata": {},
   "source": [
    "<center> <h2> Part 1: Data Visualization </h2></center>"
   ]
  },
  {
   "cell_type": "markdown",
   "metadata": {
    "slideshow": {
     "slide_type": "skip"
    }
   },
   "source": [
    "## Outline\n",
    "1. <a href='#1'>Data Visualization</a>\n",
    "2. <a href='#2'>Creating A Simple Bar Graph</a>\n",
    "3. <a href='#3'>Adding a Title</a>\n",
    "4. <a href='#4'>Adding Labels to Axes</a>\n",
    "5. <a href='#5'>Specifying the Color of the Bars</a>\n",
    "6. <a href='#6'>Specifying the Color of the Edges</a>\n",
    "7. <a href='#7'>Specifying the Width of the Edges</a>\n",
    "8. <a href='#8'>Specifiying the Color Palette</a>\n",
    "9. <a href='#9'>Creating A Bar Graph from a DataFrame</a>\n",
    "10. <a href='#10'>Saving a Seaborn Visualization</a>"
   ]
  },
  {
   "cell_type": "markdown",
   "metadata": {
    "slideshow": {
     "slide_type": "skip"
    }
   },
   "source": [
    "<a id=\"1\"></a>"
   ]
  },
  {
   "cell_type": "markdown",
   "metadata": {
    "slideshow": {
     "slide_type": "slide"
    }
   },
   "source": [
    "## 1. Data Visualization\n",
    "* Visualizations help you “get to know” your data. \n",
    "* Give you a powerful way to understand data that goes beyond simply looking at raw data.\n",
    "* Make it easier to identify patterns in data\n",
    "* Usually an integral step of Exploratory Data Analysis (EDA)"
   ]
  },
  {
   "cell_type": "markdown",
   "metadata": {
    "slideshow": {
     "slide_type": "subslide"
    }
   },
   "source": [
    "### 1.1. Matplotlib\n",
    "* Common data visualization library for Python\n",
    "* Built on NumPy arrays \n",
    "* Used to produce publication quality visualizations\n",
    "* https://matplotlib.org/"
   ]
  },
  {
   "cell_type": "markdown",
   "metadata": {
    "slideshow": {
     "slide_type": "subslide"
    }
   },
   "source": [
    "### Installing the Matplotlib Jupyter Extension \n",
    "> pip install ipympl"
   ]
  },
  {
   "cell_type": "markdown",
   "metadata": {
    "slideshow": {
     "slide_type": "subslide"
    }
   },
   "source": [
    "### Setting up Matplotlib\n",
    "* Need to set up matplotlib in Jupyter Notebook, before we can import the library package\n",
    "* Two setups:\n",
    "    * **%matplotlib**: visualizations are displayed in a new window (gtk backend)\n",
    "    * **%matplotlib notebook**: visualizations are displayed inline as Notebook cells (interactive backend)"
   ]
  },
  {
   "cell_type": "code",
   "execution_count": null,
   "metadata": {},
   "outputs": [],
   "source": [
    "import matplotlib.pyplot as plt"
   ]
  },
  {
   "cell_type": "code",
   "execution_count": null,
   "metadata": {},
   "outputs": [],
   "source": [
    "%matplotlib notebook"
   ]
  },
  {
   "cell_type": "markdown",
   "metadata": {
    "slideshow": {
     "slide_type": "subslide"
    }
   },
   "source": [
    "### 1.2. Seaborn\n",
    "* A statistical graphics library\n",
    "    * https://seaborn.pydata.org/index.html\n",
    "* Built over Matplotlib\n",
    "* Simplifies many of Matplotlib's complex procedures for producing common visualization types\n",
    "* Prettifies Matplotlib visualizations"
   ]
  },
  {
   "cell_type": "code",
   "execution_count": null,
   "metadata": {},
   "outputs": [],
   "source": [
    "import seaborn as sns"
   ]
  },
  {
   "cell_type": "markdown",
   "metadata": {
    "slideshow": {
     "slide_type": "skip"
    }
   },
   "source": [
    "<a id=\"2\"></a>"
   ]
  },
  {
   "cell_type": "markdown",
   "metadata": {
    "slideshow": {
     "slide_type": "slide"
    }
   },
   "source": [
    "## 2. Creating A Simple Bar Graph\n",
    "* Commonly used to show comparisons among groups or categories on a numeric value\n",
    "    * x-axis shows the categories being compared\n",
    "    * y-axis shows a numeric value for these categories\n",
    "\n",
    "\n",
    "\n",
    "* Use the **barplot()** method in the Seaborn library"
   ]
  },
  {
   "cell_type": "markdown",
   "metadata": {
    "slideshow": {
     "slide_type": "subslide"
    }
   },
   "source": [
    "https://www.youtube.com/watch?v=7iGTlfmjtQU"
   ]
  },
  {
   "cell_type": "code",
   "execution_count": null,
   "metadata": {},
   "outputs": [],
   "source": [
    "#Hogwarts House Points 1991-1992\n",
    "house_names = [\"Gryffindor\", \"Hufflepuff\", \"Ravenclaw\", \"Slytherin\"]\n",
    "house_points = [482, 352, 426, 472]"
   ]
  },
  {
   "cell_type": "code",
   "execution_count": null,
   "metadata": {
    "slideshow": {
     "slide_type": "subslide"
    }
   },
   "outputs": [],
   "source": [
    "import seaborn as sns\n",
    "\n",
    "# create and display the bar plot\n",
    "graph = sns.barplot(x=house_names, y=house_points)"
   ]
  },
  {
   "cell_type": "markdown",
   "metadata": {
    "slideshow": {
     "slide_type": "subslide"
    }
   },
   "source": [
    "> ```python\n",
    "graph = sns.barplot(x=house_names, y=house_points)\n",
    "```\n",
    "\n",
    "* **x** corresponds to the labels to display on the x-axis\n",
    "* **y** corresponds to values to display on the y-axis\n",
    "* **graph** becomes a Seaborn object (Matplotlib axes object, more precisely) with the visualization you requested"
   ]
  },
  {
   "cell_type": "code",
   "execution_count": null,
   "metadata": {},
   "outputs": [],
   "source": [
    "import seaborn as sns\n",
    "# create and display the bar plot\n",
    "graph = sns.barplot(x=[\"Gryffindor\", \"Hufflepuff\", \"Ravenclaw\", \"Slytherin\"], y=[482, 352, 426, 472])"
   ]
  },
  {
   "cell_type": "code",
   "execution_count": null,
   "metadata": {},
   "outputs": [],
   "source": [
    "type(graph)"
   ]
  },
  {
   "cell_type": "markdown",
   "metadata": {
    "slideshow": {
     "slide_type": "skip"
    }
   },
   "source": [
    "<a id=\"3\"></a>"
   ]
  },
  {
   "cell_type": "markdown",
   "metadata": {
    "slideshow": {
     "slide_type": "slide"
    }
   },
   "source": [
    "## 3. Adding a Title\n",
    "* Use the **set_title()** method of the Seaborn object"
   ]
  },
  {
   "cell_type": "code",
   "execution_count": null,
   "metadata": {},
   "outputs": [],
   "source": [
    "import seaborn as sns\n",
    "\n",
    "# create and display the bar plot\n",
    "graph = sns.barplot(x=house_names, y=house_points)\n",
    "\n",
    "#specify the title\n",
    "title = \"House Points\"\n",
    "\n",
    "#set the title of the plot\n",
    "graph.set_title(title)"
   ]
  },
  {
   "cell_type": "markdown",
   "metadata": {
    "slideshow": {
     "slide_type": "skip"
    }
   },
   "source": [
    "<a id=\"4\"></a>"
   ]
  },
  {
   "cell_type": "markdown",
   "metadata": {
    "slideshow": {
     "slide_type": "slide"
    }
   },
   "source": [
    "## 4. Adding Labels to Axes\n",
    "* Use **set_xlabel(\"labelname\")** and **set_ylabel(\"labelname)**\n",
    "    * Alternatively, use **set()** method and specify **xlabel** and **ylabel** keyword arguments"
   ]
  },
  {
   "cell_type": "code",
   "execution_count": null,
   "metadata": {},
   "outputs": [],
   "source": [
    "import seaborn as sns\n",
    "\n",
    "# create and display the bar plot\n",
    "graph = sns.barplot(x=house_names, y=house_points)\n",
    "\n",
    "#specify the title\n",
    "title = \"House Points\"\n",
    "\n",
    "#set the title of the plot\n",
    "graph.set_title(title, size = 16)\n",
    "\n",
    "#add labels to the axes  \n",
    "graph.set_xlabel(\"House\", size = 16)\n",
    "graph.set_ylabel(\"Points\", size = 16)"
   ]
  },
  {
   "cell_type": "markdown",
   "metadata": {
    "slideshow": {
     "slide_type": "skip"
    }
   },
   "source": [
    "<a id=\"5\"></a>"
   ]
  },
  {
   "cell_type": "markdown",
   "metadata": {
    "slideshow": {
     "slide_type": "slide"
    }
   },
   "source": [
    "## 5. Specifying the Color of the Bars\n",
    "* Specify the \"color\" keyword argument in sns.barplot() method call\n",
    "* Accepts Matplotlib color letters:\n",
    "    * b: blue\n",
    "    * g: green\n",
    "    * r: red\n",
    "    * c: cyan\n",
    "    * m: magenta\n",
    "    * y: yellow\n",
    "    * k: black\n",
    "    * w: white"
   ]
  },
  {
   "cell_type": "code",
   "execution_count": null,
   "metadata": {
    "slideshow": {
     "slide_type": "subslide"
    }
   },
   "outputs": [],
   "source": [
    "import seaborn as sns\n",
    "\n",
    "# create and display the bar plot\n",
    "graph = sns.barplot(x=house_names, y=house_points, color = \"r\")\n",
    "\n",
    "#specify the title\n",
    "title = \"House Points\"\n",
    "\n",
    "#set the title of the plot\n",
    "graph.set_title(title, size = 16)\n",
    "\n",
    "#add labels to the axes  \n",
    "graph.set_xlabel(\"House\", size = 16)\n",
    "graph.set_ylabel(\"Points\", size = 16)"
   ]
  },
  {
   "cell_type": "markdown",
   "metadata": {
    "slideshow": {
     "slide_type": "subslide"
    }
   },
   "source": [
    "### 5.1. Passing in Hex color codes\n",
    "* Can use the hex or rgb code of the color as well:\n",
    "    * HEX code for Northeastern's red color is #d4202f\n",
    "    * Its RGB values are (212, 32, 47)"
   ]
  },
  {
   "cell_type": "code",
   "execution_count": null,
   "metadata": {},
   "outputs": [],
   "source": [
    "import seaborn as sns\n",
    "\n",
    "# create and display the bar plot\n",
    "graph = sns.barplot(x=house_names, y=house_points, color = \"#d4202f\")\n",
    "\n",
    "#specify the title\n",
    "title = \"House Points\"\n",
    "\n",
    "#set the title of the plot\n",
    "graph.set_title(title, size = 16)\n",
    "\n",
    "#add labels to the axes  \n",
    "graph.set_xlabel(\"House\", size = 16)\n",
    "graph.set_ylabel(\"Points\", size = 16)"
   ]
  },
  {
   "cell_type": "markdown",
   "metadata": {
    "slideshow": {
     "slide_type": "subslide"
    }
   },
   "source": [
    "### 5.2. Passing in an RGB color\n",
    "* RGB values are passed in as a tuple\n",
    "* Seaborn and matplotlib uses float values for RGB color codes\n",
    "* Simply divide your RGB color values (int) by 255 to get the float values for the same color"
   ]
  },
  {
   "cell_type": "code",
   "execution_count": null,
   "metadata": {},
   "outputs": [],
   "source": [
    "import seaborn as sns\n",
    "\n",
    "# create and display the bar plot\n",
    "graph = sns.barplot(x=house_names, y=house_points, color = (212/255, 32/255, 47/255))\n",
    "\n",
    "#specify the title\n",
    "title = \"House Points\"\n",
    "\n",
    "#set the title of the plot\n",
    "graph.set_title(title, size = 16)\n",
    "\n",
    "#add labels to the axes  \n",
    "graph.set_xlabel(\"House\", size = 16)\n",
    "graph.set_ylabel(\"Points\", size = 16)"
   ]
  },
  {
   "cell_type": "markdown",
   "metadata": {
    "slideshow": {
     "slide_type": "skip"
    }
   },
   "source": [
    "<a id=\"6\"></a>"
   ]
  },
  {
   "cell_type": "markdown",
   "metadata": {
    "slideshow": {
     "slide_type": "slide"
    }
   },
   "source": [
    "## 6. Specifying the Color of the Edges\n",
    "* Use the **edgecolor** keyword argument in **sns.barplot()** method call"
   ]
  },
  {
   "cell_type": "code",
   "execution_count": null,
   "metadata": {},
   "outputs": [],
   "source": [
    "import seaborn as sns\n",
    "\n",
    "sns.set_context(rc = {'patch.linewidth': 1})\n",
    "# create and display the bar plot\n",
    "graph = sns.barplot(x=house_names, y=house_points, color = \"#d4202f\", edgecolor = \"k\")\n",
    "\n",
    "#specify the title\n",
    "title = \"House Points\"\n",
    "\n",
    "#set the title of the plot\n",
    "graph.set_title(title, size = 16)\n",
    "\n",
    "#add labels to the axes  \n",
    "graph.set_xlabel(\"House\", size = 16)\n",
    "graph.set_ylabel(\"Points\", size = 16)\n"
   ]
  },
  {
   "cell_type": "markdown",
   "metadata": {
    "slideshow": {
     "slide_type": "skip"
    }
   },
   "source": [
    "<a id=\"7\"></a>"
   ]
  },
  {
   "cell_type": "markdown",
   "metadata": {
    "slideshow": {
     "slide_type": "slide"
    }
   },
   "source": [
    "## 7. Specifying the Width of the Edges\n",
    "* Use **set_context()** method with the following argument:\n",
    "    * rc = {'patch.linewidth': 1}"
   ]
  },
  {
   "cell_type": "code",
   "execution_count": null,
   "metadata": {},
   "outputs": [],
   "source": [
    "import seaborn as sns\n",
    "\n",
    "#set the width of the edges of the bar\n",
    "#set the width before producing the graph\n",
    "sns.set_context(rc = {'patch.linewidth': 2})\n",
    "\n",
    "# create and display the bar plot\n",
    "graph = sns.barplot(x=house_names, y=house_points, color = \"#d4202f\", edgecolor = \"k\")\n",
    "\n",
    "\n",
    "#specify the title\n",
    "title = \"House Points\"\n",
    "\n",
    "#set the title of the plot\n",
    "graph.set_title(title, size = 16)\n",
    "\n",
    "#add labels to the axes  \n",
    "graph.set_xlabel(\"House\", size = 16)\n",
    "graph.set_ylabel(\"Points\", size = 16)\n"
   ]
  },
  {
   "cell_type": "markdown",
   "metadata": {
    "slideshow": {
     "slide_type": "skip"
    }
   },
   "source": [
    "<a id=\"8\"></a>"
   ]
  },
  {
   "cell_type": "markdown",
   "metadata": {
    "slideshow": {
     "slide_type": "slide"
    }
   },
   "source": [
    "## 8. Specifiying the Color Palette\n",
    "* Use **sns.set_palette(palette_name)**\n",
    "* Or specify the palette keyword argument in **sns.barplot()** method call\n",
    "* Built-in palettes:\n",
    "    * pastel\n",
    "    * muted\n",
    "    * bright\n",
    "    * deep\n",
    "    * dark\n",
    "    * colorblind\n",
    "* https://seaborn.pydata.org/tutorial/color_palettes.html"
   ]
  },
  {
   "cell_type": "markdown",
   "metadata": {
    "slideshow": {
     "slide_type": "subslide"
    }
   },
   "source": [
    "#### Built-in Color Palettes\n",
    "<img src = \"res/color_palettes.png\" />\n"
   ]
  },
  {
   "cell_type": "code",
   "execution_count": null,
   "metadata": {},
   "outputs": [],
   "source": [
    "#displays current palette colors\n",
    "sns.palplot(sns.color_palette())"
   ]
  },
  {
   "cell_type": "code",
   "execution_count": null,
   "metadata": {
    "slideshow": {
     "slide_type": "subslide"
    }
   },
   "outputs": [],
   "source": [
    "sns.set_palette(\"colorblind\")"
   ]
  },
  {
   "cell_type": "code",
   "execution_count": null,
   "metadata": {
    "slideshow": {
     "slide_type": "-"
    }
   },
   "outputs": [],
   "source": [
    "#displays current palette colors\n",
    "sns.palplot(sns.color_palette())"
   ]
  },
  {
   "cell_type": "code",
   "execution_count": null,
   "metadata": {
    "slideshow": {
     "slide_type": "subslide"
    }
   },
   "outputs": [],
   "source": [
    "import seaborn as sns\n",
    "\n",
    "# create and display the bar plot\n",
    "graph = sns.barplot(x=house_names, y=house_points, palette=\"colorblind\")\n",
    "\n",
    "#specify the title\n",
    "title = \"House Points\"\n",
    "\n",
    "#set the title of the plot\n",
    "graph.set_title(title, size = 16)\n",
    "\n",
    "#add labels to the axes  \n",
    "graph.set_xlabel(\"House\", size = 16)\n",
    "graph.set_ylabel(\"Points\", size = 16)"
   ]
  },
  {
   "cell_type": "markdown",
   "metadata": {
    "slideshow": {
     "slide_type": "subslide"
    }
   },
   "source": [
    "### 8.1. Specific Palette Colors\n",
    "* Can pass in a list of specific palette colors to use for the bars\n",
    "* List of color names available at https://xkcd.com/color/rgb/"
   ]
  },
  {
   "cell_type": "code",
   "execution_count": null,
   "metadata": {
    "slideshow": {
     "slide_type": "subslide"
    }
   },
   "outputs": [],
   "source": [
    "import seaborn as sns\n",
    "\n",
    "# create and display the bar plot\n",
    "graph = sns.barplot(x=house_names, y=house_points, palette=[\"darkred\", \"gold\", \"darkblue\", \"darkgreen\"])\n",
    "\n",
    "#specify the title\n",
    "title = \"House Points\"\n",
    "\n",
    "#set the title of the plot\n",
    "graph.set_title(title, size = 16)\n",
    "\n",
    "#add labels to the axes  \n",
    "graph.set_xlabel(\"House\", size = 16)\n",
    "graph.set_ylabel(\"Points\", size = 16)"
   ]
  },
  {
   "cell_type": "markdown",
   "metadata": {
    "slideshow": {
     "slide_type": "subslide"
    }
   },
   "source": [
    "* Can use a list of hex color codes too"
   ]
  },
  {
   "cell_type": "code",
   "execution_count": null,
   "metadata": {},
   "outputs": [],
   "source": [
    "hogwarts_colors = [\"#8b0000\", \"#FFD700\", \"#00316e\", \"#013220\"]\n",
    "\n",
    "sns.set_palette(sns.color_palette(hogwarts_colors))"
   ]
  },
  {
   "cell_type": "code",
   "execution_count": null,
   "metadata": {
    "slideshow": {
     "slide_type": "subslide"
    }
   },
   "outputs": [],
   "source": [
    "import seaborn as sns\n",
    "\n",
    "# create and display the bar plot\n",
    "graph = sns.barplot(x=house_names, y=house_points, palette= hogwarts_colors)\n",
    "\n",
    "#specify the title\n",
    "title = \"House Points\"\n",
    "\n",
    "#set the title of the plot\n",
    "graph.set_title(title, size = 16)\n",
    "\n",
    "#add labels to the axes  \n",
    "graph.set_xlabel(\"House\", size = 16)\n",
    "graph.set_ylabel(\"Points\", size = 16)"
   ]
  },
  {
   "cell_type": "markdown",
   "metadata": {
    "slideshow": {
     "slide_type": "skip"
    }
   },
   "source": [
    "<a id=\"9\"></a>"
   ]
  },
  {
   "cell_type": "markdown",
   "metadata": {
    "slideshow": {
     "slide_type": "slide"
    }
   },
   "source": [
    "## 9. Creating A Bar Graph from a DataFrame\n",
    "* In the .barplot() method cal, specify the name of the dataframe in the **data** keyword argument \n",
    "    * x= the DataFrame column name for x-axis labels\n",
    "    * y= the DataFrame column name for y-axis values"
   ]
  },
  {
   "cell_type": "code",
   "execution_count": null,
   "metadata": {},
   "outputs": [],
   "source": [
    "import pandas as pd"
   ]
  },
  {
   "cell_type": "code",
   "execution_count": null,
   "metadata": {},
   "outputs": [],
   "source": [
    "df = pd.read_csv(\"res/ave_grades.csv\")"
   ]
  },
  {
   "cell_type": "code",
   "execution_count": null,
   "metadata": {
    "slideshow": {
     "slide_type": "subslide"
    }
   },
   "outputs": [],
   "source": [
    "df_grades = df.groupby(\"House\").mean()"
   ]
  },
  {
   "cell_type": "code",
   "execution_count": null,
   "metadata": {
    "slideshow": {
     "slide_type": "-"
    }
   },
   "outputs": [],
   "source": [
    "df_grades = df_grades.reset_index()"
   ]
  },
  {
   "cell_type": "code",
   "execution_count": null,
   "metadata": {},
   "outputs": [],
   "source": [
    "df_grades"
   ]
  },
  {
   "cell_type": "code",
   "execution_count": null,
   "metadata": {
    "slideshow": {
     "slide_type": "subslide"
    }
   },
   "outputs": [],
   "source": [
    "import seaborn as sns\n",
    "\n",
    "# create and display the bar plot\n",
    "graph = sns.barplot(x=\"House\", y=\"Potion_Ave\", data = df_grades, palette= hogwarts_colors)\n",
    "\n",
    "#specify the title\n",
    "title = \"Potion Grades\"\n",
    "\n",
    "#set the title of the plot\n",
    "graph.set_title(title, size = 16)\n",
    "\n",
    "#add labels to the axes  \n",
    "graph.set_xlabel(\"House\", size = 16)\n",
    "graph.set_ylabel(\"Potion_Ave\", size = 16)"
   ]
  },
  {
   "cell_type": "markdown",
   "metadata": {},
   "source": [
    "<a id=\"10\"></a>"
   ]
  },
  {
   "cell_type": "markdown",
   "metadata": {
    "slideshow": {
     "slide_type": "slide"
    }
   },
   "source": [
    "## 10. Saving a Seaborn Visualization"
   ]
  },
  {
   "cell_type": "code",
   "execution_count": null,
   "metadata": {},
   "outputs": [],
   "source": [
    "graph.figure.savefig(\"house_points.png\")"
   ]
  }
 ],
 "metadata": {
  "celltoolbar": "Slideshow",
  "kernelspec": {
   "display_name": "Python 3",
   "language": "python",
   "name": "python3"
  },
  "language_info": {
   "codemirror_mode": {
    "name": "ipython",
    "version": 3
   },
   "file_extension": ".py",
   "mimetype": "text/x-python",
   "name": "python",
   "nbconvert_exporter": "python",
   "pygments_lexer": "ipython3",
   "version": "3.6.5"
  }
 },
 "nbformat": 4,
 "nbformat_minor": 2
}

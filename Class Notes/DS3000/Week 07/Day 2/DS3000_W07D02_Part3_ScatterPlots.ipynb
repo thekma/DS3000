{
 "cells": [
  {
   "cell_type": "markdown",
   "metadata": {
    "slideshow": {
     "slide_type": "slide"
    }
   },
   "source": [
    "<center> <img src=\"res/ds3000.png\"> </center>"
   ]
  },
  {
   "cell_type": "markdown",
   "metadata": {},
   "source": [
    "<center> <h1> Week 7 - Day 2 </h1> </center>"
   ]
  },
  {
   "cell_type": "markdown",
   "metadata": {},
   "source": [
    "<center> <h2> Part 3: Scatter Plots in Plotly </h2></center>"
   ]
  },
  {
   "cell_type": "markdown",
   "metadata": {
    "slideshow": {
     "slide_type": "skip"
    }
   },
   "source": [
    "## Outline\n",
    "1. <a href='#1'>Scatter Plots in Plotly</a>\n",
    "2. <a href='#2'>Adding Animations to Plots</a>"
   ]
  },
  {
   "cell_type": "markdown",
   "metadata": {
    "slideshow": {
     "slide_type": "skip"
    }
   },
   "source": [
    "<a id=\"1\"></a>"
   ]
  },
  {
   "cell_type": "markdown",
   "metadata": {
    "slideshow": {
     "slide_type": "slide"
    }
   },
   "source": [
    "## 1. Scatter Plots in Plotly\n",
    "* Use the **px.scatter()** method\n",
    "* https://www.plotly.express/plotly_express/index.html#plotly_express.scatter"
   ]
  },
  {
   "cell_type": "code",
   "execution_count": null,
   "metadata": {},
   "outputs": [],
   "source": [
    "import pandas as pd\n",
    "world_data = pd.read_csv(\"res/life_income.csv\")\n",
    "world_data.head()"
   ]
  },
  {
   "cell_type": "code",
   "execution_count": null,
   "metadata": {},
   "outputs": [],
   "source": [
    "import plotly.express as px\n",
    "\n",
    "fig = px.scatter(world_data, x=\"Income\", y=\"LifeExpectancy\", size = \"Population\",\n",
    "                    hover_name = \"Country\", template=\"none\", size_max = 50,\n",
    "                    title='Relationship between Income(GDP per capita) and Life Expectancy')\n",
    "\n",
    "#modify axis label properties\n",
    "fig.update_xaxes(title_font={\"size\":18, \"family\": \"Courier\", \"color\":\"gray\"}, \n",
    "                 tickfont = {\"size\":16, \"family\": \"Courier\", \"color\":\"gray\"})\n",
    "fig.update_yaxes(title_font={\"size\":18, \"family\": \"Courier\", \"color\":\"gray\"}, \n",
    "                            tickfont = {\"size\":16, \"family\": \"Courier\", \"color\":\"gray\"})\n",
    "\n",
    "fig.show()"
   ]
  },
  {
   "cell_type": "markdown",
   "metadata": {
    "slideshow": {
     "slide_type": "skip"
    }
   },
   "source": [
    "<a id=\"2\"></a>"
   ]
  },
  {
   "cell_type": "markdown",
   "metadata": {
    "slideshow": {
     "slide_type": "slide"
    }
   },
   "source": [
    "## 2. Adding Animations to Plots\n",
    "* Most Plotly Express plots support animated charting\n",
    "* Can use the **animation_frame** and **animation_group** arguments\n",
    "    * **animation_frame**: Specifies the column from which the markers of the animation timeline should be derived. This is usually a time or another quantitative variable\n",
    "    * **animation_group**: Specifies the column that should be displayed constantly across the frames of the animation. This is the row you want to animate."
   ]
  },
  {
   "cell_type": "code",
   "execution_count": null,
   "metadata": {},
   "outputs": [],
   "source": [
    "world_years = pd.read_csv(\"res/world_data_years.csv\")\n",
    "world_years"
   ]
  },
  {
   "cell_type": "code",
   "execution_count": null,
   "metadata": {
    "slideshow": {
     "slide_type": "subslide"
    }
   },
   "outputs": [],
   "source": [
    "import plotly.express as px\n",
    "\n",
    "fig = px.scatter(world_years, x=\"Income\", y=\"LifeExpectancy\", size = \"Population\",\n",
    "                     animation_frame = \"Year\", animation_group = \"Country\",\n",
    "                    hover_name = \"Country\", size_max = 50,\n",
    "                    title='Relationship between Income(GDP per capita) and Life Expectancy over Years')\n",
    "\n",
    "#modify axis label properties\n",
    "fig.update_xaxes(title_font={\"size\":18, \"family\": \"Courier\", \"color\":\"gray\"}, \n",
    "                 tickfont = {\"size\":16, \"family\": \"Courier\", \"color\":\"gray\"})\n",
    "fig.update_yaxes(title_font={\"size\":18, \"family\": \"Courier\", \"color\":\"gray\"}, \n",
    "                            tickfont = {\"size\":16, \"family\": \"Courier\", \"color\":\"gray\"})\n",
    "\n",
    "fig.show()"
   ]
  },
  {
   "cell_type": "markdown",
   "metadata": {
    "slideshow": {
     "slide_type": "subslide"
    }
   },
   "source": [
    "#### Specify x and y ranges using range_x and range_y"
   ]
  },
  {
   "cell_type": "code",
   "execution_count": null,
   "metadata": {},
   "outputs": [],
   "source": [
    "import plotly.express as px\n",
    "\n",
    "fig = px.scatter(world_years, x=\"Income\", y=\"LifeExpectancy\", size = \"Population\",\n",
    "                     animation_frame = \"Year\", animation_group = \"Country\",\n",
    "                     range_x=[100,100000], range_y=[25,90],\n",
    "                    hover_name = \"Country\", size_max = 50,\n",
    "                    title='Relationship between Income(GDP per capita) and Life Expectancy over Years')\n",
    "\n",
    "#modify axis label properties\n",
    "fig.update_xaxes(title_font={\"size\":18, \"family\": \"Courier\", \"color\":\"gray\"}, \n",
    "                 tickfont = {\"size\":16, \"family\": \"Courier\", \"color\":\"gray\"})\n",
    "fig.update_yaxes(title_font={\"size\":18, \"family\": \"Courier\", \"color\":\"gray\"}, \n",
    "                            tickfont = {\"size\":16, \"family\": \"Courier\", \"color\":\"gray\"})\n",
    "\n",
    "fig.show()"
   ]
  },
  {
   "cell_type": "markdown",
   "metadata": {
    "slideshow": {
     "slide_type": "subslide"
    }
   },
   "source": [
    "#### Add Colors to the Bubbles"
   ]
  },
  {
   "cell_type": "code",
   "execution_count": null,
   "metadata": {},
   "outputs": [],
   "source": [
    "import plotly.express as px\n",
    "\n",
    "fig = px.scatter(world_years, x=\"Income\", y=\"LifeExpectancy\", size = \"Population\", color = \"Continent\",\n",
    "                    animation_frame = \"Year\", animation_group = \"Country\",\n",
    "                    range_x=[100,100000], range_y=[25,90],\n",
    "                    hover_name = \"Country\", size_max = 50,\n",
    "                    title='Relationship between Income(GDP per capita) and Life Expectancy over Years')\n",
    "\n",
    "#modify axis label properties\n",
    "fig.update_xaxes(title_font={\"size\":18, \"family\": \"Courier\", \"color\":\"gray\"}, \n",
    "                 tickfont = {\"size\":16, \"family\": \"Courier\", \"color\":\"gray\"})\n",
    "fig.update_yaxes(title_font={\"size\":18, \"family\": \"Courier\", \"color\":\"gray\"}, \n",
    "                            tickfont = {\"size\":16, \"family\": \"Courier\", \"color\":\"gray\"})\n",
    "\n",
    "fig.show()"
   ]
  },
  {
   "cell_type": "code",
   "execution_count": null,
   "metadata": {},
   "outputs": [],
   "source": [
    "import plotly\n",
    "\n",
    "plotly.offline.plot(fig, filename='res/world.html') "
   ]
  },
  {
   "cell_type": "markdown",
   "metadata": {
    "slideshow": {
     "slide_type": "subslide"
    }
   },
   "source": [
    "### 2.1. Animated Bar Plots"
   ]
  },
  {
   "cell_type": "code",
   "execution_count": null,
   "metadata": {},
   "outputs": [],
   "source": [
    "df = pd.read_csv(\"res/all_house_points_years.csv\")\n",
    "df.head()"
   ]
  },
  {
   "cell_type": "code",
   "execution_count": null,
   "metadata": {},
   "outputs": [],
   "source": [
    "import plotly.express as px\n",
    "\n",
    "fig = px.bar(df, x=\"House\", y=\"Points\", color = \"Type\",\n",
    "              animation_frame = \"Year\", animation_group = \"House\",\n",
    "              \n",
    "              title='House Points for Gryffindor', template=\"none\")\n",
    "\n",
    "#modify axis label properties\n",
    "fig.update_xaxes(title_font={\"size\":18, \"family\": \"Courier\", \"color\":\"gray\"}, \n",
    "                 tickfont = {\"size\":16, \"family\": \"Courier\", \"color\":\"gray\"})\n",
    "fig.update_yaxes(title_font={\"size\":18, \"family\": \"Courier\", \"color\":\"gray\"}, \n",
    "                            tickfont = {\"size\":16, \"family\": \"Courier\", \"color\":\"gray\"})\n",
    "\n",
    "fig.show()"
   ]
  },
  {
   "cell_type": "code",
   "execution_count": null,
   "metadata": {},
   "outputs": [],
   "source": []
  }
 ],
 "metadata": {
  "celltoolbar": "Slideshow",
  "kernelspec": {
   "display_name": "Python 3",
   "language": "python",
   "name": "python3"
  },
  "language_info": {
   "codemirror_mode": {
    "name": "ipython",
    "version": 3
   },
   "file_extension": ".py",
   "mimetype": "text/x-python",
   "name": "python",
   "nbconvert_exporter": "python",
   "pygments_lexer": "ipython3",
   "version": "3.7.3"
  }
 },
 "nbformat": 4,
 "nbformat_minor": 2
}

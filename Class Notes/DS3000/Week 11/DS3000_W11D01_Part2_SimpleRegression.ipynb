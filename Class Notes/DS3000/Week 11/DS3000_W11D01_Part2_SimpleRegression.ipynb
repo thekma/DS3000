{
 "cells": [
  {
   "cell_type": "markdown",
   "metadata": {
    "slideshow": {
     "slide_type": "slide"
    }
   },
   "source": [
    "<center> <img src=\"res/ds3000.png\"> </center>"
   ]
  },
  {
   "cell_type": "markdown",
   "metadata": {},
   "source": [
    "<center> <h1> Week 11 - Day 1 </h1> </center>"
   ]
  },
  {
   "cell_type": "markdown",
   "metadata": {},
   "source": [
    "<center> <h2> Part 1: Simple Linear Regression</h2></center>"
   ]
  },
  {
   "cell_type": "markdown",
   "metadata": {
    "slideshow": {
     "slide_type": "skip"
    }
   },
   "source": [
    "## Outline\n",
    "1. <a href='#1'>Simple Linear Regression</a>\n",
    "2. <a href='#2'>Data Preparation</a>\n",
    "3. <a href='#3'>Training the Regression Model</a>\n",
    "4. <a href='#4'>Predicting Temperatures</a>\n",
    "5. <a href='#5'>Testing the Model</a>\n",
    "6. <a href='#6'>Regression Model Metrics</a>\n",
    "7. <a href='#7'>Visualizing the Simple Linear Regression Model</a>"
   ]
  },
  {
   "cell_type": "markdown",
   "metadata": {
    "slideshow": {
     "slide_type": "skip"
    }
   },
   "source": [
    "<a id=\"1\"></a>"
   ]
  },
  {
   "cell_type": "markdown",
   "metadata": {
    "slideshow": {
     "slide_type": "slide"
    }
   },
   "source": [
    "## 1. Simple Linear Regression\n",
    "* Simple linear regression is the simplest regression algorithm\n",
    "* Given a collection of numeric values representing a predictor variable and an outcome variable, simple linear regression describes the relationship between these variables with a straight line, known as **the regression line**\n"
   ]
  },
  {
   "cell_type": "markdown",
   "metadata": {
    "slideshow": {
     "slide_type": "subslide"
    }
   },
   "source": [
    "### 1.1. Time Series Data for Average Boston November Temperature\n",
    "* Data obtained from https://www.ncdc.noaa.gov/cag/\n",
    "    * the November average temperatures for Boston from 1936 through 2018\n",
    "* Three columns per observation:\n",
    "    * Date—A value of the form 'YYYYMM’ (such as '201011'). MM is always 11 because we downloaded data for only November of each year.\n",
    "    * Value—A floating-point Fahrenheit temperature.\n",
    "    * Anomaly—The difference between the value for the given date and average values for all dates (not used in this case study)"
   ]
  },
  {
   "cell_type": "code",
   "execution_count": null,
   "metadata": {},
   "outputs": [],
   "source": [
    "import pandas as pd\n",
    "df = pd.read_csv('res/boston_weather.csv')\n",
    "df.columns = [\"Date\", \"Temperature\", \"Anomaly\"]\n",
    "df.head()"
   ]
  },
  {
   "cell_type": "markdown",
   "metadata": {
    "slideshow": {
     "slide_type": "skip"
    }
   },
   "source": [
    "<a id=\"2\"></a>"
   ]
  },
  {
   "cell_type": "markdown",
   "metadata": {
    "slideshow": {
     "slide_type": "slide"
    }
   },
   "source": [
    "## 2.  Data Preparation\n",
    "* Need to do some data munging to get rid of the month digits in dates and delete the Anomaly column"
   ]
  },
  {
   "cell_type": "code",
   "execution_count": null,
   "metadata": {
    "slideshow": {
     "slide_type": "-"
    }
   },
   "outputs": [],
   "source": [
    "df.head()"
   ]
  },
  {
   "cell_type": "code",
   "execution_count": null,
   "metadata": {},
   "outputs": [],
   "source": [
    "#TODO in class"
   ]
  },
  {
   "cell_type": "code",
   "execution_count": null,
   "metadata": {},
   "outputs": [],
   "source": [
    "#TODO in class"
   ]
  },
  {
   "cell_type": "code",
   "execution_count": null,
   "metadata": {},
   "outputs": [],
   "source": [
    "df.head()"
   ]
  },
  {
   "cell_type": "markdown",
   "metadata": {},
   "source": [
    "### 2.1. Transforming the Date Column\n",
    "* For simple linear regression select one feature (the Date here) as the predictor variable\n",
    "    * A column in DataFrame is a one-dimensional Series\n",
    "    * Scikit-learn estimators require training and testing data to be two-dimensional\n",
    "    * Need to transform Series of n elements, into two dimensions containing n rows and one column"
   ]
  },
  {
   "cell_type": "code",
   "execution_count": null,
   "metadata": {
    "slideshow": {
     "slide_type": "-"
    }
   },
   "outputs": [],
   "source": [
    "features = df[\"Date\"].values.reshape(-1, 1)\n",
    "features.shape"
   ]
  },
  {
   "cell_type": "code",
   "execution_count": null,
   "metadata": {},
   "outputs": [],
   "source": [
    "features[:5]"
   ]
  },
  {
   "cell_type": "markdown",
   "metadata": {},
   "source": [
    "* df[\"Date\"].values returns NumPy array containing Date column’s values\n",
    "* reshape(-1, 1) tells reshape to infer the number of rows, based on the number of columns (1) and the number of elements (124) in the array\n",
    "* Transformed array will have 83 rows and one column"
   ]
  },
  {
   "cell_type": "code",
   "execution_count": null,
   "metadata": {
    "slideshow": {
     "slide_type": "subslide"
    }
   },
   "outputs": [],
   "source": [
    "target = df[\"Temperature\"]\n",
    "target"
   ]
  },
  {
   "cell_type": "markdown",
   "metadata": {},
   "source": [
    "### 2.2. Correlation Analysis\n",
    "* Use SciPy's pearsonr() method"
   ]
  },
  {
   "cell_type": "code",
   "execution_count": null,
   "metadata": {},
   "outputs": [],
   "source": [
    "from scipy import stats\n",
    "\n",
    "r, p = stats.pearsonr(#TODO in class)\n",
    "print(\"correlation coefficient: \", r, \"p-value:\", p)"
   ]
  },
  {
   "cell_type": "markdown",
   "metadata": {
    "slideshow": {
     "slide_type": "skip"
    }
   },
   "source": [
    "<a id=\"3\"></a>"
   ]
  },
  {
   "cell_type": "markdown",
   "metadata": {
    "slideshow": {
     "slide_type": "slide"
    }
   },
   "source": [
    "## 3. Training the Regression Model\n",
    "* Use the LinearRegression() estimator\n",
    "* To find the best fitting regression line for the data, the LinearRegression estimator iteratively adjusts the slope and intercept to minimize the sum of the squares of the data points’ distances from the line"
   ]
  },
  {
   "cell_type": "code",
   "execution_count": null,
   "metadata": {},
   "outputs": [],
   "source": [
    "from sklearn.linear_model import LinearRegression\n",
    "from sklearn.model_selection import train_test_split\n",
    "\n",
    "\n",
    "#split data into training and testing sets\n",
    "X_train, X_test, y_train, y_test = train_test_split(features, target, random_state=3000)\n",
    "\n",
    "#select a classifier and create the model by fitting the training data\n",
    "model = LinearRegression().fit(X=X_train, y=y_train)\n"
   ]
  },
  {
   "cell_type": "markdown",
   "metadata": {
    "slideshow": {
     "slide_type": "subslide"
    }
   },
   "source": [
    "### 3.1. Regression Line Equation\n",
    "* Once the model is fitted, the estimator calculates the **slope** and **intercept** \n",
    "* We can make **predictions** with \n",
    "\n",
    "\\begin{equation}\n",
    "y = m x + b\n",
    "\\end{equation}\n",
    "\n",
    "* Slope is the estimator’s **`coef_`** attribute (**m** in the equation) \n",
    "* Intercept is the estimator’s **`intercept_`** attribute (**b** in the equation)"
   ]
  },
  {
   "cell_type": "code",
   "execution_count": null,
   "metadata": {},
   "outputs": [],
   "source": [
    "slope = model.coef_\n",
    "slope"
   ]
  },
  {
   "cell_type": "code",
   "execution_count": null,
   "metadata": {},
   "outputs": [],
   "source": [
    "slope = slope[0]\n",
    "slope"
   ]
  },
  {
   "cell_type": "code",
   "execution_count": null,
   "metadata": {},
   "outputs": [],
   "source": [
    "intercept = model.intercept_\n",
    "intercept"
   ]
  },
  {
   "cell_type": "markdown",
   "metadata": {
    "slideshow": {
     "slide_type": "subslide"
    }
   },
   "source": [
    "#### The equation:\n",
    "\\begin{equation}\n",
    "y = 0.035601 x - 26.65185\n",
    "\\end{equation}"
   ]
  },
  {
   "cell_type": "markdown",
   "metadata": {
    "slideshow": {
     "slide_type": "skip"
    }
   },
   "source": [
    "<a id=\"4\"></a>"
   ]
  },
  {
   "cell_type": "markdown",
   "metadata": {
    "slideshow": {
     "slide_type": "slide"
    }
   },
   "source": [
    "### 4. Predicting Temperatures"
   ]
  },
  {
   "cell_type": "code",
   "execution_count": null,
   "metadata": {},
   "outputs": [],
   "source": [
    "def predict_temp(x):\n",
    "    \n",
    "    #TODO in class\n",
    "    \n",
    "    return y"
   ]
  },
  {
   "cell_type": "code",
   "execution_count": null,
   "metadata": {},
   "outputs": [],
   "source": [
    "predict_temp(2019)"
   ]
  },
  {
   "cell_type": "markdown",
   "metadata": {
    "slideshow": {
     "slide_type": "skip"
    }
   },
   "source": [
    "<a id=\"5\"></a>"
   ]
  },
  {
   "cell_type": "markdown",
   "metadata": {},
   "source": [
    "## 5. Testing the Model\n",
    "* Test the model using the data in **`X_test`** and check some of the **predictions**"
   ]
  },
  {
   "cell_type": "code",
   "execution_count": null,
   "metadata": {},
   "outputs": [],
   "source": [
    "predicted = model.predict(X_test)"
   ]
  },
  {
   "cell_type": "code",
   "execution_count": null,
   "metadata": {},
   "outputs": [],
   "source": [
    "expected = y_test"
   ]
  },
  {
   "cell_type": "code",
   "execution_count": null,
   "metadata": {},
   "outputs": [],
   "source": [
    "predicted[:5]"
   ]
  },
  {
   "cell_type": "code",
   "execution_count": null,
   "metadata": {},
   "outputs": [],
   "source": [
    "expected[:5]"
   ]
  },
  {
   "cell_type": "code",
   "execution_count": null,
   "metadata": {
    "slideshow": {
     "slide_type": "subslide"
    }
   },
   "outputs": [],
   "source": [
    "for p, e in zip(predicted[::5], expected[::5]):  # check every 5th element\n",
    "    print(f'predicted: {p:.2f}, expected: {e:.2f}')"
   ]
  },
  {
   "cell_type": "markdown",
   "metadata": {
    "slideshow": {
     "slide_type": "skip"
    }
   },
   "source": [
    "<a id=\"6\"></a>"
   ]
  },
  {
   "cell_type": "markdown",
   "metadata": {
    "slideshow": {
     "slide_type": "slide"
    }
   },
   "source": [
    "## 6. Regression Model Metrics\n",
    "* **Metrics for regression estimators** include **coefficient of determination** (**$R^{2}$ score**; 0.0-1.0)\n",
    "    * **1.0** &mdash; estimator **perfectly predicts** the **dependent variable’s value**, given independent variables' values\n",
    "    * **0.0** &mdash; **model cannot make predictions with any accuracy**, given independent variables’ values \n",
    "* Calculate with arrays representing the **expected** and **predicted results**"
   ]
  },
  {
   "cell_type": "code",
   "execution_count": null,
   "metadata": {},
   "outputs": [],
   "source": [
    "from sklearn import metrics\n",
    "metrics.r2_score(expected, predicted)"
   ]
  },
  {
   "cell_type": "markdown",
   "metadata": {
    "slideshow": {
     "slide_type": "skip"
    }
   },
   "source": [
    "<a id=\"7\"></a>"
   ]
  },
  {
   "cell_type": "markdown",
   "metadata": {},
   "source": [
    "## 7. Visualizing the Simple Linear Regression Model\n",
    "* Scatter plots are commonly used to visualize regression models\n",
    "* Use plotly's scatter() method\n",
    "* Setting the trendline=\"ols\" *usually* draws the regression line on the graph"
   ]
  },
  {
   "cell_type": "code",
   "execution_count": null,
   "metadata": {},
   "outputs": [],
   "source": [
    "import plotly.express as px\n",
    "import plotly.graph_objects as go\n",
    "\n",
    "#produce the scatter plot\n",
    "graph = px.scatter(df, x=\"Date\", y=\"Temperature\", template=\"none\", color=\"Temperature\", opacity=.8, trendline=\"ols\")\n",
    "\n",
    "#add a line shape on top of the scatter plot using two points (1936, predict_temp(1936)) and (2018, predict_temp(2018))\n",
    "#because predict_temp uses the regression line equation, this will plot the regression line on the graph\n",
    "\n",
    "graph.update_layout(\n",
    "    \n",
    "    shapes=[    \n",
    "        go.layout.Shape(\n",
    "            type=\"line\",\n",
    "            x0=1936, y0=predict_temp(1936),\n",
    "            x1=2018, y1=predict_temp(2018),\n",
    "            line=dict(color=\"coral\", width=3, dash=\"solid\")\n",
    "        )\n",
    "    ]\n",
    ")\n",
    "\n",
    "graph.update_traces(marker={\"size\":12})\n",
    "\n",
    "#need to change y-axis; otherwise, plotly will auto-scale, leading to confusion\n",
    "graph.update_layout(yaxis = dict(range = [20,60]))\n",
    "\n",
    "graph.show()"
   ]
  },
  {
   "cell_type": "code",
   "execution_count": null,
   "metadata": {
    "slideshow": {
     "slide_type": "subslide"
    }
   },
   "outputs": [],
   "source": [
    "import plotly.express as px\n",
    "\n",
    "#produce the scatter plot\n",
    "graph = px.scatter(df, x=\"Date\", y=\"Temperature\", template=\"none\", color=\"Temperature\", opacity=.8)\n",
    "\n",
    "#add a line shape on top of the scatter plot using two points (1936, predict_temp(1936)) and (2018, predict_temp(2018))\n",
    "#because predict_temp uses the regression line equation, this will plot the regression line on the graph\n",
    "\n",
    "graph.update_layout(\n",
    "    \n",
    "    shapes=[    \n",
    "        go.layout.Shape(\n",
    "            type=\"line\",\n",
    "            x0=1936, y0=predict_temp(1936),\n",
    "            x1=2018, y1=predict_temp(2018),\n",
    "            line=dict(color=\"coral\", width=2, dash=\"solid\")\n",
    "        )\n",
    "    ]\n",
    ")\n",
    "\n",
    "graph.update_traces(marker={\"size\":12})\n",
    "\n",
    "#need to change y-axis; otherwise, plotly will auto-scale, leading to confusion\n",
    "graph.update_layout(yaxis = dict(range = [20,60]))\n",
    "\n",
    "graph.show()"
   ]
  },
  {
   "cell_type": "code",
   "execution_count": null,
   "metadata": {
    "slideshow": {
     "slide_type": "subslide"
    }
   },
   "outputs": [],
   "source": [
    "%matplotlib notebook"
   ]
  },
  {
   "cell_type": "code",
   "execution_count": null,
   "metadata": {},
   "outputs": [],
   "source": [
    "import matplotlib\n",
    "import seaborn as sns\n",
    "fig =sns.regplot(data=df, x=\"Date\", y=\"Temperature\")\n",
    "fig.set_ylim(20, 60)\n",
    "sns.set_palette(\"colorblind\")\n",
    "sns.set_style('whitegrid')"
   ]
  }
 ],
 "metadata": {
  "celltoolbar": "Slideshow",
  "kernelspec": {
   "display_name": "Python 3",
   "language": "python",
   "name": "python3"
  },
  "language_info": {
   "codemirror_mode": {
    "name": "ipython",
    "version": 3
   },
   "file_extension": ".py",
   "mimetype": "text/x-python",
   "name": "python",
   "nbconvert_exporter": "python",
   "pygments_lexer": "ipython3",
   "version": "3.6.5"
  }
 },
 "nbformat": 4,
 "nbformat_minor": 2
}

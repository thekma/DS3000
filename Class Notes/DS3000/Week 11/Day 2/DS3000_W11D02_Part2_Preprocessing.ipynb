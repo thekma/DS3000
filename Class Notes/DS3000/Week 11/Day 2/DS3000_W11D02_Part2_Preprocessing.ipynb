{
 "cells": [
  {
   "cell_type": "markdown",
   "metadata": {
    "slideshow": {
     "slide_type": "slide"
    }
   },
   "source": [
    "<center> <img src=\"res/ds3000.png\"> </center>"
   ]
  },
  {
   "cell_type": "markdown",
   "metadata": {},
   "source": [
    "<center> <h1> Week 11 - Day 2 </h1> </center>"
   ]
  },
  {
   "cell_type": "markdown",
   "metadata": {},
   "source": [
    "<center> <h2> Part 2: Preprocessing</h2></center>"
   ]
  },
  {
   "cell_type": "markdown",
   "metadata": {
    "slideshow": {
     "slide_type": "skip"
    }
   },
   "source": [
    "## Outline\n",
    "1. <a href='#1'>MinMaxScaler</a>\n",
    "2. <a href='#2'>StandardScaler</a>"
   ]
  },
  {
   "cell_type": "markdown",
   "metadata": {
    "slideshow": {
     "slide_type": "skip"
    }
   },
   "source": [
    "<a id=\"1\"></a>"
   ]
  },
  {
   "cell_type": "markdown",
   "metadata": {
    "slideshow": {
     "slide_type": "slide"
    }
   },
   "source": [
    "## 1.  MinMaxScaler\n",
    "* MinMaxScaler()\n",
    "* Shifts data such that all features are exactly between 0 and 1 (they all have the same scale)\n",
    "* When fitted, the method computes the minimum and maximum value of each feature on the training set."
   ]
  },
  {
   "cell_type": "code",
   "execution_count": 1,
   "metadata": {
    "slideshow": {
     "slide_type": "-"
    }
   },
   "outputs": [],
   "source": [
    "import pandas as pd\n",
    "\n",
    "from sklearn.datasets import fetch_california_housing\n",
    "california = fetch_california_housing()  # Bunch object\n",
    "\n",
    "df = pd.DataFrame(california.data, columns=california.feature_names)\n",
    "df[\"Value\"] = california.target\n",
    "\n",
    "features = df.drop(\"Value\", axis=1)\n",
    "target = df[\"Value\"]"
   ]
  },
  {
   "cell_type": "code",
   "execution_count": 5,
   "metadata": {},
   "outputs": [
    {
     "name": "stdout",
     "output_type": "stream",
     "text": [
      "R-squared value for training set:  0.6095160399631113\n",
      "R-squared value for testing set:  0.5954462325232102\n"
     ]
    }
   ],
   "source": [
    "from sklearn.linear_model import LinearRegression\n",
    "from sklearn.model_selection import train_test_split\n",
    "from sklearn.metrics import r2_score\n",
    "from sklearn.metrics import mean_squared_error\n",
    "\n",
    "#split data into training and testing sets\n",
    "X_train, X_test, y_train, y_test = train_test_split(features, target, random_state=3000)\n",
    "\n",
    "\n",
    "model = LinearRegression().fit(X=X_train, y=y_train)\n",
    "\n",
    "\n",
    "print(\"R-squared value for training set: \", r2_score(y_train, model.predict(X_train)))\n",
    "print(\"R-squared value for testing set: \", r2_score(y_test, model.predict(X_test)))"
   ]
  },
  {
   "cell_type": "code",
   "execution_count": 6,
   "metadata": {},
   "outputs": [
    {
     "name": "stdout",
     "output_type": "stream",
     "text": [
      "R^2 for training set:  0.6070278431009469\n",
      "R^2 for testing set:  0.597251120084507\n"
     ]
    }
   ],
   "source": [
    "from sklearn.preprocessing import MinMaxScaler\n",
    "\n",
    "\n",
    "#create the scaler\n",
    "scaler = MinMaxScaler()\n",
    "\n",
    "#fit the scaler to the training data(features only)\n",
    "scaler.fit(X_train) \n",
    "\n",
    "#transform X_train and X_test based on the (same) scaler\n",
    "X_train_scaled = scaler.transform(X_train) \n",
    "X_test_scaled = scaler.transform(X_test) \n",
    "\n",
    "#train the model using the scaled training data\n",
    "model = Ridge().fit(X=X_train_scaled, y=y_train)\n",
    "\n",
    "\n",
    "print(\"R^2 for training set: \", r2_score(y_train, model.predict(X_train_scaled)))\n",
    "print(\"R^2 for testing set: \", r2_score(y_test, model.predict(X_test_scaled)))\n"
   ]
  },
  {
   "cell_type": "markdown",
   "metadata": {
    "slideshow": {
     "slide_type": "skip"
    }
   },
   "source": [
    "<a id=\"2\"></a>"
   ]
  },
  {
   "cell_type": "markdown",
   "metadata": {
    "slideshow": {
     "slide_type": "subslide"
    }
   },
   "source": [
    "## 2. Standard Scaler \n",
    "* Use StandardScaler()\n",
    "* Standardizes the distribution of each feature (with a mean of 0 and SD of 1)\n",
    "* Does not guarantee any specific min/max value (depends on the distribution)\n",
    "* https://scikit-learn.org/stable/modules/generated/sklearn.preprocessing.StandardScaler.html#sklearn.preprocessing.StandardScaler"
   ]
  }
 ],
 "metadata": {
  "celltoolbar": "Slideshow",
  "kernelspec": {
   "display_name": "Python 3",
   "language": "python",
   "name": "python3"
  },
  "language_info": {
   "codemirror_mode": {
    "name": "ipython",
    "version": 3
   },
   "file_extension": ".py",
   "mimetype": "text/x-python",
   "name": "python",
   "nbconvert_exporter": "python",
   "pygments_lexer": "ipython3",
   "version": "3.6.5"
  }
 },
 "nbformat": 4,
 "nbformat_minor": 2
}

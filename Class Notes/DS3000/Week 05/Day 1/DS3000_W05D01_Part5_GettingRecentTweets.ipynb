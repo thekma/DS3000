{
 "cells": [
  {
   "cell_type": "markdown",
   "metadata": {
    "slideshow": {
     "slide_type": "slide"
    }
   },
   "source": [
    "<center> <img src=\"res/ds3000.png\"> </center>"
   ]
  },
  {
   "cell_type": "markdown",
   "metadata": {},
   "source": [
    "<center> <h1> Week 5 - Day 1 </h1> </center>"
   ]
  },
  {
   "cell_type": "markdown",
   "metadata": {},
   "source": [
    "<center> <h2> Part 5: Getting a User's Recent Tweets </h2></center>"
   ]
  },
  {
   "cell_type": "markdown",
   "metadata": {
    "slideshow": {
     "slide_type": "skip"
    }
   },
   "source": [
    "## Outline\n",
    "1. <a href='#1'>Getting a User's Recent Tweets</a>\n",
    "2. <a href='#2'>Getting Hashtags from a Tweet</a>"
   ]
  },
  {
   "cell_type": "markdown",
   "metadata": {
    "slideshow": {
     "slide_type": "skip"
    }
   },
   "source": [
    "<a id=\"1\"></a>"
   ]
  },
  {
   "cell_type": "markdown",
   "metadata": {
    "slideshow": {
     "slide_type": "slide"
    }
   },
   "source": [
    "## 1. Getting a User's Recent Tweets\n",
    "* Twitter API methods often return collections of objects\n",
    "    * Tweets in **your Twitter timeline**\n",
    "    * Tweets in **another account’s timeline**\n",
    "    * Lists of tweets that match specified search criteria \n",
    "* **Timeline** &mdash; tweets sent by a user and by that user’s friends\n",
    "* Each method’s docs specify max items returned by one call—a **page** of results\n",
    "* JSON responses say **whether there are more pages to get**"
   ]
  },
  {
   "cell_type": "markdown",
   "metadata": {
    "slideshow": {
     "slide_type": "subslide"
    }
   },
   "source": [
    "### Tweepy Cursors\n",
    "* A **`Cursor`** handles **paging** \n",
    "* Invokes a method and **checks if there's another page of results**\n",
    "* If so, automatically calls the method again  \n",
    "* Continues, subject to rate limits, until there are no more results to process\n",
    "* If `API` object configured to **wait on rate limits**, `Cursor`s wait as needed between calls\n",
    "* [Tweepy `Cursor` tutorial](http://docs.tweepy.org/en/latest/cursor_tutorial.html)"
   ]
  },
  {
   "cell_type": "code",
   "execution_count": 5,
   "metadata": {
    "slideshow": {
     "slide_type": "subslide"
    }
   },
   "outputs": [],
   "source": [
    "import tweepy\n",
    "import TwitterCredentials as keys\n",
    "\n",
    "auth = tweepy.OAuthHandler(keys.consumer_API_key, keys.consumer_API_secret_key)\n",
    "auth.set_access_token(keys.access_token, keys.access_token_secret)\n",
    "api = tweepy.API(auth, wait_on_rate_limit=True, wait_on_rate_limit_notify=True)\n",
    "\n",
    "neu = api.get_user('Northeastern', tweet_mode=\"extended\")"
   ]
  },
  {
   "cell_type": "markdown",
   "metadata": {
    "slideshow": {
     "slide_type": "subslide"
    }
   },
   "source": [
    "### 1.1. **`user_timeline`** method\n",
    "* The `API` object has a [**`user_timeline`**](http://docs.tweepy.org/en/v3.8.0/api.html?highlight=user_timeline#API.user_timeline) method\n",
    "* Calls Twitter’s [`user_timeline`](https://developer.twitter.com/en/docs/tweets/timelines/api-reference/get-statuses-user_timeline) method\n",
    "* Returns groups of 20 tweets by default\n",
    "* Can request up to 900 at a time \n",
    "* This method can only return up to 3,200 of a user's most recent Tweets"
   ]
  },
  {
   "cell_type": "code",
   "execution_count": 6,
   "metadata": {},
   "outputs": [],
   "source": [
    "cursor = tweepy.Cursor(api.user_timeline, screen_name='Northeastern', tweet_mode='extended')"
   ]
  },
  {
   "cell_type": "code",
   "execution_count": null,
   "metadata": {
    "slideshow": {
     "slide_type": "subslide"
    }
   },
   "outputs": [],
   "source": [
    "cursor = tweepy.Cursor(api.user_timeline, screen_name='Northeastern', tweet_mode='extended')"
   ]
  },
  {
   "cell_type": "markdown",
   "metadata": {},
   "source": [
    "* **tweepy.Cursor**: creates an iterable Cursor object\n",
    "* **api.user_timeline**: specifies the API method to call\n",
    "* **screen_name='Northeastern'**: specifies the account name of the user whose tweets we want to scrape\n",
    "* **tweet_mode = 'extended'**: indicates that longer tweets should remain untruncated"
   ]
  },
  {
   "cell_type": "code",
   "execution_count": 8,
   "metadata": {
    "slideshow": {
     "slide_type": "subslide"
    }
   },
   "outputs": [
    {
     "name": "stdout",
     "output_type": "stream",
     "text": [
      "Hard-to-find artifacts reveal a city's hidden history. #Northeastern researchers are tracking them down with help from local residents. \n",
      "\n",
      "@BPLBoston @MHS1791 @BARIboston @dancohen @NortheasternLib @NUlabTMN https://t.co/9At9s7hsTI\n",
      "RT @vivdalal: Excited to listen to the Northeastern University Podcast!!!\n",
      "Happy International Podcast Day everyone😃\n",
      "#LitmusPodcast \n",
      "@Northe…\n",
      ".@litmuspodcast and a new pair of AirPods? There's no better way to celebrate #InternationalPodcastDay. Here's how to enter our #LitmusPodcast contest: https://t.co/vBBL5fPPKJ\n",
      "Art in action. #NUexperience\n",
      "\n",
      "📍Snell Engineering https://t.co/JLiChZlgPe\n",
      "#Northeastern student Cassandra Valcort studies the movement of the ☀️ on Centennial Common. #NUexperience @NU_CAMD https://t.co/IF5R3v6cqJ\n"
     ]
    }
   ],
   "source": [
    "cursor = tweepy.Cursor(api.user_timeline, screen_name='Northeastern', tweet_mode='extended')\n",
    "\n",
    "for tweet in cursor.items(5):\n",
    "    print(tweet.full_text)"
   ]
  },
  {
   "cell_type": "code",
   "execution_count": 9,
   "metadata": {
    "slideshow": {
     "slide_type": "subslide"
    }
   },
   "outputs": [
    {
     "name": "stdout",
     "output_type": "stream",
     "text": [
      "Northeastern : Hard-to-find artifacts reveal a city's hidden history. #Northeastern researchers are tracking them down with help from local residents. \n",
      "\n",
      "@BPLBoston @MHS1791 @BARIboston @dancohen @NortheasternLib @NUlabTMN https://t.co/9At9s7hsTI \t 2019-09-30 16:45:00 \n",
      "\n",
      "Northeastern : RT @vivdalal: Excited to listen to the Northeastern University Podcast!!!\n",
      "Happy International Podcast Day everyone😃\n",
      "#LitmusPodcast \n",
      "@Northe… \t 2019-09-30 15:03:07 \n",
      "\n",
      "Northeastern : .@litmuspodcast and a new pair of AirPods? There's no better way to celebrate #InternationalPodcastDay. Here's how to enter our #LitmusPodcast contest: https://t.co/vBBL5fPPKJ \t 2019-09-30 13:05:00 \n",
      "\n"
     ]
    }
   ],
   "source": [
    "for tweet in tweepy.Cursor(api.user_timeline, screen_name='Northeastern', tweet_mode='extended').items(3):\n",
    "    print(tweet.user.screen_name, \":\", tweet.full_text, \"\\t\", tweet.created_at, '\\n')"
   ]
  },
  {
   "cell_type": "markdown",
   "metadata": {
    "slideshow": {
     "slide_type": "skip"
    }
   },
   "source": [
    "<a id=\"2\"></a>"
   ]
  },
  {
   "cell_type": "markdown",
   "metadata": {
    "slideshow": {
     "slide_type": "slide"
    }
   },
   "source": [
    "## 2. Getting Hashtags from a Tweet\n",
    "* Hashtags reside in the **`entities`** dictionary of the **`Status`** object\n",
    "* Thus we can index the dictionary using \"hashtags\" as the key and this will return the values associated with the key:\n",
    "    * **tweet.entities[\"hashtags\"]**"
   ]
  },
  {
   "cell_type": "code",
   "execution_count": 10,
   "metadata": {},
   "outputs": [],
   "source": [
    "cursor = tweepy.Cursor(api.user_timeline, screen_name='Northeastern', tweet_mode='extended')"
   ]
  },
  {
   "cell_type": "code",
   "execution_count": 11,
   "metadata": {
    "slideshow": {
     "slide_type": "fragment"
    }
   },
   "outputs": [
    {
     "name": "stdout",
     "output_type": "stream",
     "text": [
      "[{'text': 'Northeastern', 'indices': [55, 68]}]\n",
      "[{'text': 'LitmusPodcast', 'indices': [116, 130]}]\n",
      "[{'text': 'InternationalPodcastDay', 'indices': [78, 102]}, {'text': 'LitmusPodcast', 'indices': [128, 142]}]\n"
     ]
    }
   ],
   "source": [
    "for tweet in cursor.items(3):\n",
    "    print(tweet.entities[\"hashtags\"])"
   ]
  },
  {
   "cell_type": "code",
   "execution_count": 12,
   "metadata": {
    "slideshow": {
     "slide_type": "subslide"
    }
   },
   "outputs": [
    {
     "name": "stdout",
     "output_type": "stream",
     "text": [
      "Tweet: \n",
      "\t .@PresidentAoun signs a global partnership agreement with @UnivParisSaclay President Sylvie Retailleau. https://t.co/0iZyDF2R1g\n",
      "Hashtags: \n",
      "\n",
      "\n",
      "Tweet: \n",
      "\t A city doesn't need autonomous vehicles to be \"smart.\" Systems like 311 databases, says @DanOUrban, can be game-changers for public spaces.\n",
      "\n",
      "@APSAtweets @NUCSSH @NU_PolicySchool @NU_SCCJ @BARIboston\n",
      "https://t.co/sNNf1E5naH\n",
      "Hashtags: \n",
      "\n",
      "\n",
      "Tweet: \n",
      "\t @aaas Thought you might be interested in our newest #SciComm initiative, @litmuspodcast, featuring conversations with groundbreaking researchers that connect what's going on in their labs with what's going on in your life. https://t.co/r0Gl5xL0jK\n",
      "Hashtags: \n",
      "\t SciComm \n",
      "\n"
     ]
    }
   ],
   "source": [
    "for tweet in cursor.items(3):\n",
    "    print(\"Tweet: \")\n",
    "    print(\"\\t\", tweet.full_text)\n",
    "    print(\"Hashtags: \")\n",
    "    \n",
    "    for hashtag in tweet.entities['hashtags']:\n",
    "        print(\"\\t\", hashtag[\"text\"], end=\" \")\n",
    "        \n",
    "        \n",
    "    print(\"\\n\")"
   ]
  }
 ],
 "metadata": {
  "celltoolbar": "Slideshow",
  "kernelspec": {
   "display_name": "Python 3",
   "language": "python",
   "name": "python3"
  },
  "language_info": {
   "codemirror_mode": {
    "name": "ipython",
    "version": 3
   },
   "file_extension": ".py",
   "mimetype": "text/x-python",
   "name": "python",
   "nbconvert_exporter": "python",
   "pygments_lexer": "ipython3",
   "version": "3.7.3"
  }
 },
 "nbformat": 4,
 "nbformat_minor": 2
}

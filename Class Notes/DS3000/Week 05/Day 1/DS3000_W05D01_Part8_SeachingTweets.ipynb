{
 "cells": [
  {
   "cell_type": "markdown",
   "metadata": {
    "slideshow": {
     "slide_type": "slide"
    }
   },
   "source": [
    "<center> <img src=\"res/ds3000.png\"> </center>"
   ]
  },
  {
   "cell_type": "markdown",
   "metadata": {},
   "source": [
    "<center> <h1> Week 5 - Day 1 </h1> </center>"
   ]
  },
  {
   "cell_type": "markdown",
   "metadata": {},
   "source": [
    "<center> <h2> Part 8: Searching Recent Tweets</h2></center>"
   ]
  },
  {
   "cell_type": "markdown",
   "metadata": {
    "slideshow": {
     "slide_type": "skip"
    }
   },
   "source": [
    "## Outline\n",
    "1. <a href='#1'>Searching Recent Tweets</a>\n",
    "2. <a href='#2'>Searching for Specific Words</a>\n",
    "3. <a href='#3'>Searching with Twitter Search Operators</a>\n",
    "4. <a href='#4'>Searching for a Hashtagd</a>\n"
   ]
  },
  {
   "cell_type": "markdown",
   "metadata": {
    "slideshow": {
     "slide_type": "subslide"
    }
   },
   "source": [
    "<center><img src = \"res/friends.png\" /></center>"
   ]
  },
  {
   "cell_type": "markdown",
   "metadata": {
    "slideshow": {
     "slide_type": "skip"
    }
   },
   "source": [
    "<a id=\"1\"></a>"
   ]
  },
  {
   "cell_type": "markdown",
   "metadata": {
    "slideshow": {
     "slide_type": "slide"
    }
   },
   "source": [
    "## 1. Searching Recent Tweets \n",
    "* Via `API` method **`search`** \n",
    "* Returns tweets that **match a query string**\n",
    "* Only for the **previous seven days’ tweets**\n",
    "* Not guaranteed to return all matching tweets\n",
    "* Calls Twitter’s `search/tweets` method\n",
    "* Returns 15 tweets at a time by default, but can return up to 100"
   ]
  },
  {
   "cell_type": "code",
   "execution_count": null,
   "metadata": {
    "slideshow": {
     "slide_type": "subslide"
    }
   },
   "outputs": [],
   "source": [
    "import tweepy\n",
    "import TwitterCredentials as keys\n",
    "\n",
    "auth = tweepy.OAuthHandler(keys.consumer_API_key, keys.consumer_API_secret_key)\n",
    "auth.set_access_token(keys.access_token, keys.access_token_secret)\n",
    "api = tweepy.API(auth, wait_on_rate_limit=True, wait_on_rate_limit_notify=True)"
   ]
  },
  {
   "cell_type": "markdown",
   "metadata": {},
   "source": [
    "<a id=\"2\"></a>"
   ]
  },
  {
   "cell_type": "markdown",
   "metadata": {
    "slideshow": {
     "slide_type": "slide"
    }
   },
   "source": [
    "## 2. Searching for Specific Words\n",
    "* **`q` keyword argument** specifies the **query string**\n",
    "* By default, searches all recent tweets"
   ]
  },
  {
   "cell_type": "code",
   "execution_count": null,
   "metadata": {
    "slideshow": {
     "slide_type": "-"
    }
   },
   "outputs": [],
   "source": [
    "cursor = tweepy.Cursor(api.search, q='data science', count = 10, tweet_mode='extended')"
   ]
  },
  {
   "cell_type": "code",
   "execution_count": null,
   "metadata": {},
   "outputs": [],
   "source": [
    "for tweet in cursor.items(10):\n",
    "    print(tweet.full_text)"
   ]
  },
  {
   "cell_type": "markdown",
   "metadata": {
    "slideshow": {
     "slide_type": "skip"
    }
   },
   "source": [
    "<a id=\"3\"></a>"
   ]
  },
  {
   "cell_type": "markdown",
   "metadata": {
    "slideshow": {
     "slide_type": "slide"
    }
   },
   "source": [
    "## 3. Searching with Twitter Search Operators\n",
    "* Use Twitter search operators to refine search results\n",
    "* The following table shows several Twitter search operators. \n",
    "* Multiple operators can be combined to construct more complex queries. \n",
    "* [For all the operators, click the `operators` link here](https://twitter.com/search-home)\n",
    "\n",
    "| Example&nbsp;&nbsp;&nbsp;&nbsp;&nbsp;&nbsp;&nbsp;&nbsp;&nbsp;&nbsp;&nbsp;&nbsp;&nbsp;&nbsp;&nbsp;&nbsp;&nbsp;&nbsp;&nbsp;&nbsp;&nbsp;&nbsp;&nbsp;&nbsp;&nbsp;&nbsp;&nbsp;&nbsp;&nbsp;&nbsp;&nbsp;&nbsp;&nbsp;&nbsp;&nbsp;&nbsp;&nbsp;&nbsp;\t| Finds tweets containing\n",
    "| :---\t| :---\n",
    "| `magic hogwarts` \t| Implicit _logical and_ operator—Finds tweets containing `magic` _and_ `hogwarts`.\n",
    "| `magic OR hogwarts` \t| Logical `OR` operator—Finds tweets containing `magic` or `hogwarts` or both.\n",
    "| `hogwarts ?` \t| `?` (question mark)—Finds tweets asking questions about `python`.\n",
    "| `magic -hogwarts` \t| `-` (minus sign)—Finds tweets containing `magic` but not `hogwarts`.\n",
    "| `hogwarts :)` \t| `:)` (happy face)—Finds *positive sentiment* tweets containing `hogwarts`.\n",
    "| `hogwarts :(` \t| `:(` (sad face)—Finds *negative sentiment* tweets containing `hogwarts`.\n",
    "| `since:2019-09-29` \t| Finds tweets *on or after* the specified date, which must be in the form `YYYY-MM-DD`.\n",
    "| `near:\"Boston\" `\t| Finds tweets that were sent near `\"Boston\"`.\n",
    "| `from:Northeastern` \t| Finds tweets from the account `@Northeastern`.\n",
    "| `to:Northeastern` \t| Finds tweets to the account `@Northeastern`."
   ]
  },
  {
   "cell_type": "markdown",
   "metadata": {
    "slideshow": {
     "slide_type": "subslide"
    }
   },
   "source": [
    "### 3.1. Searching Tweets by a User"
   ]
  },
  {
   "cell_type": "code",
   "execution_count": null,
   "metadata": {},
   "outputs": [],
   "source": [
    "cursor = tweepy.Cursor(api.search, q='from:Northeastern', count = 10, tweet_mode='extended')"
   ]
  },
  {
   "cell_type": "code",
   "execution_count": null,
   "metadata": {},
   "outputs": [],
   "source": [
    "for tweet in cursor.items(10):\n",
    "    print(tweet.full_text)"
   ]
  },
  {
   "cell_type": "markdown",
   "metadata": {
    "slideshow": {
     "slide_type": "subslide"
    }
   },
   "source": [
    "### 3.2. Searching Tweets Containing a Keyword by a User"
   ]
  },
  {
   "cell_type": "code",
   "execution_count": null,
   "metadata": {},
   "outputs": [],
   "source": [
    "cursor = tweepy.Cursor(api.search, q='student from:Northeastern', count = 10, tweet_mode='extended')"
   ]
  },
  {
   "cell_type": "code",
   "execution_count": null,
   "metadata": {},
   "outputs": [],
   "source": [
    "for tweet in cursor.items(10):\n",
    "    print(tweet.full_text)"
   ]
  },
  {
   "cell_type": "markdown",
   "metadata": {
    "slideshow": {
     "slide_type": "subslide"
    }
   },
   "source": [
    "### 3.3. Searching Tweets by Date\n",
    "* Use a date within seven days before you execute this code"
   ]
  },
  {
   "cell_type": "code",
   "execution_count": null,
   "metadata": {},
   "outputs": [],
   "source": [
    "cursor = tweepy.Cursor(api.search, q='from:Northeastern since:2019-09-25', count = 10, tweet_mode='extended')"
   ]
  },
  {
   "cell_type": "code",
   "execution_count": null,
   "metadata": {},
   "outputs": [],
   "source": [
    "for tweet in cursor.items(10):\n",
    "    print(tweet.full_text)"
   ]
  },
  {
   "cell_type": "markdown",
   "metadata": {},
   "source": [
    "<a id=\"4\"></a>"
   ]
  },
  {
   "cell_type": "markdown",
   "metadata": {
    "slideshow": {
     "slide_type": "slide"
    }
   },
   "source": [
    "## 4. Searching for a Hashtag\n",
    "* A **hashtag marked with `#`** indicates something of importance, like a trending topic"
   ]
  },
  {
   "cell_type": "code",
   "execution_count": null,
   "metadata": {},
   "outputs": [],
   "source": [
    "cursor = tweepy.Cursor(api.search, q='#Northeastern from:Northeastern', count = 10, tweet_mode='extended')"
   ]
  },
  {
   "cell_type": "code",
   "execution_count": null,
   "metadata": {},
   "outputs": [],
   "source": [
    "for tweet in cursor.items(10):\n",
    "    print(tweet.full_text)"
   ]
  }
 ],
 "metadata": {
  "celltoolbar": "Slideshow",
  "kernelspec": {
   "display_name": "Python 3",
   "language": "python",
   "name": "python3"
  },
  "language_info": {
   "codemirror_mode": {
    "name": "ipython",
    "version": 3
   },
   "file_extension": ".py",
   "mimetype": "text/x-python",
   "name": "python",
   "nbconvert_exporter": "python",
   "pygments_lexer": "ipython3",
   "version": "3.7.3"
  }
 },
 "nbformat": 4,
 "nbformat_minor": 2
}

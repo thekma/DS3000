{
 "cells": [
  {
   "cell_type": "markdown",
   "metadata": {
    "slideshow": {
     "slide_type": "slide"
    }
   },
   "source": [
    "<center> <img src=\"res/ds3000.png\"> </center>"
   ]
  },
  {
   "cell_type": "markdown",
   "metadata": {},
   "source": [
    "<center> <h1> Week 12 - Day 2</h1> </center>"
   ]
  },
  {
   "cell_type": "markdown",
   "metadata": {},
   "source": [
    "<center> <h2> Part 3: Sentiment Analysis Part 2</h2></center>"
   ]
  },
  {
   "cell_type": "markdown",
   "metadata": {
    "slideshow": {
     "slide_type": "skip"
    }
   },
   "source": [
    "## Outline\n",
    "1. <a href='#1'>TfidfVectorizer</a>\n",
    "2. <a href='#2'>Stop Words</a>\n",
    "3. <a href='#3'>min_df</a>\n",
    "4. <a href='#4'>ngrams</a>\n",
    "\n"
   ]
  },
  {
   "cell_type": "markdown",
   "metadata": {
    "slideshow": {
     "slide_type": "skip"
    }
   },
   "source": [
    "<a id=\"1\"></a>"
   ]
  },
  {
   "cell_type": "markdown",
   "metadata": {
    "slideshow": {
     "slide_type": "subslide"
    }
   },
   "source": [
    "## 1. TfidfVectorizer"
   ]
  },
  {
   "cell_type": "code",
   "execution_count": null,
   "metadata": {},
   "outputs": [],
   "source": [
    "import pandas as pd\n",
    "data = pd.read_csv(\"res/game_reviews.csv\")"
   ]
  },
  {
   "cell_type": "code",
   "execution_count": null,
   "metadata": {},
   "outputs": [],
   "source": [
    "data.head()"
   ]
  },
  {
   "cell_type": "code",
   "execution_count": null,
   "metadata": {},
   "outputs": [],
   "source": [
    "features = data[\"comment\"]\n",
    "target = data[\"sentiment\"]"
   ]
  },
  {
   "cell_type": "code",
   "execution_count": null,
   "metadata": {},
   "outputs": [],
   "source": [
    "from sklearn.naive_bayes import MultinomialNB\n",
    "from sklearn.model_selection import train_test_split\n",
    "from sklearn.feature_extraction.text import TfidfVectorizer\n",
    "\n",
    "X_train, X_test, y_train, y_test = train_test_split(features, target, random_state=3000)\n",
    "\n",
    "\n",
    "#create the vocabulary based on the training data\n",
    "vect = TfidfVectorizer().fit(X_train)\n",
    "\n",
    "#encode the words in X_train and X_test based on the vocabulary\n",
    "X_train_vectorized = vect.transform(X_train)\n",
    "X_test_vectorized = vect.transform(X_test)\n",
    "\n",
    "#train the classifier\n",
    "model = MultinomialNB(alpha = 0.5).fit(X=X_train_vectorized, y=y_train)\n",
    "\n",
    "\n",
    "print(\"Classification accuracy on training set: \", model.score(X_train_vectorized, y_train))\n",
    "print(\"Classification accuracy on testing set: \", model.score(X_test_vectorized, y_test))\n",
    "print(\"Number of features used: \", len(vect.get_feature_names()))"
   ]
  },
  {
   "cell_type": "markdown",
   "metadata": {},
   "source": [
    "### 1.1. Making Predictions"
   ]
  },
  {
   "cell_type": "code",
   "execution_count": null,
   "metadata": {},
   "outputs": [],
   "source": [
    "def predict_sentiment(comment):\n",
    "    comment_features = vect.transform(comment)\n",
    "    sentiment = model.predict(comment_features)\n",
    "    \n",
    "    if sentiment == 1:\n",
    "        return \"Positive\"\n",
    "    else:\n",
    "        return \"Negative\"    "
   ]
  },
  {
   "cell_type": "code",
   "execution_count": null,
   "metadata": {},
   "outputs": [],
   "source": [
    "predict_sentiment([\"it is a bad game, not good at all\"])"
   ]
  },
  {
   "cell_type": "markdown",
   "metadata": {},
   "source": [
    "<a id=\"2\"></a>"
   ]
  },
  {
   "cell_type": "markdown",
   "metadata": {},
   "source": [
    "## 2. TfidfVectorizer with Stop Words"
   ]
  },
  {
   "cell_type": "code",
   "execution_count": null,
   "metadata": {},
   "outputs": [],
   "source": [
    "from sklearn.naive_bayes import MultinomialNB\n",
    "from sklearn.model_selection import train_test_split\n",
    "from sklearn.feature_extraction.text import TfidfVectorizer\n",
    "\n",
    "X_train, X_test, y_train, y_test = train_test_split(features, target, random_state=3000)\n",
    "\n",
    "\n",
    "#create the vocabulary based on the training data\n",
    "vect = TfidfVectorizer(stop_words = \"english\").fit(X_train)\n",
    "\n",
    "#encode the words in X_train and X_test based on the vocabulary\n",
    "X_train_vectorized = vect.transform(X_train)\n",
    "X_test_vectorized = vect.transform(X_test)\n",
    "\n",
    "#train the classifier\n",
    "model = MultinomialNB(alpha = 0.5).fit(X=X_train_vectorized, y=y_train)\n",
    "\n",
    "\n",
    "print(\"Classification accuracy on training set: \", model.score(X_train_vectorized, y_train))\n",
    "print(\"Classification accuracy on testing set: \", model.score(X_test_vectorized, y_test))\n",
    "print(\"Number of features used: \", len(vect.get_feature_names()))"
   ]
  },
  {
   "cell_type": "markdown",
   "metadata": {
    "slideshow": {
     "slide_type": "skip"
    }
   },
   "source": [
    "<a id=\"3\"></a>"
   ]
  },
  {
   "cell_type": "markdown",
   "metadata": {},
   "source": [
    "## 3. TfidfVectorizer with min_df"
   ]
  },
  {
   "cell_type": "code",
   "execution_count": null,
   "metadata": {},
   "outputs": [],
   "source": [
    "from sklearn.naive_bayes import MultinomialNB\n",
    "from sklearn.model_selection import train_test_split\n",
    "from sklearn.feature_extraction.text import TfidfVectorizer\n",
    "\n",
    "X_train, X_test, y_train, y_test = train_test_split(features, target, random_state=3000)\n",
    "\n",
    "\n",
    "#create the vocabulary based on the training data\n",
    "vect = TfidfVectorizer(stop_words=\"english\", min_df=5).fit(X_train)\n",
    "\n",
    "#encode the words in X_train and X_test based on the vocabulary\n",
    "X_train_vectorized = vect.transform(X_train)\n",
    "X_test_vectorized = vect.transform(X_test)\n",
    "\n",
    "#train the classifier\n",
    "model = MultinomialNB(alpha = 0.5).fit(X=X_train_vectorized, y=y_train)\n",
    "\n",
    "\n",
    "print(\"Classification accuracy on training set: \", model.score(X_train_vectorized, y_train))\n",
    "print(\"Classification accuracy on testing set: \", model.score(X_test_vectorized, y_test))\n",
    "print(\"Number of features used: \", len(vect.get_feature_names()))"
   ]
  },
  {
   "cell_type": "markdown",
   "metadata": {
    "slideshow": {
     "slide_type": "skip"
    }
   },
   "source": [
    "<a id=\"4\"></a>"
   ]
  },
  {
   "cell_type": "markdown",
   "metadata": {},
   "source": [
    "## 4. TfidfVectorizer with ngrams"
   ]
  },
  {
   "cell_type": "code",
   "execution_count": null,
   "metadata": {},
   "outputs": [],
   "source": [
    "from sklearn.naive_bayes import MultinomialNB\n",
    "from sklearn.model_selection import train_test_split\n",
    "from sklearn.feature_extraction.text import TfidfVectorizer\n",
    "\n",
    "X_train, X_test, y_train, y_test = train_test_split(features, target, random_state=3000)\n",
    "\n",
    "\n",
    "#create the vocabulary based on the training data\n",
    "vect = TfidfVectorizer(min_df=5, ngram_range=(1,2)).fit(X_train)\n",
    "\n",
    "#encode the words in X_train and X_test based on the vocabulary\n",
    "X_train_vectorized = vect.transform(X_train)\n",
    "X_test_vectorized = vect.transform(X_test)\n",
    "\n",
    "#train the classifier\n",
    "model = MultinomialNB(alpha = 0.5).fit(X=X_train_vectorized, y=y_train)\n",
    "\n",
    "\n",
    "print(\"Classification accuracy on training set: \", model.score(X_train_vectorized, y_train))\n",
    "print(\"Classification accuracy on testing set: \", model.score(X_test_vectorized, y_test))\n",
    "print(\"Number of features used: \", len(vect.get_feature_names()))"
   ]
  },
  {
   "cell_type": "code",
   "execution_count": null,
   "metadata": {},
   "outputs": [],
   "source": [
    "vect.get_feature_names()[::1000]"
   ]
  },
  {
   "cell_type": "markdown",
   "metadata": {},
   "source": [
    "### 4.1. Making Predictions"
   ]
  },
  {
   "cell_type": "code",
   "execution_count": null,
   "metadata": {},
   "outputs": [],
   "source": [
    "def predict_sentiment(comment):\n",
    "    comment_features = vect.transform(comment)\n",
    "    sentiment = model.predict(comment_features)\n",
    "    \n",
    "    if sentiment == 1:\n",
    "        return \"Positive\"\n",
    "    else:\n",
    "        return \"Negative\"    "
   ]
  },
  {
   "cell_type": "code",
   "execution_count": null,
   "metadata": {},
   "outputs": [],
   "source": [
    "predict_sentiment([\"it is a bad game, not good at all\"])"
   ]
  },
  {
   "cell_type": "code",
   "execution_count": null,
   "metadata": {},
   "outputs": [],
   "source": []
  }
 ],
 "metadata": {
  "celltoolbar": "Slideshow",
  "kernelspec": {
   "display_name": "Python 3",
   "language": "python",
   "name": "python3"
  },
  "language_info": {
   "codemirror_mode": {
    "name": "ipython",
    "version": 3
   },
   "file_extension": ".py",
   "mimetype": "text/x-python",
   "name": "python",
   "nbconvert_exporter": "python",
   "pygments_lexer": "ipython3",
   "version": "3.7.3"
  }
 },
 "nbformat": 4,
 "nbformat_minor": 2
}

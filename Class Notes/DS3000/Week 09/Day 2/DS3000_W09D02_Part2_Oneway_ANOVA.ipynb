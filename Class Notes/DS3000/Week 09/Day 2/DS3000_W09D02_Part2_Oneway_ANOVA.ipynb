{
 "cells": [
  {
   "cell_type": "markdown",
   "metadata": {
    "slideshow": {
     "slide_type": "slide"
    }
   },
   "source": [
    "<center> <img src=\"res/ds3000.png\"> </center>"
   ]
  },
  {
   "cell_type": "markdown",
   "metadata": {},
   "source": [
    "<center> <h1> Week 9 - Day 2 </h1> </center>"
   ]
  },
  {
   "cell_type": "markdown",
   "metadata": {},
   "source": [
    "<center> <h2> Part 2: One-Way ANOVA</h2></center>"
   ]
  },
  {
   "cell_type": "markdown",
   "metadata": {
    "slideshow": {
     "slide_type": "skip"
    }
   },
   "source": [
    "## Outline\n",
    "1. <a href='#1'>The Dataset</a>\n",
    "2. <a href='#2'>Exploratory Data Analysis</a>\n",
    "3. <a href='#3'>One-Way ANOVA</a>\n",
    "4. <a href='#4'>Assumption Checks</a>\n",
    "5. <a href='#5'>Post-hoc Tests</a>\n",
    "6. <a href='#6'>Reporting the Results</a>"
   ]
  },
  {
   "cell_type": "markdown",
   "metadata": {
    "slideshow": {
     "slide_type": "skip"
    }
   },
   "source": [
    "<a id=\"1\"></a>"
   ]
  },
  {
   "cell_type": "markdown",
   "metadata": {
    "slideshow": {
     "slide_type": "slide"
    }
   },
   "source": [
    "## 1. The Dataset\n",
    "* Fundamental library for scientific computing\n",
    "    * https://docs.scipy.org/doc/scipy/reference/\n",
    "* SciPy has a special module, stats, dedicated to common statistical tests used in data analysis\n",
    "    * https://docs.scipy.org/doc/scipy/reference/tutorial/stats.html"
   ]
  },
  {
   "cell_type": "code",
   "execution_count": null,
   "metadata": {},
   "outputs": [],
   "source": [
    "from scipy import stats"
   ]
  },
  {
   "cell_type": "code",
   "execution_count": null,
   "metadata": {},
   "outputs": [],
   "source": [
    "import pandas as pd"
   ]
  },
  {
   "cell_type": "markdown",
   "metadata": {
    "slideshow": {
     "slide_type": "subslide"
    }
   },
   "source": [
    "### 1.1. Dataset from a Between-Subjects Experiment"
   ]
  },
  {
   "cell_type": "code",
   "execution_count": null,
   "metadata": {},
   "outputs": [],
   "source": [
    "data = pd.read_csv(\"res/wand_candles_three_data.csv\")"
   ]
  },
  {
   "cell_type": "code",
   "execution_count": null,
   "metadata": {},
   "outputs": [],
   "source": [
    "data"
   ]
  },
  {
   "cell_type": "markdown",
   "metadata": {
    "slideshow": {
     "slide_type": "skip"
    }
   },
   "source": [
    "<a id=\"2\"></a>"
   ]
  },
  {
   "cell_type": "markdown",
   "metadata": {
    "slideshow": {
     "slide_type": "slide"
    }
   },
   "source": [
    "## 2. Exploratory Data Analysis\n",
    "* Involves checking the descriptive stats and visualizing the data before conducting the test"
   ]
  },
  {
   "cell_type": "markdown",
   "metadata": {},
   "source": [
    "### 2.1. Descriptive Statistics"
   ]
  },
  {
   "cell_type": "code",
   "execution_count": null,
   "metadata": {},
   "outputs": [],
   "source": [
    "descriptives = data.groupby(\"Group\").agg([\"count\", \"mean\", \"std\", \"sem\"])\n",
    "descriptives"
   ]
  },
  {
   "cell_type": "markdown",
   "metadata": {
    "slideshow": {
     "slide_type": "subslide"
    }
   },
   "source": [
    "### 2.2. Visualizing the Data"
   ]
  },
  {
   "cell_type": "code",
   "execution_count": null,
   "metadata": {},
   "outputs": [],
   "source": [
    "descriptives = descriptives[\"Candles\"]\n",
    "descriptives"
   ]
  },
  {
   "cell_type": "code",
   "execution_count": null,
   "metadata": {},
   "outputs": [],
   "source": [
    "descriptives.reset_index(inplace=True)"
   ]
  },
  {
   "cell_type": "code",
   "execution_count": null,
   "metadata": {},
   "outputs": [],
   "source": [
    "import plotly.express as plt\n",
    "graph = plt.bar(descriptives, x = \"Group\", y = \"mean\", error_x = \"sem\", error_y = \"sem\", template='none', width=500, \n",
    "                labels = {\"mean\": \"Number of Candles\", \"Group\": \"Wand Used\"})\n",
    "\n",
    "graph.update_traces(marker_color=[\"#d3d3d3\", \"#FFF\", \"#FFF\"])\n",
    "graph.update_traces(marker= dict(line={\"width\":3,\"color\":\"#000000\"}))\n",
    "\n",
    "graph.update_xaxes(title_font={\"size\":16}, tickfont = {\"size\":14, \"color\":\"gray\"})\n",
    "graph.update_yaxes(title_font={\"size\":16}, tickfont = {\"size\":14, \"color\":\"gray\"})\n",
    "\n",
    "\n",
    "graph.show()"
   ]
  },
  {
   "cell_type": "markdown",
   "metadata": {
    "slideshow": {
     "slide_type": "skip"
    }
   },
   "source": [
    "<a id=\"3\"></a>"
   ]
  },
  {
   "cell_type": "markdown",
   "metadata": {
    "slideshow": {
     "slide_type": "slide"
    }
   },
   "source": [
    "## 3. One-Way ANOVA\n",
    "* Use the **f_oneway()** method available in SciPy's stats module\n",
    "* **f_oneway()** accepts two or more sequence-like objects (lists, Series, etc) corresponding to the distribution of scores in each group being compared\n",
    "    * **f_oneway(group_a, group_b, group_c)**\n",
    "* **f_oneway()** returns a tuple containing the calculated t statistic and p-value\n",
    "* https://docs.scipy.org/doc/scipy/reference/generated/scipy.stats.f_oneway.html"
   ]
  },
  {
   "cell_type": "code",
   "execution_count": null,
   "metadata": {
    "slideshow": {
     "slide_type": "-"
    }
   },
   "outputs": [],
   "source": [
    "stats.f_oneway?"
   ]
  },
  {
   "cell_type": "code",
   "execution_count": null,
   "metadata": {},
   "outputs": [],
   "source": [
    "elder_wand = data[data[\"Group\"] == \"Elder Wand\"][\"Candles\"]\n",
    "elder_wand"
   ]
  },
  {
   "cell_type": "code",
   "execution_count": null,
   "metadata": {},
   "outputs": [],
   "source": [
    "regular_wand = data[data[\"Group\"] == \"Regular Wand\"][\"Candles\"]\n",
    "regular_wand"
   ]
  },
  {
   "cell_type": "code",
   "execution_count": null,
   "metadata": {},
   "outputs": [],
   "source": [
    "personal_wand = data[data[\"Group\"] == \"Personal Wand\"][\"Candles\"]\n",
    "personal_wand"
   ]
  },
  {
   "cell_type": "code",
   "execution_count": null,
   "metadata": {
    "slideshow": {
     "slide_type": "-"
    }
   },
   "outputs": [],
   "source": [
    "stats.f_oneway(elder_wand, regular_wand, personal_wand)"
   ]
  },
  {
   "cell_type": "markdown",
   "metadata": {
    "slideshow": {
     "slide_type": "subslide"
    }
   },
   "source": [
    "### 3.1. F Test Results\n",
    "* f_oneway() method returns a tuple containing the calculated F statistic and p-value\n",
    "    * the first element of the tuple is the F statistic\n",
    "    * the second element of the tuple is the p-value"
   ]
  },
  {
   "cell_type": "code",
   "execution_count": null,
   "metadata": {},
   "outputs": [],
   "source": [
    "results = stats.f_oneway(elder_wand, regular_wand, personal_wand)"
   ]
  },
  {
   "cell_type": "code",
   "execution_count": null,
   "metadata": {},
   "outputs": [],
   "source": [
    "#t value\n",
    "fstatistic = results[0]\n",
    "fstatistic"
   ]
  },
  {
   "cell_type": "code",
   "execution_count": null,
   "metadata": {},
   "outputs": [],
   "source": [
    "#p value in scientific notation\n",
    "pvalue = results[1]\n",
    "pvalue"
   ]
  },
  {
   "cell_type": "code",
   "execution_count": null,
   "metadata": {
    "slideshow": {
     "slide_type": "fragment"
    }
   },
   "outputs": [],
   "source": [
    "format(pvalue, '.10f')"
   ]
  },
  {
   "cell_type": "markdown",
   "metadata": {
    "slideshow": {
     "slide_type": "subslide"
    }
   },
   "source": [
    "### 3.3. Degrees of Freedom\n",
    "* Unfortunately, the f_oneway() method does not provide the degrees of freedom (df) value. \n",
    "* We can calculate it ourselves though!\n",
    "* For a one-way ANOVA test, two df values are calculated:\n",
    "    * df1 = (k - 1), where k is the number of groups being compared\n",
    "    * df2 = (n1 -1) + (n2 - 1) + (n3 - 1)"
   ]
  },
  {
   "cell_type": "code",
   "execution_count": null,
   "metadata": {},
   "outputs": [],
   "source": [
    "#number of rows in descriptives corresponds to number of groups we have in this dataset\n",
    "df1 = len(descriptives) - 1\n",
    "df1"
   ]
  },
  {
   "cell_type": "code",
   "execution_count": null,
   "metadata": {},
   "outputs": [],
   "source": [
    "df2 = (len(elder_wand) - 1) + (len(regular_wand) - 1) + (len(personal_wand) - 1)\n",
    "df2"
   ]
  },
  {
   "cell_type": "markdown",
   "metadata": {
    "slideshow": {
     "slide_type": "skip"
    }
   },
   "source": [
    "<a id=\"4\"></a>"
   ]
  },
  {
   "cell_type": "markdown",
   "metadata": {
    "slideshow": {
     "slide_type": "slide"
    }
   },
   "source": [
    "## 4. Assumption Checks\n",
    "* One-way ANOVA makes two assumptions:\n",
    "    * Assumption of equality of variances\n",
    "    * Assumption of normality\n"
   ]
  },
  {
   "cell_type": "markdown",
   "metadata": {
    "slideshow": {
     "slide_type": "slide"
    }
   },
   "source": [
    "### 4.1. Checking for Equality of Variances\n",
    "* Levene’s Test of Equality of Variances\n",
    "    * Use the **levene()** method in SciPy's stats module\n",
    "    * https://docs.scipy.org/doc/scipy/reference/generated/scipy.stats.levene.html#scipy.stats.levene\n",
    " \n",
    "* **levene()** returns a tuple containing the results of the assumption check\n",
    "    * You want non-significant results from assumption checks (p > .05)"
   ]
  },
  {
   "cell_type": "code",
   "execution_count": null,
   "metadata": {
    "slideshow": {
     "slide_type": "-"
    }
   },
   "outputs": [],
   "source": [
    "levene_results = stats.levene(elder_wand, regular_wand, personal_wand)\n",
    "levene_results"
   ]
  },
  {
   "cell_type": "markdown",
   "metadata": {},
   "source": [
    "### 4.2. Checking for Normality\n",
    "* Shapiro-Wilk Test of Normality\n",
    "    * Use the **shapiro()** method in SciPy's stats module\n",
    "    * https://docs.scipy.org/doc/scipy/reference/generated/scipy.stats.shapiro.html#scipy.stats.shapiro\n",
    "\n",
    "* **shapiro()** returns a tuple containing the results of the assumption check\n",
    "    * You want non-significant results from assumption checks (p > .05)"
   ]
  },
  {
   "cell_type": "code",
   "execution_count": null,
   "metadata": {},
   "outputs": [],
   "source": [
    "shapiro_elder = stats.shapiro(elder_wand)\n",
    "shapiro_elder"
   ]
  },
  {
   "cell_type": "code",
   "execution_count": null,
   "metadata": {},
   "outputs": [],
   "source": [
    "shapiro_regular = stats.shapiro(regular_wand)\n",
    "shapiro_regular"
   ]
  },
  {
   "cell_type": "code",
   "execution_count": null,
   "metadata": {},
   "outputs": [],
   "source": [
    "shapiro_personal = stats.shapiro(personal_wand)\n",
    "shapiro_personal"
   ]
  },
  {
   "cell_type": "markdown",
   "metadata": {
    "slideshow": {
     "slide_type": "skip"
    }
   },
   "source": [
    "<a id=\"5\"></a>"
   ]
  },
  {
   "cell_type": "markdown",
   "metadata": {
    "slideshow": {
     "slide_type": "slide"
    }
   },
   "source": [
    "  \n",
    "## 5. Post-hoc tests\n",
    "* Need to follow up a significant ANOVA with a post hoc test\n",
    "* Stats Models library has a multicomparison method that would allow you to compare multiple groups using Tukey HSD correction\n",
    "* http://www.statsmodels.org/devel/generated/statsmodels.sandbox.stats.multicomp.MultiComparison.html"
   ]
  },
  {
   "cell_type": "code",
   "execution_count": null,
   "metadata": {},
   "outputs": [],
   "source": [
    "from statsmodels.stats.multicomp import pairwise_tukeyhsd\n",
    "from statsmodels.stats.multicomp import MultiComparison"
   ]
  },
  {
   "cell_type": "code",
   "execution_count": null,
   "metadata": {
    "scrolled": true
   },
   "outputs": [],
   "source": [
    "mc = MultiComparison(data[\"Candles\"], data[\"Group\"])\n",
    "\n",
    "tukey_result = mc.tukeyhsd()\n",
    " \n",
    "print(tukey_result)"
   ]
  },
  {
   "cell_type": "markdown",
   "metadata": {
    "slideshow": {
     "slide_type": "skip"
    }
   },
   "source": [
    "<a id=\"6\"></a>"
   ]
  },
  {
   "cell_type": "markdown",
   "metadata": {
    "slideshow": {
     "slide_type": "slide"
    }
   },
   "source": [
    "  \n",
    "## 6. Reporting the Results\n",
    "* Report\n",
    "    * descriptives\n",
    "    * assumption checks\n",
    "    * f statistic, degrees of freedom (df1 and df2), and p-value\n",
    "    * a bar graph"
   ]
  },
  {
   "cell_type": "code",
   "execution_count": null,
   "metadata": {},
   "outputs": [],
   "source": [
    "descriptives"
   ]
  },
  {
   "cell_type": "code",
   "execution_count": null,
   "metadata": {
    "slideshow": {
     "slide_type": "fragment"
    }
   },
   "outputs": [],
   "source": [
    "fstatistic, pvalue, df1, df2"
   ]
  },
  {
   "cell_type": "code",
   "execution_count": null,
   "metadata": {},
   "outputs": [],
   "source": [
    "levene_results"
   ]
  },
  {
   "cell_type": "code",
   "execution_count": null,
   "metadata": {},
   "outputs": [],
   "source": [
    "graph.show()"
   ]
  }
 ],
 "metadata": {
  "celltoolbar": "Slideshow",
  "kernelspec": {
   "display_name": "Python 3",
   "language": "python",
   "name": "python3"
  },
  "language_info": {
   "codemirror_mode": {
    "name": "ipython",
    "version": 3
   },
   "file_extension": ".py",
   "mimetype": "text/x-python",
   "name": "python",
   "nbconvert_exporter": "python",
   "pygments_lexer": "ipython3",
   "version": "3.7.3"
  }
 },
 "nbformat": 4,
 "nbformat_minor": 2
}

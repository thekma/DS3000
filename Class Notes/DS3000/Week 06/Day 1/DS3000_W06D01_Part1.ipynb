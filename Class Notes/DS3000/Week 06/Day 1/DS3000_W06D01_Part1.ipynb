{
  "cells": [
    {
      "metadata": {
        "slideshow": {
          "slide_type": "slide"
        }
      },
      "cell_type": "markdown",
      "source": "<center> <img src=\"res/ds3000.png\"> </center>"
    },
    {
      "metadata": {},
      "cell_type": "markdown",
      "source": "<center> <h1> Week 6 - Day 1 </h1> </center>"
    },
    {
      "metadata": {},
      "cell_type": "markdown",
      "source": "<center> <h2> Part 1: Data Wrangling </h2></center>"
    },
    {
      "metadata": {
        "slideshow": {
          "slide_type": "skip"
        }
      },
      "cell_type": "markdown",
      "source": "## Outline\n1. <a href='#1'>DataFrame Columns</a>\n2. <a href='#2'>Sorting a DataFrame</a>\n3. <a href='#3'>Querying a DataFrame</a>\n4. <a href='#4'>Data Cleaning Example</a>"
    },
    {
      "metadata": {},
      "cell_type": "markdown",
      "source": "## Data Wrangling\n* Data does not always come in forms ready for analysis\n* Data could be\n    * wrong format\n    * incorrect \n    * missing\n* Data scientists can spend as much as 75% of their time preparing data before they begin their studies\n* Called **data munging** or **data wrangling**"
    },
    {
      "metadata": {
        "slideshow": {
          "slide_type": "skip"
        }
      },
      "cell_type": "markdown",
      "source": "<a id=\"1\"></a>"
    },
    {
      "metadata": {
        "slideshow": {
          "slide_type": "slide"
        }
      },
      "cell_type": "markdown",
      "source": "## 1. DataFrame Columns"
    },
    {
      "metadata": {
        "trusted": false
      },
      "cell_type": "code",
      "source": "import pandas as pd",
      "execution_count": null,
      "outputs": []
    },
    {
      "metadata": {
        "trusted": false
      },
      "cell_type": "code",
      "source": "df = pd.read_csv(\"res/hp_grades.csv\")",
      "execution_count": null,
      "outputs": []
    },
    {
      "metadata": {
        "trusted": false
      },
      "cell_type": "code",
      "source": "df",
      "execution_count": null,
      "outputs": []
    },
    {
      "metadata": {
        "trusted": false
      },
      "cell_type": "code",
      "source": "df = df.set_index(\"Student\")",
      "execution_count": null,
      "outputs": []
    },
    {
      "metadata": {
        "trusted": false
      },
      "cell_type": "code",
      "source": "df",
      "execution_count": null,
      "outputs": []
    },
    {
      "metadata": {
        "slideshow": {
          "slide_type": "subslide"
        }
      },
      "cell_type": "markdown",
      "source": "### 1.1. Renaming Columns"
    },
    {
      "metadata": {
        "trusted": false
      },
      "cell_type": "code",
      "source": "df =df.rename(columns = {\"PTest1\": \"Potion1\", \"PTest2\":\"Potion2\", \"CTest1\":\"Charm1\", \"CTest2\":\"Charm2\"})",
      "execution_count": null,
      "outputs": []
    },
    {
      "metadata": {
        "trusted": false
      },
      "cell_type": "code",
      "source": "df",
      "execution_count": null,
      "outputs": []
    },
    {
      "metadata": {
        "slideshow": {
          "slide_type": "subslide"
        }
      },
      "cell_type": "markdown",
      "source": "### 1.2. Adding and Computing with Columns"
    },
    {
      "metadata": {
        "trusted": false
      },
      "cell_type": "code",
      "source": "df[\"Potion_Ave\"] = (df[\"Potion1\"] + df[\"Potion2\"]) / 2",
      "execution_count": null,
      "outputs": []
    },
    {
      "metadata": {
        "trusted": false
      },
      "cell_type": "code",
      "source": "df",
      "execution_count": null,
      "outputs": []
    },
    {
      "metadata": {
        "slideshow": {
          "slide_type": "subslide"
        },
        "trusted": false
      },
      "cell_type": "code",
      "source": "df[\"Charm_Ave\"] = (df[\"Charm1\"] + df[\"Charm2\"]) / 2",
      "execution_count": null,
      "outputs": []
    },
    {
      "metadata": {
        "trusted": false
      },
      "cell_type": "code",
      "source": "df",
      "execution_count": null,
      "outputs": []
    },
    {
      "metadata": {
        "slideshow": {
          "slide_type": "subslide"
        },
        "trusted": false
      },
      "cell_type": "code",
      "source": "pd.set_option(\"precision\", 2)",
      "execution_count": null,
      "outputs": []
    },
    {
      "metadata": {
        "trusted": false
      },
      "cell_type": "code",
      "source": "df",
      "execution_count": null,
      "outputs": []
    },
    {
      "metadata": {
        "slideshow": {
          "slide_type": "subslide"
        }
      },
      "cell_type": "markdown",
      "source": "### 1.3. unique() method\n* Returns an array of the unique values in a column"
    },
    {
      "metadata": {
        "trusted": false
      },
      "cell_type": "code",
      "source": "df[\"House\"].unique()",
      "execution_count": null,
      "outputs": []
    },
    {
      "metadata": {
        "slideshow": {
          "slide_type": "skip"
        }
      },
      "cell_type": "markdown",
      "source": "<a id=\"2\"></a>"
    },
    {
      "metadata": {
        "slideshow": {
          "slide_type": "slide"
        }
      },
      "cell_type": "markdown",
      "source": "## 2. Sorting a DataFrame\n* Can sort a `DataFrame` by its rows or columns, based on their indices or values"
    },
    {
      "metadata": {
        "slideshow": {
          "slide_type": "subslide"
        }
      },
      "cell_type": "markdown",
      "source": "### 2.1. Sorting by Indices\n* **sort_index()** method\n    * Does not modify the original dataframe\n    * By default, sorts in ascending order\n* Sort the rows by their *indices* in _descending_ order using **`sort_index`** and its keyword argument `ascending=False` "
    },
    {
      "metadata": {
        "slideshow": {
          "slide_type": "fragment"
        },
        "trusted": false
      },
      "cell_type": "code",
      "source": "df.sort_index()",
      "execution_count": null,
      "outputs": []
    },
    {
      "metadata": {
        "trusted": false
      },
      "cell_type": "code",
      "source": "df.sort_index(ascending=False)",
      "execution_count": null,
      "outputs": []
    },
    {
      "metadata": {},
      "cell_type": "markdown",
      "source": "### 2.2. Sorting by Column Indices\n* Sort columns into ascending order (left-to-right) by their column names\n* **`axis=1` keyword argument** indicates that we wish to sort the _column_ indices, rather than the row indices\n    * `axis=0` (the default) sorts the _row_ indices"
    },
    {
      "metadata": {
        "trusted": false
      },
      "cell_type": "code",
      "source": "df.sort_index(axis=1)",
      "execution_count": null,
      "outputs": []
    },
    {
      "metadata": {
        "slideshow": {
          "slide_type": "subslide"
        }
      },
      "cell_type": "markdown",
      "source": "### 2.3. Sorting by Column Values\n* To view `Potion_Ave`’s grades in descending order so we can see the students’ names in highest-to-lowest grade order, call method **`sort_values`**\n* `by` and `axis` arguments work together to determine which values will be sorted\n    * In this case, we sort based on the column values (`axis=1`) for `Potion_Ave`\n    \n* Does not modify the original DataFrame"
    },
    {
      "metadata": {
        "trusted": false
      },
      "cell_type": "code",
      "source": "df.sort_values(by=\"Charm_Ave\", ascending=False)",
      "execution_count": null,
      "outputs": []
    },
    {
      "metadata": {
        "slideshow": {
          "slide_type": "subslide"
        },
        "trusted": false
      },
      "cell_type": "code",
      "source": "df.sort_values(by=\"Potion_Ave\", ascending=False)",
      "execution_count": null,
      "outputs": []
    },
    {
      "metadata": {
        "trusted": false
      },
      "cell_type": "code",
      "source": "df",
      "execution_count": null,
      "outputs": []
    },
    {
      "metadata": {
        "slideshow": {
          "slide_type": "subslide"
        }
      },
      "cell_type": "markdown",
      "source": "* Can sort by multiple columns\n* Just pass in a list of column names"
    },
    {
      "metadata": {
        "trusted": false
      },
      "cell_type": "code",
      "source": "df.sort_values(by=[\"Charm_Ave\", \"Potion_Ave\"], ascending=False)",
      "execution_count": null,
      "outputs": []
    },
    {
      "metadata": {
        "slideshow": {
          "slide_type": "subslide"
        },
        "trusted": false
      },
      "cell_type": "code",
      "source": "df.sort_values(by=[\"Potion_Ave\", \"Charm_Ave\"], ascending=False)",
      "execution_count": null,
      "outputs": []
    },
    {
      "metadata": {
        "slideshow": {
          "slide_type": "subslide"
        },
        "trusted": false
      },
      "cell_type": "code",
      "source": "#the original df remains \"unsorted\"\ndf",
      "execution_count": null,
      "outputs": []
    },
    {
      "metadata": {
        "slideshow": {
          "slide_type": "subslide"
        }
      },
      "cell_type": "markdown",
      "source": "### 2.4. Copy vs. In-Place Sorting\n* `sort_index` and `sort_values` return a _copy_ of the original `DataFrame`\n* Could require substantial memory in a big data application\n* Can sort _in place_ by passing the keyword argument `inplace=True` "
    },
    {
      "metadata": {
        "trusted": false
      },
      "cell_type": "code",
      "source": "df.sort_values(by=[\"Potion_Ave\", \"Charm_Ave\"], ascending=False, inplace=True)",
      "execution_count": null,
      "outputs": []
    },
    {
      "metadata": {
        "trusted": false
      },
      "cell_type": "code",
      "source": "df",
      "execution_count": null,
      "outputs": []
    },
    {
      "metadata": {
        "slideshow": {
          "slide_type": "skip"
        }
      },
      "cell_type": "markdown",
      "source": "<a id=\"3\"></a>"
    },
    {
      "metadata": {
        "slideshow": {
          "slide_type": "slide"
        }
      },
      "cell_type": "markdown",
      "source": "## 3. Querying a DataFrame"
    },
    {
      "metadata": {
        "slideshow": {
          "slide_type": "subslide"
        }
      },
      "cell_type": "markdown",
      "source": "### 3.1. Boolean Indexing\n* One of pandas’ more powerful selection capabilities is **Boolean indexing**\n* Select all Potion_Ave grades that are greater than or equal to 85:"
    },
    {
      "metadata": {
        "scrolled": true,
        "trusted": false
      },
      "cell_type": "code",
      "source": "df[\"Potion_Ave\"] >= 85",
      "execution_count": null,
      "outputs": []
    },
    {
      "metadata": {
        "slideshow": {
          "slide_type": "subslide"
        },
        "trusted": false
      },
      "cell_type": "code",
      "source": "type(df[\"Potion_Ave\"] >= 85)",
      "execution_count": null,
      "outputs": []
    },
    {
      "metadata": {
        "slideshow": {
          "slide_type": "subslide"
        }
      },
      "cell_type": "markdown",
      "source": "### 3.1.1 where() method\n* Used to check a data frame for one or more condition and return the result accordingly. \n* By default, the rows not satisfying the condition are filled with NaN value.\n* `df.where(cond, other, inplace)`"
    },
    {
      "metadata": {
        "slideshow": {
          "slide_type": "subslide"
        },
        "trusted": false
      },
      "cell_type": "code",
      "source": "df85 = df.where(df[\"Potion_Ave\"] >= 85)",
      "execution_count": null,
      "outputs": []
    },
    {
      "metadata": {
        "trusted": false
      },
      "cell_type": "code",
      "source": "df85",
      "execution_count": null,
      "outputs": []
    },
    {
      "metadata": {
        "slideshow": {
          "slide_type": "subslide"
        },
        "trusted": false
      },
      "cell_type": "code",
      "source": "df85 = df.where(df[\"Potion_Ave\"] >= 85)",
      "execution_count": null,
      "outputs": []
    },
    {
      "metadata": {
        "slideshow": {
          "slide_type": "-"
        }
      },
      "cell_type": "markdown",
      "source": "* Pandas checks every grade to determine whether its value is greater than or equal to 85 and, if so, includes it in the new `DataFrame`.\n* Grades for which the condition is `False` are represented as **`NaN` (not a number)** in the new `DataFrame\n* `NaN` is pandas’ notation for missing values\n* Can change NaN using the **other** keyword argument.\n* where() returns a new DataFrame\n    * If you want to make sure the changes are reflected in the original df, set **inplace=True**"
    },
    {
      "metadata": {
        "slideshow": {
          "slide_type": "subslide"
        }
      },
      "cell_type": "markdown",
      "source": "### 3.1.2. dropna() method\n* Drops NaN values from DataFrames"
    },
    {
      "metadata": {
        "trusted": false
      },
      "cell_type": "code",
      "source": "df85 = df85.dropna()",
      "execution_count": null,
      "outputs": []
    },
    {
      "metadata": {
        "trusted": false
      },
      "cell_type": "code",
      "source": "df85",
      "execution_count": null,
      "outputs": []
    },
    {
      "metadata": {
        "slideshow": {
          "slide_type": "subslide"
        }
      },
      "cell_type": "markdown",
      "source": "* We don't have to use where() all the time"
    },
    {
      "metadata": {
        "slideshow": {
          "slide_type": "-"
        },
        "trusted": false
      },
      "cell_type": "code",
      "source": "df85 = df[df[\"Potion_Ave\"] >= 85]",
      "execution_count": null,
      "outputs": []
    },
    {
      "metadata": {
        "trusted": false
      },
      "cell_type": "code",
      "source": "df85",
      "execution_count": null,
      "outputs": []
    },
    {
      "metadata": {
        "slideshow": {
          "slide_type": "subslide"
        },
        "trusted": false
      },
      "cell_type": "code",
      "source": "df85 = df[df[\"Charm_Ave\"] >= 85]",
      "execution_count": null,
      "outputs": []
    },
    {
      "metadata": {
        "trusted": false
      },
      "cell_type": "code",
      "source": "df85",
      "execution_count": null,
      "outputs": []
    },
    {
      "metadata": {
        "slideshow": {
          "slide_type": "subslide"
        }
      },
      "cell_type": "markdown",
      "source": "#### Let's return a list of students whose average score is 85 or higher in **both** Potions and Charms\n* Pandas Boolean indices combine multiple conditions with the Python operator `&` (bitwise AND), _not_ the `and` Boolean operator \n* For `or` conditions, use `|` (bitwise OR)\n* Each boolean mask needs to be embraced in parentheses"
    },
    {
      "metadata": {
        "trusted": false
      },
      "cell_type": "code",
      "source": "df85 = df[(df[\"Potion_Ave\"] >= 85) & (df[\"Charm_Ave\"] >= 85)]",
      "execution_count": null,
      "outputs": []
    },
    {
      "metadata": {
        "trusted": false
      },
      "cell_type": "code",
      "source": "df85",
      "execution_count": null,
      "outputs": []
    },
    {
      "metadata": {
        "slideshow": {
          "slide_type": "subslide"
        }
      },
      "cell_type": "markdown",
      "source": "#### Let's return a list of students whose average score is 85 or higher in either Potions or Charms"
    },
    {
      "metadata": {
        "trusted": false
      },
      "cell_type": "code",
      "source": "df85 = df[(df[\"Potion_Ave\"] >= 85) | (df[\"Charm_Ave\"] >= 85)]",
      "execution_count": null,
      "outputs": []
    },
    {
      "metadata": {
        "trusted": false
      },
      "cell_type": "code",
      "source": "df85",
      "execution_count": null,
      "outputs": []
    },
    {
      "metadata": {
        "slideshow": {
          "slide_type": "subslide"
        }
      },
      "cell_type": "markdown",
      "source": "#### How would you modify the previous code snippet to retrieve a dataframe of students scoring greater than, or equal to, class average in both classes?"
    },
    {
      "metadata": {
        "slideshow": {
          "slide_type": "fragment"
        },
        "trusted": false
      },
      "cell_type": "code",
      "source": "df[\"Potion_Ave\"].mean()",
      "execution_count": null,
      "outputs": []
    },
    {
      "metadata": {
        "trusted": false
      },
      "cell_type": "code",
      "source": "df[\"Charm_Ave\"].mean()",
      "execution_count": null,
      "outputs": []
    },
    {
      "metadata": {
        "slideshow": {
          "slide_type": "subslide"
        }
      },
      "cell_type": "markdown",
      "source": "* Put these in the previous chained comparison expresion:\n```python\ndf85 = df[(df[\"Potion_Ave\"] >= 85) & (df[\"Charm_Ave\"] >= 85)]\n```\n\n* Replace 85 with `df[\"Charm_Ave\"].mean()` and `df[\"Potion_Ave\"].mean()`"
    },
    {
      "metadata": {
        "slideshow": {
          "slide_type": "fragment"
        },
        "trusted": false
      },
      "cell_type": "code",
      "source": "new_df = df[(df[\"Potion_Ave\"] >= df[\"Potion_Ave\"].mean()) & (df[\"Charm_Ave\"] >= df[\"Charm_Ave\"].mean())]",
      "execution_count": null,
      "outputs": []
    },
    {
      "metadata": {
        "trusted": false
      },
      "cell_type": "code",
      "source": "new_df",
      "execution_count": null,
      "outputs": []
    },
    {
      "metadata": {
        "slideshow": {
          "slide_type": "subslide"
        }
      },
      "cell_type": "markdown",
      "source": "* **Retrieve the number of students satisfying the previous criteria:**"
    },
    {
      "metadata": {
        "slideshow": {
          "slide_type": "-"
        },
        "trusted": false
      },
      "cell_type": "code",
      "source": "len(new_df) #number of students",
      "execution_count": null,
      "outputs": []
    },
    {
      "metadata": {
        "slideshow": {
          "slide_type": "subslide"
        }
      },
      "cell_type": "markdown",
      "source": "* **Retrieve a list of student names satisfying the previous criteria:**"
    },
    {
      "metadata": {
        "trusted": false
      },
      "cell_type": "code",
      "source": "list(new_df.index)",
      "execution_count": null,
      "outputs": []
    },
    {
      "metadata": {
        "slideshow": {
          "slide_type": "subslide"
        }
      },
      "cell_type": "markdown",
      "source": "* Alternatively, if you want to do everything in one line"
    },
    {
      "metadata": {
        "trusted": false
      },
      "cell_type": "code",
      "source": "overachievers = list(df[(df[\"Potion_Ave\"] >= df[\"Potion_Ave\"].mean()) & (df[\"Charm_Ave\"] >= df[\"Charm_Ave\"].mean())].index)",
      "execution_count": null,
      "outputs": []
    },
    {
      "metadata": {
        "trusted": false
      },
      "cell_type": "code",
      "source": "overachievers",
      "execution_count": null,
      "outputs": []
    },
    {
      "metadata": {},
      "cell_type": "markdown",
      "source": "<center><img src=\"res/df.png\" /></center>"
    },
    {
      "metadata": {
        "slideshow": {
          "slide_type": "skip"
        }
      },
      "cell_type": "markdown",
      "source": "<a id=\"4\"></a>"
    },
    {
      "metadata": {
        "slideshow": {
          "slide_type": "slide"
        }
      },
      "cell_type": "markdown",
      "source": "\n## 4. Data Cleaning Example\n* No need to store the columns you are not going to use during analysis\n* Can select a subset of columns and create a new DF containing those columns\n* Then write this DF to a file"
    },
    {
      "metadata": {
        "slideshow": {
          "slide_type": "fragment"
        },
        "trusted": false
      },
      "cell_type": "code",
      "source": "df",
      "execution_count": null,
      "outputs": []
    },
    {
      "metadata": {
        "trusted": false
      },
      "cell_type": "code",
      "source": "columns_needed = [\"House\", \"Potion_Ave\", \"Charm_Ave\"]",
      "execution_count": null,
      "outputs": []
    },
    {
      "metadata": {
        "trusted": false
      },
      "cell_type": "code",
      "source": "final_df = df[columns_needed]",
      "execution_count": null,
      "outputs": []
    },
    {
      "metadata": {
        "trusted": false
      },
      "cell_type": "code",
      "source": "final_df",
      "execution_count": null,
      "outputs": []
    },
    {
      "metadata": {
        "trusted": false
      },
      "cell_type": "code",
      "source": "final_df.to_csv(\"res/ave_grades.csv\")",
      "execution_count": null,
      "outputs": []
    },
    {
      "metadata": {
        "slideshow": {
          "slide_type": "skip"
        }
      },
      "cell_type": "markdown",
      "source": "<a id=\"6\"></a>"
    }
  ],
  "metadata": {
    "celltoolbar": "Slideshow",
    "kernelspec": {
      "name": "python3",
      "display_name": "Python 3",
      "language": "python"
    },
    "language_info": {
      "mimetype": "text/x-python",
      "nbconvert_exporter": "python",
      "name": "python",
      "file_extension": ".py",
      "version": "3.5.4",
      "pygments_lexer": "ipython3",
      "codemirror_mode": {
        "version": 3,
        "name": "ipython"
      }
    }
  },
  "nbformat": 4,
  "nbformat_minor": 2
}
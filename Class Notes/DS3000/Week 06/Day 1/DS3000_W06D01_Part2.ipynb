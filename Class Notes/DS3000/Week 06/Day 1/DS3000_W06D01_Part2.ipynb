{
  "cells": [
    {
      "metadata": {
        "slideshow": {
          "slide_type": "slide"
        }
      },
      "cell_type": "markdown",
      "source": "<center> <img src=\"res/ds3000.png\"> </center>"
    },
    {
      "metadata": {},
      "cell_type": "markdown",
      "source": "<center> <h1> Week 6 - Day 1 </h1> </center>"
    },
    {
      "metadata": {},
      "cell_type": "markdown",
      "source": "<center> <h2> Part 2: Data Wrangling Cont'd </h2></center>"
    },
    {
      "metadata": {
        "slideshow": {
          "slide_type": "skip"
        }
      },
      "cell_type": "markdown",
      "source": "## Outline\n1. <a href='#1'>Multilevel/Hierarchical Indexing</a>\n2. <a href='#2'>Working with Missing Values in DataFrames</a>\n3. <a href='#3'>working with Duplicates</a>\n4. <a href='#4'>Replacing Values</a>\n5. <a href='#5'>Renaming Axis Indices</a>"
    },
    {
      "metadata": {
        "slideshow": {
          "slide_type": "skip"
        }
      },
      "cell_type": "markdown",
      "source": "<a id=\"1\"></a>"
    },
    {
      "metadata": {
        "slideshow": {
          "slide_type": "slide"
        }
      },
      "cell_type": "markdown",
      "source": "## 1. Multilevel/Hierarchical Indexing\n* Can index dataframes using two columns as indices\n* Use the **set_index** method and pass in a **list of column names**"
    },
    {
      "metadata": {
        "trusted": false
      },
      "cell_type": "code",
      "source": "import pandas as pd",
      "execution_count": null,
      "outputs": []
    },
    {
      "metadata": {
        "trusted": false
      },
      "cell_type": "code",
      "source": "df = pd.read_csv(\"res/ave_grades.csv\")",
      "execution_count": null,
      "outputs": []
    },
    {
      "metadata": {
        "scrolled": true,
        "trusted": false
      },
      "cell_type": "code",
      "source": "df",
      "execution_count": null,
      "outputs": []
    },
    {
      "metadata": {
        "slideshow": {
          "slide_type": "subslide"
        },
        "trusted": false
      },
      "cell_type": "code",
      "source": "df = df.set_index(\"Student\")",
      "execution_count": null,
      "outputs": []
    },
    {
      "metadata": {
        "trusted": false
      },
      "cell_type": "code",
      "source": "df",
      "execution_count": null,
      "outputs": []
    },
    {
      "metadata": {
        "trusted": false
      },
      "cell_type": "code",
      "source": "df.loc[\"Hermione Granger\"]",
      "execution_count": null,
      "outputs": []
    },
    {
      "metadata": {
        "slideshow": {
          "slide_type": "subslide"
        }
      },
      "cell_type": "markdown",
      "source": "#### reset_index() method\n* resets the index\n* promotes the current index into a column\n* creates a default numbered index\n"
    },
    {
      "metadata": {
        "trusted": false
      },
      "cell_type": "code",
      "source": "df = df.reset_index()",
      "execution_count": null,
      "outputs": []
    },
    {
      "metadata": {
        "trusted": false
      },
      "cell_type": "code",
      "source": "df",
      "execution_count": null,
      "outputs": []
    },
    {
      "metadata": {
        "slideshow": {
          "slide_type": "subslide"
        },
        "trusted": false
      },
      "cell_type": "code",
      "source": "#set multiple indices\ndf = df.set_index([\"House\", \"Student\"])",
      "execution_count": null,
      "outputs": []
    },
    {
      "metadata": {
        "trusted": false
      },
      "cell_type": "code",
      "source": "df",
      "execution_count": null,
      "outputs": []
    },
    {
      "metadata": {
        "slideshow": {
          "slide_type": "subslide"
        },
        "trusted": false
      },
      "cell_type": "code",
      "source": "df = df.sort_index()",
      "execution_count": null,
      "outputs": []
    },
    {
      "metadata": {
        "trusted": false
      },
      "cell_type": "code",
      "source": "df",
      "execution_count": null,
      "outputs": []
    },
    {
      "metadata": {
        "slideshow": {
          "slide_type": "subslide"
        }
      },
      "cell_type": "markdown",
      "source": "* Multilevel indices are stored as a list of tuples:"
    },
    {
      "metadata": {
        "scrolled": true,
        "slideshow": {
          "slide_type": "-"
        },
        "trusted": false
      },
      "cell_type": "code",
      "source": "df.index",
      "execution_count": null,
      "outputs": []
    },
    {
      "metadata": {
        "trusted": false
      },
      "cell_type": "code",
      "source": "df.index.values",
      "execution_count": null,
      "outputs": []
    },
    {
      "metadata": {
        "slideshow": {
          "slide_type": "subslide"
        }
      },
      "cell_type": "markdown",
      "source": "### 1.1. Selecting Rows from a Hierarchically-Indexed DataFrame"
    },
    {
      "metadata": {
        "trusted": false
      },
      "cell_type": "code",
      "source": "df.loc[\"Gryffindor\"]",
      "execution_count": null,
      "outputs": []
    },
    {
      "metadata": {
        "slideshow": {
          "slide_type": "fragment"
        },
        "trusted": false
      },
      "cell_type": "code",
      "source": "df.loc[\"Gryffindor\", \"Harry Potter\"]",
      "execution_count": null,
      "outputs": []
    },
    {
      "metadata": {
        "slideshow": {
          "slide_type": "subslide"
        },
        "trusted": false
      },
      "cell_type": "code",
      "source": "df.loc[\"Gryffindor\"].describe()",
      "execution_count": null,
      "outputs": []
    },
    {
      "metadata": {
        "slideshow": {
          "slide_type": "fragment"
        },
        "trusted": false
      },
      "cell_type": "code",
      "source": "df.loc[\"Slytherin\"].mean()",
      "execution_count": null,
      "outputs": []
    },
    {
      "metadata": {
        "slideshow": {
          "slide_type": "fragment"
        }
      },
      "cell_type": "markdown",
      "source": "#### How would you modify the code snippet above to retrieve the mean score for Syltherin on Potion_Ave?"
    },
    {
      "metadata": {
        "scrolled": true,
        "slideshow": {
          "slide_type": "fragment"
        },
        "trusted": false
      },
      "cell_type": "code",
      "source": "df.loc[\"Slytherin\", \"Potion_Ave\"].mean()",
      "execution_count": null,
      "outputs": []
    },
    {
      "metadata": {
        "slideshow": {
          "slide_type": "subslide"
        }
      },
      "cell_type": "markdown",
      "source": "### 1.2. Selecting Multiple Rows\n* When selecting multiple rows, provide a list of tuples corresponding to each row\n    * e.g., if selecting two rows, provide a list of two tuples"
    },
    {
      "metadata": {
        "trusted": false
      },
      "cell_type": "code",
      "source": "df.loc[[(\"Gryffindor\", \"Harry Potter\"), (\"Slytherin\", \"Draco Malfoy\")]]",
      "execution_count": null,
      "outputs": []
    },
    {
      "metadata": {
        "trusted": false
      },
      "cell_type": "code",
      "source": "df",
      "execution_count": null,
      "outputs": []
    },
    {
      "metadata": {
        "slideshow": {
          "slide_type": "subslide"
        }
      },
      "cell_type": "markdown",
      "source": "### 1.3. Selecting Multiple Rows with Specific Columns\n* Specify the list of columns as a second argument to **.loc[rows, columns]**"
    },
    {
      "metadata": {
        "trusted": false
      },
      "cell_type": "code",
      "source": "df.loc[[(\"Gryffindor\", \"Harry Potter\"), (\"Slytherin\", \"Draco Malfoy\")], [\"Potion_Ave\"]]",
      "execution_count": null,
      "outputs": []
    },
    {
      "metadata": {
        "slideshow": {
          "slide_type": "skip"
        }
      },
      "cell_type": "markdown",
      "source": "<a id=\"2\"></a>"
    },
    {
      "metadata": {
        "slideshow": {
          "slide_type": "slide"
        }
      },
      "cell_type": "markdown",
      "source": "## 2. Working with Missing Values in DataFrames\n* Real-life datasets often contain missing values\n* Need to do something about those missing values before analyzing the data"
    },
    {
      "metadata": {
        "trusted": false
      },
      "cell_type": "code",
      "source": "dada = pd.read_csv(\"res/DADA.csv\")",
      "execution_count": null,
      "outputs": []
    },
    {
      "metadata": {
        "trusted": false
      },
      "cell_type": "code",
      "source": "dada",
      "execution_count": null,
      "outputs": []
    },
    {
      "metadata": {
        "slideshow": {
          "slide_type": "subslide"
        }
      },
      "cell_type": "markdown",
      "source": "### Pandas and Missing Data\n* Pandas automatically assigns **NaN**, \"Not a Number\", to missing values while reading a file\n* By defaulty, empty cells are considered missing values, and hence, assigned NaN\n* Can specify the missing value used to indicate missing data\n    * use **na_values** keyword argument"
    },
    {
      "metadata": {
        "trusted": false
      },
      "cell_type": "code",
      "source": "pd.read_csv(\"res/DADA_NA.csv\")",
      "execution_count": null,
      "outputs": []
    },
    {
      "metadata": {
        "trusted": false
      },
      "cell_type": "code",
      "source": "pd.read_csv(\"res/DADA_NA.csv\", na_values = \"-99\")",
      "execution_count": null,
      "outputs": []
    },
    {
      "metadata": {
        "slideshow": {
          "slide_type": "subslide"
        }
      },
      "cell_type": "markdown",
      "source": "### What to do with missing data?\n* Filter out missing data\n* Fill in missing data\n* Ignore missing data"
    },
    {
      "metadata": {
        "slideshow": {
          "slide_type": "subslide"
        }
      },
      "cell_type": "markdown",
      "source": "### 2.1. Filtering Out Missing Data\n* The dropna() method allows you to drop rows and columns with missing data\n* By default, dropna() drops any row containing a missing value"
    },
    {
      "metadata": {
        "trusted": false
      },
      "cell_type": "code",
      "source": "dada",
      "execution_count": null,
      "outputs": []
    },
    {
      "metadata": {
        "slideshow": {
          "slide_type": "subslide"
        },
        "trusted": false
      },
      "cell_type": "code",
      "source": "dada_clean = dada.dropna()",
      "execution_count": null,
      "outputs": []
    },
    {
      "metadata": {
        "trusted": false
      },
      "cell_type": "code",
      "source": "dada_clean",
      "execution_count": null,
      "outputs": []
    },
    {
      "metadata": {
        "slideshow": {
          "slide_type": "subslide"
        },
        "trusted": false
      },
      "cell_type": "code",
      "source": "dada",
      "execution_count": null,
      "outputs": []
    },
    {
      "metadata": {
        "slideshow": {
          "slide_type": "subslide"
        }
      },
      "cell_type": "markdown",
      "source": "### 2.1.1. Filtering out empty rows\nIt appears that Row 12 is in the dataset by mistake."
    },
    {
      "metadata": {},
      "cell_type": "markdown",
      "source": "**dropna(how = \"all\")** will only drop rows that are all NaN.\n* If you want to drop columns in the same way, pass **axis=1**: **df.dropna(how=\"all\", axis=1)**"
    },
    {
      "metadata": {
        "trusted": false
      },
      "cell_type": "code",
      "source": "dada= dada.dropna(how=\"all\")",
      "execution_count": null,
      "outputs": []
    },
    {
      "metadata": {
        "trusted": false
      },
      "cell_type": "code",
      "source": "dada",
      "execution_count": null,
      "outputs": []
    },
    {
      "metadata": {
        "slideshow": {
          "slide_type": "subslide"
        }
      },
      "cell_type": "markdown",
      "source": "* Alternatively, set skip_blank_lines=True when loading the dataset"
    },
    {
      "metadata": {
        "trusted": false
      },
      "cell_type": "code",
      "source": "pd.read_csv(\"res/DADA_NA.csv\", skip_blank_lines=True) ",
      "execution_count": null,
      "outputs": []
    },
    {
      "metadata": {
        "slideshow": {
          "slide_type": "subslide"
        }
      },
      "cell_type": "markdown",
      "source": "### 2.1.2. Specifying Number of Missing Values Before Filtering Out\n* The **tresh** keyword argument specifies the number of non-NaN values a row should have so that it will not be filtered out\n* **dropna(thresh=2)** means all rows containing less than 2 non-NaN values will be filtered out, or dropped."
    },
    {
      "metadata": {},
      "cell_type": "markdown",
      "source": "* Suppose Professor Lupin has decided to calculate the midterm grade if students have performed five of the six spells."
    },
    {
      "metadata": {
        "scrolled": true,
        "trusted": false
      },
      "cell_type": "code",
      "source": "dada.dropna(thresh=5)",
      "execution_count": null,
      "outputs": []
    },
    {
      "metadata": {
        "slideshow": {
          "slide_type": "subslide"
        }
      },
      "cell_type": "markdown",
      "source": "### 2.2. Filling In Missing Data\n* Instead of filtering out missing data, you can fill in missing data with some other values.\n* the **fillna()** method allows you to fill in missing data with specific values"
    },
    {
      "metadata": {
        "trusted": false
      },
      "cell_type": "code",
      "source": "dada.fillna(0)",
      "execution_count": null,
      "outputs": []
    },
    {
      "metadata": {
        "slideshow": {
          "slide_type": "subslide"
        }
      },
      "cell_type": "markdown",
      "source": "### Caution\n* fillna returns a new DF\n* If you want to update the original DF, set inplace=True\n> ```python\ndada.fillna(0, inplace = True)\n```"
    },
    {
      "metadata": {
        "slideshow": {
          "slide_type": "subslide"
        }
      },
      "cell_type": "markdown",
      "source": "### 2.2.1. Filling In a Different Value for Each Column\n* Can fill in each column with a different value\n* Pass in a dictionary containing column names as keys and desired NA values as values\n    * **fillna(dictionary_of_values)**"
    },
    {
      "metadata": {
        "trusted": false
      },
      "cell_type": "code",
      "source": "default_col_values = {\"Expelliarmus\": 0, \"Stupefy\": 0, \"Protego\": 0, \n                      \"Accio\": 0, \"Petrificus Totalus\": 0, \"Expecto Patronum\": \"\"}",
      "execution_count": null,
      "outputs": []
    },
    {
      "metadata": {
        "trusted": false
      },
      "cell_type": "code",
      "source": "dada.fillna(default_col_values)",
      "execution_count": null,
      "outputs": []
    },
    {
      "metadata": {
        "slideshow": {
          "slide_type": "skip"
        }
      },
      "cell_type": "markdown",
      "source": "<a id=\"3\"></a>"
    },
    {
      "metadata": {
        "slideshow": {
          "slide_type": "slide"
        }
      },
      "cell_type": "markdown",
      "source": "## 3. Working with Duplicates\n* Sometimes datasets contain duplicates record, which you may want to discard"
    },
    {
      "metadata": {
        "trusted": false
      },
      "cell_type": "code",
      "source": "dada",
      "execution_count": null,
      "outputs": []
    },
    {
      "metadata": {
        "trusted": false
      },
      "cell_type": "code",
      "source": "dada = dada.append(dada.iloc[0])",
      "execution_count": null,
      "outputs": []
    },
    {
      "metadata": {
        "trusted": false
      },
      "cell_type": "code",
      "source": "dada",
      "execution_count": null,
      "outputs": []
    },
    {
      "metadata": {},
      "cell_type": "markdown",
      "source": "### 3.1. duplicated() method\nReturns a boolean Series indicating whether each row is a duplicated (whether it has been observed in a previous row)"
    },
    {
      "metadata": {
        "trusted": false
      },
      "cell_type": "code",
      "source": "dada.duplicated()",
      "execution_count": null,
      "outputs": []
    },
    {
      "metadata": {},
      "cell_type": "markdown",
      "source": "### 3.2. drop_duplicates() method\n* Returns a DataFrame where the duplicates have been dropped"
    },
    {
      "metadata": {
        "trusted": false
      },
      "cell_type": "code",
      "source": "dada.drop_duplicates()",
      "execution_count": null,
      "outputs": []
    },
    {
      "metadata": {
        "slideshow": {
          "slide_type": "subslide"
        }
      },
      "cell_type": "markdown",
      "source": "* You can also specify a subset of columns to detect duplicates.\n* Pass in a list of column names as an argument to the **drop_duplicates()** method call."
    },
    {
      "metadata": {
        "trusted": false
      },
      "cell_type": "code",
      "source": "dada",
      "execution_count": null,
      "outputs": []
    },
    {
      "metadata": {
        "slideshow": {
          "slide_type": "subslide"
        },
        "trusted": false
      },
      "cell_type": "code",
      "source": "dada.drop_duplicates([\"Student\"])",
      "execution_count": null,
      "outputs": []
    },
    {
      "metadata": {
        "slideshow": {
          "slide_type": "subslide"
        }
      },
      "cell_type": "markdown",
      "source": "* By default, both duplicated() and drop_duplicates() keep the first observed value combination. \n* If you want to keep the last value, pass in **keep=\"last\"**"
    },
    {
      "metadata": {
        "trusted": false
      },
      "cell_type": "code",
      "source": "dada.drop_duplicates([\"Student\"], keep=\"last\")",
      "execution_count": null,
      "outputs": []
    },
    {
      "metadata": {
        "slideshow": {
          "slide_type": "skip"
        }
      },
      "cell_type": "markdown",
      "source": "<a id=\"4\"></a>"
    },
    {
      "metadata": {
        "slideshow": {
          "slide_type": "slide"
        }
      },
      "cell_type": "markdown",
      "source": "## 4. Replacing Values\n* Beyond filtering or fill in missing data, we can replace certain values with new values.\n* **df.replace(current_value, new_value)**"
    },
    {
      "metadata": {
        "trusted": false
      },
      "cell_type": "code",
      "source": "dada_NA = pd.read_csv(\"res/DADA_NA.csv\")",
      "execution_count": null,
      "outputs": []
    },
    {
      "metadata": {
        "trusted": false
      },
      "cell_type": "code",
      "source": "dada_NA",
      "execution_count": null,
      "outputs": []
    },
    {
      "metadata": {
        "slideshow": {
          "slide_type": "subslide"
        },
        "trusted": false
      },
      "cell_type": "code",
      "source": "dada_NA.replace(-99, \"NaN\") #numpy has a specific attribute for NaN: np.nan",
      "execution_count": null,
      "outputs": []
    },
    {
      "metadata": {
        "slideshow": {
          "slide_type": "subslide"
        },
        "trusted": false
      },
      "cell_type": "code",
      "source": "dada_NA",
      "execution_count": null,
      "outputs": []
    },
    {
      "metadata": {
        "slideshow": {
          "slide_type": "subslide"
        },
        "trusted": false
      },
      "cell_type": "code",
      "source": "dada_NA.replace(\"Drace Malfoy\", \"Draco Malfoy\", inplace=True)",
      "execution_count": null,
      "outputs": []
    },
    {
      "metadata": {
        "trusted": false
      },
      "cell_type": "code",
      "source": "dada_NA",
      "execution_count": null,
      "outputs": []
    },
    {
      "metadata": {
        "slideshow": {
          "slide_type": "subslide"
        }
      },
      "cell_type": "markdown",
      "source": "* If you want to replace multiple values at once, pass a list and then the substitute value(s)\n\n```python\ndada_NA.replace([-99, -999], \"NaN\")\ndada_NA.replace([-99, -999], [\"NaN\", 0])\ndada_NA.replace({-99: \"NaN\", -999: 0})\n```"
    },
    {
      "metadata": {
        "slideshow": {
          "slide_type": "skip"
        }
      },
      "cell_type": "markdown",
      "source": "<a id=\"5\"></a>"
    },
    {
      "metadata": {
        "slideshow": {
          "slide_type": "slide"
        }
      },
      "cell_type": "markdown",
      "source": "## 5. Renaming Axis Indices\n* Can rename rows and columns using the **rename()** method\n* Pass **inplace=True** if you want to modify the original df"
    },
    {
      "metadata": {
        "trusted": false
      },
      "cell_type": "code",
      "source": "dada_NA = dada_NA.set_index(\"Student\")",
      "execution_count": null,
      "outputs": []
    },
    {
      "metadata": {
        "trusted": false
      },
      "cell_type": "code",
      "source": "dada_NA",
      "execution_count": null,
      "outputs": []
    },
    {
      "metadata": {
        "slideshow": {
          "slide_type": "subslide"
        },
        "trusted": false
      },
      "cell_type": "code",
      "source": "dada_NA = dada_NA.rename(index={\"Harry Potter\": \"Harry\", \"Hermione Granger\": \"Hermione\", \"Ron Weasley\": \"Ron\"})",
      "execution_count": null,
      "outputs": []
    },
    {
      "metadata": {
        "trusted": false
      },
      "cell_type": "code",
      "source": "dada_NA",
      "execution_count": null,
      "outputs": []
    },
    {
      "metadata": {
        "slideshow": {
          "slide_type": "subslide"
        },
        "trusted": false
      },
      "cell_type": "code",
      "source": "dada_NA = dada_NA.rename(columns={\"Petrificus Totalus\": \"Full-Body Bind\"})",
      "execution_count": null,
      "outputs": []
    },
    {
      "metadata": {
        "trusted": false
      },
      "cell_type": "code",
      "source": "dada_NA",
      "execution_count": null,
      "outputs": []
    }
  ],
  "metadata": {
    "celltoolbar": "Slideshow",
    "kernelspec": {
      "name": "python3",
      "display_name": "Python 3",
      "language": "python"
    },
    "language_info": {
      "mimetype": "text/x-python",
      "nbconvert_exporter": "python",
      "name": "python",
      "pygments_lexer": "ipython3",
      "version": "3.5.4",
      "file_extension": ".py",
      "codemirror_mode": {
        "version": 3,
        "name": "ipython"
      }
    }
  },
  "nbformat": 4,
  "nbformat_minor": 2
}
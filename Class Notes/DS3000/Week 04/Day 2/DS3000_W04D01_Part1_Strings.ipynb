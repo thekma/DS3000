{
  "cells": [
    {
      "metadata": {
        "slideshow": {
          "slide_type": "slide"
        }
      },
      "cell_type": "markdown",
      "source": "<center> <img src=\"res/ds3000.png\"> </center>"
    },
    {
      "metadata": {},
      "cell_type": "markdown",
      "source": "<center> <h1> Week 4 - Day 1 </h1> </center>"
    },
    {
      "metadata": {},
      "cell_type": "markdown",
      "source": "<center> <h2> Part 1: Strings </h2></center>"
    },
    {
      "metadata": {
        "slideshow": {
          "slide_type": "skip"
        }
      },
      "cell_type": "markdown",
      "source": "## Outline\n1. <a href='#1'>Stripping Whitespace from Strings</a>\n2. <a href='#2'>Changing Character Case</a>\n3. <a href='#3'>Searching a String</a>\n4. <a href='#4'>Splitting Strings</a>\n5. <a href='#5'>Joining Strings</a>\n6. <a href='#6'>Partitioning Strings</a>\n7. <a href='#7'>Character-Testing Methods</a>"
    },
    {
      "metadata": {
        "slideshow": {
          "slide_type": "skip"
        }
      },
      "cell_type": "markdown",
      "source": "<a id=\"1\"></a>"
    },
    {
      "metadata": {
        "slideshow": {
          "slide_type": "slide"
        }
      },
      "cell_type": "markdown",
      "source": "## 1. Stripping Whitespace from Strings\n* Methods for removing whitespace from the ends of a string each return a new string"
    },
    {
      "metadata": {
        "trusted": false
      },
      "cell_type": "code",
      "source": "fname = \"Harry\"\nlname = \"Potter\"",
      "execution_count": null,
      "outputs": []
    },
    {
      "metadata": {
        "trusted": false
      },
      "cell_type": "code",
      "source": "#string concatenation\nname = fname + lname\nname",
      "execution_count": null,
      "outputs": []
    },
    {
      "metadata": {
        "trusted": false
      },
      "cell_type": "code",
      "source": "name = fname + \" \" + lname\nname",
      "execution_count": null,
      "outputs": []
    },
    {
      "metadata": {
        "slideshow": {
          "slide_type": "subslide"
        },
        "trusted": true
      },
      "cell_type": "code",
      "source": "name = \" \\t Harry Potter      \\n\"",
      "execution_count": 1,
      "outputs": []
    },
    {
      "metadata": {
        "trusted": false
      },
      "cell_type": "code",
      "source": "print(name)",
      "execution_count": null,
      "outputs": []
    },
    {
      "metadata": {
        "slideshow": {
          "slide_type": "subslide"
        }
      },
      "cell_type": "markdown",
      "source": "### 1.1. Removing Leading and Trailing Whitespace\n* **`strip`** removes leading and trailing whitespace"
    },
    {
      "metadata": {
        "trusted": false
      },
      "cell_type": "code",
      "source": "name.strip()",
      "execution_count": null,
      "outputs": []
    },
    {
      "metadata": {
        "slideshow": {
          "slide_type": "subslide"
        }
      },
      "cell_type": "markdown",
      "source": "### 1.2. Removing Leading Whitespace\n* **`lstrip`** removes only leading whitespace"
    },
    {
      "metadata": {
        "trusted": false
      },
      "cell_type": "code",
      "source": "name.lstrip()",
      "execution_count": null,
      "outputs": []
    },
    {
      "metadata": {
        "trusted": false
      },
      "cell_type": "code",
      "source": "print(name.lstrip())",
      "execution_count": null,
      "outputs": []
    },
    {
      "metadata": {
        "slideshow": {
          "slide_type": "subslide"
        }
      },
      "cell_type": "markdown",
      "source": "### 1.3. Removing Trailing Whitespace\n* **`rstrip`** removes only trailing whitespace "
    },
    {
      "metadata": {
        "trusted": false
      },
      "cell_type": "code",
      "source": "name.rstrip()",
      "execution_count": null,
      "outputs": []
    },
    {
      "metadata": {
        "trusted": false
      },
      "cell_type": "code",
      "source": "print(name.rstrip())",
      "execution_count": null,
      "outputs": []
    },
    {
      "metadata": {
        "slideshow": {
          "slide_type": "skip"
        }
      },
      "cell_type": "markdown",
      "source": "<a id=\"2\"></a>"
    },
    {
      "metadata": {
        "slideshow": {
          "slide_type": "slide"
        }
      },
      "cell_type": "markdown",
      "source": "## 2. Changing Character Case"
    },
    {
      "metadata": {
        "slideshow": {
          "slide_type": "fragment"
        }
      },
      "cell_type": "markdown",
      "source": "### 2.1. Upper case\n* Method upper() returns a string with all letters in lower case"
    },
    {
      "metadata": {
        "trusted": false
      },
      "cell_type": "code",
      "source": "name = \"Harry Potter\"\nname.upper()",
      "execution_count": null,
      "outputs": []
    },
    {
      "metadata": {},
      "cell_type": "markdown",
      "source": "### 2.2. Lower case\n* Method lower() returns a string with all letters in lower case"
    },
    {
      "metadata": {
        "trusted": false
      },
      "cell_type": "code",
      "source": "name.lower()",
      "execution_count": null,
      "outputs": []
    },
    {
      "metadata": {
        "slideshow": {
          "slide_type": "fragment"
        }
      },
      "cell_type": "markdown",
      "source": "### 2.3. Capitalizing Only a String’s First Character\n* Method **`capitalize()`** returns a new string with only the first letter capitalized (sometimes called **sentence capitalization**)"
    },
    {
      "metadata": {
        "trusted": false
      },
      "cell_type": "code",
      "source": "name.capitalize()",
      "execution_count": null,
      "outputs": []
    },
    {
      "metadata": {
        "slideshow": {
          "slide_type": "fragment"
        },
        "trusted": false
      },
      "cell_type": "code",
      "source": "name.title()",
      "execution_count": null,
      "outputs": []
    },
    {
      "metadata": {
        "slideshow": {
          "slide_type": "skip"
        }
      },
      "cell_type": "markdown",
      "source": "<a id=\"3\"></a>"
    },
    {
      "metadata": {
        "slideshow": {
          "slide_type": "slide"
        }
      },
      "cell_type": "markdown",
      "source": "## 3. Searching a String\n* can use the global **`in`** operator"
    },
    {
      "metadata": {
        "trusted": false
      },
      "cell_type": "code",
      "source": "#Dumbledore says\nquote = \"It is our choices, Harry, that show what we truly are, far more than our abilities\"",
      "execution_count": null,
      "outputs": []
    },
    {
      "metadata": {
        "trusted": false
      },
      "cell_type": "code",
      "source": "\"Harry\" in quote",
      "execution_count": null,
      "outputs": []
    },
    {
      "metadata": {
        "trusted": false
      },
      "cell_type": "code",
      "source": "\"Ron\" in quote",
      "execution_count": null,
      "outputs": []
    },
    {
      "metadata": {
        "trusted": false
      },
      "cell_type": "code",
      "source": "\"Ron\" not in quote",
      "execution_count": null,
      "outputs": []
    },
    {
      "metadata": {
        "slideshow": {
          "slide_type": "subslide"
        }
      },
      "cell_type": "markdown",
      "source": "### 3.1. find() method\n* used to search for a substring withing a string\n* checks if the substring exists in the string\n    * if yes, returns the starting index of the first occurence\n    * if no, returns -1"
    },
    {
      "metadata": {
        "trusted": false
      },
      "cell_type": "code",
      "source": "Harry_pos = quote.find(\"Harry\")\nHarry_pos",
      "execution_count": null,
      "outputs": []
    },
    {
      "metadata": {
        "slideshow": {
          "slide_type": "fragment"
        },
        "trusted": false
      },
      "cell_type": "code",
      "source": "quote[Harry_pos : Harry_pos + 5]",
      "execution_count": null,
      "outputs": []
    },
    {
      "metadata": {
        "trusted": false
      },
      "cell_type": "code",
      "source": "quote.find(\"Ron\")",
      "execution_count": null,
      "outputs": []
    },
    {
      "metadata": {
        "slideshow": {
          "slide_type": "subslide"
        }
      },
      "cell_type": "markdown",
      "source": "### 3.2. count() method\n* **`count`** returns the number of times its argument occurs in a string"
    },
    {
      "metadata": {
        "trusted": false
      },
      "cell_type": "code",
      "source": "quote.count(\"Harry\")",
      "execution_count": null,
      "outputs": []
    },
    {
      "metadata": {
        "trusted": false
      },
      "cell_type": "code",
      "source": "quote.count(\"Ron\")",
      "execution_count": null,
      "outputs": []
    },
    {
      "metadata": {
        "trusted": false
      },
      "cell_type": "code",
      "source": "quote.count(\"our\")",
      "execution_count": null,
      "outputs": []
    },
    {
      "metadata": {
        "slideshow": {
          "slide_type": "subslide"
        }
      },
      "cell_type": "markdown",
      "source": "### 3.3. replace() method\n* A common text manipulation is to locate a substring and replace its value\n* **`replace`** searches a string for the substring in its first argument and replaces _each_ occurrence with the substring in its second argument\n* Can receive an optional third argument specifying the maximum number of replacements "
    },
    {
      "metadata": {
        "trusted": false
      },
      "cell_type": "code",
      "source": "quote.replace(\"our\", \"OUR\")#returns a copy",
      "execution_count": null,
      "outputs": []
    },
    {
      "metadata": {
        "slideshow": {
          "slide_type": "fragment"
        },
        "trusted": false
      },
      "cell_type": "code",
      "source": "quote",
      "execution_count": null,
      "outputs": []
    },
    {
      "metadata": {
        "slideshow": {
          "slide_type": "subslide"
        }
      },
      "cell_type": "markdown",
      "source": "### 3.4. Locating a Substring at the Beginning or End of a String\n* **`startswith`** and **`endswith`** return `True` if the string starts with or ends with a specified substring"
    },
    {
      "metadata": {
        "trusted": false
      },
      "cell_type": "code",
      "source": "quote",
      "execution_count": null,
      "outputs": []
    },
    {
      "metadata": {
        "trusted": false
      },
      "cell_type": "code",
      "source": "quote.startswith(\"It\")",
      "execution_count": null,
      "outputs": []
    },
    {
      "metadata": {
        "trusted": false
      },
      "cell_type": "code",
      "source": "quote.startswith(\"Harry\")",
      "execution_count": null,
      "outputs": []
    },
    {
      "metadata": {
        "slideshow": {
          "slide_type": "subslide"
        },
        "trusted": false
      },
      "cell_type": "code",
      "source": "quote.endswith(\"abilities\")",
      "execution_count": null,
      "outputs": []
    },
    {
      "metadata": {
        "trusted": false
      },
      "cell_type": "code",
      "source": "quote.endswith(\"Harry\")",
      "execution_count": null,
      "outputs": []
    },
    {
      "metadata": {
        "slideshow": {
          "slide_type": "skip"
        }
      },
      "cell_type": "markdown",
      "source": "<a id=\"4\"></a>"
    },
    {
      "metadata": {
        "slideshow": {
          "slide_type": "slide"
        }
      },
      "cell_type": "markdown",
      "source": "## 4. Splitting Strings\n* Tokens typically are separated by whitespace characters such as blank, tab and newline, though other characters may be used—the separators are known as **delimiters**\n\n* To tokenize a string at a custom delimiter, specify the delimiter string that `split` uses to tokenize the string"
    },
    {
      "metadata": {
        "trusted": false
      },
      "cell_type": "code",
      "source": "quote",
      "execution_count": null,
      "outputs": []
    },
    {
      "metadata": {
        "slideshow": {
          "slide_type": "-"
        },
        "trusted": false
      },
      "cell_type": "code",
      "source": "quote.split()",
      "execution_count": null,
      "outputs": []
    },
    {
      "metadata": {
        "slideshow": {
          "slide_type": "subslide"
        },
        "trusted": false
      },
      "cell_type": "code",
      "source": "quote.split(\",\")",
      "execution_count": null,
      "outputs": []
    },
    {
      "metadata": {},
      "cell_type": "markdown",
      "source": "* Can specify the maximum number of splits with an integer as the second argument\n* Last token is the remainder of the string"
    },
    {
      "metadata": {
        "scrolled": true,
        "trusted": false
      },
      "cell_type": "code",
      "source": "quote.split(\",\", 2)",
      "execution_count": null,
      "outputs": []
    },
    {
      "metadata": {
        "slideshow": {
          "slide_type": "subslide"
        }
      },
      "cell_type": "markdown",
      "source": "### 4.1. Splitting Multiline Strings\n* **`splitlines()`** returns a list of new strings representing lines of text split at each newline character in the original string"
    },
    {
      "metadata": {
        "slideshow": {
          "slide_type": "-"
        },
        "trusted": false
      },
      "cell_type": "code",
      "source": "charms = \"\"\"Protego Maxima\nFianto Duri\nRepello Inimicum\n\"\"\"",
      "execution_count": null,
      "outputs": []
    },
    {
      "metadata": {
        "slideshow": {
          "slide_type": "-"
        },
        "trusted": false
      },
      "cell_type": "code",
      "source": "charms",
      "execution_count": null,
      "outputs": []
    },
    {
      "metadata": {
        "slideshow": {
          "slide_type": "-"
        },
        "trusted": false
      },
      "cell_type": "code",
      "source": "charms.splitlines()",
      "execution_count": null,
      "outputs": []
    },
    {
      "metadata": {
        "slideshow": {
          "slide_type": "subslide"
        }
      },
      "cell_type": "markdown",
      "source": "* Passing `True` to `splitlines` keeps the newlines at the end"
    },
    {
      "metadata": {
        "slideshow": {
          "slide_type": "-"
        },
        "trusted": false
      },
      "cell_type": "code",
      "source": "charms.splitlines(True)",
      "execution_count": null,
      "outputs": []
    },
    {
      "metadata": {
        "slideshow": {
          "slide_type": "skip"
        }
      },
      "cell_type": "markdown",
      "source": "<a id=\"5\"></a>"
    },
    {
      "metadata": {
        "slideshow": {
          "slide_type": "slide"
        }
      },
      "cell_type": "markdown",
      "source": "## 5. Joining Strings\n* **`join`** concatenates the strings in its argument, which must be an iterable containing only string values\n* **The separator between the concatenated items is the string on which you call `join`**"
    },
    {
      "metadata": {
        "slideshow": {
          "slide_type": "-"
        },
        "trusted": false
      },
      "cell_type": "code",
      "source": "students = [\"Harry\", \"Ron\", \"Hermione\"]\nstudents",
      "execution_count": null,
      "outputs": []
    },
    {
      "metadata": {
        "trusted": false
      },
      "cell_type": "code",
      "source": "\"-\".join(students)",
      "execution_count": null,
      "outputs": []
    },
    {
      "metadata": {
        "trusted": false
      },
      "cell_type": "code",
      "source": "\"-\".join(quote.split())",
      "execution_count": null,
      "outputs": []
    },
    {
      "metadata": {
        "slideshow": {
          "slide_type": "subslide"
        }
      },
      "cell_type": "markdown",
      "source": "* Join the results of a list comprehension that creates a list of strings"
    },
    {
      "metadata": {
        "trusted": false
      },
      "cell_type": "code",
      "source": "digits = '\\t'.join([str(i) for i in range(10)])\nprint(digits)",
      "execution_count": null,
      "outputs": []
    },
    {
      "metadata": {
        "slideshow": {
          "slide_type": "skip"
        }
      },
      "cell_type": "markdown",
      "source": "<a id=\"6\"></a>"
    },
    {
      "metadata": {
        "slideshow": {
          "slide_type": "slide"
        }
      },
      "cell_type": "markdown",
      "source": "## 6. Partitioning Strings\n* String method **`partition`** splits a string into a tuple of three strings based on the method’s *separator* argument\n    * the part of the original string before the separator\n    * the separator itself\n    * the part of the string after the separator"
    },
    {
      "metadata": {
        "slideshow": {
          "slide_type": "fragment"
        },
        "trusted": false
      },
      "cell_type": "code",
      "source": "dumbledore_email = \"dumbledore@hogwarts.edu\"",
      "execution_count": null,
      "outputs": []
    },
    {
      "metadata": {
        "slideshow": {
          "slide_type": "fragment"
        },
        "trusted": false
      },
      "cell_type": "code",
      "source": "dumbledore_email.partition(\"@\")",
      "execution_count": null,
      "outputs": []
    },
    {
      "metadata": {
        "slideshow": {
          "slide_type": "subslide"
        }
      },
      "cell_type": "markdown",
      "source": "### 6.1. rpartition() method\n* To search for the separator from the end of the string, use method **`rpartition`** "
    },
    {
      "metadata": {},
      "cell_type": "markdown",
      "source": "* Suppose you wanted to retrieve the file name at the end"
    },
    {
      "metadata": {
        "slideshow": {
          "slide_type": "-"
        },
        "trusted": false
      },
      "cell_type": "code",
      "source": "dumbledore = \"http://www.hogwarts.edu/Professors/Albus/bio.pdf\"",
      "execution_count": null,
      "outputs": []
    },
    {
      "metadata": {
        "trusted": false
      },
      "cell_type": "code",
      "source": "dumbledore.rpartition(\"/\")",
      "execution_count": null,
      "outputs": []
    },
    {
      "metadata": {
        "slideshow": {
          "slide_type": "subslide"
        },
        "trusted": false
      },
      "cell_type": "code",
      "source": "beginning_of_url, separator, filename = dumbledore.rpartition(\"/\")",
      "execution_count": null,
      "outputs": []
    },
    {
      "metadata": {
        "trusted": false
      },
      "cell_type": "code",
      "source": "filename",
      "execution_count": null,
      "outputs": []
    },
    {
      "metadata": {
        "trusted": false
      },
      "cell_type": "code",
      "source": "beginning_of_url",
      "execution_count": null,
      "outputs": []
    },
    {
      "metadata": {
        "slideshow": {
          "slide_type": "skip"
        }
      },
      "cell_type": "markdown",
      "source": "<a id=\"7\"></a>"
    },
    {
      "metadata": {},
      "cell_type": "markdown",
      "source": "## 7. Character-Testing Methods\n* In Python, a character is simply a one-character string\n* Python provides string methods for testing whether a string matches certain characteristics"
    },
    {
      "metadata": {},
      "cell_type": "markdown",
      "source": "### 7.1. isdigit() method\n* **`isdigit`** returns `True` if the string on which you call the method contains only the digit characters (`0`–`9`)\n    * Useful for validating data"
    },
    {
      "metadata": {
        "trusted": false
      },
      "cell_type": "code",
      "source": "\"25\".isdigit()",
      "execution_count": null,
      "outputs": []
    },
    {
      "metadata": {
        "trusted": false
      },
      "cell_type": "code",
      "source": "\"-25\".isdigit()#False because it contains \"-\"",
      "execution_count": null,
      "outputs": []
    },
    {
      "metadata": {
        "slideshow": {
          "slide_type": "subslide"
        }
      },
      "cell_type": "markdown",
      "source": "### 7.2. isalnum() method\n* `isalnum` returns `True` if the string on which you call the method is alphanumeric (only digits and letters)"
    },
    {
      "metadata": {
        "trusted": false
      },
      "cell_type": "code",
      "source": "\"Dumbledore1996\".isalnum()",
      "execution_count": null,
      "outputs": []
    },
    {
      "metadata": {
        "trusted": false
      },
      "cell_type": "code",
      "source": "\"Dumbledore 1996\".isalnum()#False because it contains \" \"",
      "execution_count": null,
      "outputs": []
    },
    {
      "metadata": {
        "slideshow": {
          "slide_type": "subslide"
        }
      },
      "cell_type": "markdown",
      "source": "### 7.3. List of Character-Testing Methods"
    },
    {
      "metadata": {},
      "cell_type": "markdown",
      "source": "| String Method | Description\n| -------- | --------\n| `isalnum()` | Returns `True` if the string contains only _alphanumeric_ characters (i.e., digits and letters).\n| `isalpha()`  | Returns `True` if the string contains only _alphabetic_ characters (i.e., letters).\n| `isdecimal()`  | Returns `True` if the string contains only _decimal integer_ characters (that is, base 10 integers) and does not contain a + or - sign.\n| `isdigit()`  | Returns `True` if the string contains only digits (e.g., '0', '1', '2').\n| `isidentifier()`  | Returns `True` if the string represents a valid _identifier_. \n| `islower()`  | Returns `True` if all alphabetic characters in the string are _lowercase_ characters (e.g., `'a'`, `'b'`, `'c'`).\n| `isnumeric()`  | Returns `True` if the characters in the string represent a _numeric value_ without a + or - sign and without a decimal point.\n| `isspace()`  | Returns `True` if the string contains only _whitespace_ characters.\n| `istitle()`  | Returns `True` if the first character of each word in the string is the only _uppercase_ character in the word. \n| `isupper()`  | Returns `True` if all alphabetic characters in the string are _uppercase_ characters (e.g., `'A'`, `'B'`, `'C'`)."
    },
    {
      "metadata": {
        "slideshow": {
          "slide_type": "skip"
        }
      },
      "cell_type": "markdown",
      "source": "<a id=\"8\"></a>"
    },
    {
      "metadata": {},
      "cell_type": "markdown",
      "source": "## 8. Raw Strings\n* Backslash characters in strings introduce _escape sequences_—like `\\n` for newline and `\\t` for tab\n* To include a backslash in a string, use two backslash characters `\\\\`\n* Makes some strings difficult to read\n* Consider a Microsoft Windows file location:"
    },
    {
      "metadata": {
        "trusted": false
      },
      "cell_type": "code",
      "source": "info = 'This \\n is a newline character'",
      "execution_count": null,
      "outputs": []
    },
    {
      "metadata": {
        "trusted": false
      },
      "cell_type": "code",
      "source": "print(info)",
      "execution_count": null,
      "outputs": []
    },
    {
      "metadata": {
        "slideshow": {
          "slide_type": "subslide"
        },
        "trusted": false
      },
      "cell_type": "code",
      "source": "info = 'This \\\\n is a newline character'",
      "execution_count": null,
      "outputs": []
    },
    {
      "metadata": {
        "trusted": false
      },
      "cell_type": "code",
      "source": "print(info)",
      "execution_count": null,
      "outputs": []
    },
    {
      "metadata": {
        "slideshow": {
          "slide_type": "subslide"
        }
      },
      "cell_type": "markdown",
      "source": "* **raw strings**—preceded by the character `r`—are more convenient\n* They treat each backslash as a regular character, rather than the beginning of an escape sequence"
    },
    {
      "metadata": {
        "trusted": false
      },
      "cell_type": "code",
      "source": "info = r'This \\n is a newline character'",
      "execution_count": null,
      "outputs": []
    },
    {
      "metadata": {
        "trusted": false
      },
      "cell_type": "code",
      "source": "print(info)",
      "execution_count": null,
      "outputs": []
    }
  ],
  "metadata": {
    "celltoolbar": "Slideshow",
    "kernelspec": {
      "name": "python3",
      "display_name": "Python 3",
      "language": "python"
    },
    "language_info": {
      "mimetype": "text/x-python",
      "nbconvert_exporter": "python",
      "name": "python",
      "pygments_lexer": "ipython3",
      "version": "3.5.4",
      "file_extension": ".py",
      "codemirror_mode": {
        "version": 3,
        "name": "ipython"
      }
    }
  },
  "nbformat": 4,
  "nbformat_minor": 2
}
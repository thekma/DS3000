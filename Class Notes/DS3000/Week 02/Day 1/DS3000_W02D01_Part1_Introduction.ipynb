{
 "cells": [
  {
   "cell_type": "markdown",
   "metadata": {
    "slideshow": {
     "slide_type": "slide"
    }
   },
   "source": [
    "<center> <img src=\"res/ds3000.png\"> </center>"
   ]
  },
  {
   "cell_type": "markdown",
   "metadata": {},
   "source": [
    "<center> <h1> Week 2 - Day 1 </h1> </center>"
   ]
  },
  {
   "cell_type": "markdown",
   "metadata": {},
   "source": [
    "<center><h2> Introduction to Python and Jupyter Notebook</h2></center>"
   ]
  },
  {
   "cell_type": "code",
   "execution_count": null,
   "metadata": {
    "slideshow": {
     "slide_type": "slide"
    }
   },
   "outputs": [],
   "source": [
    "# this is going to be the template we are going to use for lecture notes\n",
    "# this is how you add a comment to your Python code. \n",
    "# The pound symbol, \"#\", is used for single-line comments."
   ]
  },
  {
   "cell_type": "markdown",
   "metadata": {
    "slideshow": {
     "slide_type": "slide"
    }
   },
   "source": [
    "###  **0. Jupyter Notebook** <br>\n",
    "Each of these lines where you can type something is called a **\"cell\"**. <br><br>\n",
    "\n",
    "The logic is as follows:<br>\n",
    "> You write your code in an <font color = blue>In []</font> cell<br>\n",
    "> The output of that code is displayed in an <font color = red>Out []</font> cell.<br><br>\n",
    "\n",
    "To execute your code in a cell. Use **Shift + Enter** (Windows) or **Shift + Return** (Mac)"
   ]
  },
  {
   "cell_type": "markdown",
   "metadata": {
    "slideshow": {
     "slide_type": "slide"
    }
   },
   "source": [
    "### **1. Jupyter Notebook is interactive:**\n",
    "Jupyter Notebook provides an interactive GUI to the IPython interpreter, so you get to execute your code immediately without compiling it first.\n",
    "\n",
    "Let's go ahead and display a number:"
   ]
  },
  {
   "cell_type": "code",
   "execution_count": null,
   "metadata": {
    "slideshow": {
     "slide_type": "fragment"
    }
   },
   "outputs": [],
   "source": [
    "5"
   ]
  },
  {
   "cell_type": "markdown",
   "metadata": {
    "slideshow": {
     "slide_type": "slide"
    }
   },
   "source": [
    "### **2. It is possible to use Jupyter Notebook as a calculator:**\n",
    "\n",
    "For instance let's add two numbers:"
   ]
  },
  {
   "cell_type": "code",
   "execution_count": null,
   "metadata": {
    "slideshow": {
     "slide_type": "fragment"
    }
   },
   "outputs": [],
   "source": [
    "5 + 6"
   ]
  },
  {
   "cell_type": "markdown",
   "metadata": {
    "slideshow": {
     "slide_type": "slide"
    }
   },
   "source": [
    "### **3. Outputting a string with <font color=green>print</font>** \n",
    "It wouldn't be programming if we didn't display \"Hello World!\" in our first program!\n",
    "\n",
    "Let's do that with a little change:"
   ]
  },
  {
   "cell_type": "markdown",
   "metadata": {
    "slideshow": {
     "slide_type": "subslide"
    }
   },
   "source": [
    "<img src= \"https://github.ccs.neu.edu/caglar/DS3000/blob/master/img/helloworld.gif?raw=true\">"
   ]
  },
  {
   "cell_type": "code",
   "execution_count": null,
   "metadata": {
    "slideshow": {
     "slide_type": "fragment"
    }
   },
   "outputs": [],
   "source": [
    "print(\"Hello, Harry Potter.\")"
   ]
  },
  {
   "cell_type": "markdown",
   "metadata": {
    "slideshow": {
     "slide_type": "slide"
    }
   },
   "source": [
    "### **4. What to use for strings: Double quotes or single quotes?**\n",
    "Both double quotes \"\" and single '' quotes are acceptable. <br>\n",
    "You can use either, provided that the beginning and ending quotes match. <br>\n",
    "Choose one and use it consistently, says Dumbledore. He is/was a wise man.\n",
    "\n",
    "Thus, the following would give you the same output:"
   ]
  },
  {
   "cell_type": "code",
   "execution_count": null,
   "metadata": {
    "slideshow": {
     "slide_type": "fragment"
    }
   },
   "outputs": [],
   "source": [
    "print('Hello, Harry Potter.')"
   ]
  },
  {
   "cell_type": "markdown",
   "metadata": {
    "slideshow": {
     "slide_type": "slide"
    }
   },
   "source": [
    "### 5. What happens if you are inconsistent?\n",
    "Be my guest and run the following:"
   ]
  },
  {
   "cell_type": "code",
   "execution_count": null,
   "metadata": {
    "slideshow": {
     "slide_type": "fragment"
    }
   },
   "outputs": [],
   "source": [
    "print(\"Hello, Harry Potter.')"
   ]
  },
  {
   "cell_type": "markdown",
   "metadata": {
    "slideshow": {
     "slide_type": "fragment"
    }
   },
   "source": [
    "You get a **Syntax Error**. <br>\n",
    "This is the Pythonic way of getting mad. <br>\n",
    "Python didn't like your code because it had a syntactic error (i.e., beginning/ending quotes didn't match).\n"
   ]
  },
  {
   "cell_type": "markdown",
   "metadata": {
    "slideshow": {
     "slide_type": "slide"
    }
   },
   "source": [
    "### 6. We could also print a comma-separated list of items\n",
    "* Simply write them in parantheses, separated by commas\n",
    "* Each argument will be displayed, separated from the next by a space, as follows:"
   ]
  },
  {
   "cell_type": "code",
   "execution_count": null,
   "metadata": {
    "slideshow": {
     "slide_type": "fragment"
    }
   },
   "outputs": [],
   "source": [
    "print(\"Hello,\", \"Harry\", \"Potter\")"
   ]
  },
  {
   "cell_type": "markdown",
   "metadata": {
    "slideshow": {
     "slide_type": "slide"
    }
   },
   "source": [
    "### **7. Frankly, there is no need to use the <font color = green> print </font> function in Jupyter Notebook.** \n",
    "* Simply write your string in quotes and it will be automatically displayed.\n",
    "\n",
    "* Don't trust me? You're wiser than Dumbledore!\n",
    "* You shouldn't take my word for it. Go ahead and try it:"
   ]
  },
  {
   "cell_type": "code",
   "execution_count": null,
   "metadata": {
    "slideshow": {
     "slide_type": "fragment"
    }
   },
   "outputs": [],
   "source": [
    "\"Hello, Harry Potter.\""
   ]
  },
  {
   "cell_type": "markdown",
   "metadata": {
    "slideshow": {
     "slide_type": "slide"
    }
   },
   "source": [
    "### Your turn:\n",
    "Display your first and last name using the `print` function.\n",
    "1. Use double quotes\n",
    "2. Use single quotes\n",
    "3. Display your name without using the print function.\n",
    "4. Try out the non-matching quotes thing. :)"
   ]
  },
  {
   "cell_type": "markdown",
   "metadata": {
    "slideshow": {
     "slide_type": "slide"
    }
   },
   "source": [
    "### **8. Getting input from the user using <font color = green>input</font>:** \n",
    "It couldn't be any simpler than the following:"
   ]
  },
  {
   "cell_type": "code",
   "execution_count": null,
   "metadata": {
    "slideshow": {
     "slide_type": "fragment"
    }
   },
   "outputs": [],
   "source": [
    "#name is a variable that holds the value provided by the user\n",
    "name = input(\"What is your name? \")"
   ]
  },
  {
   "cell_type": "code",
   "execution_count": null,
   "metadata": {
    "slideshow": {
     "slide_type": "subslide"
    }
   },
   "outputs": [],
   "source": [
    "#we can display the value of the variable name using the print function:\n",
    "print(name)"
   ]
  },
  {
   "cell_type": "markdown",
   "metadata": {
    "slideshow": {
     "slide_type": "slide"
    }
   },
   "source": [
    "### **9. Input returns a string:**\n",
    "By default, the <font color = green>input</font> function returns the user-provided value as a string. <br> \n",
    "\n",
    "Let's take a look at this using an example:"
   ]
  },
  {
   "cell_type": "code",
   "execution_count": null,
   "metadata": {
    "slideshow": {
     "slide_type": "fragment"
    }
   },
   "outputs": [],
   "source": [
    "birth = input('When was Dumbledore born? ')"
   ]
  },
  {
   "cell_type": "code",
   "execution_count": null,
   "metadata": {
    "slideshow": {
     "slide_type": "fragment"
    }
   },
   "outputs": [],
   "source": [
    "death = input('When was Dumbledore killed? ')"
   ]
  },
  {
   "cell_type": "code",
   "execution_count": null,
   "metadata": {
    "slideshow": {
     "slide_type": "subslide"
    }
   },
   "outputs": [],
   "source": [
    "dumby_age = death - birth"
   ]
  },
  {
   "cell_type": "markdown",
   "metadata": {
    "slideshow": {
     "slide_type": "fragment"
    }
   },
   "source": [
    "* Python tries to subtract the string value `1881` from the string value `1997`, resulting in a Type Error\n",
    "* So it'd be useful to remember `input` always returns a string"
   ]
  },
  {
   "cell_type": "markdown",
   "metadata": {
    "slideshow": {
     "slide_type": "subslide"
    }
   },
   "source": [
    "* Again, don't take my word for it. Check the type of birth and death variables:"
   ]
  },
  {
   "cell_type": "code",
   "execution_count": null,
   "metadata": {
    "slideshow": {
     "slide_type": "fragment"
    }
   },
   "outputs": [],
   "source": [
    "type(birth)"
   ]
  },
  {
   "cell_type": "code",
   "execution_count": null,
   "metadata": {
    "slideshow": {
     "slide_type": "fragment"
    }
   },
   "outputs": [],
   "source": [
    "type(death)"
   ]
  },
  {
   "cell_type": "markdown",
   "metadata": {
    "slideshow": {
     "slide_type": "slide"
    }
   },
   "source": [
    "### 10. Getting an Integer from the User: How Hard Could It Be?\n",
    "* If you need an integer, convert the string to an integer using the built-in **`int` function**.\n",
    "* Known as type casting or type conversion."
   ]
  },
  {
   "cell_type": "code",
   "execution_count": null,
   "metadata": {
    "slideshow": {
     "slide_type": "fragment"
    }
   },
   "outputs": [],
   "source": [
    "birthyear = int(birth)"
   ]
  },
  {
   "cell_type": "code",
   "execution_count": null,
   "metadata": {
    "slideshow": {
     "slide_type": "fragment"
    }
   },
   "outputs": [],
   "source": [
    "deathyear = int(death)"
   ]
  },
  {
   "cell_type": "code",
   "execution_count": null,
   "metadata": {
    "slideshow": {
     "slide_type": "fragment"
    }
   },
   "outputs": [],
   "source": [
    "dumby_age = deathyear - birthyear"
   ]
  },
  {
   "cell_type": "code",
   "execution_count": null,
   "metadata": {
    "slideshow": {
     "slide_type": "fragment"
    }
   },
   "outputs": [],
   "source": [
    "print (\"When he was killed, Dumbledore was\", dumby_age, \"years old.\")"
   ]
  },
  {
   "cell_type": "markdown",
   "metadata": {
    "slideshow": {
     "slide_type": "slide"
    }
   },
   "source": [
    "### Your turn:\n",
    "1. Ask for user's birthyear using the `input` function\n",
    "2. Compute their age\n",
    "3. Display the age back to the user (e.g., \"You are 166 years old, Dumbledore!\")"
   ]
  },
  {
   "cell_type": "markdown",
   "metadata": {
    "slideshow": {
     "slide_type": "fragment"
    }
   },
   "source": [
    "Here is one solution:"
   ]
  },
  {
   "cell_type": "code",
   "execution_count": null,
   "metadata": {
    "slideshow": {
     "slide_type": "fragment"
    }
   },
   "outputs": [],
   "source": [
    "byear = int(input(\"Which year were you born in? \"))\n",
    "print(\"You're\", 2019 - byear, \"years old!\")"
   ]
  }
 ],
 "metadata": {
  "celltoolbar": "Slideshow",
  "kernelspec": {
   "display_name": "Python 3",
   "language": "python",
   "name": "python3"
  },
  "language_info": {
   "codemirror_mode": {
    "name": "ipython",
    "version": 3
   },
   "file_extension": ".py",
   "mimetype": "text/x-python",
   "name": "python",
   "nbconvert_exporter": "python",
   "pygments_lexer": "ipython3",
   "version": "3.7.3"
  }
 },
 "nbformat": 4,
 "nbformat_minor": 2
}

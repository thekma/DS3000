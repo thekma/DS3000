{
  "cells": [
    {
      "metadata": {
        "slideshow": {
          "slide_type": "slide"
        }
      },
      "cell_type": "markdown",
      "source": "<center> <img src=\"res/ds3000.png\"> </center>"
    },
    {
      "metadata": {},
      "cell_type": "markdown",
      "source": "<center> <h1> Week 7 - Day 1 </h1> </center>"
    },
    {
      "metadata": {},
      "cell_type": "markdown",
      "source": "<center> <h2> Part 3: Scatter Plots</h2></center>"
    },
    {
      "metadata": {
        "slideshow": {
          "slide_type": "skip"
        }
      },
      "cell_type": "markdown",
      "source": "## Outline\n1. <a href='#1'>Scatter Plots</a>\n2. <a href='#2'>Plotting Two Groups in One Scatter Plot</a>\n3. <a href='#3'>Plot Properties</a>\n4. <a href='#4'>Bubble Plots</a>"
    },
    {
      "metadata": {
        "slideshow": {
          "slide_type": "skip"
        }
      },
      "cell_type": "markdown",
      "source": "<a id=\"1\"></a>"
    },
    {
      "metadata": {
        "slideshow": {
          "slide_type": "slide"
        }
      },
      "cell_type": "markdown",
      "source": "## 1. Scatter Plots\n* Commonly used to show distribution of two variables using a cloud of points, where each point represents an observation in the dataset\n* Makes it easier to discern the relationship between two variables\n* Both axes should be a numeric variable\n* Use **sns.scatterplot()** method to draw scatter plots\n* https://seaborn.pydata.org/generated/seaborn.scatterplot.html"
    },
    {
      "metadata": {
        "trusted": true
      },
      "cell_type": "code",
      "source": "%matplotlib notebook",
      "execution_count": null,
      "outputs": []
    },
    {
      "metadata": {
        "trusted": true
      },
      "cell_type": "code",
      "source": "import matplotlib.pyplot as plt",
      "execution_count": null,
      "outputs": []
    },
    {
      "metadata": {
        "slideshow": {
          "slide_type": "subslide"
        },
        "trusted": true
      },
      "cell_type": "code",
      "source": "import pandas as pd\ndf = pd.read_csv(\"res/ave_grades.csv\")",
      "execution_count": null,
      "outputs": []
    },
    {
      "metadata": {
        "trusted": true
      },
      "cell_type": "code",
      "source": "df",
      "execution_count": null,
      "outputs": []
    },
    {
      "metadata": {
        "slideshow": {
          "slide_type": "subslide"
        },
        "trusted": true
      },
      "cell_type": "code",
      "source": "df.head()",
      "execution_count": null,
      "outputs": []
    },
    {
      "metadata": {
        "trusted": true
      },
      "cell_type": "code",
      "source": "import seaborn as sns\ngraph = sns.scatterplot(x=\"Potion_Ave\", y=\"Charm_Ave\", data = df)",
      "execution_count": null,
      "outputs": []
    },
    {
      "metadata": {
        "slideshow": {
          "slide_type": "subslide"
        },
        "trusted": true
      },
      "cell_type": "code",
      "source": "import seaborn as sns\n\n# create and display the scatter plot\ngraph = sns.scatterplot(x=\"Potion_Ave\", y=\"Charm_Ave\", data = df)\n\n#specify the title\ntitle = \"The Relationship between Potion and Charm Grades\"\n\n#set the title of the plot\ngraph.set_title(title, size = 16)\n\n#add labels to the axes  \ngraph.set_xlabel(\"Average Potion Grades\", size = 16)\ngraph.set_ylabel(\"Average Charm Grades\", size = 16)",
      "execution_count": null,
      "outputs": []
    },
    {
      "metadata": {
        "slideshow": {
          "slide_type": "skip"
        }
      },
      "cell_type": "markdown",
      "source": "<a id=\"2\"></a>"
    },
    {
      "metadata": {
        "slideshow": {
          "slide_type": "slide"
        }
      },
      "cell_type": "markdown",
      "source": "## 2. Plotting Two Groups in One Scatter Plot\n* The datafile should have at least three columns:\n    * One for the labels on the x-axis\n    * One for the values on the y-axis\n    * One for the category of the lines (grouping column)\n\n<br>\n\n* Specify the category column, or variable, using the **hue** keyword attribute\n    * **hue** indicates the grouping variable that will produce scatters with different colors."
    },
    {
      "metadata": {
        "slideshow": {
          "slide_type": "subslide"
        },
        "trusted": true
      },
      "cell_type": "code",
      "source": "df.head()",
      "execution_count": null,
      "outputs": []
    },
    {
      "metadata": {
        "slideshow": {
          "slide_type": "subslide"
        },
        "trusted": true
      },
      "cell_type": "code",
      "source": "import seaborn as sns\n\n\n\n# create and display the line plot\ngraph = sns.scatterplot(x=\"Potion_Ave\", y=\"Charm_Ave\", hue = \"House\", \n                        data = df, palette = [\"darkred\", \"gold\", \"darkblue\", \"darkgreen\"])\n\n#specify the title\ntitle = \"The Relationship between Potion and Charm Grades\"\n\n#set the title of the plot\ngraph.set_title(title, size = 16)\n\n#add labels to the axes  \ngraph.set_xlabel(\"Average Potion Grades\", size = 16)\ngraph.set_ylabel(\"Average Charm Grades\", size = 16)\n\n#move the legend to lower right\nplt.legend(loc=\"lower right\")",
      "execution_count": null,
      "outputs": []
    },
    {
      "metadata": {
        "slideshow": {
          "slide_type": "skip"
        }
      },
      "cell_type": "markdown",
      "source": "<a id=\"3\"></a>"
    },
    {
      "metadata": {
        "slideshow": {
          "slide_type": "slide"
        }
      },
      "cell_type": "markdown",
      "source": "## 3. Scatter Plot Properties"
    },
    {
      "metadata": {
        "slideshow": {
          "slide_type": "subslide"
        }
      },
      "cell_type": "markdown",
      "source": "### 3.1. Changing Markers\n* Use the **marker** keyword to change the marker to a different symbol\n* Default is point\n* Full list of markers:\n    * https://matplotlib.org/3.1.1/api/markers_api.html\n\n"
    },
    {
      "metadata": {
        "slideshow": {
          "slide_type": "subslide"
        },
        "trusted": true
      },
      "cell_type": "code",
      "source": "import seaborn as sns\n\n\n# create and display the line plot\ngraph = sns.scatterplot(x=\"Potion_Ave\", y=\"Charm_Ave\", data = df, marker = \"*\", color = \"darkgreen\", )\n\n#specify the title\ntitle = \"The Relationship between Potion and Charm Grades\"\n\n#set the title of the plot\ngraph.set_title(title, size = 16)\n\n#add labels to the axes  \ngraph.set_xlabel(\"Average Potion Grades\", size = 16)\ngraph.set_ylabel(\"Average Charm Grades\", size = 16)\n",
      "execution_count": null,
      "outputs": []
    },
    {
      "metadata": {
        "slideshow": {
          "slide_type": "subslide"
        }
      },
      "cell_type": "markdown",
      "source": "### 3.2. Changing Marker Size\n* Use the **s** keyword to specify the size of markers"
    },
    {
      "metadata": {
        "trusted": true
      },
      "cell_type": "code",
      "source": "import seaborn as sns\n\n\n# create and display the scatter plot\ngraph = sns.scatterplot(x=\"Potion_Ave\", y=\"Charm_Ave\", data = df, \n                        marker = \"o\", s=100, color = \"darkgreen\", alpha=0.5)\n\n#specify the title\ntitle = \"The Relationship between Potion and Charm Grades\"\n\n#set the title of the plot\ngraph.set_title(title, size = 16)\n\n#add labels to the axes  \ngraph.set_xlabel(\"Average Potion Grades\", size = 16)\ngraph.set_ylabel(\"Average Charm Grades\", size = 16)",
      "execution_count": null,
      "outputs": []
    },
    {
      "metadata": {
        "slideshow": {
          "slide_type": "skip"
        }
      },
      "cell_type": "markdown",
      "source": "<a id=\"4\"></a>"
    },
    {
      "metadata": {
        "slideshow": {
          "slide_type": "slide"
        }
      },
      "cell_type": "markdown",
      "source": "## 4. Bubble Plots\n* A variation of a scatter plot in which the data points are replaced with bubbles\n* The size of the bubbles represents a third dimension of the data\n* Use the **size** keyword to specify the column to be used for the size of the bubbles.\n* **sizes** can specify the min and max size of the bubbles in a tuple."
    },
    {
      "metadata": {
        "trusted": true
      },
      "cell_type": "code",
      "source": "world_data = pd.read_csv(\"res/life_income.csv\")",
      "execution_count": null,
      "outputs": []
    },
    {
      "metadata": {
        "trusted": true
      },
      "cell_type": "code",
      "source": "world_data.head()",
      "execution_count": null,
      "outputs": []
    },
    {
      "metadata": {
        "slideshow": {
          "slide_type": "subslide"
        },
        "trusted": true
      },
      "cell_type": "code",
      "source": "import seaborn as sns\n\n# create and display the line plot\ngraph = sns.scatterplot(x=\"Income\", y=\"LifeExpectancy\", data = world_data, s=100, alpha=.5)\n\n#specify the title\ntitle = \"Relationship between Income(GDP per capita) and Life Expectancy\"\n\n#set the title of the plot\ngraph.set_title(title, size = 16)\n\n#add labels to the axes  \ngraph.set_xlabel(\"Income\", size = 16)\ngraph.set_ylabel(\"Life Expectancy\", size = 16)",
      "execution_count": null,
      "outputs": []
    },
    {
      "metadata": {
        "slideshow": {
          "slide_type": "subslide"
        },
        "trusted": true
      },
      "cell_type": "code",
      "source": "import seaborn as sns\n\n# create and display the scatter plot\ngraph = sns.scatterplot(x=\"Income\", y=\"LifeExpectancy\", size=\"Population\", data = world_data, sizes= (100, 2000), \n                        legend=False, color=\"darkred\", alpha=.5)\n\n#specify the title\ntitle = \"Relationship between Income(GDP per capita) and Life Expectancy\"\n\n#set the title of the plot\ngraph.set_title(title, size = 16)\n\n#add labels to the axes  \ngraph.set_xlabel(\"Income\", size = 16)\ngraph.set_ylabel(\"Life Expectancy\", size = 16)",
      "execution_count": null,
      "outputs": []
    }
  ],
  "metadata": {
    "celltoolbar": "Slideshow",
    "kernelspec": {
      "name": "python3",
      "display_name": "Python 3",
      "language": "python"
    },
    "language_info": {
      "mimetype": "text/x-python",
      "nbconvert_exporter": "python",
      "name": "python",
      "pygments_lexer": "ipython3",
      "version": "3.5.4",
      "file_extension": ".py",
      "codemirror_mode": {
        "version": 3,
        "name": "ipython"
      }
    }
  },
  "nbformat": 4,
  "nbformat_minor": 2
}
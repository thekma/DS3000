{
  "cells": [
    {
      "metadata": {
        "slideshow": {
          "slide_type": "slide"
        }
      },
      "cell_type": "markdown",
      "source": "<center> <img src=\"res/ds3000.png\"> </center>"
    },
    {
      "metadata": {},
      "cell_type": "markdown",
      "source": "<center> <h1> Week 11 - Day 1 </h1> </center>"
    },
    {
      "metadata": {},
      "cell_type": "markdown",
      "source": "<center> <h2> Part 1: Simple Linear Regression</h2></center>"
    },
    {
      "metadata": {
        "slideshow": {
          "slide_type": "skip"
        }
      },
      "cell_type": "markdown",
      "source": "## Outline\n1. <a href='#1'>Simple Linear Regression</a>\n2. <a href='#2'>Data Preparation</a>\n3. <a href='#3'>Training the Regression Model</a>\n4. <a href='#4'>Predicting Temperatures</a>\n5. <a href='#5'>Testing the Model</a>\n6. <a href='#6'>Regression Model Metrics</a>\n7. <a href='#7'>Visualizing the Simple Linear Regression Model</a>"
    },
    {
      "metadata": {
        "slideshow": {
          "slide_type": "skip"
        }
      },
      "cell_type": "markdown",
      "source": "<a id=\"1\"></a>"
    },
    {
      "metadata": {
        "slideshow": {
          "slide_type": "slide"
        }
      },
      "cell_type": "markdown",
      "source": "## 1. Simple Linear Regression\n* Simple linear regression is the simplest regression algorithm\n* Given a collection of numeric values representing a predictor variable and an outcome variable, simple linear regression describes the relationship between these variables with a straight line, known as **the regression line**\n"
    },
    {
      "metadata": {
        "slideshow": {
          "slide_type": "subslide"
        }
      },
      "cell_type": "markdown",
      "source": "### 1.1. Time Series Data for Average Boston November Temperature\n* Data obtained from https://www.ncdc.noaa.gov/cag/\n    * the November average temperatures for Boston from 1936 through 2018\n* Three columns per observation:\n    * Date—A value of the form 'YYYYMM’ (such as '201011'). MM is always 11 because we downloaded data for only November of each year.\n    * Value—A floating-point Fahrenheit temperature.\n    * Anomaly—The difference between the value for the given date and average values for all dates (not used in this case study)"
    },
    {
      "metadata": {
        "trusted": false
      },
      "cell_type": "code",
      "source": "import pandas as pd\ndf = pd.read_csv('res/boston_weather.csv')\ndf.columns = [\"Date\", \"Temperature\", \"Anomaly\"]\ndf.head()",
      "execution_count": null,
      "outputs": []
    },
    {
      "metadata": {
        "slideshow": {
          "slide_type": "skip"
        }
      },
      "cell_type": "markdown",
      "source": "<a id=\"2\"></a>"
    },
    {
      "metadata": {
        "slideshow": {
          "slide_type": "slide"
        }
      },
      "cell_type": "markdown",
      "source": "## 2.  Data Preparation\n* Need to do some data munging to get rid of the month digits in dates and delete the Anomaly column"
    },
    {
      "metadata": {
        "slideshow": {
          "slide_type": "-"
        },
        "trusted": false
      },
      "cell_type": "code",
      "source": "df.head()",
      "execution_count": null,
      "outputs": []
    },
    {
      "metadata": {
        "trusted": false
      },
      "cell_type": "code",
      "source": "#TODO in class",
      "execution_count": null,
      "outputs": []
    },
    {
      "metadata": {
        "trusted": false
      },
      "cell_type": "code",
      "source": "#TODO in class",
      "execution_count": null,
      "outputs": []
    },
    {
      "metadata": {
        "trusted": false
      },
      "cell_type": "code",
      "source": "df.head()",
      "execution_count": null,
      "outputs": []
    },
    {
      "metadata": {},
      "cell_type": "markdown",
      "source": "### 2.1. Transforming the Date Column\n* For simple linear regression select one feature (the Date here) as the predictor variable\n    * A column in DataFrame is a one-dimensional Series\n    * Scikit-learn estimators require training and testing data to be two-dimensional\n    * Need to transform Series of n elements, into two dimensions containing n rows and one column"
    },
    {
      "metadata": {
        "slideshow": {
          "slide_type": "-"
        },
        "trusted": false
      },
      "cell_type": "code",
      "source": "features = df[\"Date\"].values.reshape(-1, 1)\nfeatures.shape",
      "execution_count": null,
      "outputs": []
    },
    {
      "metadata": {
        "trusted": false
      },
      "cell_type": "code",
      "source": "features[:5]",
      "execution_count": null,
      "outputs": []
    },
    {
      "metadata": {},
      "cell_type": "markdown",
      "source": "* df[\"Date\"].values returns NumPy array containing Date column’s values\n* reshape(-1, 1) tells reshape to infer the number of rows, based on the number of columns (1) and the number of elements (124) in the array\n* Transformed array will have 83 rows and one column"
    },
    {
      "metadata": {
        "slideshow": {
          "slide_type": "subslide"
        },
        "trusted": false
      },
      "cell_type": "code",
      "source": "target = df[\"Temperature\"]\ntarget",
      "execution_count": null,
      "outputs": []
    },
    {
      "metadata": {},
      "cell_type": "markdown",
      "source": "### 2.2. Correlation Analysis\n* Use SciPy's pearsonr() method"
    },
    {
      "metadata": {
        "trusted": false
      },
      "cell_type": "code",
      "source": "from scipy import stats\n\nr, p = stats.pearsonr(#TODO in class)\nprint(\"correlation coefficient: \", r, \"p-value:\", p)",
      "execution_count": null,
      "outputs": []
    },
    {
      "metadata": {
        "slideshow": {
          "slide_type": "skip"
        }
      },
      "cell_type": "markdown",
      "source": "<a id=\"3\"></a>"
    },
    {
      "metadata": {
        "slideshow": {
          "slide_type": "slide"
        }
      },
      "cell_type": "markdown",
      "source": "## 3. Training the Regression Model\n* Use the LinearRegression() estimator\n* To find the best fitting regression line for the data, the LinearRegression estimator iteratively adjusts the slope and intercept to minimize the sum of the squares of the data points’ distances from the line"
    },
    {
      "metadata": {
        "trusted": false
      },
      "cell_type": "code",
      "source": "from sklearn.linear_model import LinearRegression\nfrom sklearn.model_selection import train_test_split\n\n\n#split data into training and testing sets\nX_train, X_test, y_train, y_test = train_test_split(features, target, random_state=3000)\n\n#select a classifier and create the model by fitting the training data\nmodel = LinearRegression().fit(X=X_train, y=y_train)\n",
      "execution_count": null,
      "outputs": []
    },
    {
      "metadata": {
        "slideshow": {
          "slide_type": "subslide"
        }
      },
      "cell_type": "markdown",
      "source": "### 3.1. Regression Line Equation\n* Once the model is fitted, the estimator calculates the **slope** and **intercept** \n* We can make **predictions** with \n\n\\begin{equation}\ny = m x + b\n\\end{equation}\n\n* Slope is the estimator’s **`coef_`** attribute (**m** in the equation) \n* Intercept is the estimator’s **`intercept_`** attribute (**b** in the equation)"
    },
    {
      "metadata": {
        "trusted": false
      },
      "cell_type": "code",
      "source": "slope = model.coef_\nslope",
      "execution_count": null,
      "outputs": []
    },
    {
      "metadata": {
        "trusted": false
      },
      "cell_type": "code",
      "source": "slope = slope[0]\nslope",
      "execution_count": null,
      "outputs": []
    },
    {
      "metadata": {
        "trusted": false
      },
      "cell_type": "code",
      "source": "intercept = model.intercept_\nintercept",
      "execution_count": null,
      "outputs": []
    },
    {
      "metadata": {
        "slideshow": {
          "slide_type": "subslide"
        }
      },
      "cell_type": "markdown",
      "source": "#### The equation:\n\\begin{equation}\ny = 0.035601 x - 26.65185\n\\end{equation}"
    },
    {
      "metadata": {
        "slideshow": {
          "slide_type": "skip"
        }
      },
      "cell_type": "markdown",
      "source": "<a id=\"4\"></a>"
    },
    {
      "metadata": {
        "slideshow": {
          "slide_type": "slide"
        }
      },
      "cell_type": "markdown",
      "source": "### 4. Predicting Temperatures"
    },
    {
      "metadata": {
        "trusted": false
      },
      "cell_type": "code",
      "source": "def predict_temp(x):\n    \n    #TODO in class\n    \n    return y",
      "execution_count": null,
      "outputs": []
    },
    {
      "metadata": {
        "trusted": false
      },
      "cell_type": "code",
      "source": "predict_temp(2019)",
      "execution_count": null,
      "outputs": []
    },
    {
      "metadata": {
        "slideshow": {
          "slide_type": "skip"
        }
      },
      "cell_type": "markdown",
      "source": "<a id=\"5\"></a>"
    },
    {
      "metadata": {},
      "cell_type": "markdown",
      "source": "## 5. Testing the Model\n* Test the model using the data in **`X_test`** and check some of the **predictions**"
    },
    {
      "metadata": {
        "trusted": false
      },
      "cell_type": "code",
      "source": "predicted = model.predict(X_test)",
      "execution_count": null,
      "outputs": []
    },
    {
      "metadata": {
        "trusted": false
      },
      "cell_type": "code",
      "source": "expected = y_test",
      "execution_count": null,
      "outputs": []
    },
    {
      "metadata": {
        "trusted": false
      },
      "cell_type": "code",
      "source": "predicted[:5]",
      "execution_count": null,
      "outputs": []
    },
    {
      "metadata": {
        "trusted": false
      },
      "cell_type": "code",
      "source": "expected[:5]",
      "execution_count": null,
      "outputs": []
    },
    {
      "metadata": {
        "slideshow": {
          "slide_type": "subslide"
        },
        "trusted": false
      },
      "cell_type": "code",
      "source": "for p, e in zip(predicted[::5], expected[::5]):  # check every 5th element\n    print(f'predicted: {p:.2f}, expected: {e:.2f}')",
      "execution_count": null,
      "outputs": []
    },
    {
      "metadata": {
        "slideshow": {
          "slide_type": "skip"
        }
      },
      "cell_type": "markdown",
      "source": "<a id=\"6\"></a>"
    },
    {
      "metadata": {
        "slideshow": {
          "slide_type": "slide"
        }
      },
      "cell_type": "markdown",
      "source": "## 6. Regression Model Metrics\n* **Metrics for regression estimators** include **coefficient of determination** (**$R^{2}$ score**; 0.0-1.0)\n    * **1.0** &mdash; estimator **perfectly predicts** the **dependent variable’s value**, given independent variables' values\n    * **0.0** &mdash; **model cannot make predictions with any accuracy**, given independent variables’ values \n* Calculate with arrays representing the **expected** and **predicted results**"
    },
    {
      "metadata": {
        "trusted": false
      },
      "cell_type": "code",
      "source": "from sklearn import metrics\nmetrics.r2_score(expected, predicted)",
      "execution_count": null,
      "outputs": []
    },
    {
      "metadata": {
        "slideshow": {
          "slide_type": "skip"
        }
      },
      "cell_type": "markdown",
      "source": "<a id=\"7\"></a>"
    },
    {
      "metadata": {},
      "cell_type": "markdown",
      "source": "## 7. Visualizing the Simple Linear Regression Model\n* Scatter plots are commonly used to visualize regression models\n* Use plotly's scatter() method\n* Setting the trendline=\"ols\" *usually* draws the regression line on the graph"
    },
    {
      "metadata": {
        "trusted": false
      },
      "cell_type": "code",
      "source": "import plotly.express as px\nimport plotly.graph_objects as go\n\n#produce the scatter plot\ngraph = px.scatter(df, x=\"Date\", y=\"Temperature\", template=\"none\", color=\"Temperature\", opacity=.8, trendline=\"ols\")\n\n#add a line shape on top of the scatter plot using two points (1936, predict_temp(1936)) and (2018, predict_temp(2018))\n#because predict_temp uses the regression line equation, this will plot the regression line on the graph\n\ngraph.update_layout(\n    \n    shapes=[    \n        go.layout.Shape(\n            type=\"line\",\n            x0=1936, y0=predict_temp(1936),\n            x1=2018, y1=predict_temp(2018),\n            line=dict(color=\"coral\", width=3, dash=\"solid\")\n        )\n    ]\n)\n\ngraph.update_traces(marker={\"size\":12})\n\n#need to change y-axis; otherwise, plotly will auto-scale, leading to confusion\ngraph.update_layout(yaxis = dict(range = [20,60]))\n\ngraph.show()",
      "execution_count": null,
      "outputs": []
    },
    {
      "metadata": {
        "slideshow": {
          "slide_type": "subslide"
        },
        "trusted": false
      },
      "cell_type": "code",
      "source": "import plotly.express as px\n\n#produce the scatter plot\ngraph = px.scatter(df, x=\"Date\", y=\"Temperature\", template=\"none\", color=\"Temperature\", opacity=.8)\n\n#add a line shape on top of the scatter plot using two points (1936, predict_temp(1936)) and (2018, predict_temp(2018))\n#because predict_temp uses the regression line equation, this will plot the regression line on the graph\n\ngraph.update_layout(\n    \n    shapes=[    \n        go.layout.Shape(\n            type=\"line\",\n            x0=1936, y0=predict_temp(1936),\n            x1=2018, y1=predict_temp(2018),\n            line=dict(color=\"coral\", width=2, dash=\"solid\")\n        )\n    ]\n)\n\ngraph.update_traces(marker={\"size\":12})\n\n#need to change y-axis; otherwise, plotly will auto-scale, leading to confusion\ngraph.update_layout(yaxis = dict(range = [20,60]))\n\ngraph.show()",
      "execution_count": null,
      "outputs": []
    },
    {
      "metadata": {
        "slideshow": {
          "slide_type": "subslide"
        },
        "trusted": false
      },
      "cell_type": "code",
      "source": "%matplotlib notebook",
      "execution_count": null,
      "outputs": []
    },
    {
      "metadata": {
        "trusted": false
      },
      "cell_type": "code",
      "source": "import matplotlib\nimport seaborn as sns\nfig =sns.regplot(data=df, x=\"Date\", y=\"Temperature\")\nfig.set_ylim(20, 60)\nsns.set_palette(\"colorblind\")\nsns.set_style('whitegrid')",
      "execution_count": null,
      "outputs": []
    }
  ],
  "metadata": {
    "celltoolbar": "Slideshow",
    "kernelspec": {
      "name": "python3",
      "display_name": "Python 3",
      "language": "python"
    },
    "language_info": {
      "mimetype": "text/x-python",
      "nbconvert_exporter": "python",
      "name": "python",
      "pygments_lexer": "ipython3",
      "version": "3.5.4",
      "file_extension": ".py",
      "codemirror_mode": {
        "version": 3,
        "name": "ipython"
      }
    }
  },
  "nbformat": 4,
  "nbformat_minor": 2
}
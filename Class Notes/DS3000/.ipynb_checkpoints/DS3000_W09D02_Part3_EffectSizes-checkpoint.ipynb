{
  "cells": [
    {
      "metadata": {
        "slideshow": {
          "slide_type": "slide"
        }
      },
      "cell_type": "markdown",
      "source": "<center> <img src=\"res/ds3000.png\"> </center>"
    },
    {
      "metadata": {},
      "cell_type": "markdown",
      "source": "<center> <h1> Week 9 - Day 2 </h1> </center>"
    },
    {
      "metadata": {},
      "cell_type": "markdown",
      "source": "<center> <h2> Part 3: Effect Sizes </h2></center>"
    },
    {
      "metadata": {
        "slideshow": {
          "slide_type": "skip"
        }
      },
      "cell_type": "markdown",
      "source": "## Outline\n1. <a href='#1'>Cohen's d for Indepedent-Samples t test</a>\n2. <a href='#2'>Cohen's d for Paired-Samples t test</a>"
    },
    {
      "metadata": {
        "slideshow": {
          "slide_type": "skip"
        }
      },
      "cell_type": "markdown",
      "source": "<a id=\"1\"></a>"
    },
    {
      "metadata": {
        "slideshow": {
          "slide_type": "slide"
        }
      },
      "cell_type": "markdown",
      "source": "## 1. Cohen's d for Indepedent-Samples t test"
    },
    {
      "metadata": {
        "trusted": false
      },
      "cell_type": "code",
      "source": "from scipy import stats",
      "execution_count": 1,
      "outputs": []
    },
    {
      "metadata": {
        "trusted": false
      },
      "cell_type": "code",
      "source": "import pandas as pd\nimport numpy as np",
      "execution_count": 13,
      "outputs": []
    },
    {
      "metadata": {
        "trusted": false
      },
      "cell_type": "code",
      "source": "data = pd.read_csv(\"res/wand_candles_data.csv\")",
      "execution_count": 3,
      "outputs": []
    },
    {
      "metadata": {
        "collapsed": true,
        "trusted": false
      },
      "cell_type": "code",
      "source": "data",
      "execution_count": 121,
      "outputs": [
        {
          "data": {
            "text/html": "<div>\n<style scoped>\n    .dataframe tbody tr th:only-of-type {\n        vertical-align: middle;\n    }\n\n    .dataframe tbody tr th {\n        vertical-align: top;\n    }\n\n    .dataframe thead th {\n        text-align: right;\n    }\n</style>\n<table border=\"1\" class=\"dataframe\">\n  <thead>\n    <tr style=\"text-align: right;\">\n      <th></th>\n      <th>Participant</th>\n      <th>Group</th>\n      <th>Candles</th>\n    </tr>\n  </thead>\n  <tbody>\n    <tr>\n      <td>0</td>\n      <td>P01</td>\n      <td>Elder Wand</td>\n      <td>17</td>\n    </tr>\n    <tr>\n      <td>1</td>\n      <td>P02</td>\n      <td>Elder Wand</td>\n      <td>18</td>\n    </tr>\n    <tr>\n      <td>2</td>\n      <td>P03</td>\n      <td>Elder Wand</td>\n      <td>20</td>\n    </tr>\n    <tr>\n      <td>3</td>\n      <td>P04</td>\n      <td>Elder Wand</td>\n      <td>22</td>\n    </tr>\n    <tr>\n      <td>4</td>\n      <td>P05</td>\n      <td>Regular Wand</td>\n      <td>16</td>\n    </tr>\n    <tr>\n      <td>5</td>\n      <td>P06</td>\n      <td>Regular Wand</td>\n      <td>12</td>\n    </tr>\n    <tr>\n      <td>6</td>\n      <td>P07</td>\n      <td>Elder Wand</td>\n      <td>22</td>\n    </tr>\n    <tr>\n      <td>7</td>\n      <td>P08</td>\n      <td>Elder Wand</td>\n      <td>21</td>\n    </tr>\n    <tr>\n      <td>8</td>\n      <td>P09</td>\n      <td>Elder Wand</td>\n      <td>23</td>\n    </tr>\n    <tr>\n      <td>9</td>\n      <td>P10</td>\n      <td>Elder Wand</td>\n      <td>19</td>\n    </tr>\n    <tr>\n      <td>10</td>\n      <td>P11</td>\n      <td>Regular Wand</td>\n      <td>14</td>\n    </tr>\n    <tr>\n      <td>11</td>\n      <td>P12</td>\n      <td>Regular Wand</td>\n      <td>17</td>\n    </tr>\n    <tr>\n      <td>12</td>\n      <td>P13</td>\n      <td>Regular Wand</td>\n      <td>19</td>\n    </tr>\n    <tr>\n      <td>13</td>\n      <td>P14</td>\n      <td>Elder Wand</td>\n      <td>19</td>\n    </tr>\n    <tr>\n      <td>14</td>\n      <td>P15</td>\n      <td>Regular Wand</td>\n      <td>17</td>\n    </tr>\n    <tr>\n      <td>15</td>\n      <td>P16</td>\n      <td>Elder Wand</td>\n      <td>20</td>\n    </tr>\n    <tr>\n      <td>16</td>\n      <td>P17</td>\n      <td>Regular Wand</td>\n      <td>16</td>\n    </tr>\n    <tr>\n      <td>17</td>\n      <td>P18</td>\n      <td>Regular Wand</td>\n      <td>14</td>\n    </tr>\n    <tr>\n      <td>18</td>\n      <td>P19</td>\n      <td>Regular Wand</td>\n      <td>15</td>\n    </tr>\n    <tr>\n      <td>19</td>\n      <td>P20</td>\n      <td>Regular Wand</td>\n      <td>16</td>\n    </tr>\n    <tr>\n      <td>20</td>\n      <td>P21</td>\n      <td>Regular Wand</td>\n      <td>17</td>\n    </tr>\n    <tr>\n      <td>21</td>\n      <td>P22</td>\n      <td>Regular Wand</td>\n      <td>18</td>\n    </tr>\n    <tr>\n      <td>22</td>\n      <td>P23</td>\n      <td>Regular Wand</td>\n      <td>14</td>\n    </tr>\n    <tr>\n      <td>23</td>\n      <td>P24</td>\n      <td>Elder Wand</td>\n      <td>23</td>\n    </tr>\n    <tr>\n      <td>24</td>\n      <td>P25</td>\n      <td>Regular Wand</td>\n      <td>16</td>\n    </tr>\n    <tr>\n      <td>25</td>\n      <td>P26</td>\n      <td>Elder Wand</td>\n      <td>22</td>\n    </tr>\n    <tr>\n      <td>26</td>\n      <td>P27</td>\n      <td>Regular Wand</td>\n      <td>13</td>\n    </tr>\n    <tr>\n      <td>27</td>\n      <td>P28</td>\n      <td>Regular Wand</td>\n      <td>16</td>\n    </tr>\n    <tr>\n      <td>28</td>\n      <td>P29</td>\n      <td>Elder Wand</td>\n      <td>22</td>\n    </tr>\n    <tr>\n      <td>29</td>\n      <td>P30</td>\n      <td>Regular Wand</td>\n      <td>17</td>\n    </tr>\n    <tr>\n      <td>30</td>\n      <td>P31</td>\n      <td>Elder Wand</td>\n      <td>23</td>\n    </tr>\n    <tr>\n      <td>31</td>\n      <td>P32</td>\n      <td>Elder Wand</td>\n      <td>26</td>\n    </tr>\n    <tr>\n      <td>32</td>\n      <td>P33</td>\n      <td>Elder Wand</td>\n      <td>21</td>\n    </tr>\n    <tr>\n      <td>33</td>\n      <td>P34</td>\n      <td>Elder Wand</td>\n      <td>18</td>\n    </tr>\n    <tr>\n      <td>34</td>\n      <td>P35</td>\n      <td>Elder Wand</td>\n      <td>23</td>\n    </tr>\n    <tr>\n      <td>35</td>\n      <td>P36</td>\n      <td>Regular Wand</td>\n      <td>16</td>\n    </tr>\n    <tr>\n      <td>36</td>\n      <td>P37</td>\n      <td>Elder Wand</td>\n      <td>21</td>\n    </tr>\n    <tr>\n      <td>37</td>\n      <td>P38</td>\n      <td>Elder Wand</td>\n      <td>22</td>\n    </tr>\n    <tr>\n      <td>38</td>\n      <td>P39</td>\n      <td>Regular Wand</td>\n      <td>16</td>\n    </tr>\n    <tr>\n      <td>39</td>\n      <td>P40</td>\n      <td>Regular Wand</td>\n      <td>13</td>\n    </tr>\n  </tbody>\n</table>\n</div>",
            "text/plain": "   Participant         Group  Candles\n0          P01    Elder Wand       17\n1          P02    Elder Wand       18\n2          P03    Elder Wand       20\n3          P04    Elder Wand       22\n4          P05  Regular Wand       16\n5          P06  Regular Wand       12\n6          P07    Elder Wand       22\n7          P08    Elder Wand       21\n8          P09    Elder Wand       23\n9          P10    Elder Wand       19\n10         P11  Regular Wand       14\n11         P12  Regular Wand       17\n12         P13  Regular Wand       19\n13         P14    Elder Wand       19\n14         P15  Regular Wand       17\n15         P16    Elder Wand       20\n16         P17  Regular Wand       16\n17         P18  Regular Wand       14\n18         P19  Regular Wand       15\n19         P20  Regular Wand       16\n20         P21  Regular Wand       17\n21         P22  Regular Wand       18\n22         P23  Regular Wand       14\n23         P24    Elder Wand       23\n24         P25  Regular Wand       16\n25         P26    Elder Wand       22\n26         P27  Regular Wand       13\n27         P28  Regular Wand       16\n28         P29    Elder Wand       22\n29         P30  Regular Wand       17\n30         P31    Elder Wand       23\n31         P32    Elder Wand       26\n32         P33    Elder Wand       21\n33         P34    Elder Wand       18\n34         P35    Elder Wand       23\n35         P36  Regular Wand       16\n36         P37    Elder Wand       21\n37         P38    Elder Wand       22\n38         P39  Regular Wand       16\n39         P40  Regular Wand       13"
          },
          "execution_count": 121,
          "metadata": {},
          "output_type": "execute_result"
        }
      ]
    },
    {
      "metadata": {
        "collapsed": true,
        "trusted": false
      },
      "cell_type": "code",
      "source": "elder_wand = data[data[\"Group\"] == \"Elder Wand\"][\"Candles\"]\nelder_wand",
      "execution_count": 5,
      "outputs": [
        {
          "data": {
            "text/plain": "0     17\n1     18\n2     20\n3     22\n6     22\n7     21\n8     23\n9     19\n13    19\n15    20\n23    23\n25    22\n28    22\n30    23\n31    26\n32    21\n33    18\n34    23\n36    21\n37    22\nName: Candles, dtype: int64"
          },
          "execution_count": 5,
          "metadata": {},
          "output_type": "execute_result"
        }
      ]
    },
    {
      "metadata": {
        "collapsed": true,
        "trusted": false
      },
      "cell_type": "code",
      "source": "regular_wand = data[data[\"Group\"] == \"Regular Wand\"][\"Candles\"]\nregular_wand",
      "execution_count": 6,
      "outputs": [
        {
          "data": {
            "text/plain": "4     16\n5     12\n10    14\n11    17\n12    19\n14    17\n16    16\n17    14\n18    15\n19    16\n20    17\n21    18\n22    14\n24    16\n26    13\n27    16\n29    17\n35    16\n38    16\n39    13\nName: Candles, dtype: int64"
          },
          "execution_count": 6,
          "metadata": {},
          "output_type": "execute_result"
        }
      ]
    },
    {
      "metadata": {
        "trusted": false
      },
      "cell_type": "code",
      "source": "# function to calculate Cohen's d for independent samples\ndef cohend_independent(d1, d2):\n    \n    \n    return (m1 - m2) / s",
      "execution_count": null,
      "outputs": []
    },
    {
      "metadata": {
        "trusted": false
      },
      "cell_type": "code",
      "source": "# function to calculate Cohen's d for independent samples\ndef cohend_independent(d1, d2):\n    \n    # calculate the means of the samples\n    m1, m2 = d1.mean(), d2.mean()\n    \n    # calculate the variance of the samples\n    s1, s2 = d1.var(), d2.var()\n    \n    # calculate the size of samples\n    n1, n2 = len(d1), len(d2)\n    \n    # calculate the pooled standard deviation\n    s = np.sqrt(((n1 - 1) * s1 + (n2 - 1) * s2) / (n1 + n2 - 2))\n    \n    # calculate the effect size\n    return (m1 - m2) / s",
      "execution_count": 17,
      "outputs": []
    },
    {
      "metadata": {
        "trusted": false
      },
      "cell_type": "code",
      "source": "cohend(elder_wand, regular_wand)",
      "execution_count": 18,
      "outputs": [
        {
          "data": {
            "text/plain": "2.7627526354767995"
          },
          "execution_count": 18,
          "metadata": {},
          "output_type": "execute_result"
        }
      ]
    },
    {
      "metadata": {
        "slideshow": {
          "slide_type": "skip"
        }
      },
      "cell_type": "markdown",
      "source": "<a id=\"3\"></a>"
    },
    {
      "metadata": {
        "slideshow": {
          "slide_type": "slide"
        }
      },
      "cell_type": "markdown",
      "source": "## 3. Cohen's d for Paired-Samples t test"
    },
    {
      "metadata": {
        "trusted": false
      },
      "cell_type": "code",
      "source": "paired_data = pd.read_csv(\"res/wand_candles_data_paired.csv\")",
      "execution_count": 19,
      "outputs": []
    },
    {
      "metadata": {
        "collapsed": true,
        "trusted": false
      },
      "cell_type": "code",
      "source": "paired_data",
      "execution_count": 20,
      "outputs": [
        {
          "data": {
            "text/html": "<div>\n<style scoped>\n    .dataframe tbody tr th:only-of-type {\n        vertical-align: middle;\n    }\n\n    .dataframe tbody tr th {\n        vertical-align: top;\n    }\n\n    .dataframe thead th {\n        text-align: right;\n    }\n</style>\n<table border=\"1\" class=\"dataframe\">\n  <thead>\n    <tr style=\"text-align: right;\">\n      <th></th>\n      <th>Participant</th>\n      <th>Elder_Wand</th>\n      <th>Regular_Wand</th>\n    </tr>\n  </thead>\n  <tbody>\n    <tr>\n      <td>0</td>\n      <td>P01</td>\n      <td>17</td>\n      <td>16</td>\n    </tr>\n    <tr>\n      <td>1</td>\n      <td>P02</td>\n      <td>18</td>\n      <td>12</td>\n    </tr>\n    <tr>\n      <td>2</td>\n      <td>P03</td>\n      <td>20</td>\n      <td>14</td>\n    </tr>\n    <tr>\n      <td>3</td>\n      <td>P04</td>\n      <td>22</td>\n      <td>17</td>\n    </tr>\n    <tr>\n      <td>4</td>\n      <td>P05</td>\n      <td>22</td>\n      <td>19</td>\n    </tr>\n    <tr>\n      <td>5</td>\n      <td>P06</td>\n      <td>21</td>\n      <td>17</td>\n    </tr>\n    <tr>\n      <td>6</td>\n      <td>P07</td>\n      <td>23</td>\n      <td>16</td>\n    </tr>\n    <tr>\n      <td>7</td>\n      <td>P08</td>\n      <td>19</td>\n      <td>14</td>\n    </tr>\n    <tr>\n      <td>8</td>\n      <td>P09</td>\n      <td>19</td>\n      <td>15</td>\n    </tr>\n    <tr>\n      <td>9</td>\n      <td>P10</td>\n      <td>20</td>\n      <td>16</td>\n    </tr>\n    <tr>\n      <td>10</td>\n      <td>P11</td>\n      <td>23</td>\n      <td>17</td>\n    </tr>\n    <tr>\n      <td>11</td>\n      <td>P12</td>\n      <td>22</td>\n      <td>18</td>\n    </tr>\n    <tr>\n      <td>12</td>\n      <td>P13</td>\n      <td>22</td>\n      <td>14</td>\n    </tr>\n    <tr>\n      <td>13</td>\n      <td>P14</td>\n      <td>23</td>\n      <td>16</td>\n    </tr>\n    <tr>\n      <td>14</td>\n      <td>P15</td>\n      <td>26</td>\n      <td>13</td>\n    </tr>\n    <tr>\n      <td>15</td>\n      <td>P16</td>\n      <td>21</td>\n      <td>16</td>\n    </tr>\n    <tr>\n      <td>16</td>\n      <td>P17</td>\n      <td>18</td>\n      <td>17</td>\n    </tr>\n    <tr>\n      <td>17</td>\n      <td>P18</td>\n      <td>23</td>\n      <td>16</td>\n    </tr>\n    <tr>\n      <td>18</td>\n      <td>P19</td>\n      <td>21</td>\n      <td>16</td>\n    </tr>\n    <tr>\n      <td>19</td>\n      <td>P20</td>\n      <td>22</td>\n      <td>13</td>\n    </tr>\n  </tbody>\n</table>\n</div>",
            "text/plain": "   Participant  Elder_Wand  Regular_Wand\n0          P01          17            16\n1          P02          18            12\n2          P03          20            14\n3          P04          22            17\n4          P05          22            19\n5          P06          21            17\n6          P07          23            16\n7          P08          19            14\n8          P09          19            15\n9          P10          20            16\n10         P11          23            17\n11         P12          22            18\n12         P13          22            14\n13         P14          23            16\n14         P15          26            13\n15         P16          21            16\n16         P17          18            17\n17         P18          23            16\n18         P19          21            16\n19         P20          22            13"
          },
          "execution_count": 20,
          "metadata": {},
          "output_type": "execute_result"
        }
      ]
    },
    {
      "metadata": {
        "slideshow": {
          "slide_type": "-"
        },
        "trusted": false
      },
      "cell_type": "code",
      "source": "def cohend_paired(diff):\n    \n    return",
      "execution_count": 27,
      "outputs": []
    },
    {
      "metadata": {
        "slideshow": {
          "slide_type": "-"
        },
        "trusted": false
      },
      "cell_type": "code",
      "source": "cohend_paired(paired_data[\"Difference\"])",
      "execution_count": 28,
      "outputs": [
        {
          "data": {
            "text/plain": "2.0334434062277063"
          },
          "execution_count": 28,
          "metadata": {},
          "output_type": "execute_result"
        }
      ]
    }
  ],
  "metadata": {
    "celltoolbar": "Slideshow",
    "kernelspec": {
      "name": "python3",
      "display_name": "Python 3",
      "language": "python"
    },
    "language_info": {
      "mimetype": "text/x-python",
      "nbconvert_exporter": "python",
      "name": "python",
      "file_extension": ".py",
      "version": "3.5.4",
      "pygments_lexer": "ipython3",
      "codemirror_mode": {
        "version": 3,
        "name": "ipython"
      }
    }
  },
  "nbformat": 4,
  "nbformat_minor": 2
}
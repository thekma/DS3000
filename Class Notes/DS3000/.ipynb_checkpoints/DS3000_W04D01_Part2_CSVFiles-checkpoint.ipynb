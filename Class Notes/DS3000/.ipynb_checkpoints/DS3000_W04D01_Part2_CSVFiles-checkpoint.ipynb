{
  "cells": [
    {
      "metadata": {
        "slideshow": {
          "slide_type": "slide"
        }
      },
      "cell_type": "markdown",
      "source": "<center> <img src=\"res/ds3000.png\"> </center>"
    },
    {
      "metadata": {},
      "cell_type": "markdown",
      "source": "<center> <h1> Week 4 - Day 1 </h1> </center>"
    },
    {
      "metadata": {},
      "cell_type": "markdown",
      "source": "<center> <h2> Part 2: Working with CSV Files </h2></center>"
    },
    {
      "metadata": {
        "slideshow": {
          "slide_type": "skip"
        }
      },
      "cell_type": "markdown",
      "source": "## Outline\n1. <a href='#1'>Reading CSV Files into Pandas `DataFrames`</a>\n2. <a href='#2'>Writing a DataFrame to a CSV File</a>\n3. <a href='#3'>Reading Excel Spreadsheets</a>\n4. <a href='#4'>Writing to an Excel File</a>\n5. <a href='#5'>Reading CSV Files Using the Built-in CSV Module</a>\n6. <a href='#6'>Writing Data to CSV Files</a>"
    },
    {
      "metadata": {
        "slideshow": {
          "slide_type": "slide"
        }
      },
      "cell_type": "markdown",
      "source": "## Comma-Separated Values (CSV) Files\n* A csv file a delimited text file that uses a comma to separate values\n* **`csv` module** provides functions for working with CSV files"
    },
    {
      "metadata": {
        "slideshow": {
          "slide_type": "skip"
        }
      },
      "cell_type": "markdown",
      "source": "<a id=\"1\"></a>"
    },
    {
      "metadata": {
        "slideshow": {
          "slide_type": "slide"
        }
      },
      "cell_type": "markdown",
      "source": "## 1. Reading CSV Files into Pandas `DataFrames` \n* Load a CSV dataset into a `DataFrame` with the pandas function **`read_csv`**\n* `names` argument specifies the `DataFrame`’s column names\n    * Without this argument, `read_csv` assumes that the CSV file’s first row is a comma-delimited list of column names"
    },
    {
      "metadata": {
        "trusted": true
      },
      "cell_type": "code",
      "source": "import pandas as pd",
      "execution_count": null,
      "outputs": []
    },
    {
      "metadata": {
        "trusted": true
      },
      "cell_type": "code",
      "source": "df = pd.read_csv('res/grade_book.csv', names=['Name', 'Potion1', 'Potion2', 'Potion3'])",
      "execution_count": null,
      "outputs": []
    },
    {
      "metadata": {
        "trusted": true
      },
      "cell_type": "code",
      "source": "df",
      "execution_count": null,
      "outputs": []
    },
    {
      "metadata": {
        "slideshow": {
          "slide_type": "subslide"
        },
        "trusted": true
      },
      "cell_type": "code",
      "source": "df = pd.read_csv('res/grade_book.csv')\ndf",
      "execution_count": null,
      "outputs": []
    },
    {
      "metadata": {
        "slideshow": {
          "slide_type": "subslide"
        }
      },
      "cell_type": "markdown",
      "source": "* Can instruct pandas to not use the first row as the header line\n* Set **header=None**"
    },
    {
      "metadata": {
        "trusted": true
      },
      "cell_type": "code",
      "source": "df = pd.read_csv('res/grade_book.csv', header=None)\ndf",
      "execution_count": null,
      "outputs": []
    },
    {
      "metadata": {
        "slideshow": {
          "slide_type": "subslide"
        }
      },
      "cell_type": "markdown",
      "source": "* If column names are already available in the first line of the CSV file, they become DF column names:"
    },
    {
      "metadata": {
        "trusted": true
      },
      "cell_type": "code",
      "source": "df = pd.read_csv('res/grade_book_header.csv')\ndf",
      "execution_count": null,
      "outputs": []
    },
    {
      "metadata": {
        "slideshow": {
          "slide_type": "subslide"
        }
      },
      "cell_type": "markdown",
      "source": "* Can specify the index column for the names of the rows:"
    },
    {
      "metadata": {
        "trusted": true
      },
      "cell_type": "code",
      "source": "df = pd.read_csv('res/grade_book_header.csv', index_col = \"Name\")\ndf",
      "execution_count": null,
      "outputs": []
    },
    {
      "metadata": {
        "scrolled": true,
        "trusted": true
      },
      "cell_type": "code",
      "source": "df.loc[\"Harry\"]",
      "execution_count": null,
      "outputs": []
    },
    {
      "metadata": {
        "slideshow": {
          "slide_type": "subslide"
        },
        "trusted": true
      },
      "cell_type": "code",
      "source": "df = pd.read_csv('res/grade_book_header.csv')\ndf",
      "execution_count": null,
      "outputs": []
    },
    {
      "metadata": {
        "slideshow": {
          "slide_type": "skip"
        }
      },
      "cell_type": "markdown",
      "source": "<a id=\"2\"></a>"
    },
    {
      "metadata": {
        "slideshow": {
          "slide_type": "slide"
        }
      },
      "cell_type": "markdown",
      "source": "## 2. Writing a DataFrame to a CSV File\n* To save a `DataFrame` to a file using CSV format, call `DataFrame` method **`to_csv`**\n* `index=False` indicates that the row names (`0`–`5` at the left of the `DataFrame`’s output above are not written to the file\n* Resulting file contains the column names as the first row\n* If you don't want to write column names, use `header=False` method call"
    },
    {
      "metadata": {
        "slideshow": {
          "slide_type": "-"
        },
        "trusted": true
      },
      "cell_type": "code",
      "source": "df.to_csv('res/grades_from_dataframe.csv', index=False)",
      "execution_count": null,
      "outputs": []
    },
    {
      "metadata": {
        "trusted": true
      },
      "cell_type": "code",
      "source": "!more res\\grades_from_dataframe.csv",
      "execution_count": null,
      "outputs": []
    },
    {
      "metadata": {
        "slideshow": {
          "slide_type": "subslide"
        }
      },
      "cell_type": "markdown",
      "source": "### 2.1. Appending to a CSV\n* Set **mode = \"a\"**\n* Set **header = None** if you do not want to write the column names again"
    },
    {
      "metadata": {
        "slideshow": {
          "slide_type": "-"
        },
        "trusted": true
      },
      "cell_type": "code",
      "source": "df.to_csv('res/grades_from_dataframe.csv', index=False, header=None, mode = \"a\")",
      "execution_count": null,
      "outputs": []
    },
    {
      "metadata": {
        "trusted": true
      },
      "cell_type": "code",
      "source": "!more res\\grades_from_dataframe.csv",
      "execution_count": null,
      "outputs": []
    },
    {
      "metadata": {
        "slideshow": {
          "slide_type": "subslide"
        }
      },
      "cell_type": "markdown",
      "source": "### 2.2. More File Parsing Functions in pandas\n| Mode | Description\n| ------ | :------\n| **`read_csv`** | Load delimited data from a file, URL; uses comma as default delimited\n| **`read-fwf`** | Read data in fixed-width column format (i.e., no delimiters such as tab-separated txt files)\n| **`read_clipboard`** | Version of read_csv that reads data from the clipboard; useful for converting tables from web pages\n| **`read_html`** | Read all tables contained in the given HTML document.\n| **`read_json`** | Read data from a JSON (JavaScript Object Notation) string representation\n| **`read_excel`** | Read data from Excel files"
    },
    {
      "metadata": {
        "slideshow": {
          "slide_type": "skip"
        }
      },
      "cell_type": "markdown",
      "source": "<a id=\"3\"></a>"
    },
    {
      "metadata": {
        "slideshow": {
          "slide_type": "slide"
        }
      },
      "cell_type": "markdown",
      "source": "  \n## 3. Reading Excel Spreadsheets"
    },
    {
      "metadata": {
        "slideshow": {
          "slide_type": "-"
        },
        "trusted": true
      },
      "cell_type": "code",
      "source": "df = pd.read_excel('res/grade_book_header.xlsx')\ndf",
      "execution_count": null,
      "outputs": []
    },
    {
      "metadata": {
        "slideshow": {
          "slide_type": "subslide"
        }
      },
      "cell_type": "markdown",
      "source": "### 3.1. Reading a Specific Sheet from an Excel File\n* Can specify the sheet to read from an Excel file\n* Provide a second argument with the sheet name"
    },
    {
      "metadata": {
        "trusted": true
      },
      "cell_type": "code",
      "source": "df = pd.read_excel('res/grade_book_header.xlsx', 'Sheet2')\ndf",
      "execution_count": null,
      "outputs": []
    },
    {
      "metadata": {
        "slideshow": {
          "slide_type": "skip"
        }
      },
      "cell_type": "markdown",
      "source": "<a id=\"4\"></a>"
    },
    {
      "metadata": {
        "slideshow": {
          "slide_type": "slide"
        }
      },
      "cell_type": "markdown",
      "source": "## 4. Writing to an Excel File"
    },
    {
      "metadata": {
        "trusted": true
      },
      "cell_type": "code",
      "source": "df",
      "execution_count": null,
      "outputs": []
    },
    {
      "metadata": {
        "slideshow": {
          "slide_type": "fragment"
        },
        "trusted": true
      },
      "cell_type": "code",
      "source": "writer = pd.ExcelWriter('res/charms.xlsx')\n\ndf.to_excel(writer, 'Sheet1') #can specify the name of the sheet\n\nwriter.save() # need to save the file",
      "execution_count": null,
      "outputs": []
    },
    {
      "metadata": {
        "slideshow": {
          "slide_type": "skip"
        }
      },
      "cell_type": "markdown",
      "source": "<a id=\"5\"></a>"
    },
    {
      "metadata": {
        "slideshow": {
          "slide_type": "slide"
        }
      },
      "cell_type": "markdown",
      "source": "## 5. Reading CSV Files Using the Built-in CSV Module\n* `csv` module’s **`reader` function** returns an object that reads CSV-format data from the specified file object\n* Can iterate through the `reader` object one record (or row) of comma-delimited values at a time\n* `csv` module’s documentation recommends opening CSV files with the additional keyword argument `newline=''` to ensure that newlines are processed properly "
    },
    {
      "metadata": {
        "trusted": true
      },
      "cell_type": "code",
      "source": "import csv",
      "execution_count": null,
      "outputs": []
    },
    {
      "metadata": {
        "trusted": true
      },
      "cell_type": "code",
      "source": "!more res\\grade_book.csv",
      "execution_count": null,
      "outputs": []
    },
    {
      "metadata": {
        "trusted": true
      },
      "cell_type": "code",
      "source": "with open('res/grade_book.csv', 'r', newline='') as grades:\n    reader = csv.reader(grades)\n    \n    for row in reader:\n        name, potion1, potion2, potion3 = row\n        print(\"Grades for\", name, \"are\", potion1, potion2, potion3)",
      "execution_count": null,
      "outputs": []
    },
    {
      "metadata": {
        "slideshow": {
          "slide_type": "skip"
        }
      },
      "cell_type": "markdown",
      "source": "<a id=\"6\"></a>"
    },
    {
      "metadata": {
        "slideshow": {
          "slide_type": "slide"
        }
      },
      "cell_type": "markdown",
      "source": "## 6. Writing Data to CSV Files\n* **`writer` function** returns an object that writes CSV data to the specified file object\n* `writer`’s **`writerow` method** receives an iterable to store in the file\n* By default, `writerow` delimits values with commas, but you can specify custom delimiters"
    },
    {
      "metadata": {
        "slideshow": {
          "slide_type": "-"
        },
        "trusted": true
      },
      "cell_type": "code",
      "source": "with open('res/grade_book2.csv', mode='a', newline='') as grades:\n    writer = csv.writer(grades)\n    writer.writerow(['Ginny', 75, 95, 90])\n    writer.writerow(['Neville', 70, 64, 63])\n    writer.writerow(['Luna', 79, 85, 91])",
      "execution_count": null,
      "outputs": []
    },
    {
      "metadata": {
        "slideshow": {
          "slide_type": "-"
        },
        "trusted": true
      },
      "cell_type": "code",
      "source": "!more res\\grade_book2.csv",
      "execution_count": null,
      "outputs": []
    },
    {
      "metadata": {},
      "cell_type": "markdown",
      "source": "* `writerow` calls above can be replaced with one **`writerows`** call that outputs a comma-separated list of iterables representing the records"
    },
    {
      "metadata": {
        "trusted": true
      },
      "cell_type": "code",
      "source": "",
      "execution_count": null,
      "outputs": []
    }
  ],
  "metadata": {
    "celltoolbar": "Slideshow",
    "kernelspec": {
      "name": "python3",
      "display_name": "Python 3",
      "language": "python"
    },
    "language_info": {
      "mimetype": "text/x-python",
      "nbconvert_exporter": "python",
      "name": "python",
      "file_extension": ".py",
      "version": "3.5.4",
      "pygments_lexer": "ipython3",
      "codemirror_mode": {
        "version": 3,
        "name": "ipython"
      }
    }
  },
  "nbformat": 4,
  "nbformat_minor": 2
}
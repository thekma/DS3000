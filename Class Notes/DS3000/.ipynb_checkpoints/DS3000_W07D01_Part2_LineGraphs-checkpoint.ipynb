{
  "cells": [
    {
      "metadata": {
        "slideshow": {
          "slide_type": "slide"
        }
      },
      "cell_type": "markdown",
      "source": "<center> <img src=\"res/ds3000.png\"> </center>"
    },
    {
      "metadata": {},
      "cell_type": "markdown",
      "source": "<center> <h1> Week 7 - Day 1 </h1> </center>"
    },
    {
      "metadata": {},
      "cell_type": "markdown",
      "source": "<center> <h2> Part 2: Line Graphs</h2></center>"
    },
    {
      "metadata": {
        "slideshow": {
          "slide_type": "skip"
        }
      },
      "cell_type": "markdown",
      "source": "## Outline\n1. <a href='#1'>Line Graphs</a>\n2. <a href='#2'>Plotting Multiple Lines</a>\n3. <a href='#3'>Plot Properties</a>\n4. <a href='#4'>Changing the Legend's Location</a>"
    },
    {
      "metadata": {
        "slideshow": {
          "slide_type": "skip"
        }
      },
      "cell_type": "markdown",
      "source": "<a id=\"1\"></a>"
    },
    {
      "metadata": {
        "slideshow": {
          "slide_type": "slide"
        }
      },
      "cell_type": "markdown",
      "source": "## 1. Line Graphs\n* Commonly used to show change in one variable over time \n* The x-axis should be a numeric variable, unlike a bar graph\n* Use **sns.lineplot()** method to draw line graphs\n* https://seaborn.pydata.org/generated/seaborn.lineplot.html"
    },
    {
      "metadata": {
        "slideshow": {
          "slide_type": "subslide"
        },
        "trusted": true
      },
      "cell_type": "code",
      "source": "#house points deducted from Gryffindor over years\nyears = [1, 2, 3, 4, 5, 6]\npoints_deducted = [189, 5, 125, 90, 125, 90]",
      "execution_count": null,
      "outputs": []
    },
    {
      "metadata": {
        "trusted": true
      },
      "cell_type": "code",
      "source": "%matplotlib gtk",
      "execution_count": null,
      "outputs": []
    },
    {
      "metadata": {
        "trusted": true
      },
      "cell_type": "code",
      "source": "import matplotlib.pyplot as plt",
      "execution_count": null,
      "outputs": []
    },
    {
      "metadata": {
        "slideshow": {
          "slide_type": "subslide"
        },
        "trusted": true
      },
      "cell_type": "code",
      "source": "import seaborn as sns\n\n# create and display the line plot\ngraph = sns.lineplot(x=years, y=points_deducted)\n\n#specify the title\ntitle = \"Points Deducted from Gryffindor over Years\"\n\n#set the title of the plot\ngraph.set_title(title, size = 16)\n\n#add labels to the axes  \ngraph.set_xlabel(\"Year\", size = 16)\ngraph.set_ylabel(\"Points Deducted\", size = 16)",
      "execution_count": null,
      "outputs": []
    },
    {
      "metadata": {
        "slideshow": {
          "slide_type": "skip"
        }
      },
      "cell_type": "markdown",
      "source": "<a id=\"2\"></a>"
    },
    {
      "metadata": {
        "slideshow": {
          "slide_type": "slide"
        }
      },
      "cell_type": "markdown",
      "source": "## 2. Plotting Multiple Lines\n* The datafile should have at least three columns:\n    * One for the labels on the x-axis\n    * One for the values on the y-axis\n    * One for the category of the lines (grouping column)\n\n<br>\n\n* Specify the category column, or variable, using the **hue** keyword attribute\n    * **hue** indicates the grouping variable that will produce lines with different colors."
    },
    {
      "metadata": {
        "slideshow": {
          "slide_type": "subslide"
        },
        "trusted": true
      },
      "cell_type": "code",
      "source": "import pandas as pd",
      "execution_count": null,
      "outputs": []
    },
    {
      "metadata": {
        "trusted": true
      },
      "cell_type": "code",
      "source": "df = pd.read_csv(\"res/house_points_years.csv\")",
      "execution_count": null,
      "outputs": []
    },
    {
      "metadata": {
        "trusted": true
      },
      "cell_type": "code",
      "source": "df",
      "execution_count": null,
      "outputs": []
    },
    {
      "metadata": {
        "slideshow": {
          "slide_type": "subslide"
        },
        "trusted": true
      },
      "cell_type": "code",
      "source": "df.head()",
      "execution_count": null,
      "outputs": []
    },
    {
      "metadata": {
        "trusted": true
      },
      "cell_type": "code",
      "source": "graph = sns.lineplot(x=\"Year\", y=\"Points\", hue=\"Type\", data = df)",
      "execution_count": null,
      "outputs": []
    },
    {
      "metadata": {
        "slideshow": {
          "slide_type": "subslide"
        },
        "trusted": true
      },
      "cell_type": "code",
      "source": "import seaborn as sns\n\n# create and display the line plot\ngraph = sns.lineplot(x=\"Year\", y=\"Points\", hue=\"Type\", data = df, palette = [\"darkred\", \"darkgreen\"])\n\n#specify the title\ntitle = \"Points Awarded/Deducted over Years (Gryffindor)\"\n\n#set the title of the plot\ngraph.set_title(title, size = 16)\n\n#add labels to the axes  \ngraph.set_xlabel(\"Year\", size = 16)\ngraph.set_ylabel(\"Points\", size = 16)",
      "execution_count": null,
      "outputs": []
    },
    {
      "metadata": {
        "slideshow": {
          "slide_type": "skip"
        }
      },
      "cell_type": "markdown",
      "source": "<a id=\"3\"></a>"
    },
    {
      "metadata": {
        "slideshow": {
          "slide_type": "slide"
        }
      },
      "cell_type": "markdown",
      "source": "## 3. Plot Properties\n* Seaborn's plotting_context() method gives you a dictionary of plot properties relevant to the active plot"
    },
    {
      "metadata": {
        "trusted": true
      },
      "cell_type": "code",
      "source": "sns.plotting_context()",
      "execution_count": null,
      "outputs": []
    },
    {
      "metadata": {
        "slideshow": {
          "slide_type": "subslide"
        }
      },
      "cell_type": "markdown",
      "source": "### 3.1. Changing Plot Properties\n* **set_context()** method allows you to change the properties of the plotting context\n* Changes are applied to the entire plotting context\n* **rc** parameter allows you to modify the properties of a plot\n    * **sns.set_context(rc = {})**\n* https://seaborn.pydata.org/generated/seaborn.set_context.html\n"
    },
    {
      "metadata": {},
      "cell_type": "markdown",
      "source": "#### Let's change the width of the lines"
    },
    {
      "metadata": {
        "trusted": true
      },
      "cell_type": "code",
      "source": "sns.set_context(rc = {\"lines.linewidth\":2})",
      "execution_count": null,
      "outputs": []
    },
    {
      "metadata": {
        "slideshow": {
          "slide_type": "subslide"
        },
        "trusted": true
      },
      "cell_type": "code",
      "source": "import seaborn as sns\n\n#change the width of the lines\nsns.set_context(rc = {\"lines.linewidth\":2})\n\n# create and display the line plot\ngraph = sns.lineplot(x=\"Year\", y=\"Points\", hue=\"Type\", data = df, palette = [\"darkred\", \"darkgreen\"])\n\n#specify the title\ntitle = \"Points Awarded/Deducted over Years (Gryffindor)\"\n\n#set the title of the plot\ngraph.set_title(title, size = 16)\n\n#add labels to the axes  \ngraph.set_xlabel(\"Year\", size = 16)\ngraph.set_ylabel(\"Points\", size = 16)\n",
      "execution_count": null,
      "outputs": []
    },
    {
      "metadata": {
        "slideshow": {
          "slide_type": "skip"
        }
      },
      "cell_type": "markdown",
      "source": "<a id=\"4\"></a>"
    },
    {
      "metadata": {
        "slideshow": {
          "slide_type": "slide"
        }
      },
      "cell_type": "markdown",
      "source": "## 4. Changing the Legend's Location\n* Use Matplotlib's legend() method to control where the legend will be shown:\n    * **plt.legend(loc = \"upper right\")**\n\n| Location String | Location Code\n| :---\t| :---\n| 'best' |\t0\n| 'upper right' |\t1\n| 'upper left' |\t2\n| 'lower left' |\t3\n| 'lower right'\t| 4\n| 'right' | 5\n| 'center left' | \t6\n| 'center right' | 7\n| 'lower center' | 8\n| 'upper center' | 9\n| 'center' | 10"
    },
    {
      "metadata": {
        "slideshow": {
          "slide_type": "subslide"
        },
        "trusted": true
      },
      "cell_type": "code",
      "source": "import seaborn as sns\n\n# create and display the line plot\ngraph = sns.lineplot(x=\"Year\", y=\"Points\", hue=\"Type\", data = df, palette = [\"darkred\", \"darkgreen\"])\n\n#specify the title\ntitle = \"House Points Awarded/Deducted over Years\"\n\n#set the title of the plot\ngraph.set_title(title, size = 16)\n\n#add labels to the axes  \ngraph.set_xlabel(\"Year\", size = 16)\ngraph.set_ylabel(\"Points\", size = 16)\n\n# place the legend in the upper right corner of the figure\nplt.legend(loc=\"upper right\")",
      "execution_count": null,
      "outputs": []
    }
  ],
  "metadata": {
    "celltoolbar": "Slideshow",
    "kernelspec": {
      "name": "python3",
      "display_name": "Python 3",
      "language": "python"
    },
    "language_info": {
      "mimetype": "text/x-python",
      "nbconvert_exporter": "python",
      "name": "python",
      "file_extension": ".py",
      "version": "3.5.4",
      "pygments_lexer": "ipython3",
      "codemirror_mode": {
        "version": 3,
        "name": "ipython"
      }
    }
  },
  "nbformat": 4,
  "nbformat_minor": 2
}
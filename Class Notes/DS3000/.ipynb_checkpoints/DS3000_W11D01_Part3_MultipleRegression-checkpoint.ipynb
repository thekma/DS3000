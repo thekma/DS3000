{
  "cells": [
    {
      "metadata": {
        "slideshow": {
          "slide_type": "slide"
        }
      },
      "cell_type": "markdown",
      "source": "<center> <img src=\"res/ds3000.png\"> </center>"
    },
    {
      "metadata": {},
      "cell_type": "markdown",
      "source": "<center> <h1> Week 11 - Day 1 </h1> </center>"
    },
    {
      "metadata": {},
      "cell_type": "markdown",
      "source": "<center> <h2> Part 2: Multiple Linear Regression</h2></center>"
    },
    {
      "metadata": {
        "slideshow": {
          "slide_type": "skip"
        }
      },
      "cell_type": "markdown",
      "source": "## Outline\n1. <a href='#1'>Multiple Linear Regression</a>\n2. <a href='#2'>Data Preparation</a>\n3. <a href='#3'>Training the Regression Model</a>\n4. <a href='#4'>Testing the Model</a>\n5. <a href='#5'>Regression Model Metrics</a>\n6. <a href='#6'>Visualizing the Expected vs. Predicted Prices</a>"
    },
    {
      "metadata": {
        "slideshow": {
          "slide_type": "skip"
        }
      },
      "cell_type": "markdown",
      "source": "<a id=\"1\"></a>"
    },
    {
      "metadata": {
        "slideshow": {
          "slide_type": "slide"
        }
      },
      "cell_type": "markdown",
      "source": "## 1. Multiple Linear Regression\n* https://scikit-learn.org/stable/modules/generated/sklearn.linear_model.LinearRegression.html"
    },
    {
      "metadata": {
        "slideshow": {
          "slide_type": "subslide"
        }
      },
      "cell_type": "markdown",
      "source": "### 1.1. California Housing Dataset\n* [**California Housing dataset**](http://lib.stat.cmu.edu/datasets) bundled with scikit-learn \n* **Larger real-world dataset** \n    **20,640 samples**, each with **eight numerical features**\n\t* https://scikit-learn.org/stable/modules/generated/sklearn.datasets.fetch_california_housing.html \n* Perform **multiple linear regression** using **all eight numerical features** \n    * Make **more sophisticated housing price predictions** than if we were to use only a **single feature** or a **subset of the features**\n* **`LinearRegression`** estimator performs **multiple linear regression** by default"
    },
    {
      "metadata": {},
      "cell_type": "markdown",
      "source": "* According to the California Housing Prices dataset’s description in scikit-learn\n> \"This dataset was **derived from the 1990 U.S. census**, using **one row per census block group**.  \n>  \n> \"A **block group** is the **smallest geographical unit** for which the U.S. Census Bureau publishes sample data (typically has a **population of 600 to 3,000 people**).\""
    },
    {
      "metadata": {},
      "cell_type": "markdown",
      "source": "* The dataset has **20,640 samples**—**one per block group**—with **eight features** each:\n\t* **median income**—in tens of thousands, so 8.37 would represent $83,700\n\t* **median house age**—in the dataset, the maximum value for this feature is 52\n\t* **average number of rooms** \n\t* **average number of bedrooms** \n\t* **block population**\n\t* **average house occupancy**\n\t* **house block latitude**\n\t* **house block longitude**"
    },
    {
      "metadata": {},
      "cell_type": "markdown",
      "source": "* **Target** &mdash; **median house value** in hundreds of thousands, so 3.55 would represent \\$355,000\n    * **Maximum** for this feature is**&nbsp;5** for **\\$500,000** \n* Reasonable to expect **more bedrooms**, **more rooms** or **higher income** would mean **higher house value**\n* **Combine all numeric features to make predictions**\n    * More likely to get **more accurate predictions** than with simple linear regression"
    },
    {
      "metadata": {
        "trusted": false
      },
      "cell_type": "code",
      "source": "import pandas as pd\ndf = pd.read_csv('res/boston_weather.csv')\ndf.columns = [\"Date\", \"Temperature\", \"Anomaly\"]\ndf.head()",
      "execution_count": null,
      "outputs": []
    },
    {
      "metadata": {},
      "cell_type": "markdown",
      "source": "### 1.2. Loading the Dataset\n* Use sklearn.datasets function fetch_california_housing"
    },
    {
      "metadata": {
        "trusted": false
      },
      "cell_type": "code",
      "source": "from sklearn.datasets import fetch_california_housing\ncalifornia = fetch_california_housing()  # Bunch object",
      "execution_count": null,
      "outputs": []
    },
    {
      "metadata": {
        "trusted": false
      },
      "cell_type": "code",
      "source": "print(california.DESCR)",
      "execution_count": null,
      "outputs": []
    },
    {
      "metadata": {},
      "cell_type": "markdown",
      "source": "* Confirm number of samples/features, number of targets, feature names"
    },
    {
      "metadata": {
        "trusted": false
      },
      "cell_type": "code",
      "source": "california.data.shape",
      "execution_count": null,
      "outputs": []
    },
    {
      "metadata": {
        "trusted": false
      },
      "cell_type": "code",
      "source": "california.target.shape",
      "execution_count": null,
      "outputs": []
    },
    {
      "metadata": {
        "trusted": false
      },
      "cell_type": "code",
      "source": "california.feature_names",
      "execution_count": null,
      "outputs": []
    },
    {
      "metadata": {
        "slideshow": {
          "slide_type": "skip"
        }
      },
      "cell_type": "markdown",
      "source": "<a id=\"2\"></a>"
    },
    {
      "metadata": {
        "slideshow": {
          "slide_type": "slide"
        }
      },
      "cell_type": "markdown",
      "source": "## 2.  Data Preparation"
    },
    {
      "metadata": {
        "slideshow": {
          "slide_type": "-"
        },
        "trusted": false
      },
      "cell_type": "code",
      "source": "import pandas as pd\n\ndf = pd.DataFrame(california.data, columns=california.feature_names)\ndf[\"Value\"] = california.target",
      "execution_count": null,
      "outputs": []
    },
    {
      "metadata": {
        "trusted": false
      },
      "cell_type": "code",
      "source": "df.head()",
      "execution_count": null,
      "outputs": []
    },
    {
      "metadata": {
        "trusted": false
      },
      "cell_type": "code",
      "source": "df.describe()",
      "execution_count": null,
      "outputs": []
    },
    {
      "metadata": {
        "slideshow": {
          "slide_type": "-"
        },
        "trusted": false
      },
      "cell_type": "code",
      "source": "features = df.drop(\"Value\", axis=1)",
      "execution_count": null,
      "outputs": []
    },
    {
      "metadata": {
        "trusted": false
      },
      "cell_type": "code",
      "source": "features.head()",
      "execution_count": null,
      "outputs": []
    },
    {
      "metadata": {
        "trusted": false
      },
      "cell_type": "code",
      "source": "target = df[\"Value\"]\ntarget[:5]",
      "execution_count": null,
      "outputs": []
    },
    {
      "metadata": {
        "slideshow": {
          "slide_type": "subslide"
        }
      },
      "cell_type": "markdown",
      "source": "### 2.1. Visualizing the Dataset"
    },
    {
      "metadata": {
        "trusted": false
      },
      "cell_type": "code",
      "source": "%matplotlib notebook",
      "execution_count": null,
      "outputs": []
    },
    {
      "metadata": {
        "trusted": false
      },
      "cell_type": "code",
      "source": "sample_df = df.sample(frac=0.1, random_state=3000)",
      "execution_count": null,
      "outputs": []
    },
    {
      "metadata": {
        "trusted": false
      },
      "cell_type": "code",
      "source": "import matplotlib.pyplot as plt\nimport seaborn as sns\nsns.set_style('whitegrid')\n\nfor feature in california.feature_names:\n    plt.figure(figsize=(8, 4.5))  # 8\"-by-4.5\" Figure\n    sns.scatterplot(data=sample_df, x=feature, y='Value', hue='Value', palette='cool', legend=False)",
      "execution_count": null,
      "outputs": []
    },
    {
      "metadata": {
        "slideshow": {
          "slide_type": "skip"
        }
      },
      "cell_type": "markdown",
      "source": "<a id=\"3\"></a>"
    },
    {
      "metadata": {
        "slideshow": {
          "slide_type": "slide"
        }
      },
      "cell_type": "markdown",
      "source": "## 3. Training the Regression Model\n* Use the LinearRegression() estimator\n* To find the best fitting regression line for the data, the LinearRegression estimator iteratively adjusts the slope and intercept to minimize the sum of the squares of the data points’ distances from the line"
    },
    {
      "metadata": {
        "trusted": false
      },
      "cell_type": "code",
      "source": "from sklearn.linear_model import LinearRegression\nfrom sklearn.model_selection import train_test_split\n\n\n#split data into training and testing sets\nX_train, X_test, y_train, y_test = train_test_split(features, target, random_state=3000)\n\n#select a classifier and create the model by fitting the training data\nmodel = LinearRegression().fit(X=X_train, y=y_train)\n",
      "execution_count": null,
      "outputs": []
    },
    {
      "metadata": {
        "slideshow": {
          "slide_type": "subslide"
        }
      },
      "cell_type": "markdown",
      "source": "### 3.1. Regression  Equation\n* Once the model is fitted, the estimator calculates the **slope** and **intercept** \n* We can make **predictions** with \n\n\n\\begin{equation}\ny = m_1 x_1 + m_2 x_2 + ... + m_n x_n + b\n\\end{equation}\n\n\n* <em>m</em><sub>1</sub>, <em>m</em><sub>2</sub>, …, <em>m</em><sub><em>n</em></sub> are the **feature coefficients** (stored in **`coef_`** attribute)\n* <em>b</em> is the **intercept** (stored in **`intercept_`** attribute)\n* <em>x</em><sub>1</sub>, <em>x</em><sub>2</sub>, …, <em>x</em><sub><em>n</em></sub> are **feature values**\n* <em>y</em> is the **predicted value**"
    },
    {
      "metadata": {
        "trusted": false
      },
      "cell_type": "code",
      "source": "model.coef_",
      "execution_count": null,
      "outputs": []
    },
    {
      "metadata": {
        "trusted": false
      },
      "cell_type": "code",
      "source": "intercept = model.intercept_\nintercept",
      "execution_count": null,
      "outputs": []
    },
    {
      "metadata": {
        "trusted": false
      },
      "cell_type": "code",
      "source": "for i, name in enumerate(california.feature_names):\n    print(f'{name}: {model.coef_[i]}')  ",
      "execution_count": null,
      "outputs": []
    },
    {
      "metadata": {
        "slideshow": {
          "slide_type": "subslide"
        }
      },
      "cell_type": "markdown",
      "source": "#### The equation:\n\\begin{equation}\nMedianHouseValue = 0.447MedInc + .010HouseAge - 0.122AveRooms + 0.727AveBedrms - 0.000007Population - 0.004AveOccup - 0.420Latitude - 0.431Longitude - 36.587\n\\end{equation}"
    },
    {
      "metadata": {
        "slideshow": {
          "slide_type": "skip"
        }
      },
      "cell_type": "markdown",
      "source": "<a id=\"4\"></a>"
    },
    {
      "metadata": {},
      "cell_type": "markdown",
      "source": "## 4. Testing the Model\n* Test the model using the data in **`X_test`** and check some of the **predictions**"
    },
    {
      "metadata": {
        "trusted": false
      },
      "cell_type": "code",
      "source": "predicted = model.predict(X_test)",
      "execution_count": null,
      "outputs": []
    },
    {
      "metadata": {
        "trusted": false
      },
      "cell_type": "code",
      "source": "expected = y_test",
      "execution_count": null,
      "outputs": []
    },
    {
      "metadata": {
        "trusted": false
      },
      "cell_type": "code",
      "source": "predicted[:5]",
      "execution_count": null,
      "outputs": []
    },
    {
      "metadata": {
        "trusted": false
      },
      "cell_type": "code",
      "source": "expected[:5]",
      "execution_count": null,
      "outputs": []
    },
    {
      "metadata": {
        "slideshow": {
          "slide_type": "subslide"
        },
        "trusted": false
      },
      "cell_type": "code",
      "source": "for p, e in zip(predicted[:5], expected[:5]):  \n    print(f'predicted: {p:.2f}, expected: {e:.2f}')",
      "execution_count": null,
      "outputs": []
    },
    {
      "metadata": {
        "trusted": false
      },
      "cell_type": "code",
      "source": "results_df = pd.DataFrame(expected.values, columns=[\"expected\"])",
      "execution_count": null,
      "outputs": []
    },
    {
      "metadata": {
        "trusted": false
      },
      "cell_type": "code",
      "source": "results_df[\"predicted\"] = predicted",
      "execution_count": null,
      "outputs": []
    },
    {
      "metadata": {
        "trusted": false
      },
      "cell_type": "code",
      "source": "results_df",
      "execution_count": null,
      "outputs": []
    },
    {
      "metadata": {
        "slideshow": {
          "slide_type": "skip"
        }
      },
      "cell_type": "markdown",
      "source": "<a id=\"5\"></a>"
    },
    {
      "metadata": {
        "slideshow": {
          "slide_type": "slide"
        }
      },
      "cell_type": "markdown",
      "source": "## 5. Regression Model Metrics\n* Coefficient of Determination\n* Mean Squared Error"
    },
    {
      "metadata": {},
      "cell_type": "markdown",
      "source": "### 5.1. Coefficient of Determination (**$R^{2}$ score**; 0.0-1.0)\n* Use r2_score()\n    * **1.0** &mdash; estimator **perfectly predicts** the **target variable’s value**, given predictor variables' values\n    * **0.0** &mdash; **model cannot make predictions with any accuracy**, given predictor variables’ values \n* Calculate with arrays representing the **expected** and **predicted results**"
    },
    {
      "metadata": {
        "trusted": false
      },
      "cell_type": "code",
      "source": "from sklearn.metrics import r2_score\n#TODO in class",
      "execution_count": null,
      "outputs": []
    },
    {
      "metadata": {
        "slideshow": {
          "slide_type": "subslide"
        }
      },
      "cell_type": "markdown",
      "source": "### 5.2. Mean Squared Error (**$MSE$**; 0.0-1.0)\n* Use mean_squared_error()\n    * The closer MSE is to 0, the closer the fit is to the data (less discrepancy between actual and predicted values)\n* Calculate with arrays representing the **expected** and **predicted results**"
    },
    {
      "metadata": {
        "trusted": false
      },
      "cell_type": "code",
      "source": "from sklearn.metrics import mean_squared_error\n#TODO in class",
      "execution_count": null,
      "outputs": []
    },
    {
      "metadata": {
        "slideshow": {
          "slide_type": "skip"
        }
      },
      "cell_type": "markdown",
      "source": "<a id=\"6\"></a>"
    },
    {
      "metadata": {
        "slideshow": {
          "slide_type": "slide"
        }
      },
      "cell_type": "markdown",
      "source": "## 6. Visualizing the Expected vs. Predicted Prices"
    },
    {
      "metadata": {
        "trusted": false
      },
      "cell_type": "code",
      "source": "import plotly.express as px\nimport plotly.graph_objects as go\n#produce the scatter plot\ngraph = px.scatter(results_df, x=\"expected\", y=\"predicted\", template=\"none\", color=\"predicted\", opacity=.7)\n\n#add the \"perfect prediction\" line; this is not the regression line\ngraph.update_layout(\n    \n    shapes=[    \n        go.layout.Shape(\n            type=\"line\",\n            x0=0, y0=0,\n            x1=5, y1=5,\n            line=dict(color=\"coral\", width=2, dash=\"dash\")\n        )\n    ]\n)\n\n#need to change axes limits; otherwise, plotly will auto-scale, leading to confusion\ngraph.update_layout(xaxis = dict(range = [0,6]))\ngraph.update_layout(yaxis = dict(range = [0,6]))\n\ngraph.show()",
      "execution_count": null,
      "outputs": []
    }
  ],
  "metadata": {
    "celltoolbar": "Slideshow",
    "kernelspec": {
      "name": "python3",
      "display_name": "Python 3",
      "language": "python"
    },
    "language_info": {
      "mimetype": "text/x-python",
      "nbconvert_exporter": "python",
      "name": "python",
      "pygments_lexer": "ipython3",
      "version": "3.5.4",
      "file_extension": ".py",
      "codemirror_mode": {
        "version": 3,
        "name": "ipython"
      }
    }
  },
  "nbformat": 4,
  "nbformat_minor": 2
}
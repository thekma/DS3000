{
  "cells": [
    {
      "metadata": {
        "slideshow": {
          "slide_type": "slide"
        }
      },
      "cell_type": "markdown",
      "source": "<center> <img src=\"res/ds3000.png\"> </center>"
    },
    {
      "metadata": {},
      "cell_type": "markdown",
      "source": "<center> <h1> Week 6 - Day 2 </h1> </center>"
    },
    {
      "metadata": {},
      "cell_type": "markdown",
      "source": "<center> <h2> Part 2: Merging Dataframes </h2></center>"
    },
    {
      "metadata": {
        "slideshow": {
          "slide_type": "skip"
        }
      },
      "cell_type": "markdown",
      "source": "## Outline\n1. <a href='#1'>Merging DataFrames</a>\n2. <a href='#2'>Merge Types</a>\n3. <a href='#3'>Merging on Index with Different Index Names</a>\n4. <a href='#4'>Merging on Column with Different Column Names</a>"
    },
    {
      "metadata": {
        "slideshow": {
          "slide_type": "skip"
        }
      },
      "cell_type": "markdown",
      "source": "<a id=\"1\"></a>"
    },
    {
      "metadata": {
        "slideshow": {
          "slide_type": "slide"
        }
      },
      "cell_type": "markdown",
      "source": "## 1. Merging DataFrames\n* Can combine DataFrames, or datasets, by connecting rows based on one or more keys."
    },
    {
      "metadata": {
        "trusted": false
      },
      "cell_type": "code",
      "source": "import pandas as pd",
      "execution_count": null,
      "outputs": []
    },
    {
      "metadata": {
        "trusted": false
      },
      "cell_type": "code",
      "source": "points = pd.read_csv(\"res/hp_points.csv\", index_col=\"Student\")",
      "execution_count": null,
      "outputs": []
    },
    {
      "metadata": {
        "trusted": false
      },
      "cell_type": "code",
      "source": "points",
      "execution_count": null,
      "outputs": []
    },
    {
      "metadata": {
        "trusted": false
      },
      "cell_type": "code",
      "source": "quidditch = pd.read_csv(\"res/hp_quidditch_team.csv\", index_col = \"Student\")",
      "execution_count": null,
      "outputs": []
    },
    {
      "metadata": {
        "trusted": false
      },
      "cell_type": "code",
      "source": "quidditch",
      "execution_count": null,
      "outputs": []
    },
    {
      "metadata": {
        "slideshow": {
          "slide_type": "subslide"
        }
      },
      "cell_type": "markdown",
      "source": "https://www.youtube.com/watch?v=3vZL4eHdhRM"
    },
    {
      "metadata": {},
      "cell_type": "markdown",
      "source": "#### What if you want to combine the two dataframes?\n* Note that not all students are quidditch players"
    },
    {
      "metadata": {
        "slideshow": {
          "slide_type": "subslide"
        }
      },
      "cell_type": "markdown",
      "source": "### 1.1. merge() method\n* Combines dataframes by linking rows using one or more keys\n"
    },
    {
      "metadata": {
        "trusted": false
      },
      "cell_type": "code",
      "source": "merged = pd.merge(points, quidditch, on=\"Student\")",
      "execution_count": null,
      "outputs": []
    },
    {
      "metadata": {
        "trusted": false
      },
      "cell_type": "code",
      "source": "merged",
      "execution_count": null,
      "outputs": []
    },
    {
      "metadata": {
        "slideshow": {
          "slide_type": "skip"
        }
      },
      "cell_type": "markdown",
      "source": "<a id=\"2\"></a>"
    },
    {
      "metadata": {
        "slideshow": {
          "slide_type": "subslide"
        }
      },
      "cell_type": "markdown",
      "source": "## 2. Merge types\n* By default, merge does an **`inner`** join:\n* Can specify the merge type using the **`how`** keyword argument:\n> ```python\npd.merge(points, quidditch, on = \"Student\", how=\"inner\")\n```"
    },
    {
      "metadata": {
        "slideshow": {
          "slide_type": "subslide"
        }
      },
      "cell_type": "markdown",
      "source": "### 2.1. inner merging\n* Merges the columns from both DataFrames for rows that exist in both DataFrames only\n* Returns the common set of rows, the intersection, found in both DataFrames"
    },
    {
      "metadata": {},
      "cell_type": "markdown",
      "source": "<center> <img src= \"res/inner_join.png\" width = \"450px\"/> </center>"
    },
    {
      "metadata": {
        "slideshow": {
          "slide_type": "subslide"
        },
        "trusted": false
      },
      "cell_type": "code",
      "source": "#returns the house points, position and quidditch scores of the quidditch players only.\npd.merge(points, quidditch, on=\"Student\", how=\"inner\")",
      "execution_count": null,
      "outputs": []
    },
    {
      "metadata": {
        "slideshow": {
          "slide_type": "subslide"
        }
      },
      "cell_type": "markdown",
      "source": "### 2.2. outer merging\n* Merges all columns from both DataFrames, regardless of whether the rows exists in one or both of the DataFrames\n* Aka full merging"
    },
    {
      "metadata": {},
      "cell_type": "markdown",
      "source": "<center> <img src= \"res/outer_join.png\" width = \"450px\"/> </center>"
    },
    {
      "metadata": {
        "slideshow": {
          "slide_type": "subslide"
        },
        "trusted": false
      },
      "cell_type": "code",
      "source": "#returns a list of all students from both dataset regardless of whether they are a Quidditch player\npd.merge(points, quidditch, on=\"Student\", how = \"outer\")",
      "execution_count": null,
      "outputs": []
    },
    {
      "metadata": {
        "slideshow": {
          "slide_type": "subslide"
        }
      },
      "cell_type": "markdown",
      "source": "### 2.3. left merging\n* Merges all columns from DataFrame A and DataFrame B for rows that exist in DataFrame A"
    },
    {
      "metadata": {},
      "cell_type": "markdown",
      "source": "<center> <img src= \"res/left_join.png\" width = \"450px\"/> </center>"
    },
    {
      "metadata": {
        "slideshow": {
          "slide_type": "subslide"
        },
        "trusted": false
      },
      "cell_type": "code",
      "source": "#returns the house points of the students in the first dataset, \n#as well as their quidditch game position and and score from the second dataset IF students are in the Quidditch team\npd.merge(points, quidditch, on=\"Student\", how=\"left\")",
      "execution_count": null,
      "outputs": []
    },
    {
      "metadata": {
        "slideshow": {
          "slide_type": "subslide"
        }
      },
      "cell_type": "markdown",
      "source": "### 2.4 right merging\n* Merges all columns from DataFrame A and DataFrame B for rows that exist in DataFrame B"
    },
    {
      "metadata": {},
      "cell_type": "markdown",
      "source": "<center> <img src= \"res/right_join.png\" width = \"450px\"/> </center>"
    },
    {
      "metadata": {
        "slideshow": {
          "slide_type": "subslide"
        },
        "trusted": false
      },
      "cell_type": "code",
      "source": "#returns the quidditch players' position and and score from the second dataset\n#as well as their house points IF players are in the first dataset\npd.merge(points, quidditch, on=\"Student\", how=\"right\")",
      "execution_count": null,
      "outputs": []
    },
    {
      "metadata": {
        "slideshow": {
          "slide_type": "skip"
        }
      },
      "cell_type": "markdown",
      "source": "<a id=\"3\"></a>"
    },
    {
      "metadata": {
        "slideshow": {
          "slide_type": "slide"
        }
      },
      "cell_type": "markdown",
      "source": "## 3. Merging on Index with Different Index Names\n* Can merge on index if datasets use different names, or labels, for index columns."
    },
    {
      "metadata": {
        "slideshow": {
          "slide_type": "-"
        },
        "trusted": false
      },
      "cell_type": "code",
      "source": "points",
      "execution_count": null,
      "outputs": []
    },
    {
      "metadata": {
        "slideshow": {
          "slide_type": "-"
        },
        "trusted": false
      },
      "cell_type": "code",
      "source": "quidditch",
      "execution_count": null,
      "outputs": []
    },
    {
      "metadata": {
        "slideshow": {
          "slide_type": "subslide"
        },
        "trusted": false
      },
      "cell_type": "code",
      "source": "#let's change the index name to \"Name\"\nquidditch.index.names = ['Name']",
      "execution_count": null,
      "outputs": []
    },
    {
      "metadata": {
        "trusted": false
      },
      "cell_type": "code",
      "source": "quidditch",
      "execution_count": null,
      "outputs": []
    },
    {
      "metadata": {
        "slideshow": {
          "slide_type": "subslide"
        },
        "trusted": false
      },
      "cell_type": "code",
      "source": "#results in an error because no common columns\nmerged = pd.merge(points, quidditch)",
      "execution_count": null,
      "outputs": []
    },
    {
      "metadata": {
        "slideshow": {
          "slide_type": "subslide"
        }
      },
      "cell_type": "markdown",
      "source": "#### Merging on Index\n* Set **left_index = True** and **right_index = True**\n* This will enable the merge operation to use the indices of the DataFrame as the common columns"
    },
    {
      "metadata": {
        "trusted": false
      },
      "cell_type": "code",
      "source": "merged = pd.merge(points, quidditch, left_index = True, right_index = True)",
      "execution_count": null,
      "outputs": []
    },
    {
      "metadata": {
        "slideshow": {
          "slide_type": "subslide"
        },
        "trusted": false
      },
      "cell_type": "code",
      "source": "merged",
      "execution_count": null,
      "outputs": []
    },
    {
      "metadata": {
        "slideshow": {
          "slide_type": "skip"
        }
      },
      "cell_type": "markdown",
      "source": "<a id=\"4\"></a>"
    },
    {
      "metadata": {
        "slideshow": {
          "slide_type": "slide"
        }
      },
      "cell_type": "markdown",
      "source": "## 4. Merging on Column with Different Column Names\n* Can merge dataframes based on columns, instead of indices"
    },
    {
      "metadata": {
        "trusted": false
      },
      "cell_type": "code",
      "source": "points.reset_index(inplace = True)",
      "execution_count": null,
      "outputs": []
    },
    {
      "metadata": {
        "slideshow": {
          "slide_type": "subslide"
        },
        "trusted": false
      },
      "cell_type": "code",
      "source": "points",
      "execution_count": null,
      "outputs": []
    },
    {
      "metadata": {
        "slideshow": {
          "slide_type": "-"
        },
        "trusted": false
      },
      "cell_type": "code",
      "source": "quidditch",
      "execution_count": null,
      "outputs": []
    },
    {
      "metadata": {
        "slideshow": {
          "slide_type": "subslide"
        },
        "trusted": false
      },
      "cell_type": "code",
      "source": "merged = pd.merge(points, quidditch, left_on = \"Student\", right_index = True)",
      "execution_count": null,
      "outputs": []
    },
    {
      "metadata": {
        "trusted": false
      },
      "cell_type": "code",
      "source": "merged",
      "execution_count": null,
      "outputs": []
    },
    {
      "metadata": {
        "slideshow": {
          "slide_type": "slide"
        }
      },
      "cell_type": "markdown",
      "source": "### Merging: Best Practices\n* Merge on Index\n* Make sure index names are identical before merging\n    * Change index names using **df.index.names = \"\"**\n    "
    }
  ],
  "metadata": {
    "celltoolbar": "Slideshow",
    "kernelspec": {
      "name": "python3",
      "display_name": "Python 3",
      "language": "python"
    },
    "language_info": {
      "mimetype": "text/x-python",
      "nbconvert_exporter": "python",
      "name": "python",
      "pygments_lexer": "ipython3",
      "version": "3.5.4",
      "file_extension": ".py",
      "codemirror_mode": {
        "version": 3,
        "name": "ipython"
      }
    }
  },
  "nbformat": 4,
  "nbformat_minor": 2
}
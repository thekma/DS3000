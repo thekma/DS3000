{
  "cells": [
    {
      "metadata": {
        "slideshow": {
          "slide_type": "slide"
        }
      },
      "cell_type": "markdown",
      "source": "<center> <img src=\"res/ds3000.png\"> </center>"
    },
    {
      "metadata": {},
      "cell_type": "markdown",
      "source": "<center> <h1> Week 6 - Day 2 </h1> </center>"
    },
    {
      "metadata": {},
      "cell_type": "markdown",
      "source": "<center> <h2> Part 3: Data Aggregation </h2></center>"
    },
    {
      "metadata": {
        "slideshow": {
          "slide_type": "skip"
        }
      },
      "cell_type": "markdown",
      "source": "## Outline\n1. <a href='#1'>Data Aggregation Using GroupBy</a>\n2. <a href='#2'>Iterating through a GroupBy Object</a>\n3. <a href='#3'>Grouping by Index Levels</a>\n4. <a href='#4'>Grouping by Multiple Indices</a>\n5. <a href='#5'>Aggregation Methods for GroupBy Objects</a>"
    },
    {
      "metadata": {
        "slideshow": {
          "slide_type": "skip"
        }
      },
      "cell_type": "markdown",
      "source": "<a id=\"1\"></a>"
    },
    {
      "metadata": {
        "slideshow": {
          "slide_type": "slide"
        }
      },
      "cell_type": "markdown",
      "source": "## 1. Data Aggregation Using GroupBy"
    },
    {
      "metadata": {
        "trusted": false
      },
      "cell_type": "code",
      "source": "import pandas as pd",
      "execution_count": null,
      "outputs": []
    },
    {
      "metadata": {
        "trusted": false
      },
      "cell_type": "code",
      "source": "df = pd.read_csv(\"res/ave_grades.csv\")",
      "execution_count": null,
      "outputs": []
    },
    {
      "metadata": {
        "trusted": false
      },
      "cell_type": "code",
      "source": "df",
      "execution_count": null,
      "outputs": []
    },
    {
      "metadata": {
        "slideshow": {
          "slide_type": "subslide"
        },
        "trusted": false
      },
      "cell_type": "code",
      "source": "df = df.set_index([\"House\", \"Student\"])",
      "execution_count": null,
      "outputs": []
    },
    {
      "metadata": {
        "trusted": false
      },
      "cell_type": "code",
      "source": "df.loc[\"Gryffindor\"].mean()",
      "execution_count": null,
      "outputs": []
    },
    {
      "metadata": {
        "slideshow": {
          "slide_type": "subslide"
        }
      },
      "cell_type": "markdown",
      "source": "### 1.1. groupby() method\n* **groupby()** method aggregates DataFrame rows by a column\n    * Returns an iterable GroupBy object that stores the data aggregated according to the grouping column"
    },
    {
      "metadata": {
        "trusted": false
      },
      "cell_type": "code",
      "source": "df.groupby(\"House\")",
      "execution_count": null,
      "outputs": []
    },
    {
      "metadata": {
        "trusted": false
      },
      "cell_type": "code",
      "source": "df.groupby(\"House\").mean()",
      "execution_count": null,
      "outputs": []
    },
    {
      "metadata": {
        "trusted": false
      },
      "cell_type": "code",
      "source": "pd.set_option(\"precision\", 2)",
      "execution_count": null,
      "outputs": []
    },
    {
      "metadata": {
        "slideshow": {
          "slide_type": "subslide"
        }
      },
      "cell_type": "markdown",
      "source": "### 1.2. Indexing a GroupBy Object\n* Similar to indexing a column in a DataFrame"
    },
    {
      "metadata": {
        "trusted": false
      },
      "cell_type": "code",
      "source": "df.groupby(\"House\")[\"Potion_Ave\"].mean()",
      "execution_count": null,
      "outputs": []
    },
    {
      "metadata": {
        "slideshow": {
          "slide_type": "skip"
        }
      },
      "cell_type": "markdown",
      "source": "<a id=\"2\"></a>"
    },
    {
      "metadata": {
        "slideshow": {
          "slide_type": "slide"
        }
      },
      "cell_type": "markdown",
      "source": "## 2. Iterating through a GroupBy Object\n* groupby() returns an iterable sequence of 2-tuples containing \n    * the group name and \n    * the segment of the dataframe corresponding to that group"
    },
    {
      "metadata": {
        "slideshow": {
          "slide_type": "-"
        },
        "trusted": false
      },
      "cell_type": "code",
      "source": "for house, frame in df.groupby(\"House\"):\n    print(frame)\n    print(\"\\n\")\n    ",
      "execution_count": null,
      "outputs": []
    },
    {
      "metadata": {
        "slideshow": {
          "slide_type": "subslide"
        },
        "trusted": false
      },
      "cell_type": "code",
      "source": "for house, frame in df.groupby(\"House\"):\n    print(house)\n    print(\"\\tPotions Ave: \", frame[\"Potion_Ave\"].mean())\n    print(\"\\tCharms Ave: \", frame[\"Charm_Ave\"].mean())\n    print(\"\\n\")\n    ",
      "execution_count": null,
      "outputs": []
    },
    {
      "metadata": {
        "trusted": false
      },
      "cell_type": "code",
      "source": "df",
      "execution_count": null,
      "outputs": []
    },
    {
      "metadata": {
        "slideshow": {
          "slide_type": "skip"
        }
      },
      "cell_type": "markdown",
      "source": "<a id=\"3\"></a>"
    },
    {
      "metadata": {
        "slideshow": {
          "slide_type": "slide"
        }
      },
      "cell_type": "markdown",
      "source": "## 3. Grouping by Index Levels\n* For hierarchically indexed dataframes, it is possible to aggregate using ofe the levels of an axis index.\n* Specify the index name, or level name, using the **level** keyword."
    },
    {
      "metadata": {
        "trusted": false
      },
      "cell_type": "code",
      "source": "df",
      "execution_count": null,
      "outputs": []
    },
    {
      "metadata": {
        "trusted": false
      },
      "cell_type": "code",
      "source": "df.groupby(level = \"House\").mean()",
      "execution_count": null,
      "outputs": []
    },
    {
      "metadata": {
        "slideshow": {
          "slide_type": "skip"
        }
      },
      "cell_type": "markdown",
      "source": "<a id=\"4\"></a>"
    },
    {
      "metadata": {
        "slideshow": {
          "slide_type": "slide"
        }
      },
      "cell_type": "markdown",
      "source": "## 4. Grouping by Multiple Indices\n* Can group a dataframe by multiple columns"
    },
    {
      "metadata": {
        "slideshow": {
          "slide_type": "-"
        },
        "trusted": false
      },
      "cell_type": "code",
      "source": "df_player = pd.read_csv(\"res/ave_grades_quidditch.csv\")",
      "execution_count": null,
      "outputs": []
    },
    {
      "metadata": {
        "trusted": false
      },
      "cell_type": "code",
      "source": "df_player.sort_values(by=\"House\")",
      "execution_count": null,
      "outputs": []
    },
    {
      "metadata": {
        "slideshow": {
          "slide_type": "subslide"
        },
        "trusted": false
      },
      "cell_type": "code",
      "source": "grouped_df = df_player.groupby([\"House\", \"Quidditch\"])",
      "execution_count": null,
      "outputs": []
    },
    {
      "metadata": {
        "slideshow": {
          "slide_type": "fragment"
        },
        "trusted": false
      },
      "cell_type": "code",
      "source": "grouped_df.mean()",
      "execution_count": null,
      "outputs": []
    },
    {
      "metadata": {
        "slideshow": {
          "slide_type": "skip"
        }
      },
      "cell_type": "markdown",
      "source": "<a id=\"5\"></a>"
    },
    {
      "metadata": {
        "slideshow": {
          "slide_type": "slide"
        }
      },
      "cell_type": "markdown",
      "source": "  \n## 5. Aggregation Methods for GroupBy Objects\n* Can call aggregation methods on GroupBy objects using the **agg()** method\n* **groupby_object.agg([\"list of aggregation methods\"])**"
    },
    {
      "metadata": {
        "trusted": false
      },
      "cell_type": "code",
      "source": "grouped_df.agg(\"mean\")",
      "execution_count": null,
      "outputs": []
    },
    {
      "metadata": {
        "slideshow": {
          "slide_type": "subslide"
        },
        "trusted": false
      },
      "cell_type": "code",
      "source": "grouped_df.agg([\"count\", \"mean\", \"std\"])",
      "execution_count": null,
      "outputs": []
    },
    {
      "metadata": {
        "slideshow": {
          "slide_type": "subslide"
        }
      },
      "cell_type": "markdown",
      "source": "#### How would you modify the previous code snippet to get the same stats, count, mean, std, for Quidditch players vs. non-players"
    },
    {
      "metadata": {
        "slideshow": {
          "slide_type": "fragment"
        },
        "trusted": false
      },
      "cell_type": "code",
      "source": "df_player.groupby(\"Quidditch\").agg([\"count\", \"mean\", \"std\"])",
      "execution_count": null,
      "outputs": []
    },
    {
      "metadata": {
        "slideshow": {
          "slide_type": "subslide"
        }
      },
      "cell_type": "markdown",
      "source": "### 5.1. Custom Aggregation Functions\n* Can define and apply your custom functions to DataFrame rows/columns using the **agg()** method"
    },
    {
      "metadata": {
        "trusted": false
      },
      "cell_type": "code",
      "source": "def letter_grade (grade):\n    '''simple function that takes a Series object containing grades and \n    returns the letter grade for the average of these grades\n    '''\n    if grade.mean() > 80:\n        return \"B\"\n    else:\n        return \"C+\"",
      "execution_count": null,
      "outputs": []
    },
    {
      "metadata": {
        "slideshow": {
          "slide_type": "fragment"
        },
        "trusted": false
      },
      "cell_type": "code",
      "source": "df_player.groupby(\"House\").agg(letter_grade)",
      "execution_count": null,
      "outputs": []
    },
    {
      "metadata": {
        "slideshow": {
          "slide_type": "subslide"
        },
        "trusted": false
      },
      "cell_type": "code",
      "source": "df_player.groupby(\"Quidditch\").agg([\"count\", \"mean\", \"std\", letter_grade])",
      "execution_count": null,
      "outputs": []
    },
    {
      "metadata": {
        "slideshow": {
          "slide_type": "subslide"
        }
      },
      "cell_type": "markdown",
      "source": "### 5.2. Applying Different Functions to Different Columns\n* Pass in a dictionary of column names and function names"
    },
    {
      "metadata": {
        "trusted": false
      },
      "cell_type": "code",
      "source": "def pass_fail_grade (grade):\n    '''simple function that takes a Series object containing grades and \n    returns the letter grade for the average of these grades\n    '''\n    if grade.mean() > 65:\n        return \"Pass\"\n    else:\n        return \"Fail\"",
      "execution_count": null,
      "outputs": []
    },
    {
      "metadata": {
        "trusted": false
      },
      "cell_type": "code",
      "source": "df_player.groupby([\"House\", \"Quidditch\"]).agg({\"Potion_Ave\": letter_grade, \"Charm_Ave\": pass_fail_grade})",
      "execution_count": null,
      "outputs": []
    }
  ],
  "metadata": {
    "celltoolbar": "Slideshow",
    "kernelspec": {
      "name": "python3",
      "display_name": "Python 3",
      "language": "python"
    },
    "language_info": {
      "mimetype": "text/x-python",
      "nbconvert_exporter": "python",
      "name": "python",
      "file_extension": ".py",
      "version": "3.5.4",
      "pygments_lexer": "ipython3",
      "codemirror_mode": {
        "version": 3,
        "name": "ipython"
      }
    }
  },
  "nbformat": 4,
  "nbformat_minor": 2
}
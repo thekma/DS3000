{
 "cells": [
  {
   "cell_type": "markdown",
   "metadata": {
    "slideshow": {
     "slide_type": "slide"
    }
   },
   "source": [
    "<center> <img src=\"res/ds3000.png\"> </center>"
   ]
  },
  {
   "cell_type": "markdown",
   "metadata": {},
   "source": [
    "<center> <h1> Week 6 - Day 2 </h1> </center>"
   ]
  },
  {
   "cell_type": "markdown",
   "metadata": {},
   "source": [
    "<center> <h2> Part 3: Data Aggregation </h2></center>"
   ]
  },
  {
   "cell_type": "markdown",
   "metadata": {
    "slideshow": {
     "slide_type": "skip"
    }
   },
   "source": [
    "## Outline\n",
    "1. <a href='#1'>Data Aggregation Using GroupBy</a>\n",
    "2. <a href='#2'>Iterating through a GroupBy Object</a>\n",
    "3. <a href='#3'>Grouping by Index Levels</a>\n",
    "4. <a href='#4'>Grouping by Multiple Indices</a>\n",
    "5. <a href='#5'>Aggregation Methods for GroupBy Objects</a>"
   ]
  },
  {
   "cell_type": "markdown",
   "metadata": {
    "slideshow": {
     "slide_type": "skip"
    }
   },
   "source": [
    "<a id=\"1\"></a>"
   ]
  },
  {
   "cell_type": "markdown",
   "metadata": {
    "slideshow": {
     "slide_type": "slide"
    }
   },
   "source": [
    "## 1. Data Aggregation Using GroupBy"
   ]
  },
  {
   "cell_type": "code",
   "execution_count": 1,
   "metadata": {},
   "outputs": [],
   "source": [
    "import pandas as pd"
   ]
  },
  {
   "cell_type": "code",
   "execution_count": 2,
   "metadata": {},
   "outputs": [],
   "source": [
    "df = pd.read_csv(\"Day 2_res_ave_grades.csv\")"
   ]
  },
  {
   "cell_type": "code",
   "execution_count": 3,
   "metadata": {},
   "outputs": [
    {
     "data": {
      "text/html": [
       "<div>\n",
       "<style scoped>\n",
       "    .dataframe tbody tr th:only-of-type {\n",
       "        vertical-align: middle;\n",
       "    }\n",
       "\n",
       "    .dataframe tbody tr th {\n",
       "        vertical-align: top;\n",
       "    }\n",
       "\n",
       "    .dataframe thead th {\n",
       "        text-align: right;\n",
       "    }\n",
       "</style>\n",
       "<table border=\"1\" class=\"dataframe\">\n",
       "  <thead>\n",
       "    <tr style=\"text-align: right;\">\n",
       "      <th></th>\n",
       "      <th>Student</th>\n",
       "      <th>House</th>\n",
       "      <th>Potion_Ave</th>\n",
       "      <th>Charm_Ave</th>\n",
       "    </tr>\n",
       "  </thead>\n",
       "  <tbody>\n",
       "    <tr>\n",
       "      <th>0</th>\n",
       "      <td>Hermione Granger</td>\n",
       "      <td>Gryffindor</td>\n",
       "      <td>100.0</td>\n",
       "      <td>100.0</td>\n",
       "    </tr>\n",
       "    <tr>\n",
       "      <th>1</th>\n",
       "      <td>Anthony Goldstein</td>\n",
       "      <td>Ravenclaw</td>\n",
       "      <td>89.0</td>\n",
       "      <td>87.0</td>\n",
       "    </tr>\n",
       "    <tr>\n",
       "      <th>2</th>\n",
       "      <td>Harry Potter</td>\n",
       "      <td>Gryffindor</td>\n",
       "      <td>88.0</td>\n",
       "      <td>90.0</td>\n",
       "    </tr>\n",
       "    <tr>\n",
       "      <th>3</th>\n",
       "      <td>Lisa Turpin</td>\n",
       "      <td>Ravenclaw</td>\n",
       "      <td>86.5</td>\n",
       "      <td>84.0</td>\n",
       "    </tr>\n",
       "    <tr>\n",
       "      <th>4</th>\n",
       "      <td>Michael Corner</td>\n",
       "      <td>Ravenclaw</td>\n",
       "      <td>85.5</td>\n",
       "      <td>86.5</td>\n",
       "    </tr>\n",
       "    <tr>\n",
       "      <th>5</th>\n",
       "      <td>Draco Malfoy</td>\n",
       "      <td>Slytherin</td>\n",
       "      <td>84.5</td>\n",
       "      <td>81.0</td>\n",
       "    </tr>\n",
       "    <tr>\n",
       "      <th>6</th>\n",
       "      <td>Susan Bones</td>\n",
       "      <td>Hufflepuff</td>\n",
       "      <td>84.0</td>\n",
       "      <td>83.5</td>\n",
       "    </tr>\n",
       "    <tr>\n",
       "      <th>7</th>\n",
       "      <td>Ron Weasley</td>\n",
       "      <td>Gryffindor</td>\n",
       "      <td>83.0</td>\n",
       "      <td>87.5</td>\n",
       "    </tr>\n",
       "    <tr>\n",
       "      <th>8</th>\n",
       "      <td>Hannah Abbott</td>\n",
       "      <td>Hufflepuff</td>\n",
       "      <td>80.5</td>\n",
       "      <td>84.5</td>\n",
       "    </tr>\n",
       "    <tr>\n",
       "      <th>9</th>\n",
       "      <td>Ernie Macmillan</td>\n",
       "      <td>Hufflepuff</td>\n",
       "      <td>77.5</td>\n",
       "      <td>85.0</td>\n",
       "    </tr>\n",
       "    <tr>\n",
       "      <th>10</th>\n",
       "      <td>Gregory Goyle</td>\n",
       "      <td>Slytherin</td>\n",
       "      <td>66.5</td>\n",
       "      <td>59.5</td>\n",
       "    </tr>\n",
       "    <tr>\n",
       "      <th>11</th>\n",
       "      <td>Vincent Crabbe</td>\n",
       "      <td>Slytherin</td>\n",
       "      <td>64.0</td>\n",
       "      <td>60.0</td>\n",
       "    </tr>\n",
       "  </tbody>\n",
       "</table>\n",
       "</div>"
      ],
      "text/plain": [
       "              Student       House  Potion_Ave  Charm_Ave\n",
       "0    Hermione Granger  Gryffindor       100.0      100.0\n",
       "1   Anthony Goldstein   Ravenclaw        89.0       87.0\n",
       "2        Harry Potter  Gryffindor        88.0       90.0\n",
       "3         Lisa Turpin   Ravenclaw        86.5       84.0\n",
       "4      Michael Corner   Ravenclaw        85.5       86.5\n",
       "5        Draco Malfoy   Slytherin        84.5       81.0\n",
       "6         Susan Bones  Hufflepuff        84.0       83.5\n",
       "7         Ron Weasley  Gryffindor        83.0       87.5\n",
       "8       Hannah Abbott  Hufflepuff        80.5       84.5\n",
       "9     Ernie Macmillan  Hufflepuff        77.5       85.0\n",
       "10      Gregory Goyle   Slytherin        66.5       59.5\n",
       "11     Vincent Crabbe   Slytherin        64.0       60.0"
      ]
     },
     "execution_count": 3,
     "metadata": {},
     "output_type": "execute_result"
    }
   ],
   "source": [
    "df"
   ]
  },
  {
   "cell_type": "code",
   "execution_count": 4,
   "metadata": {
    "slideshow": {
     "slide_type": "subslide"
    }
   },
   "outputs": [],
   "source": [
    "df = df.set_index([\"House\", \"Student\"])"
   ]
  },
  {
   "cell_type": "code",
   "execution_count": 5,
   "metadata": {},
   "outputs": [
    {
     "data": {
      "text/plain": [
       "Potion_Ave    90.333333\n",
       "Charm_Ave     92.500000\n",
       "dtype: float64"
      ]
     },
     "execution_count": 5,
     "metadata": {},
     "output_type": "execute_result"
    }
   ],
   "source": [
    "df.loc[\"Gryffindor\"].mean()"
   ]
  },
  {
   "cell_type": "markdown",
   "metadata": {
    "slideshow": {
     "slide_type": "subslide"
    }
   },
   "source": [
    "### 1.1. groupby() method\n",
    "* **groupby()** method aggregates DataFrame rows by a column\n",
    "    * Returns an iterable GroupBy object that stores the data aggregated according to the grouping column"
   ]
  },
  {
   "cell_type": "code",
   "execution_count": 6,
   "metadata": {},
   "outputs": [
    {
     "data": {
      "text/plain": [
       "<pandas.core.groupby.groupby.DataFrameGroupBy object at 0x000002476B16A470>"
      ]
     },
     "execution_count": 6,
     "metadata": {},
     "output_type": "execute_result"
    }
   ],
   "source": [
    "df.groupby(\"House\")"
   ]
  },
  {
   "cell_type": "code",
   "execution_count": 7,
   "metadata": {},
   "outputs": [
    {
     "data": {
      "text/html": [
       "<div>\n",
       "<style scoped>\n",
       "    .dataframe tbody tr th:only-of-type {\n",
       "        vertical-align: middle;\n",
       "    }\n",
       "\n",
       "    .dataframe tbody tr th {\n",
       "        vertical-align: top;\n",
       "    }\n",
       "\n",
       "    .dataframe thead th {\n",
       "        text-align: right;\n",
       "    }\n",
       "</style>\n",
       "<table border=\"1\" class=\"dataframe\">\n",
       "  <thead>\n",
       "    <tr style=\"text-align: right;\">\n",
       "      <th></th>\n",
       "      <th>Potion_Ave</th>\n",
       "      <th>Charm_Ave</th>\n",
       "    </tr>\n",
       "    <tr>\n",
       "      <th>House</th>\n",
       "      <th></th>\n",
       "      <th></th>\n",
       "    </tr>\n",
       "  </thead>\n",
       "  <tbody>\n",
       "    <tr>\n",
       "      <th>Gryffindor</th>\n",
       "      <td>90.333333</td>\n",
       "      <td>92.500000</td>\n",
       "    </tr>\n",
       "    <tr>\n",
       "      <th>Hufflepuff</th>\n",
       "      <td>80.666667</td>\n",
       "      <td>84.333333</td>\n",
       "    </tr>\n",
       "    <tr>\n",
       "      <th>Ravenclaw</th>\n",
       "      <td>87.000000</td>\n",
       "      <td>85.833333</td>\n",
       "    </tr>\n",
       "    <tr>\n",
       "      <th>Slytherin</th>\n",
       "      <td>71.666667</td>\n",
       "      <td>66.833333</td>\n",
       "    </tr>\n",
       "  </tbody>\n",
       "</table>\n",
       "</div>"
      ],
      "text/plain": [
       "            Potion_Ave  Charm_Ave\n",
       "House                            \n",
       "Gryffindor   90.333333  92.500000\n",
       "Hufflepuff   80.666667  84.333333\n",
       "Ravenclaw    87.000000  85.833333\n",
       "Slytherin    71.666667  66.833333"
      ]
     },
     "execution_count": 7,
     "metadata": {},
     "output_type": "execute_result"
    }
   ],
   "source": [
    "df.groupby(\"House\").mean()"
   ]
  },
  {
   "cell_type": "code",
   "execution_count": 8,
   "metadata": {},
   "outputs": [],
   "source": [
    "pd.set_option(\"precision\", 2)"
   ]
  },
  {
   "cell_type": "markdown",
   "metadata": {
    "slideshow": {
     "slide_type": "subslide"
    }
   },
   "source": [
    "### 1.2. Indexing a GroupBy Object\n",
    "* Similar to indexing a column in a DataFrame"
   ]
  },
  {
   "cell_type": "code",
   "execution_count": 9,
   "metadata": {},
   "outputs": [
    {
     "data": {
      "text/plain": [
       "House\n",
       "Gryffindor    90.33\n",
       "Hufflepuff    80.67\n",
       "Ravenclaw     87.00\n",
       "Slytherin     71.67\n",
       "Name: Potion_Ave, dtype: float64"
      ]
     },
     "execution_count": 9,
     "metadata": {},
     "output_type": "execute_result"
    }
   ],
   "source": [
    "df.groupby(\"House\")[\"Potion_Ave\"].mean()"
   ]
  },
  {
   "cell_type": "markdown",
   "metadata": {
    "slideshow": {
     "slide_type": "skip"
    }
   },
   "source": [
    "<a id=\"2\"></a>"
   ]
  },
  {
   "cell_type": "markdown",
   "metadata": {
    "slideshow": {
     "slide_type": "slide"
    }
   },
   "source": [
    "## 2. Iterating through a GroupBy Object\n",
    "* groupby() returns an iterable sequence of 2-tuples containing \n",
    "    * the group name and \n",
    "    * the segment of the dataframe corresponding to that group"
   ]
  },
  {
   "cell_type": "code",
   "execution_count": 10,
   "metadata": {
    "slideshow": {
     "slide_type": "-"
    }
   },
   "outputs": [
    {
     "name": "stdout",
     "output_type": "stream",
     "text": [
      "                             Potion_Ave  Charm_Ave\n",
      "House      Student                                \n",
      "Gryffindor Hermione Granger       100.0      100.0\n",
      "           Harry Potter            88.0       90.0\n",
      "           Ron Weasley             83.0       87.5\n",
      "\n",
      "\n",
      "                            Potion_Ave  Charm_Ave\n",
      "House      Student                               \n",
      "Hufflepuff Susan Bones            84.0       83.5\n",
      "           Hannah Abbott          80.5       84.5\n",
      "           Ernie Macmillan        77.5       85.0\n",
      "\n",
      "\n",
      "                             Potion_Ave  Charm_Ave\n",
      "House     Student                                 \n",
      "Ravenclaw Anthony Goldstein        89.0       87.0\n",
      "          Lisa Turpin              86.5       84.0\n",
      "          Michael Corner           85.5       86.5\n",
      "\n",
      "\n",
      "                          Potion_Ave  Charm_Ave\n",
      "House     Student                              \n",
      "Slytherin Draco Malfoy          84.5       81.0\n",
      "          Gregory Goyle         66.5       59.5\n",
      "          Vincent Crabbe        64.0       60.0\n",
      "\n",
      "\n"
     ]
    }
   ],
   "source": [
    "for house, frame in df.groupby(\"House\"):\n",
    "    print(frame)\n",
    "    print(\"\\n\")\n",
    "    "
   ]
  },
  {
   "cell_type": "code",
   "execution_count": 11,
   "metadata": {
    "slideshow": {
     "slide_type": "subslide"
    }
   },
   "outputs": [
    {
     "name": "stdout",
     "output_type": "stream",
     "text": [
      "Gryffindor\n",
      "\tPotions Ave:  90.33333333333333\n",
      "\tCharms Ave:  92.5\n",
      "\n",
      "\n",
      "Hufflepuff\n",
      "\tPotions Ave:  80.66666666666667\n",
      "\tCharms Ave:  84.33333333333333\n",
      "\n",
      "\n",
      "Ravenclaw\n",
      "\tPotions Ave:  87.0\n",
      "\tCharms Ave:  85.83333333333333\n",
      "\n",
      "\n",
      "Slytherin\n",
      "\tPotions Ave:  71.66666666666667\n",
      "\tCharms Ave:  66.83333333333333\n",
      "\n",
      "\n"
     ]
    }
   ],
   "source": [
    "for house, frame in df.groupby(\"House\"):\n",
    "    print(house)\n",
    "    print(\"\\tPotions Ave: \", frame[\"Potion_Ave\"].mean())\n",
    "    print(\"\\tCharms Ave: \", frame[\"Charm_Ave\"].mean())\n",
    "    print(\"\\n\")\n",
    "    "
   ]
  },
  {
   "cell_type": "code",
   "execution_count": 12,
   "metadata": {},
   "outputs": [
    {
     "data": {
      "text/html": [
       "<div>\n",
       "<style scoped>\n",
       "    .dataframe tbody tr th:only-of-type {\n",
       "        vertical-align: middle;\n",
       "    }\n",
       "\n",
       "    .dataframe tbody tr th {\n",
       "        vertical-align: top;\n",
       "    }\n",
       "\n",
       "    .dataframe thead th {\n",
       "        text-align: right;\n",
       "    }\n",
       "</style>\n",
       "<table border=\"1\" class=\"dataframe\">\n",
       "  <thead>\n",
       "    <tr style=\"text-align: right;\">\n",
       "      <th></th>\n",
       "      <th></th>\n",
       "      <th>Potion_Ave</th>\n",
       "      <th>Charm_Ave</th>\n",
       "    </tr>\n",
       "    <tr>\n",
       "      <th>House</th>\n",
       "      <th>Student</th>\n",
       "      <th></th>\n",
       "      <th></th>\n",
       "    </tr>\n",
       "  </thead>\n",
       "  <tbody>\n",
       "    <tr>\n",
       "      <th>Gryffindor</th>\n",
       "      <th>Hermione Granger</th>\n",
       "      <td>100.0</td>\n",
       "      <td>100.0</td>\n",
       "    </tr>\n",
       "    <tr>\n",
       "      <th>Ravenclaw</th>\n",
       "      <th>Anthony Goldstein</th>\n",
       "      <td>89.0</td>\n",
       "      <td>87.0</td>\n",
       "    </tr>\n",
       "    <tr>\n",
       "      <th>Gryffindor</th>\n",
       "      <th>Harry Potter</th>\n",
       "      <td>88.0</td>\n",
       "      <td>90.0</td>\n",
       "    </tr>\n",
       "    <tr>\n",
       "      <th rowspan=\"2\" valign=\"top\">Ravenclaw</th>\n",
       "      <th>Lisa Turpin</th>\n",
       "      <td>86.5</td>\n",
       "      <td>84.0</td>\n",
       "    </tr>\n",
       "    <tr>\n",
       "      <th>Michael Corner</th>\n",
       "      <td>85.5</td>\n",
       "      <td>86.5</td>\n",
       "    </tr>\n",
       "    <tr>\n",
       "      <th>Slytherin</th>\n",
       "      <th>Draco Malfoy</th>\n",
       "      <td>84.5</td>\n",
       "      <td>81.0</td>\n",
       "    </tr>\n",
       "    <tr>\n",
       "      <th>Hufflepuff</th>\n",
       "      <th>Susan Bones</th>\n",
       "      <td>84.0</td>\n",
       "      <td>83.5</td>\n",
       "    </tr>\n",
       "    <tr>\n",
       "      <th>Gryffindor</th>\n",
       "      <th>Ron Weasley</th>\n",
       "      <td>83.0</td>\n",
       "      <td>87.5</td>\n",
       "    </tr>\n",
       "    <tr>\n",
       "      <th rowspan=\"2\" valign=\"top\">Hufflepuff</th>\n",
       "      <th>Hannah Abbott</th>\n",
       "      <td>80.5</td>\n",
       "      <td>84.5</td>\n",
       "    </tr>\n",
       "    <tr>\n",
       "      <th>Ernie Macmillan</th>\n",
       "      <td>77.5</td>\n",
       "      <td>85.0</td>\n",
       "    </tr>\n",
       "    <tr>\n",
       "      <th rowspan=\"2\" valign=\"top\">Slytherin</th>\n",
       "      <th>Gregory Goyle</th>\n",
       "      <td>66.5</td>\n",
       "      <td>59.5</td>\n",
       "    </tr>\n",
       "    <tr>\n",
       "      <th>Vincent Crabbe</th>\n",
       "      <td>64.0</td>\n",
       "      <td>60.0</td>\n",
       "    </tr>\n",
       "  </tbody>\n",
       "</table>\n",
       "</div>"
      ],
      "text/plain": [
       "                              Potion_Ave  Charm_Ave\n",
       "House      Student                                 \n",
       "Gryffindor Hermione Granger        100.0      100.0\n",
       "Ravenclaw  Anthony Goldstein        89.0       87.0\n",
       "Gryffindor Harry Potter             88.0       90.0\n",
       "Ravenclaw  Lisa Turpin              86.5       84.0\n",
       "           Michael Corner           85.5       86.5\n",
       "Slytherin  Draco Malfoy             84.5       81.0\n",
       "Hufflepuff Susan Bones              84.0       83.5\n",
       "Gryffindor Ron Weasley              83.0       87.5\n",
       "Hufflepuff Hannah Abbott            80.5       84.5\n",
       "           Ernie Macmillan          77.5       85.0\n",
       "Slytherin  Gregory Goyle            66.5       59.5\n",
       "           Vincent Crabbe           64.0       60.0"
      ]
     },
     "execution_count": 12,
     "metadata": {},
     "output_type": "execute_result"
    }
   ],
   "source": [
    "df"
   ]
  },
  {
   "cell_type": "markdown",
   "metadata": {
    "slideshow": {
     "slide_type": "skip"
    }
   },
   "source": [
    "<a id=\"3\"></a>"
   ]
  },
  {
   "cell_type": "markdown",
   "metadata": {
    "slideshow": {
     "slide_type": "slide"
    }
   },
   "source": [
    "## 3. Grouping by Index Levels\n",
    "* For hierarchically indexed dataframes, it is possible to aggregate using ofe the levels of an axis index.\n",
    "* Specify the index name, or level name, using the **level** keyword."
   ]
  },
  {
   "cell_type": "code",
   "execution_count": 13,
   "metadata": {},
   "outputs": [
    {
     "data": {
      "text/html": [
       "<div>\n",
       "<style scoped>\n",
       "    .dataframe tbody tr th:only-of-type {\n",
       "        vertical-align: middle;\n",
       "    }\n",
       "\n",
       "    .dataframe tbody tr th {\n",
       "        vertical-align: top;\n",
       "    }\n",
       "\n",
       "    .dataframe thead th {\n",
       "        text-align: right;\n",
       "    }\n",
       "</style>\n",
       "<table border=\"1\" class=\"dataframe\">\n",
       "  <thead>\n",
       "    <tr style=\"text-align: right;\">\n",
       "      <th></th>\n",
       "      <th></th>\n",
       "      <th>Potion_Ave</th>\n",
       "      <th>Charm_Ave</th>\n",
       "    </tr>\n",
       "    <tr>\n",
       "      <th>House</th>\n",
       "      <th>Student</th>\n",
       "      <th></th>\n",
       "      <th></th>\n",
       "    </tr>\n",
       "  </thead>\n",
       "  <tbody>\n",
       "    <tr>\n",
       "      <th>Gryffindor</th>\n",
       "      <th>Hermione Granger</th>\n",
       "      <td>100.0</td>\n",
       "      <td>100.0</td>\n",
       "    </tr>\n",
       "    <tr>\n",
       "      <th>Ravenclaw</th>\n",
       "      <th>Anthony Goldstein</th>\n",
       "      <td>89.0</td>\n",
       "      <td>87.0</td>\n",
       "    </tr>\n",
       "    <tr>\n",
       "      <th>Gryffindor</th>\n",
       "      <th>Harry Potter</th>\n",
       "      <td>88.0</td>\n",
       "      <td>90.0</td>\n",
       "    </tr>\n",
       "    <tr>\n",
       "      <th rowspan=\"2\" valign=\"top\">Ravenclaw</th>\n",
       "      <th>Lisa Turpin</th>\n",
       "      <td>86.5</td>\n",
       "      <td>84.0</td>\n",
       "    </tr>\n",
       "    <tr>\n",
       "      <th>Michael Corner</th>\n",
       "      <td>85.5</td>\n",
       "      <td>86.5</td>\n",
       "    </tr>\n",
       "    <tr>\n",
       "      <th>Slytherin</th>\n",
       "      <th>Draco Malfoy</th>\n",
       "      <td>84.5</td>\n",
       "      <td>81.0</td>\n",
       "    </tr>\n",
       "    <tr>\n",
       "      <th>Hufflepuff</th>\n",
       "      <th>Susan Bones</th>\n",
       "      <td>84.0</td>\n",
       "      <td>83.5</td>\n",
       "    </tr>\n",
       "    <tr>\n",
       "      <th>Gryffindor</th>\n",
       "      <th>Ron Weasley</th>\n",
       "      <td>83.0</td>\n",
       "      <td>87.5</td>\n",
       "    </tr>\n",
       "    <tr>\n",
       "      <th rowspan=\"2\" valign=\"top\">Hufflepuff</th>\n",
       "      <th>Hannah Abbott</th>\n",
       "      <td>80.5</td>\n",
       "      <td>84.5</td>\n",
       "    </tr>\n",
       "    <tr>\n",
       "      <th>Ernie Macmillan</th>\n",
       "      <td>77.5</td>\n",
       "      <td>85.0</td>\n",
       "    </tr>\n",
       "    <tr>\n",
       "      <th rowspan=\"2\" valign=\"top\">Slytherin</th>\n",
       "      <th>Gregory Goyle</th>\n",
       "      <td>66.5</td>\n",
       "      <td>59.5</td>\n",
       "    </tr>\n",
       "    <tr>\n",
       "      <th>Vincent Crabbe</th>\n",
       "      <td>64.0</td>\n",
       "      <td>60.0</td>\n",
       "    </tr>\n",
       "  </tbody>\n",
       "</table>\n",
       "</div>"
      ],
      "text/plain": [
       "                              Potion_Ave  Charm_Ave\n",
       "House      Student                                 \n",
       "Gryffindor Hermione Granger        100.0      100.0\n",
       "Ravenclaw  Anthony Goldstein        89.0       87.0\n",
       "Gryffindor Harry Potter             88.0       90.0\n",
       "Ravenclaw  Lisa Turpin              86.5       84.0\n",
       "           Michael Corner           85.5       86.5\n",
       "Slytherin  Draco Malfoy             84.5       81.0\n",
       "Hufflepuff Susan Bones              84.0       83.5\n",
       "Gryffindor Ron Weasley              83.0       87.5\n",
       "Hufflepuff Hannah Abbott            80.5       84.5\n",
       "           Ernie Macmillan          77.5       85.0\n",
       "Slytherin  Gregory Goyle            66.5       59.5\n",
       "           Vincent Crabbe           64.0       60.0"
      ]
     },
     "execution_count": 13,
     "metadata": {},
     "output_type": "execute_result"
    }
   ],
   "source": [
    "df"
   ]
  },
  {
   "cell_type": "code",
   "execution_count": 14,
   "metadata": {},
   "outputs": [
    {
     "data": {
      "text/html": [
       "<div>\n",
       "<style scoped>\n",
       "    .dataframe tbody tr th:only-of-type {\n",
       "        vertical-align: middle;\n",
       "    }\n",
       "\n",
       "    .dataframe tbody tr th {\n",
       "        vertical-align: top;\n",
       "    }\n",
       "\n",
       "    .dataframe thead th {\n",
       "        text-align: right;\n",
       "    }\n",
       "</style>\n",
       "<table border=\"1\" class=\"dataframe\">\n",
       "  <thead>\n",
       "    <tr style=\"text-align: right;\">\n",
       "      <th></th>\n",
       "      <th>Potion_Ave</th>\n",
       "      <th>Charm_Ave</th>\n",
       "    </tr>\n",
       "    <tr>\n",
       "      <th>House</th>\n",
       "      <th></th>\n",
       "      <th></th>\n",
       "    </tr>\n",
       "  </thead>\n",
       "  <tbody>\n",
       "    <tr>\n",
       "      <th>Gryffindor</th>\n",
       "      <td>90.33</td>\n",
       "      <td>92.50</td>\n",
       "    </tr>\n",
       "    <tr>\n",
       "      <th>Hufflepuff</th>\n",
       "      <td>80.67</td>\n",
       "      <td>84.33</td>\n",
       "    </tr>\n",
       "    <tr>\n",
       "      <th>Ravenclaw</th>\n",
       "      <td>87.00</td>\n",
       "      <td>85.83</td>\n",
       "    </tr>\n",
       "    <tr>\n",
       "      <th>Slytherin</th>\n",
       "      <td>71.67</td>\n",
       "      <td>66.83</td>\n",
       "    </tr>\n",
       "  </tbody>\n",
       "</table>\n",
       "</div>"
      ],
      "text/plain": [
       "            Potion_Ave  Charm_Ave\n",
       "House                            \n",
       "Gryffindor       90.33      92.50\n",
       "Hufflepuff       80.67      84.33\n",
       "Ravenclaw        87.00      85.83\n",
       "Slytherin        71.67      66.83"
      ]
     },
     "execution_count": 14,
     "metadata": {},
     "output_type": "execute_result"
    }
   ],
   "source": [
    "df.groupby(level = \"House\").mean()"
   ]
  },
  {
   "cell_type": "markdown",
   "metadata": {
    "slideshow": {
     "slide_type": "skip"
    }
   },
   "source": [
    "<a id=\"4\"></a>"
   ]
  },
  {
   "cell_type": "markdown",
   "metadata": {
    "slideshow": {
     "slide_type": "slide"
    }
   },
   "source": [
    "## 4. Grouping by Multiple Indices\n",
    "* Can group a dataframe by multiple columns"
   ]
  },
  {
   "cell_type": "code",
   "execution_count": 18,
   "metadata": {
    "slideshow": {
     "slide_type": "-"
    }
   },
   "outputs": [],
   "source": [
    "df_player = pd.read_csv(\"Day 2_res_ave_grades_quidditch.csv\")"
   ]
  },
  {
   "cell_type": "code",
   "execution_count": 19,
   "metadata": {},
   "outputs": [
    {
     "data": {
      "text/html": [
       "<div>\n",
       "<style scoped>\n",
       "    .dataframe tbody tr th:only-of-type {\n",
       "        vertical-align: middle;\n",
       "    }\n",
       "\n",
       "    .dataframe tbody tr th {\n",
       "        vertical-align: top;\n",
       "    }\n",
       "\n",
       "    .dataframe thead th {\n",
       "        text-align: right;\n",
       "    }\n",
       "</style>\n",
       "<table border=\"1\" class=\"dataframe\">\n",
       "  <thead>\n",
       "    <tr style=\"text-align: right;\">\n",
       "      <th></th>\n",
       "      <th>Student</th>\n",
       "      <th>House</th>\n",
       "      <th>Quidditch</th>\n",
       "      <th>Potion_Ave</th>\n",
       "      <th>Charm_Ave</th>\n",
       "    </tr>\n",
       "  </thead>\n",
       "  <tbody>\n",
       "    <tr>\n",
       "      <th>0</th>\n",
       "      <td>Hermione Granger</td>\n",
       "      <td>Gryffindor</td>\n",
       "      <td>No</td>\n",
       "      <td>100.0</td>\n",
       "      <td>100.0</td>\n",
       "    </tr>\n",
       "    <tr>\n",
       "      <th>2</th>\n",
       "      <td>Harry Potter</td>\n",
       "      <td>Gryffindor</td>\n",
       "      <td>Yes</td>\n",
       "      <td>88.0</td>\n",
       "      <td>90.0</td>\n",
       "    </tr>\n",
       "    <tr>\n",
       "      <th>7</th>\n",
       "      <td>Ron Weasley</td>\n",
       "      <td>Gryffindor</td>\n",
       "      <td>Yes</td>\n",
       "      <td>83.0</td>\n",
       "      <td>87.5</td>\n",
       "    </tr>\n",
       "    <tr>\n",
       "      <th>12</th>\n",
       "      <td>Neville Longbottom</td>\n",
       "      <td>Gryffindor</td>\n",
       "      <td>No</td>\n",
       "      <td>60.0</td>\n",
       "      <td>65.0</td>\n",
       "    </tr>\n",
       "    <tr>\n",
       "      <th>6</th>\n",
       "      <td>Susan Bones</td>\n",
       "      <td>Hufflepuff</td>\n",
       "      <td>Yes</td>\n",
       "      <td>84.0</td>\n",
       "      <td>83.5</td>\n",
       "    </tr>\n",
       "    <tr>\n",
       "      <th>8</th>\n",
       "      <td>Hannah Abbott</td>\n",
       "      <td>Hufflepuff</td>\n",
       "      <td>No</td>\n",
       "      <td>80.5</td>\n",
       "      <td>84.5</td>\n",
       "    </tr>\n",
       "    <tr>\n",
       "      <th>9</th>\n",
       "      <td>Ernie Macmillan</td>\n",
       "      <td>Hufflepuff</td>\n",
       "      <td>Yes</td>\n",
       "      <td>77.5</td>\n",
       "      <td>85.0</td>\n",
       "    </tr>\n",
       "    <tr>\n",
       "      <th>14</th>\n",
       "      <td>Megan Jones</td>\n",
       "      <td>Hufflepuff</td>\n",
       "      <td>No</td>\n",
       "      <td>81.0</td>\n",
       "      <td>80.0</td>\n",
       "    </tr>\n",
       "    <tr>\n",
       "      <th>1</th>\n",
       "      <td>Anthony Goldstein</td>\n",
       "      <td>Ravenclaw</td>\n",
       "      <td>Yes</td>\n",
       "      <td>89.0</td>\n",
       "      <td>87.0</td>\n",
       "    </tr>\n",
       "    <tr>\n",
       "      <th>3</th>\n",
       "      <td>Lisa Turpin</td>\n",
       "      <td>Ravenclaw</td>\n",
       "      <td>No</td>\n",
       "      <td>86.5</td>\n",
       "      <td>84.0</td>\n",
       "    </tr>\n",
       "    <tr>\n",
       "      <th>4</th>\n",
       "      <td>Michael Corner</td>\n",
       "      <td>Ravenclaw</td>\n",
       "      <td>Yes</td>\n",
       "      <td>85.5</td>\n",
       "      <td>86.5</td>\n",
       "    </tr>\n",
       "    <tr>\n",
       "      <th>15</th>\n",
       "      <td>Padma Patil</td>\n",
       "      <td>Ravenclaw</td>\n",
       "      <td>No</td>\n",
       "      <td>85.0</td>\n",
       "      <td>91.0</td>\n",
       "    </tr>\n",
       "    <tr>\n",
       "      <th>5</th>\n",
       "      <td>Draco Malfoy</td>\n",
       "      <td>Slytherin</td>\n",
       "      <td>Yes</td>\n",
       "      <td>84.5</td>\n",
       "      <td>81.0</td>\n",
       "    </tr>\n",
       "    <tr>\n",
       "      <th>10</th>\n",
       "      <td>Gregory Goyle</td>\n",
       "      <td>Slytherin</td>\n",
       "      <td>No</td>\n",
       "      <td>66.5</td>\n",
       "      <td>59.5</td>\n",
       "    </tr>\n",
       "    <tr>\n",
       "      <th>11</th>\n",
       "      <td>Vincent Crabbe</td>\n",
       "      <td>Slytherin</td>\n",
       "      <td>Yes</td>\n",
       "      <td>64.0</td>\n",
       "      <td>60.0</td>\n",
       "    </tr>\n",
       "    <tr>\n",
       "      <th>13</th>\n",
       "      <td>Pansy Parkinson</td>\n",
       "      <td>Slytherin</td>\n",
       "      <td>No</td>\n",
       "      <td>72.0</td>\n",
       "      <td>71.0</td>\n",
       "    </tr>\n",
       "  </tbody>\n",
       "</table>\n",
       "</div>"
      ],
      "text/plain": [
       "               Student       House Quidditch  Potion_Ave  Charm_Ave\n",
       "0     Hermione Granger  Gryffindor        No       100.0      100.0\n",
       "2         Harry Potter  Gryffindor       Yes        88.0       90.0\n",
       "7          Ron Weasley  Gryffindor       Yes        83.0       87.5\n",
       "12  Neville Longbottom  Gryffindor        No        60.0       65.0\n",
       "6          Susan Bones  Hufflepuff       Yes        84.0       83.5\n",
       "8        Hannah Abbott  Hufflepuff        No        80.5       84.5\n",
       "9      Ernie Macmillan  Hufflepuff       Yes        77.5       85.0\n",
       "14         Megan Jones  Hufflepuff        No        81.0       80.0\n",
       "1    Anthony Goldstein   Ravenclaw       Yes        89.0       87.0\n",
       "3          Lisa Turpin   Ravenclaw        No        86.5       84.0\n",
       "4       Michael Corner   Ravenclaw       Yes        85.5       86.5\n",
       "15         Padma Patil   Ravenclaw        No        85.0       91.0\n",
       "5         Draco Malfoy   Slytherin       Yes        84.5       81.0\n",
       "10       Gregory Goyle   Slytherin        No        66.5       59.5\n",
       "11      Vincent Crabbe   Slytherin       Yes        64.0       60.0\n",
       "13     Pansy Parkinson   Slytherin        No        72.0       71.0"
      ]
     },
     "execution_count": 19,
     "metadata": {},
     "output_type": "execute_result"
    }
   ],
   "source": [
    "df_player.sort_values(by=\"House\")"
   ]
  },
  {
   "cell_type": "code",
   "execution_count": 20,
   "metadata": {
    "slideshow": {
     "slide_type": "subslide"
    }
   },
   "outputs": [],
   "source": [
    "grouped_df = df_player.groupby([\"House\", \"Quidditch\"])"
   ]
  },
  {
   "cell_type": "code",
   "execution_count": 21,
   "metadata": {
    "slideshow": {
     "slide_type": "fragment"
    }
   },
   "outputs": [
    {
     "data": {
      "text/html": [
       "<div>\n",
       "<style scoped>\n",
       "    .dataframe tbody tr th:only-of-type {\n",
       "        vertical-align: middle;\n",
       "    }\n",
       "\n",
       "    .dataframe tbody tr th {\n",
       "        vertical-align: top;\n",
       "    }\n",
       "\n",
       "    .dataframe thead th {\n",
       "        text-align: right;\n",
       "    }\n",
       "</style>\n",
       "<table border=\"1\" class=\"dataframe\">\n",
       "  <thead>\n",
       "    <tr style=\"text-align: right;\">\n",
       "      <th></th>\n",
       "      <th></th>\n",
       "      <th>Potion_Ave</th>\n",
       "      <th>Charm_Ave</th>\n",
       "    </tr>\n",
       "    <tr>\n",
       "      <th>House</th>\n",
       "      <th>Quidditch</th>\n",
       "      <th></th>\n",
       "      <th></th>\n",
       "    </tr>\n",
       "  </thead>\n",
       "  <tbody>\n",
       "    <tr>\n",
       "      <th rowspan=\"2\" valign=\"top\">Gryffindor</th>\n",
       "      <th>No</th>\n",
       "      <td>80.00</td>\n",
       "      <td>82.50</td>\n",
       "    </tr>\n",
       "    <tr>\n",
       "      <th>Yes</th>\n",
       "      <td>85.50</td>\n",
       "      <td>88.75</td>\n",
       "    </tr>\n",
       "    <tr>\n",
       "      <th rowspan=\"2\" valign=\"top\">Hufflepuff</th>\n",
       "      <th>No</th>\n",
       "      <td>80.75</td>\n",
       "      <td>82.25</td>\n",
       "    </tr>\n",
       "    <tr>\n",
       "      <th>Yes</th>\n",
       "      <td>80.75</td>\n",
       "      <td>84.25</td>\n",
       "    </tr>\n",
       "    <tr>\n",
       "      <th rowspan=\"2\" valign=\"top\">Ravenclaw</th>\n",
       "      <th>No</th>\n",
       "      <td>85.75</td>\n",
       "      <td>87.50</td>\n",
       "    </tr>\n",
       "    <tr>\n",
       "      <th>Yes</th>\n",
       "      <td>87.25</td>\n",
       "      <td>86.75</td>\n",
       "    </tr>\n",
       "    <tr>\n",
       "      <th rowspan=\"2\" valign=\"top\">Slytherin</th>\n",
       "      <th>No</th>\n",
       "      <td>69.25</td>\n",
       "      <td>65.25</td>\n",
       "    </tr>\n",
       "    <tr>\n",
       "      <th>Yes</th>\n",
       "      <td>74.25</td>\n",
       "      <td>70.50</td>\n",
       "    </tr>\n",
       "  </tbody>\n",
       "</table>\n",
       "</div>"
      ],
      "text/plain": [
       "                      Potion_Ave  Charm_Ave\n",
       "House      Quidditch                       \n",
       "Gryffindor No              80.00      82.50\n",
       "           Yes             85.50      88.75\n",
       "Hufflepuff No              80.75      82.25\n",
       "           Yes             80.75      84.25\n",
       "Ravenclaw  No              85.75      87.50\n",
       "           Yes             87.25      86.75\n",
       "Slytherin  No              69.25      65.25\n",
       "           Yes             74.25      70.50"
      ]
     },
     "execution_count": 21,
     "metadata": {},
     "output_type": "execute_result"
    }
   ],
   "source": [
    "grouped_df.mean()"
   ]
  },
  {
   "cell_type": "markdown",
   "metadata": {
    "slideshow": {
     "slide_type": "skip"
    }
   },
   "source": [
    "<a id=\"5\"></a>"
   ]
  },
  {
   "cell_type": "markdown",
   "metadata": {
    "slideshow": {
     "slide_type": "slide"
    }
   },
   "source": [
    "  \n",
    "## 5. Aggregation Methods for GroupBy Objects\n",
    "* Can call aggregation methods on GroupBy objects using the **agg()** method\n",
    "* **groupby_object.agg([\"list of aggregation methods\"])**"
   ]
  },
  {
   "cell_type": "code",
   "execution_count": 22,
   "metadata": {},
   "outputs": [
    {
     "data": {
      "text/html": [
       "<div>\n",
       "<style scoped>\n",
       "    .dataframe tbody tr th:only-of-type {\n",
       "        vertical-align: middle;\n",
       "    }\n",
       "\n",
       "    .dataframe tbody tr th {\n",
       "        vertical-align: top;\n",
       "    }\n",
       "\n",
       "    .dataframe thead th {\n",
       "        text-align: right;\n",
       "    }\n",
       "</style>\n",
       "<table border=\"1\" class=\"dataframe\">\n",
       "  <thead>\n",
       "    <tr style=\"text-align: right;\">\n",
       "      <th></th>\n",
       "      <th></th>\n",
       "      <th>Potion_Ave</th>\n",
       "      <th>Charm_Ave</th>\n",
       "    </tr>\n",
       "    <tr>\n",
       "      <th>House</th>\n",
       "      <th>Quidditch</th>\n",
       "      <th></th>\n",
       "      <th></th>\n",
       "    </tr>\n",
       "  </thead>\n",
       "  <tbody>\n",
       "    <tr>\n",
       "      <th rowspan=\"2\" valign=\"top\">Gryffindor</th>\n",
       "      <th>No</th>\n",
       "      <td>80.00</td>\n",
       "      <td>82.50</td>\n",
       "    </tr>\n",
       "    <tr>\n",
       "      <th>Yes</th>\n",
       "      <td>85.50</td>\n",
       "      <td>88.75</td>\n",
       "    </tr>\n",
       "    <tr>\n",
       "      <th rowspan=\"2\" valign=\"top\">Hufflepuff</th>\n",
       "      <th>No</th>\n",
       "      <td>80.75</td>\n",
       "      <td>82.25</td>\n",
       "    </tr>\n",
       "    <tr>\n",
       "      <th>Yes</th>\n",
       "      <td>80.75</td>\n",
       "      <td>84.25</td>\n",
       "    </tr>\n",
       "    <tr>\n",
       "      <th rowspan=\"2\" valign=\"top\">Ravenclaw</th>\n",
       "      <th>No</th>\n",
       "      <td>85.75</td>\n",
       "      <td>87.50</td>\n",
       "    </tr>\n",
       "    <tr>\n",
       "      <th>Yes</th>\n",
       "      <td>87.25</td>\n",
       "      <td>86.75</td>\n",
       "    </tr>\n",
       "    <tr>\n",
       "      <th rowspan=\"2\" valign=\"top\">Slytherin</th>\n",
       "      <th>No</th>\n",
       "      <td>69.25</td>\n",
       "      <td>65.25</td>\n",
       "    </tr>\n",
       "    <tr>\n",
       "      <th>Yes</th>\n",
       "      <td>74.25</td>\n",
       "      <td>70.50</td>\n",
       "    </tr>\n",
       "  </tbody>\n",
       "</table>\n",
       "</div>"
      ],
      "text/plain": [
       "                      Potion_Ave  Charm_Ave\n",
       "House      Quidditch                       \n",
       "Gryffindor No              80.00      82.50\n",
       "           Yes             85.50      88.75\n",
       "Hufflepuff No              80.75      82.25\n",
       "           Yes             80.75      84.25\n",
       "Ravenclaw  No              85.75      87.50\n",
       "           Yes             87.25      86.75\n",
       "Slytherin  No              69.25      65.25\n",
       "           Yes             74.25      70.50"
      ]
     },
     "execution_count": 22,
     "metadata": {},
     "output_type": "execute_result"
    }
   ],
   "source": [
    "grouped_df.agg(\"mean\")"
   ]
  },
  {
   "cell_type": "code",
   "execution_count": 23,
   "metadata": {
    "slideshow": {
     "slide_type": "subslide"
    }
   },
   "outputs": [
    {
     "data": {
      "text/html": [
       "<div>\n",
       "<style scoped>\n",
       "    .dataframe tbody tr th:only-of-type {\n",
       "        vertical-align: middle;\n",
       "    }\n",
       "\n",
       "    .dataframe tbody tr th {\n",
       "        vertical-align: top;\n",
       "    }\n",
       "\n",
       "    .dataframe thead tr th {\n",
       "        text-align: left;\n",
       "    }\n",
       "\n",
       "    .dataframe thead tr:last-of-type th {\n",
       "        text-align: right;\n",
       "    }\n",
       "</style>\n",
       "<table border=\"1\" class=\"dataframe\">\n",
       "  <thead>\n",
       "    <tr>\n",
       "      <th></th>\n",
       "      <th></th>\n",
       "      <th colspan=\"3\" halign=\"left\">Potion_Ave</th>\n",
       "      <th colspan=\"3\" halign=\"left\">Charm_Ave</th>\n",
       "    </tr>\n",
       "    <tr>\n",
       "      <th></th>\n",
       "      <th></th>\n",
       "      <th>count</th>\n",
       "      <th>mean</th>\n",
       "      <th>std</th>\n",
       "      <th>count</th>\n",
       "      <th>mean</th>\n",
       "      <th>std</th>\n",
       "    </tr>\n",
       "    <tr>\n",
       "      <th>House</th>\n",
       "      <th>Quidditch</th>\n",
       "      <th></th>\n",
       "      <th></th>\n",
       "      <th></th>\n",
       "      <th></th>\n",
       "      <th></th>\n",
       "      <th></th>\n",
       "    </tr>\n",
       "  </thead>\n",
       "  <tbody>\n",
       "    <tr>\n",
       "      <th rowspan=\"2\" valign=\"top\">Gryffindor</th>\n",
       "      <th>No</th>\n",
       "      <td>2</td>\n",
       "      <td>80.00</td>\n",
       "      <td>28.28</td>\n",
       "      <td>2</td>\n",
       "      <td>82.50</td>\n",
       "      <td>24.75</td>\n",
       "    </tr>\n",
       "    <tr>\n",
       "      <th>Yes</th>\n",
       "      <td>2</td>\n",
       "      <td>85.50</td>\n",
       "      <td>3.54</td>\n",
       "      <td>2</td>\n",
       "      <td>88.75</td>\n",
       "      <td>1.77</td>\n",
       "    </tr>\n",
       "    <tr>\n",
       "      <th rowspan=\"2\" valign=\"top\">Hufflepuff</th>\n",
       "      <th>No</th>\n",
       "      <td>2</td>\n",
       "      <td>80.75</td>\n",
       "      <td>0.35</td>\n",
       "      <td>2</td>\n",
       "      <td>82.25</td>\n",
       "      <td>3.18</td>\n",
       "    </tr>\n",
       "    <tr>\n",
       "      <th>Yes</th>\n",
       "      <td>2</td>\n",
       "      <td>80.75</td>\n",
       "      <td>4.60</td>\n",
       "      <td>2</td>\n",
       "      <td>84.25</td>\n",
       "      <td>1.06</td>\n",
       "    </tr>\n",
       "    <tr>\n",
       "      <th rowspan=\"2\" valign=\"top\">Ravenclaw</th>\n",
       "      <th>No</th>\n",
       "      <td>2</td>\n",
       "      <td>85.75</td>\n",
       "      <td>1.06</td>\n",
       "      <td>2</td>\n",
       "      <td>87.50</td>\n",
       "      <td>4.95</td>\n",
       "    </tr>\n",
       "    <tr>\n",
       "      <th>Yes</th>\n",
       "      <td>2</td>\n",
       "      <td>87.25</td>\n",
       "      <td>2.47</td>\n",
       "      <td>2</td>\n",
       "      <td>86.75</td>\n",
       "      <td>0.35</td>\n",
       "    </tr>\n",
       "    <tr>\n",
       "      <th rowspan=\"2\" valign=\"top\">Slytherin</th>\n",
       "      <th>No</th>\n",
       "      <td>2</td>\n",
       "      <td>69.25</td>\n",
       "      <td>3.89</td>\n",
       "      <td>2</td>\n",
       "      <td>65.25</td>\n",
       "      <td>8.13</td>\n",
       "    </tr>\n",
       "    <tr>\n",
       "      <th>Yes</th>\n",
       "      <td>2</td>\n",
       "      <td>74.25</td>\n",
       "      <td>14.50</td>\n",
       "      <td>2</td>\n",
       "      <td>70.50</td>\n",
       "      <td>14.85</td>\n",
       "    </tr>\n",
       "  </tbody>\n",
       "</table>\n",
       "</div>"
      ],
      "text/plain": [
       "                     Potion_Ave               Charm_Ave              \n",
       "                          count   mean    std     count   mean    std\n",
       "House      Quidditch                                                 \n",
       "Gryffindor No                 2  80.00  28.28         2  82.50  24.75\n",
       "           Yes                2  85.50   3.54         2  88.75   1.77\n",
       "Hufflepuff No                 2  80.75   0.35         2  82.25   3.18\n",
       "           Yes                2  80.75   4.60         2  84.25   1.06\n",
       "Ravenclaw  No                 2  85.75   1.06         2  87.50   4.95\n",
       "           Yes                2  87.25   2.47         2  86.75   0.35\n",
       "Slytherin  No                 2  69.25   3.89         2  65.25   8.13\n",
       "           Yes                2  74.25  14.50         2  70.50  14.85"
      ]
     },
     "execution_count": 23,
     "metadata": {},
     "output_type": "execute_result"
    }
   ],
   "source": [
    "grouped_df.agg([\"count\", \"mean\", \"std\"])"
   ]
  },
  {
   "cell_type": "markdown",
   "metadata": {
    "slideshow": {
     "slide_type": "subslide"
    }
   },
   "source": [
    "#### How would you modify the previous code snippet to get the same stats, count, mean, std, for Quidditch players vs. non-players"
   ]
  },
  {
   "cell_type": "code",
   "execution_count": 24,
   "metadata": {
    "slideshow": {
     "slide_type": "fragment"
    }
   },
   "outputs": [
    {
     "data": {
      "text/html": [
       "<div>\n",
       "<style scoped>\n",
       "    .dataframe tbody tr th:only-of-type {\n",
       "        vertical-align: middle;\n",
       "    }\n",
       "\n",
       "    .dataframe tbody tr th {\n",
       "        vertical-align: top;\n",
       "    }\n",
       "\n",
       "    .dataframe thead tr th {\n",
       "        text-align: left;\n",
       "    }\n",
       "\n",
       "    .dataframe thead tr:last-of-type th {\n",
       "        text-align: right;\n",
       "    }\n",
       "</style>\n",
       "<table border=\"1\" class=\"dataframe\">\n",
       "  <thead>\n",
       "    <tr>\n",
       "      <th></th>\n",
       "      <th colspan=\"3\" halign=\"left\">Potion_Ave</th>\n",
       "      <th colspan=\"3\" halign=\"left\">Charm_Ave</th>\n",
       "    </tr>\n",
       "    <tr>\n",
       "      <th></th>\n",
       "      <th>count</th>\n",
       "      <th>mean</th>\n",
       "      <th>std</th>\n",
       "      <th>count</th>\n",
       "      <th>mean</th>\n",
       "      <th>std</th>\n",
       "    </tr>\n",
       "    <tr>\n",
       "      <th>Quidditch</th>\n",
       "      <th></th>\n",
       "      <th></th>\n",
       "      <th></th>\n",
       "      <th></th>\n",
       "      <th></th>\n",
       "      <th></th>\n",
       "    </tr>\n",
       "  </thead>\n",
       "  <tbody>\n",
       "    <tr>\n",
       "      <th>No</th>\n",
       "      <td>8</td>\n",
       "      <td>78.94</td>\n",
       "      <td>12.57</td>\n",
       "      <td>8</td>\n",
       "      <td>79.38</td>\n",
       "      <td>13.52</td>\n",
       "    </tr>\n",
       "    <tr>\n",
       "      <th>Yes</th>\n",
       "      <td>8</td>\n",
       "      <td>81.94</td>\n",
       "      <td>8.04</td>\n",
       "      <td>8</td>\n",
       "      <td>82.56</td>\n",
       "      <td>9.51</td>\n",
       "    </tr>\n",
       "  </tbody>\n",
       "</table>\n",
       "</div>"
      ],
      "text/plain": [
       "          Potion_Ave               Charm_Ave              \n",
       "               count   mean    std     count   mean    std\n",
       "Quidditch                                                 \n",
       "No                 8  78.94  12.57         8  79.38  13.52\n",
       "Yes                8  81.94   8.04         8  82.56   9.51"
      ]
     },
     "execution_count": 24,
     "metadata": {},
     "output_type": "execute_result"
    }
   ],
   "source": [
    "df_player.groupby(\"Quidditch\").agg([\"count\", \"mean\", \"std\"])"
   ]
  },
  {
   "cell_type": "markdown",
   "metadata": {
    "slideshow": {
     "slide_type": "subslide"
    }
   },
   "source": [
    "### 5.1. Custom Aggregation Functions\n",
    "* Can define and apply your custom functions to DataFrame rows/columns using the **agg()** method"
   ]
  },
  {
   "cell_type": "code",
   "execution_count": 25,
   "metadata": {},
   "outputs": [],
   "source": [
    "def letter_grade (grade):\n",
    "    '''simple function that takes a Series object containing grades and \n",
    "    returns the letter grade for the average of these grades\n",
    "    '''\n",
    "    if grade.mean() > 80:\n",
    "        return \"B\"\n",
    "    else:\n",
    "        return \"C+\""
   ]
  },
  {
   "cell_type": "code",
   "execution_count": 26,
   "metadata": {
    "slideshow": {
     "slide_type": "fragment"
    }
   },
   "outputs": [
    {
     "data": {
      "text/html": [
       "<div>\n",
       "<style scoped>\n",
       "    .dataframe tbody tr th:only-of-type {\n",
       "        vertical-align: middle;\n",
       "    }\n",
       "\n",
       "    .dataframe tbody tr th {\n",
       "        vertical-align: top;\n",
       "    }\n",
       "\n",
       "    .dataframe thead th {\n",
       "        text-align: right;\n",
       "    }\n",
       "</style>\n",
       "<table border=\"1\" class=\"dataframe\">\n",
       "  <thead>\n",
       "    <tr style=\"text-align: right;\">\n",
       "      <th></th>\n",
       "      <th>Potion_Ave</th>\n",
       "      <th>Charm_Ave</th>\n",
       "    </tr>\n",
       "    <tr>\n",
       "      <th>House</th>\n",
       "      <th></th>\n",
       "      <th></th>\n",
       "    </tr>\n",
       "  </thead>\n",
       "  <tbody>\n",
       "    <tr>\n",
       "      <th>Gryffindor</th>\n",
       "      <td>B</td>\n",
       "      <td>B</td>\n",
       "    </tr>\n",
       "    <tr>\n",
       "      <th>Hufflepuff</th>\n",
       "      <td>B</td>\n",
       "      <td>B</td>\n",
       "    </tr>\n",
       "    <tr>\n",
       "      <th>Ravenclaw</th>\n",
       "      <td>B</td>\n",
       "      <td>B</td>\n",
       "    </tr>\n",
       "    <tr>\n",
       "      <th>Slytherin</th>\n",
       "      <td>C+</td>\n",
       "      <td>C+</td>\n",
       "    </tr>\n",
       "  </tbody>\n",
       "</table>\n",
       "</div>"
      ],
      "text/plain": [
       "           Potion_Ave Charm_Ave\n",
       "House                          \n",
       "Gryffindor          B         B\n",
       "Hufflepuff          B         B\n",
       "Ravenclaw           B         B\n",
       "Slytherin          C+        C+"
      ]
     },
     "execution_count": 26,
     "metadata": {},
     "output_type": "execute_result"
    }
   ],
   "source": [
    "df_player.groupby(\"House\").agg(letter_grade)"
   ]
  },
  {
   "cell_type": "code",
   "execution_count": 27,
   "metadata": {
    "slideshow": {
     "slide_type": "subslide"
    }
   },
   "outputs": [
    {
     "data": {
      "text/html": [
       "<div>\n",
       "<style scoped>\n",
       "    .dataframe tbody tr th:only-of-type {\n",
       "        vertical-align: middle;\n",
       "    }\n",
       "\n",
       "    .dataframe tbody tr th {\n",
       "        vertical-align: top;\n",
       "    }\n",
       "\n",
       "    .dataframe thead tr th {\n",
       "        text-align: left;\n",
       "    }\n",
       "\n",
       "    .dataframe thead tr:last-of-type th {\n",
       "        text-align: right;\n",
       "    }\n",
       "</style>\n",
       "<table border=\"1\" class=\"dataframe\">\n",
       "  <thead>\n",
       "    <tr>\n",
       "      <th></th>\n",
       "      <th colspan=\"4\" halign=\"left\">Potion_Ave</th>\n",
       "      <th colspan=\"4\" halign=\"left\">Charm_Ave</th>\n",
       "    </tr>\n",
       "    <tr>\n",
       "      <th></th>\n",
       "      <th>count</th>\n",
       "      <th>mean</th>\n",
       "      <th>std</th>\n",
       "      <th>letter_grade</th>\n",
       "      <th>count</th>\n",
       "      <th>mean</th>\n",
       "      <th>std</th>\n",
       "      <th>letter_grade</th>\n",
       "    </tr>\n",
       "    <tr>\n",
       "      <th>Quidditch</th>\n",
       "      <th></th>\n",
       "      <th></th>\n",
       "      <th></th>\n",
       "      <th></th>\n",
       "      <th></th>\n",
       "      <th></th>\n",
       "      <th></th>\n",
       "      <th></th>\n",
       "    </tr>\n",
       "  </thead>\n",
       "  <tbody>\n",
       "    <tr>\n",
       "      <th>No</th>\n",
       "      <td>8</td>\n",
       "      <td>78.94</td>\n",
       "      <td>12.57</td>\n",
       "      <td>C+</td>\n",
       "      <td>8</td>\n",
       "      <td>79.38</td>\n",
       "      <td>13.52</td>\n",
       "      <td>C+</td>\n",
       "    </tr>\n",
       "    <tr>\n",
       "      <th>Yes</th>\n",
       "      <td>8</td>\n",
       "      <td>81.94</td>\n",
       "      <td>8.04</td>\n",
       "      <td>B</td>\n",
       "      <td>8</td>\n",
       "      <td>82.56</td>\n",
       "      <td>9.51</td>\n",
       "      <td>B</td>\n",
       "    </tr>\n",
       "  </tbody>\n",
       "</table>\n",
       "</div>"
      ],
      "text/plain": [
       "          Potion_Ave                            Charm_Ave                \\\n",
       "               count   mean    std letter_grade     count   mean    std   \n",
       "Quidditch                                                                 \n",
       "No                 8  78.94  12.57           C+         8  79.38  13.52   \n",
       "Yes                8  81.94   8.04            B         8  82.56   9.51   \n",
       "\n",
       "                        \n",
       "          letter_grade  \n",
       "Quidditch               \n",
       "No                  C+  \n",
       "Yes                  B  "
      ]
     },
     "execution_count": 27,
     "metadata": {},
     "output_type": "execute_result"
    }
   ],
   "source": [
    "df_player.groupby(\"Quidditch\").agg([\"count\", \"mean\", \"std\", letter_grade])"
   ]
  },
  {
   "cell_type": "markdown",
   "metadata": {
    "slideshow": {
     "slide_type": "subslide"
    }
   },
   "source": [
    "### 5.2. Applying Different Functions to Different Columns\n",
    "* Pass in a dictionary of column names and function names"
   ]
  },
  {
   "cell_type": "code",
   "execution_count": 28,
   "metadata": {},
   "outputs": [],
   "source": [
    "def pass_fail_grade (grade):\n",
    "    '''simple function that takes a Series object containing grades and \n",
    "    returns the letter grade for the average of these grades\n",
    "    '''\n",
    "    if grade.mean() > 65:\n",
    "        return \"Pass\"\n",
    "    else:\n",
    "        return \"Fail\""
   ]
  },
  {
   "cell_type": "code",
   "execution_count": 29,
   "metadata": {},
   "outputs": [
    {
     "data": {
      "text/html": [
       "<div>\n",
       "<style scoped>\n",
       "    .dataframe tbody tr th:only-of-type {\n",
       "        vertical-align: middle;\n",
       "    }\n",
       "\n",
       "    .dataframe tbody tr th {\n",
       "        vertical-align: top;\n",
       "    }\n",
       "\n",
       "    .dataframe thead th {\n",
       "        text-align: right;\n",
       "    }\n",
       "</style>\n",
       "<table border=\"1\" class=\"dataframe\">\n",
       "  <thead>\n",
       "    <tr style=\"text-align: right;\">\n",
       "      <th></th>\n",
       "      <th></th>\n",
       "      <th>Potion_Ave</th>\n",
       "      <th>Charm_Ave</th>\n",
       "    </tr>\n",
       "    <tr>\n",
       "      <th>House</th>\n",
       "      <th>Quidditch</th>\n",
       "      <th></th>\n",
       "      <th></th>\n",
       "    </tr>\n",
       "  </thead>\n",
       "  <tbody>\n",
       "    <tr>\n",
       "      <th rowspan=\"2\" valign=\"top\">Gryffindor</th>\n",
       "      <th>No</th>\n",
       "      <td>C+</td>\n",
       "      <td>Pass</td>\n",
       "    </tr>\n",
       "    <tr>\n",
       "      <th>Yes</th>\n",
       "      <td>B</td>\n",
       "      <td>Pass</td>\n",
       "    </tr>\n",
       "    <tr>\n",
       "      <th rowspan=\"2\" valign=\"top\">Hufflepuff</th>\n",
       "      <th>No</th>\n",
       "      <td>B</td>\n",
       "      <td>Pass</td>\n",
       "    </tr>\n",
       "    <tr>\n",
       "      <th>Yes</th>\n",
       "      <td>B</td>\n",
       "      <td>Pass</td>\n",
       "    </tr>\n",
       "    <tr>\n",
       "      <th rowspan=\"2\" valign=\"top\">Ravenclaw</th>\n",
       "      <th>No</th>\n",
       "      <td>B</td>\n",
       "      <td>Pass</td>\n",
       "    </tr>\n",
       "    <tr>\n",
       "      <th>Yes</th>\n",
       "      <td>B</td>\n",
       "      <td>Pass</td>\n",
       "    </tr>\n",
       "    <tr>\n",
       "      <th rowspan=\"2\" valign=\"top\">Slytherin</th>\n",
       "      <th>No</th>\n",
       "      <td>C+</td>\n",
       "      <td>Pass</td>\n",
       "    </tr>\n",
       "    <tr>\n",
       "      <th>Yes</th>\n",
       "      <td>C+</td>\n",
       "      <td>Pass</td>\n",
       "    </tr>\n",
       "  </tbody>\n",
       "</table>\n",
       "</div>"
      ],
      "text/plain": [
       "                     Potion_Ave Charm_Ave\n",
       "House      Quidditch                     \n",
       "Gryffindor No                C+      Pass\n",
       "           Yes                B      Pass\n",
       "Hufflepuff No                 B      Pass\n",
       "           Yes                B      Pass\n",
       "Ravenclaw  No                 B      Pass\n",
       "           Yes                B      Pass\n",
       "Slytherin  No                C+      Pass\n",
       "           Yes               C+      Pass"
      ]
     },
     "execution_count": 29,
     "metadata": {},
     "output_type": "execute_result"
    }
   ],
   "source": [
    "df_player.groupby([\"House\", \"Quidditch\"]).agg({\"Potion_Ave\": letter_grade, \"Charm_Ave\": pass_fail_grade})"
   ]
  },
  {
   "cell_type": "code",
   "execution_count": null,
   "metadata": {},
   "outputs": [],
   "source": []
  }
 ],
 "metadata": {
  "celltoolbar": "Slideshow",
  "kernelspec": {
   "display_name": "Python 3",
   "language": "python",
   "name": "python3"
  },
  "language_info": {
   "codemirror_mode": {
    "name": "ipython",
    "version": 3
   },
   "file_extension": ".py",
   "mimetype": "text/x-python",
   "name": "python",
   "nbconvert_exporter": "python",
   "pygments_lexer": "ipython3",
   "version": "3.6.5"
  }
 },
 "nbformat": 4,
 "nbformat_minor": 2
}

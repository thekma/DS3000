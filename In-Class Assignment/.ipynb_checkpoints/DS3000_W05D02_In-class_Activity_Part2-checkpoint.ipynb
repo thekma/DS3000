{
 "cells": [
  {
   "cell_type": "markdown",
   "metadata": {},
   "source": [
    "<center><h2> In-class Team Activity Part 2</h2></center>"
   ]
  },
  {
   "cell_type": "markdown",
   "metadata": {},
   "source": [
    "In this part of today's activity, you're going to scrape tweets using the Tweepy library and Twitter API.\n",
    "\n",
    "Download the TwitterCredentials.py file. One team member shoud complete the key information with their Twitter App information (the team member whose computer you are using as a team could volunteer to do this!)"
   ]
  },
  {
   "cell_type": "code",
   "execution_count": 4,
   "metadata": {},
   "outputs": [],
   "source": [
    "import tweepy\n",
    "import TwitterCredentials as keys\n",
    "import numpy as np\n",
    "import pandas as pd"
   ]
  },
  {
   "cell_type": "markdown",
   "metadata": {},
   "source": [
    "* Then identify a public Twitter account as a team. \n",
    "* You will retrieve this account's tweets. For the purposes of this activity, getting 300 tweets should be enough.\n",
    "\n",
    "* If you are stuck, you can scrape Northeastern President Aoun's tweets @PresidentAoun.\n",
    "* Lastly, write the DataFrame to a CSV file\n"
   ]
  },
  {
   "cell_type": "markdown",
   "metadata": {},
   "source": [
    "#### What to scrape:\n",
    "* Scrape your selected user's 300 tweets, when they posted the tweet, and the list of hashtags included in the tweets. \n",
    "* Then store these in a DataFrame as follows:\n",
    "    * Notice the hashtags are strings separated by commas."
   ]
  },
  {
   "cell_type": "code",
   "execution_count": 33,
   "metadata": {},
   "outputs": [
    {
     "data": {
      "text/html": [
       "<div>\n",
       "<style scoped>\n",
       "    .dataframe tbody tr th:only-of-type {\n",
       "        vertical-align: middle;\n",
       "    }\n",
       "\n",
       "    .dataframe tbody tr th {\n",
       "        vertical-align: top;\n",
       "    }\n",
       "\n",
       "    .dataframe thead th {\n",
       "        text-align: right;\n",
       "    }\n",
       "</style>\n",
       "<table border=\"1\" class=\"dataframe\">\n",
       "  <thead>\n",
       "    <tr style=\"text-align: right;\">\n",
       "      <th></th>\n",
       "      <th>Tweet</th>\n",
       "      <th>Time</th>\n",
       "      <th>Hashtags</th>\n",
       "    </tr>\n",
       "  </thead>\n",
       "  <tbody>\n",
       "    <tr>\n",
       "      <td>0</td>\n",
       "      <td>A new #Amazon network will expand your control...</td>\n",
       "      <td>2019-10-03 00:58:23</td>\n",
       "      <td>Amazon,cybersecurity</td>\n",
       "    </tr>\n",
       "    <tr>\n",
       "      <td>1</td>\n",
       "      <td>From hidden to written. @Northeastern research...</td>\n",
       "      <td>2019-10-01 00:02:19</td>\n",
       "      <td></td>\n",
       "    </tr>\n",
       "    <tr>\n",
       "      <td>2</td>\n",
       "      <td>A trailblazer in #Renaissance art had fallen i...</td>\n",
       "      <td>2019-09-28 00:57:43</td>\n",
       "      <td>Renaissance</td>\n",
       "    </tr>\n",
       "    <tr>\n",
       "      <td>3</td>\n",
       "      <td>Defining who is and isn’t a “swing” voter is a...</td>\n",
       "      <td>2019-09-27 01:34:26</td>\n",
       "      <td></td>\n",
       "    </tr>\n",
       "    <tr>\n",
       "      <td>4</td>\n",
       "      <td>More than 100 global leaders convened at @Nort...</td>\n",
       "      <td>2019-09-26 00:54:23</td>\n",
       "      <td></td>\n",
       "    </tr>\n",
       "  </tbody>\n",
       "</table>\n",
       "</div>"
      ],
      "text/plain": [
       "                                               Tweet                Time  \\\n",
       "0  A new #Amazon network will expand your control... 2019-10-03 00:58:23   \n",
       "1  From hidden to written. @Northeastern research... 2019-10-01 00:02:19   \n",
       "2  A trailblazer in #Renaissance art had fallen i... 2019-09-28 00:57:43   \n",
       "3  Defining who is and isn’t a “swing” voter is a... 2019-09-27 01:34:26   \n",
       "4  More than 100 global leaders convened at @Nort... 2019-09-26 00:54:23   \n",
       "\n",
       "               Hashtags  \n",
       "0  Amazon,cybersecurity  \n",
       "1                        \n",
       "2           Renaissance  \n",
       "3                        \n",
       "4                        "
      ]
     },
     "execution_count": 33,
     "metadata": {},
     "output_type": "execute_result"
    }
   ],
   "source": [
    "df.head()"
   ]
  },
  {
   "cell_type": "code",
   "execution_count": 32,
   "metadata": {
    "scrolled": true
   },
   "outputs": [
    {
     "data": {
      "text/html": [
       "<div>\n",
       "<style scoped>\n",
       "    .dataframe tbody tr th:only-of-type {\n",
       "        vertical-align: middle;\n",
       "    }\n",
       "\n",
       "    .dataframe tbody tr th {\n",
       "        vertical-align: top;\n",
       "    }\n",
       "\n",
       "    .dataframe thead th {\n",
       "        text-align: right;\n",
       "    }\n",
       "</style>\n",
       "<table border=\"1\" class=\"dataframe\">\n",
       "  <thead>\n",
       "    <tr style=\"text-align: right;\">\n",
       "      <th></th>\n",
       "      <th>Tweet</th>\n",
       "      <th>Time</th>\n",
       "      <th>Hashtags</th>\n",
       "    </tr>\n",
       "  </thead>\n",
       "  <tbody>\n",
       "    <tr>\n",
       "      <td>295</td>\n",
       "      <td>Robots are getting smarter. What rights do we ...</td>\n",
       "      <td>2018-02-17 00:07:58</td>\n",
       "      <td>AI,FutureOfWork</td>\n",
       "    </tr>\n",
       "    <tr>\n",
       "      <td>296</td>\n",
       "      <td>Congratulations to a great team and coach, on ...</td>\n",
       "      <td>2018-02-14 02:32:40</td>\n",
       "      <td>Beanpot</td>\n",
       "    </tr>\n",
       "    <tr>\n",
       "      <td>297</td>\n",
       "      <td>RT @Northeastern: .@GoNUmhockey presents the #...</td>\n",
       "      <td>2018-02-13 04:14:18</td>\n",
       "      <td>Beanpot,GoNU</td>\n",
       "    </tr>\n",
       "    <tr>\n",
       "      <td>298</td>\n",
       "      <td>Humans  backing machines #AI @WIRED https://t....</td>\n",
       "      <td>2018-02-09 21:10:16</td>\n",
       "      <td>AI</td>\n",
       "    </tr>\n",
       "    <tr>\n",
       "      <td>299</td>\n",
       "      <td>What makes us uniquely human will make us robo...</td>\n",
       "      <td>2018-02-08 19:41:22</td>\n",
       "      <td></td>\n",
       "    </tr>\n",
       "  </tbody>\n",
       "</table>\n",
       "</div>"
      ],
      "text/plain": [
       "                                                 Tweet                Time  \\\n",
       "295  Robots are getting smarter. What rights do we ... 2018-02-17 00:07:58   \n",
       "296  Congratulations to a great team and coach, on ... 2018-02-14 02:32:40   \n",
       "297  RT @Northeastern: .@GoNUmhockey presents the #... 2018-02-13 04:14:18   \n",
       "298  Humans  backing machines #AI @WIRED https://t.... 2018-02-09 21:10:16   \n",
       "299  What makes us uniquely human will make us robo... 2018-02-08 19:41:22   \n",
       "\n",
       "            Hashtags  \n",
       "295  AI,FutureOfWork  \n",
       "296          Beanpot  \n",
       "297     Beanpot,GoNU  \n",
       "298               AI  \n",
       "299                   "
      ]
     },
     "execution_count": 32,
     "metadata": {},
     "output_type": "execute_result"
    }
   ],
   "source": [
    "df.tail()"
   ]
  },
  {
   "cell_type": "code",
   "execution_count": 14,
   "metadata": {},
   "outputs": [
    {
     "name": "stdout",
     "output_type": "stream",
     "text": [
      "75% of Canadian and British respondents to a @Northeastern and @Gallup poll think #UBI should play a role in the age of AI. @HuffPosthttps://www.huffingtonpost.ca/entry/universal-basic-income_ca_5d937ed4e4b0019647af9ef4 …\n",
      "Congratulations, @zipporahosei on receiving the David W. Miller Award for Young Journalists from the @chronicle. Great recognition for a great writer.https://www.chronicle.com/article/Northeastern-U-Senior-Wins/247295 …\n",
      "Even when they’re not in use, your “smart” devices send data to companies like #Netflix and #Facebook found @Northeastern researchers. @voxdotcom @Recode @ranimollahttps://www.vox.com/recode/2019/9/20/20875755/smart-devices-listening-human-reviewers-portal-alexa-siri-assistant …\n",
      "#Instagram photos and person-on-the-street interviews feed a digital, community news archive by @Northeastern student-reporters. @Poynter @meg_heckman @TheScopeNUhttps://www.poynter.org/reporting-editing/2019/how-this-j-school-brought-real-world-reporting-into-the-classroom/ …\n",
      "A new #Amazon network will expand your control of your Bluetooth devices. But it also raises new #cybersecurity questions, says @KhouryCollege computer scientist Engin Kirda. @CNEThttps://www.cnet.com/news/amazon-sidewalk-extends-your-network-but-security-is-already-in-question/ …\n",
      "From hidden to written. @Northeastern researchers unearth archival materials for the public in new @MellonFdn, @BPLBoston project. @BostonGlobe @maysoonkhann @dancohenhttps://www.bostonglobe.com/metro/2019/09/29/boston-research-center-embarks-archival-mission/tPD41PvYEUs7QETO6q47nJ/story.html …\n",
      "A trailblazer in #Renaissance art had fallen into obscurity. But a new @frickcollection exhibition corrects that “historical neglect,” writes @Northeastern’s Cammy Brothers. @WSJhttps://www.wsj.com/articles/bertoldo-di-giovanni-the-renaissance-of-sculpture-in-medici-florence-review-out-of-the-shadows-11569443926 …\n",
      "Defining who is and isn’t a “swing” voter is a challenge, but @Northeastern political scientist William Mayer has taken it on. @FiveThirtyEight @geoffreyvshttps://fivethirtyeight.com/features/just-how-many-swing-voters-are-there/ …\n",
      "More than 100 global leaders convened at @Northeastern for today’s inaugural Paris-Boston Women’s Forum. Thank you to leaders, colleagues from @Harvard, @BrownUniversity, @UnivParisSaclay and @psl_univ for your great insights into these important issues. ⁦@FranceinBoston⁩pic.twitter.com/JJkpW06dGd\n",
      "Great conversation today with @DARPA director Steve Walker about partnerships, national defense research, and #AI that starts with humans. @CSISpic.twitter.com/BZbHtOgwE2\n",
      "Your city as a social network. A new @Northeastern, @Harvard study examines social connectedness and its effects on neighborhoods. @CityLabhttps://www.citylab.com/life/2019/09/social-network-urban-travel-city-neighborhood-twitter-data/598123/ …\n",
      "#LeonardodaVinci’s mentor has spent history in his shadow. Until now, writes @Northeastern art and architecture expert Cammy Brothers in @WSJ. @ngadchttps://www.wsj.com/articles/verrocchio-sculptor-and-painter-of-renaissance-florence-review-reclaiming-the-teacher-surpassed-by-the-pupil-11568837562 …\n",
      "You are being outsmarted by your smart TV, found @Northeastern’s @proffnes, team. Streaming devices and smart TVs are sending user data to #Netflix, #Google, advertisers. @Madhumita29 @FT @KhouryCollegehttps://www.ft.com/content/23ab2f68-d957-11e9-8f9b-77216ebe1f17 …\n",
      "Shipworms are feasting on wood in the New York Harbor. These marine borers have plagued port cities around the world for centuries, Dan Distel of @Northeastern’s @oceangenome tells @nytimes. @WinnHuhttps://www.nytimes.com/2019/09/13/nyregion/ny-harbor-wood-eating-shipworms.html …\n",
      "Instagram users know: #LebronJames has made a mark on #TacoTuesday. But will he get an official trademark? @wgbhnews asked @Northeastern law professor @JSilbey.https://www.wgbh.org/news/lifestyle/2019/09/10/can-you-actually-trademark-common-phrases-like-taco-tuesday …\n",
      "Humans could camouflage themselves like chameleons with “smart” skins. But it may be a long time before they’re commercially available, @Northeastern biochemist Leila Deravi tells @NatGeo. @NU_designbiohttps://www.nationalgeographic.com/animals/2019/09/chameleon-inspired-smart-skin-changes-color/ …\n",
      "A friendly (family) competition. Sibling solidarity can boost your performance during a workout, says @Northeastern psychologist Laurie Kramer. @WSJhttps://www.wsj.com/articles/how-shaquem-griffin-works-to-stay-in-the-nfl-with-one-hand-11567947301 …\n",
      "You say “It’s actually” but your #AmazonEcho hears “Alexa.” Dialogue can fool your device into hearing wake words, found @proffnes and @DanielJDubois of @Northeastern. @ConsumerReports #cybersecurityhttps://www.consumerreports.org/smart-speakers/smart-speakers-that-listen-when-they-shouldnt/ …\n",
      "A flight over waterfalls in Iceland or a trip down ski slopes. These #virtualreality scenes could motivate #physicaltherapy patients on their road to recovery, says @DanielleLevac of @Northeastern. @USNewsHealth #VRhttps://health.usnews.com/health-care/patient-advice/articles/virtual-reality-in-medicine …\n",
      "To our newest @Northeastern freshman class: Don’t play it safe. You are the innovators and explorers who will shape a better world. Can’t wait to see where your #NUexperience takes you.pic.twitter.com/ZGevK5bYhh\n"
     ]
    }
   ],
   "source": [
    "twitter_pro = \"https://twitter.com/elonmusk\"\n",
    "\n",
    "\n",
    "\n",
    "#let the magic begin"
   ]
  },
  {
   "cell_type": "code",
   "execution_count": null,
   "metadata": {},
   "outputs": [],
   "source": []
  }
 ],
 "metadata": {
  "kernelspec": {
   "display_name": "Python 3",
   "language": "python",
   "name": "python3"
  },
  "language_info": {
   "codemirror_mode": {
    "name": "ipython",
    "version": 3
   },
   "file_extension": ".py",
   "mimetype": "text/x-python",
   "name": "python",
   "nbconvert_exporter": "python",
   "pygments_lexer": "ipython3",
   "version": "3.6.5"
  }
 },
 "nbformat": 4,
 "nbformat_minor": 2
}

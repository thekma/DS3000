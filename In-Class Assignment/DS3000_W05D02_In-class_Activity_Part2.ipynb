{
 "cells": [
  {
   "cell_type": "markdown",
   "metadata": {},
   "source": [
    "<center><h2> In-class Team Activity Part 2</h2></center>"
   ]
  },
  {
   "cell_type": "markdown",
   "metadata": {},
   "source": [
    "In this part of today's activity, you're going to scrape tweets using the Tweepy library and Twitter API.\n",
    "\n",
    "Download the TwitterCredentials.py file. One team member shoud complete the key information with their Twitter App information (the team member whose computer you are using as a team could volunteer to do this!)"
   ]
  },
  {
   "cell_type": "code",
   "execution_count": 2,
   "metadata": {},
   "outputs": [],
   "source": [
    "import tweepy\n",
    "import TwitterCredentials as keys\n",
    "import numpy as np\n",
    "import pandas as pd"
   ]
  },
  {
   "cell_type": "markdown",
   "metadata": {},
   "source": [
    "* Then identify a public Twitter account as a team. \n",
    "* You will retrieve this account's tweets. For the purposes of this activity, getting 300 tweets should be enough.\n",
    "\n",
    "* If you are stuck, you can scrape Northeastern President Aoun's tweets @PresidentAoun.\n",
    "* Lastly, write the DataFrame to a CSV file\n"
   ]
  },
  {
   "cell_type": "markdown",
   "metadata": {},
   "source": [
    "#### What to scrape:\n",
    "* Scrape your selected user's 300 tweets, when they posted the tweet, and the list of hashtags included in the tweets. \n",
    "* Then store these in a DataFrame as follows:\n",
    "    * Notice the hashtags are strings separated by commas."
   ]
  },
  {
   "cell_type": "code",
   "execution_count": 33,
   "metadata": {},
   "outputs": [
    {
     "data": {
      "text/html": [
       "<div>\n",
       "<style scoped>\n",
       "    .dataframe tbody tr th:only-of-type {\n",
       "        vertical-align: middle;\n",
       "    }\n",
       "\n",
       "    .dataframe tbody tr th {\n",
       "        vertical-align: top;\n",
       "    }\n",
       "\n",
       "    .dataframe thead th {\n",
       "        text-align: right;\n",
       "    }\n",
       "</style>\n",
       "<table border=\"1\" class=\"dataframe\">\n",
       "  <thead>\n",
       "    <tr style=\"text-align: right;\">\n",
       "      <th></th>\n",
       "      <th>Tweet</th>\n",
       "      <th>Time</th>\n",
       "      <th>Hashtags</th>\n",
       "    </tr>\n",
       "  </thead>\n",
       "  <tbody>\n",
       "    <tr>\n",
       "      <td>0</td>\n",
       "      <td>A new #Amazon network will expand your control...</td>\n",
       "      <td>2019-10-03 00:58:23</td>\n",
       "      <td>Amazon,cybersecurity</td>\n",
       "    </tr>\n",
       "    <tr>\n",
       "      <td>1</td>\n",
       "      <td>From hidden to written. @Northeastern research...</td>\n",
       "      <td>2019-10-01 00:02:19</td>\n",
       "      <td></td>\n",
       "    </tr>\n",
       "    <tr>\n",
       "      <td>2</td>\n",
       "      <td>A trailblazer in #Renaissance art had fallen i...</td>\n",
       "      <td>2019-09-28 00:57:43</td>\n",
       "      <td>Renaissance</td>\n",
       "    </tr>\n",
       "    <tr>\n",
       "      <td>3</td>\n",
       "      <td>Defining who is and isn’t a “swing” voter is a...</td>\n",
       "      <td>2019-09-27 01:34:26</td>\n",
       "      <td></td>\n",
       "    </tr>\n",
       "    <tr>\n",
       "      <td>4</td>\n",
       "      <td>More than 100 global leaders convened at @Nort...</td>\n",
       "      <td>2019-09-26 00:54:23</td>\n",
       "      <td></td>\n",
       "    </tr>\n",
       "  </tbody>\n",
       "</table>\n",
       "</div>"
      ],
      "text/plain": [
       "                                               Tweet                Time  \\\n",
       "0  A new #Amazon network will expand your control... 2019-10-03 00:58:23   \n",
       "1  From hidden to written. @Northeastern research... 2019-10-01 00:02:19   \n",
       "2  A trailblazer in #Renaissance art had fallen i... 2019-09-28 00:57:43   \n",
       "3  Defining who is and isn’t a “swing” voter is a... 2019-09-27 01:34:26   \n",
       "4  More than 100 global leaders convened at @Nort... 2019-09-26 00:54:23   \n",
       "\n",
       "               Hashtags  \n",
       "0  Amazon,cybersecurity  \n",
       "1                        \n",
       "2           Renaissance  \n",
       "3                        \n",
       "4                        "
      ]
     },
     "execution_count": 33,
     "metadata": {},
     "output_type": "execute_result"
    }
   ],
   "source": [
    "df.head()"
   ]
  },
  {
   "cell_type": "code",
   "execution_count": 32,
   "metadata": {
    "scrolled": true
   },
   "outputs": [
    {
     "data": {
      "text/html": [
       "<div>\n",
       "<style scoped>\n",
       "    .dataframe tbody tr th:only-of-type {\n",
       "        vertical-align: middle;\n",
       "    }\n",
       "\n",
       "    .dataframe tbody tr th {\n",
       "        vertical-align: top;\n",
       "    }\n",
       "\n",
       "    .dataframe thead th {\n",
       "        text-align: right;\n",
       "    }\n",
       "</style>\n",
       "<table border=\"1\" class=\"dataframe\">\n",
       "  <thead>\n",
       "    <tr style=\"text-align: right;\">\n",
       "      <th></th>\n",
       "      <th>Tweet</th>\n",
       "      <th>Time</th>\n",
       "      <th>Hashtags</th>\n",
       "    </tr>\n",
       "  </thead>\n",
       "  <tbody>\n",
       "    <tr>\n",
       "      <td>295</td>\n",
       "      <td>Robots are getting smarter. What rights do we ...</td>\n",
       "      <td>2018-02-17 00:07:58</td>\n",
       "      <td>AI,FutureOfWork</td>\n",
       "    </tr>\n",
       "    <tr>\n",
       "      <td>296</td>\n",
       "      <td>Congratulations to a great team and coach, on ...</td>\n",
       "      <td>2018-02-14 02:32:40</td>\n",
       "      <td>Beanpot</td>\n",
       "    </tr>\n",
       "    <tr>\n",
       "      <td>297</td>\n",
       "      <td>RT @Northeastern: .@GoNUmhockey presents the #...</td>\n",
       "      <td>2018-02-13 04:14:18</td>\n",
       "      <td>Beanpot,GoNU</td>\n",
       "    </tr>\n",
       "    <tr>\n",
       "      <td>298</td>\n",
       "      <td>Humans  backing machines #AI @WIRED https://t....</td>\n",
       "      <td>2018-02-09 21:10:16</td>\n",
       "      <td>AI</td>\n",
       "    </tr>\n",
       "    <tr>\n",
       "      <td>299</td>\n",
       "      <td>What makes us uniquely human will make us robo...</td>\n",
       "      <td>2018-02-08 19:41:22</td>\n",
       "      <td></td>\n",
       "    </tr>\n",
       "  </tbody>\n",
       "</table>\n",
       "</div>"
      ],
      "text/plain": [
       "                                                 Tweet                Time  \\\n",
       "295  Robots are getting smarter. What rights do we ... 2018-02-17 00:07:58   \n",
       "296  Congratulations to a great team and coach, on ... 2018-02-14 02:32:40   \n",
       "297  RT @Northeastern: .@GoNUmhockey presents the #... 2018-02-13 04:14:18   \n",
       "298  Humans  backing machines #AI @WIRED https://t.... 2018-02-09 21:10:16   \n",
       "299  What makes us uniquely human will make us robo... 2018-02-08 19:41:22   \n",
       "\n",
       "            Hashtags  \n",
       "295  AI,FutureOfWork  \n",
       "296          Beanpot  \n",
       "297     Beanpot,GoNU  \n",
       "298               AI  \n",
       "299                   "
      ]
     },
     "execution_count": 32,
     "metadata": {},
     "output_type": "execute_result"
    }
   ],
   "source": [
    "df.tail()"
   ]
  },
  {
   "cell_type": "code",
   "execution_count": 3,
   "metadata": {},
   "outputs": [],
   "source": [
    "twitter_pro = \"https://twitter.com/elonmusk\"\n",
    "\n",
    "auth = tweepy.OAuthHandler(\"CONSUMER_KEY\", \"CONSUMER_SECRET\")\n",
    "auth.set_access_token(\"ACCESS_TOKEN\", \"ACCESS_TOKEN_SECRET\")\n",
    "\n",
    "#let the magic begin"
   ]
  },
  {
   "cell_type": "code",
   "execution_count": null,
   "metadata": {},
   "outputs": [],
   "source": []
  }
 ],
 "metadata": {
  "kernelspec": {
   "display_name": "Python 3",
   "language": "python",
   "name": "python3"
  },
  "language_info": {
   "codemirror_mode": {
    "name": "ipython",
    "version": 3
   },
   "file_extension": ".py",
   "mimetype": "text/x-python",
   "name": "python",
   "nbconvert_exporter": "python",
   "pygments_lexer": "ipython3",
   "version": "3.6.5"
  }
 },
 "nbformat": 4,
 "nbformat_minor": 2
}

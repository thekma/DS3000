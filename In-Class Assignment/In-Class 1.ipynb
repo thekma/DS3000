{
 "cells": [
  {
   "cell_type": "code",
   "execution_count": 3,
   "metadata": {},
   "outputs": [
    {
     "name": "stdout",
     "output_type": "stream",
     "text": [
      "Total average: 92.1111111111111.\n"
     ]
    }
   ],
   "source": [
    "#in-class assignment\n",
    "\n",
    "studen_dict = []\n",
    "\n",
    "student_dict = {\"Harry\": [84, 89, 92]}\n",
    "\n",
    "student_dict[\"Hermione\"] = [100, 100, 99]\n",
    "\n",
    "student_dict[\"Ron\"] = [92, 89, 84]\n",
    "\n",
    "student_dict\n",
    "\n",
    "for student, grade in student_dict.items():\n",
    "    student_total = sum(grade)\n",
    "    student_ave = student_total / len(grade)\n",
    "\n",
    "t_avg = []\n",
    "\n",
    "for student, grade in student_dict.items():\n",
    "    student_t = sum(grade)\n",
    "    student_avg = student_t / len(grade)\n",
    "    t_avg.append(student_avg)\n",
    "\n",
    "t_num = 0\n",
    "\n",
    "for number in t_avg:\n",
    "    t_num += number\n",
    "\n",
    "print(\"Total average:\", str(t_num/len(t_avg))+\".\")"
   ]
  },
  {
   "cell_type": "code",
   "execution_count": null,
   "metadata": {},
   "outputs": [],
   "source": []
  }
 ],
 "metadata": {
  "kernelspec": {
   "display_name": "Python 3",
   "language": "python",
   "name": "python3"
  },
  "language_info": {
   "codemirror_mode": {
    "name": "ipython",
    "version": 3
   },
   "file_extension": ".py",
   "mimetype": "text/x-python",
   "name": "python",
   "nbconvert_exporter": "python",
   "pygments_lexer": "ipython3",
   "version": "3.6.5"
  }
 },
 "nbformat": 4,
 "nbformat_minor": 2
}

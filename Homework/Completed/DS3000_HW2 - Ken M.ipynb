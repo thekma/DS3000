{
 "cells": [
  {
   "cell_type": "markdown",
   "metadata": {},
   "source": [
    "<center> <h1> DS 3000 </h1> </center>\n",
    "<center> <h1> Homework Assignment 2 </h1> </center>\n"
   ]
  },
  {
   "cell_type": "markdown",
   "metadata": {},
   "source": [
    "<center> <h3> Full name: Ken Ma </h3></center>"
   ]
  },
  {
   "cell_type": "markdown",
   "metadata": {},
   "source": [
    "Congrats! <br/>\n",
    "You've survived the first week of your co-op and have already completed your first project. It turns out your supervisors have another project for you, as described below:"
   ]
  },
  {
   "cell_type": "markdown",
   "metadata": {},
   "source": [
    "### What to do\n",
    "\n",
    "* Carefully read the description.\n",
    "* As you write your code for each question, please include comments. \n",
    "* Make sure you execute your code for each question and compare the output to the sample output provided.\n",
    "* Refrain from using advanced Python capabilities that were not covered in class.\n",
    "* When in doubt, ASK! Post a question on the Blackboard discussion forum for this homework assignment.\n",
    "* Complete the assignment on your own"
   ]
  },
  {
   "cell_type": "markdown",
   "metadata": {},
   "source": [
    "### What to submit\n",
    "* When you are done with the assignment, save it.\n",
    "* Download it as a Jupyter Notebook (DS3000_HW2.ipynb)\n",
    "* Upload your downloaded Notebook to Google Colab (https://colab.research.google.com/notebooks/)\n",
    "* Get a shareable link to your Notebook on Colab\n",
    "    * Go to Share near the top-right corner of the screen.\n",
    "    * Make sure you select Anyone with the Link Can View)\n",
    "    * Copy the link\n",
    "* Go to Blackboard\n",
    "* **Upload your Jupyter Notebook through the Blackboard assignment dropbox link.**\n",
    "* **Paste the link to you Colab Notebook in the Add Comments field.**\n",
    "* You can submit multiple attempts. The last attempt will be graded."
   ]
  },
  {
   "cell_type": "markdown",
   "metadata": {},
   "source": [
    "<center> <h2> Part 1 </h2> </center>"
   ]
  },
  {
   "cell_type": "markdown",
   "metadata": {},
   "source": [
    "In this part of the project, your supervisors would like you to continue working on the site visitors project. This time they provided the total number of visitors from each site for Monday through Friday. They would like you to process the data for further analysis in an upcoming project."
   ]
  },
  {
   "cell_type": "code",
   "execution_count": 1,
   "metadata": {},
   "outputs": [],
   "source": [
    "#execute this cell to import the key libraries you might need in this assignment\n",
    "import numpy as np #np = numpy\n",
    "import pandas as pd #pd = pandas\n",
    "import random #gets 'random' module"
   ]
  },
  {
   "cell_type": "markdown",
   "metadata": {},
   "source": [
    "* For your convenience, a list of five weekdays is provided:"
   ]
  },
  {
   "cell_type": "code",
   "execution_count": 2,
   "metadata": {},
   "outputs": [],
   "source": [
    "days = [\"Monday\", \"Tuesday\", \"Wednesday\", \"Thursday\", \"Friday\"]"
   ]
  },
  {
   "cell_type": "markdown",
   "metadata": {},
   "source": [
    "Following is a list of lists for the social media sites from which visitors arrive at your company's website. The lists contain the number of visitors on five days. \n",
    "* The list contains the numbers for Monday through Friday (in the same order).\n",
    "    * e.g. facebook[0] is the total number of visitors arriving from Facebook on Monday."
   ]
  },
  {
   "cell_type": "code",
   "execution_count": 3,
   "metadata": {},
   "outputs": [],
   "source": [
    "facebook = [328, 347, 963, 226, 299]\n",
    "google = [399, 998, 292, 837, 631]\n",
    "instagram = [399, 998, 292, 837, 631]\n",
    "tumblr = [198, 395, 105, 198, 260]\n",
    "twitter = [666, 243, 373, 941, 615]\n",
    "pinterest = [140, 341, 475, 291, 353]"
   ]
  },
  {
   "cell_type": "markdown",
   "metadata": {},
   "source": [
    "### Question 1 (2pts)\n",
    "Using the lists provided above, define a dictionary, sites_dict, \n",
    "* With the site names **Facebook, Google, Instagram, Tumblr, Twitter,** and **Pinterest** as keys and \n",
    "* the list of number of visitors per day as values.\n"
   ]
  },
  {
   "cell_type": "code",
   "execution_count": 4,
   "metadata": {},
   "outputs": [],
   "source": [
    "#answer 1 goes here\n",
    "sites_dict = {} #empty dictionary\n",
    "\n",
    "sites_dict[\"facebook\".title()] = facebook\n",
    "sites_dict[\"google\".title()] = google\n",
    "sites_dict[\"instagram\".title()] = instagram\n",
    "sites_dict[\"tumblr\".title()] = tumblr\n",
    "sites_dict[\"twitter\".title()] = twitter\n",
    "sites_dict[\"pinterest\".title()] = pinterest\n",
    "\n",
    "#these statements/parts go through each site\n"
   ]
  },
  {
   "cell_type": "code",
   "execution_count": 5,
   "metadata": {},
   "outputs": [
    {
     "data": {
      "text/plain": [
       "{'Facebook': [328, 347, 963, 226, 299],\n",
       " 'Google': [399, 998, 292, 837, 631],\n",
       " 'Instagram': [399, 998, 292, 837, 631],\n",
       " 'Tumblr': [198, 395, 105, 198, 260],\n",
       " 'Twitter': [666, 243, 373, 941, 615],\n",
       " 'Pinterest': [140, 341, 475, 291, 353]}"
      ]
     },
     "execution_count": 5,
     "metadata": {},
     "output_type": "execute_result"
    }
   ],
   "source": [
    "sites_dict #this displays site title with its list of numbers\n",
    "#sample output"
   ]
  },
  {
   "cell_type": "markdown",
   "metadata": {},
   "source": [
    "### Question 2 (4pts)\n",
    "Write a function that defines a DataFrame, **sites_df**, using the sites_dict dictionary above. \n",
    "* The output of the dataframe should match the output shown below:\n",
    "    * With site names as row names and days as column names"
   ]
  },
  {
   "cell_type": "code",
   "execution_count": 6,
   "metadata": {},
   "outputs": [],
   "source": [
    "def define_DF(dict_name): #creates function\n",
    "    sites_df = pd.DataFrame(index = dict_name, columns = days) #makes DataFrame, calling rows as sites and columns as days\n",
    "    for name_item in dict_name: #loop each key in dictionary\n",
    "        sites_df.loc[name_item] = dict_name[name_item] #places values into DataFrame based on respective site\n",
    "    return sites_df #displays DataFrame\n",
    "    #answer 2 goes here"
   ]
  },
  {
   "cell_type": "code",
   "execution_count": 7,
   "metadata": {},
   "outputs": [
    {
     "data": {
      "text/html": [
       "<div>\n",
       "<style scoped>\n",
       "    .dataframe tbody tr th:only-of-type {\n",
       "        vertical-align: middle;\n",
       "    }\n",
       "\n",
       "    .dataframe tbody tr th {\n",
       "        vertical-align: top;\n",
       "    }\n",
       "\n",
       "    .dataframe thead th {\n",
       "        text-align: right;\n",
       "    }\n",
       "</style>\n",
       "<table border=\"1\" class=\"dataframe\">\n",
       "  <thead>\n",
       "    <tr style=\"text-align: right;\">\n",
       "      <th></th>\n",
       "      <th>Monday</th>\n",
       "      <th>Tuesday</th>\n",
       "      <th>Wednesday</th>\n",
       "      <th>Thursday</th>\n",
       "      <th>Friday</th>\n",
       "    </tr>\n",
       "  </thead>\n",
       "  <tbody>\n",
       "    <tr>\n",
       "      <th>Facebook</th>\n",
       "      <td>328</td>\n",
       "      <td>347</td>\n",
       "      <td>963</td>\n",
       "      <td>226</td>\n",
       "      <td>299</td>\n",
       "    </tr>\n",
       "    <tr>\n",
       "      <th>Google</th>\n",
       "      <td>399</td>\n",
       "      <td>998</td>\n",
       "      <td>292</td>\n",
       "      <td>837</td>\n",
       "      <td>631</td>\n",
       "    </tr>\n",
       "    <tr>\n",
       "      <th>Instagram</th>\n",
       "      <td>399</td>\n",
       "      <td>998</td>\n",
       "      <td>292</td>\n",
       "      <td>837</td>\n",
       "      <td>631</td>\n",
       "    </tr>\n",
       "    <tr>\n",
       "      <th>Tumblr</th>\n",
       "      <td>198</td>\n",
       "      <td>395</td>\n",
       "      <td>105</td>\n",
       "      <td>198</td>\n",
       "      <td>260</td>\n",
       "    </tr>\n",
       "    <tr>\n",
       "      <th>Twitter</th>\n",
       "      <td>666</td>\n",
       "      <td>243</td>\n",
       "      <td>373</td>\n",
       "      <td>941</td>\n",
       "      <td>615</td>\n",
       "    </tr>\n",
       "    <tr>\n",
       "      <th>Pinterest</th>\n",
       "      <td>140</td>\n",
       "      <td>341</td>\n",
       "      <td>475</td>\n",
       "      <td>291</td>\n",
       "      <td>353</td>\n",
       "    </tr>\n",
       "  </tbody>\n",
       "</table>\n",
       "</div>"
      ],
      "text/plain": [
       "           Monday  Tuesday  Wednesday  Thursday  Friday\n",
       "Facebook      328      347        963       226     299\n",
       "Google        399      998        292       837     631\n",
       "Instagram     399      998        292       837     631\n",
       "Tumblr        198      395        105       198     260\n",
       "Twitter       666      243        373       941     615\n",
       "Pinterest     140      341        475       291     353"
      ]
     },
     "execution_count": 7,
     "metadata": {},
     "output_type": "execute_result"
    }
   ],
   "source": [
    "sites_df = define_DF(sites_dict) #calls function, inputting dictionary into function\n",
    "sites_df #display the DataFrame, after inputting dictionary\n",
    "#sample output below"
   ]
  },
  {
   "cell_type": "markdown",
   "metadata": {},
   "source": [
    "### Question 3 (3pts)\n",
    "Write a function that lets your supervisors look up the number of visitors from all sites on a given day. \n",
    "* The name of the day will be provided as an argument.\n",
    "* The function should display the output as shown below:"
   ]
  },
  {
   "cell_type": "code",
   "execution_count": 8,
   "metadata": {},
   "outputs": [],
   "source": [
    "def get_numbers_for_single_day(day): #creates function\n",
    "    return sites_df.loc[\"Facebook\":\"Pinterest\", [day]] #brings out values based on day for all sites\n",
    "#answer 3 goes here"
   ]
  },
  {
   "cell_type": "code",
   "execution_count": 9,
   "metadata": {},
   "outputs": [
    {
     "data": {
      "text/html": [
       "<div>\n",
       "<style scoped>\n",
       "    .dataframe tbody tr th:only-of-type {\n",
       "        vertical-align: middle;\n",
       "    }\n",
       "\n",
       "    .dataframe tbody tr th {\n",
       "        vertical-align: top;\n",
       "    }\n",
       "\n",
       "    .dataframe thead th {\n",
       "        text-align: right;\n",
       "    }\n",
       "</style>\n",
       "<table border=\"1\" class=\"dataframe\">\n",
       "  <thead>\n",
       "    <tr style=\"text-align: right;\">\n",
       "      <th></th>\n",
       "      <th>Tuesday</th>\n",
       "    </tr>\n",
       "  </thead>\n",
       "  <tbody>\n",
       "    <tr>\n",
       "      <th>Facebook</th>\n",
       "      <td>347</td>\n",
       "    </tr>\n",
       "    <tr>\n",
       "      <th>Google</th>\n",
       "      <td>998</td>\n",
       "    </tr>\n",
       "    <tr>\n",
       "      <th>Instagram</th>\n",
       "      <td>998</td>\n",
       "    </tr>\n",
       "    <tr>\n",
       "      <th>Tumblr</th>\n",
       "      <td>395</td>\n",
       "    </tr>\n",
       "    <tr>\n",
       "      <th>Twitter</th>\n",
       "      <td>243</td>\n",
       "    </tr>\n",
       "    <tr>\n",
       "      <th>Pinterest</th>\n",
       "      <td>341</td>\n",
       "    </tr>\n",
       "  </tbody>\n",
       "</table>\n",
       "</div>"
      ],
      "text/plain": [
       "           Tuesday\n",
       "Facebook       347\n",
       "Google         998\n",
       "Instagram      998\n",
       "Tumblr         395\n",
       "Twitter        243\n",
       "Pinterest      341"
      ]
     },
     "execution_count": 9,
     "metadata": {},
     "output_type": "execute_result"
    }
   ],
   "source": [
    "get_numbers_for_single_day(\"Tuesday\") #displays numbers for all sites on the day of Tuesday\n",
    "#sample output below"
   ]
  },
  {
   "cell_type": "markdown",
   "metadata": {},
   "source": [
    "### Question 4 (3pts)\n",
    "Your supervisors are very demanding! Now they would like to be able to view the number of visitors from a list of sites across the week. <br />Write a function that accepts a list of one or more site names and returns the number of visitors from the list of sites on all days.\n",
    "\n",
    "* You can assume that a **list** will be provided as an argument to the function. See the sample function calls below.\n",
    "* You can also assume that initials of days and site names will be correctly capitalized (no need to check for lowercase/uppercase days/site names)\n"
   ]
  },
  {
   "cell_type": "code",
   "execution_count": 10,
   "metadata": {},
   "outputs": [],
   "source": [
    "def get_numbers_for_site(sites): #creates function\n",
    "    return sites_df.loc[sites] #displays values on days based on site\n",
    "#answer 4 goes here"
   ]
  },
  {
   "cell_type": "code",
   "execution_count": 11,
   "metadata": {},
   "outputs": [
    {
     "data": {
      "text/html": [
       "<div>\n",
       "<style scoped>\n",
       "    .dataframe tbody tr th:only-of-type {\n",
       "        vertical-align: middle;\n",
       "    }\n",
       "\n",
       "    .dataframe tbody tr th {\n",
       "        vertical-align: top;\n",
       "    }\n",
       "\n",
       "    .dataframe thead th {\n",
       "        text-align: right;\n",
       "    }\n",
       "</style>\n",
       "<table border=\"1\" class=\"dataframe\">\n",
       "  <thead>\n",
       "    <tr style=\"text-align: right;\">\n",
       "      <th></th>\n",
       "      <th>Monday</th>\n",
       "      <th>Tuesday</th>\n",
       "      <th>Wednesday</th>\n",
       "      <th>Thursday</th>\n",
       "      <th>Friday</th>\n",
       "    </tr>\n",
       "  </thead>\n",
       "  <tbody>\n",
       "    <tr>\n",
       "      <th>Facebook</th>\n",
       "      <td>328</td>\n",
       "      <td>347</td>\n",
       "      <td>963</td>\n",
       "      <td>226</td>\n",
       "      <td>299</td>\n",
       "    </tr>\n",
       "  </tbody>\n",
       "</table>\n",
       "</div>"
      ],
      "text/plain": [
       "          Monday  Tuesday  Wednesday  Thursday  Friday\n",
       "Facebook     328      347        963       226     299"
      ]
     },
     "execution_count": 11,
     "metadata": {},
     "output_type": "execute_result"
    }
   ],
   "source": [
    "#sample function call 1\n",
    "df = get_numbers_for_site([\"Facebook\"]) #sets df as DataFrame with numbers for Facebook from Monday to Friday (business days)\n",
    "df #displays df DataFrame"
   ]
  },
  {
   "cell_type": "code",
   "execution_count": 12,
   "metadata": {},
   "outputs": [
    {
     "data": {
      "text/html": [
       "<div>\n",
       "<style scoped>\n",
       "    .dataframe tbody tr th:only-of-type {\n",
       "        vertical-align: middle;\n",
       "    }\n",
       "\n",
       "    .dataframe tbody tr th {\n",
       "        vertical-align: top;\n",
       "    }\n",
       "\n",
       "    .dataframe thead th {\n",
       "        text-align: right;\n",
       "    }\n",
       "</style>\n",
       "<table border=\"1\" class=\"dataframe\">\n",
       "  <thead>\n",
       "    <tr style=\"text-align: right;\">\n",
       "      <th></th>\n",
       "      <th>Monday</th>\n",
       "      <th>Tuesday</th>\n",
       "      <th>Wednesday</th>\n",
       "      <th>Thursday</th>\n",
       "      <th>Friday</th>\n",
       "    </tr>\n",
       "  </thead>\n",
       "  <tbody>\n",
       "    <tr>\n",
       "      <th>Facebook</th>\n",
       "      <td>328</td>\n",
       "      <td>347</td>\n",
       "      <td>963</td>\n",
       "      <td>226</td>\n",
       "      <td>299</td>\n",
       "    </tr>\n",
       "    <tr>\n",
       "      <th>Pinterest</th>\n",
       "      <td>140</td>\n",
       "      <td>341</td>\n",
       "      <td>475</td>\n",
       "      <td>291</td>\n",
       "      <td>353</td>\n",
       "    </tr>\n",
       "  </tbody>\n",
       "</table>\n",
       "</div>"
      ],
      "text/plain": [
       "           Monday  Tuesday  Wednesday  Thursday  Friday\n",
       "Facebook      328      347        963       226     299\n",
       "Pinterest     140      341        475       291     353"
      ]
     },
     "execution_count": 12,
     "metadata": {},
     "output_type": "execute_result"
    }
   ],
   "source": [
    "#sample function call 2\n",
    "df = get_numbers_for_site([\"Facebook\", \"Pinterest\"])\n",
    "#sets df as DataFrame with numbers for both Facebook and Pinterest on business days\n",
    "df #displays df DataFrame"
   ]
  },
  {
   "cell_type": "code",
   "execution_count": 13,
   "metadata": {},
   "outputs": [
    {
     "data": {
      "text/html": [
       "<div>\n",
       "<style scoped>\n",
       "    .dataframe tbody tr th:only-of-type {\n",
       "        vertical-align: middle;\n",
       "    }\n",
       "\n",
       "    .dataframe tbody tr th {\n",
       "        vertical-align: top;\n",
       "    }\n",
       "\n",
       "    .dataframe thead th {\n",
       "        text-align: right;\n",
       "    }\n",
       "</style>\n",
       "<table border=\"1\" class=\"dataframe\">\n",
       "  <thead>\n",
       "    <tr style=\"text-align: right;\">\n",
       "      <th></th>\n",
       "      <th>Monday</th>\n",
       "      <th>Tuesday</th>\n",
       "      <th>Wednesday</th>\n",
       "      <th>Thursday</th>\n",
       "      <th>Friday</th>\n",
       "    </tr>\n",
       "  </thead>\n",
       "  <tbody>\n",
       "    <tr>\n",
       "      <th>Google</th>\n",
       "      <td>399</td>\n",
       "      <td>998</td>\n",
       "      <td>292</td>\n",
       "      <td>837</td>\n",
       "      <td>631</td>\n",
       "    </tr>\n",
       "    <tr>\n",
       "      <th>Instagram</th>\n",
       "      <td>399</td>\n",
       "      <td>998</td>\n",
       "      <td>292</td>\n",
       "      <td>837</td>\n",
       "      <td>631</td>\n",
       "    </tr>\n",
       "    <tr>\n",
       "      <th>Tumblr</th>\n",
       "      <td>198</td>\n",
       "      <td>395</td>\n",
       "      <td>105</td>\n",
       "      <td>198</td>\n",
       "      <td>260</td>\n",
       "    </tr>\n",
       "  </tbody>\n",
       "</table>\n",
       "</div>"
      ],
      "text/plain": [
       "           Monday  Tuesday  Wednesday  Thursday  Friday\n",
       "Google        399      998        292       837     631\n",
       "Instagram     399      998        292       837     631\n",
       "Tumblr        198      395        105       198     260"
      ]
     },
     "execution_count": 13,
     "metadata": {},
     "output_type": "execute_result"
    }
   ],
   "source": [
    "#sample function call 3\n",
    "df = get_numbers_for_site([\"Google\", \"Instagram\", \"Tumblr\"])\n",
    "#sets df as DataFrame with numbers for the three sites, the five business days\n",
    "df #displays df DataFrame"
   ]
  },
  {
   "cell_type": "markdown",
   "metadata": {},
   "source": [
    "### Question 5 (4pts)\n",
    "Write a function that displays the total number of visitors from all sites on each day.\n",
    "* The function should use an iteration statement.\n",
    "* Remember that each column in a DataFrame is actually a Series object.\n",
    "* Use the **`sites_df`** DataFrame you defined above."
   ]
  },
  {
   "cell_type": "code",
   "execution_count": 14,
   "metadata": {},
   "outputs": [],
   "source": [
    "def total_visitors_daily(): #creates function\n",
    "    for ixi in sites_df: #loops columns of sites_df DataFrame\n",
    "        print(\"Total number of visitors on\",ixi,\":\",sites_df[ixi].sum()) #can print statement with day(s) and total number\n",
    "#answer 5 goes here"
   ]
  },
  {
   "cell_type": "code",
   "execution_count": 15,
   "metadata": {},
   "outputs": [
    {
     "name": "stdout",
     "output_type": "stream",
     "text": [
      "Total number of visitors on Monday : 2130\n",
      "Total number of visitors on Tuesday : 3322\n",
      "Total number of visitors on Wednesday : 2500\n",
      "Total number of visitors on Thursday : 3330\n",
      "Total number of visitors on Friday : 2789\n"
     ]
    }
   ],
   "source": [
    "total_visitors_daily() #runs the function to see all five days with their respective sum(s)\n",
    "#sample output below"
   ]
  },
  {
   "cell_type": "markdown",
   "metadata": {},
   "source": [
    "### Question 6 (3pts)\n",
    "Write a function that displays the average daily number of visitors from a given site. \n",
    "* The site name will be provided as an argument.\n",
    "* **Hint:** This function could use one of the functions you defined above."
   ]
  },
  {
   "cell_type": "code",
   "execution_count": 16,
   "metadata": {},
   "outputs": [],
   "source": [
    "def get_daily_ave_for_site(site): #creates function\n",
    "    print(\"The average daily number of visitors from\",site,\"is\",(sites_df.loc[site]).mean())\n",
    "    #can print statement with site and its mean/average, respectively\n",
    "#answer 6 goes here"
   ]
  },
  {
   "cell_type": "code",
   "execution_count": 17,
   "metadata": {},
   "outputs": [
    {
     "name": "stdout",
     "output_type": "stream",
     "text": [
      "The average daily number of visitors from Facebook is 432.6\n"
     ]
    }
   ],
   "source": [
    "get_daily_ave_for_site(\"Facebook\") #displays statement saying the average daily visitors Facebook is THAT number value (\"432.6\")"
   ]
  },
  {
   "cell_type": "markdown",
   "metadata": {},
   "source": [
    "<center> <h2> Part 2 </h2> </center>"
   ]
  },
  {
   "cell_type": "markdown",
   "metadata": {},
   "source": [
    "In this part of the project, you are going to try to prove your supervisors wrong! For some reason, they like using **Python Lists** for pretty much everything. The other day you had an interesting discussion with them and told them about **NumPy arrays**. You told them arrays are much more efficient than lists, but they didn't really believe you and argued that their performances would be comparable. Your task is to see if you can convince them otherwise."
   ]
  },
  {
   "cell_type": "markdown",
   "metadata": {},
   "source": [
    "### Question 7 (5pts)\n",
    "Write a function that **returns a list** of randomly generated 1,000,000 numbers in the range 60-100.\n",
    "* The range values will be provided as arguments to the function.\n",
    "* This function should use the built-in random number generation function in Python."
   ]
  },
  {
   "cell_type": "code",
   "execution_count": 18,
   "metadata": {},
   "outputs": [],
   "source": [
    "def get_number_list(lower_index, upper_index): #creates function\n",
    "    return [random.randrange(lower_index,upper_index) for gnl_i in range(0,1_000_000)]\n",
    "    #will display 1 million random number values in list between variables lower_index and upper_index numbers\n",
    "#answer 7 goes here"
   ]
  },
  {
   "cell_type": "code",
   "execution_count": 19,
   "metadata": {},
   "outputs": [
    {
     "data": {
      "text/plain": [
       "79483727"
      ]
     },
     "execution_count": 19,
     "metadata": {},
     "output_type": "execute_result"
    }
   ],
   "source": [
    "#sample function call\n",
    "#the sum function is used to prevent displaying 1,000,000 numbers on your screen!\n",
    "#avoid executing this line many times.\n",
    "\n",
    "sum(get_number_list(60, 100)) #gets and displays the total/sum of all numbers, with numbers between 60-100 (as constraint)"
   ]
  },
  {
   "cell_type": "markdown",
   "metadata": {},
   "source": [
    "### Question 8 (3pts)\n",
    "Write another function that returns an array of randomly generated 1,000,000 numbers in the range 60-100. \n",
    "* Use NumPy's random number generation function for this question.\n",
    "* The range values will be provided as arguments to the function."
   ]
  },
  {
   "cell_type": "code",
   "execution_count": 20,
   "metadata": {},
   "outputs": [],
   "source": [
    "def get_number_array(lower_index, upper_index): #creates function\n",
    "    return np.random.randint(lower_index,upper_index,1_000_000)\n",
    "    #will display 1 million random number values in array between variables lower_index and upper_index numbers\n",
    "#answer 8 goes here"
   ]
  },
  {
   "cell_type": "code",
   "execution_count": 21,
   "metadata": {},
   "outputs": [
    {
     "data": {
      "text/plain": [
       "79478001"
      ]
     },
     "execution_count": 21,
     "metadata": {},
     "output_type": "execute_result"
    }
   ],
   "source": [
    "#sample function call\n",
    "#the sum method is used to prevent displaying 1,000,000 numbers on your screen!\n",
    "#avoid executing this line many times.\n",
    "\n",
    "get_number_array(60, 100).sum() #obtains and displays the sum/total of all numbers, with values between 60-100 (as constraint)"
   ]
  },
  {
   "cell_type": "markdown",
   "metadata": {},
   "source": [
    "### Question 9 (3pts)\n",
    "\n",
    "Execute the following lines after completing and executing answers to the previous two questions."
   ]
  },
  {
   "cell_type": "code",
   "execution_count": 22,
   "metadata": {},
   "outputs": [
    {
     "name": "stdout",
     "output_type": "stream",
     "text": [
      "1.09 s ± 39.5 ms per loop (mean ± std. dev. of 7 runs, 1 loop each)\n"
     ]
    }
   ],
   "source": [
    "%timeit sum(get_number_list(60, 100)) #runs [list] function to sum, with a timer to show time and stats"
   ]
  },
  {
   "cell_type": "code",
   "execution_count": 23,
   "metadata": {},
   "outputs": [
    {
     "name": "stdout",
     "output_type": "stream",
     "text": [
      "14.8 ms ± 588 µs per loop (mean ± std. dev. of 7 runs, 100 loops each)\n"
     ]
    }
   ],
   "source": [
    "%timeit get_number_array(60, 100).sum() #runs [array] function to sum, with a timer to show time and stats"
   ]
  },
  {
   "cell_type": "markdown",
   "metadata": {},
   "source": [
    "Based on the results, which method of generating, storing, and summing integers is more efficient? Lists or Arrays? What would you tell your supervisors regarding the performance comparison? Were they right?"
   ]
  },
  {
   "cell_type": "markdown",
   "metadata": {},
   "source": [
    "This is an open-ended question.\n",
    "* **Write your response and justification below:**"
   ]
  },
  {
   "cell_type": "markdown",
   "metadata": {},
   "source": [
    "    For storing and summing the integers, the efficiency between the two are relatively the same, but generating the results, lists did come out quicker. I would tell the supervisors that the comparison does bring a few differences, such as: lists displaying the times and stats at a faster rate, but arrays go through the loops very quickly, and lists did not use too much memory/RAM, but arrays did take a bit more power to process everything. In this case, lists would do a bit better based on these results and experiences.\n",
    "\n",
    "#answer 9 goes here\n"
   ]
  },
  {
   "cell_type": "code",
   "execution_count": null,
   "metadata": {},
   "outputs": [],
   "source": []
  }
 ],
 "metadata": {
  "kernelspec": {
   "display_name": "Python 3",
   "language": "python",
   "name": "python3"
  },
  "language_info": {
   "codemirror_mode": {
    "name": "ipython",
    "version": 3
   },
   "file_extension": ".py",
   "mimetype": "text/x-python",
   "name": "python",
   "nbconvert_exporter": "python",
   "pygments_lexer": "ipython3",
   "version": "3.6.5"
  }
 },
 "nbformat": 4,
 "nbformat_minor": 2
}
